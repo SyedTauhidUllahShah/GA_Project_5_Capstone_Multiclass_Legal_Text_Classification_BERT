{
 "cells": [
  {
   "cell_type": "markdown",
   "metadata": {},
   "source": [
    "# 3. Textual EDA, LDA and Visualizations"
   ]
  },
  {
   "cell_type": "markdown",
   "metadata": {},
   "source": [
    "We now turn to more NLP-specific EDA and Visualizations to help us understand our data better."
   ]
  },
  {
   "cell_type": "markdown",
   "metadata": {},
   "source": [
    "**Please also type in the following command line/terminal installations**:\n",
    "\n",
    "**For Interactive Visualizations for Jupyter Notebooks:**\n",
    "* `pip install \"notebook>=5.3\" \"ipywidgets>=7.2\"`\n",
    "\n",
    "**For Interactive Visualizations for Jupyter Labs:**\n",
    "* Install node @ https://nodejs.org/en/, then in command line/terminal:\n",
    "* `pip install jupyterlab \"ipywidgets>=7.5\"`\n",
    "* `jupyter labextension install jupyterlab-plotly@4.8.2`\n",
    "\n",
    "Source: https://plotly.com/python/getting-started/?utm_source=mailchimp-jan-2015&utm_medium=email&utm_campaign=generalemail-jan2015&utm_term=bubble-chart\n",
    "\n",
    "**For Blackstone:** \n",
    "\n",
    "**NB** Blackstone is a legal NLP library that uses an *outdated version* of `spaCy`. \n",
    "\n",
    "**Blackstone is only compatible with older versions of spaCy 2.1.8.** \n",
    "\n",
    "As such, the developers recommend that you run anything with its library in a virtual environment. If you intend to run this notebook natively, do so at your own risk:\n",
    "* `pip install blackstone`\n",
    "* `pip install https://blackstone-model.s3-eu-west-1.amazonaws.com/en_blackstone_proto-0.0.1.tar.gz`\n",
    "* `pip install -U spacy`\n",
    "* `python -m spacy download en_core_web_sm`\n",
    "\n",
    "Source: https://github.com/ICLRandD/Blackstone#installation\n",
    "\n",
    "**For Topic Modelling:**\n",
    "* `pip install pyLDAvis`"
   ]
  },
  {
   "cell_type": "code",
   "execution_count": 1,
   "metadata": {},
   "outputs": [],
   "source": [
    "#Standard Python DS imports:\n",
    "\n",
    "import pandas as pd\n",
    "import numpy as np\n",
    "import matplotlib\n",
    "import matplotlib.pyplot as plt\n",
    "import seaborn as sns\n",
    "\n",
    "%matplotlib inline\n",
    "\n",
    "#set column size to be larger\n",
    "pd.set_option(\"display.max_colwidth\", 1000)"
   ]
  },
  {
   "cell_type": "code",
   "execution_count": 2,
   "metadata": {},
   "outputs": [
    {
     "name": "stdout",
     "output_type": "stream",
     "text": [
      "4.8.1\n"
     ]
    },
    {
     "data": {
      "text/html": [
       "        <script type=\"text/javascript\">\n",
       "        window.PlotlyConfig = {MathJaxConfig: 'local'};\n",
       "        if (window.MathJax) {MathJax.Hub.Config({SVG: {font: \"STIX-Web\"}});}\n",
       "        if (typeof require !== 'undefined') {\n",
       "        require.undef(\"plotly\");\n",
       "        requirejs.config({\n",
       "            paths: {\n",
       "                'plotly': ['https://cdn.plot.ly/plotly-latest.min']\n",
       "            }\n",
       "        });\n",
       "        require(['plotly'], function(Plotly) {\n",
       "            window._Plotly = Plotly;\n",
       "        });\n",
       "        }\n",
       "        </script>\n",
       "        "
      ]
     },
     "metadata": {},
     "output_type": "display_data"
    },
    {
     "data": {
      "text/html": [
       "        <script type=\"text/javascript\">\n",
       "        window.PlotlyConfig = {MathJaxConfig: 'local'};\n",
       "        if (window.MathJax) {MathJax.Hub.Config({SVG: {font: \"STIX-Web\"}});}\n",
       "        if (typeof require !== 'undefined') {\n",
       "        require.undef(\"plotly\");\n",
       "        requirejs.config({\n",
       "            paths: {\n",
       "                'plotly': ['https://cdn.plot.ly/plotly-latest.min']\n",
       "            }\n",
       "        });\n",
       "        require(['plotly'], function(Plotly) {\n",
       "            window._Plotly = Plotly;\n",
       "        });\n",
       "        }\n",
       "        </script>\n",
       "        "
      ]
     },
     "metadata": {},
     "output_type": "display_data"
    }
   ],
   "source": [
    "#We will then be importing these libraries: \n",
    "\n",
    "from plotly import __version__\n",
    "import plotly.offline\n",
    "from plotly.offline import download_plotlyjs, init_notebook_mode, plot, iplot\n",
    "import plotly.express as px\n",
    "import squarify\n",
    "\n",
    "print(__version__)\n",
    "#learnt this from \n",
    "#https://towardsdatascience.com/interactive-distribution-plots-with-plotly-ea58efc78885\n",
    "\n",
    "import cufflinks as cf\n",
    "#we have to make sure this code is run for Jupyter Notebooks otherwise the plots may not happen:\n",
    "\n",
    "init_notebook_mode(connected=True)\n",
    "\n",
    "#we have to make sure this code is run otherwise the visualizations won't run offline:\n",
    "cf.go_offline()"
   ]
  },
  {
   "cell_type": "code",
   "execution_count": 3,
   "metadata": {},
   "outputs": [],
   "source": [
    "#import the TFIDF vectorizer, and the Latent Dirichlet Allocation model and visualization libraries\n",
    "\n",
    "from sklearn.feature_extraction.text import CountVectorizer, TfidfVectorizer\n",
    "from sklearn.decomposition import LatentDirichletAllocation\n",
    "\n",
    "import pyLDAvis\n",
    "import pyLDAvis.sklearn\n",
    "from IPython.core.display import HTML\n",
    "\n",
    "import scipy.sparse as sp"
   ]
  },
  {
   "cell_type": "code",
   "execution_count": 14,
   "metadata": {},
   "outputs": [],
   "source": [
    "#pre-process text for EDA and later modelling too using spacy and string libraries\n",
    "\n",
    "import spacy\n",
    "from spacy.lang.en import English # updated\n",
    "\n",
    "import re\n",
    "import string\n",
    "from spacy.lang.en.stop_words import STOP_WORDS\n",
    "from spacy.lang.en import English\n",
    "from spacy import displacy\n",
    "import spacy.cli\n",
    "from spacy.pipeline import EntityRuler\n",
    "from spacy.matcher import Matcher\n",
    "from spacy.tokens import Doc\n",
    "from spacy import displacy\n",
    "\n",
    "from pathlib import Path\n",
    "\n",
    "from blackstone.displacy_palette import ner_displacy_options\n",
    "from blackstone.rules.concept_rules import CONCEPT_PATTERNS\n",
    "\n",
    "from collections import Counter"
   ]
  },
  {
   "cell_type": "code",
   "execution_count": 5,
   "metadata": {},
   "outputs": [],
   "source": [
    "#importing our dataframe and resetting the index\n",
    "\n",
    "df = pd.read_csv(\"../data/df_clean_draft_1.csv\", index_col=0)\n",
    "df= df.reset_index(drop=True)\n",
    "df.to_csv(\"../data/df_clean_draft_2.csv\")"
   ]
  },
  {
   "cell_type": "markdown",
   "metadata": {},
   "source": [
    "## EDA: Understanding Clause Structures with displaCy Visualizations: Blackstone Legal NLP + spaCy NER"
   ]
  },
  {
   "cell_type": "markdown",
   "metadata": {},
   "source": [
    "It'll be helpful for us to understand how contract clauses are generally structured. To do this, we'll use `Blackstone`, which is a custom spaCy library that focuses on legal text. It's actually designed for usage on court judgements in common law jurisdictions, but the legalese-focus of Blackstone has the advantage of helping us dissect our contractual clauses more easily.\n",
    "\n",
    "Blackstone has its own legal `Named Entity Recognition(NER)` tagging system, that highlights distinct \"entities\" or substantive elements that are worth drawing attention to the contract reader (Source: https://research.iclr.co.uk/blackstone). \n",
    "\n",
    "However, we really only want 1 custom class of Blackstone entities called `CONCEPTS`, which specifically refers to legal concepts. \n",
    "\n",
    "We will define a class and add this along into our pipeline of the **vanilla spaCy** Named Entity Recognition tagger, which itself runs on a pre-trained Convolutional Neural Network model. We will render the tagging visually in spacY's own custom visualization tool, known as `displaCy` (Source: https://spacy.io/usage/training)."
   ]
  },
  {
   "cell_type": "code",
   "execution_count": 6,
   "metadata": {},
   "outputs": [
    {
     "data": {
      "text/plain": [
       "'To the maximum extent permitted by applicable law, in no event shall Mortara be liable for any special, incidental, or consequential damages whatsoever (including, without limitation, damages for loss of business profits, business interruption, loss of business information, or any other pecuniary loss) arising out of the use or inability to use the Product, even if Mortara has been advised of the possibility of such damages. Because some States and Jurisdictions do not allow the exclusion of limitation of liability for consequential or incidental damages, the above limitation may not apply.'"
      ]
     },
     "execution_count": 6,
     "metadata": {},
     "output_type": "execute_result"
    }
   ],
   "source": [
    "df[\"clause_text\"][6500]"
   ]
  },
  {
   "cell_type": "code",
   "execution_count": 7,
   "metadata": {},
   "outputs": [],
   "source": [
    "#let's instantiate spaCy's English pre-trained model now:\n",
    "nlp = spacy.load('en_core_web_sm')"
   ]
  },
  {
   "cell_type": "code",
   "execution_count": 8,
   "metadata": {
    "scrolled": true
   },
   "outputs": [
    {
     "data": {
      "text/plain": [
       "\"Mercury represents and warrants that it has the full right and power to grant the license and release set forth in Sections 1 and 4, respectively, and that there are no outstanding agreements, assignments, or encumbrances inconsistent therewith. Mercury makes no other representations or warranties, express or implied, nor shall Mercury have any liability in respect of any infringement of patents or other rights of third parties due to Licensee's operation under the license herein granted. Mercury neither warrants nor represents that Licensee will not require a license under other patents (owned by Mercury or by third parties) to make, use, import, or lease, sell or otherwise transfer Licensed Products. Licensee represents and warrants that it has the full right and power to grant to Mercury the right so specified in Section 6.\""
      ]
     },
     "execution_count": 8,
     "metadata": {},
     "output_type": "execute_result"
    }
   ],
   "source": [
    "#we take a sample clause from our dataframe - the clause that we will tag:\n",
    "\n",
    "sample_clause = df[\"clause_text\"][4708]\n",
    "\n",
    "sample_clause"
   ]
  },
  {
   "cell_type": "markdown",
   "metadata": {},
   "source": [
    "**Note how difficult and generally unreadable the clause is. This is why we use the displaCy tagger to help us break down what's going on.**"
   ]
  },
  {
   "cell_type": "code",
   "execution_count": 9,
   "metadata": {},
   "outputs": [],
   "source": [
    "#we create a class for the sake of adding it onto our spaCy NER tagging pipeline:\n",
    "class Concepts:\n",
    "    \"\"\"\n",
    "    Taken straight from the Blackstone library:\n",
    "\n",
    "    A custom pipeline component for identifying legal \"concepts\"\n",
    "    in the doc. \n",
    "\n",
    "    This process is rules-based as opposed to statistical. \n",
    "\n",
    "    The doc is processed as usual, the EntityRuler is applied to the\n",
    "    end of the pipeline, the patterns to look for are added to\n",
    "    the ruler, matches are identified in the doc and are labelled \n",
    "    as CONCEPT entities. \n",
    "\n",
    "    The concept pipe is added after the EntityRuler and the concepts\n",
    "    in the doc are accessible via doc._.concepts as a Counter object.\n",
    "    \n",
    "    Usage:\n",
    "    concepts_pipe = Concepts(nlp)\n",
    "    nlp.add_pipe(concepts_pipe)\n",
    "\n",
    "    \"\"\"\n",
    "\n",
    "    def __init__(self, nlp) -> None:\n",
    "        Doc.set_extension(\"concepts\", default={}, force=True)\n",
    "        self.ruler = EntityRuler(nlp)\n",
    "        self.ruler.add_patterns(CONCEPT_PATTERNS)\n",
    "        pipes = nlp.pipe_names\n",
    "        if \"EntityRuler\" not in pipes:\n",
    "            nlp.add_pipe(self.ruler, last=True)\n",
    "\n",
    "    def __call__(self, doc: Doc) -> Doc:\n",
    "        CONCEPTS = [ent.text.lower() for ent in doc.ents if ent.label_ == \"CONCEPT\"]\n",
    "        if CONCEPTS:\n",
    "            # CONCEPTS = list(set(CONCEPTS))\n",
    "            CONCEPTS.sort()\n",
    "            # Exclude terms with fewer than 5 occurences\n",
    "            doc._.concepts = Counter(CONCEPTS).most_common(5)\n",
    "        else:\n",
    "            doc._.concepts = \"None\"\n",
    "        return doc"
   ]
  },
  {
   "cell_type": "code",
   "execution_count": 10,
   "metadata": {},
   "outputs": [],
   "source": [
    "#we now instantiate and add on the new legal concepts tag\n",
    "concepts_pipe = Concepts(nlp)\n",
    "nlp.add_pipe(concepts_pipe)"
   ]
  },
  {
   "cell_type": "code",
   "execution_count": 12,
   "metadata": {},
   "outputs": [
    {
     "data": {
      "text/html": [
       "<span class=\"tex2jax_ignore\"><div class=\"entities\" style=\"line-height: 2.5; direction: ltr\">\n",
       "<mark class=\"entity\" style=\"background: #7aecec; padding: 0.45em 0.6em; margin: 0 0.25em; line-height: 1; border-radius: 0.35em;\">\n",
       "    Mercury\n",
       "    <span style=\"font-size: 0.8em; font-weight: bold; line-height: 1; border-radius: 0.35em; text-transform: uppercase; vertical-align: middle; margin-left: 0.5rem\">ORG</span>\n",
       "</mark>\n",
       " represents and warrants that it has the full right and power to \n",
       "<mark class=\"entity\" style=\"background: #ddd; padding: 0.45em 0.6em; margin: 0 0.25em; line-height: 1; border-radius: 0.35em;\">\n",
       "    grant\n",
       "    <span style=\"font-size: 0.8em; font-weight: bold; line-height: 1; border-radius: 0.35em; text-transform: uppercase; vertical-align: middle; margin-left: 0.5rem\">CONCEPT</span>\n",
       "</mark>\n",
       " the license and release set forth in Sections 1 and 4, respectively, and that there are no outstanding agreements, assignments, or encumbrances inconsistent therewith. \n",
       "<mark class=\"entity\" style=\"background: #7aecec; padding: 0.45em 0.6em; margin: 0 0.25em; line-height: 1; border-radius: 0.35em;\">\n",
       "    Mercury\n",
       "    <span style=\"font-size: 0.8em; font-weight: bold; line-height: 1; border-radius: 0.35em; text-transform: uppercase; vertical-align: middle; margin-left: 0.5rem\">ORG</span>\n",
       "</mark>\n",
       " makes no other representations or warranties, express or implied, nor shall \n",
       "<mark class=\"entity\" style=\"background: #7aecec; padding: 0.45em 0.6em; margin: 0 0.25em; line-height: 1; border-radius: 0.35em;\">\n",
       "    Mercury\n",
       "    <span style=\"font-size: 0.8em; font-weight: bold; line-height: 1; border-radius: 0.35em; text-transform: uppercase; vertical-align: middle; margin-left: 0.5rem\">ORG</span>\n",
       "</mark>\n",
       " have any \n",
       "<mark class=\"entity\" style=\"background: #ddd; padding: 0.45em 0.6em; margin: 0 0.25em; line-height: 1; border-radius: 0.35em;\">\n",
       "    liability\n",
       "    <span style=\"font-size: 0.8em; font-weight: bold; line-height: 1; border-radius: 0.35em; text-transform: uppercase; vertical-align: middle; margin-left: 0.5rem\">CONCEPT</span>\n",
       "</mark>\n",
       " in respect of any infringement of \n",
       "<mark class=\"entity\" style=\"background: #ddd; padding: 0.45em 0.6em; margin: 0 0.25em; line-height: 1; border-radius: 0.35em;\">\n",
       "    patents\n",
       "    <span style=\"font-size: 0.8em; font-weight: bold; line-height: 1; border-radius: 0.35em; text-transform: uppercase; vertical-align: middle; margin-left: 0.5rem\">CONCEPT</span>\n",
       "</mark>\n",
       " or other rights of \n",
       "<mark class=\"entity\" style=\"background: #e4e7d2; padding: 0.45em 0.6em; margin: 0 0.25em; line-height: 1; border-radius: 0.35em;\">\n",
       "    third\n",
       "    <span style=\"font-size: 0.8em; font-weight: bold; line-height: 1; border-radius: 0.35em; text-transform: uppercase; vertical-align: middle; margin-left: 0.5rem\">ORDINAL</span>\n",
       "</mark>\n",
       " parties due to \n",
       "<mark class=\"entity\" style=\"background: #feca74; padding: 0.45em 0.6em; margin: 0 0.25em; line-height: 1; border-radius: 0.35em;\">\n",
       "    Licensee\n",
       "    <span style=\"font-size: 0.8em; font-weight: bold; line-height: 1; border-radius: 0.35em; text-transform: uppercase; vertical-align: middle; margin-left: 0.5rem\">GPE</span>\n",
       "</mark>\n",
       "'s operation under the license herein granted. \n",
       "<mark class=\"entity\" style=\"background: #7aecec; padding: 0.45em 0.6em; margin: 0 0.25em; line-height: 1; border-radius: 0.35em;\">\n",
       "    Mercury\n",
       "    <span style=\"font-size: 0.8em; font-weight: bold; line-height: 1; border-radius: 0.35em; text-transform: uppercase; vertical-align: middle; margin-left: 0.5rem\">ORG</span>\n",
       "</mark>\n",
       " neither warrants nor represents that \n",
       "<mark class=\"entity\" style=\"background: #aa9cfc; padding: 0.45em 0.6em; margin: 0 0.25em; line-height: 1; border-radius: 0.35em;\">\n",
       "    Licensee\n",
       "    <span style=\"font-size: 0.8em; font-weight: bold; line-height: 1; border-radius: 0.35em; text-transform: uppercase; vertical-align: middle; margin-left: 0.5rem\">PERSON</span>\n",
       "</mark>\n",
       " will not require a license under other \n",
       "<mark class=\"entity\" style=\"background: #ddd; padding: 0.45em 0.6em; margin: 0 0.25em; line-height: 1; border-radius: 0.35em;\">\n",
       "    patents\n",
       "    <span style=\"font-size: 0.8em; font-weight: bold; line-height: 1; border-radius: 0.35em; text-transform: uppercase; vertical-align: middle; margin-left: 0.5rem\">CONCEPT</span>\n",
       "</mark>\n",
       " (owned by \n",
       "<mark class=\"entity\" style=\"background: #7aecec; padding: 0.45em 0.6em; margin: 0 0.25em; line-height: 1; border-radius: 0.35em;\">\n",
       "    Mercury\n",
       "    <span style=\"font-size: 0.8em; font-weight: bold; line-height: 1; border-radius: 0.35em; text-transform: uppercase; vertical-align: middle; margin-left: 0.5rem\">ORG</span>\n",
       "</mark>\n",
       " or by \n",
       "<mark class=\"entity\" style=\"background: #e4e7d2; padding: 0.45em 0.6em; margin: 0 0.25em; line-height: 1; border-radius: 0.35em;\">\n",
       "    third\n",
       "    <span style=\"font-size: 0.8em; font-weight: bold; line-height: 1; border-radius: 0.35em; text-transform: uppercase; vertical-align: middle; margin-left: 0.5rem\">ORDINAL</span>\n",
       "</mark>\n",
       " parties) to make, use, import, or \n",
       "<mark class=\"entity\" style=\"background: #ddd; padding: 0.45em 0.6em; margin: 0 0.25em; line-height: 1; border-radius: 0.35em;\">\n",
       "    lease\n",
       "    <span style=\"font-size: 0.8em; font-weight: bold; line-height: 1; border-radius: 0.35em; text-transform: uppercase; vertical-align: middle; margin-left: 0.5rem\">CONCEPT</span>\n",
       "</mark>\n",
       ", sell or otherwise \n",
       "<mark class=\"entity\" style=\"background: #ffeb80; padding: 0.45em 0.6em; margin: 0 0.25em; line-height: 1; border-radius: 0.35em;\">\n",
       "    transfer Licensed Products\n",
       "    <span style=\"font-size: 0.8em; font-weight: bold; line-height: 1; border-radius: 0.35em; text-transform: uppercase; vertical-align: middle; margin-left: 0.5rem\">EVENT</span>\n",
       "</mark>\n",
       ". \n",
       "<mark class=\"entity\" style=\"background: #aa9cfc; padding: 0.45em 0.6em; margin: 0 0.25em; line-height: 1; border-radius: 0.35em;\">\n",
       "    Licensee\n",
       "    <span style=\"font-size: 0.8em; font-weight: bold; line-height: 1; border-radius: 0.35em; text-transform: uppercase; vertical-align: middle; margin-left: 0.5rem\">PERSON</span>\n",
       "</mark>\n",
       " represents and warrants that it has the full right and power to \n",
       "<mark class=\"entity\" style=\"background: #ddd; padding: 0.45em 0.6em; margin: 0 0.25em; line-height: 1; border-radius: 0.35em;\">\n",
       "    grant\n",
       "    <span style=\"font-size: 0.8em; font-weight: bold; line-height: 1; border-radius: 0.35em; text-transform: uppercase; vertical-align: middle; margin-left: 0.5rem\">CONCEPT</span>\n",
       "</mark>\n",
       " to \n",
       "<mark class=\"entity\" style=\"background: #7aecec; padding: 0.45em 0.6em; margin: 0 0.25em; line-height: 1; border-radius: 0.35em;\">\n",
       "    Mercury\n",
       "    <span style=\"font-size: 0.8em; font-weight: bold; line-height: 1; border-radius: 0.35em; text-transform: uppercase; vertical-align: middle; margin-left: 0.5rem\">ORG</span>\n",
       "</mark>\n",
       " the right so specified in \n",
       "<mark class=\"entity\" style=\"background: #ff8197; padding: 0.45em 0.6em; margin: 0 0.25em; line-height: 1; border-radius: 0.35em;\">\n",
       "    Section 6\n",
       "    <span style=\"font-size: 0.8em; font-weight: bold; line-height: 1; border-radius: 0.35em; text-transform: uppercase; vertical-align: middle; margin-left: 0.5rem\">LAW</span>\n",
       "</mark>\n",
       ".</div></span>"
      ],
      "text/plain": [
       "<IPython.core.display.HTML object>"
      ]
     },
     "metadata": {},
     "output_type": "display_data"
    }
   ],
   "source": [
    "#we convert our sample clause into a spaCy object, and let displaCy show us what the tagging is like:\n",
    "doc = nlp(sample_clause)\n",
    "\n",
    "displacy.render(doc, style='ent', jupyter=True)"
   ]
  },
  {
   "cell_type": "markdown",
   "metadata": {},
   "source": [
    "<img src=\"../images/displacy_sample.png\">"
   ]
  },
  {
   "cell_type": "markdown",
   "metadata": {},
   "source": [
    "### Interpretation\n",
    "The `spaCy+Blackstone` Entity tags on our sample clause very helpfully show us that contractual clauses usually reference:\n",
    "* Organizations (`ORG`) and/or  Persons (`PERSON`), in this case Mercury and the Licensee, \n",
    "* Legal Concepts (`CONCEPT`), which our Blackstone library has tagged on for us e.g. \"patents\",\n",
    "* Other provisions and laws (`LAW`), e.g. \"Section 6\" of this contract\n",
    "* conditional events, which spaCy recognizes as an `EVENT` e.g. transfer Licensed Products.\n",
    "\n",
    "Although spaCy's Neural Network definitely misses out on a fair few other exanples of `CONCEPT` like \"representations and warranties\", the tool is a good starting point for us to understand how contractual clauses work."
   ]
  },
  {
   "cell_type": "markdown",
   "metadata": {},
   "source": [
    "## Conventional \"Bag-of-Words\" Style EDA and Visualizations\n",
    "One of the most common types of visualizations normally used for NLP is a word cloud. \n",
    "\n",
    "These typically involve visualizing the top word vectors used in a particular category. **We'll avoid word clouds explicitly** and use an alternative that does the same job, but looks neater.\n",
    "\n",
    "The first step to getting word vectors to work is to convert each of our clauses into cleaned-up text that: \n",
    "\n",
    "* is lowercased,\n",
    "* has no symbols, \n",
    "* has no stopwords,\n",
    "* has been contracted to its \"base\" word e.g. disappointed's base word is disappoint (for which we will employ **lemmatization** here), and\n",
    "* has no unnecessary spaces."
   ]
  },
  {
   "cell_type": "markdown",
   "metadata": {},
   "source": [
    "We’ll create a `spacy_tokenizer()` function that accepts a sentence as input and processes the sentence into tokens, performing lemmatization, lowercasing, and removing stop words. We'll need this to run our visualizations."
   ]
  },
  {
   "cell_type": "code",
   "execution_count": 28,
   "metadata": {},
   "outputs": [
    {
     "name": "stderr",
     "output_type": "stream",
     "text": [
      "/Users/grahamlim/opt/anaconda3/lib/python3.7/site-packages/spacy/util.py:275: UserWarning:\n",
      "\n",
      "[W031] Model 'en_blackstone_proto' (0.0.1) requires spaCy v2.1 and is incompatible with the current spaCy version (2.3.2). This may lead to unexpected results or runtime errors. To resolve this, download a newer compatible model or retrain your custom model with the current spaCy version. For more details and available updates, run: python -m spacy validate\n",
      "\n"
     ]
    }
   ],
   "source": [
    "#from https://www.dataquest.io/blog/tutorial-text-classification-in-python-using-spacy/\n",
    "#stopwords removal\n",
    "\n",
    "# Create our list of punctuation marks\n",
    "punctuations = string.punctuation\n",
    "\n",
    "# Create our list of stopwords\n",
    "nlp = spacy.load('en_blackstone_proto')\n",
    "stop_words = spacy.lang.en.stop_words.STOP_WORDS\n",
    "\n",
    "# Load English tokenizer, tagger, parser, NER and word vectors\n",
    "parser = English()\n",
    "\n",
    "# Creating our tokenizer function\n",
    "def spacy_tokenizer(sentence):\n",
    "    \n",
    "    #remove non-words\n",
    "    tokens = re.sub(\"[^a-zA-Z]\", \" \", sentence)\n",
    "    tokens = re.sub(\"[0-9]+\", \"\", tokens)\n",
    "    \n",
    "    # Creating our token object, which is used to create documents with linguistic annotations.\n",
    "    tokens = parser(tokens)\n",
    "\n",
    "    # Lemmatizing each token and converting each token into lowercase\n",
    "    tokens = [ word.lemma_.lower().strip() if word.lemma_ != \"-PRON-\" else word.lower_ for word in tokens ]\n",
    "\n",
    "    # Removing stop words\n",
    "    tokens = [ word for word in tokens if word not in stop_words and word not in punctuations]\n",
    "    \n",
    "    # return preprocessed list of tokens\n",
    "    return tokens"
   ]
  },
  {
   "cell_type": "code",
   "execution_count": 29,
   "metadata": {},
   "outputs": [],
   "source": [
    "#intialize our TfidfVectorizer and assign it\n",
    "vectorizer = TfidfVectorizer(tokenizer=spacy_tokenizer, ngram_range=(1,2))"
   ]
  },
  {
   "cell_type": "code",
   "execution_count": 30,
   "metadata": {},
   "outputs": [
    {
     "data": {
      "text/plain": [
       "clause_type       \n",
       "warranty              919\n",
       "payment               919\n",
       "compliance            919\n",
       "support               916\n",
       "delivery              915\n",
       "proprietary_rights    850\n",
       "limited_liability     681\n",
       "indemnity             671\n",
       "confidentiality       605\n",
       "licenses              566\n",
       "dtype: int64"
      ]
     },
     "execution_count": 30,
     "metadata": {},
     "output_type": "execute_result"
    }
   ],
   "source": [
    "#reminding ourselves what clauses we have\n",
    "df[[\"clause_type\"]].value_counts()"
   ]
  },
  {
   "cell_type": "code",
   "execution_count": 31,
   "metadata": {},
   "outputs": [],
   "source": [
    "#I create objects that will let us visualize specific types of clauses only\n",
    "all_clauses = df[\"clause_text\"]\n",
    "warranty_only = df[\"clause_text\"][df[\"clause_type\"]==\"warranty\"]\n",
    "indemnity_only = df[\"clause_text\"][df[\"clause_type\"]==\"indemnity\"]"
   ]
  },
  {
   "cell_type": "code",
   "execution_count": 32,
   "metadata": {},
   "outputs": [],
   "source": [
    "#turn a series into vectors and then plot the distribution of the top 25 words\n",
    "\n",
    "def vector_barplotter(series, graph_title, x_label):\n",
    "    vectorized_series = vectorizer.fit(series)\n",
    "    series_df = pd.DataFrame(vectorizer.transform(series).todense(),\n",
    "                              columns=vectorizer.get_feature_names())\n",
    "    #we slice the top 25 words \n",
    "    top_25_words=series_df.sum().sort_values(ascending = False).head(25)\n",
    "    \n",
    "    #we plot this on a plotly bar chart by frequency of words.\n",
    "    fig = px.bar(top_25_words, orientation='v', title = graph_title, \n",
    "             labels={\"index\":x_label})\n",
    "    fig.show()"
   ]
  },
  {
   "cell_type": "code",
   "execution_count": 33,
   "metadata": {},
   "outputs": [],
   "source": [
    "\n",
    "#to plot a square word treemap, I have to modify our word array into a special dataframe; \n",
    "#Adapted from https://python-graph-gallery.com/200-basic-treemap-with-python/\n",
    "#We plot a square treemap of word frequencies, as an alternative to word clouds\n",
    "#to save time I turned this into a function too.\n",
    "\n",
    "def vector_treemap_plotter(series, chart_title):\n",
    "    print(chart_title)\n",
    "    \n",
    "    vectorized_series = vectorizer.fit(series)\n",
    "    series_df = pd.DataFrame(vectorizer.transform(series).todense(),\n",
    "                              columns=vectorizer.get_feature_names())\n",
    "    #we slice the top 25 words and turn that into a squarify-friendly dataframe\n",
    "    top_25_words=series_df.sum().sort_values(ascending = False).head(25)\n",
    "    top_25_words_df = pd.DataFrame(top_25_words)\n",
    "    top_25_words_df.columns = [\"count\"]\n",
    "    top_25_words_df[\"word\"]=top_25_words_df.index\n",
    "    top_25_words_df = top_25_words_df.reset_index(drop=True)\n",
    "    \n",
    "    count = top_25_words_df[\"count\"]\n",
    "    word = top_25_words_df[\"word\"]\n",
    "    \n",
    "    #I then create a hybrid heatmap and treemap\n",
    "    #it is like a word cloud, but it looks cleaner.\n",
    "    #frequent words are deeper blues with bigger squares.\n",
    "\n",
    "    cmap = matplotlib.cm.Blues\n",
    "    mini=min(count)\n",
    "    maxi=max(count)\n",
    "    norm = matplotlib.colors.Normalize(vmin=mini, vmax=maxi)\n",
    "    colors = [cmap(norm(value)) for value in count]\n",
    "\n",
    "    squarify.plot(sizes=count, norm_x=100, norm_y=100, label=word, \n",
    "                  color=colors,alpha=.9 )\n",
    "\n",
    "    plt.axis('off')\n",
    "    plt.show()"
   ]
  },
  {
   "cell_type": "markdown",
   "metadata": {},
   "source": [
    "**What are the top words in all clauses?**"
   ]
  },
  {
   "cell_type": "code",
   "execution_count": 34,
   "metadata": {},
   "outputs": [
    {
     "name": "stderr",
     "output_type": "stream",
     "text": [
      "/Users/grahamlim/opt/anaconda3/lib/python3.7/site-packages/sklearn/feature_extraction/text.py:484: UserWarning:\n",
      "\n",
      "The parameter 'token_pattern' will not be used since 'tokenizer' is not None'\n",
      "\n"
     ]
    },
    {
     "data": {
      "application/vnd.plotly.v1+json": {
       "config": {
        "plotlyServerURL": "https://plot.ly"
       },
       "data": [
        {
         "alignmentgroup": "True",
         "hovertemplate": "variable=0<br>Word=%{x}<br>value=%{y}<extra></extra>",
         "legendgroup": "0",
         "marker": {
          "color": "#636efa"
         },
         "name": "0",
         "offsetgroup": "0",
         "orientation": "v",
         "showlegend": true,
         "textposition": "auto",
         "type": "bar",
         "x": [
          "shall",
          "company",
          "agreement",
          "party",
          "s",
          "information",
          "support",
          "applicable",
          "rights",
          "seller",
          "material",
          "including",
          "date",
          "section",
          "services",
          "business",
          "confidential",
          "payment",
          "provided",
          "laws",
          "licenses",
          "purchaser",
          "use",
          "law",
          "products"
         ],
         "xaxis": "x",
         "y": [
          214.60326120946556,
          179.2950557996181,
          158.32990057986464,
          145.9211495023687,
          132.03855498285284,
          114.71669380151724,
          105.82549327847241,
          96.30450540804652,
          94.30020577640975,
          86.48260081271685,
          78.08054569927104,
          76.3524584654431,
          75.40762497848577,
          74.70327700126538,
          74.51513548094027,
          74.30740355738992,
          71.46935687715971,
          68.9114150680582,
          68.83086120488734,
          67.76264358632412,
          67.72309571739848,
          65.51270360816696,
          65.40366063666572,
          63.07714170019806,
          63.0084149098414
         ],
         "yaxis": "y"
        }
       ],
       "layout": {
        "barmode": "relative",
        "legend": {
         "title": {
          "text": "variable"
         },
         "tracegroupgap": 0
        },
        "template": {
         "data": {
          "bar": [
           {
            "error_x": {
             "color": "#2a3f5f"
            },
            "error_y": {
             "color": "#2a3f5f"
            },
            "marker": {
             "line": {
              "color": "#E5ECF6",
              "width": 0.5
             }
            },
            "type": "bar"
           }
          ],
          "barpolar": [
           {
            "marker": {
             "line": {
              "color": "#E5ECF6",
              "width": 0.5
             }
            },
            "type": "barpolar"
           }
          ],
          "carpet": [
           {
            "aaxis": {
             "endlinecolor": "#2a3f5f",
             "gridcolor": "white",
             "linecolor": "white",
             "minorgridcolor": "white",
             "startlinecolor": "#2a3f5f"
            },
            "baxis": {
             "endlinecolor": "#2a3f5f",
             "gridcolor": "white",
             "linecolor": "white",
             "minorgridcolor": "white",
             "startlinecolor": "#2a3f5f"
            },
            "type": "carpet"
           }
          ],
          "choropleth": [
           {
            "colorbar": {
             "outlinewidth": 0,
             "ticks": ""
            },
            "type": "choropleth"
           }
          ],
          "contour": [
           {
            "colorbar": {
             "outlinewidth": 0,
             "ticks": ""
            },
            "colorscale": [
             [
              0,
              "#0d0887"
             ],
             [
              0.1111111111111111,
              "#46039f"
             ],
             [
              0.2222222222222222,
              "#7201a8"
             ],
             [
              0.3333333333333333,
              "#9c179e"
             ],
             [
              0.4444444444444444,
              "#bd3786"
             ],
             [
              0.5555555555555556,
              "#d8576b"
             ],
             [
              0.6666666666666666,
              "#ed7953"
             ],
             [
              0.7777777777777778,
              "#fb9f3a"
             ],
             [
              0.8888888888888888,
              "#fdca26"
             ],
             [
              1,
              "#f0f921"
             ]
            ],
            "type": "contour"
           }
          ],
          "contourcarpet": [
           {
            "colorbar": {
             "outlinewidth": 0,
             "ticks": ""
            },
            "type": "contourcarpet"
           }
          ],
          "heatmap": [
           {
            "colorbar": {
             "outlinewidth": 0,
             "ticks": ""
            },
            "colorscale": [
             [
              0,
              "#0d0887"
             ],
             [
              0.1111111111111111,
              "#46039f"
             ],
             [
              0.2222222222222222,
              "#7201a8"
             ],
             [
              0.3333333333333333,
              "#9c179e"
             ],
             [
              0.4444444444444444,
              "#bd3786"
             ],
             [
              0.5555555555555556,
              "#d8576b"
             ],
             [
              0.6666666666666666,
              "#ed7953"
             ],
             [
              0.7777777777777778,
              "#fb9f3a"
             ],
             [
              0.8888888888888888,
              "#fdca26"
             ],
             [
              1,
              "#f0f921"
             ]
            ],
            "type": "heatmap"
           }
          ],
          "heatmapgl": [
           {
            "colorbar": {
             "outlinewidth": 0,
             "ticks": ""
            },
            "colorscale": [
             [
              0,
              "#0d0887"
             ],
             [
              0.1111111111111111,
              "#46039f"
             ],
             [
              0.2222222222222222,
              "#7201a8"
             ],
             [
              0.3333333333333333,
              "#9c179e"
             ],
             [
              0.4444444444444444,
              "#bd3786"
             ],
             [
              0.5555555555555556,
              "#d8576b"
             ],
             [
              0.6666666666666666,
              "#ed7953"
             ],
             [
              0.7777777777777778,
              "#fb9f3a"
             ],
             [
              0.8888888888888888,
              "#fdca26"
             ],
             [
              1,
              "#f0f921"
             ]
            ],
            "type": "heatmapgl"
           }
          ],
          "histogram": [
           {
            "marker": {
             "colorbar": {
              "outlinewidth": 0,
              "ticks": ""
             }
            },
            "type": "histogram"
           }
          ],
          "histogram2d": [
           {
            "colorbar": {
             "outlinewidth": 0,
             "ticks": ""
            },
            "colorscale": [
             [
              0,
              "#0d0887"
             ],
             [
              0.1111111111111111,
              "#46039f"
             ],
             [
              0.2222222222222222,
              "#7201a8"
             ],
             [
              0.3333333333333333,
              "#9c179e"
             ],
             [
              0.4444444444444444,
              "#bd3786"
             ],
             [
              0.5555555555555556,
              "#d8576b"
             ],
             [
              0.6666666666666666,
              "#ed7953"
             ],
             [
              0.7777777777777778,
              "#fb9f3a"
             ],
             [
              0.8888888888888888,
              "#fdca26"
             ],
             [
              1,
              "#f0f921"
             ]
            ],
            "type": "histogram2d"
           }
          ],
          "histogram2dcontour": [
           {
            "colorbar": {
             "outlinewidth": 0,
             "ticks": ""
            },
            "colorscale": [
             [
              0,
              "#0d0887"
             ],
             [
              0.1111111111111111,
              "#46039f"
             ],
             [
              0.2222222222222222,
              "#7201a8"
             ],
             [
              0.3333333333333333,
              "#9c179e"
             ],
             [
              0.4444444444444444,
              "#bd3786"
             ],
             [
              0.5555555555555556,
              "#d8576b"
             ],
             [
              0.6666666666666666,
              "#ed7953"
             ],
             [
              0.7777777777777778,
              "#fb9f3a"
             ],
             [
              0.8888888888888888,
              "#fdca26"
             ],
             [
              1,
              "#f0f921"
             ]
            ],
            "type": "histogram2dcontour"
           }
          ],
          "mesh3d": [
           {
            "colorbar": {
             "outlinewidth": 0,
             "ticks": ""
            },
            "type": "mesh3d"
           }
          ],
          "parcoords": [
           {
            "line": {
             "colorbar": {
              "outlinewidth": 0,
              "ticks": ""
             }
            },
            "type": "parcoords"
           }
          ],
          "pie": [
           {
            "automargin": true,
            "type": "pie"
           }
          ],
          "scatter": [
           {
            "marker": {
             "colorbar": {
              "outlinewidth": 0,
              "ticks": ""
             }
            },
            "type": "scatter"
           }
          ],
          "scatter3d": [
           {
            "line": {
             "colorbar": {
              "outlinewidth": 0,
              "ticks": ""
             }
            },
            "marker": {
             "colorbar": {
              "outlinewidth": 0,
              "ticks": ""
             }
            },
            "type": "scatter3d"
           }
          ],
          "scattercarpet": [
           {
            "marker": {
             "colorbar": {
              "outlinewidth": 0,
              "ticks": ""
             }
            },
            "type": "scattercarpet"
           }
          ],
          "scattergeo": [
           {
            "marker": {
             "colorbar": {
              "outlinewidth": 0,
              "ticks": ""
             }
            },
            "type": "scattergeo"
           }
          ],
          "scattergl": [
           {
            "marker": {
             "colorbar": {
              "outlinewidth": 0,
              "ticks": ""
             }
            },
            "type": "scattergl"
           }
          ],
          "scattermapbox": [
           {
            "marker": {
             "colorbar": {
              "outlinewidth": 0,
              "ticks": ""
             }
            },
            "type": "scattermapbox"
           }
          ],
          "scatterpolar": [
           {
            "marker": {
             "colorbar": {
              "outlinewidth": 0,
              "ticks": ""
             }
            },
            "type": "scatterpolar"
           }
          ],
          "scatterpolargl": [
           {
            "marker": {
             "colorbar": {
              "outlinewidth": 0,
              "ticks": ""
             }
            },
            "type": "scatterpolargl"
           }
          ],
          "scatterternary": [
           {
            "marker": {
             "colorbar": {
              "outlinewidth": 0,
              "ticks": ""
             }
            },
            "type": "scatterternary"
           }
          ],
          "surface": [
           {
            "colorbar": {
             "outlinewidth": 0,
             "ticks": ""
            },
            "colorscale": [
             [
              0,
              "#0d0887"
             ],
             [
              0.1111111111111111,
              "#46039f"
             ],
             [
              0.2222222222222222,
              "#7201a8"
             ],
             [
              0.3333333333333333,
              "#9c179e"
             ],
             [
              0.4444444444444444,
              "#bd3786"
             ],
             [
              0.5555555555555556,
              "#d8576b"
             ],
             [
              0.6666666666666666,
              "#ed7953"
             ],
             [
              0.7777777777777778,
              "#fb9f3a"
             ],
             [
              0.8888888888888888,
              "#fdca26"
             ],
             [
              1,
              "#f0f921"
             ]
            ],
            "type": "surface"
           }
          ],
          "table": [
           {
            "cells": {
             "fill": {
              "color": "#EBF0F8"
             },
             "line": {
              "color": "white"
             }
            },
            "header": {
             "fill": {
              "color": "#C8D4E3"
             },
             "line": {
              "color": "white"
             }
            },
            "type": "table"
           }
          ]
         },
         "layout": {
          "annotationdefaults": {
           "arrowcolor": "#2a3f5f",
           "arrowhead": 0,
           "arrowwidth": 1
          },
          "coloraxis": {
           "colorbar": {
            "outlinewidth": 0,
            "ticks": ""
           }
          },
          "colorscale": {
           "diverging": [
            [
             0,
             "#8e0152"
            ],
            [
             0.1,
             "#c51b7d"
            ],
            [
             0.2,
             "#de77ae"
            ],
            [
             0.3,
             "#f1b6da"
            ],
            [
             0.4,
             "#fde0ef"
            ],
            [
             0.5,
             "#f7f7f7"
            ],
            [
             0.6,
             "#e6f5d0"
            ],
            [
             0.7,
             "#b8e186"
            ],
            [
             0.8,
             "#7fbc41"
            ],
            [
             0.9,
             "#4d9221"
            ],
            [
             1,
             "#276419"
            ]
           ],
           "sequential": [
            [
             0,
             "#0d0887"
            ],
            [
             0.1111111111111111,
             "#46039f"
            ],
            [
             0.2222222222222222,
             "#7201a8"
            ],
            [
             0.3333333333333333,
             "#9c179e"
            ],
            [
             0.4444444444444444,
             "#bd3786"
            ],
            [
             0.5555555555555556,
             "#d8576b"
            ],
            [
             0.6666666666666666,
             "#ed7953"
            ],
            [
             0.7777777777777778,
             "#fb9f3a"
            ],
            [
             0.8888888888888888,
             "#fdca26"
            ],
            [
             1,
             "#f0f921"
            ]
           ],
           "sequentialminus": [
            [
             0,
             "#0d0887"
            ],
            [
             0.1111111111111111,
             "#46039f"
            ],
            [
             0.2222222222222222,
             "#7201a8"
            ],
            [
             0.3333333333333333,
             "#9c179e"
            ],
            [
             0.4444444444444444,
             "#bd3786"
            ],
            [
             0.5555555555555556,
             "#d8576b"
            ],
            [
             0.6666666666666666,
             "#ed7953"
            ],
            [
             0.7777777777777778,
             "#fb9f3a"
            ],
            [
             0.8888888888888888,
             "#fdca26"
            ],
            [
             1,
             "#f0f921"
            ]
           ]
          },
          "colorway": [
           "#636efa",
           "#EF553B",
           "#00cc96",
           "#ab63fa",
           "#FFA15A",
           "#19d3f3",
           "#FF6692",
           "#B6E880",
           "#FF97FF",
           "#FECB52"
          ],
          "font": {
           "color": "#2a3f5f"
          },
          "geo": {
           "bgcolor": "white",
           "lakecolor": "white",
           "landcolor": "#E5ECF6",
           "showlakes": true,
           "showland": true,
           "subunitcolor": "white"
          },
          "hoverlabel": {
           "align": "left"
          },
          "hovermode": "closest",
          "mapbox": {
           "style": "light"
          },
          "paper_bgcolor": "white",
          "plot_bgcolor": "#E5ECF6",
          "polar": {
           "angularaxis": {
            "gridcolor": "white",
            "linecolor": "white",
            "ticks": ""
           },
           "bgcolor": "#E5ECF6",
           "radialaxis": {
            "gridcolor": "white",
            "linecolor": "white",
            "ticks": ""
           }
          },
          "scene": {
           "xaxis": {
            "backgroundcolor": "#E5ECF6",
            "gridcolor": "white",
            "gridwidth": 2,
            "linecolor": "white",
            "showbackground": true,
            "ticks": "",
            "zerolinecolor": "white"
           },
           "yaxis": {
            "backgroundcolor": "#E5ECF6",
            "gridcolor": "white",
            "gridwidth": 2,
            "linecolor": "white",
            "showbackground": true,
            "ticks": "",
            "zerolinecolor": "white"
           },
           "zaxis": {
            "backgroundcolor": "#E5ECF6",
            "gridcolor": "white",
            "gridwidth": 2,
            "linecolor": "white",
            "showbackground": true,
            "ticks": "",
            "zerolinecolor": "white"
           }
          },
          "shapedefaults": {
           "line": {
            "color": "#2a3f5f"
           }
          },
          "ternary": {
           "aaxis": {
            "gridcolor": "white",
            "linecolor": "white",
            "ticks": ""
           },
           "baxis": {
            "gridcolor": "white",
            "linecolor": "white",
            "ticks": ""
           },
           "bgcolor": "#E5ECF6",
           "caxis": {
            "gridcolor": "white",
            "linecolor": "white",
            "ticks": ""
           }
          },
          "title": {
           "x": 0.05
          },
          "xaxis": {
           "automargin": true,
           "gridcolor": "white",
           "linecolor": "white",
           "ticks": "",
           "title": {
            "standoff": 15
           },
           "zerolinecolor": "white",
           "zerolinewidth": 2
          },
          "yaxis": {
           "automargin": true,
           "gridcolor": "white",
           "linecolor": "white",
           "ticks": "",
           "title": {
            "standoff": 15
           },
           "zerolinecolor": "white",
           "zerolinewidth": 2
          }
         }
        },
        "title": {
         "text": "Top 25 Words in All Clauses"
        },
        "xaxis": {
         "anchor": "y",
         "domain": [
          0,
          1
         ],
         "title": {
          "text": "Word"
         }
        },
        "yaxis": {
         "anchor": "x",
         "domain": [
          0,
          1
         ],
         "title": {
          "text": "value"
         }
        }
       }
      },
      "text/html": [
       "<div>\n",
       "        \n",
       "        \n",
       "            <div id=\"68383a1a-a6e0-4726-ad4c-807c4b914f24\" class=\"plotly-graph-div\" style=\"height:525px; width:100%;\"></div>\n",
       "            <script type=\"text/javascript\">\n",
       "                require([\"plotly\"], function(Plotly) {\n",
       "                    window.PLOTLYENV=window.PLOTLYENV || {};\n",
       "                    \n",
       "                if (document.getElementById(\"68383a1a-a6e0-4726-ad4c-807c4b914f24\")) {\n",
       "                    Plotly.newPlot(\n",
       "                        '68383a1a-a6e0-4726-ad4c-807c4b914f24',\n",
       "                        [{\"alignmentgroup\": \"True\", \"hovertemplate\": \"variable=0<br>Word=%{x}<br>value=%{y}<extra></extra>\", \"legendgroup\": \"0\", \"marker\": {\"color\": \"#636efa\"}, \"name\": \"0\", \"offsetgroup\": \"0\", \"orientation\": \"v\", \"showlegend\": true, \"textposition\": \"auto\", \"type\": \"bar\", \"x\": [\"shall\", \"company\", \"agreement\", \"party\", \"s\", \"information\", \"support\", \"applicable\", \"rights\", \"seller\", \"material\", \"including\", \"date\", \"section\", \"services\", \"business\", \"confidential\", \"payment\", \"provided\", \"laws\", \"licenses\", \"purchaser\", \"use\", \"law\", \"products\"], \"xaxis\": \"x\", \"y\": [214.60326120946556, 179.2950557996181, 158.32990057986464, 145.9211495023687, 132.03855498285284, 114.71669380151724, 105.82549327847241, 96.30450540804652, 94.30020577640975, 86.48260081271685, 78.08054569927104, 76.3524584654431, 75.40762497848577, 74.70327700126538, 74.51513548094027, 74.30740355738992, 71.46935687715971, 68.9114150680582, 68.83086120488734, 67.76264358632412, 67.72309571739848, 65.51270360816696, 65.40366063666572, 63.07714170019806, 63.0084149098414], \"yaxis\": \"y\"}],\n",
       "                        {\"barmode\": \"relative\", \"legend\": {\"title\": {\"text\": \"variable\"}, \"tracegroupgap\": 0}, \"template\": {\"data\": {\"bar\": [{\"error_x\": {\"color\": \"#2a3f5f\"}, \"error_y\": {\"color\": \"#2a3f5f\"}, \"marker\": {\"line\": {\"color\": \"#E5ECF6\", \"width\": 0.5}}, \"type\": \"bar\"}], \"barpolar\": [{\"marker\": {\"line\": {\"color\": \"#E5ECF6\", \"width\": 0.5}}, \"type\": \"barpolar\"}], \"carpet\": [{\"aaxis\": {\"endlinecolor\": \"#2a3f5f\", \"gridcolor\": \"white\", \"linecolor\": \"white\", \"minorgridcolor\": \"white\", \"startlinecolor\": \"#2a3f5f\"}, \"baxis\": {\"endlinecolor\": \"#2a3f5f\", \"gridcolor\": \"white\", \"linecolor\": \"white\", \"minorgridcolor\": \"white\", \"startlinecolor\": \"#2a3f5f\"}, \"type\": \"carpet\"}], \"choropleth\": [{\"colorbar\": {\"outlinewidth\": 0, \"ticks\": \"\"}, \"type\": \"choropleth\"}], \"contour\": [{\"colorbar\": {\"outlinewidth\": 0, \"ticks\": \"\"}, \"colorscale\": [[0.0, \"#0d0887\"], [0.1111111111111111, \"#46039f\"], [0.2222222222222222, \"#7201a8\"], [0.3333333333333333, \"#9c179e\"], [0.4444444444444444, \"#bd3786\"], [0.5555555555555556, \"#d8576b\"], [0.6666666666666666, \"#ed7953\"], [0.7777777777777778, \"#fb9f3a\"], [0.8888888888888888, \"#fdca26\"], [1.0, \"#f0f921\"]], \"type\": \"contour\"}], \"contourcarpet\": [{\"colorbar\": {\"outlinewidth\": 0, \"ticks\": \"\"}, \"type\": \"contourcarpet\"}], \"heatmap\": [{\"colorbar\": {\"outlinewidth\": 0, \"ticks\": \"\"}, \"colorscale\": [[0.0, \"#0d0887\"], [0.1111111111111111, \"#46039f\"], [0.2222222222222222, \"#7201a8\"], [0.3333333333333333, \"#9c179e\"], [0.4444444444444444, \"#bd3786\"], [0.5555555555555556, \"#d8576b\"], [0.6666666666666666, \"#ed7953\"], [0.7777777777777778, \"#fb9f3a\"], [0.8888888888888888, \"#fdca26\"], [1.0, \"#f0f921\"]], \"type\": \"heatmap\"}], \"heatmapgl\": [{\"colorbar\": {\"outlinewidth\": 0, \"ticks\": \"\"}, \"colorscale\": [[0.0, \"#0d0887\"], [0.1111111111111111, \"#46039f\"], [0.2222222222222222, \"#7201a8\"], [0.3333333333333333, \"#9c179e\"], [0.4444444444444444, \"#bd3786\"], [0.5555555555555556, \"#d8576b\"], [0.6666666666666666, \"#ed7953\"], [0.7777777777777778, \"#fb9f3a\"], [0.8888888888888888, \"#fdca26\"], [1.0, \"#f0f921\"]], \"type\": \"heatmapgl\"}], \"histogram\": [{\"marker\": {\"colorbar\": {\"outlinewidth\": 0, \"ticks\": \"\"}}, \"type\": \"histogram\"}], \"histogram2d\": [{\"colorbar\": {\"outlinewidth\": 0, \"ticks\": \"\"}, \"colorscale\": [[0.0, \"#0d0887\"], [0.1111111111111111, \"#46039f\"], [0.2222222222222222, \"#7201a8\"], [0.3333333333333333, \"#9c179e\"], [0.4444444444444444, \"#bd3786\"], [0.5555555555555556, \"#d8576b\"], [0.6666666666666666, \"#ed7953\"], [0.7777777777777778, \"#fb9f3a\"], [0.8888888888888888, \"#fdca26\"], [1.0, \"#f0f921\"]], \"type\": \"histogram2d\"}], \"histogram2dcontour\": [{\"colorbar\": {\"outlinewidth\": 0, \"ticks\": \"\"}, \"colorscale\": [[0.0, \"#0d0887\"], [0.1111111111111111, \"#46039f\"], [0.2222222222222222, \"#7201a8\"], [0.3333333333333333, \"#9c179e\"], [0.4444444444444444, \"#bd3786\"], [0.5555555555555556, \"#d8576b\"], [0.6666666666666666, \"#ed7953\"], [0.7777777777777778, \"#fb9f3a\"], [0.8888888888888888, \"#fdca26\"], [1.0, \"#f0f921\"]], \"type\": \"histogram2dcontour\"}], \"mesh3d\": [{\"colorbar\": {\"outlinewidth\": 0, \"ticks\": \"\"}, \"type\": \"mesh3d\"}], \"parcoords\": [{\"line\": {\"colorbar\": {\"outlinewidth\": 0, \"ticks\": \"\"}}, \"type\": \"parcoords\"}], \"pie\": [{\"automargin\": true, \"type\": \"pie\"}], \"scatter\": [{\"marker\": {\"colorbar\": {\"outlinewidth\": 0, \"ticks\": \"\"}}, \"type\": \"scatter\"}], \"scatter3d\": [{\"line\": {\"colorbar\": {\"outlinewidth\": 0, \"ticks\": \"\"}}, \"marker\": {\"colorbar\": {\"outlinewidth\": 0, \"ticks\": \"\"}}, \"type\": \"scatter3d\"}], \"scattercarpet\": [{\"marker\": {\"colorbar\": {\"outlinewidth\": 0, \"ticks\": \"\"}}, \"type\": \"scattercarpet\"}], \"scattergeo\": [{\"marker\": {\"colorbar\": {\"outlinewidth\": 0, \"ticks\": \"\"}}, \"type\": \"scattergeo\"}], \"scattergl\": [{\"marker\": {\"colorbar\": {\"outlinewidth\": 0, \"ticks\": \"\"}}, \"type\": \"scattergl\"}], \"scattermapbox\": [{\"marker\": {\"colorbar\": {\"outlinewidth\": 0, \"ticks\": \"\"}}, \"type\": \"scattermapbox\"}], \"scatterpolar\": [{\"marker\": {\"colorbar\": {\"outlinewidth\": 0, \"ticks\": \"\"}}, \"type\": \"scatterpolar\"}], \"scatterpolargl\": [{\"marker\": {\"colorbar\": {\"outlinewidth\": 0, \"ticks\": \"\"}}, \"type\": \"scatterpolargl\"}], \"scatterternary\": [{\"marker\": {\"colorbar\": {\"outlinewidth\": 0, \"ticks\": \"\"}}, \"type\": \"scatterternary\"}], \"surface\": [{\"colorbar\": {\"outlinewidth\": 0, \"ticks\": \"\"}, \"colorscale\": [[0.0, \"#0d0887\"], [0.1111111111111111, \"#46039f\"], [0.2222222222222222, \"#7201a8\"], [0.3333333333333333, \"#9c179e\"], [0.4444444444444444, \"#bd3786\"], [0.5555555555555556, \"#d8576b\"], [0.6666666666666666, \"#ed7953\"], [0.7777777777777778, \"#fb9f3a\"], [0.8888888888888888, \"#fdca26\"], [1.0, \"#f0f921\"]], \"type\": \"surface\"}], \"table\": [{\"cells\": {\"fill\": {\"color\": \"#EBF0F8\"}, \"line\": {\"color\": \"white\"}}, \"header\": {\"fill\": {\"color\": \"#C8D4E3\"}, \"line\": {\"color\": \"white\"}}, \"type\": \"table\"}]}, \"layout\": {\"annotationdefaults\": {\"arrowcolor\": \"#2a3f5f\", \"arrowhead\": 0, \"arrowwidth\": 1}, \"coloraxis\": {\"colorbar\": {\"outlinewidth\": 0, \"ticks\": \"\"}}, \"colorscale\": {\"diverging\": [[0, \"#8e0152\"], [0.1, \"#c51b7d\"], [0.2, \"#de77ae\"], [0.3, \"#f1b6da\"], [0.4, \"#fde0ef\"], [0.5, \"#f7f7f7\"], [0.6, \"#e6f5d0\"], [0.7, \"#b8e186\"], [0.8, \"#7fbc41\"], [0.9, \"#4d9221\"], [1, \"#276419\"]], \"sequential\": [[0.0, \"#0d0887\"], [0.1111111111111111, \"#46039f\"], [0.2222222222222222, \"#7201a8\"], [0.3333333333333333, \"#9c179e\"], [0.4444444444444444, \"#bd3786\"], [0.5555555555555556, \"#d8576b\"], [0.6666666666666666, \"#ed7953\"], [0.7777777777777778, \"#fb9f3a\"], [0.8888888888888888, \"#fdca26\"], [1.0, \"#f0f921\"]], \"sequentialminus\": [[0.0, \"#0d0887\"], [0.1111111111111111, \"#46039f\"], [0.2222222222222222, \"#7201a8\"], [0.3333333333333333, \"#9c179e\"], [0.4444444444444444, \"#bd3786\"], [0.5555555555555556, \"#d8576b\"], [0.6666666666666666, \"#ed7953\"], [0.7777777777777778, \"#fb9f3a\"], [0.8888888888888888, \"#fdca26\"], [1.0, \"#f0f921\"]]}, \"colorway\": [\"#636efa\", \"#EF553B\", \"#00cc96\", \"#ab63fa\", \"#FFA15A\", \"#19d3f3\", \"#FF6692\", \"#B6E880\", \"#FF97FF\", \"#FECB52\"], \"font\": {\"color\": \"#2a3f5f\"}, \"geo\": {\"bgcolor\": \"white\", \"lakecolor\": \"white\", \"landcolor\": \"#E5ECF6\", \"showlakes\": true, \"showland\": true, \"subunitcolor\": \"white\"}, \"hoverlabel\": {\"align\": \"left\"}, \"hovermode\": \"closest\", \"mapbox\": {\"style\": \"light\"}, \"paper_bgcolor\": \"white\", \"plot_bgcolor\": \"#E5ECF6\", \"polar\": {\"angularaxis\": {\"gridcolor\": \"white\", \"linecolor\": \"white\", \"ticks\": \"\"}, \"bgcolor\": \"#E5ECF6\", \"radialaxis\": {\"gridcolor\": \"white\", \"linecolor\": \"white\", \"ticks\": \"\"}}, \"scene\": {\"xaxis\": {\"backgroundcolor\": \"#E5ECF6\", \"gridcolor\": \"white\", \"gridwidth\": 2, \"linecolor\": \"white\", \"showbackground\": true, \"ticks\": \"\", \"zerolinecolor\": \"white\"}, \"yaxis\": {\"backgroundcolor\": \"#E5ECF6\", \"gridcolor\": \"white\", \"gridwidth\": 2, \"linecolor\": \"white\", \"showbackground\": true, \"ticks\": \"\", \"zerolinecolor\": \"white\"}, \"zaxis\": {\"backgroundcolor\": \"#E5ECF6\", \"gridcolor\": \"white\", \"gridwidth\": 2, \"linecolor\": \"white\", \"showbackground\": true, \"ticks\": \"\", \"zerolinecolor\": \"white\"}}, \"shapedefaults\": {\"line\": {\"color\": \"#2a3f5f\"}}, \"ternary\": {\"aaxis\": {\"gridcolor\": \"white\", \"linecolor\": \"white\", \"ticks\": \"\"}, \"baxis\": {\"gridcolor\": \"white\", \"linecolor\": \"white\", \"ticks\": \"\"}, \"bgcolor\": \"#E5ECF6\", \"caxis\": {\"gridcolor\": \"white\", \"linecolor\": \"white\", \"ticks\": \"\"}}, \"title\": {\"x\": 0.05}, \"xaxis\": {\"automargin\": true, \"gridcolor\": \"white\", \"linecolor\": \"white\", \"ticks\": \"\", \"title\": {\"standoff\": 15}, \"zerolinecolor\": \"white\", \"zerolinewidth\": 2}, \"yaxis\": {\"automargin\": true, \"gridcolor\": \"white\", \"linecolor\": \"white\", \"ticks\": \"\", \"title\": {\"standoff\": 15}, \"zerolinecolor\": \"white\", \"zerolinewidth\": 2}}}, \"title\": {\"text\": \"Top 25 Words in All Clauses\"}, \"xaxis\": {\"anchor\": \"y\", \"domain\": [0.0, 1.0], \"title\": {\"text\": \"Word\"}}, \"yaxis\": {\"anchor\": \"x\", \"domain\": [0.0, 1.0], \"title\": {\"text\": \"value\"}}},\n",
       "                        {\"responsive\": true}\n",
       "                    ).then(function(){\n",
       "                            \n",
       "var gd = document.getElementById('68383a1a-a6e0-4726-ad4c-807c4b914f24');\n",
       "var x = new MutationObserver(function (mutations, observer) {{\n",
       "        var display = window.getComputedStyle(gd).display;\n",
       "        if (!display || display === 'none') {{\n",
       "            console.log([gd, 'removed!']);\n",
       "            Plotly.purge(gd);\n",
       "            observer.disconnect();\n",
       "        }}\n",
       "}});\n",
       "\n",
       "// Listen for the removal of the full notebook cells\n",
       "var notebookContainer = gd.closest('#notebook-container');\n",
       "if (notebookContainer) {{\n",
       "    x.observe(notebookContainer, {childList: true});\n",
       "}}\n",
       "\n",
       "// Listen for the clearing of the current output cell\n",
       "var outputEl = gd.closest('.output');\n",
       "if (outputEl) {{\n",
       "    x.observe(outputEl, {childList: true});\n",
       "}}\n",
       "\n",
       "                        })\n",
       "                };\n",
       "                });\n",
       "            </script>\n",
       "        </div>"
      ]
     },
     "metadata": {},
     "output_type": "display_data"
    }
   ],
   "source": [
    "vector_barplotter(all_clauses, \"Top 25 Words in All Clauses\", \"Word\")"
   ]
  },
  {
   "cell_type": "markdown",
   "metadata": {},
   "source": [
    "<img src=\"../images/top_25_words_all_clauses.png\">"
   ]
  },
  {
   "cell_type": "markdown",
   "metadata": {},
   "source": [
    "**What are the top words in Automatic Renewal Clauses?**"
   ]
  },
  {
   "cell_type": "code",
   "execution_count": 35,
   "metadata": {},
   "outputs": [
    {
     "name": "stdout",
     "output_type": "stream",
     "text": [
      "Top 25 Words in Warranty Clauses\n"
     ]
    },
    {
     "name": "stderr",
     "output_type": "stream",
     "text": [
      "/Users/grahamlim/opt/anaconda3/lib/python3.7/site-packages/sklearn/feature_extraction/text.py:484: UserWarning:\n",
      "\n",
      "The parameter 'token_pattern' will not be used since 'tokenizer' is not None'\n",
      "\n"
     ]
    },
    {
     "data": {
      "image/png": "[encoded data removed]",
      "text/plain": [
       "<Figure size 432x288 with 1 Axes>"
      ]
     },
     "metadata": {
      "needs_background": "light"
     },
     "output_type": "display_data"
    }
   ],
   "source": [
    "vector_treemap_plotter(warranty_only, \"Top 25 Words in Warranty Clauses\")"
   ]
  },
  {
   "cell_type": "markdown",
   "metadata": {},
   "source": [
    "**What are the top words in Renewal Option Clauses?**"
   ]
  },
  {
   "cell_type": "code",
   "execution_count": 36,
   "metadata": {},
   "outputs": [
    {
     "name": "stderr",
     "output_type": "stream",
     "text": [
      "/Users/grahamlim/opt/anaconda3/lib/python3.7/site-packages/sklearn/feature_extraction/text.py:484: UserWarning:\n",
      "\n",
      "The parameter 'token_pattern' will not be used since 'tokenizer' is not None'\n",
      "\n"
     ]
    },
    {
     "data": {
      "application/vnd.plotly.v1+json": {
       "config": {
        "plotlyServerURL": "https://plot.ly"
       },
       "data": [
        {
         "alignmentgroup": "True",
         "hovertemplate": "variable=0<br>Word=%{x}<br>value=%{y}<extra></extra>",
         "legendgroup": "0",
         "marker": {
          "color": "#636efa"
         },
         "name": "0",
         "offsetgroup": "0",
         "orientation": "v",
         "showlegend": true,
         "textposition": "auto",
         "type": "bar",
         "x": [
          "company",
          "shall",
          "agent",
          "party",
          "executive",
          "agreement",
          "indemnified",
          "expenses",
          "s",
          "including",
          "person",
          "costs",
          "section",
          "indemnify",
          "liabilities",
          "losses",
          "action",
          "extent",
          "claims",
          "borrower",
          "lender",
          "arising",
          "damages",
          "harmless",
          "connection"
         ],
         "xaxis": "x",
         "y": [
          29.16653807774809,
          22.724409967809688,
          20.087969509758288,
          19.687207018562162,
          18.831085600479767,
          18.034683875088056,
          17.159792313228674,
          15.955576765307722,
          15.273098152450364,
          13.57342296634099,
          12.962908518976239,
          12.503232587764856,
          12.245749590360104,
          12.201964303497366,
          11.982847414364763,
          11.913716257774123,
          11.66213532625715,
          11.612570421382854,
          11.520773590741374,
          11.457645753214459,
          11.302083092662944,
          11.177458076425777,
          10.928857691104552,
          10.882710686463827,
          10.864990544952363
         ],
         "yaxis": "y"
        }
       ],
       "layout": {
        "barmode": "relative",
        "legend": {
         "title": {
          "text": "variable"
         },
         "tracegroupgap": 0
        },
        "template": {
         "data": {
          "bar": [
           {
            "error_x": {
             "color": "#2a3f5f"
            },
            "error_y": {
             "color": "#2a3f5f"
            },
            "marker": {
             "line": {
              "color": "#E5ECF6",
              "width": 0.5
             }
            },
            "type": "bar"
           }
          ],
          "barpolar": [
           {
            "marker": {
             "line": {
              "color": "#E5ECF6",
              "width": 0.5
             }
            },
            "type": "barpolar"
           }
          ],
          "carpet": [
           {
            "aaxis": {
             "endlinecolor": "#2a3f5f",
             "gridcolor": "white",
             "linecolor": "white",
             "minorgridcolor": "white",
             "startlinecolor": "#2a3f5f"
            },
            "baxis": {
             "endlinecolor": "#2a3f5f",
             "gridcolor": "white",
             "linecolor": "white",
             "minorgridcolor": "white",
             "startlinecolor": "#2a3f5f"
            },
            "type": "carpet"
           }
          ],
          "choropleth": [
           {
            "colorbar": {
             "outlinewidth": 0,
             "ticks": ""
            },
            "type": "choropleth"
           }
          ],
          "contour": [
           {
            "colorbar": {
             "outlinewidth": 0,
             "ticks": ""
            },
            "colorscale": [
             [
              0,
              "#0d0887"
             ],
             [
              0.1111111111111111,
              "#46039f"
             ],
             [
              0.2222222222222222,
              "#7201a8"
             ],
             [
              0.3333333333333333,
              "#9c179e"
             ],
             [
              0.4444444444444444,
              "#bd3786"
             ],
             [
              0.5555555555555556,
              "#d8576b"
             ],
             [
              0.6666666666666666,
              "#ed7953"
             ],
             [
              0.7777777777777778,
              "#fb9f3a"
             ],
             [
              0.8888888888888888,
              "#fdca26"
             ],
             [
              1,
              "#f0f921"
             ]
            ],
            "type": "contour"
           }
          ],
          "contourcarpet": [
           {
            "colorbar": {
             "outlinewidth": 0,
             "ticks": ""
            },
            "type": "contourcarpet"
           }
          ],
          "heatmap": [
           {
            "colorbar": {
             "outlinewidth": 0,
             "ticks": ""
            },
            "colorscale": [
             [
              0,
              "#0d0887"
             ],
             [
              0.1111111111111111,
              "#46039f"
             ],
             [
              0.2222222222222222,
              "#7201a8"
             ],
             [
              0.3333333333333333,
              "#9c179e"
             ],
             [
              0.4444444444444444,
              "#bd3786"
             ],
             [
              0.5555555555555556,
              "#d8576b"
             ],
             [
              0.6666666666666666,
              "#ed7953"
             ],
             [
              0.7777777777777778,
              "#fb9f3a"
             ],
             [
              0.8888888888888888,
              "#fdca26"
             ],
             [
              1,
              "#f0f921"
             ]
            ],
            "type": "heatmap"
           }
          ],
          "heatmapgl": [
           {
            "colorbar": {
             "outlinewidth": 0,
             "ticks": ""
            },
            "colorscale": [
             [
              0,
              "#0d0887"
             ],
             [
              0.1111111111111111,
              "#46039f"
             ],
             [
              0.2222222222222222,
              "#7201a8"
             ],
             [
              0.3333333333333333,
              "#9c179e"
             ],
             [
              0.4444444444444444,
              "#bd3786"
             ],
             [
              0.5555555555555556,
              "#d8576b"
             ],
             [
              0.6666666666666666,
              "#ed7953"
             ],
             [
              0.7777777777777778,
              "#fb9f3a"
             ],
             [
              0.8888888888888888,
              "#fdca26"
             ],
             [
              1,
              "#f0f921"
             ]
            ],
            "type": "heatmapgl"
           }
          ],
          "histogram": [
           {
            "marker": {
             "colorbar": {
              "outlinewidth": 0,
              "ticks": ""
             }
            },
            "type": "histogram"
           }
          ],
          "histogram2d": [
           {
            "colorbar": {
             "outlinewidth": 0,
             "ticks": ""
            },
            "colorscale": [
             [
              0,
              "#0d0887"
             ],
             [
              0.1111111111111111,
              "#46039f"
             ],
             [
              0.2222222222222222,
              "#7201a8"
             ],
             [
              0.3333333333333333,
              "#9c179e"
             ],
             [
              0.4444444444444444,
              "#bd3786"
             ],
             [
              0.5555555555555556,
              "#d8576b"
             ],
             [
              0.6666666666666666,
              "#ed7953"
             ],
             [
              0.7777777777777778,
              "#fb9f3a"
             ],
             [
              0.8888888888888888,
              "#fdca26"
             ],
             [
              1,
              "#f0f921"
             ]
            ],
            "type": "histogram2d"
           }
          ],
          "histogram2dcontour": [
           {
            "colorbar": {
             "outlinewidth": 0,
             "ticks": ""
            },
            "colorscale": [
             [
              0,
              "#0d0887"
             ],
             [
              0.1111111111111111,
              "#46039f"
             ],
             [
              0.2222222222222222,
              "#7201a8"
             ],
             [
              0.3333333333333333,
              "#9c179e"
             ],
             [
              0.4444444444444444,
              "#bd3786"
             ],
             [
              0.5555555555555556,
              "#d8576b"
             ],
             [
              0.6666666666666666,
              "#ed7953"
             ],
             [
              0.7777777777777778,
              "#fb9f3a"
             ],
             [
              0.8888888888888888,
              "#fdca26"
             ],
             [
              1,
              "#f0f921"
             ]
            ],
            "type": "histogram2dcontour"
           }
          ],
          "mesh3d": [
           {
            "colorbar": {
             "outlinewidth": 0,
             "ticks": ""
            },
            "type": "mesh3d"
           }
          ],
          "parcoords": [
           {
            "line": {
             "colorbar": {
              "outlinewidth": 0,
              "ticks": ""
             }
            },
            "type": "parcoords"
           }
          ],
          "pie": [
           {
            "automargin": true,
            "type": "pie"
           }
          ],
          "scatter": [
           {
            "marker": {
             "colorbar": {
              "outlinewidth": 0,
              "ticks": ""
             }
            },
            "type": "scatter"
           }
          ],
          "scatter3d": [
           {
            "line": {
             "colorbar": {
              "outlinewidth": 0,
              "ticks": ""
             }
            },
            "marker": {
             "colorbar": {
              "outlinewidth": 0,
              "ticks": ""
             }
            },
            "type": "scatter3d"
           }
          ],
          "scattercarpet": [
           {
            "marker": {
             "colorbar": {
              "outlinewidth": 0,
              "ticks": ""
             }
            },
            "type": "scattercarpet"
           }
          ],
          "scattergeo": [
           {
            "marker": {
             "colorbar": {
              "outlinewidth": 0,
              "ticks": ""
             }
            },
            "type": "scattergeo"
           }
          ],
          "scattergl": [
           {
            "marker": {
             "colorbar": {
              "outlinewidth": 0,
              "ticks": ""
             }
            },
            "type": "scattergl"
           }
          ],
          "scattermapbox": [
           {
            "marker": {
             "colorbar": {
              "outlinewidth": 0,
              "ticks": ""
             }
            },
            "type": "scattermapbox"
           }
          ],
          "scatterpolar": [
           {
            "marker": {
             "colorbar": {
              "outlinewidth": 0,
              "ticks": ""
             }
            },
            "type": "scatterpolar"
           }
          ],
          "scatterpolargl": [
           {
            "marker": {
             "colorbar": {
              "outlinewidth": 0,
              "ticks": ""
             }
            },
            "type": "scatterpolargl"
           }
          ],
          "scatterternary": [
           {
            "marker": {
             "colorbar": {
              "outlinewidth": 0,
              "ticks": ""
             }
            },
            "type": "scatterternary"
           }
          ],
          "surface": [
           {
            "colorbar": {
             "outlinewidth": 0,
             "ticks": ""
            },
            "colorscale": [
             [
              0,
              "#0d0887"
             ],
             [
              0.1111111111111111,
              "#46039f"
             ],
             [
              0.2222222222222222,
              "#7201a8"
             ],
             [
              0.3333333333333333,
              "#9c179e"
             ],
             [
              0.4444444444444444,
              "#bd3786"
             ],
             [
              0.5555555555555556,
              "#d8576b"
             ],
             [
              0.6666666666666666,
              "#ed7953"
             ],
             [
              0.7777777777777778,
              "#fb9f3a"
             ],
             [
              0.8888888888888888,
              "#fdca26"
             ],
             [
              1,
              "#f0f921"
             ]
            ],
            "type": "surface"
           }
          ],
          "table": [
           {
            "cells": {
             "fill": {
              "color": "#EBF0F8"
             },
             "line": {
              "color": "white"
             }
            },
            "header": {
             "fill": {
              "color": "#C8D4E3"
             },
             "line": {
              "color": "white"
             }
            },
            "type": "table"
           }
          ]
         },
         "layout": {
          "annotationdefaults": {
           "arrowcolor": "#2a3f5f",
           "arrowhead": 0,
           "arrowwidth": 1
          },
          "coloraxis": {
           "colorbar": {
            "outlinewidth": 0,
            "ticks": ""
           }
          },
          "colorscale": {
           "diverging": [
            [
             0,
             "#8e0152"
            ],
            [
             0.1,
             "#c51b7d"
            ],
            [
             0.2,
             "#de77ae"
            ],
            [
             0.3,
             "#f1b6da"
            ],
            [
             0.4,
             "#fde0ef"
            ],
            [
             0.5,
             "#f7f7f7"
            ],
            [
             0.6,
             "#e6f5d0"
            ],
            [
             0.7,
             "#b8e186"
            ],
            [
             0.8,
             "#7fbc41"
            ],
            [
             0.9,
             "#4d9221"
            ],
            [
             1,
             "#276419"
            ]
           ],
           "sequential": [
            [
             0,
             "#0d0887"
            ],
            [
             0.1111111111111111,
             "#46039f"
            ],
            [
             0.2222222222222222,
             "#7201a8"
            ],
            [
             0.3333333333333333,
             "#9c179e"
            ],
            [
             0.4444444444444444,
             "#bd3786"
            ],
            [
             0.5555555555555556,
             "#d8576b"
            ],
            [
             0.6666666666666666,
             "#ed7953"
            ],
            [
             0.7777777777777778,
             "#fb9f3a"
            ],
            [
             0.8888888888888888,
             "#fdca26"
            ],
            [
             1,
             "#f0f921"
            ]
           ],
           "sequentialminus": [
            [
             0,
             "#0d0887"
            ],
            [
             0.1111111111111111,
             "#46039f"
            ],
            [
             0.2222222222222222,
             "#7201a8"
            ],
            [
             0.3333333333333333,
             "#9c179e"
            ],
            [
             0.4444444444444444,
             "#bd3786"
            ],
            [
             0.5555555555555556,
             "#d8576b"
            ],
            [
             0.6666666666666666,
             "#ed7953"
            ],
            [
             0.7777777777777778,
             "#fb9f3a"
            ],
            [
             0.8888888888888888,
             "#fdca26"
            ],
            [
             1,
             "#f0f921"
            ]
           ]
          },
          "colorway": [
           "#636efa",
           "#EF553B",
           "#00cc96",
           "#ab63fa",
           "#FFA15A",
           "#19d3f3",
           "#FF6692",
           "#B6E880",
           "#FF97FF",
           "#FECB52"
          ],
          "font": {
           "color": "#2a3f5f"
          },
          "geo": {
           "bgcolor": "white",
           "lakecolor": "white",
           "landcolor": "#E5ECF6",
           "showlakes": true,
           "showland": true,
           "subunitcolor": "white"
          },
          "hoverlabel": {
           "align": "left"
          },
          "hovermode": "closest",
          "mapbox": {
           "style": "light"
          },
          "paper_bgcolor": "white",
          "plot_bgcolor": "#E5ECF6",
          "polar": {
           "angularaxis": {
            "gridcolor": "white",
            "linecolor": "white",
            "ticks": ""
           },
           "bgcolor": "#E5ECF6",
           "radialaxis": {
            "gridcolor": "white",
            "linecolor": "white",
            "ticks": ""
           }
          },
          "scene": {
           "xaxis": {
            "backgroundcolor": "#E5ECF6",
            "gridcolor": "white",
            "gridwidth": 2,
            "linecolor": "white",
            "showbackground": true,
            "ticks": "",
            "zerolinecolor": "white"
           },
           "yaxis": {
            "backgroundcolor": "#E5ECF6",
            "gridcolor": "white",
            "gridwidth": 2,
            "linecolor": "white",
            "showbackground": true,
            "ticks": "",
            "zerolinecolor": "white"
           },
           "zaxis": {
            "backgroundcolor": "#E5ECF6",
            "gridcolor": "white",
            "gridwidth": 2,
            "linecolor": "white",
            "showbackground": true,
            "ticks": "",
            "zerolinecolor": "white"
           }
          },
          "shapedefaults": {
           "line": {
            "color": "#2a3f5f"
           }
          },
          "ternary": {
           "aaxis": {
            "gridcolor": "white",
            "linecolor": "white",
            "ticks": ""
           },
           "baxis": {
            "gridcolor": "white",
            "linecolor": "white",
            "ticks": ""
           },
           "bgcolor": "#E5ECF6",
           "caxis": {
            "gridcolor": "white",
            "linecolor": "white",
            "ticks": ""
           }
          },
          "title": {
           "x": 0.05
          },
          "xaxis": {
           "automargin": true,
           "gridcolor": "white",
           "linecolor": "white",
           "ticks": "",
           "title": {
            "standoff": 15
           },
           "zerolinecolor": "white",
           "zerolinewidth": 2
          },
          "yaxis": {
           "automargin": true,
           "gridcolor": "white",
           "linecolor": "white",
           "ticks": "",
           "title": {
            "standoff": 15
           },
           "zerolinecolor": "white",
           "zerolinewidth": 2
          }
         }
        },
        "title": {
         "text": "Top 25 Words in Indemnity Clauses"
        },
        "xaxis": {
         "anchor": "y",
         "domain": [
          0,
          1
         ],
         "title": {
          "text": "Word"
         }
        },
        "yaxis": {
         "anchor": "x",
         "domain": [
          0,
          1
         ],
         "title": {
          "text": "value"
         }
        }
       }
      },
      "text/html": [
       "<div>\n",
       "        \n",
       "        \n",
       "            <div id=\"7d3a5837-9878-482c-8995-23ed2476f054\" class=\"plotly-graph-div\" style=\"height:525px; width:100%;\"></div>\n",
       "            <script type=\"text/javascript\">\n",
       "                require([\"plotly\"], function(Plotly) {\n",
       "                    window.PLOTLYENV=window.PLOTLYENV || {};\n",
       "                    \n",
       "                if (document.getElementById(\"7d3a5837-9878-482c-8995-23ed2476f054\")) {\n",
       "                    Plotly.newPlot(\n",
       "                        '7d3a5837-9878-482c-8995-23ed2476f054',\n",
       "                        [{\"alignmentgroup\": \"True\", \"hovertemplate\": \"variable=0<br>Word=%{x}<br>value=%{y}<extra></extra>\", \"legendgroup\": \"0\", \"marker\": {\"color\": \"#636efa\"}, \"name\": \"0\", \"offsetgroup\": \"0\", \"orientation\": \"v\", \"showlegend\": true, \"textposition\": \"auto\", \"type\": \"bar\", \"x\": [\"company\", \"shall\", \"agent\", \"party\", \"executive\", \"agreement\", \"indemnified\", \"expenses\", \"s\", \"including\", \"person\", \"costs\", \"section\", \"indemnify\", \"liabilities\", \"losses\", \"action\", \"extent\", \"claims\", \"borrower\", \"lender\", \"arising\", \"damages\", \"harmless\", \"connection\"], \"xaxis\": \"x\", \"y\": [29.16653807774809, 22.724409967809688, 20.087969509758288, 19.687207018562162, 18.831085600479767, 18.034683875088056, 17.159792313228674, 15.955576765307722, 15.273098152450364, 13.57342296634099, 12.962908518976239, 12.503232587764856, 12.245749590360104, 12.201964303497366, 11.982847414364763, 11.913716257774123, 11.66213532625715, 11.612570421382854, 11.520773590741374, 11.457645753214459, 11.302083092662944, 11.177458076425777, 10.928857691104552, 10.882710686463827, 10.864990544952363], \"yaxis\": \"y\"}],\n",
       "                        {\"barmode\": \"relative\", \"legend\": {\"title\": {\"text\": \"variable\"}, \"tracegroupgap\": 0}, \"template\": {\"data\": {\"bar\": [{\"error_x\": {\"color\": \"#2a3f5f\"}, \"error_y\": {\"color\": \"#2a3f5f\"}, \"marker\": {\"line\": {\"color\": \"#E5ECF6\", \"width\": 0.5}}, \"type\": \"bar\"}], \"barpolar\": [{\"marker\": {\"line\": {\"color\": \"#E5ECF6\", \"width\": 0.5}}, \"type\": \"barpolar\"}], \"carpet\": [{\"aaxis\": {\"endlinecolor\": \"#2a3f5f\", \"gridcolor\": \"white\", \"linecolor\": \"white\", \"minorgridcolor\": \"white\", \"startlinecolor\": \"#2a3f5f\"}, \"baxis\": {\"endlinecolor\": \"#2a3f5f\", \"gridcolor\": \"white\", \"linecolor\": \"white\", \"minorgridcolor\": \"white\", \"startlinecolor\": \"#2a3f5f\"}, \"type\": \"carpet\"}], \"choropleth\": [{\"colorbar\": {\"outlinewidth\": 0, \"ticks\": \"\"}, \"type\": \"choropleth\"}], \"contour\": [{\"colorbar\": {\"outlinewidth\": 0, \"ticks\": \"\"}, \"colorscale\": [[0.0, \"#0d0887\"], [0.1111111111111111, \"#46039f\"], [0.2222222222222222, \"#7201a8\"], [0.3333333333333333, \"#9c179e\"], [0.4444444444444444, \"#bd3786\"], [0.5555555555555556, \"#d8576b\"], [0.6666666666666666, \"#ed7953\"], [0.7777777777777778, \"#fb9f3a\"], [0.8888888888888888, \"#fdca26\"], [1.0, \"#f0f921\"]], \"type\": \"contour\"}], \"contourcarpet\": [{\"colorbar\": {\"outlinewidth\": 0, \"ticks\": \"\"}, \"type\": \"contourcarpet\"}], \"heatmap\": [{\"colorbar\": {\"outlinewidth\": 0, \"ticks\": \"\"}, \"colorscale\": [[0.0, \"#0d0887\"], [0.1111111111111111, \"#46039f\"], [0.2222222222222222, \"#7201a8\"], [0.3333333333333333, \"#9c179e\"], [0.4444444444444444, \"#bd3786\"], [0.5555555555555556, \"#d8576b\"], [0.6666666666666666, \"#ed7953\"], [0.7777777777777778, \"#fb9f3a\"], [0.8888888888888888, \"#fdca26\"], [1.0, \"#f0f921\"]], \"type\": \"heatmap\"}], \"heatmapgl\": [{\"colorbar\": {\"outlinewidth\": 0, \"ticks\": \"\"}, \"colorscale\": [[0.0, \"#0d0887\"], [0.1111111111111111, \"#46039f\"], [0.2222222222222222, \"#7201a8\"], [0.3333333333333333, \"#9c179e\"], [0.4444444444444444, \"#bd3786\"], [0.5555555555555556, \"#d8576b\"], [0.6666666666666666, \"#ed7953\"], [0.7777777777777778, \"#fb9f3a\"], [0.8888888888888888, \"#fdca26\"], [1.0, \"#f0f921\"]], \"type\": \"heatmapgl\"}], \"histogram\": [{\"marker\": {\"colorbar\": {\"outlinewidth\": 0, \"ticks\": \"\"}}, \"type\": \"histogram\"}], \"histogram2d\": [{\"colorbar\": {\"outlinewidth\": 0, \"ticks\": \"\"}, \"colorscale\": [[0.0, \"#0d0887\"], [0.1111111111111111, \"#46039f\"], [0.2222222222222222, \"#7201a8\"], [0.3333333333333333, \"#9c179e\"], [0.4444444444444444, \"#bd3786\"], [0.5555555555555556, \"#d8576b\"], [0.6666666666666666, \"#ed7953\"], [0.7777777777777778, \"#fb9f3a\"], [0.8888888888888888, \"#fdca26\"], [1.0, \"#f0f921\"]], \"type\": \"histogram2d\"}], \"histogram2dcontour\": [{\"colorbar\": {\"outlinewidth\": 0, \"ticks\": \"\"}, \"colorscale\": [[0.0, \"#0d0887\"], [0.1111111111111111, \"#46039f\"], [0.2222222222222222, \"#7201a8\"], [0.3333333333333333, \"#9c179e\"], [0.4444444444444444, \"#bd3786\"], [0.5555555555555556, \"#d8576b\"], [0.6666666666666666, \"#ed7953\"], [0.7777777777777778, \"#fb9f3a\"], [0.8888888888888888, \"#fdca26\"], [1.0, \"#f0f921\"]], \"type\": \"histogram2dcontour\"}], \"mesh3d\": [{\"colorbar\": {\"outlinewidth\": 0, \"ticks\": \"\"}, \"type\": \"mesh3d\"}], \"parcoords\": [{\"line\": {\"colorbar\": {\"outlinewidth\": 0, \"ticks\": \"\"}}, \"type\": \"parcoords\"}], \"pie\": [{\"automargin\": true, \"type\": \"pie\"}], \"scatter\": [{\"marker\": {\"colorbar\": {\"outlinewidth\": 0, \"ticks\": \"\"}}, \"type\": \"scatter\"}], \"scatter3d\": [{\"line\": {\"colorbar\": {\"outlinewidth\": 0, \"ticks\": \"\"}}, \"marker\": {\"colorbar\": {\"outlinewidth\": 0, \"ticks\": \"\"}}, \"type\": \"scatter3d\"}], \"scattercarpet\": [{\"marker\": {\"colorbar\": {\"outlinewidth\": 0, \"ticks\": \"\"}}, \"type\": \"scattercarpet\"}], \"scattergeo\": [{\"marker\": {\"colorbar\": {\"outlinewidth\": 0, \"ticks\": \"\"}}, \"type\": \"scattergeo\"}], \"scattergl\": [{\"marker\": {\"colorbar\": {\"outlinewidth\": 0, \"ticks\": \"\"}}, \"type\": \"scattergl\"}], \"scattermapbox\": [{\"marker\": {\"colorbar\": {\"outlinewidth\": 0, \"ticks\": \"\"}}, \"type\": \"scattermapbox\"}], \"scatterpolar\": [{\"marker\": {\"colorbar\": {\"outlinewidth\": 0, \"ticks\": \"\"}}, \"type\": \"scatterpolar\"}], \"scatterpolargl\": [{\"marker\": {\"colorbar\": {\"outlinewidth\": 0, \"ticks\": \"\"}}, \"type\": \"scatterpolargl\"}], \"scatterternary\": [{\"marker\": {\"colorbar\": {\"outlinewidth\": 0, \"ticks\": \"\"}}, \"type\": \"scatterternary\"}], \"surface\": [{\"colorbar\": {\"outlinewidth\": 0, \"ticks\": \"\"}, \"colorscale\": [[0.0, \"#0d0887\"], [0.1111111111111111, \"#46039f\"], [0.2222222222222222, \"#7201a8\"], [0.3333333333333333, \"#9c179e\"], [0.4444444444444444, \"#bd3786\"], [0.5555555555555556, \"#d8576b\"], [0.6666666666666666, \"#ed7953\"], [0.7777777777777778, \"#fb9f3a\"], [0.8888888888888888, \"#fdca26\"], [1.0, \"#f0f921\"]], \"type\": \"surface\"}], \"table\": [{\"cells\": {\"fill\": {\"color\": \"#EBF0F8\"}, \"line\": {\"color\": \"white\"}}, \"header\": {\"fill\": {\"color\": \"#C8D4E3\"}, \"line\": {\"color\": \"white\"}}, \"type\": \"table\"}]}, \"layout\": {\"annotationdefaults\": {\"arrowcolor\": \"#2a3f5f\", \"arrowhead\": 0, \"arrowwidth\": 1}, \"coloraxis\": {\"colorbar\": {\"outlinewidth\": 0, \"ticks\": \"\"}}, \"colorscale\": {\"diverging\": [[0, \"#8e0152\"], [0.1, \"#c51b7d\"], [0.2, \"#de77ae\"], [0.3, \"#f1b6da\"], [0.4, \"#fde0ef\"], [0.5, \"#f7f7f7\"], [0.6, \"#e6f5d0\"], [0.7, \"#b8e186\"], [0.8, \"#7fbc41\"], [0.9, \"#4d9221\"], [1, \"#276419\"]], \"sequential\": [[0.0, \"#0d0887\"], [0.1111111111111111, \"#46039f\"], [0.2222222222222222, \"#7201a8\"], [0.3333333333333333, \"#9c179e\"], [0.4444444444444444, \"#bd3786\"], [0.5555555555555556, \"#d8576b\"], [0.6666666666666666, \"#ed7953\"], [0.7777777777777778, \"#fb9f3a\"], [0.8888888888888888, \"#fdca26\"], [1.0, \"#f0f921\"]], \"sequentialminus\": [[0.0, \"#0d0887\"], [0.1111111111111111, \"#46039f\"], [0.2222222222222222, \"#7201a8\"], [0.3333333333333333, \"#9c179e\"], [0.4444444444444444, \"#bd3786\"], [0.5555555555555556, \"#d8576b\"], [0.6666666666666666, \"#ed7953\"], [0.7777777777777778, \"#fb9f3a\"], [0.8888888888888888, \"#fdca26\"], [1.0, \"#f0f921\"]]}, \"colorway\": [\"#636efa\", \"#EF553B\", \"#00cc96\", \"#ab63fa\", \"#FFA15A\", \"#19d3f3\", \"#FF6692\", \"#B6E880\", \"#FF97FF\", \"#FECB52\"], \"font\": {\"color\": \"#2a3f5f\"}, \"geo\": {\"bgcolor\": \"white\", \"lakecolor\": \"white\", \"landcolor\": \"#E5ECF6\", \"showlakes\": true, \"showland\": true, \"subunitcolor\": \"white\"}, \"hoverlabel\": {\"align\": \"left\"}, \"hovermode\": \"closest\", \"mapbox\": {\"style\": \"light\"}, \"paper_bgcolor\": \"white\", \"plot_bgcolor\": \"#E5ECF6\", \"polar\": {\"angularaxis\": {\"gridcolor\": \"white\", \"linecolor\": \"white\", \"ticks\": \"\"}, \"bgcolor\": \"#E5ECF6\", \"radialaxis\": {\"gridcolor\": \"white\", \"linecolor\": \"white\", \"ticks\": \"\"}}, \"scene\": {\"xaxis\": {\"backgroundcolor\": \"#E5ECF6\", \"gridcolor\": \"white\", \"gridwidth\": 2, \"linecolor\": \"white\", \"showbackground\": true, \"ticks\": \"\", \"zerolinecolor\": \"white\"}, \"yaxis\": {\"backgroundcolor\": \"#E5ECF6\", \"gridcolor\": \"white\", \"gridwidth\": 2, \"linecolor\": \"white\", \"showbackground\": true, \"ticks\": \"\", \"zerolinecolor\": \"white\"}, \"zaxis\": {\"backgroundcolor\": \"#E5ECF6\", \"gridcolor\": \"white\", \"gridwidth\": 2, \"linecolor\": \"white\", \"showbackground\": true, \"ticks\": \"\", \"zerolinecolor\": \"white\"}}, \"shapedefaults\": {\"line\": {\"color\": \"#2a3f5f\"}}, \"ternary\": {\"aaxis\": {\"gridcolor\": \"white\", \"linecolor\": \"white\", \"ticks\": \"\"}, \"baxis\": {\"gridcolor\": \"white\", \"linecolor\": \"white\", \"ticks\": \"\"}, \"bgcolor\": \"#E5ECF6\", \"caxis\": {\"gridcolor\": \"white\", \"linecolor\": \"white\", \"ticks\": \"\"}}, \"title\": {\"x\": 0.05}, \"xaxis\": {\"automargin\": true, \"gridcolor\": \"white\", \"linecolor\": \"white\", \"ticks\": \"\", \"title\": {\"standoff\": 15}, \"zerolinecolor\": \"white\", \"zerolinewidth\": 2}, \"yaxis\": {\"automargin\": true, \"gridcolor\": \"white\", \"linecolor\": \"white\", \"ticks\": \"\", \"title\": {\"standoff\": 15}, \"zerolinecolor\": \"white\", \"zerolinewidth\": 2}}}, \"title\": {\"text\": \"Top 25 Words in Indemnity Clauses\"}, \"xaxis\": {\"anchor\": \"y\", \"domain\": [0.0, 1.0], \"title\": {\"text\": \"Word\"}}, \"yaxis\": {\"anchor\": \"x\", \"domain\": [0.0, 1.0], \"title\": {\"text\": \"value\"}}},\n",
       "                        {\"responsive\": true}\n",
       "                    ).then(function(){\n",
       "                            \n",
       "var gd = document.getElementById('7d3a5837-9878-482c-8995-23ed2476f054');\n",
       "var x = new MutationObserver(function (mutations, observer) {{\n",
       "        var display = window.getComputedStyle(gd).display;\n",
       "        if (!display || display === 'none') {{\n",
       "            console.log([gd, 'removed!']);\n",
       "            Plotly.purge(gd);\n",
       "            observer.disconnect();\n",
       "        }}\n",
       "}});\n",
       "\n",
       "// Listen for the removal of the full notebook cells\n",
       "var notebookContainer = gd.closest('#notebook-container');\n",
       "if (notebookContainer) {{\n",
       "    x.observe(notebookContainer, {childList: true});\n",
       "}}\n",
       "\n",
       "// Listen for the clearing of the current output cell\n",
       "var outputEl = gd.closest('.output');\n",
       "if (outputEl) {{\n",
       "    x.observe(outputEl, {childList: true});\n",
       "}}\n",
       "\n",
       "                        })\n",
       "                };\n",
       "                });\n",
       "            </script>\n",
       "        </div>"
      ]
     },
     "metadata": {},
     "output_type": "display_data"
    }
   ],
   "source": [
    "vector_barplotter(indemnity_only, \"Top 25 Words in Indemnity Clauses\", \"Word\")"
   ]
  },
  {
   "cell_type": "markdown",
   "metadata": {},
   "source": [
    "<img src=\"../images/top_25_indemnity.png\">"
   ]
  },
  {
   "cell_type": "markdown",
   "metadata": {},
   "source": [
    "### Interpretation of Sample Contract Clause Types"
   ]
  },
  {
   "cell_type": "markdown",
   "metadata": {},
   "source": [
    "1. **All Clauses**: Recalling that our clauses are commonly found in many contracts, the first bar graph is really a general visualization of  what specific words tend to pop up in most agreements. We see that our top keywords are \"shall\", \"agreement\", \"company\", \"party\" and \"term\". \n",
    "\n",
    "    These aren't very helpful and generally just show that contracts will have language designed to compel parties (including companies) to do something in an agreement for a period of time. \n",
    "    \n",
    "    What's a little more illuminating is that we see other top keywords that include \"products\", \"service\", and \"license\", which does remind us that contracts can be for transactions both tangible and intangible property.\n",
    "    \n",
    "2. **Indemnity and Warranty Clauses:** We see from warranty clauses that apart from the obvious word \"warranty\", \"software\" is actually a top word, which is reflective of the fact that many software agreements also contain warranties that they'll be fit for their purpose. Indemnity clauses, however, enliven after problems happen. This is why they are more concerned with compensation, and hence words like \"(hold) harmless\" i.e. render the party not liable for damage caused in limited circumstances, for example."
   ]
  },
  {
   "cell_type": "markdown",
   "metadata": {},
   "source": [
    "## Topic Modelling as \"Bag of Words\" EDA: Insights\n",
    "By using Topic Modelling, can we discern any topics/subjects that distinctly cluster within our contract clause data?\n",
    "* According to Li, Topic Modelling is \"statistical modeling for discovering the abstract 'topics' that occur in a collection of documents. Latent Dirichlet Allocation (LDA) is an example of topic model and is used to classify text in a document to a particular topic.\" \n",
    "\n",
    "    (Source: https://towardsdatascience.com/topic-modeling-and-latent-dirichlet-allocation-in-python-9bf156893c24#:~:text=Topic%20modeling%20is%20a%20type,document%20to%20a%20particular%20topic.)\n",
    "    \n",
    "    \n",
    "* In summary, how LDA works is it assumes that 1 document is mostly about 1 topic, so the words in that document will be about one topic, and there won't be very many other topics in one document. That's known as a Dirichlet distribution.\n",
    "\n",
    "\n",
    "* An LDA model will then guess what words go in what topics by comparing words with guessed topics. If the words don't fit in the topic distribution, it changes the topic the word is in. It keeps doing this until fewer and fewer words have to have their topic label changed. It therefore has similarity with clustering:\n",
    "\n",
    "    (Source: https://medium.com/@lettier/how-does-lda-work-ill-explain-using-emoji-108abf40fa7d#:~:text=Why%20use%20LDA%3F,cluster%20(hard-clustering).)"
   ]
  },
  {
   "cell_type": "code",
   "execution_count": 37,
   "metadata": {},
   "outputs": [],
   "source": [
    "#we first create an object that comprises the array of all our clause text\n",
    "clause_text = df[\"clause_text\"]"
   ]
  },
  {
   "cell_type": "code",
   "execution_count": 38,
   "metadata": {},
   "outputs": [],
   "source": [
    "#we instantiate another vectorizer this time using CountVectorizer for LDA.\n",
    "vectorizer_lda = CountVectorizer(tokenizer=spacy_tokenizer, ngram_range=(1,2))"
   ]
  },
  {
   "cell_type": "code",
   "execution_count": 39,
   "metadata": {},
   "outputs": [],
   "source": [
    "#we then fit the vectorizer onto our clause text\n",
    "dtm=vectorizer_lda.fit_transform(clause_text)"
   ]
  },
  {
   "cell_type": "code",
   "execution_count": 41,
   "metadata": {},
   "outputs": [
    {
     "data": {
      "text/plain": [
       "array([[2.79361114e-04, 2.79355388e-04, 2.79364291e-04, ...,\n",
       "        2.79371621e-04, 2.79389327e-04, 9.97485601e-01],\n",
       "       [1.51540100e-03, 6.64537578e-01, 1.51575177e-03, ...,\n",
       "        1.51543125e-03, 1.51549253e-03, 4.93526118e-02],\n",
       "       [1.78581950e-03, 1.78580939e-03, 1.78580092e-03, ...,\n",
       "        1.78593917e-03, 1.78592761e-03, 4.26552937e-01],\n",
       "       ...,\n",
       "       [1.25154770e-01, 5.00049949e-03, 5.00150161e-03, ...,\n",
       "        5.00028849e-03, 5.00043298e-03, 5.00059368e-03],\n",
       "       [3.08737576e-04, 3.08692967e-04, 3.08676917e-04, ...,\n",
       "        3.08662836e-04, 3.08692669e-04, 3.08683919e-04],\n",
       "       [2.53197904e-01, 1.80397834e-01, 1.92365682e-03, ...,\n",
       "        1.92321196e-03, 1.92350393e-03, 1.92334460e-03]])"
      ]
     },
     "execution_count": 41,
     "metadata": {},
     "output_type": "execute_result"
    }
   ],
   "source": [
    "#we now instantiate the Latent Dirichlet Allocation machine learning algo from sklearn\n",
    "#this lets us do topic modelling when we fit it. \n",
    "\n",
    "#We pick the number of topics \"n_components\" to be 10 because we scraped 10 different clause types \n",
    "lda=LatentDirichletAllocation(n_components=10)\n",
    "lda.fit_transform(dtm)"
   ]
  },
  {
   "cell_type": "code",
   "execution_count": 42,
   "metadata": {},
   "outputs": [],
   "source": [
    "#we then utilize our pyLDAvis visualization library that lets us open up an interactive chart here in Jupyter.\n",
    "#to do this we instantiate the pyLDAvis object as well as enable the settings to run with Jupyter like so:\n",
    "from __future__ import  print_function\n",
    "pyLDAvis.enable_notebook()\n",
    "zit=pyLDAvis.sklearn.prepare(lda,dtm,vectorizer_lda)\n",
    "viz = pyLDAvis.display(zit)"
   ]
  },
  {
   "cell_type": "markdown",
   "metadata": {},
   "source": [
    "**What are the distinct topics or subjects that can be discerned from our corpora of contract clauses?**"
   ]
  },
  {
   "cell_type": "code",
   "execution_count": 43,
   "metadata": {},
   "outputs": [
    {
     "data": {
      "text/html": [
       "\n",
       "<link rel=\"stylesheet\" type=\"text/css\" href=\"https://cdn.rawgit.com/bmabey/pyLDAvis/files/ldavis.v1.0.0.css\">\n",
       "\n",
       "\n",
       "<div id=\"ldavis_el852951404662393989928540355360\"></div>\n",
       "<script type=\"text/javascript\">\n",
       "\n",
       "var ldavis_el852951404662393989928540355360_data = {\"mdsDat\": {\"x\": [0.08309066802269566, 0.01183621176064743, -0.17659690087196891, -0.12877853152835245, -0.15003288907924475, 0.09062732721011076, 0.13980317091001085, -0.04031014721488117, 0.10662918042122108, 0.06373191036976095], \"y\": [-0.17259152852787857, -0.05116579094515028, -0.06731616497740885, 0.11167863105857921, -0.03586174887316779, -0.10805517042301929, 0.12155802271021202, 0.10920776298137158, 0.07838492883024276, 0.014161058166219433], \"topics\": [1, 2, 3, 4, 5, 6, 7, 8, 9, 10], \"cluster\": [1, 1, 1, 1, 1, 1, 1, 1, 1, 1], \"Freq\": [22.39647121230534, 13.484267340698738, 11.39353826983305, 9.905277963840636, 9.820456704634907, 8.968681597876135, 7.697966373567267, 6.781121086889254, 5.526408168711289, 4.025811281643399]}, \"tinfo\": {\"Term\": [\"information\", \"rights\", \"support\", \"confidential\", \"company\", \"proprietary\", \"executive\", \"party\", \"confidential information\", \"property\", \"proprietary rights\", \"intellectual\", \"intellectual property\", \"laws\", \"software\", \"licenses\", \"expenses\", \"warranty\", \"lender\", \"employee\", \"regulations\", \"shares\", \"damages\", \"trade\", \"indemnify\", \"agent\", \"indemnified\", \"services\", \"invoice\", \"liability\", \"shipment\", \"free defects\", \"warranty period\", \"advised possibility\", \"possibility damages\", \"risk loss\", \"workmanship\", \"particular purpose\", \"warranties merchantability\", \"material workmanship\", \"merchantability\", \"fitness particular\", \"warranties express\", \"freight\", \"repaired\", \"warranty shall\", \"merchantability fitness\", \"warranted\", \"shall pass\", \"implied including\", \"catalent\", \"repair replace\", \"including negligence\", \"foregoing warranty\", \"shall conform\", \"fitness\", \"s warranty\", \"defective\", \"title risk\", \"tort including\", \"shipping\", \"carrier\", \"implied warranties\", \"purchase order\", \"lost profits\", \"defects\", \"goods\", \"possibility\", \"conform\", \"warranty\", \"repair\", \"defect\", \"lost\", \"incidental\", \"incidental consequential\", \"warranties\", \"supplier\", \"invoice\", \"period\", \"buyer\", \"days\", \"product\", \"contractor\", \"implied\", \"products\", \"specifications\", \"consequential\", \"shall\", \"delivery\", \"seller\", \"payment\", \"date\", \"thirty\", \"customer\", \"s\", \"services\", \"work\", \"warrants\", \"event\", \"payments\", \"pay\", \"support\", \"damages\", \"contract\", \"provided\", \"agreement\", \"set\", \"provide\", \"party\", \"forth\", \"including\", \"applicable\", \"time\", \"section\", \"laws rules\", \"rules regulations\", \"deliver purchaser\", \"regulations orders\", \"respects applicable\", \"ordinances\", \"number shares\", \"comply material\", \"shares purchased\", \"price therefor\", \"shares common\", \"representing shares\", \"certificates representing\", \"certificate certificates\", \"company deliver\", \"purchaser certificate\", \"purchased purchaser\", \"laws including\", \"registered purchaser\", \"representing number\", \"compliance material\", \"closing company\", \"laws ordinances\", \"applicable state\", \"closing subject\", \"common stock\", \"laws statutes\", \"local laws\", \"opposite\", \"notice violation\", \"rules\", \"representing\", \"shares\", \"payment purchase\", \"stock\", \"compliance applicable\", \"state local\", \"regulations\", \"applicable federal\", \"comply applicable\", \"material respects\", \"federal state\", \"laws\", \"closing\", \"comply\", \"respects\", \"compliance\", \"federal\", \"certificates\", \"material adverse\", \"adverse effect\", \"applicable laws\", \"adverse\", \"governmental\", \"applicable\", \"purchase price\", \"state\", \"violation\", \"purchaser\", \"material\", \"deliver\", \"effect\", \"local\", \"company\", \"securities\", \"transfer\", \"purchase\", \"shall\", \"law\", \"business\", \"s\", \"seller\", \"agreement\", \"date\", \"licenses\", \"section\", \"set\", \"covered person\", \"indemnify executive\", \"bylaws\", \"entitled indemnification\", \"indemnification shall\", \"administrative investigative\", \"criminal administrative\", \"indemnitor\", \"indemnification provided\", \"party threatened\", \"manager officer\", \"threatened party\", \"judgments fines\", \"indemnified person\", \"nonappealable\", \"member manager\", \"proceeding civil\", \"jurisdiction resulted\", \"final nonappealable\", \"certificate incorporation\", \"indemnification agreement\", \"determined final\", \"misconduct indemnified\", \"debts obligations\", \"use proceeds\", \"indemnitee shall\", \"disbursements counsel\", \"settlements\", \"officers liability\", \"reviewer\", \"fullest extent\", \"fullest\", \"indemnified parties\", \"indemnitee\", \"misconduct gross\", \"fines\", \"indemnified\", \"indemnified party\", \"director officer\", \"indemnification\", \"borrower agrees\", \"shall indemnify\", \"liabilities losses\", \"misconduct\", \"suit proceeding\", \"willful misconduct\", \"incorporation\", \"defend\", \"extent permitted\", \"indemnify\", \"harmless\", \"attorneys fees\", \"negligence willful\", \"director\", \"expenses\", \"action suit\", \"attorneys\", \"expenses including\", \"arising\", \"incurred\", \"willful\", \"officer\", \"proceeding\", \"claims\", \"losses\", \"claim\", \"liabilities\", \"action\", \"gross\", \"negligence\", \"liability\", \"costs\", \"hold\", \"shall\", \"fees\", \"person\", \"damages\", \"including\", \"extent\", \"company\", \"party\", \"connection\", \"agent\", \"agreement\", \"s\", \"law\", \"obligations\", \"receiving party\", \"assignee participant\", \"swap\", \"exercise remedies\", \"actual prospective\", \"information instructed\", \"nonconfidential basis\", \"nonconfidential\", \"confidential basis\", \"prospective assignee\", \"disclosure informed\", \"available administrative\", \"participant prospective\", \"instructed information\", \"agreement containing\", \"persons disclosure\", \"containing provisions\", \"understood persons\", \"provisions substantially\", \"remedies hereunder\", \"subpoena similar\", \"extent requested\", \"counterparty\", \"available result\", \"participant rights\", \"substantially section\", \"consent borrower\", \"commissioners\", \"disclosed affiliates\", \"association insurance\", \"agent issuing\", \"disclosing party\", \"connection exercise\", \"maintain confidentiality\", \"legal process\", \"assignee\", \"nature information\", \"publicly available\", \"confidentiality information\", \"extent information\", \"advisors\", \"prospective\", \"agent lender\", \"disclosing\", \"regulatory authority\", \"confidential nature\", \"issuing bank\", \"auditors\", \"information confidential\", \"information\", \"confidentiality\", \"receiving\", \"lender\", \"rating\", \"information disclosed\", \"confidential\", \"subpoena\", \"disclosure\", \"party\", \"administrative agent\", \"participant\", \"confidential information\", \"administrative\", \"publicly\", \"accountants\", \"issuing\", \"agent\", \"affiliates\", \"representatives\", \"regulatory\", \"disclosed\", \"agreement\", \"borrower\", \"connection\", \"required\", \"extent\", \"legal\", \"section\", \"available\", \"provided\", \"disclose\", \"shall\", \"authority\", \"s\", \"agrees\", \"agents\", \"hereunder\", \"applicable\", \"person\", \"obligations\", \"reckless\", \"reckless disregard\", \"misfeasance\", \"willful misfeasance\", \"misfeasance bad\", \"untrue statement\", \"obligations duties\", \"disregard obligations\", \"person controls\", \"negligence performance\", \"alleged untrue\", \"sub advisor\", \"omission alleged\", \"negligence reckless\", \"disregard\", \"alleged omission\", \"statement material\", \"ratable\", \"material fact\", \"statement alleged\", \"loss resulting\", \"whatsoever imposed\", \"ratable share\", \"untrue\", \"state material\", \"mistake law\", \"disbursements resulting\", \"warranty covenant\", \"required stated\", \"reason reckless\", \"underwriter\", \"prospectus\", \"depositary\", \"suits costs\", \"judgments suits\", \"faith gross\", \"actions judgments\", \"adviser\", \"penalties actions\", \"adviser s\", \"company subsidiaries\", \"sub adviser\", \"sub\", \"trust\", \"obligations losses\", \"bad faith\", \"bad\", \"statement\", \"fund\", \"company\", \"duties\", \"liabilities\", \"losses\", \"expenses\", \"agreement\", \"omission\", \"obligations\", \"agent\", \"officers\", \"indemnify\", \"material\", \"including\", \"damages\", \"s\", \"liability\", \"shall\", \"negligence\", \"act\", \"hold\", \"person\", \"connection\", \"arising\", \"agents\", \"party\", \"section\", \"reasonable\", \"action\", \"provided\", \"assets property\", \"m p\", \"binding assets\", \"selling stockholder\", \"diasys\", \"binding trustees\", \"individually obligations\", \"individually binding\", \"io\", \"use designation\", \"pluto\", \"synacor\", \"service recipient\", \"cch\", \"transition service\", \"sterling\", \"mbusa\", \"technical publications\", \"kaminario\", \"communication document\", \"esc\", \"million million\", \"friday\", \"procore\", \"evolus\", \"best theratronics\", \"theratronics\", \"akd\", \"trustees shareholders\", \"directv\", \"monday friday\", \"service provider\", \"monday\", \"e mail\", \"eastern\", \"street journal\", \"journal\", \"support\", \"janus\", \"pm\", \"wall\", \"wall street\", \"janssen\", \"holidays\", \"technical support\", \"hospital\", \"business day\", \"telephone\", \"provide support\", \"mail\", \"support services\", \"hours\", \"provide\", \"p m\", \"provider\", \"m\", \"problem\", \"day\", \"technical\", \"users\", \"service\", \"com\", \"email\", \"services\", \"shall\", \"maintenance\", \"payments\", \"agreement\", \"bank\", \"payment\", \"dollars\", \"fund\", \"date\", \"time\", \"account\", \"customer\", \"invoice\", \"s\", \"days\", \"software\", \"use\", \"amounts\", \"provided\", \"interest\", \"applicable\", \"business\", \"agrees\", \"available\", \"delivery\", \"terms\", \"hereunder\", \"derivative works\", \"property rights\", \"copyright\", \"work hire\", \"ownership rights\", \"expressly granted\", \"reverse engineer\", \"copyright trade\", \"rights intellectual\", \"works hire\", \"s intellectual\", \"intellectual\", \"duska\", \"intellectual property\", \"dna\", \"use intellectual\", \"interest including\", \"copyright intellectual\", \"decompile\", \"trademark trade\", \"hyperspace\", \"rights software\", \"trade service\", \"patent application\", \"patent patent\", \"including intellectual\", \"secret trademark\", \"wink\", \"commissioners c\", \"authorship\", \"patent copyright\", \"rights title\", \"title interest\", \"trademark\", \"patent\", \"right title\", \"patents\", \"copyrights patents\", \"reverse\", \"copyrights\", \"hire\", \"logos\", \"trademarks\", \"patents copyrights\", \"works\", \"patent rights\", \"copyrights trademarks\", \"exclusive property\", \"rights\", \"marks\", \"property\", \"trade\", \"inventions\", \"technology\", \"title\", \"names\", \"right\", \"service marks\", \"proprietary\", \"software\", \"trade names\", \"proprietary rights\", \"trade secrets\", \"licensed\", \"applications\", \"interest\", \"secrets\", \"materials\", \"license\", \"use\", \"service\", \"s\", \"products\", \"including\", \"party\", \"shall\", \"agreement\", \"executive agrees\", \"records information\", \"executive acknowledges\", \"employee agrees\", \"course employment\", \"employee acknowledges\", \"agreement employee\", \"appropriate protective\", \"information executive\", \"nutracea\", \"termination executive\", \"employment employer\", \"information includes\", \"purpose performance\", \"ngsp\", \"secret confidential\", \"treatment accorded\", \"divulge information\", \"employer s\", \"employment company\", \"prior present\", \"contempt\", \"present potential\", \"finances\", \"strategies\", \"life company\", \"avif\", \"information employee\", \"information knowledge\", \"employee s\", \"information company\", \"divulge\", \"s employment\", \"company employee\", \"employer\", \"employee shall\", \"company confidential\", \"company executive\", \"executive\", \"executive shall\", \"executive s\", \"employment\", \"employee\", \"business plans\", \"plans\", \"information trade\", \"confidential information\", \"disclose\", \"information\", \"confidential\", \"company affiliates\", \"records\", \"company\", \"proprietary information\", \"lists\", \"confidential proprietary\", \"public\", \"secrets\", \"information shall\", \"trade secrets\", \"s\", \"shall\", \"business\", \"use\", \"agrees\", \"disclosure\", \"agreement\", \"data\", \"trade\", \"required\", \"party\", \"company s\", \"proprietary\", \"prior\", \"parties\", \"time\", \"written\", \"including\", \"order\", \"adcs group\", \"adcs\", \"misappropriated\", \"infringes conflicts\", \"faj\", \"infringed misappropriated\", \"mmi\", \"burress\", \"misappropriation conflict\", \"txen\", \"joinder\", \"live earth\", \"japan local\", \"knowledge proprietary\", \"property infringes\", \"ton\", \"ton v\", \"golden state\", \"isxpay\", \"interplay\", \"currency agent\", \"oon\", \"vai\", \"v phase\", \"marvair model\", \"model vai\", \"marvair\", \"phase marvair\", \"petsmart\", \"gtm\", \"owns possesses\", \"use proprietary\", \"licenses sublicenses\", \"proprietary rights\", \"local currency\", \"rights listed\", \"s w\", \"s property\", \"infringement misappropriation\", \"proprietary\", \"respect proprietary\", \"infringed\", \"rights owned\", \"rights\", \"licenses rights\", \"owns\", \"infringes\", \"schedule\", \"conflicts\", \"rights use\", \"conflict\", \"proprietary right\", \"knowledge\", \"misappropriation\", \"right use\", \"use\", \"list\", \"licensed\", \"s knowledge\", \"owned\", \"agreement\", \"s\", \"right\", \"best\", \"trade\", \"licenses\", \"business\", \"forth schedule\", \"forth\", \"seller\", \"conducted\", \"customer\", \"names\", \"person\", \"party\", \"set\", \"material\", \"set forth\", \"necessary\", \"company\", \"respect\", \"b\", \"shall\", \"license\", \"terms\", \"products\", \"subsidiaries\", \"kmc\", \"nci\", \"bfdx\", \"pldt\", \"insynq\", \"smartgate\", \"shown accrued\", \"ownership properties\", \"tiger\", \"tiger fair\", \"metlife\", \"acquiror company\", \"regent\", \"imanage\", \"franchises rights\", \"royalties shown\", \"mpower\", \"date royalty\", \"macrogenics\", \"qiu\", \"occupancy operation\", \"accrued royalty\", \"regent s\", \"registry\", \"modus\", \"modus media\", \"multex\", \"wkh\", \"ypc\", \"restricted party\", \"dst\", \"report provided\", \"restricted subsidiaries\", \"permits franchises\", \"properties conduct\", \"maintain licenses\", \"royalty report\", \"licenses permits\", \"franchises\", \"authorizations approvals\", \"obtain maintain\", \"permits\", \"authorizations\", \"permits authorizations\", \"licenses\", \"approvals\", \"governmental authorizations\", \"necessary\", \"consents\", \"force effect\", \"business\", \"services\", \"conduct business\", \"governmental\", \"property\", \"conduct\", \"force\", \"effect\", \"currently\", \"maintain\", \"required\", \"agreement\", \"shall\", \"material\", \"customer\", \"operation\", \"perform\", \"license\", \"s\", \"described\", \"non\", \"company\", \"use\", \"borrower\", \"provided\", \"warrants\"], \"Freq\": [3508.0, 2441.0, 1960.0, 1890.0, 4774.0, 1210.0, 929.0, 4335.0, 983.0, 1396.0, 753.0, 650.0, 629.0, 1259.0, 1237.0, 1052.0, 1048.0, 1363.0, 900.0, 714.0, 808.0, 694.0, 1293.0, 730.0, 720.0, 1465.0, 649.0, 1805.0, 880.0, 1232.0, 400.99478129863104, 164.49971789511997, 201.6976212580294, 118.97124592462013, 115.31336606859486, 86.96472570947854, 209.81421154150433, 162.78014358914095, 75.9548651422306, 69.59028173889449, 159.05523498950726, 150.76801554024433, 74.0189813285889, 84.8015425193931, 54.04458124646736, 101.55105748505308, 133.19775870355403, 53.08441794167151, 50.38641725081877, 50.374508182226194, 49.47230820603678, 49.47227472828092, 49.47227294327347, 48.548601238455156, 47.64336456627789, 172.4799284454464, 46.728786588623976, 201.34269403533443, 44.899910923637336, 52.07135243888778, 157.16994141852555, 169.42707299359625, 79.92486913705348, 208.76063685806795, 121.18876227643945, 305.9986226985857, 264.1190044124872, 158.76223648104283, 176.49614993043622, 1230.6331964594572, 179.65446803712578, 156.48785575277836, 193.26709900658685, 256.47551003064393, 119.6845765465616, 580.3853577616023, 448.00329367871683, 704.1020949066791, 627.4245922026465, 790.3344222562778, 850.5585079202864, 1028.936241933526, 363.9591784302705, 304.52958878468024, 988.9002551760844, 288.2352155698836, 314.7861399016817, 4376.762992182092, 795.6390056107301, 971.413473493337, 895.0540175770408, 1019.0761949518607, 243.5890899606473, 760.8641655881272, 2009.4414586895055, 872.7621186446462, 450.1158476337936, 482.54108456599454, 494.9400926493419, 438.4162184706424, 427.28407820028275, 742.2630290319197, 586.7431799018545, 398.2837786221269, 722.9611567851481, 1079.0766645237582, 529.2468864992792, 490.5125173643341, 751.5130588431252, 485.85447956962486, 513.7013356241597, 504.1926813230178, 475.7515937783228, 485.768762939226, 195.95058289246705, 359.24495071893426, 99.1359121807977, 98.20676488689065, 92.07067534609854, 130.2070622812392, 71.086844611649, 105.76537941536242, 65.82765598194312, 61.444993270145844, 60.56843613032145, 59.69191942209102, 52.67964652109514, 49.17351531799302, 92.10944079757246, 43.91432483042108, 43.91432359466955, 49.08042197373483, 43.03779107909022, 42.161254010959624, 73.09227896966235, 95.28736537347534, 57.528028645278006, 36.02516791057687, 35.1489870842605, 132.04273227966866, 34.27242935807451, 83.18909773748022, 32.51937665395052, 32.51767111536819, 417.7089625364245, 167.9568046552235, 644.1289385034079, 86.5702213628437, 323.0916938174972, 142.4951027678897, 179.16121543471615, 702.2417628760901, 114.69033743271649, 183.99058145579605, 225.99737662802931, 276.21291107373065, 1024.1730842687782, 588.4514009630889, 593.6964211027055, 255.27444254706793, 475.5948646276103, 389.26448635933093, 202.13515262631176, 340.18227752435234, 333.9281181900332, 312.33558354440373, 363.49166970953684, 521.425728350301, 1254.335939277561, 224.12566891381982, 424.40495898107883, 332.66199134689566, 583.4900627101717, 763.2051297755501, 384.60812862737527, 463.57339403581176, 227.59878993730263, 1060.385846157648, 322.1356387286095, 336.8811850549585, 348.2386150224621, 1128.2199685205926, 452.6022688650079, 470.2547356290932, 678.870799604244, 439.2903713910839, 523.3416017834285, 390.84312209525945, 353.6712334717324, 356.2603749498535, 344.626596092299, 46.528501552166446, 34.487841192474576, 36.984965912428315, 32.76774313739513, 32.767739907084575, 30.187611256927436, 29.327563138432723, 29.26968054353563, 26.74737499109227, 25.027339092119977, 24.167300028981256, 24.167290872432634, 38.339417241751136, 128.2838402032606, 23.30721388519259, 22.447203021637723, 22.44719428422218, 22.447190228335465, 22.447166810734036, 21.58713353238549, 20.72707743631928, 25.675510034658302, 19.86705476617837, 22.338861362426584, 19.844768787584933, 19.0070084095538, 19.00598481866736, 32.22143305919314, 18.146951954285175, 21.431157336776153, 110.01487060109878, 109.90739188294182, 55.278116834427244, 234.1688659290405, 31.70356987977419, 83.98208503711867, 537.6528166556474, 219.95083459056107, 93.95414341438808, 344.6858273151553, 37.027935388433406, 198.0245336281157, 39.1467550930646, 268.51300293089275, 87.86726303881066, 236.40229609635801, 55.99592810484921, 184.28247466401382, 173.0870335689836, 503.4840825682403, 367.11002284372955, 195.43434989159127, 160.24838885417861, 196.32457448963476, 605.0356529594881, 92.41075233597722, 246.05041737711252, 149.1150880074132, 508.08550233081564, 356.1646922092207, 252.7207495025974, 230.08945894212061, 283.1573001358274, 411.82479694071924, 317.2671326245418, 405.4105881968106, 339.0249331818214, 440.9026486226818, 224.4588579382058, 315.23979993711066, 483.12782025708793, 369.30071222239803, 311.63133138497057, 1418.300344357204, 382.50912809913484, 441.0963304666375, 434.20655148085854, 604.965464871992, 407.87167641356103, 646.949277726459, 611.5445063642914, 409.5675691911698, 399.3294547028671, 633.0550840077404, 525.6791455313974, 325.3826422010612, 316.5789300215546, 224.9595283559832, 128.82913878035382, 62.784343022567484, 61.11232796020428, 61.112268730480196, 59.440308723711944, 59.440306921326375, 59.44030692132639, 59.440241195892256, 58.60429894121629, 58.60429871703738, 57.76828954999497, 57.76828901046186, 56.93227885618653, 56.93227857193124, 56.096268656275456, 56.09626852606068, 55.26025870371417, 55.260258656830686, 55.26022222652386, 54.42424860869095, 53.58823794438342, 90.74383154446168, 52.75222824488141, 51.91621881082161, 50.24419853694097, 50.244196986143905, 47.73616419864444, 46.90015834539213, 46.900155495249614, 80.57374736904865, 166.5096969082721, 81.89039879957768, 108.46498062484116, 106.50927162628614, 185.0210451165432, 76.56116913533333, 91.77434916480439, 94.71178131499568, 81.49955673262177, 222.89994302412944, 201.0229359173646, 168.51318451811352, 205.5235178140914, 125.26459244298788, 92.6155781962924, 94.36613778239499, 66.2183867192775, 119.16094440177231, 1865.0229680174064, 335.4882299911665, 243.02531322305614, 575.8300101590228, 77.81124977325497, 97.00394887050511, 988.086240325482, 106.04481401440587, 449.1439910344304, 1642.9848183887802, 286.89494864872495, 202.18837254492226, 485.0681951213881, 344.03880840094143, 123.89829896136177, 112.93369062004587, 126.96875114930192, 536.0818956997613, 398.80085375307317, 205.86298235015119, 219.1140790217762, 227.0536284497395, 1062.3976306797588, 407.53576918050817, 451.8311425932767, 427.74623983269635, 405.9202720148619, 257.6190719675616, 461.045577095329, 281.0527588473153, 376.1312297487254, 228.4145755135521, 528.2505362784605, 242.89218000899712, 298.0609780216442, 248.363855796881, 233.09931669227575, 240.09590245827974, 241.66945074014052, 234.95468567078294, 230.1905850204715, 90.83782644084296, 89.20258382941448, 88.38495130586695, 86.74971561234798, 76.12062951792137, 72.0325317431149, 56.497690243036004, 49.13908791939191, 36.05714169895864, 33.60425706562817, 31.96903527019398, 31.969005975364155, 31.15141245136794, 31.151125559906454, 89.52484577950173, 30.333790024752357, 28.69854259735345, 27.880910441596825, 60.57751326995828, 26.245678498947843, 26.245666108972642, 26.24566395331143, 25.42804240238176, 84.28579256800522, 24.610433094574198, 24.61042506977422, 24.610421259878056, 24.610384367744896, 23.792811465518984, 22.975171544567186, 56.866583057508684, 77.34186066067466, 64.9631524796559, 76.47922728195864, 78.41879244286679, 70.54110932308446, 80.38856120377955, 249.43359434623932, 76.47662559570952, 46.636528368452296, 164.44515342564858, 128.01892839439677, 192.3167787626612, 339.3043748485682, 77.19071668307392, 110.50814857154218, 110.37904056465203, 174.35389724263044, 245.44746010284018, 1177.7418009656562, 198.48699106655792, 259.57973576240795, 239.922563947393, 321.9198617025073, 805.4573646547367, 127.29165936222113, 307.88733434569497, 321.7378027968295, 205.83736899312095, 215.5310192872554, 303.0194479358473, 364.0087133610389, 264.3950863127597, 503.4815967547282, 255.23864127720898, 583.1773483542765, 183.8737748815973, 206.46081750982836, 178.7070157717312, 224.5165505368888, 232.44433179960913, 199.58378810402615, 186.75791618732094, 288.13944968579636, 222.91955649481096, 189.3750743191668, 182.8198755066831, 185.8076554384179, 20.720666523295733, 19.895146645937505, 18.244088378935682, 16.593055484307563, 15.767527422177432, 14.941997118808722, 14.941986834359161, 14.941982028525459, 14.116485477096889, 14.116475190711613, 13.290960010597297, 13.290958954722726, 13.29095661217269, 13.290951338185046, 13.290930007255799, 13.290919840823051, 12.465434027499603, 12.46543213870958, 12.46543150610679, 12.46542270622618, 12.465420326693392, 12.46541675915711, 30.480278426615108, 11.63990576682661, 11.639905679460488, 11.639900937202428, 11.639900937202428, 11.639898666196057, 11.639871193314045, 11.639849902308603, 26.427877788593012, 81.21997205983212, 28.62051224314827, 41.608506602577904, 21.816504235491802, 29.348762229342505, 29.348521797273953, 1161.8795272996012, 20.72071770312552, 22.03712738049974, 29.250493872175948, 29.250422783756402, 20.494887426125903, 27.33397045333176, 116.0760150718685, 31.39567757114093, 68.18013637465383, 83.13683780520456, 110.17058582660876, 64.9320200293894, 130.3102807792492, 106.75208255140053, 415.98060213809794, 29.465317244775374, 108.90772643710312, 53.99667529182608, 50.215294680405215, 160.9414699286612, 171.27373948822347, 93.56659806023153, 324.01122982308084, 57.92291016295637, 56.28918528462271, 402.89955742066104, 1219.405427991511, 109.51956811266544, 189.99322043177952, 638.3496406699774, 169.8393214772878, 265.2224932384028, 86.22309862785629, 136.77774737856618, 292.9662285843394, 248.73763563664724, 116.77792204805951, 221.1571521081347, 174.21839536850786, 436.5878677752023, 191.85431341394406, 195.7048424589432, 242.82418343725467, 132.3206142350016, 205.85279256008835, 155.6330619794474, 202.70191227360925, 183.29588744528183, 145.59555512478286, 126.52943833194816, 133.8903671470352, 131.58333565387701, 128.33367084101147, 64.40843620676765, 257.9308630753147, 286.9478827293422, 39.48122639742787, 38.67679326850301, 33.852533818398776, 34.632747331816184, 48.69618415867282, 36.84356773009236, 29.02795600849517, 27.41978876334681, 632.5677078362988, 25.007525508777245, 610.965078961472, 23.399317408123686, 23.399299588985276, 20.987005571660884, 20.986797146378525, 20.97625472248597, 20.974978673049492, 20.18292556539978, 21.725254693142674, 21.705707093922726, 19.378797266140793, 18.574699155156463, 17.76985816282543, 21.56930379535899, 16.966496453877234, 16.96559482771566, 18.47185755068918, 60.24085783269177, 51.78813788871828, 250.74100823654177, 207.19056625432287, 352.9410218842766, 203.43718550929634, 282.83535203611007, 38.55247668070352, 46.370689974337466, 261.6685377981587, 70.2696789833878, 45.386622180806064, 302.05193743906807, 49.101142213704705, 177.763355703915, 65.05174855926786, 44.56847171177735, 74.75642016677912, 1368.610684190517, 180.56644788682064, 796.0003721713944, 451.5029937322919, 130.76183253338488, 195.78509028462784, 332.95328301205905, 166.6323713621589, 467.2952091940023, 95.92717835637922, 526.2955299938209, 520.3643750487333, 108.09088800090221, 321.6670613900941, 165.25832308311118, 258.5549533000029, 149.70700460023485, 343.5613810877535, 165.60733828389283, 260.7635878705743, 256.8249049935284, 358.01108360872075, 254.06537657371607, 418.62701659962494, 270.15151380106016, 297.4108745842716, 316.76357485716716, 316.3147269858003, 292.2870177056479, 48.90425150392443, 36.50494952609159, 24.879161480940784, 51.77787735300889, 19.453774496353507, 18.678741809235273, 18.678721348891674, 18.621786163145273, 17.128645339993945, 16.353598489878657, 16.340742538353155, 14.803473430304827, 13.253274335597329, 13.251906254174223, 12.478337065240726, 12.478322504465869, 12.47832312311067, 12.478317111559218, 23.447007119576504, 71.1544599026649, 11.703286426734362, 11.70328585716117, 11.703271170494684, 11.703262485402396, 23.311000195973477, 10.928237139081507, 10.928237139081507, 10.92823065088085, 10.928223324847139, 86.74340102368966, 45.297529966437956, 42.89413721557229, 88.40140545680376, 29.319326349059594, 172.74028919942725, 37.141142758206584, 23.44758354360193, 39.61853093550395, 633.766561708602, 71.67730224972594, 138.56121284265507, 235.79199265786437, 450.766944912685, 27.828382014771794, 106.16610996152745, 33.525690514327216, 457.9145206306877, 249.0772859302633, 1175.7358623477687, 684.0974024428534, 49.02817078675424, 106.36533643541883, 973.9810996526194, 92.25001763063132, 66.72288565305305, 59.81859801060344, 138.697419968569, 112.00722768678588, 59.78444374609942, 102.83005834490432, 505.5954502273235, 629.0347685043392, 252.19777176158462, 246.94398494381122, 205.9055504637183, 147.86319527536955, 339.20599984663727, 119.43155836360953, 137.44483827692287, 174.5069634828377, 218.3992698313933, 113.18472796776523, 142.94715967927206, 129.61154508116175, 134.90697214627065, 126.67492579141606, 114.56885920253873, 118.43554623559129, 112.2604999078945, 20.505686783652997, 20.505686783652997, 19.046192690893776, 22.56519732765358, 16.127248324499213, 15.397499016967036, 13.938029094924941, 12.478549183087235, 11.748802003986384, 11.019069666753335, 11.019068868575419, 11.019052470172083, 11.019032139456995, 11.018752241177797, 11.665549654375411, 10.289330378976862, 10.289330378976862, 10.289327497206395, 10.289324029408284, 10.28930473278285, 10.289302385471817, 9.559590635785467, 9.559590635785467, 9.559590635785467, 9.559590635785467, 9.559590635785467, 9.559590635785467, 9.559590635785467, 9.559590635777093, 9.559587140901831, 19.40881250420588, 54.967316391465644, 13.065237696240144, 431.397784132347, 21.959331232325113, 21.09972192286785, 13.208297491716573, 23.26706162335655, 22.590443663521807, 501.60869811617323, 35.43540332308482, 32.961951964490446, 31.084547835321654, 602.825228981081, 24.37768615954702, 66.69988425312533, 35.96682980741637, 207.90908907529845, 26.391314678117435, 23.965862817037593, 55.28831624559095, 32.47987173800227, 135.83071618801847, 26.115250816672845, 40.629516613462656, 277.12637307792306, 48.752258589393726, 117.45288458541926, 55.49150824390116, 66.39647807785865, 322.0757113394383, 302.51788809106506, 128.23808269639585, 69.59706589434809, 105.84822157920976, 118.86325518575799, 147.54855278513975, 55.23274770823363, 122.06072628541882, 139.47206675819163, 63.04684156416648, 124.76792882949803, 60.96803961001649, 116.47233364036713, 181.93824439499141, 114.52276160288272, 115.7943444835116, 102.8253318274083, 87.76523865575855, 155.58458763192698, 107.57040644618392, 95.16489413697084, 159.1778219625336, 84.73867651184167, 83.56222532466766, 84.0796252509642, 74.49627130556493, 15.97755526355155, 14.651612958210862, 13.325684536164689, 12.662720950229145, 12.662720152950397, 12.662719050339502, 12.662706568980584, 16.429842000341434, 11.336783682148411, 11.336783682148411, 11.33677142647202, 10.673813876173323, 9.347874264218206, 9.34786940827961, 9.347868139473743, 9.34772568795357, 8.684894897543163, 8.653240909232407, 8.021925376862862, 8.021917706971957, 8.021914727277537, 8.006612136599605, 7.358964846294286, 7.35896201576378, 7.358961897355674, 7.358961897355674, 7.358959835598099, 7.35894995691759, 7.358949694001923, 7.358945018172331, 17.180347549700368, 13.239416281140421, 8.536616670385849, 17.762084353154943, 9.064392957384703, 18.359846034522235, 15.85783502110106, 89.4525738002222, 48.36126263701, 20.944824862457224, 20.083461362333285, 144.2132436316979, 84.42400753101857, 29.17590195299212, 275.81817311796885, 73.85624172726864, 21.737608013454974, 126.67278850589149, 37.468809063202116, 47.25874049996222, 170.04327521117298, 153.15462860374774, 49.81332864877968, 94.04743119275952, 115.84899108007639, 62.88727839939204, 46.20867426345087, 86.91417211553073, 36.6863655458319, 55.40010375456876, 89.49513295642316, 153.256499179506, 187.10811402074214, 89.04215237618762, 80.22328778156536, 48.495388406219085, 47.030707513906144, 60.03220190992911, 98.246980747604, 40.005890538155725, 48.406125575518004, 80.62984570441674, 64.36366081666897, 56.3007971099397, 56.04534514395758, 48.35473316899079], \"Total\": [3508.0, 2441.0, 1960.0, 1890.0, 4774.0, 1210.0, 929.0, 4335.0, 983.0, 1396.0, 753.0, 650.0, 629.0, 1259.0, 1237.0, 1052.0, 1048.0, 1363.0, 900.0, 714.0, 808.0, 694.0, 1293.0, 730.0, 720.0, 1465.0, 649.0, 1805.0, 880.0, 1232.0, 402.20546357345324, 165.37378351879067, 202.88565889905738, 119.69005971656551, 116.03221022353415, 87.68386278259821, 211.74402478951558, 164.37798785680462, 76.70613674150552, 70.30917271873261, 160.7120567904134, 152.47503718883905, 74.86415188814742, 85.82247707853085, 54.763369798428926, 102.96578662072946, 135.07666881585183, 53.83967979051058, 51.10548597591731, 51.104052642589764, 50.19107179315358, 50.19106812182251, 50.19106858764707, 49.27407632694004, 48.36214844977265, 175.10596226795838, 47.44768175180407, 204.4748908305698, 45.618763139807264, 52.90922399698473, 159.78212960765546, 173.26548103006843, 81.21243647003007, 214.39499766531037, 124.08151534021214, 316.7854205712035, 274.7637621418598, 164.33137004859245, 183.3611659635261, 1363.0589878338117, 187.74961169169669, 163.00060617402656, 203.2339891238558, 275.87996664302074, 123.9313094114231, 675.8826366797291, 527.7019743473696, 880.4892667509428, 778.8264649336768, 1022.8204951289633, 1123.8738584821722, 1407.6862262417026, 436.49782085268816, 358.14484351456593, 1533.1192100988053, 342.4417674990948, 381.9693042363272, 10545.752049157552, 1312.4545830297475, 1756.2914509685183, 1615.283998400386, 2014.385969967113, 283.71526160286766, 1382.4048059418426, 5777.109182042339, 1805.7772331584802, 704.3313967969798, 804.6628018214624, 886.0129607977578, 728.8694295151289, 701.2783419129644, 1960.6187016033682, 1293.629625138119, 632.1478921905563, 2159.278165346938, 5848.50321439063, 1330.7117134228217, 1155.4382637690878, 4335.114037406404, 1278.8919615091586, 2592.5888395002316, 2584.343920073509, 1526.229160526796, 2173.1150203793527, 197.13516022677803, 361.8315265331635, 99.85848332787823, 98.97840000968468, 92.84265586963787, 131.4346156124441, 71.80941436527063, 106.84502442908428, 66.55021459407088, 62.16754747642596, 61.29101242286533, 60.41447951189934, 53.402211115227644, 49.89607812423255, 93.61962570130117, 44.63687850794912, 44.636878460729775, 49.897077892385774, 43.76034505470287, 42.883811115730644, 74.34555269878035, 97.16546919032085, 58.67907214691949, 36.74806816492706, 35.87154354524622, 134.77501884354342, 34.99500939398204, 84.98407892052825, 33.24194164318081, 33.24182727187382, 437.09791616741535, 176.0916088453474, 694.7768035920159, 90.34312528699908, 351.4987001514038, 152.07237517604844, 193.0459636270836, 808.9017248792328, 121.48082405133405, 200.32898930247896, 249.1733195551347, 311.2605542946748, 1259.214161931814, 726.360285655416, 756.7538976293572, 299.4876585867035, 613.435092014008, 504.3647913895286, 242.83366866484695, 454.86920326730734, 445.4540179757894, 411.85529736690006, 499.52934948307, 836.0014424440071, 2584.343920073509, 292.754398979212, 681.0425759444616, 492.2752880303157, 1087.6836837725148, 1593.087411628217, 643.3640894708002, 878.6277469602314, 300.0118414047237, 4774.390482316735, 578.826347121059, 674.5933224817903, 765.6698336558352, 10545.752049157552, 1566.5674004275254, 1808.2712335860867, 5777.109182042339, 1756.2914509685183, 5848.50321439063, 2014.385969967113, 1052.5919444779531, 2173.1150203793527, 1330.7117134228217, 47.25270738942807, 35.212057660798315, 37.78810081155095, 33.49196483726526, 33.49196505163664, 30.911826317799797, 30.051779724771748, 30.04892506528941, 27.471638746402764, 25.751548704052485, 24.89150309593395, 24.89150201328445, 39.490158329868095, 132.23011004047902, 24.031454993777352, 23.171409868411452, 23.171409331498698, 23.17140951968262, 23.171408712380103, 22.31136325262589, 21.451315354645505, 26.601143598637105, 20.5912708420077, 23.166066140765828, 20.586165374093294, 19.731223300135643, 19.73117316656608, 33.465092074004, 18.871176830353075, 22.305102232423234, 114.94521991316502, 115.7096531373212, 58.313395108701904, 258.4612015371177, 33.431955628713396, 92.38259435125907, 649.5376728060662, 254.48943849422028, 105.18766610024382, 420.97419620748803, 39.419842175489045, 237.873044927032, 41.98284980015354, 337.83020465723314, 100.83918575135013, 296.9997169097615, 62.51006131928221, 233.29495694420007, 219.7072653551663, 720.5173442141526, 510.2988376140977, 252.68522923699993, 206.57523751080217, 262.27472696312753, 1048.7337382160283, 116.40334849529283, 376.77377661711046, 207.6618175923771, 945.9875695095091, 612.8988675536419, 402.4605441516334, 358.81818233609283, 481.7988323279783, 780.9245576987228, 563.1956949007216, 777.3248245342074, 624.6743343099992, 912.0968740213483, 364.78024038121737, 605.5028005593572, 1232.8324907619563, 809.5189617283922, 637.7945437768597, 10545.752049157552, 977.2123983263224, 1289.7602023543345, 1293.629625138119, 2592.5888395002316, 1312.882238789402, 4774.390482316735, 4335.114037406404, 1481.9903868585131, 1465.9206305688801, 5848.50321439063, 5777.109182042339, 1566.5674004275254, 1342.7790752476826, 225.6978956506598, 129.55574787930135, 63.510957046436744, 61.83893690289888, 61.83893498887734, 60.16691684608472, 60.16691672269088, 60.16691672269089, 60.166913239946695, 59.33090688631599, 59.33090684134536, 58.494896849647496, 58.494896861358335, 57.65888684007244, 57.6588867784818, 56.82287679443799, 56.82287676801533, 55.98686678678658, 55.98686675975751, 55.98686388694998, 55.150856766661825, 54.31484662698412, 91.97891457540945, 53.478836683520626, 52.642826752817214, 50.97080667326588, 50.970806609299025, 48.46277611303028, 47.62676661293378, 47.62676627558598, 81.92050035854858, 171.05584262967437, 83.55292582254893, 111.01974366734734, 109.38932600190456, 193.3290164437051, 78.46643642262819, 95.07675286635305, 98.39114420482436, 84.25188514942982, 243.98877944381567, 219.29102087505365, 182.3604549768308, 228.9292495209135, 141.71743281435369, 100.56345633999176, 102.84641529477503, 68.46187158922855, 135.82655932573513, 3508.4108828805665, 462.701331516368, 316.26644645172433, 900.2646292115234, 83.07807606092612, 108.58553616907643, 1890.5928920023778, 122.46906310622587, 753.0874350765997, 4335.114037406404, 449.7733780220545, 286.63031637013614, 983.0253174670638, 629.6489165028567, 153.7911774806002, 134.8847826003266, 160.87513585708805, 1465.9206305688801, 930.2205630247819, 337.5083796377231, 377.33709519872303, 424.8093683323797, 5848.50321439063, 1159.1859227929094, 1481.9903868585131, 1438.9155817526716, 1312.882238789402, 619.4636879658083, 2173.1150203793527, 766.5804887190618, 2159.278165346938, 485.8697461401794, 10545.752049157552, 613.8132041362289, 5777.109182042339, 1395.1191452337325, 774.2886802761531, 1379.0755849015172, 2584.343920073509, 1289.7602023543345, 1342.7790752476826, 91.5662931194126, 89.93104825532794, 89.11342635982419, 87.4781811307246, 76.84908970338222, 72.76097724321896, 57.226152144283205, 49.86755081056416, 36.78559145397915, 34.332725358616365, 32.69747968377405, 32.697479452692384, 31.87985729893409, 31.879872015995563, 91.63441972778713, 31.062234900406537, 29.426990022460526, 28.609368063658522, 62.17474122530468, 26.97412288118718, 26.974123338885565, 26.97412335950634, 26.156500878765208, 86.76549635619881, 25.338878105763605, 25.338878097189188, 25.33887841595977, 25.338878379620752, 24.52125567888748, 23.703633956793244, 60.70570423777712, 85.46863340841045, 71.34947128115937, 88.0110853396171, 91.35063252338504, 81.4388245249151, 94.68861249755744, 341.94232445540337, 94.03154458660424, 52.83746172659224, 246.60220659086067, 182.71245435664054, 329.08322990833364, 686.2709225489473, 102.59495590022252, 164.50964349656778, 165.37638948776979, 316.30179177503175, 504.5392372585412, 4774.390482316735, 400.2785262064832, 624.6743343099992, 563.1956949007216, 1048.7337382160283, 5848.50321439063, 246.75038964265292, 1342.7790752476826, 1465.9206305688801, 642.9106521742483, 720.5173442141526, 1593.087411628217, 2592.5888395002316, 1293.629625138119, 5777.109182042339, 1232.8324907619563, 10545.752049157552, 605.5028005593572, 857.1256981095185, 637.7945437768597, 1289.7602023543345, 1481.9903868585131, 945.9875695095091, 774.2886802761531, 4335.114037406404, 2173.1150203793527, 1191.2606352806815, 912.0968740213483, 2159.278165346938, 21.44834290267998, 20.622818048609428, 18.971766498370556, 17.320715746231297, 16.495190807486996, 15.669664713048444, 15.669664489155725, 15.669664661401717, 14.844138989949258, 14.844137825946293, 14.018613523450078, 14.01861363719365, 14.01861386033095, 14.018613886090305, 14.018614799555909, 14.018612074727312, 13.193088088868008, 13.193088316076903, 13.193088384229902, 13.19308762418038, 13.19308807155716, 13.193085383559948, 32.28491313387894, 12.367562504524146, 12.367562956528005, 12.367563221460303, 12.367563221460303, 12.3675627676104, 12.36756389224887, 12.367565120708528, 28.149181335656916, 89.64420743639499, 31.57080773698381, 46.6318765120972, 24.07366874928946, 33.321273344230356, 33.32129924633533, 1960.6187016033682, 23.20140141482773, 24.96436089830761, 35.05611655193306, 35.05612485054559, 23.30158869305581, 32.623862520877644, 180.10395715034633, 38.58751230095129, 98.0953280204338, 124.71824168110206, 176.31735129272718, 93.36571900343782, 238.22338730828884, 187.67011243432975, 1155.4382637690878, 37.573240842740496, 207.94588446730046, 83.04256370813275, 75.92889656285556, 362.98098983827623, 411.94234558102437, 179.95996217720128, 1038.9021752160202, 94.63057540741183, 93.01300537955316, 1805.7772331584802, 10545.752049157552, 289.0549372100083, 728.8694295151289, 5848.50321439063, 672.0294250529691, 1615.283998400386, 220.86258070653378, 504.5392372585412, 2014.385969967113, 1526.229160526796, 393.33451999053773, 1382.4048059418426, 880.4892667509428, 5777.109182042339, 1123.8738584821722, 1237.2407454007146, 2010.3335122889303, 560.4155011608977, 2159.278165346938, 950.4290132036386, 2584.343920073509, 1808.2712335860867, 1395.1191452337325, 766.5804887190618, 1312.4545830297475, 1203.4857180316567, 1379.0755849015172, 65.13825563187514, 262.6178054600248, 292.2385434967173, 40.211121549310576, 39.40699769440226, 34.582434391814736, 35.384316582536705, 49.82017849103105, 37.7592638556485, 29.75781932018023, 28.14962736402508, 650.9060463740096, 25.737325420971008, 629.1609707439253, 24.12912425678978, 24.12912227337055, 21.71682191229116, 21.716836512938638, 21.715827371937607, 21.715710792082998, 20.912721646187425, 22.514835785065888, 22.505932683033425, 20.108621381149916, 19.304520602306805, 18.50039134678768, 22.48523231085747, 17.69632134957143, 17.696356288980862, 19.30080510344864, 63.3262413572963, 54.48455060122766, 270.45243566283955, 223.7275760655454, 390.78759007845673, 223.02220086067962, 314.42551642504196, 40.85497861964537, 49.605200886912115, 303.0319566728115, 76.79547553651686, 48.78444233682014, 365.14624592421706, 53.506352215627324, 214.2902173281171, 72.73896727436043, 48.708718027406235, 87.89160458323036, 2441.9949219332952, 240.97621076974124, 1396.466338975162, 730.9757437547294, 180.8503864341596, 298.2419406587701, 615.7373259752056, 258.62240533804606, 1007.4062204169406, 127.89167518462654, 1210.6022316391493, 1237.2407454007146, 151.0029278543048, 753.7216891815007, 295.0154384481985, 590.1630852090503, 255.33615029609, 950.4290132036386, 305.8040818201923, 732.8746271215246, 819.5561456476813, 2010.3335122889303, 1038.9021752160202, 5777.109182042339, 1533.1192100988053, 2592.5888395002316, 4335.114037406404, 10545.752049157552, 5848.50321439063, 49.63858548691673, 37.23766413890608, 25.61187992297641, 53.628244174468826, 20.1865126516761, 19.411461879452045, 19.41146285107258, 19.415938928501763, 17.861356855538197, 17.086304098810142, 17.087011543392954, 15.536201326904752, 13.986103703845837, 13.98621164805376, 13.211042703004058, 13.211043336535232, 13.211044143414457, 13.211044271994593, 24.895455525606295, 75.57961073433196, 12.43599040832935, 12.435990476607882, 12.435991270004921, 12.435991742301974, 24.790459322014645, 11.660937970642962, 11.660937970642962, 11.660938480497238, 11.660939212839367, 92.69832030894297, 49.06285538466004, 46.76727543629514, 98.70295996781849, 31.954036412617956, 205.64581710168966, 41.539547145663235, 25.72447293189351, 45.33688166270222, 929.636894599152, 87.55861265464742, 185.9865454085085, 337.06321383070025, 714.0219502410174, 32.06799936570189, 154.00826051465748, 40.53387305153807, 983.0253174670638, 485.8697461401794, 3508.4108828805665, 1890.5928920023778, 67.28013146907384, 185.17982530209758, 4774.390482316735, 180.07730145861308, 114.05117684046941, 99.133366619177, 423.9119729263454, 305.8040818201923, 109.73688930595277, 295.0154384481985, 5777.109182042339, 10545.752049157552, 1808.2712335860867, 2010.3335122889303, 1395.1191452337325, 753.0874350765997, 5848.50321439063, 491.10881427326774, 730.9757437547294, 1438.9155817526716, 4335.114037406404, 466.5093918278624, 1210.6022316391493, 833.9535554115813, 1223.9476511672906, 1526.229160526796, 772.7891910865154, 2592.5888395002316, 1039.2149755007197, 21.242918868831225, 21.242918868831225, 19.783441158994396, 23.44535502640168, 16.864480409683587, 16.134741748545252, 14.675261180109526, 13.215781755684695, 12.486042835478246, 11.756302253749944, 11.756302431185029, 11.756304006077652, 11.75630762551996, 11.756334657345326, 12.494525705976955, 11.02656246415193, 11.02656246415193, 11.026562757803669, 11.02656329759105, 11.026566862597369, 11.026566287950212, 10.296822720960556, 10.296822720960556, 10.296822720960556, 10.296822720960556, 10.296822720960556, 10.296822720960556, 10.296822720960556, 10.296822720961291, 10.29682355573093, 21.143095398024016, 69.85018973577935, 14.595406500580632, 753.7216891815007, 26.216847339373057, 25.20288951541476, 14.859979098432845, 29.079951231793444, 28.278330976767887, 1210.6022316391493, 49.52853960520542, 46.50893951822563, 46.7002478645603, 2441.9949219332952, 34.48437809297728, 132.31897755877353, 62.28475397630656, 787.4305840714359, 41.44756800977817, 36.168236414390364, 124.3518272508881, 56.99075017573776, 528.2715211124877, 42.529951928001424, 87.54329785073428, 2010.3335122889303, 125.36099600902085, 590.1630852090503, 168.79119907485506, 252.81358869792408, 5848.50321439063, 5777.109182042339, 1007.4062204169406, 302.3574948766628, 730.9757437547294, 1052.5919444779531, 1808.2712335860867, 205.64910425836305, 1278.8919615091586, 1756.2914509685183, 278.36383258836224, 1382.4048059418426, 258.62240533804606, 1289.7602023543345, 4335.114037406404, 1330.7117134228217, 1593.087411628217, 1203.634848075823, 759.0483772253048, 4774.390482316735, 1585.017681625848, 1153.576890604549, 10545.752049157552, 819.5561456476813, 1203.4857180316567, 1533.1192100988053, 710.4179752184393, 16.721486378352417, 15.395545996027584, 14.069604370798729, 13.406633019653043, 13.406633065953615, 13.406633514212423, 13.406637024615591, 17.433602910650396, 12.08069276104529, 12.08069276104529, 12.080695348542337, 11.417722955070808, 10.091783343122927, 10.091784566823968, 10.091784968684841, 10.091820443421136, 9.428816769172537, 9.436577687775644, 8.765846413355607, 8.765848013560332, 8.765850455082047, 8.769601113268564, 8.102873925199145, 8.102874995184916, 8.102875022728362, 8.102875022728362, 8.102875596264887, 8.102877207176466, 8.102877740430445, 8.10287864801099, 18.963628959676097, 15.016789102211964, 9.463409646985244, 20.529256884651396, 10.157913798452643, 21.978253485374346, 19.22741893946435, 168.61327156115527, 88.7775692126776, 30.189855360680717, 28.707377033237897, 376.64947661849965, 192.91428776152918, 48.10822937864126, 1052.5919444779531, 186.66924891691687, 36.635299164085055, 759.0483772253048, 101.8933473566039, 174.05878031407244, 1808.2712335860867, 1805.7772331584802, 220.51127144350517, 836.0014424440071, 1396.466338975162, 422.68359422069415, 220.1442336084632, 878.6277469602314, 141.41082098460038, 381.0203209042368, 1438.9155817526716, 5848.50321439063, 10545.752049157552, 1593.087411628217, 1382.4048059418426, 348.2451070732041, 355.3127947285015, 819.5561456476813, 5777.109182042339, 282.4875888830429, 601.6127124915363, 4774.390482316735, 2010.3335122889303, 1159.1859227929094, 2159.278165346938, 804.6628018214624], \"Category\": [\"Default\", \"Default\", \"Default\", \"Default\", \"Default\", \"Default\", \"Default\", \"Default\", \"Default\", \"Default\", \"Default\", \"Default\", \"Default\", \"Default\", \"Default\", \"Default\", \"Default\", \"Default\", \"Default\", \"Default\", \"Default\", \"Default\", \"Default\", \"Default\", \"Default\", \"Default\", \"Default\", \"Default\", \"Default\", \"Default\", \"Topic1\", \"Topic1\", \"Topic1\", \"Topic1\", \"Topic1\", \"Topic1\", \"Topic1\", \"Topic1\", \"Topic1\", \"Topic1\", \"Topic1\", \"Topic1\", \"Topic1\", \"Topic1\", \"Topic1\", \"Topic1\", \"Topic1\", \"Topic1\", \"Topic1\", \"Topic1\", \"Topic1\", \"Topic1\", \"Topic1\", \"Topic1\", \"Topic1\", \"Topic1\", \"Topic1\", \"Topic1\", \"Topic1\", \"Topic1\", \"Topic1\", \"Topic1\", \"Topic1\", \"Topic1\", \"Topic1\", \"Topic1\", \"Topic1\", \"Topic1\", \"Topic1\", \"Topic1\", \"Topic1\", \"Topic1\", \"Topic1\", \"Topic1\", \"Topic1\", \"Topic1\", \"Topic1\", \"Topic1\", \"Topic1\", \"Topic1\", \"Topic1\", \"Topic1\", \"Topic1\", \"Topic1\", \"Topic1\", \"Topic1\", \"Topic1\", \"Topic1\", \"Topic1\", \"Topic1\", \"Topic1\", \"Topic1\", \"Topic1\", \"Topic1\", \"Topic1\", \"Topic1\", \"Topic1\", \"Topic1\", \"Topic1\", \"Topic1\", \"Topic1\", \"Topic1\", \"Topic1\", \"Topic1\", \"Topic1\", \"Topic1\", \"Topic1\", \"Topic1\", \"Topic1\", \"Topic1\", \"Topic1\", \"Topic1\", \"Topic1\", \"Topic1\", \"Topic2\", \"Topic2\", \"Topic2\", \"Topic2\", \"Topic2\", \"Topic2\", \"Topic2\", \"Topic2\", \"Topic2\", \"Topic2\", \"Topic2\", \"Topic2\", \"Topic2\", \"Topic2\", \"Topic2\", \"Topic2\", \"Topic2\", \"Topic2\", \"Topic2\", \"Topic2\", \"Topic2\", \"Topic2\", \"Topic2\", \"Topic2\", \"Topic2\", \"Topic2\", \"Topic2\", \"Topic2\", \"Topic2\", \"Topic2\", \"Topic2\", \"Topic2\", \"Topic2\", \"Topic2\", \"Topic2\", \"Topic2\", \"Topic2\", \"Topic2\", \"Topic2\", \"Topic2\", \"Topic2\", \"Topic2\", \"Topic2\", \"Topic2\", \"Topic2\", \"Topic2\", \"Topic2\", \"Topic2\", \"Topic2\", \"Topic2\", \"Topic2\", \"Topic2\", \"Topic2\", \"Topic2\", \"Topic2\", \"Topic2\", \"Topic2\", \"Topic2\", \"Topic2\", \"Topic2\", \"Topic2\", \"Topic2\", \"Topic2\", \"Topic2\", \"Topic2\", \"Topic2\", \"Topic2\", \"Topic2\", \"Topic2\", \"Topic2\", \"Topic2\", \"Topic2\", \"Topic2\", \"Topic2\", \"Topic2\", \"Topic2\", \"Topic2\", \"Topic3\", \"Topic3\", \"Topic3\", \"Topic3\", \"Topic3\", \"Topic3\", \"Topic3\", \"Topic3\", \"Topic3\", \"Topic3\", \"Topic3\", \"Topic3\", \"Topic3\", \"Topic3\", \"Topic3\", \"Topic3\", \"Topic3\", \"Topic3\", \"Topic3\", \"Topic3\", \"Topic3\", \"Topic3\", \"Topic3\", \"Topic3\", \"Topic3\", \"Topic3\", \"Topic3\", \"Topic3\", \"Topic3\", \"Topic3\", \"Topic3\", \"Topic3\", \"Topic3\", \"Topic3\", \"Topic3\", \"Topic3\", \"Topic3\", \"Topic3\", \"Topic3\", \"Topic3\", \"Topic3\", \"Topic3\", \"Topic3\", \"Topic3\", \"Topic3\", \"Topic3\", \"Topic3\", \"Topic3\", \"Topic3\", \"Topic3\", \"Topic3\", \"Topic3\", \"Topic3\", \"Topic3\", \"Topic3\", \"Topic3\", \"Topic3\", \"Topic3\", \"Topic3\", \"Topic3\", \"Topic3\", \"Topic3\", \"Topic3\", \"Topic3\", \"Topic3\", \"Topic3\", \"Topic3\", \"Topic3\", \"Topic3\", \"Topic3\", \"Topic3\", \"Topic3\", \"Topic3\", \"Topic3\", \"Topic3\", \"Topic3\", \"Topic3\", \"Topic3\", \"Topic3\", \"Topic3\", \"Topic3\", \"Topic3\", \"Topic3\", \"Topic3\", \"Topic3\", \"Topic3\", \"Topic3\", \"Topic4\", \"Topic4\", \"Topic4\", \"Topic4\", \"Topic4\", \"Topic4\", \"Topic4\", \"Topic4\", \"Topic4\", \"Topic4\", \"Topic4\", \"Topic4\", \"Topic4\", \"Topic4\", \"Topic4\", \"Topic4\", \"Topic4\", \"Topic4\", \"Topic4\", \"Topic4\", \"Topic4\", \"Topic4\", \"Topic4\", \"Topic4\", \"Topic4\", \"Topic4\", \"Topic4\", \"Topic4\", \"Topic4\", \"Topic4\", \"Topic4\", \"Topic4\", \"Topic4\", \"Topic4\", \"Topic4\", \"Topic4\", \"Topic4\", \"Topic4\", \"Topic4\", \"Topic4\", \"Topic4\", \"Topic4\", \"Topic4\", \"Topic4\", \"Topic4\", \"Topic4\", \"Topic4\", \"Topic4\", \"Topic4\", \"Topic4\", \"Topic4\", \"Topic4\", \"Topic4\", \"Topic4\", \"Topic4\", \"Topic4\", \"Topic4\", \"Topic4\", \"Topic4\", \"Topic4\", \"Topic4\", \"Topic4\", \"Topic4\", \"Topic4\", \"Topic4\", \"Topic4\", \"Topic4\", \"Topic4\", \"Topic4\", \"Topic4\", \"Topic4\", \"Topic4\", \"Topic4\", \"Topic4\", \"Topic4\", \"Topic4\", \"Topic4\", \"Topic4\", \"Topic4\", \"Topic4\", \"Topic4\", \"Topic4\", \"Topic4\", \"Topic4\", \"Topic4\", \"Topic4\", \"Topic4\", \"Topic4\", \"Topic4\", \"Topic4\", \"Topic5\", \"Topic5\", \"Topic5\", \"Topic5\", \"Topic5\", \"Topic5\", \"Topic5\", \"Topic5\", \"Topic5\", \"Topic5\", \"Topic5\", \"Topic5\", \"Topic5\", \"Topic5\", \"Topic5\", \"Topic5\", \"Topic5\", \"Topic5\", \"Topic5\", \"Topic5\", \"Topic5\", \"Topic5\", \"Topic5\", \"Topic5\", \"Topic5\", \"Topic5\", \"Topic5\", \"Topic5\", \"Topic5\", \"Topic5\", \"Topic5\", \"Topic5\", \"Topic5\", \"Topic5\", \"Topic5\", \"Topic5\", \"Topic5\", \"Topic5\", \"Topic5\", \"Topic5\", \"Topic5\", \"Topic5\", \"Topic5\", \"Topic5\", \"Topic5\", \"Topic5\", \"Topic5\", \"Topic5\", \"Topic5\", \"Topic5\", \"Topic5\", \"Topic5\", \"Topic5\", \"Topic5\", \"Topic5\", \"Topic5\", \"Topic5\", \"Topic5\", \"Topic5\", \"Topic5\", \"Topic5\", \"Topic5\", \"Topic5\", \"Topic5\", \"Topic5\", \"Topic5\", \"Topic5\", \"Topic5\", \"Topic5\", \"Topic5\", \"Topic5\", \"Topic5\", \"Topic5\", \"Topic5\", \"Topic5\", \"Topic5\", \"Topic5\", \"Topic5\", \"Topic6\", \"Topic6\", \"Topic6\", \"Topic6\", \"Topic6\", \"Topic6\", \"Topic6\", \"Topic6\", \"Topic6\", \"Topic6\", \"Topic6\", \"Topic6\", \"Topic6\", \"Topic6\", \"Topic6\", \"Topic6\", \"Topic6\", \"Topic6\", \"Topic6\", \"Topic6\", \"Topic6\", \"Topic6\", \"Topic6\", \"Topic6\", \"Topic6\", \"Topic6\", \"Topic6\", \"Topic6\", \"Topic6\", \"Topic6\", \"Topic6\", \"Topic6\", \"Topic6\", \"Topic6\", \"Topic6\", \"Topic6\", \"Topic6\", \"Topic6\", \"Topic6\", \"Topic6\", \"Topic6\", \"Topic6\", \"Topic6\", \"Topic6\", \"Topic6\", \"Topic6\", \"Topic6\", \"Topic6\", \"Topic6\", \"Topic6\", \"Topic6\", \"Topic6\", \"Topic6\", \"Topic6\", \"Topic6\", \"Topic6\", \"Topic6\", \"Topic6\", \"Topic6\", \"Topic6\", \"Topic6\", \"Topic6\", \"Topic6\", \"Topic6\", \"Topic6\", \"Topic6\", \"Topic6\", \"Topic6\", \"Topic6\", \"Topic6\", \"Topic6\", \"Topic6\", \"Topic6\", \"Topic6\", \"Topic6\", \"Topic6\", \"Topic6\", \"Topic6\", \"Topic6\", \"Topic6\", \"Topic6\", \"Topic6\", \"Topic6\", \"Topic6\", \"Topic6\", \"Topic6\", \"Topic6\", \"Topic6\", \"Topic6\", \"Topic6\", \"Topic6\", \"Topic7\", \"Topic7\", \"Topic7\", \"Topic7\", \"Topic7\", \"Topic7\", \"Topic7\", \"Topic7\", \"Topic7\", \"Topic7\", \"Topic7\", \"Topic7\", \"Topic7\", \"Topic7\", \"Topic7\", \"Topic7\", \"Topic7\", \"Topic7\", \"Topic7\", \"Topic7\", \"Topic7\", \"Topic7\", \"Topic7\", \"Topic7\", \"Topic7\", \"Topic7\", \"Topic7\", \"Topic7\", \"Topic7\", \"Topic7\", \"Topic7\", \"Topic7\", \"Topic7\", \"Topic7\", \"Topic7\", \"Topic7\", \"Topic7\", \"Topic7\", \"Topic7\", \"Topic7\", \"Topic7\", \"Topic7\", \"Topic7\", \"Topic7\", \"Topic7\", \"Topic7\", \"Topic7\", \"Topic7\", \"Topic7\", \"Topic7\", \"Topic7\", \"Topic7\", \"Topic7\", \"Topic7\", \"Topic7\", \"Topic7\", \"Topic7\", \"Topic7\", \"Topic7\", \"Topic7\", \"Topic7\", \"Topic7\", \"Topic7\", \"Topic7\", \"Topic7\", \"Topic7\", \"Topic7\", \"Topic7\", \"Topic7\", \"Topic7\", \"Topic7\", \"Topic7\", \"Topic7\", \"Topic7\", \"Topic7\", \"Topic7\", \"Topic7\", \"Topic8\", \"Topic8\", \"Topic8\", \"Topic8\", \"Topic8\", \"Topic8\", \"Topic8\", \"Topic8\", \"Topic8\", \"Topic8\", \"Topic8\", \"Topic8\", \"Topic8\", \"Topic8\", \"Topic8\", \"Topic8\", \"Topic8\", \"Topic8\", \"Topic8\", \"Topic8\", \"Topic8\", \"Topic8\", \"Topic8\", \"Topic8\", \"Topic8\", \"Topic8\", \"Topic8\", \"Topic8\", \"Topic8\", \"Topic8\", \"Topic8\", \"Topic8\", \"Topic8\", \"Topic8\", \"Topic8\", \"Topic8\", \"Topic8\", \"Topic8\", \"Topic8\", \"Topic8\", \"Topic8\", \"Topic8\", \"Topic8\", \"Topic8\", \"Topic8\", \"Topic8\", \"Topic8\", \"Topic8\", \"Topic8\", \"Topic8\", \"Topic8\", \"Topic8\", \"Topic8\", \"Topic8\", \"Topic8\", \"Topic8\", \"Topic8\", \"Topic8\", \"Topic8\", \"Topic8\", \"Topic8\", \"Topic8\", \"Topic8\", \"Topic8\", \"Topic8\", \"Topic8\", \"Topic8\", \"Topic8\", \"Topic8\", \"Topic8\", \"Topic8\", \"Topic8\", \"Topic8\", \"Topic8\", \"Topic8\", \"Topic8\", \"Topic8\", \"Topic8\", \"Topic8\", \"Topic9\", \"Topic9\", \"Topic9\", \"Topic9\", \"Topic9\", \"Topic9\", \"Topic9\", \"Topic9\", \"Topic9\", \"Topic9\", \"Topic9\", \"Topic9\", \"Topic9\", \"Topic9\", \"Topic9\", \"Topic9\", \"Topic9\", \"Topic9\", \"Topic9\", \"Topic9\", \"Topic9\", \"Topic9\", \"Topic9\", \"Topic9\", \"Topic9\", \"Topic9\", \"Topic9\", \"Topic9\", \"Topic9\", \"Topic9\", \"Topic9\", \"Topic9\", \"Topic9\", \"Topic9\", \"Topic9\", \"Topic9\", \"Topic9\", \"Topic9\", \"Topic9\", \"Topic9\", \"Topic9\", \"Topic9\", \"Topic9\", \"Topic9\", \"Topic9\", \"Topic9\", \"Topic9\", \"Topic9\", \"Topic9\", \"Topic9\", \"Topic9\", \"Topic9\", \"Topic9\", \"Topic9\", \"Topic9\", \"Topic9\", \"Topic9\", \"Topic9\", \"Topic9\", \"Topic9\", \"Topic9\", \"Topic9\", \"Topic9\", \"Topic9\", \"Topic9\", \"Topic9\", \"Topic9\", \"Topic9\", \"Topic9\", \"Topic9\", \"Topic9\", \"Topic9\", \"Topic9\", \"Topic9\", \"Topic9\", \"Topic9\", \"Topic9\", \"Topic9\", \"Topic9\", \"Topic9\", \"Topic9\", \"Topic9\", \"Topic9\", \"Topic9\", \"Topic9\", \"Topic9\", \"Topic9\", \"Topic10\", \"Topic10\", \"Topic10\", \"Topic10\", \"Topic10\", \"Topic10\", \"Topic10\", \"Topic10\", \"Topic10\", \"Topic10\", \"Topic10\", \"Topic10\", \"Topic10\", \"Topic10\", \"Topic10\", \"Topic10\", \"Topic10\", \"Topic10\", \"Topic10\", \"Topic10\", \"Topic10\", \"Topic10\", \"Topic10\", \"Topic10\", \"Topic10\", \"Topic10\", \"Topic10\", \"Topic10\", \"Topic10\", \"Topic10\", \"Topic10\", \"Topic10\", \"Topic10\", \"Topic10\", \"Topic10\", \"Topic10\", \"Topic10\", \"Topic10\", \"Topic10\", \"Topic10\", \"Topic10\", \"Topic10\", \"Topic10\", \"Topic10\", \"Topic10\", \"Topic10\", \"Topic10\", \"Topic10\", \"Topic10\", \"Topic10\", \"Topic10\", \"Topic10\", \"Topic10\", \"Topic10\", \"Topic10\", \"Topic10\", \"Topic10\", \"Topic10\", \"Topic10\", \"Topic10\", \"Topic10\", \"Topic10\", \"Topic10\", \"Topic10\", \"Topic10\", \"Topic10\", \"Topic10\", \"Topic10\", \"Topic10\", \"Topic10\", \"Topic10\", \"Topic10\", \"Topic10\", \"Topic10\", \"Topic10\", \"Topic10\"], \"logprob\": [30.0, 29.0, 28.0, 27.0, 26.0, 25.0, 24.0, 23.0, 22.0, 21.0, 20.0, 19.0, 18.0, 17.0, 16.0, 15.0, 14.0, 13.0, 12.0, 11.0, 10.0, 9.0, 8.0, 7.0, 6.0, 5.0, 4.0, 3.0, 2.0, 1.0, -6.3, -7.191, -6.9872, -7.515, -7.5463, -7.8284, -6.9477, -7.2015, -7.9638, -8.0513, -7.2247, -7.2782, -7.9896, -7.8536, -8.3041, -7.6734, -7.4021, -8.322, -8.3742, -8.3744, -8.3925, -8.3925, -8.3925, -8.4114, -8.4302, -7.1436, -8.4496, -6.9889, -8.4895, -8.3413, -7.2366, -7.1615, -7.9128, -6.9527, -7.4966, -6.5703, -6.7175, -7.2265, -7.1206, -5.1786, -7.1029, -7.241, -7.0299, -6.7469, -7.5091, -5.9302, -6.1891, -5.737, -5.8523, -5.6215, -5.548, -5.3576, -6.3969, -6.5752, -5.3973, -6.6302, -6.542, -3.9099, -5.6148, -5.4152, -5.497, -5.3673, -6.7984, -5.6595, -4.6883, -5.5223, -6.1844, -6.1149, -6.0895, -6.2108, -6.2365, -5.6842, -5.9193, -6.3068, -5.7106, -5.3101, -6.0225, -6.0985, -5.6718, -6.108, -6.0523, -6.071, -6.129, -6.1082, -6.5087, -5.9025, -7.1901, -7.1995, -7.264, -6.9174, -7.5226, -7.1253, -7.5995, -7.6684, -7.6828, -7.6974, -7.8223, -7.8912, -7.2636, -8.0043, -8.0043, -7.8931, -8.0245, -8.045, -7.4948, -7.2297, -7.7343, -8.2023, -8.227, -6.9034, -8.2522, -7.3654, -8.3047, -8.3048, -5.7518, -6.6628, -5.3187, -7.3256, -6.0086, -6.8272, -6.5983, -5.2323, -7.0443, -6.5717, -6.366, -6.1654, -4.8549, -5.4091, -5.4002, -6.2442, -5.622, -5.8223, -6.4776, -5.9571, -5.9756, -6.0425, -5.8908, -5.53, -4.6522, -6.3743, -5.7359, -5.9794, -5.4175, -5.149, -5.8343, -5.6476, -6.359, -4.8202, -6.0116, -5.9668, -5.9337, -4.7582, -5.6715, -5.6333, -5.2661, -5.7014, -5.5263, -5.8182, -5.9182, -5.9109, -5.9441, -7.778, -8.0775, -8.0076, -8.1286, -8.1286, -8.2106, -8.2395, -8.2415, -8.3316, -8.3981, -8.4331, -8.4331, -7.9716, -6.7638, -8.4693, -8.5069, -8.5069, -8.5069, -8.5069, -8.546, -8.5866, -8.3725, -8.629, -8.5117, -8.6301, -8.6733, -8.6733, -8.1454, -8.7196, -8.5532, -6.9175, -6.9184, -7.6057, -6.162, -8.1616, -7.1875, -5.3309, -6.2247, -7.0753, -5.7754, -8.0064, -6.3297, -7.9508, -6.0252, -7.1422, -6.1525, -7.5928, -6.4016, -6.4643, -5.3965, -5.7124, -6.3428, -6.5413, -6.3383, -5.2128, -7.0918, -6.1125, -6.6134, -5.3874, -5.7427, -6.0858, -6.1796, -5.9721, -5.5975, -5.8583, -5.6132, -5.792, -5.5292, -6.2044, -5.8647, -5.4378, -5.7065, -5.8763, -4.3609, -5.6713, -5.5288, -5.5446, -5.2129, -5.6071, -5.1458, -5.2021, -5.603, -5.6283, -5.1675, -5.3534, -5.8331, -5.8605, -6.0622, -6.6196, -7.3384, -7.3654, -7.3654, -7.3931, -7.3931, -7.3931, -7.3931, -7.4073, -7.4073, -7.4217, -7.4217, -7.4362, -7.4362, -7.451, -7.451, -7.466, -7.466, -7.466, -7.4813, -7.4968, -6.9701, -7.5125, -7.5285, -7.5612, -7.5612, -7.6124, -7.6301, -7.6301, -7.0889, -6.363, -7.0727, -6.7917, -6.8099, -6.2576, -7.14, -6.9588, -6.9273, -7.0775, -6.0714, -6.1747, -6.3511, -6.1525, -6.6477, -6.9496, -6.9309, -7.2851, -6.6976, -3.9471, -5.6625, -5.9849, -5.1223, -7.1238, -6.9033, -4.5823, -6.8142, -5.3707, -4.0738, -5.819, -6.1689, -5.2938, -5.6373, -6.6586, -6.7513, -6.6342, -5.1938, -5.4896, -6.1509, -6.0885, -6.0529, -4.5098, -5.468, -5.3648, -5.4196, -5.4719, -5.9266, -5.3446, -5.8396, -5.5482, -6.0469, -5.2085, -5.9855, -5.7808, -5.9632, -6.0266, -5.9971, -5.9905, -6.0187, -6.0392, -6.9604, -6.9786, -6.9878, -7.0065, -7.1372, -7.1924, -7.4353, -7.5748, -7.8844, -7.9548, -8.0047, -8.0047, -8.0306, -8.0306, -6.975, -8.0572, -8.1126, -8.1416, -7.3656, -8.202, -8.202, -8.202, -8.2336, -7.0353, -8.2663, -8.2663, -8.2663, -8.2663, -8.3001, -8.3351, -7.4288, -7.1213, -7.2957, -7.1325, -7.1074, -7.2133, -7.0826, -5.9503, -7.1325, -7.6271, -6.3669, -6.6173, -6.2103, -5.6426, -7.1232, -6.7644, -6.7656, -6.3084, -5.9664, -4.3981, -6.1788, -5.9104, -5.9892, -5.6952, -4.7781, -6.623, -5.7398, -5.6958, -6.1424, -6.0964, -5.7557, -5.5723, -5.892, -5.2479, -5.9273, -5.101, -6.2552, -6.1394, -6.2837, -6.0555, -6.0208, -6.1733, -6.2397, -5.806, -6.0627, -6.2258, -6.261, -6.2448, -8.3476, -8.3883, -8.4749, -8.5698, -8.6208, -8.6746, -8.6746, -8.6746, -8.7314, -8.7314, -8.7917, -8.7917, -8.7917, -8.7917, -8.7917, -8.7917, -8.8558, -8.8558, -8.8558, -8.8558, -8.8558, -8.8558, -7.9617, -8.9243, -8.9243, -8.9243, -8.9243, -8.9243, -8.9243, -8.9243, -8.1043, -6.9816, -8.0246, -7.6505, -8.2961, -7.9995, -7.9995, -4.321, -8.3476, -8.286, -8.0029, -8.0029, -8.3586, -8.0706, -6.6245, -7.9321, -7.1566, -6.9583, -6.6767, -7.2054, -6.5088, -6.7083, -5.3481, -7.9956, -6.6883, -7.3898, -7.4624, -6.2977, -6.2355, -6.8401, -5.598, -7.3197, -7.3483, -5.3801, -4.2726, -6.6827, -6.1318, -4.9199, -6.2439, -5.7982, -6.9218, -6.4604, -5.6987, -5.8624, -6.6185, -5.9799, -6.2185, -5.2998, -6.122, -6.1022, -5.8864, -6.4935, -6.0516, -6.3313, -6.067, -6.1677, -6.3979, -6.5383, -6.4817, -6.4991, -6.5241, -7.0607, -5.6733, -5.5667, -7.5502, -7.5707, -7.704, -7.6812, -7.3404, -7.6193, -7.8577, -7.9147, -4.7762, -8.0068, -4.8109, -8.0733, -8.0733, -8.1821, -8.1821, -8.1826, -8.1827, -8.2211, -8.1475, -8.1484, -8.2618, -8.3042, -8.3485, -8.1547, -8.3947, -8.3948, -8.3097, -7.1276, -7.2788, -5.7016, -5.8923, -5.3597, -5.9106, -5.5811, -7.574, -7.3893, -5.6589, -6.9736, -7.4108, -5.5154, -7.3321, -6.0455, -7.0508, -7.429, -6.9117, -4.0044, -6.0299, -4.5464, -5.1134, -6.3526, -5.949, -5.418, -6.1102, -5.079, -6.6624, -4.9601, -4.9715, -6.543, -5.4525, -6.1185, -5.6709, -6.2173, -5.3866, -6.1164, -5.6624, -5.6776, -5.3454, -5.6884, -5.189, -5.627, -5.5309, -5.4678, -5.4692, -5.5482, -7.2093, -7.5017, -7.8851, -7.1522, -8.1311, -8.1718, -8.1718, -8.1748, -8.2584, -8.3047, -8.3055, -8.4043, -8.5149, -8.515, -8.5752, -8.5752, -8.5752, -8.5752, -7.9444, -6.8343, -8.6393, -8.6393, -8.6393, -8.6393, -7.9502, -8.7078, -8.7078, -8.7078, -8.7078, -6.6362, -7.2859, -7.3404, -6.6173, -7.7209, -5.9474, -7.4844, -7.9444, -7.4199, -4.6475, -6.827, -6.1679, -5.6362, -4.9882, -7.7731, -6.4342, -7.5869, -4.9725, -5.5814, -4.0295, -4.5711, -7.2068, -6.4323, -4.2178, -6.5747, -6.8986, -7.0079, -6.1669, -6.3806, -7.0084, -6.4661, -4.8734, -4.655, -5.569, -5.59, -5.7718, -6.1029, -5.2726, -6.3164, -6.1759, -5.9372, -5.7128, -6.3701, -6.1367, -6.2346, -6.1946, -6.2575, -6.358, -6.3248, -6.3783, -7.8739, -7.8739, -7.9477, -7.7782, -8.1141, -8.1604, -8.2599, -8.3706, -8.4308, -8.4949, -8.4949, -8.4949, -8.4949, -8.495, -8.4379, -8.5635, -8.5635, -8.5635, -8.5635, -8.5635, -8.5635, -8.637, -8.637, -8.637, -8.637, -8.637, -8.637, -8.637, -8.637, -8.637, -7.9288, -6.8878, -8.3246, -4.8275, -7.8054, -7.8453, -8.3137, -7.7475, -7.777, -4.6767, -7.3269, -7.3992, -7.4579, -4.4929, -7.7009, -6.6944, -7.312, -5.5575, -7.6215, -7.7179, -6.882, -7.4139, -5.9832, -7.632, -7.1901, -5.2701, -7.0078, -6.1285, -6.8783, -6.6989, -5.1198, -5.1824, -6.0407, -6.6518, -6.2326, -6.1166, -5.9004, -6.883, -6.09, -5.9567, -6.7507, -6.0681, -6.7842, -6.1369, -5.6909, -6.1538, -6.1427, -6.2615, -6.4199, -5.8474, -6.2164, -6.339, -5.8245, -6.455, -6.469, -6.4628, -6.5838, -7.8066, -7.8932, -7.9881, -8.0391, -8.0391, -8.0391, -8.0391, -7.7787, -8.1497, -8.1497, -8.1497, -8.21, -8.3426, -8.3426, -8.3426, -8.3426, -8.4162, -8.4198, -8.4956, -8.4956, -8.4956, -8.4975, -8.5818, -8.5818, -8.5818, -8.5818, -8.5818, -8.5818, -8.5818, -8.5818, -7.734, -7.9946, -8.4334, -7.7007, -8.3734, -7.6676, -7.8141, -6.084, -6.6991, -7.5359, -7.5779, -5.6065, -6.1419, -7.2044, -4.958, -6.2756, -7.4987, -5.7361, -6.9542, -6.7221, -5.4417, -5.5463, -6.6695, -6.034, -5.8255, -6.4364, -6.7446, -6.1128, -6.9753, -6.5632, -6.0836, -5.5456, -5.3461, -6.0886, -6.1929, -6.6963, -6.727, -6.4829, -5.9903, -6.8887, -6.6981, -6.1879, -6.4132, -6.547, -6.5516, -6.6992], \"loglift\": [30.0, 29.0, 28.0, 27.0, 26.0, 25.0, 24.0, 23.0, 22.0, 21.0, 20.0, 19.0, 18.0, 17.0, 16.0, 15.0, 14.0, 13.0, 12.0, 11.0, 10.0, 9.0, 8.0, 7.0, 6.0, 5.0, 4.0, 3.0, 2.0, 1.0, 1.4933, 1.491, 1.4904, 1.4902, 1.4901, 1.488, 1.4871, 1.4865, 1.4864, 1.486, 1.4859, 1.485, 1.4849, 1.4843, 1.4831, 1.4824, 1.4823, 1.4821, 1.4821, 1.4819, 1.4818, 1.4818, 1.4818, 1.4814, 1.4813, 1.4812, 1.481, 1.4808, 1.4804, 1.4803, 1.4798, 1.4739, 1.4803, 1.4696, 1.4727, 1.4616, 1.4568, 1.4618, 1.4581, 1.3941, 1.4522, 1.4555, 1.446, 1.4233, 1.4614, 1.3439, 1.3325, 1.2727, 1.2801, 1.2384, 1.2176, 1.1828, 1.3145, 1.3341, 1.0578, 1.3239, 1.3028, 0.6169, 0.9958, 0.9041, 0.9059, 0.8148, 1.3438, 0.8991, 0.4402, 0.7692, 1.0485, 0.9849, 0.914, 0.9879, 1.0008, 0.525, 0.7056, 1.0343, 0.4021, -0.1938, 0.5743, 0.6395, -0.2561, 0.5284, -0.1225, -0.138, 0.3306, -0.0019, 1.9976, 1.9965, 1.9964, 1.9958, 1.9953, 1.9943, 1.9935, 1.9935, 1.9927, 1.992, 1.9918, 1.9916, 1.99, 1.9891, 1.9874, 1.9873, 1.9873, 1.9871, 1.987, 1.9867, 1.9866, 1.9841, 1.9838, 1.9838, 1.9833, 1.9832, 1.9828, 1.9823, 1.9817, 1.9816, 1.9583, 1.9563, 1.928, 1.961, 1.9194, 1.9386, 1.929, 1.8622, 1.9461, 1.9186, 1.906, 1.8842, 1.797, 1.7931, 1.761, 1.8439, 1.7491, 1.7446, 1.8202, 1.7131, 1.7155, 1.7271, 1.6857, 1.5316, 1.2808, 1.7365, 1.5307, 1.6117, 1.3809, 1.2677, 1.4892, 1.3642, 1.7274, 0.499, 1.4176, 1.3093, 1.2158, -0.2314, 0.762, 0.6568, -0.1376, 0.6178, -0.4101, 0.3639, 0.913, 0.1954, 0.6526, 2.1567, 2.1513, 2.1506, 2.1503, 2.1503, 2.1484, 2.1477, 2.1458, 2.1454, 2.1436, 2.1426, 2.1426, 2.1426, 2.1418, 2.1415, 2.1404, 2.1404, 2.1404, 2.1404, 2.1391, 2.1378, 2.1367, 2.1363, 2.1358, 2.1354, 2.1347, 2.1347, 2.1343, 2.133, 2.1322, 2.1283, 2.1207, 2.1187, 2.0734, 2.119, 2.0768, 1.9831, 2.0263, 2.0592, 1.9722, 2.1095, 1.9888, 2.1022, 1.9425, 2.0344, 1.9439, 2.0621, 1.9363, 1.9336, 1.8137, 1.8428, 1.9152, 1.9182, 1.8825, 1.6221, 1.9413, 1.746, 1.8409, 1.5505, 1.6293, 1.7068, 1.7278, 1.6406, 1.5322, 1.5982, 1.5212, 1.561, 1.4452, 1.6865, 1.5194, 1.2353, 1.3873, 1.4559, 0.1659, 1.2342, 1.0992, 1.0804, 0.7169, 1.0031, 0.1734, 0.2136, 0.8861, 0.8717, -0.0513, -0.2248, 0.6005, 0.7272, 2.3088, 2.3065, 2.3006, 2.3003, 2.3003, 2.3, 2.3, 2.3, 2.3, 2.2998, 2.2998, 2.2996, 2.2996, 2.2994, 2.2994, 2.2992, 2.2992, 2.299, 2.299, 2.299, 2.2988, 2.2986, 2.2986, 2.2984, 2.2982, 2.2977, 2.2977, 2.297, 2.2967, 2.2967, 2.2955, 2.2852, 2.292, 2.2888, 2.2854, 2.2682, 2.2875, 2.2768, 2.274, 2.2789, 2.2217, 2.2251, 2.2331, 2.2042, 2.1887, 2.2298, 2.226, 2.2788, 2.1812, 1.6802, 1.9906, 2.0487, 1.8652, 2.2466, 2.1993, 1.6632, 2.1681, 1.7953, 1.3419, 1.8625, 1.9631, 1.6058, 1.7077, 2.096, 2.1345, 2.0754, 1.3062, 1.4651, 1.8177, 1.7686, 1.6856, 0.6064, 1.2668, 1.1243, 1.099, 1.1383, 1.4347, 0.7617, 1.3087, 0.5645, 1.5573, -0.6818, 1.385, -0.6523, 0.5863, 1.1116, 0.564, -0.0576, 0.6093, 0.5485, 2.3127, 2.3126, 2.3125, 2.3123, 2.3112, 2.3106, 2.3079, 2.306, 2.3007, 2.2993, 2.2982, 2.2982, 2.2976, 2.2976, 2.2974, 2.297, 2.2956, 2.2949, 2.2947, 2.2933, 2.2933, 2.2933, 2.2925, 2.2917, 2.2915, 2.2915, 2.2915, 2.2915, 2.2905, 2.2895, 2.2554, 2.2208, 2.2269, 2.1803, 2.1681, 2.177, 2.157, 2.0053, 2.1141, 2.1959, 1.9155, 1.965, 1.7835, 1.6163, 2.0362, 1.9228, 1.9164, 1.7251, 1.6001, 0.921, 1.6193, 1.4425, 1.4674, 1.1397, 0.3382, 1.6588, 0.8479, 0.8042, 1.1818, 1.1138, 0.6611, 0.3575, 0.7329, -0.1194, 0.7458, -0.5743, 1.1289, 0.8972, 1.0484, 0.5724, 0.4682, 0.7647, 0.8986, -0.3904, 0.0436, 0.4817, 0.7135, -0.1321, 2.3769, 2.3755, 2.3723, 2.3685, 2.3663, 2.3639, 2.3639, 2.3639, 2.3612, 2.3612, 2.3581, 2.3581, 2.3581, 2.3581, 2.3581, 2.3581, 2.3547, 2.3547, 2.3547, 2.3547, 2.3547, 2.3547, 2.3539, 2.3508, 2.3508, 2.3508, 2.3508, 2.3508, 2.3508, 2.3508, 2.3483, 2.3127, 2.3133, 2.2975, 2.313, 2.2845, 2.2845, 1.8882, 2.2984, 2.2867, 2.2304, 2.2304, 2.2831, 2.2345, 1.9721, 2.2052, 2.0476, 2.0059, 1.9412, 2.0482, 1.8081, 1.8473, 1.3898, 2.1684, 1.7647, 1.981, 1.998, 1.5981, 1.5338, 1.7574, 1.2463, 1.9206, 1.9092, 0.9114, 0.2541, 1.4409, 1.0669, 0.1964, 1.036, 0.6047, 1.4708, 1.1061, 0.4834, 0.5973, 1.197, 0.5787, 0.7913, -0.1712, 0.6436, 0.5674, 0.2977, 0.968, 0.0611, 0.602, -0.1341, 0.1224, 0.1515, 0.61, 0.1288, 0.1981, 0.0369, 2.5529, 2.5462, 2.5459, 2.5459, 2.5455, 2.5429, 2.5427, 2.5414, 2.5397, 2.5394, 2.5379, 2.5356, 2.5354, 2.5349, 2.5335, 2.5335, 2.53, 2.53, 2.5296, 2.5295, 2.5287, 2.5285, 2.528, 2.5272, 2.5257, 2.5239, 2.5226, 2.5221, 2.522, 2.5203, 2.5143, 2.5135, 2.4885, 2.4874, 2.4624, 2.4723, 2.4583, 2.5062, 2.4968, 2.4175, 2.4754, 2.492, 2.3745, 2.4783, 2.3773, 2.4525, 2.4754, 2.4023, 1.9852, 2.2756, 2.0021, 2.0824, 2.2399, 2.1433, 1.9494, 2.1246, 1.796, 2.2766, 1.7312, 1.6981, 2.2299, 1.7127, 1.9847, 1.7389, 2.0303, 1.5467, 1.9509, 1.5309, 1.4038, 0.8387, 1.1559, -0.0605, 0.8281, 0.3989, -0.0521, -0.9425, -0.432, 2.6761, 2.6712, 2.662, 2.6559, 2.6541, 2.6526, 2.6525, 2.6493, 2.6491, 2.6472, 2.6464, 2.6427, 2.6372, 2.6371, 2.634, 2.634, 2.634, 2.634, 2.6311, 2.6307, 2.6303, 2.6303, 2.6303, 2.6303, 2.6295, 2.6261, 2.6261, 2.6261, 2.6261, 2.6246, 2.6112, 2.6046, 2.5808, 2.605, 2.5167, 2.5791, 2.5984, 2.5562, 2.3079, 2.4909, 2.3967, 2.3337, 2.2311, 2.5492, 2.319, 2.5012, 1.9271, 2.0229, 1.5978, 1.6745, 2.3746, 2.1366, 1.1014, 2.0221, 2.1549, 2.1859, 1.5738, 1.6866, 2.0837, 1.6371, 0.2551, -0.1283, 0.7211, 0.5941, 0.7777, 1.0631, -0.1563, 1.2771, 1.0199, 0.5813, -0.2972, 1.2748, 0.5546, 0.8294, 0.4858, 0.2021, 0.7822, -0.395, 0.4656, 2.8603, 2.8603, 2.8577, 2.8574, 2.8509, 2.8489, 2.8441, 2.8382, 2.8348, 2.8309, 2.8309, 2.8309, 2.8309, 2.8308, 2.827, 2.8264, 2.8264, 2.8264, 2.8264, 2.8264, 2.8264, 2.8213, 2.8213, 2.8213, 2.8213, 2.8213, 2.8213, 2.8213, 2.8213, 2.8213, 2.81, 2.656, 2.7849, 2.3376, 2.7184, 2.7179, 2.7778, 2.6726, 2.6711, 2.0146, 2.5608, 2.5513, 2.4886, 1.4967, 2.5488, 2.2106, 2.3465, 1.564, 2.4442, 2.4841, 2.0851, 2.3334, 1.5374, 2.4079, 2.128, 0.914, 1.9512, 1.2813, 1.7832, 1.5586, -0.0035, -0.0539, 0.8344, 1.4267, 0.9633, 0.7146, 0.3897, 1.581, 0.5464, 0.3625, 1.4106, 0.4905, 1.4506, 0.4911, -0.2752, 0.4429, 0.274, 0.4356, 0.7382, -0.5282, 0.2054, 0.4006, -1.2978, 0.6264, 0.2282, -0.0077, 0.6405, 3.1669, 3.1629, 3.1581, 3.1554, 3.1554, 3.1554, 3.1554, 3.1531, 3.1489, 3.1489, 3.1489, 3.1451, 3.1359, 3.1359, 3.1359, 3.1359, 3.1303, 3.1258, 3.1238, 3.1238, 3.1238, 3.1214, 3.1161, 3.1161, 3.1161, 3.1161, 3.1161, 3.1161, 3.1161, 3.1161, 3.1137, 3.0865, 3.1094, 3.0677, 3.0985, 3.0326, 3.0198, 2.5785, 2.605, 2.8468, 2.8552, 2.2524, 2.386, 2.7123, 1.8732, 2.2852, 2.6905, 1.422, 2.212, 1.9087, 0.8484, 0.7451, 1.7248, 1.0276, 0.723, 1.3072, 1.6513, 0.899, 1.8632, 1.2842, 0.435, -0.4294, -0.8193, 0.3281, 0.3657, 1.241, 1.1902, 0.5986, -0.8617, 1.2578, 0.6925, -0.8687, -0.2291, 0.1877, -0.4389, 0.4006]}, \"token.table\": {\"Topic\": [1, 2, 3, 4, 5, 6, 8, 10, 3, 4, 5, 8, 10, 10, 1, 2, 3, 4, 5, 6, 7, 8, 9, 10, 1, 2, 3, 4, 5, 6, 7, 8, 9, 10, 3, 4, 5, 7, 9, 3, 5, 4, 9, 9, 1, 2, 3, 4, 5, 6, 8, 9, 2, 3, 4, 5, 3, 2, 3, 4, 5, 7, 9, 10, 2, 5, 7, 9, 10, 1, 5, 6, 8, 5, 8, 3, 4, 5, 8, 1, 2, 3, 4, 5, 6, 7, 8, 9, 10, 1, 2, 3, 4, 5, 6, 7, 8, 9, 3, 4, 3, 4, 5, 1, 2, 3, 4, 5, 6, 7, 8, 9, 1, 2, 3, 4, 5, 6, 7, 8, 9, 10, 4, 8, 1, 2, 3, 4, 5, 6, 7, 8, 9, 10, 6, 5, 5, 1, 2, 3, 4, 5, 6, 9, 10, 1, 2, 3, 4, 5, 6, 7, 8, 9, 10, 1, 2, 4, 8, 1, 2, 4, 5, 6, 7, 10, 2, 1, 2, 3, 5, 6, 7, 9, 10, 8, 2, 3, 4, 5, 8, 10, 1, 2, 3, 4, 5, 6, 7, 9, 6, 1, 4, 8, 4, 4, 1, 3, 4, 5, 6, 8, 1, 3, 5, 6, 4, 5, 8, 1, 2, 3, 4, 5, 6, 7, 8, 9, 10, 1, 2, 5, 6, 10, 5, 9, 10, 7, 1, 2, 3, 4, 5, 6, 7, 8, 9, 10, 4, 4, 8, 1, 2, 3, 4, 5, 6, 7, 8, 9, 10, 3, 5, 3, 5, 1, 2, 3, 4, 5, 6, 7, 8, 10, 1, 2, 3, 4, 5, 6, 7, 8, 9, 10, 6, 10, 6, 6, 2, 3, 4, 5, 6, 7, 9, 10, 3, 6, 7, 9, 1, 2, 3, 4, 5, 6, 7, 8, 9, 10, 1, 2, 6, 4, 8, 1, 2, 4, 5, 6, 7, 8, 9, 10, 3, 1, 6, 8, 1, 6, 2, 3, 1, 2, 3, 5, 8, 9, 10, 2, 1, 2, 3, 4, 5, 6, 7, 8, 9, 10, 1, 2, 3, 4, 5, 6, 7, 9, 10, 1, 2, 3, 4, 5, 6, 7, 8, 9, 2, 4, 2, 1, 6, 7, 9, 10, 4, 7, 2, 5, 6, 1, 2, 3, 4, 5, 6, 7, 8, 9, 10, 3, 5, 7, 8, 4, 8, 2, 8, 3, 5, 8, 3, 5, 8, 1, 2, 3, 4, 5, 6, 7, 8, 9, 10, 2, 3, 4, 5, 7, 8, 9, 1, 2, 3, 4, 5, 6, 8, 10, 1, 2, 5, 6, 2, 9, 1, 2, 3, 4, 5, 6, 7, 8, 9, 10, 1, 2, 4, 5, 8, 10, 2, 1, 2, 3, 4, 5, 6, 7, 8, 9, 10, 2, 3, 4, 5, 7, 8, 9, 10, 1, 2, 3, 4, 5, 7, 9, 10, 1, 2, 4, 6, 7, 8, 9, 10, 4, 4, 7, 8, 9, 4, 8, 4, 7, 8, 9, 1, 3, 4, 7, 8, 9, 10, 4, 8, 1, 2, 3, 4, 5, 7, 8, 9, 10, 2, 3, 7, 9, 1, 2, 6, 1, 2, 3, 4, 5, 6, 7, 8, 9, 10, 4, 5, 4, 2, 4, 5, 9, 10, 1, 3, 4, 5, 4, 8, 1, 2, 3, 4, 5, 6, 7, 8, 9, 10, 1, 2, 3, 6, 7, 8, 10, 7, 9, 7, 7, 7, 9, 7, 9, 7, 9, 1, 2, 3, 5, 6, 8, 10, 1, 4, 8, 3, 3, 9, 1, 2, 3, 5, 6, 7, 8, 9, 10, 1, 3, 4, 5, 6, 7, 8, 9, 10, 1, 3, 4, 5, 6, 8, 1, 3, 4, 5, 6, 7, 8, 9, 10, 1, 2, 3, 4, 5, 6, 7, 8, 9, 10, 10, 1, 2, 5, 6, 10, 1, 2, 3, 5, 6, 8, 9, 10, 3, 7, 1, 3, 6, 1, 6, 1, 6, 9, 3, 4, 5, 7, 8, 10, 1, 2, 3, 4, 5, 6, 7, 8, 9, 10, 2, 1, 2, 3, 4, 5, 6, 8, 9, 10, 2, 4, 5, 7, 1, 2, 3, 4, 5, 6, 7, 8, 9, 10, 3, 6, 1, 2, 3, 4, 5, 8, 3, 5, 6, 3, 5, 4, 7, 8, 1, 2, 3, 4, 5, 7, 8, 9, 10, 4, 4, 8, 4, 8, 2, 4, 5, 6, 7, 8, 9, 4, 3, 5, 5, 4, 8, 8, 7, 1, 2, 6, 2, 10, 7, 1, 2, 3, 4, 5, 6, 8, 10, 1, 6, 1, 6, 1, 2, 3, 4, 5, 6, 7, 8, 9, 10, 1, 6, 7, 9, 10, 1, 2, 3, 4, 5, 6, 7, 8, 9, 8, 3, 8, 3, 5, 8, 1, 3, 8, 2, 3, 6, 8, 8, 1, 2, 3, 5, 7, 8, 9, 10, 3, 8, 8, 3, 6, 1, 2, 3, 4, 5, 6, 7, 8, 9, 10, 6, 7, 8, 9, 1, 2, 3, 5, 6, 8, 8, 8, 3, 5, 8, 3, 8, 4, 1, 2, 3, 4, 5, 6, 9, 10, 3, 5, 7, 1, 2, 3, 4, 5, 6, 7, 8, 9, 10, 4, 8, 1, 3, 4, 5, 6, 8, 4, 3, 5, 9, 1, 2, 3, 4, 5, 6, 7, 8, 9, 10, 1, 2, 3, 4, 5, 6, 8, 9, 10, 1, 2, 3, 5, 6, 7, 9, 10, 3, 8, 2, 3, 5, 10, 1, 7, 9, 1, 7, 1, 2, 4, 5, 6, 7, 8, 9, 10, 1, 2, 5, 6, 7, 8, 9, 10, 1, 1, 2, 3, 4, 5, 6, 7, 8, 9, 10, 1, 2, 6, 7, 9, 10, 2, 5, 7, 9, 10, 10, 1, 1, 1, 6, 3, 5, 8, 3, 5, 1, 2, 3, 4, 5, 6, 8, 9, 9, 1, 6, 7, 1, 2, 3, 4, 5, 6, 7, 8, 9, 10, 1, 2, 5, 10, 1, 3, 5, 6, 9, 3, 5, 1, 2, 3, 4, 5, 6, 7, 8, 9, 10, 1, 5, 7, 9, 1, 2, 3, 4, 5, 6, 7, 8, 9, 10, 1, 6, 1, 6, 1, 2, 6, 7, 8, 10, 7, 10, 1, 3, 4, 5, 7, 8, 9, 1, 1, 1, 3, 4, 5, 9, 1, 4, 1, 2, 3, 4, 5, 6, 7, 8, 9, 10, 7, 1, 1, 3, 5, 8, 1, 3, 5, 6, 9, 1, 3, 5, 7, 3, 3, 3, 3, 5, 3, 5, 3, 5, 3, 5, 3, 5, 9, 3, 3, 5, 3, 3, 6, 6, 1, 2, 3, 4, 5, 6, 7, 8, 9, 10, 4, 5, 8, 4, 8, 4, 8, 9, 8, 8, 8, 4, 8, 4, 5, 7, 8, 7, 8, 7, 9, 9, 5, 7, 9, 7, 9, 9, 4, 10, 7, 8, 9, 10, 7, 8, 9, 10, 1, 2, 3, 4, 5, 6, 7, 8, 9, 10, 7, 9, 7, 8, 9, 10, 1, 6, 10, 6, 1, 2, 3, 4, 5, 6, 3, 4, 5, 9, 1, 6, 2, 6, 9, 9, 1, 6, 3, 5, 3, 5, 3, 6, 10, 1, 2, 3, 4, 5, 6, 7, 8, 9, 10, 9, 1, 2, 3, 4, 5, 6, 7, 8, 9, 10, 1, 2, 3, 4, 5, 6, 7, 8, 9, 10, 2, 1, 2, 2, 2, 1, 2, 3, 4, 5, 6, 7, 8, 9, 10, 4, 6, 8, 2, 3, 4, 5, 6, 9, 1, 2, 3, 4, 5, 3, 5, 1, 2, 3, 4, 5, 6, 7, 8, 9, 1, 2, 3, 5, 6, 7, 8, 9, 10, 1, 2, 3, 4, 5, 6, 7, 8, 9, 10, 1, 2, 3, 5, 6, 7, 9, 10, 2, 5, 9, 10, 7, 9, 9, 10, 8, 1, 2, 4, 5, 6, 7, 8, 9, 10, 2, 5, 7, 8, 9, 10, 9, 1, 2, 3, 4, 5, 6, 7, 8, 9, 10, 1, 6, 9, 1, 2, 7, 9, 5, 1, 3, 5, 1, 2, 3, 5, 1, 3, 5, 1, 2, 3, 5, 6, 7, 6, 10, 1, 2, 3, 6, 8, 1, 2, 3, 4, 5, 6, 7, 8, 9, 10, 4, 8, 2, 5, 10, 1, 2, 3, 4, 5, 6, 7, 9, 10, 3, 5, 6, 7, 9, 9, 9, 1, 2, 3, 4, 5, 6, 7, 8, 9, 10, 2, 3, 5, 7, 9, 10, 3, 5, 1, 2, 5, 7, 9, 1, 1, 2, 3, 4, 5, 6, 7, 8, 9, 10, 6, 3, 1, 7, 1, 7, 10, 6, 9, 3, 5, 7, 9, 9, 3, 5, 3, 5, 3, 5, 5, 5, 9, 9, 10, 10, 1, 6, 1, 6, 10, 10, 1, 2, 6, 7, 8, 9, 4, 8, 10, 1, 2, 3, 4, 5, 6, 7, 8, 9, 10, 1, 3, 5, 6, 5, 5, 3, 5, 8, 1, 2, 3, 4, 5, 6, 7, 8, 9, 10, 3, 4, 4, 2, 2, 8, 1, 2, 3, 4, 5, 6, 7, 8, 9, 10, 5, 3, 5, 5, 6, 8, 9, 10, 10, 1, 2, 3, 4, 5, 6, 8, 9, 1, 2, 3, 4, 5, 6, 8, 9, 3, 1, 2, 3, 4, 5, 6, 8, 10, 5, 9, 1, 2, 3, 4, 5, 6, 7, 8, 9, 10, 2, 1, 2, 3, 4, 5, 6, 7, 8, 9, 10, 1, 2, 1, 2, 3, 5, 6, 7, 8, 9, 10, 10, 7, 2, 5, 7, 9, 10, 9, 10, 2, 6, 2, 3, 4, 6, 8, 10, 4, 4, 1, 7, 1, 2, 3, 4, 5, 6, 7, 8, 9, 10, 1, 2, 3, 4, 5, 6, 7, 8, 9, 10, 3, 1, 6, 7, 9, 7, 7, 9, 7, 6, 7, 8, 9, 7, 9, 10, 7, 9, 1, 2, 3, 5, 6, 7, 9, 10, 1, 2, 3, 5, 6, 7, 8, 9, 10, 1, 2, 1, 2, 3, 4, 5, 6, 7, 8, 9, 10, 3, 5, 1, 2, 3, 4, 5, 6, 7, 8, 9, 10, 1, 2, 3, 4, 5, 6, 7, 8, 9, 10, 1, 2, 3, 4, 5, 6, 7, 9, 10, 2, 5, 10, 2, 10, 1, 2, 3, 4, 5, 6, 7, 8, 9, 10, 5, 4, 9, 9, 1, 2, 3, 4, 6, 7, 8, 9, 10, 6, 1, 6, 1, 4, 9, 1, 8, 2, 1, 2, 3, 4, 5, 6, 7, 8, 9, 10, 8, 1, 3, 6, 8, 10, 2, 3, 4, 5, 7, 8, 9, 10, 3, 6, 1, 2, 3, 4, 5, 6, 7, 8, 9, 10, 1, 2, 3, 4, 5, 6, 7, 8, 9, 10, 10, 1, 2, 3, 4, 5, 6, 7, 8, 9, 10, 9, 3, 7, 9, 4, 7, 8, 9, 1, 4, 7, 8, 9, 7, 8, 9, 7, 9, 1, 3, 4, 7, 8, 4, 2, 5, 6, 1, 2, 3, 4, 5, 6, 7, 8, 9, 10, 1, 6, 7, 1, 2, 3, 4, 5, 6, 7, 8, 9, 10, 1, 2, 4, 5, 6, 7, 9, 10, 4, 1, 2, 3, 4, 5, 6, 7, 8, 4, 8, 9, 10, 4, 8, 1, 2, 3, 6, 8, 9, 1, 2, 6, 1, 2, 6, 2, 1, 2, 3, 4, 5, 7, 8, 9, 2, 8, 10, 5, 5, 1, 3, 4, 5, 1, 2, 3, 4, 5, 6, 7, 8, 9, 10, 1, 3, 4, 6, 8, 4, 5, 5, 1, 2, 3, 4, 5, 6, 8, 9, 10, 8, 10, 10, 2, 10, 1, 2, 3, 4, 5, 6, 7, 10, 2, 1, 2, 3, 4, 5, 7, 8, 10, 2, 4, 8, 4, 1, 2, 3, 6, 7, 1, 1, 1, 10, 1, 2, 3, 4, 5, 6, 8, 9, 10, 1, 2, 3, 2, 2, 1, 2, 3, 4, 5, 6, 7, 8, 9, 10, 5, 1, 2, 3, 4, 5, 6, 7, 8, 9, 10, 4, 7, 9, 1, 2, 5, 6, 7, 9, 2, 10, 10, 7, 9, 7, 3, 1, 2, 3, 4, 5, 6, 7, 8, 9, 10, 7, 9, 10, 7, 9, 1, 2, 3, 4, 5, 6, 7, 8, 9, 10, 7, 7, 9, 7, 9, 7, 7, 9, 7, 9, 1, 10, 6, 10, 1, 2, 4, 5, 8, 10, 2, 5, 1, 2, 3, 4, 5, 6, 7, 8, 9, 10, 2, 3, 8, 7, 2, 4, 5, 7, 8, 9, 10, 3, 5, 7, 9, 1, 9, 1, 1, 2, 5, 6, 7, 8, 9, 10, 8, 7, 7, 8, 9, 1, 2, 3, 4, 5, 6, 7, 8, 9, 10, 1, 2, 3, 4, 5, 6, 8, 10, 1, 2, 3, 4, 5, 7, 8, 9, 10, 6, 1, 2, 3, 4, 5, 6, 7, 8, 9, 10, 7, 9, 1, 6, 9, 10, 6, 1, 2, 3, 4, 5, 6, 7, 8, 9, 10, 1, 2, 3, 4, 5, 6, 7, 8, 9, 10, 1, 2, 3, 4, 5, 6, 7, 8, 9, 10, 3, 5, 1, 2, 3, 4, 5, 6, 7, 8, 9, 10, 1, 3, 5, 1, 2, 5, 6, 8, 10, 2, 2, 1, 6, 1, 2, 6, 10, 10, 1, 2, 3, 4, 5, 6, 7, 8, 9, 10, 1, 2, 6, 7, 8, 9, 1, 2, 3, 4, 5, 6, 7, 8, 9, 10, 1, 2, 3, 4, 5, 8, 10, 5, 1, 2, 4, 5, 6, 5, 5, 6, 1, 2, 4, 5, 8, 10, 8, 9, 1, 6, 1, 2, 3, 4, 5, 6, 8, 9, 10, 5, 6, 8, 5, 4, 8, 4, 1, 2, 3, 4, 5, 6, 7, 8, 9, 10, 4, 3, 4, 5, 3, 5, 1, 2, 4, 6, 7, 8, 9, 1, 3, 4, 6, 7, 9, 10, 1, 6, 10, 4, 6, 1, 3, 4, 6, 7, 8, 9, 10, 6, 1, 6, 9, 10, 1, 2, 3, 4, 6, 7, 8, 9, 10, 1, 6, 7, 8, 10, 8, 1, 2, 3, 4, 5, 6, 7, 8, 9, 10, 6, 1, 2, 6, 10, 3, 10, 10, 1, 2, 3, 4, 5, 6, 7, 8, 9, 10, 1, 2, 3, 5, 6, 7, 8, 9, 10, 7, 9, 10, 1, 9, 9, 1, 1, 2, 4, 5, 7, 8, 9, 7, 8, 9, 7, 8, 9, 7, 7, 8, 9, 7, 7, 9, 1, 2, 3, 4, 5, 6, 7, 8, 9, 10, 6, 8, 1, 2, 3, 4, 5, 6, 8, 10, 6, 9, 4, 2, 5, 1, 5, 6, 5, 1, 2, 3, 4, 5, 6, 7, 8, 9, 10, 6, 7, 3, 7, 8, 9, 1, 3, 5, 6, 7, 9, 10, 9, 9, 1, 2, 3, 4, 5, 7, 8, 9, 10, 1, 2, 3, 6, 1, 2, 3, 6, 1, 1, 2, 3, 5, 7, 9, 1, 1, 1, 2, 3, 4, 5, 6, 7, 8, 9, 10, 1, 2, 3, 5, 6, 7, 9, 10, 5, 1, 2, 1, 10, 5, 3, 5, 3, 5, 5, 7, 10, 1, 2, 3, 4, 5, 6, 7, 8, 9, 10, 7, 1, 9, 1, 2, 7, 10, 7, 1, 2, 3, 4, 5, 6, 7, 8, 9, 10, 10], \"Freq\": [0.27457544281289653, 0.18813502563105874, 0.11694879971660407, 0.0025423652112305235, 0.040677843379688376, 0.29745672971397125, 0.06355913028076308, 0.012711826056152618, 0.05930987799939287, 0.8377520267414242, 0.03706867374962054, 0.05930987799939287, 0.9122421757468371, 0.9634145129712322, 0.03150063060709924, 0.3616739069703987, 0.28117229541892286, 0.03733408071952502, 0.24033814463194234, 0.007000140134910942, 0.005833450112425785, 0.028000560539643768, 0.002333380044970314, 0.004666760089940628, 0.04933686462666984, 0.06249336186044847, 0.48350127334136445, 0.09867372925333968, 0.20063658281512403, 0.014252872003260177, 0.035083992623409666, 0.019734745850667937, 0.03179486831496501, 0.004385499077926208, 0.7903552706107964, 0.01718163631762601, 0.17181636317626006, 0.008590818158813004, 0.01718163631762601, 0.14785304833103494, 0.8448745618916282, 0.9864335472622833, 0.9885647132425078, 0.9885647132425078, 0.0015881866446370088, 0.022234613024918123, 0.16517141104224892, 0.546336205755131, 0.22075794360454423, 0.01270549315709607, 0.020646426380281115, 0.009529119867822053, 0.0022233419069791305, 0.12228380488385218, 0.6380991273030104, 0.23567424213978785, 0.970502347275588, 0.7266840284272481, 0.008007537503330558, 0.0020018843758326395, 0.15614698131494587, 0.014013190630828476, 0.028026381261656953, 0.06406030002664446, 0.7497968062287251, 0.15489814260413784, 0.013469403704707637, 0.029183708026866546, 0.05163271420137928, 0.9942346113102489, 0.7281929793177006, 0.08773409389369886, 0.18131712738031097, 0.8895203982962274, 0.11355579552717797, 0.04098549131150821, 0.913976456246633, 0.03688694218035739, 0.008197098262301642, 0.05267567923962846, 0.04192554061929612, 0.15695202385685214, 0.4289305309512603, 0.12685163571992158, 0.03762548517116319, 0.035475457447096716, 0.10857640006535663, 0.010750138620332339, 0.0032250415860997014, 0.0252401113869592, 0.07230950829777501, 0.27218390387558705, 0.3656405325245981, 0.2196571855838071, 0.021829285523856604, 0.0006821651726205189, 0.0027286606904820755, 0.01910062483337453, 0.012206956691221526, 0.9887634919889436, 0.04935280514157231, 0.9267360076584134, 0.02741822507865128, 0.05295182668223587, 0.002583015935718823, 0.3396665955470252, 0.30092135651124285, 0.24151198998970994, 0.023247143421469406, 0.00904055577501588, 0.02712166732504764, 0.002583015935718823, 0.184491648623027, 0.08942458964767666, 0.10823282073992223, 0.18158492199967993, 0.1376420548114335, 0.1090877403350243, 0.04992730435396096, 0.057963548547920435, 0.05505682192457339, 0.026160539610123382, 0.9885726760384195, 0.978803099270293, 0.08959808230504787, 0.08314702037908442, 0.15339191690624196, 0.17776259529321498, 0.1268708845439478, 0.10465056013229591, 0.07454560447779983, 0.1476576396387189, 0.027237817020734554, 0.015052477827248043, 0.9702800968536003, 0.9658030111544668, 0.9786687019758232, 0.4443131917018673, 0.03390341623427903, 0.20520488773379414, 0.001784390328119949, 0.06602244214043812, 0.23553952331183328, 0.001784390328119949, 0.010706341968719694, 0.19502048318153578, 0.4852295355350117, 0.0626851553083508, 0.09364078755938822, 0.03559897708869304, 0.07854991683700747, 0.018573379350622456, 0.0108344712878631, 0.005804181047069518, 0.013930034512966842, 0.008231751865441997, 0.9466514645258296, 0.032927007461767986, 0.008231751865441997, 0.04370467034193506, 0.7575476192602076, 0.16267849516164715, 0.014568223447311686, 0.002428037241218614, 0.01214018620609307, 0.007284111723655843, 0.9796433335877768, 0.019582029392242174, 0.04699687054138122, 0.003916405878448435, 0.011749217635345305, 0.04699687054138122, 0.5874608817672652, 0.21148591743621548, 0.07441171169052026, 0.9785774496905126, 0.40713722501677946, 0.005357068750220783, 0.02142827500088313, 0.16606913125684425, 0.005357068750220783, 0.3964230875163379, 0.2230473283168009, 0.006342578056401922, 0.5370049421086961, 0.0010570963427336537, 0.21141926854673074, 0.010570963427336537, 0.0073996743991355755, 0.003171289028200961, 0.9790966181063826, 0.025862646445811384, 0.9569179184950212, 0.010345058578324554, 0.9957103572137987, 0.9868400413339155, 0.010616450104129534, 0.6529116814039663, 0.1273974012495544, 0.159246751561943, 0.013270562630161917, 0.034503462838420984, 0.007914985794932038, 0.7717111150058736, 0.21370461646316502, 0.003957492897466019, 0.9640402528870408, 0.014606670498288496, 0.014606670498288496, 0.019549921570824885, 0.37959431050018316, 0.027695722225335253, 0.3958859118092039, 0.03584152287984562, 0.0032583202618041473, 0.009774960785412443, 0.03258320261804147, 0.019549921570824885, 0.07494136602149538, 0.01036729846817929, 0.4302428864294405, 0.11404028314997218, 0.01036729846817929, 0.4354265356635301, 0.2649896763142232, 0.0331237095392779, 0.6955979003248359, 0.932603583297351, 0.18132472981704215, 0.10044607335188666, 0.026089889182308222, 0.3665629430114305, 0.002608988918230822, 0.16567079630765721, 0.02217640580496199, 0.09001011767896336, 0.02217640580496199, 0.02478539472319281, 0.9915394867535273, 0.9910462397236816, 0.9433203424709994, 0.2713299846323792, 0.15950388872957752, 0.07281699268089409, 0.1811756127417484, 0.07108325475992042, 0.03900910322190755, 0.03987597218239438, 0.04681092386628906, 0.08235255124624927, 0.03467475841947337, 0.3265278687438844, 0.6651493622560608, 0.32216956327612345, 0.6747324815782962, 0.05654514308953786, 0.11011422601646846, 0.15029103821166642, 0.3303426780494054, 0.0744015040651814, 0.25296511382161674, 0.02083242113825079, 0.0014880300813036279, 0.004464090243910884, 0.1455231001234099, 0.10583498190793447, 0.06614686369245905, 0.039688118215475424, 0.039688118215475424, 0.14221575693878694, 0.08929826598481971, 0.09591295235406562, 0.23151402292360665, 0.04299546140009838, 0.9702800612474328, 0.9239776512110974, 0.9487782806912567, 0.9572636220805157, 0.2277460369462786, 0.2458621989760962, 0.3519711480078851, 0.037957672824379764, 0.03364430091251843, 0.019841510794562152, 0.035369649677262964, 0.048309765412846976, 0.9386136006147259, 0.025367935151749347, 0.025367935151749347, 0.9080053092461418, 0.1067317758615507, 0.25991675987009755, 0.014378373950260715, 0.0376049780237588, 0.07299789851670825, 0.10120163203452735, 0.09180038752858764, 0.13935962444098848, 0.08184612863994561, 0.09401244505939699, 0.1733008120066514, 0.13252415035802753, 0.6932032480266056, 0.12473494072343574, 0.8731445850640502, 0.7723740419382114, 0.10754575267494082, 0.03812985776656993, 0.024442216517032003, 0.00097768866068128, 0.008799197946131522, 0.024442216517032003, 0.016620707231581763, 0.006843820624768961, 0.97914420691632, 0.9753818186709203, 0.011542980102614443, 0.005771490051307221, 0.9762692496772692, 0.9273384733778134, 0.982041111086898, 0.9860446334407987, 0.008236090205268656, 0.8318451107321342, 0.008236090205268656, 0.041180451026343275, 0.004118045102634328, 0.008236090205268656, 0.09471503736058953, 0.9924682685074635, 0.1209275672577769, 0.010291707851725694, 0.5210177099936133, 0.0025729269629314235, 0.16981317955347394, 0.011578171333191405, 0.0887659802211341, 0.0012864634814657118, 0.07075549148061415, 0.0012864634814657118, 0.12549227583365097, 0.0243301351106058, 0.5275797718720837, 0.0012805334268739894, 0.22281281627607416, 0.002561066853747979, 0.04225760308684166, 0.05250187050183357, 0.0012805334268739894, 0.05919927183408693, 0.8095156241498398, 0.00275345450391102, 0.04956218107039836, 0.00963709076368857, 0.00275345450391102, 0.00963709076368857, 0.00550690900782204, 0.04956218107039836, 0.9777135930247063, 0.010291722031839014, 0.9757037623946428, 0.22191559027924077, 0.6129097255331412, 0.05283704530458114, 0.010567409060916227, 0.09510668154824604, 0.9904508955089378, 0.9606497361598405, 0.979409991055057, 0.014839545319016016, 0.9095672174575964, 0.06032183606822421, 0.2220178688622141, 0.13551468033382313, 0.025134098361760088, 0.24673306558461153, 0.016965516394188057, 0.040005106559134807, 0.2040050983696194, 0.032674327870288115, 0.016965516394188057, 0.1634955188079008, 0.07431614491268218, 0.04458968694760931, 0.7282982201442854, 0.0777469767911309, 0.8940902330980055, 0.9826999340237839, 0.01068152102199765, 0.031294950881545644, 0.031294950881545644, 0.9075535755648237, 0.0441141941538816, 0.0661712912308224, 0.882283883077632, 0.09431750093519144, 0.18434784273696508, 0.08574318266835586, 0.006430738700126689, 0.25294238887164977, 0.010717897833544482, 0.06645096656797579, 0.24222449103810528, 0.045015170900886824, 0.010717897833544482, 0.024330682530974423, 0.012165341265487212, 0.024330682530974423, 0.6650386558466342, 0.08110227510324808, 0.15003920894100894, 0.036496023796461635, 0.09454953059430704, 0.7759582166015543, 0.008150821602957502, 0.02934295777064701, 0.03423345073242151, 0.02119213616768951, 0.030973122091238512, 0.004890492961774502, 0.01315163255446412, 0.9337659113669525, 0.02630326510892824, 0.01972744883169618, 0.981901369349798, 0.01345070368972326, 0.06078594394307285, 0.7849315370040277, 0.01982150345969767, 0.058143076815113166, 0.018500069895717824, 0.003964300691939534, 0.005285734255919379, 0.03171440553551627, 0.0013214335639798447, 0.015857202767758136, 0.004991788774464832, 0.9184891345015292, 0.04991788774464832, 0.004991788774464832, 0.01996715509785933, 0.004991788774464832, 0.9920911204466508, 0.016560850943140977, 0.3430461981079202, 0.06624340377256391, 0.004731671698040279, 0.12775513584708753, 0.004731671698040279, 0.09936510565884585, 0.03075586603726181, 0.15851100188434933, 0.14904765848826879, 0.3355837527741014, 0.009069831156056795, 0.004534915578028397, 0.08162848040451115, 0.11790780502873832, 0.01813966231211359, 0.20407120101127788, 0.22674577890141986, 0.0035924207203986017, 0.3843890170826504, 0.0035924207203986017, 0.007184841440797203, 0.12573472521395104, 0.11136504233235665, 0.2263225053851119, 0.13291956665474824, 0.05553813327246337, 0.0015868038077846676, 0.5225873873637505, 0.014810168872656898, 0.03808329138683202, 0.3617912681749042, 0.002644673012974446, 0.002644673012974446, 0.9806053995940754, 0.4933748819915311, 0.03865617632098594, 0.4659086514476727, 0.0010172677979206827, 0.9247892165279133, 0.06960779049134831, 0.24209810297471815, 0.14122389340191893, 0.6052452574367954, 0.010087420957279923, 0.03241832036843702, 0.002161221357895801, 0.7240091548950933, 0.015128549505270606, 0.2053160290001011, 0.015128549505270606, 0.004322442715791602, 0.9655340505262863, 0.03049054896398799, 0.09650039139183053, 0.10454209067448307, 0.01608339856530509, 0.024125097847957633, 0.024125097847957633, 0.17691738421835598, 0.01608339856530509, 0.4422934605458899, 0.08845869210917799, 0.12063433972339262, 0.12063433972339262, 0.12063433972339262, 0.6272985665616416, 0.9598542803496877, 0.02726858750993431, 0.005453717501986862, 0.060054370655305, 0.04318516541505079, 0.2766549659401691, 0.3049952307437962, 0.1565462246295591, 0.04183562899583045, 0.0472337746727118, 0.04251039720544062, 0.010796291353762697, 0.016194437030644045, 0.9814138666329045, 0.011968461788206153, 0.9809536738011536, 0.28461131911297893, 0.058885100506133575, 0.27479713569529, 0.00981418341768893, 0.36312478645449037, 0.8246735968215582, 0.14660863943494368, 0.002618011418481137, 0.023562102766330233, 0.9855185655000398, 0.9649412342806163, 0.6295995049842322, 0.025310532863687726, 0.11706121449455574, 0.02214671625572676, 0.025310532863687726, 0.031638166079609654, 0.015819083039804827, 0.05220297403135594, 0.03954770759951207, 0.04271152420747304, 0.8339102341655099, 0.027491546181280548, 0.09622041163448192, 0.002290962181773379, 0.016036735272413654, 0.011454810908866894, 0.011454810908866894, 0.9820744264803792, 0.017109310565860267, 0.9669916696885591, 0.9835372229511642, 0.8645952818860146, 0.1352992616691855, 0.9545960203059953, 0.04895364206697412, 0.9238592560510522, 0.06159061707007015, 0.28906055455500385, 0.0037059045455769724, 0.45582625910596763, 0.22358957424981066, 0.018529522727884863, 0.006176507575961621, 0.0024706030303846484, 0.010872056977582012, 0.9893571849599629, 0.9412225047411751, 0.9946520018981049, 0.965001083649473, 0.9069006378647504, 0.04242956768247176, 0.16264667611614175, 0.028286378454981175, 0.14143189227490588, 0.028286378454981175, 0.06364435152370765, 0.02121478384123588, 0.24750581148108527, 0.2616490007085759, 0.550489984358471, 0.002170131344382934, 0.0007233771147943114, 0.005063639803560179, 0.1598663423695428, 0.09476240203805479, 0.039062364198892814, 0.09042213934928892, 0.05787016918354491, 0.45376202631207274, 0.3354901523329465, 0.00386509392088648, 0.20407695902280615, 0.000773018784177296, 0.001546037568354592, 0.26674332895826963, 0.008144834472008233, 0.07941213610208027, 0.020362086180020583, 0.08144834472008233, 0.21176569627221406, 0.24230882554224492, 0.02239829479802264, 0.06515867577606586, 0.5058613469277867, 0.19410381417935685, 0.032764326690121616, 0.031771468305572474, 0.010921442230040539, 0.145453753336449, 0.02432503042145393, 0.00843929626866769, 0.03375718507467076, 0.012907158999138819, 0.9537355912047228, 0.45181429493888675, 0.08264895639125977, 0.0027549652130419927, 0.4435493992997608, 0.016529791278251955, 0.757202415179674, 0.06228456999127754, 0.0017795591426079296, 0.003559118285215859, 0.17083767769036123, 0.0017795591426079296, 0.0017795591426079296, 0.0008897795713039648, 0.9496649049657215, 0.9670366060810265, 0.9570516555837074, 0.006134946510151971, 0.030674732550759854, 0.983005782194308, 0.009781152061634905, 0.9659535449839958, 0.02525368745056198, 0.006313421862640495, 0.7887011464375951, 0.004286419274117365, 0.16717035169057723, 0.00857283854823473, 0.021432096370586826, 0.00857283854823473, 0.28288803024381465, 0.5984169870542233, 0.00777164918252238, 0.003108659673008952, 0.006217319346017904, 0.029532266893585044, 0.010880308855531333, 0.04818422493163876, 0.010880308855531333, 0.003108659673008952, 0.9914030005336706, 0.6064971773441994, 0.19276857521115884, 0.015238622546336667, 0.014476691419019834, 0.02666758945608917, 0.10209877106045567, 0.0007619311273168334, 0.036572694111208004, 0.0045715867639010005, 0.02803104163335437, 0.05606208326670874, 0.9110088530840169, 0.9825255432336426, 0.2796583039713933, 0.06371961356310227, 0.060179635031818814, 0.0035399785312834595, 0.060179635031818814, 0.16283901243903914, 0.0955794203446534, 0.031859806781551134, 0.10265937740722032, 0.14159914125133838, 0.9774015881532288, 0.969979686002648, 0.007625591772253277, 0.007625591772253277, 0.7473079936808211, 0.015251183544506554, 0.18301420253407866, 0.03431516297513974, 0.8936408942700376, 0.10457499826564269, 0.9702799122445639, 0.962943249223263, 0.9866261477561562, 0.46926157022795817, 0.016465318253612568, 0.5124830306436912, 0.009415988201254348, 0.06120392330815327, 0.004707994100627174, 0.5343573304211843, 0.04943393805658533, 0.06826591445909404, 0.2236297197797908, 0.04472594395595816, 0.004707994100627174, 0.9868400343439739, 0.8998413284064917, 0.10046772113276364, 0.976289365114204, 0.023384176409921055, 0.04249174599061681, 0.596212310930842, 0.06506548604813199, 0.010622936497654202, 0.04381961305282358, 0.19652432520660273, 0.04514748011503036, 0.994422690315012, 0.010912929911823962, 0.9821636920641567, 0.9826028991505961, 0.06414741872415686, 0.9194463350462484, 0.9083309201709494, 0.9532049217877415, 0.5840735881439594, 0.02263851116837052, 0.3893823920959729, 0.052732522985256734, 0.8964528907493645, 0.9713519019979353, 0.0824425939426413, 0.057459989717598484, 0.12241476070270982, 0.009993041690017128, 0.4946555636558478, 0.004996520845008564, 0.2198469171803768, 0.007494781267512846, 0.08577823367160281, 0.9006714535518294, 0.08307832183073594, 0.9138615401380953, 0.04097298329645107, 0.5280962291542582, 0.046663675420958166, 0.010243245824112767, 0.17299704058501564, 0.013657661098817024, 0.02503904534783121, 0.020486491648225535, 0.04324926014625391, 0.09901804296642341, 0.2580284327128716, 0.6020663429967005, 0.09676066226732687, 0.010751184696369652, 0.03225355408910895, 0.01680620602202693, 0.040614997886565085, 0.21708016111784786, 0.014005171685022442, 0.05742120390859201, 0.0014005171685022443, 0.012604654516520198, 0.6316332429945122, 0.007002585842511221, 0.9788031482632642, 0.018646890559137066, 0.9696383090751274, 0.04315072793842311, 0.010787681984605777, 0.9385283326607027, 0.04814688982975111, 0.04814688982975111, 0.8907174618503956, 0.05835275508699566, 0.09239186222107645, 0.004862729590582972, 0.841252219170854, 0.923863392511267, 0.0029668025431641406, 0.14537332461504288, 0.11570529918340149, 0.00890040762949242, 0.00890040762949242, 0.7001654001867371, 0.0029668025431641406, 0.011867210172656562, 0.052924326562891436, 0.939406796491323, 0.965486973577242, 0.9853109592209452, 0.9095671866142298, 0.5586825722665576, 0.09819269451957678, 0.10383595282529959, 0.09254943621385399, 0.0372455048177705, 0.056432583057228036, 0.013543819933734729, 0.023701684884035776, 0.003385954983433682, 0.011286516611445608, 0.9702800820323302, 0.8533238226294703, 0.1251541606523223, 0.022755301936785873, 0.0010756888047469197, 0.0075298216332284375, 0.3022685541338844, 0.006454132828481518, 0.0010756888047469197, 0.681986702209547, 0.9761095271094297, 0.9871353004794013, 0.2473297189265154, 0.005376733020141639, 0.7473658897996878, 0.17131381534291398, 0.8223063136459872, 0.9864335167304671, 0.08295718620437754, 0.0009535308759123857, 0.5768861799269933, 0.0009535308759123857, 0.3070369420437882, 0.028605926277371567, 0.0009535308759123857, 0.0009535308759123857, 0.7175127412805112, 0.27930026170650774, 0.9831580858300539, 0.06626641554708058, 0.07540661079495378, 0.3107666384276883, 0.30924327255304274, 0.12948609934487013, 0.026658902806296788, 0.022088805182360196, 0.02513553693165126, 0.013710292871809778, 0.022088805182360196, 0.9614028203207292, 0.02373834124248714, 0.06827266260745565, 0.7874113754059886, 0.08647870596944383, 0.031860575883479306, 0.013654532521491132, 0.009103021680994087, 0.9942033045007679, 0.12279155621825848, 0.8718200491496352, 0.9487395763947045, 0.025774995047106494, 0.7712671594864944, 0.019826919267004996, 0.08922113670152249, 0.04361922238741099, 0.013878843486903497, 0.007930767706801999, 0.007930767706801999, 0.009913459633502498, 0.009913459633502498, 0.012850969854063624, 0.88671691993039, 0.009638227390547718, 0.03534016709867497, 0.03212742463515906, 0.003212742463515906, 0.003212742463515906, 0.003212742463515906, 0.009638227390547718, 0.27322616910846864, 0.01637310376679962, 0.3919311714177659, 0.16168439969714626, 0.10847181245504749, 0.007163232897974834, 0.004093275941699905, 0.036839483475299147, 0.9494459431914367, 0.9649411360720903, 0.010824549873515986, 0.9092621893753428, 0.06494729924109591, 0.010824549873515986, 0.9822623842858906, 0.0057108278156156435, 0.0057108278156156435, 0.9903260414554795, 0.006558450605665427, 0.11356191161683421, 0.28163354080974884, 0.009084952929346737, 0.23620877616301514, 0.013627429394020105, 0.02271238232336684, 0.040882288182060314, 0.0726796234347739, 0.20895391737497493, 0.022980742441044238, 0.2585333524617477, 0.2757689092925309, 0.0057451856102610594, 0.028725928051305298, 0.05170667049234954, 0.08043259854365484, 0.2700237236822698, 0.9944377176119648, 0.38001646317840243, 0.2635093582121844, 0.02423973324800509, 0.01016504942658278, 0.04066019770633112, 0.06177222343846459, 0.10634205553963524, 0.004691561273807437, 0.09539507923408455, 0.0125108300634865, 0.08266508167544653, 0.44736397142006357, 0.00972530372652312, 0.1701928152141546, 0.26744585247938585, 0.024313259316307803, 0.3604514100103378, 0.04505642625129223, 0.03379231968846917, 0.011264106562823057, 0.5406771150155067, 0.8918144835554178, 0.9916928579031115, 0.9904165306510758, 0.030974219935274546, 0.9292265980582364, 0.950655343071981, 0.03456928520261749, 0.008642321300654373, 0.9569775940495754, 0.03479918523816638, 0.003964012810712558, 0.04360414091783813, 0.009910032026781394, 0.023784076864275347, 0.4855915693122883, 0.2715348775338102, 0.14468646759100837, 0.015856051242850232, 0.9069009282083708, 0.9608253939385847, 0.01455796051422098, 0.02183694077133147, 0.014354042219016535, 0.6232046663423012, 0.014354042219016535, 0.15430595385442775, 0.0430621266570496, 0.0011961701849180445, 0.0011961701849180445, 0.032296594992787205, 0.0035885105547541337, 0.1124399973822962, 0.027296078449397163, 0.3002568629433688, 0.0818882353481915, 0.6005137258867376, 0.035637895261032275, 0.6140683491131714, 0.34541344637615895, 0.002741376558540944, 0.9711732891095598, 0.7191864314563375, 0.2782683195280652, 0.280622762259718, 0.07903845241940377, 0.14937542383850622, 0.17402962000602665, 0.09499116758662289, 0.09281579733654755, 0.02537931958421222, 0.04350740500150666, 0.027554689834287556, 0.03190543033443822, 0.052086401862281174, 0.013021600465570294, 0.9115120325899205, 0.013021600465570294, 0.017246933369578162, 0.015679030335980147, 0.48918574648258056, 0.11288901841905706, 0.28065464301404464, 0.0015679030335980146, 0.004703709100794044, 0.054876606175930515, 0.0015679030335980146, 0.023518545503970218, 0.15326204850208186, 0.827615061911242, 0.18140583786292516, 0.8033687105358115, 0.3143814389765739, 0.04262799172563714, 0.5701493893303967, 0.02664249482852321, 0.005328498965704642, 0.037299492759932495, 0.9563556737554616, 0.8918145190680018, 0.8516107533671513, 0.01954516483137724, 0.002792166404482463, 0.030713830449307096, 0.09214149134792128, 0.002792166404482463, 0.002792166404482463, 0.9783959865118476, 0.985070802912341, 0.9279397961188507, 0.018123824142946304, 0.021748588971535563, 0.021748588971535563, 0.007249529657178521, 0.9682783194166692, 0.03227594398055564, 0.198257429858829, 0.11070016025191423, 0.23335748067041154, 0.08022868756933157, 0.14040020324633026, 0.041657203160999086, 0.11455730869274748, 0.045514351601832335, 0.018514312515999592, 0.016971453139666293, 0.9729523912544388, 0.9762693120277537, 0.015997424716835695, 0.8958557841427989, 0.06398969886734278, 0.015997424716835695, 0.15336951163769766, 0.5808462355640465, 0.24147540130190695, 0.019579086592046508, 0.003263181098674418, 0.05701062016677853, 0.8195276648974414, 0.12114756785440438, 0.0023754425069491057, 0.9789609472806632, 0.9828317942458193, 0.9853109529142842, 0.8282814415918132, 0.17089078070016964, 0.9431795198594524, 0.034297437085798264, 0.8644759535079741, 0.13360082917850508, 0.9680094795415047, 0.022687722176754018, 0.6981094959603055, 0.2997845946867316, 0.0013878916420682018, 0.9655783347717364, 0.9053583230610928, 0.09285726390370182, 0.9629408025537567, 0.9650927591249825, 0.9572636252356269, 0.9572636357581766, 0.02793287424748195, 0.0002850293290559383, 0.0019952053033915683, 0.531579698689325, 0.0267927569312582, 0.007980821213566273, 0.05330048453346046, 0.33519449096978343, 0.010546085175069718, 0.0042754399358390744, 0.04076403593553014, 0.02038201796776507, 0.917190808549428, 0.8761173115974896, 0.11779728559293978, 0.8933049780125705, 0.09209329670232685, 0.009209329670232686, 0.9433203012259563, 0.9517753963204022, 0.9294940374584323, 0.980605340820939, 0.9433202419825982, 0.42829717788847915, 0.009112705912520834, 0.009112705912520834, 0.54676235475125, 0.14802434478370993, 0.8388046204410229, 0.27951615613393294, 0.709541011724599, 0.9296709072738916, 0.03536276595749416, 0.14145106382997663, 0.8133436170223657, 0.4174376286352601, 0.5779905627257448, 0.9810045518227314, 0.9885726749824362, 0.9696692626736935, 0.9724905822065127, 0.006145280140325515, 0.015363200350813786, 0.006145280140325515, 0.9711346196149904, 0.004768255088125976, 0.015894183627086587, 0.007947091813543293, 0.28408223680998873, 0.06312938595777527, 0.05786860379462734, 0.003156469297888764, 0.011573720758925468, 0.16413640349021572, 0.36194181282457827, 0.0073650950284071155, 0.03366900584414682, 0.012625877191555055, 0.9669923198161211, 0.906900590601819, 0.7243556543225407, 0.226706731505528, 0.04423545980595668, 0.005529432475744585, 0.799555459202588, 0.19761740042791237, 0.0011357321863673124, 0.943133179329511, 0.0310800048333243, 0.0062160009666648594, 0.0621600096666486, 0.7894321227664371, 0.09945601546663775, 0.012432001933329719, 0.03889294525759922, 0.9139842135535816, 0.03889294525759922, 0.9069008838125183, 0.08583105754484574, 0.8583105754484575, 0.08620168946871566, 0.9051177394215144, 0.9356679282636149, 0.9356683416735824, 0.0900325037694903, 0.870314203105073, 0.9622650707697714, 0.025322765020257144, 0.13136198041024066, 0.8538528726665643, 0.9494459101123053, 0.9095671650577254, 0.9568527365314575, 0.009464829732767903, 0.3161253130744479, 0.007571863786214322, 0.026501523251750127, 0.05868194434316099, 0.007571863786214322, 0.18172473086914373, 0.10411312706044692, 0.2574433687312869, 0.028394489198303705, 0.9356657768437402, 0.13405104685740923, 0.2891672582209828, 0.20745995346980003, 0.14554113658804432, 0.07660059820423386, 0.03447026919190523, 0.015958457959215386, 0.0702172150205477, 0.013405104685740925, 0.012766766367372308, 0.016677067837120738, 0.8132055935815065, 0.05003120351136221, 0.07226729396085653, 0.02064779827453044, 0.0031765843499277596, 0.013500483487192978, 0.0007941460874819399, 0.0015882921749638798, 0.006353168699855519, 0.9820214343148406, 0.01704185092593523, 0.9884273537042433, 0.9942417160618523, 0.9715671059613105, 0.056500486921086245, 0.10008657683163849, 0.17273006001589222, 0.41648930358972147, 0.142058367115874, 0.027443093647384748, 0.006457198505266999, 0.04035749065791874, 0.02421449439475125, 0.014528696636850748, 0.9781575946279899, 0.00914165976287841, 0.00914165976287841, 0.016661767566207075, 0.24548337547545093, 0.6398118745423518, 0.07331177729131114, 0.0222156900882761, 0.00222156900882761, 0.024012512082105395, 0.012806673110456211, 0.542682773055582, 0.003201668277614053, 0.4162168760898269, 0.9289507545497154, 0.04763850023331874, 0.3658242327157179, 0.017845084522717946, 0.3917807192942167, 0.005677981439046619, 0.20684075242241254, 0.004055701027890442, 0.0016222804111561768, 0.0032445608223123537, 0.002433420616734265, 0.09029277663645491, 0.18302589858740861, 0.006100863286246954, 0.10737519383794639, 0.12201726572493907, 0.31358437291309343, 0.0012201726572493908, 0.10371467586619822, 0.07321035943496344, 0.13216685684834129, 0.033888937653420846, 0.005083340648013126, 0.0016944468826710422, 0.025416703240065633, 0.12708351620032818, 0.43886174261179994, 0.006777787530684169, 0.19825028527251193, 0.03050004388807876, 0.016150608114744194, 0.3363126630952615, 0.0009500357714555408, 0.16625626000471966, 0.014250536571833113, 0.09025339828827637, 0.11305425680320937, 0.26220987292172926, 0.34991314416552893, 0.11268389388381439, 0.0059307312570428625, 0.5278350818768148, 0.2609877427899111, 0.6959673141064296, 0.8906911910595183, 0.06851470700457833, 0.9433203424709994, 0.06381570228928564, 0.1834701440816962, 0.03190785114464282, 0.01595392557232141, 0.01595392557232141, 0.19144710686785693, 0.055838739503124936, 0.39087117652187453, 0.04786177671696423, 0.07014394959896035, 0.02630398109961013, 0.1402878991979207, 0.5874555778912929, 0.15782388659766078, 0.017535987399740088, 0.9356682163300076, 0.023332412371539758, 0.7599700029587236, 0.006666403534725645, 0.029998815906265405, 0.0733304388819821, 0.019999210604176938, 0.006666403534725645, 0.0033332017673628226, 0.039998421208353875, 0.03666521944099105, 0.07628682328238433, 0.038143411641192164, 0.8391550561062275, 0.011766909904796837, 0.9766535220981375, 0.9224252209199935, 0.061495014727999564, 0.9638867470632018, 0.008877908771801574, 0.5628594161322199, 0.4261396210464756, 0.9496443032586496, 0.009840873608897923, 0.03444305763114273, 0.004920436804448962, 0.9751653956533082, 0.008059218145895108, 0.008059218145895108, 0.06021008717376974, 0.18063026152130923, 0.024084034869507897, 0.036126052304261844, 0.6502689414767132, 0.048168069739015794, 0.9697995663278703, 0.9126329190312111, 0.11781626187225067, 0.14994796965559176, 0.021421138522227393, 0.6961870019723903, 0.021421138522227393, 0.07086236223811801, 0.08136048997709847, 0.013122659673725558, 0.3831816624727863, 0.026245319347451116, 0.12597753286776536, 0.013122659673725558, 0.09973221352031425, 0.04199251095592179, 0.14434925641098115, 0.972799940194462, 0.01801481370730485, 0.04549952072695222, 0.04549952072695222, 0.81899137308514, 0.41860554664073896, 0.062271899500275216, 0.024216849805662584, 0.006919099944475024, 0.020757299833425072, 0.38055049694612636, 0.006919099944475024, 0.031135949750137608, 0.04843369961132517, 0.9641844410721996, 0.004149787220928313, 0.004149787220928313, 0.7511114869880247, 0.24068765881384216, 0.9711733678432345, 0.9711733678432345, 0.11989298176977509, 0.4789442151326617, 0.008160255303701968, 0.011926526982333647, 0.19019671977089975, 0.008160255303701968, 0.03640729289343955, 0.017575934500281165, 0.0728145857868791, 0.05586636323303656, 0.7474676182906945, 0.002198434171443219, 0.15389039200102533, 0.013190605028659314, 0.01978590754298897, 0.06375459097185335, 0.016083701842461502, 0.9811058123901516, 0.040132707698615766, 0.9069991939887162, 0.01203981230958473, 0.008026541539723153, 0.028092895389031033, 0.9956026688015597, 0.3534028746734779, 0.008186939181624971, 0.06276653372579144, 0.05185061481695815, 0.020467347954062427, 0.06003755399858312, 0.35613185440068623, 0.06140204386218728, 0.020467347954062427, 0.006822449318020809, 0.9095671854207731, 0.9494458958231807, 0.9893470544487765, 0.006222308518545764, 0.9846259991895201, 0.007403203001424963, 0.9105436138100499, 0.9095673719320679, 0.960399146301289, 0.04702568212129142, 0.04702568212129142, 0.2821540927277485, 0.6113338675767884, 0.9610731084393537, 0.7962579908239136, 0.20424461474665442, 0.9571680566755854, 0.029911501771112042, 0.9712853642427225, 0.9875055151024227, 0.9889512067526175, 0.9866261601682049, 0.9539864284647446, 0.9711733678432345, 0.8638909004970673, 0.8638909004970673, 0.06334966202518437, 0.9185700993651733, 0.03552501183163319, 0.9236503076224628, 0.9545206169904, 0.8638908393492712, 0.015466564061886243, 0.07346617929395965, 0.0038666410154715608, 0.6457290495837507, 0.023199846092829365, 0.2358651019437652, 0.9813112906679001, 0.012744302476206495, 0.9743077643280956, 0.10012537050381082, 0.1699496420393631, 0.0052697563423058326, 0.08563354056246979, 0.11329976135957541, 0.056649880679787705, 0.11066488318842249, 0.07509402787785811, 0.11593463953072831, 0.1673147638682102, 0.1734096025699668, 0.5202288077099004, 0.30387968450356084, 0.0016515200244758743, 0.9903087985255775, 0.9724003905801726, 0.7745362025379897, 0.22267915822967205, 0.9083310280475683, 0.23437004749460583, 0.11469172536970072, 0.056514763225649634, 0.22772125182099998, 0.05152816647044525, 0.06316355889925547, 0.04321717187843795, 0.08809654267527736, 0.03823057512323357, 0.07978554808327007, 0.957078961966954, 0.9806053428320216, 0.9806053428320219, 0.992725211225725, 0.9887282973628861, 0.9364225234124336, 0.11841113920446789, 0.13032672553950866, 0.2360775542629957, 0.1712865535662114, 0.22937503694953526, 0.046172897048283076, 0.008191965605340546, 0.022341724378201488, 0.01861810364850124, 0.02010755194038134, 0.9785735699791289, 0.24367669716933693, 0.7505242272815578, 0.034834251796748365, 0.17417125898374183, 0.06966850359349673, 0.034834251796748365, 0.6966850359349673, 0.9126324982377447, 0.01950848743067133, 0.00557385355162038, 0.6409931584363436, 0.00557385355162038, 0.1672156065486114, 0.10311629070497702, 0.055738535516203794, 0.00278692677581019, 0.0015554260869968751, 0.0031108521739937503, 0.4028553565321906, 0.23331391304953125, 0.32041777392135623, 0.02177596521795625, 0.013998834782971875, 0.0015554260869968751, 0.953835585444155, 0.02026339252084288, 0.02026339252084288, 0.4012151719126891, 0.02026339252084288, 0.5146901700294092, 0.008105357008337153, 0.008105357008337153, 0.004052678504168576, 0.9724008394804355, 0.9711733678432345, 0.16654936084373442, 0.2814109890118271, 0.04594465126723708, 0.008614622112606952, 0.06891697690085562, 0.05455927337984403, 0.1148616281680927, 0.025843866337820858, 0.09188930253447417, 0.13783395380171123, 0.9927217956827609, 0.3868304532527607, 0.2646228224987791, 0.014433972136297041, 0.11739630670854927, 0.018283031372642918, 0.06543400701787992, 0.0057735888545188165, 0.10777365861768458, 0.009622648090864694, 0.008660383281778225, 0.0076083457568640765, 0.98908494839233, 0.011866450753106349, 0.08306515527174445, 0.03955483584368783, 0.011866450753106349, 0.015821934337475134, 0.510257382383573, 0.023732901506212697, 0.2610619165683397, 0.03955483584368783, 0.9177678350253927, 0.989671943608633, 0.022672484743675246, 0.015114989829116831, 0.41566222030071287, 0.5063521592754139, 0.03778747457279208, 0.8986385220479919, 0.04729676431831536, 0.1863028006899348, 0.7718258885725869, 0.10815324907909801, 0.08024273318771788, 0.7047405262573484, 0.017444072432112583, 0.04535458832349272, 0.034888144864225167, 0.9915394865550184, 0.9877889013096582, 0.991616956292195, 0.006083539609154571, 0.1936357325200721, 0.07026444302416118, 0.14134591445558006, 0.16422270985879533, 0.10703072135075715, 0.06127713054432662, 0.09804340887092258, 0.1102988349797879, 0.03513222151208059, 0.018791653366926828, 0.17346717837436723, 0.050748376652075516, 0.14117275686850098, 0.37899810381527305, 0.0664342385263534, 0.013379117481001727, 0.07312379726685427, 0.050287027773420284, 0.04198274795762611, 0.010611024209070336, 0.9708153978353071, 0.01279467446495978, 0.0076768046789758675, 0.9033040172261604, 0.07676804678975868, 0.9448683547152987, 0.9474745178933147, 0.03158248392977716, 0.9842254252990661, 0.02749557871032594, 0.893606308085593, 0.01374778935516297, 0.06873894677581485, 0.9000541788645398, 0.09541210376655898, 0.0031804034588852996, 0.9157791172631803, 0.07475747896025961, 0.6088880469846236, 0.07842820277319508, 0.11550335317506912, 0.022815477170384024, 0.14687463428434716, 0.004277901969447004, 0.0014259673231490015, 0.019963542524086022, 0.554082130997594, 0.16158149295013632, 0.06252770416844355, 0.03652608461324921, 0.16405783766967866, 0.003095430899427899, 0.0006190861798855798, 0.004333603259199059, 0.013000809777597176, 0.03320673255955778, 0.9629952442271755, 0.600930677379862, 0.04664758682857376, 0.030183732653783022, 0.019207829870589197, 0.005487951391596913, 0.26067769110085337, 0.01783584202268997, 0.004115963543697685, 0.004115963543697685, 0.010975902783193827, 0.18079039406124808, 0.8082394087444033, 0.35461712009633095, 0.15760760893170264, 0.05065958858519013, 0.028144215880661187, 0.09850475558231415, 0.04221632382099178, 0.03658748064485954, 0.030958637468727304, 0.06754611811358685, 0.13227781463910757, 0.8050573885588158, 0.020543729213622096, 0.03466754304798728, 0.008987881530959667, 0.010271864606811048, 0.06419915379256905, 0.012839830758513809, 0.03466754304798728, 0.003851949227554143, 0.003851949227554143, 0.005309976846259521, 0.4646229740477081, 0.023894895808167844, 0.007964965269389281, 0.09823457165580114, 0.005309976846259521, 0.010619953692519042, 0.005309976846259521, 0.3823183329306855, 0.2910105023781153, 0.08314585782231866, 0.6028074692118103, 0.09742193841878859, 0.8767974457690973, 0.017057434366358253, 0.005427365480204898, 0.3419240252529086, 0.18220441254973588, 0.1744510332923003, 0.020934123995076038, 0.06745439953968946, 0.08063514427732993, 0.08993919938625261, 0.020158786069332482, 0.9786440445041649, 0.9855185650417732, 0.9711733678431651, 0.9711733678432345, 0.09090421483377233, 0.05194526561929848, 0.02597263280964924, 0.04545210741688616, 0.038958949214473855, 0.04545210741688616, 0.6882747694557048, 0.01298631640482462, 0.9696692660225016, 0.9273384973666504, 0.08011420793614567, 0.8812562872976023, 0.9675571983181546, 0.006085265398227387, 0.02434106159290955, 0.9911041061654724, 0.9649411727188557, 0.9812193415403963, 0.2242331108088026, 0.09353038846570376, 0.08034020547695066, 0.22902954098653097, 0.013190182988753093, 0.12110986198764204, 0.04436697914398768, 0.1558839807761729, 0.02518125843307409, 0.014389290533185193, 0.9649412395785274, 0.23706389549727247, 0.013170216416515137, 0.6585108208257568, 0.039510649249545414, 0.039510649249545414, 0.01245333030594723, 0.587382079430511, 0.2096310601501117, 0.1245333030594723, 0.01660444040792964, 0.022831105560903255, 0.018679995458920844, 0.006226665152973615, 0.9494459178231205, 0.9702801174936703, 0.7309867645343563, 0.0085246269916543, 0.0007103855826378583, 0.006393470243740726, 0.005683084661102867, 0.05896200335894224, 0.14420827327548524, 0.01775963956594646, 0.021311567479135752, 0.006393470243740726, 0.6450900839839204, 0.035222309944521434, 0.0006522649989726192, 0.0013045299979452384, 0.0019567949969178577, 0.06131290990342621, 0.17611154972260717, 0.0169588899732881, 0.05479025991370001, 0.006522649989726192, 0.8860087000709704, 0.036520751397006716, 0.047978242031361765, 0.11743927900213924, 0.0007160931646471905, 0.02721154025659324, 0.036520751397006716, 0.5700101590591636, 0.03866903089094829, 0.04224949671418424, 0.0830668070990741, 0.9604206099843878, 0.003807814928040811, 0.9824162514345293, 0.015231259712163244, 0.03221537097878483, 0.4344944906369441, 0.11812302692221104, 0.41466964695769193, 0.005553170732235949, 0.1832546341637863, 0.23878634148614578, 0.5108917073657072, 0.061084878054595435, 0.4035742630001669, 0.017546707086963778, 0.5614946267828409, 0.4272133927175081, 0.5718291064013851, 0.018240600933127564, 0.009120300466563782, 0.9165901968896601, 0.004560150233281891, 0.050161652566100806, 0.9944226895612764, 0.08190139143269808, 0.9009153057596788, 0.011700198776099725, 0.42494697933781206, 0.01990586664922541, 0.03548437098340182, 0.025098701427284216, 0.008654724630098006, 0.360036544612077, 0.025964173890294016, 0.03634984344641162, 0.026829646353303815, 0.03721531590942142, 0.36865345085683093, 0.6238750706807908, 0.005671591551643553, 0.3348341179950909, 0.04445930197445191, 0.1217999627008422, 0.1741322660666033, 0.08613989757550057, 0.09540225215351138, 0.04584865516115353, 0.050942950179059476, 0.02084029780052433, 0.025934592818430278, 0.1827398512711393, 0.06251626490854766, 0.08175203872656231, 0.004808943454503665, 0.5241748365408996, 0.03366260418152566, 0.07694309527205864, 0.03366260418152566, 0.9823732454257137, 0.03538470474530864, 0.08492329138874072, 0.011794901581769546, 0.48830892548525917, 0.040102665378016454, 0.009435921265415636, 0.002358980316353909, 0.3278982639731933, 0.8062881241392525, 0.17556273670774047, 0.013004647163536331, 0.006502323581768166, 0.9676392727602092, 0.03155345454652856, 0.4884611924884991, 0.4545039972887639, 0.003918137907661758, 0.032651149230514646, 0.003918137907661758, 0.016978597599867615, 0.9748361775038593, 0.00932857586128095, 0.013992863791921425, 0.22886077966246907, 0.7651464872297473, 0.0034158325322756577, 0.9857320116752769, 0.27305732763213586, 0.5360014209075259, 0.03309785789480434, 0.08734156944462257, 0.04964678684220652, 0.002758154824567029, 0.013790774122835144, 0.0045969247076117145, 0.9857320106325154, 0.9294868637147361, 0.9126327524301582, 0.9787004011307547, 0.9557853367265918, 0.04814747993281116, 0.01203686998320279, 0.9388758586898177, 0.9703153551022674, 0.26946244213330095, 0.036935661850047485, 0.24679737690713546, 0.07722911114100837, 0.15865545658315852, 0.08478413288306355, 0.02182561836593715, 0.07806855800123673, 0.018467830925023743, 0.007555021742055168, 0.16758021786572938, 0.022133236321888787, 0.7683394894598536, 0.034780799934396665, 0.006323781806253939, 0.9969078327086398, 0.9938154849331501, 0.9896470877034086, 0.10800312597429292, 0.12420359487043685, 0.04860140668843181, 0.059401719285861104, 0.005400156298714646, 0.02700078149357323, 0.5724165676637525, 0.03240093779228787, 0.016200468896143936, 0.9936176410523623, 0.8918146272069024, 0.8638910175105509, 0.9826247929774686, 0.8638909034336217, 0.01977990589943267, 0.8678433713376085, 0.009889952949716336, 0.09024582066616156, 0.0061812205935727095, 0.001236244118714542, 0.001236244118714542, 0.0037087323561436256, 0.9901150148962911, 0.023851352317376024, 0.2756156267785674, 0.00530030051497245, 0.5803829063894832, 0.0424024041197796, 0.002650150257486225, 0.05565315540721072, 0.007950450772458675, 0.09173183384594383, 0.882036863903306, 0.014112589822452897, 0.9823732958334176, 0.958723687245637, 0.015978728120760618, 0.015978728120760618, 0.005326242706920206, 0.005326242706920206, 0.9762693210885335, 0.9860605766000392, 0.06659213185944661, 0.8656977141728059, 0.026666004588272674, 0.0325917833856666, 0.13333002294136337, 0.6103552161315745, 0.0651835667713332, 0.04740623037915142, 0.07110934556872713, 0.011851557594787855, 0.005925778797393927, 0.011357724613422673, 0.9540488675275046, 0.03407317384026802, 0.9793905650469008, 0.9931394010964258, 0.13829859272050413, 0.18625137110098045, 0.04378297156478272, 0.2974462195194762, 0.07019174806417547, 0.05490245640663229, 0.009034581434002783, 0.12161936545772976, 0.016679227262774366, 0.06185213443278828, 0.9787427003855974, 0.22081772592024587, 0.190534152079755, 0.14510879131901872, 0.08012528911963207, 0.09652889161656462, 0.03343811278220866, 0.11040886296012294, 0.04100900624233138, 0.06813804114110444, 0.015141786920245431, 0.04038075856752702, 0.22209417212139862, 0.7066632749317229, 0.09015396536676765, 0.8514541173528055, 0.010017107262974183, 0.010017107262974183, 0.010017107262974183, 0.02337325028027309, 0.9909238284736162, 0.8638905139864445, 0.9510314290227442, 0.9273221190025799, 0.060477529500168256, 0.9891387874726856, 0.9414886235972456, 0.13599280729406166, 0.04367652205064754, 0.08139715473075222, 0.030772095081138037, 0.017867668111628536, 0.06352948661912369, 0.4635667226739182, 0.012904426969509499, 0.12705897323824739, 0.02183826102532377, 0.9102232836757479, 0.07622559518466854, 0.00896771708054924, 0.5254542738203936, 0.468339678839916, 0.018837058008123294, 0.04791164754240056, 0.04504513871507745, 0.04504513871507745, 0.015151546658707868, 0.0024570075662769517, 0.5606072263721911, 0.006961521437784696, 0.24692926041083363, 0.010647032787200124, 0.9798919846914622, 0.11903397021857831, 0.8332377915300482, 0.32119743868389916, 0.6638080399467249, 0.9771334870047163, 0.9543989888177278, 0.03670765341606645, 0.33178283459863483, 0.6635656691972697, 0.992200813685709, 0.8918113486518783, 0.15602718229863335, 0.832144972259378, 0.0091512676040028, 0.9563074646182926, 0.011439084505003501, 0.011439084505003501, 0.0068634507030021, 0.0022878169010007, 0.9921744615227607, 0.005527434326032092, 0.3477517797733179, 0.11753283149133043, 0.0910489975912221, 0.05158289217145282, 0.08706776765852607, 0.07564336872122444, 0.07252762355650581, 0.08758705851931252, 0.05244837693943022, 0.01696350145235697, 0.040525633692284166, 0.06078845053842625, 0.8915639412302516, 0.9591601214055753, 0.32584637292379653, 0.04739583606164313, 0.04739583606164313, 0.2014323032619833, 0.023697918030821566, 0.32584637292379653, 0.023697918030821566, 0.03438795313063278, 0.06877590626126556, 0.10316385939189834, 0.7909229220045539, 0.06729484566404682, 0.8748329936326087, 0.9905647286595399, 0.1689037772857629, 0.2679601278744058, 0.03555868995489745, 0.07492723954781963, 0.13334508733086545, 0.001269953212674909, 0.26415026823638105, 0.05460798814502109, 0.9083309844888569, 0.9784199556335842, 0.542831210793338, 0.3662475639087582, 0.09156189097718954, 0.223642096917245, 0.16382013683650043, 0.13022780540654388, 0.2121378738247941, 0.10261766998466179, 0.058441453309650435, 0.04095503420912511, 0.031291486811466374, 0.02300844618490175, 0.013805067710941048, 0.060467185320919575, 0.5562981049524601, 0.02418687412836783, 0.07774352398403946, 0.21940950102162246, 0.029369775727303794, 0.013821070930495904, 0.01727633866311988, 0.5528695134651688, 0.24995851329681676, 0.03644042107288445, 0.017650828957178406, 0.01138763158527639, 0.03587103949362063, 0.01081825000601257, 0.0791440395176709, 0.005124434213374375, 0.981483689766049, 0.24063863370775712, 0.025988972440437772, 0.038502181393241144, 0.04909028127638246, 0.004812772674155143, 0.3118676692852532, 0.24448885184708125, 0.007700436278648228, 0.04909028127638246, 0.027914081510099827, 0.750635253322101, 0.24239263388526178, 0.033465631364174665, 0.903572046832716, 0.044620841818899554, 0.011155210454724888, 0.927338475081808, 0.4834483367990181, 0.022704904706483096, 0.017167123070755512, 0.008306672453591377, 0.03544180246865654, 0.22317259991982166, 0.09248095331665065, 0.01439823225289172, 0.01827467939790103, 0.08472805902663204, 0.3975316326323754, 0.25925976041241877, 0.024047282125209856, 0.009017730796953696, 0.032313535355750746, 0.07589923420769361, 0.09017730796953696, 0.007514775664128079, 0.08641992013747292, 0.01803546159390739, 0.3846681580715029, 0.27583116302319427, 0.026586136195006677, 0.010800617829221463, 0.03738675402422814, 0.0623112567070469, 0.09969801073127504, 0.005815717292657711, 0.08557412587767775, 0.01246225134140938, 0.9562202885692314, 0.02988188401778848, 0.4150486356589103, 0.10696249966261158, 0.13446172386665178, 0.05006755303356286, 0.05528292314122566, 0.11559156656801729, 0.029964671891298988, 0.05964486904945273, 0.015077160856697908, 0.017732258366053515, 0.9925117377663906, 0.8323767834255322, 0.16395300279593816, 0.9783685458653449, 0.9269163804411743, 0.061890379439395175, 0.007196555748766881, 0.0014393111497533761, 0.0014393111497533761, 0.995251956015059, 0.9917323392955686, 0.9970028662396997, 0.0024862914370067323, 0.9825879801797174, 0.006258522166749793, 0.006258522166749793, 0.9696689763533558, 0.9696692302522218, 0.3491640584954102, 0.0008082501354060421, 0.00404125067703021, 0.0016165002708120842, 0.0032330005416241685, 0.15841702653958425, 0.4202900704111419, 0.010507251760278547, 0.05011150839517461, 0.0016165002708120842, 0.8410189040411412, 0.002920204527920629, 0.020441431695444406, 0.05548388603049196, 0.029202045279206293, 0.052563681502571326, 0.044050109434636095, 0.6225748800095235, 0.08810021886927219, 0.022025054717318047, 0.11453028453005384, 0.03964509849117249, 0.010278358868081755, 0.019088380755008974, 0.027898402641936194, 0.011746695849236292, 0.005180113488058985, 0.9272403143625583, 0.01036022697611797, 0.01036022697611797, 0.02072045395223594, 0.01036022697611797, 0.015540340464176955, 0.9866261598343408, 0.18969225454996708, 0.1802076418224687, 0.053746138789157336, 0.5501075381949044, 0.02213076303082949, 0.9638867634184846, 0.9854898505713762, 0.9273385932004167, 0.017069764404293877, 0.9189223170978205, 0.03129456807453878, 0.008534882202146939, 0.01991472513834286, 0.0028449607340489797, 0.9277762747854912, 0.04033809890371701, 0.09003257375575222, 0.8703148796389382, 0.10027858304779667, 0.012154979763369293, 0.0030387449408423232, 0.0030387449408423232, 0.5834390286417261, 0.1306660324562199, 0.14889850210127384, 0.0030387449408423232, 0.012154979763369293, 0.700554324283521, 0.14777317777855523, 0.14777317777855523, 0.9786687088923317, 0.8655247073137065, 0.13064523883980475, 0.9791325677580859, 0.005630488162648306, 0.23507288079056676, 0.06193536978913136, 0.1379469599848835, 0.22240428242460808, 0.007038110203310382, 0.08164207835840043, 0.09290305468369704, 0.10416403100899366, 0.05067439346383475, 0.9809536725700857, 0.8726766221317072, 0.019833559593902435, 0.1090845777664634, 0.12498425576225097, 0.8635275852664612, 0.8489640398902424, 0.0018950090176121483, 0.0037900180352242966, 0.01137005410567289, 0.10801551400389245, 0.013265063123285037, 0.015160072140897186, 0.37845196487884264, 0.00357030155546078, 0.0005100430793515399, 0.5926700582064894, 0.00969081850767926, 0.00561047387286694, 0.00969081850767926, 0.44076276971126166, 0.545706286309181, 0.012593221991750333, 0.9919548205506783, 0.9273384898424547, 0.3447084319523306, 0.0024275241686783845, 0.009710096674713538, 0.4151066328440038, 0.06797067672299477, 0.1116661117592057, 0.026702765855462232, 0.02184771751810546, 0.9095671697563774, 0.3331409312118194, 0.6440724670095176, 0.005552348853530324, 0.01665704656059097, 0.14082526390228192, 0.0033529824738638553, 0.006705964947727711, 0.0033529824738638553, 0.10394245668977951, 0.6571845648773156, 0.03352982473863855, 0.023470877317046987, 0.030176842264774694, 0.27261449120599535, 0.6655000814734593, 0.024054219812293706, 0.01603614654152914, 0.01603614654152914, 0.9363837532015206, 0.3797303060209469, 0.13294715309267288, 0.032405868566339015, 0.1204833574902348, 0.06398081742584882, 0.10968140130145512, 0.019111153257071724, 0.05899529918487359, 0.06979725537365326, 0.013294715309267287, 0.9702800612474328, 0.8600171827962524, 0.024672624096613797, 0.10926447814214682, 0.007049321170461085, 0.9641844830091547, 0.9105438088343717, 0.9105438088343717, 0.31187977029327824, 0.18870036521946246, 0.10745437463886057, 0.037346947283018614, 0.07207305616021135, 0.16314719076266024, 0.01048335362330347, 0.08321161938497129, 0.02096670724660694, 0.005896886413108202, 0.25497885766685197, 0.04222579808495638, 0.008120345785568535, 0.040601728927842674, 0.009744414942682241, 0.5408150293188644, 0.008120345785568535, 0.08607566532702647, 0.009744414942682241, 0.9280744667166171, 0.0628576332039143, 0.007395015671048741, 0.9864362140220473, 0.9069009523603253, 0.9069009523603253, 0.9828153972351485, 0.021888551209393644, 0.016416413407045232, 0.004104103351761308, 0.005472137802348411, 0.6183515716653705, 0.1874207197304331, 0.14501165176223288, 0.7152179201730698, 0.013244776299501293, 0.27151791413977655, 0.5592927640258807, 0.34913427087676185, 0.08813098099801756, 0.9775200303778198, 0.9252323903931953, 0.0089394433854415, 0.05810638200536975, 0.9670417975752409, 0.8270658766752801, 0.16979498130419657, 0.20901481722539003, 0.4995602369145847, 0.03854173934652582, 0.0044471237707529795, 0.008894247541505959, 0.1734378270593662, 0.03854173934652582, 0.0044471237707529795, 0.008894247541505959, 0.011858996722007945, 0.9273384129516008, 0.9083309290115311, 0.001457150473876702, 0.10637198459299925, 0.09471478080198563, 0.001457150473876702, 0.493974010644202, 0.17777235781295764, 0.12094348933176627, 0.002914300947753404, 0.9702800086216467, 0.935668355795403, 0.9823732449514484, 0.0494187496491162, 0.9389562433332078, 0.011525318726866901, 0.9681267730568197, 0.011525318726866901, 0.9895414098043896, 0.22085887604513413, 0.025368924951130273, 0.033327803367171144, 0.08108107386341637, 0.04825070039724778, 0.12087546594362071, 0.17807990455891445, 0.12286518554763093, 0.13778808257770755, 0.03183551366416348, 0.9431332532852927, 0.9532050001413985, 0.9715262476793781, 0.14316353381181585, 0.05726541352472634, 0.7873994359649872, 0.294509952985056, 0.01667037469726732, 0.011113583131511546, 0.5223384071810426, 0.11113583131511547, 0.03889754096029041, 0.011113583131511546, 0.9711733678432345, 0.9711733678432345, 0.008125534832359223, 0.6764507747939054, 0.07109842978314321, 0.0345335230375267, 0.10563195282066991, 0.026407988205167477, 0.038596290453706314, 0.026407988205167477, 0.014219685956628642, 0.08557707741402903, 0.02852569247134301, 0.02852569247134301, 0.8272450816689474, 0.08557705715591409, 0.02852568571863803, 0.02852568571863803, 0.8272448858405029, 0.9844040716107941, 0.8581371506290616, 0.03402957666287658, 0.02219320217144125, 0.07693643419432966, 0.004438640434288249, 0.002959093622858833, 0.9884570670160195, 0.9907942601269941, 0.6002514331551857, 0.1541018172075425, 0.008699296132683852, 0.013670322494217482, 0.006213782951917037, 0.009942052723067259, 0.05592404656725333, 0.03479718453073541, 0.05716680315763674, 0.05965231633840355, 0.9031157205869121, 0.01760745515360349, 0.005869151717867829, 0.0513550775313435, 0.008070083612068265, 0.0007336439647334786, 0.011738303435735658, 0.0014672879294669572, 0.9866261491710975, 0.9956346894903103, 0.004928884601437179, 0.9906203152287186, 0.00971196387479136, 0.9638867463263441, 0.6286330515536902, 0.37022262719960414, 0.7946135520112456, 0.20202039457913024, 0.9945337097257427, 0.9606516328554187, 0.8638906676014192, 0.6389037916617402, 0.011358289629542048, 0.014197862036927559, 0.002839572407385512, 0.012778075833234802, 0.03123529648124063, 0.24278344083146125, 0.019877006851698582, 0.011358289629542048, 0.014197862036927559, 0.9698809308806424, 0.9917635230026007, 0.004722683442869528, 0.13999705807411902, 0.018666274409882538, 0.830649211239773, 0.009333137204941269, 0.9745337750718073, 0.26656687538599105, 0.11128520040386035, 0.040114432703717104, 0.18116195414581918, 0.06470069790922113, 0.09963907478020055, 0.06599471186740556, 0.14881160519120862, 0.01811619541458192, 0.005176055832737691, 0.863890610748391], \"Term\": [\"account\", \"account\", \"account\", \"account\", \"account\", \"account\", \"account\", \"account\", \"accountants\", \"accountants\", \"accountants\", \"accountants\", \"accrued royalty\", \"acquiror company\", \"act\", \"act\", \"act\", \"act\", \"act\", \"act\", \"act\", \"act\", \"act\", \"act\", \"action\", \"action\", \"action\", \"action\", \"action\", \"action\", \"action\", \"action\", \"action\", \"action\", \"action suit\", \"action suit\", \"action suit\", \"action suit\", \"action suit\", \"actions judgments\", \"actions judgments\", \"actual prospective\", \"adcs\", \"adcs group\", \"administrative\", \"administrative\", \"administrative\", \"administrative\", \"administrative\", \"administrative\", \"administrative\", \"administrative\", \"administrative agent\", \"administrative agent\", \"administrative agent\", \"administrative agent\", \"administrative investigative\", \"adverse\", \"adverse\", \"adverse\", \"adverse\", \"adverse\", \"adverse\", \"adverse\", \"adverse effect\", \"adverse effect\", \"adverse effect\", \"adverse effect\", \"adverse effect\", \"advised possibility\", \"adviser\", \"adviser\", \"adviser\", \"adviser s\", \"adviser s\", \"advisors\", \"advisors\", \"advisors\", \"advisors\", \"affiliates\", \"affiliates\", \"affiliates\", \"affiliates\", \"affiliates\", \"affiliates\", \"affiliates\", \"affiliates\", \"affiliates\", \"affiliates\", \"agent\", \"agent\", \"agent\", \"agent\", \"agent\", \"agent\", \"agent\", \"agent\", \"agent\", \"agent issuing\", \"agent issuing\", \"agent lender\", \"agent lender\", \"agent lender\", \"agents\", \"agents\", \"agents\", \"agents\", \"agents\", \"agents\", \"agents\", \"agents\", \"agents\", \"agreement\", \"agreement\", \"agreement\", \"agreement\", \"agreement\", \"agreement\", \"agreement\", \"agreement\", \"agreement\", \"agreement\", \"agreement containing\", \"agreement employee\", \"agrees\", \"agrees\", \"agrees\", \"agrees\", \"agrees\", \"agrees\", \"agrees\", \"agrees\", \"agrees\", \"agrees\", \"akd\", \"alleged omission\", \"alleged untrue\", \"amounts\", \"amounts\", \"amounts\", \"amounts\", \"amounts\", \"amounts\", \"amounts\", \"amounts\", \"applicable\", \"applicable\", \"applicable\", \"applicable\", \"applicable\", \"applicable\", \"applicable\", \"applicable\", \"applicable\", \"applicable\", \"applicable federal\", \"applicable federal\", \"applicable federal\", \"applicable federal\", \"applicable laws\", \"applicable laws\", \"applicable laws\", \"applicable laws\", \"applicable laws\", \"applicable laws\", \"applicable laws\", \"applicable state\", \"applications\", \"applications\", \"applications\", \"applications\", \"applications\", \"applications\", \"applications\", \"applications\", \"appropriate protective\", \"approvals\", \"approvals\", \"approvals\", \"approvals\", \"approvals\", \"approvals\", \"arising\", \"arising\", \"arising\", \"arising\", \"arising\", \"arising\", \"arising\", \"arising\", \"assets property\", \"assignee\", \"assignee\", \"assignee\", \"assignee participant\", \"association insurance\", \"attorneys\", \"attorneys\", \"attorneys\", \"attorneys\", \"attorneys\", \"attorneys\", \"attorneys fees\", \"attorneys fees\", \"attorneys fees\", \"attorneys fees\", \"auditors\", \"auditors\", \"auditors\", \"authority\", \"authority\", \"authority\", \"authority\", \"authority\", \"authority\", \"authority\", \"authority\", \"authority\", \"authority\", \"authorizations\", \"authorizations\", \"authorizations\", \"authorizations\", \"authorizations\", \"authorizations approvals\", \"authorizations approvals\", \"authorizations approvals\", \"authorship\", \"available\", \"available\", \"available\", \"available\", \"available\", \"available\", \"available\", \"available\", \"available\", \"available\", \"available administrative\", \"available result\", \"avif\", \"b\", \"b\", \"b\", \"b\", \"b\", \"b\", \"b\", \"b\", \"b\", \"b\", \"bad\", \"bad\", \"bad faith\", \"bad faith\", \"bank\", \"bank\", \"bank\", \"bank\", \"bank\", \"bank\", \"bank\", \"bank\", \"bank\", \"best\", \"best\", \"best\", \"best\", \"best\", \"best\", \"best\", \"best\", \"best\", \"best\", \"best theratronics\", \"bfdx\", \"binding assets\", \"binding trustees\", \"borrower\", \"borrower\", \"borrower\", \"borrower\", \"borrower\", \"borrower\", \"borrower\", \"borrower\", \"borrower agrees\", \"borrower agrees\", \"borrower agrees\", \"burress\", \"business\", \"business\", \"business\", \"business\", \"business\", \"business\", \"business\", \"business\", \"business\", \"business\", \"business day\", \"business day\", \"business day\", \"business plans\", \"business plans\", \"buyer\", \"buyer\", \"buyer\", \"buyer\", \"buyer\", \"buyer\", \"buyer\", \"buyer\", \"buyer\", \"bylaws\", \"carrier\", \"carrier\", \"carrier\", \"catalent\", \"cch\", \"certificate certificates\", \"certificate incorporation\", \"certificates\", \"certificates\", \"certificates\", \"certificates\", \"certificates\", \"certificates\", \"certificates\", \"certificates representing\", \"claim\", \"claim\", \"claim\", \"claim\", \"claim\", \"claim\", \"claim\", \"claim\", \"claim\", \"claim\", \"claims\", \"claims\", \"claims\", \"claims\", \"claims\", \"claims\", \"claims\", \"claims\", \"claims\", \"closing\", \"closing\", \"closing\", \"closing\", \"closing\", \"closing\", \"closing\", \"closing\", \"closing\", \"closing company\", \"closing company\", \"closing subject\", \"com\", \"com\", \"com\", \"com\", \"com\", \"commissioners\", \"commissioners c\", \"common stock\", \"common stock\", \"communication document\", \"company\", \"company\", \"company\", \"company\", \"company\", \"company\", \"company\", \"company\", \"company\", \"company\", \"company affiliates\", \"company affiliates\", \"company affiliates\", \"company affiliates\", \"company confidential\", \"company confidential\", \"company deliver\", \"company deliver\", \"company employee\", \"company employee\", \"company employee\", \"company executive\", \"company executive\", \"company executive\", \"company s\", \"company s\", \"company s\", \"company s\", \"company s\", \"company s\", \"company s\", \"company s\", \"company s\", \"company s\", \"company subsidiaries\", \"company subsidiaries\", \"company subsidiaries\", \"company subsidiaries\", \"company subsidiaries\", \"company subsidiaries\", \"company subsidiaries\", \"compliance\", \"compliance\", \"compliance\", \"compliance\", \"compliance\", \"compliance\", \"compliance\", \"compliance\", \"compliance applicable\", \"compliance applicable\", \"compliance applicable\", \"compliance applicable\", \"compliance material\", \"compliance material\", \"comply\", \"comply\", \"comply\", \"comply\", \"comply\", \"comply\", \"comply\", \"comply\", \"comply\", \"comply\", \"comply applicable\", \"comply applicable\", \"comply applicable\", \"comply applicable\", \"comply applicable\", \"comply applicable\", \"comply material\", \"conduct\", \"conduct\", \"conduct\", \"conduct\", \"conduct\", \"conduct\", \"conduct\", \"conduct\", \"conduct\", \"conduct\", \"conduct business\", \"conduct business\", \"conduct business\", \"conduct business\", \"conduct business\", \"conduct business\", \"conduct business\", \"conduct business\", \"conducted\", \"conducted\", \"conducted\", \"conducted\", \"conducted\", \"conducted\", \"conducted\", \"conducted\", \"confidential\", \"confidential\", \"confidential\", \"confidential\", \"confidential\", \"confidential\", \"confidential\", \"confidential\", \"confidential basis\", \"confidential information\", \"confidential information\", \"confidential information\", \"confidential information\", \"confidential nature\", \"confidential nature\", \"confidential proprietary\", \"confidential proprietary\", \"confidential proprietary\", \"confidential proprietary\", \"confidentiality\", \"confidentiality\", \"confidentiality\", \"confidentiality\", \"confidentiality\", \"confidentiality\", \"confidentiality\", \"confidentiality information\", \"confidentiality information\", \"conflict\", \"conflict\", \"conflict\", \"conflict\", \"conflict\", \"conflict\", \"conflict\", \"conflict\", \"conflict\", \"conflicts\", \"conflicts\", \"conflicts\", \"conflicts\", \"conform\", \"conform\", \"conform\", \"connection\", \"connection\", \"connection\", \"connection\", \"connection\", \"connection\", \"connection\", \"connection\", \"connection\", \"connection\", \"connection exercise\", \"connection exercise\", \"consent borrower\", \"consents\", \"consents\", \"consents\", \"consents\", \"consents\", \"consequential\", \"consequential\", \"consequential\", \"consequential\", \"containing provisions\", \"contempt\", \"contract\", \"contract\", \"contract\", \"contract\", \"contract\", \"contract\", \"contract\", \"contract\", \"contract\", \"contract\", \"contractor\", \"contractor\", \"contractor\", \"contractor\", \"contractor\", \"contractor\", \"contractor\", \"copyright\", \"copyright\", \"copyright intellectual\", \"copyright trade\", \"copyrights\", \"copyrights\", \"copyrights patents\", \"copyrights patents\", \"copyrights trademarks\", \"copyrights trademarks\", \"costs\", \"costs\", \"costs\", \"costs\", \"costs\", \"costs\", \"costs\", \"counterparty\", \"counterparty\", \"course employment\", \"covered person\", \"criminal administrative\", \"currency agent\", \"currently\", \"currently\", \"currently\", \"currently\", \"currently\", \"currently\", \"currently\", \"currently\", \"currently\", \"customer\", \"customer\", \"customer\", \"customer\", \"customer\", \"customer\", \"customer\", \"customer\", \"customer\", \"damages\", \"damages\", \"damages\", \"damages\", \"damages\", \"damages\", \"data\", \"data\", \"data\", \"data\", \"data\", \"data\", \"data\", \"data\", \"data\", \"date\", \"date\", \"date\", \"date\", \"date\", \"date\", \"date\", \"date\", \"date\", \"date\", \"date royalty\", \"day\", \"day\", \"day\", \"day\", \"day\", \"days\", \"days\", \"days\", \"days\", \"days\", \"days\", \"days\", \"days\", \"debts obligations\", \"decompile\", \"defect\", \"defect\", \"defect\", \"defective\", \"defective\", \"defects\", \"defects\", \"defects\", \"defend\", \"defend\", \"defend\", \"defend\", \"defend\", \"defend\", \"deliver\", \"deliver\", \"deliver\", \"deliver\", \"deliver\", \"deliver\", \"deliver\", \"deliver\", \"deliver\", \"deliver\", \"deliver purchaser\", \"delivery\", \"delivery\", \"delivery\", \"delivery\", \"delivery\", \"delivery\", \"delivery\", \"delivery\", \"delivery\", \"depositary\", \"depositary\", \"depositary\", \"derivative works\", \"described\", \"described\", \"described\", \"described\", \"described\", \"described\", \"described\", \"described\", \"described\", \"described\", \"determined final\", \"diasys\", \"director\", \"director\", \"director\", \"director\", \"director\", \"director\", \"director officer\", \"director officer\", \"directv\", \"disbursements counsel\", \"disbursements resulting\", \"disclose\", \"disclose\", \"disclose\", \"disclosed\", \"disclosed\", \"disclosed\", \"disclosed\", \"disclosed\", \"disclosed\", \"disclosed\", \"disclosed\", \"disclosed\", \"disclosed affiliates\", \"disclosing\", \"disclosing\", \"disclosing party\", \"disclosing party\", \"disclosure\", \"disclosure\", \"disclosure\", \"disclosure\", \"disclosure\", \"disclosure\", \"disclosure\", \"disclosure informed\", \"disregard\", \"disregard\", \"disregard obligations\", \"divulge\", \"divulge\", \"divulge information\", \"dna\", \"dollars\", \"dollars\", \"dollars\", \"dst\", \"dst\", \"duska\", \"duties\", \"duties\", \"duties\", \"duties\", \"duties\", \"duties\", \"duties\", \"duties\", \"e mail\", \"e mail\", \"eastern\", \"eastern\", \"effect\", \"effect\", \"effect\", \"effect\", \"effect\", \"effect\", \"effect\", \"effect\", \"effect\", \"effect\", \"email\", \"email\", \"email\", \"email\", \"email\", \"employee\", \"employee\", \"employee\", \"employee\", \"employee\", \"employee\", \"employee\", \"employee\", \"employee\", \"employee acknowledges\", \"employee agrees\", \"employee agrees\", \"employee s\", \"employee s\", \"employee s\", \"employee shall\", \"employee shall\", \"employee shall\", \"employer\", \"employer\", \"employer\", \"employer\", \"employer s\", \"employment\", \"employment\", \"employment\", \"employment\", \"employment\", \"employment\", \"employment\", \"employment\", \"employment company\", \"employment company\", \"employment employer\", \"entitled indemnification\", \"esc\", \"event\", \"event\", \"event\", \"event\", \"event\", \"event\", \"event\", \"event\", \"event\", \"event\", \"evolus\", \"exclusive property\", \"exclusive property\", \"exclusive property\", \"executive\", \"executive\", \"executive\", \"executive\", \"executive\", \"executive\", \"executive acknowledges\", \"executive agrees\", \"executive s\", \"executive s\", \"executive s\", \"executive shall\", \"executive shall\", \"exercise remedies\", \"expenses\", \"expenses\", \"expenses\", \"expenses\", \"expenses\", \"expenses\", \"expenses\", \"expenses\", \"expenses including\", \"expenses including\", \"expressly granted\", \"extent\", \"extent\", \"extent\", \"extent\", \"extent\", \"extent\", \"extent\", \"extent\", \"extent\", \"extent\", \"extent information\", \"extent information\", \"extent permitted\", \"extent permitted\", \"extent permitted\", \"extent permitted\", \"extent permitted\", \"extent permitted\", \"extent requested\", \"faith gross\", \"faith gross\", \"faj\", \"federal\", \"federal\", \"federal\", \"federal\", \"federal\", \"federal\", \"federal\", \"federal\", \"federal\", \"federal\", \"federal state\", \"federal state\", \"federal state\", \"federal state\", \"federal state\", \"federal state\", \"federal state\", \"federal state\", \"federal state\", \"fees\", \"fees\", \"fees\", \"fees\", \"fees\", \"fees\", \"fees\", \"fees\", \"final nonappealable\", \"finances\", \"fines\", \"fines\", \"fines\", \"fines\", \"fitness\", \"fitness\", \"fitness\", \"fitness particular\", \"fitness particular\", \"force\", \"force\", \"force\", \"force\", \"force\", \"force\", \"force\", \"force\", \"force\", \"force effect\", \"force effect\", \"force effect\", \"force effect\", \"force effect\", \"force effect\", \"force effect\", \"force effect\", \"foregoing warranty\", \"forth\", \"forth\", \"forth\", \"forth\", \"forth\", \"forth\", \"forth\", \"forth\", \"forth\", \"forth\", \"forth schedule\", \"forth schedule\", \"forth schedule\", \"forth schedule\", \"forth schedule\", \"forth schedule\", \"franchises\", \"franchises\", \"franchises\", \"franchises\", \"franchises\", \"franchises rights\", \"free defects\", \"freight\", \"friday\", \"friday\", \"fullest\", \"fullest\", \"fullest\", \"fullest extent\", \"fullest extent\", \"fund\", \"fund\", \"fund\", \"fund\", \"fund\", \"fund\", \"fund\", \"fund\", \"golden state\", \"goods\", \"goods\", \"goods\", \"governmental\", \"governmental\", \"governmental\", \"governmental\", \"governmental\", \"governmental\", \"governmental\", \"governmental\", \"governmental\", \"governmental\", \"governmental authorizations\", \"governmental authorizations\", \"governmental authorizations\", \"governmental authorizations\", \"gross\", \"gross\", \"gross\", \"gross\", \"gtm\", \"harmless\", \"harmless\", \"hereunder\", \"hereunder\", \"hereunder\", \"hereunder\", \"hereunder\", \"hereunder\", \"hereunder\", \"hereunder\", \"hereunder\", \"hereunder\", \"hire\", \"hire\", \"hire\", \"hire\", \"hold\", \"hold\", \"hold\", \"hold\", \"hold\", \"hold\", \"hold\", \"hold\", \"hold\", \"hold\", \"holidays\", \"holidays\", \"hospital\", \"hospital\", \"hours\", \"hours\", \"hours\", \"hours\", \"hours\", \"hours\", \"hyperspace\", \"imanage\", \"implied\", \"implied\", \"implied\", \"implied\", \"implied\", \"implied\", \"implied\", \"implied including\", \"implied warranties\", \"incidental\", \"incidental\", \"incidental\", \"incidental\", \"incidental\", \"incidental consequential\", \"incidental consequential\", \"including\", \"including\", \"including\", \"including\", \"including\", \"including\", \"including\", \"including\", \"including\", \"including\", \"including intellectual\", \"including negligence\", \"incorporation\", \"incorporation\", \"incorporation\", \"incorporation\", \"incurred\", \"incurred\", \"incurred\", \"incurred\", \"incurred\", \"indemnification\", \"indemnification\", \"indemnification\", \"indemnification\", \"indemnification agreement\", \"indemnification provided\", \"indemnification shall\", \"indemnified\", \"indemnified\", \"indemnified parties\", \"indemnified parties\", \"indemnified party\", \"indemnified party\", \"indemnified person\", \"indemnified person\", \"indemnify\", \"indemnify\", \"indemnify\", \"indemnify executive\", \"indemnitee\", \"indemnitee\", \"indemnitee shall\", \"indemnitor\", \"individually binding\", \"individually obligations\", \"information\", \"information\", \"information\", \"information\", \"information\", \"information\", \"information\", \"information\", \"information\", \"information\", \"information company\", \"information company\", \"information company\", \"information confidential\", \"information confidential\", \"information disclosed\", \"information disclosed\", \"information disclosed\", \"information employee\", \"information executive\", \"information includes\", \"information instructed\", \"information knowledge\", \"information shall\", \"information shall\", \"information shall\", \"information shall\", \"information trade\", \"information trade\", \"infringed\", \"infringed\", \"infringed misappropriated\", \"infringement misappropriation\", \"infringement misappropriation\", \"infringement misappropriation\", \"infringes\", \"infringes\", \"infringes conflicts\", \"instructed information\", \"insynq\", \"intellectual\", \"intellectual\", \"intellectual\", \"intellectual\", \"intellectual property\", \"intellectual property\", \"intellectual property\", \"intellectual property\", \"interest\", \"interest\", \"interest\", \"interest\", \"interest\", \"interest\", \"interest\", \"interest\", \"interest\", \"interest\", \"interest including\", \"interplay\", \"inventions\", \"inventions\", \"inventions\", \"inventions\", \"invoice\", \"invoice\", \"invoice\", \"io\", \"issuing\", \"issuing\", \"issuing\", \"issuing\", \"issuing\", \"issuing\", \"issuing bank\", \"issuing bank\", \"issuing bank\", \"isxpay\", \"janssen\", \"janssen\", \"janus\", \"janus\", \"japan local\", \"joinder\", \"journal\", \"journal\", \"judgments fines\", \"judgments fines\", \"judgments suits\", \"judgments suits\", \"jurisdiction resulted\", \"kaminario\", \"kmc\", \"knowledge\", \"knowledge\", \"knowledge\", \"knowledge\", \"knowledge\", \"knowledge\", \"knowledge\", \"knowledge\", \"knowledge\", \"knowledge\", \"knowledge proprietary\", \"law\", \"law\", \"law\", \"law\", \"law\", \"law\", \"law\", \"law\", \"law\", \"law\", \"laws\", \"laws\", \"laws\", \"laws\", \"laws\", \"laws\", \"laws\", \"laws\", \"laws\", \"laws\", \"laws including\", \"laws ordinances\", \"laws ordinances\", \"laws rules\", \"laws statutes\", \"legal\", \"legal\", \"legal\", \"legal\", \"legal\", \"legal\", \"legal\", \"legal\", \"legal\", \"legal\", \"legal process\", \"legal process\", \"legal process\", \"lender\", \"lender\", \"lender\", \"lender\", \"lender\", \"lender\", \"liabilities\", \"liabilities\", \"liabilities\", \"liabilities\", \"liabilities\", \"liabilities losses\", \"liabilities losses\", \"liability\", \"liability\", \"liability\", \"liability\", \"liability\", \"liability\", \"liability\", \"liability\", \"liability\", \"license\", \"license\", \"license\", \"license\", \"license\", \"license\", \"license\", \"license\", \"license\", \"licensed\", \"licensed\", \"licensed\", \"licensed\", \"licensed\", \"licensed\", \"licensed\", \"licensed\", \"licensed\", \"licensed\", \"licenses\", \"licenses\", \"licenses\", \"licenses\", \"licenses\", \"licenses\", \"licenses\", \"licenses\", \"licenses permits\", \"licenses permits\", \"licenses permits\", \"licenses permits\", \"licenses rights\", \"licenses rights\", \"licenses sublicenses\", \"licenses sublicenses\", \"life company\", \"list\", \"list\", \"list\", \"list\", \"list\", \"list\", \"list\", \"list\", \"list\", \"lists\", \"lists\", \"lists\", \"lists\", \"lists\", \"lists\", \"live earth\", \"local\", \"local\", \"local\", \"local\", \"local\", \"local\", \"local\", \"local\", \"local\", \"local\", \"local currency\", \"local currency\", \"local currency\", \"local laws\", \"local laws\", \"logos\", \"logos\", \"loss resulting\", \"losses\", \"losses\", \"losses\", \"lost\", \"lost\", \"lost\", \"lost\", \"lost profits\", \"lost profits\", \"lost profits\", \"m\", \"m\", \"m\", \"m\", \"m\", \"m\", \"m p\", \"macrogenics\", \"mail\", \"mail\", \"mail\", \"mail\", \"mail\", \"maintain\", \"maintain\", \"maintain\", \"maintain\", \"maintain\", \"maintain\", \"maintain\", \"maintain\", \"maintain\", \"maintain\", \"maintain confidentiality\", \"maintain confidentiality\", \"maintain licenses\", \"maintain licenses\", \"maintain licenses\", \"maintenance\", \"maintenance\", \"maintenance\", \"maintenance\", \"maintenance\", \"maintenance\", \"maintenance\", \"maintenance\", \"maintenance\", \"manager officer\", \"marks\", \"marks\", \"marks\", \"marks\", \"marvair\", \"marvair model\", \"material\", \"material\", \"material\", \"material\", \"material\", \"material\", \"material\", \"material\", \"material\", \"material\", \"material adverse\", \"material adverse\", \"material adverse\", \"material adverse\", \"material adverse\", \"material adverse\", \"material fact\", \"material fact\", \"material respects\", \"material respects\", \"material respects\", \"material respects\", \"material respects\", \"material workmanship\", \"materials\", \"materials\", \"materials\", \"materials\", \"materials\", \"materials\", \"materials\", \"materials\", \"materials\", \"materials\", \"mbusa\", \"member manager\", \"merchantability\", \"merchantability\", \"merchantability fitness\", \"merchantability fitness\", \"metlife\", \"million million\", \"misappropriated\", \"misappropriation\", \"misappropriation\", \"misappropriation\", \"misappropriation\", \"misappropriation conflict\", \"misconduct\", \"misconduct\", \"misconduct gross\", \"misconduct gross\", \"misconduct indemnified\", \"misfeasance\", \"misfeasance bad\", \"mistake law\", \"mmi\", \"model vai\", \"modus\", \"modus media\", \"monday\", \"monday\", \"monday friday\", \"monday friday\", \"mpower\", \"multex\", \"names\", \"names\", \"names\", \"names\", \"names\", \"names\", \"nature information\", \"nature information\", \"nci\", \"necessary\", \"necessary\", \"necessary\", \"necessary\", \"necessary\", \"necessary\", \"necessary\", \"necessary\", \"necessary\", \"necessary\", \"negligence\", \"negligence\", \"negligence\", \"negligence\", \"negligence performance\", \"negligence reckless\", \"negligence willful\", \"negligence willful\", \"ngsp\", \"non\", \"non\", \"non\", \"non\", \"non\", \"non\", \"non\", \"non\", \"non\", \"non\", \"nonappealable\", \"nonconfidential\", \"nonconfidential basis\", \"notice violation\", \"number shares\", \"nutracea\", \"obligations\", \"obligations\", \"obligations\", \"obligations\", \"obligations\", \"obligations\", \"obligations\", \"obligations\", \"obligations\", \"obligations\", \"obligations duties\", \"obligations losses\", \"obligations losses\", \"obtain maintain\", \"obtain maintain\", \"obtain maintain\", \"obtain maintain\", \"obtain maintain\", \"occupancy operation\", \"officer\", \"officer\", \"officer\", \"officer\", \"officer\", \"officer\", \"officer\", \"officer\", \"officers\", \"officers\", \"officers\", \"officers\", \"officers\", \"officers\", \"officers\", \"officers\", \"officers liability\", \"omission\", \"omission\", \"omission\", \"omission\", \"omission\", \"omission\", \"omission\", \"omission\", \"omission alleged\", \"oon\", \"operation\", \"operation\", \"operation\", \"operation\", \"operation\", \"operation\", \"operation\", \"operation\", \"operation\", \"operation\", \"opposite\", \"order\", \"order\", \"order\", \"order\", \"order\", \"order\", \"order\", \"order\", \"order\", \"order\", \"ordinances\", \"ordinances\", \"owned\", \"owned\", \"owned\", \"owned\", \"owned\", \"owned\", \"owned\", \"owned\", \"owned\", \"ownership properties\", \"ownership rights\", \"owns\", \"owns\", \"owns\", \"owns\", \"owns\", \"owns possesses\", \"owns possesses\", \"p m\", \"p m\", \"participant\", \"participant\", \"participant\", \"participant\", \"participant\", \"participant\", \"participant prospective\", \"participant rights\", \"particular purpose\", \"particular purpose\", \"parties\", \"parties\", \"parties\", \"parties\", \"parties\", \"parties\", \"parties\", \"parties\", \"parties\", \"parties\", \"party\", \"party\", \"party\", \"party\", \"party\", \"party\", \"party\", \"party\", \"party\", \"party\", \"party threatened\", \"patent\", \"patent\", \"patent\", \"patent\", \"patent application\", \"patent copyright\", \"patent copyright\", \"patent patent\", \"patent rights\", \"patent rights\", \"patent rights\", \"patent rights\", \"patents\", \"patents\", \"patents\", \"patents copyrights\", \"patents copyrights\", \"pay\", \"pay\", \"pay\", \"pay\", \"pay\", \"pay\", \"pay\", \"pay\", \"payment\", \"payment\", \"payment\", \"payment\", \"payment\", \"payment\", \"payment\", \"payment\", \"payment\", \"payment purchase\", \"payment purchase\", \"payments\", \"payments\", \"payments\", \"payments\", \"payments\", \"payments\", \"payments\", \"payments\", \"payments\", \"payments\", \"penalties actions\", \"penalties actions\", \"perform\", \"perform\", \"perform\", \"perform\", \"perform\", \"perform\", \"perform\", \"perform\", \"perform\", \"perform\", \"period\", \"period\", \"period\", \"period\", \"period\", \"period\", \"period\", \"period\", \"period\", \"period\", \"permits\", \"permits\", \"permits\", \"permits\", \"permits\", \"permits\", \"permits\", \"permits\", \"permits\", \"permits authorizations\", \"permits authorizations\", \"permits authorizations\", \"permits franchises\", \"permits franchises\", \"person\", \"person\", \"person\", \"person\", \"person\", \"person\", \"person\", \"person\", \"person\", \"person\", \"person controls\", \"persons disclosure\", \"petsmart\", \"phase marvair\", \"plans\", \"plans\", \"plans\", \"plans\", \"plans\", \"plans\", \"plans\", \"plans\", \"pldt\", \"pluto\", \"pm\", \"pm\", \"possibility\", \"possibility\", \"possibility\", \"possibility damages\", \"present potential\", \"price therefor\", \"prior\", \"prior\", \"prior\", \"prior\", \"prior\", \"prior\", \"prior\", \"prior\", \"prior\", \"prior\", \"prior present\", \"problem\", \"problem\", \"problem\", \"problem\", \"problem\", \"proceeding\", \"proceeding\", \"proceeding\", \"proceeding\", \"proceeding\", \"proceeding\", \"proceeding\", \"proceeding\", \"proceeding civil\", \"procore\", \"product\", \"product\", \"product\", \"product\", \"product\", \"product\", \"product\", \"product\", \"product\", \"product\", \"products\", \"products\", \"products\", \"products\", \"products\", \"products\", \"products\", \"products\", \"products\", \"products\", \"properties conduct\", \"property\", \"property\", \"property\", \"property\", \"property\", \"property\", \"property\", \"property\", \"property\", \"property\", \"property infringes\", \"property rights\", \"property rights\", \"property rights\", \"proprietary\", \"proprietary\", \"proprietary\", \"proprietary\", \"proprietary information\", \"proprietary information\", \"proprietary information\", \"proprietary information\", \"proprietary information\", \"proprietary right\", \"proprietary right\", \"proprietary right\", \"proprietary rights\", \"proprietary rights\", \"prospective\", \"prospective\", \"prospective\", \"prospective\", \"prospective\", \"prospective assignee\", \"prospectus\", \"prospectus\", \"prospectus\", \"provide\", \"provide\", \"provide\", \"provide\", \"provide\", \"provide\", \"provide\", \"provide\", \"provide\", \"provide\", \"provide support\", \"provide support\", \"provide support\", \"provided\", \"provided\", \"provided\", \"provided\", \"provided\", \"provided\", \"provided\", \"provided\", \"provided\", \"provided\", \"provider\", \"provider\", \"provider\", \"provider\", \"provider\", \"provider\", \"provider\", \"provider\", \"provisions substantially\", \"public\", \"public\", \"public\", \"public\", \"public\", \"public\", \"public\", \"public\", \"publicly\", \"publicly\", \"publicly\", \"publicly\", \"publicly available\", \"publicly available\", \"purchase\", \"purchase\", \"purchase\", \"purchase\", \"purchase\", \"purchase\", \"purchase order\", \"purchase order\", \"purchase order\", \"purchase price\", \"purchase price\", \"purchase price\", \"purchased purchaser\", \"purchaser\", \"purchaser\", \"purchaser\", \"purchaser\", \"purchaser\", \"purchaser\", \"purchaser\", \"purchaser\", \"purchaser certificate\", \"purpose performance\", \"qiu\", \"ratable\", \"ratable share\", \"rating\", \"rating\", \"rating\", \"reason reckless\", \"reasonable\", \"reasonable\", \"reasonable\", \"reasonable\", \"reasonable\", \"reasonable\", \"reasonable\", \"reasonable\", \"reasonable\", \"reasonable\", \"receiving\", \"receiving\", \"receiving\", \"receiving\", \"receiving\", \"receiving party\", \"reckless\", \"reckless disregard\", \"records\", \"records\", \"records\", \"records\", \"records\", \"records\", \"records\", \"records\", \"records\", \"records information\", \"regent\", \"regent s\", \"registered purchaser\", \"registry\", \"regulations\", \"regulations\", \"regulations\", \"regulations\", \"regulations\", \"regulations\", \"regulations\", \"regulations\", \"regulations orders\", \"regulatory\", \"regulatory\", \"regulatory\", \"regulatory\", \"regulatory\", \"regulatory\", \"regulatory\", \"regulatory\", \"regulatory authority\", \"regulatory authority\", \"regulatory authority\", \"remedies hereunder\", \"repair\", \"repair\", \"repair\", \"repair\", \"repair\", \"repair replace\", \"repaired\", \"report provided\", \"report provided\", \"representatives\", \"representatives\", \"representatives\", \"representatives\", \"representatives\", \"representatives\", \"representatives\", \"representatives\", \"representatives\", \"representing\", \"representing\", \"representing\", \"representing number\", \"representing shares\", \"required\", \"required\", \"required\", \"required\", \"required\", \"required\", \"required\", \"required\", \"required\", \"required\", \"required stated\", \"respect\", \"respect\", \"respect\", \"respect\", \"respect\", \"respect\", \"respect\", \"respect\", \"respect\", \"respect\", \"respect proprietary\", \"respect proprietary\", \"respect proprietary\", \"respects\", \"respects\", \"respects\", \"respects\", \"respects\", \"respects\", \"respects applicable\", \"restricted party\", \"restricted subsidiaries\", \"reverse\", \"reverse\", \"reverse engineer\", \"reviewer\", \"right\", \"right\", \"right\", \"right\", \"right\", \"right\", \"right\", \"right\", \"right\", \"right\", \"right title\", \"right title\", \"right title\", \"right use\", \"right use\", \"rights\", \"rights\", \"rights\", \"rights\", \"rights\", \"rights\", \"rights\", \"rights\", \"rights\", \"rights\", \"rights intellectual\", \"rights listed\", \"rights listed\", \"rights owned\", \"rights owned\", \"rights software\", \"rights title\", \"rights title\", \"rights use\", \"rights use\", \"risk loss\", \"royalties shown\", \"royalty report\", \"royalty report\", \"rules\", \"rules\", \"rules\", \"rules\", \"rules\", \"rules\", \"rules regulations\", \"rules regulations\", \"s\", \"s\", \"s\", \"s\", \"s\", \"s\", \"s\", \"s\", \"s\", \"s\", \"s employment\", \"s employment\", \"s employment\", \"s intellectual\", \"s knowledge\", \"s knowledge\", \"s knowledge\", \"s knowledge\", \"s knowledge\", \"s knowledge\", \"s knowledge\", \"s property\", \"s property\", \"s property\", \"s property\", \"s w\", \"s w\", \"s warranty\", \"schedule\", \"schedule\", \"schedule\", \"schedule\", \"schedule\", \"schedule\", \"schedule\", \"schedule\", \"secret confidential\", \"secret trademark\", \"secrets\", \"secrets\", \"secrets\", \"section\", \"section\", \"section\", \"section\", \"section\", \"section\", \"section\", \"section\", \"section\", \"section\", \"securities\", \"securities\", \"securities\", \"securities\", \"securities\", \"securities\", \"securities\", \"securities\", \"seller\", \"seller\", \"seller\", \"seller\", \"seller\", \"seller\", \"seller\", \"seller\", \"seller\", \"selling stockholder\", \"service\", \"service\", \"service\", \"service\", \"service\", \"service\", \"service\", \"service\", \"service\", \"service\", \"service marks\", \"service marks\", \"service provider\", \"service provider\", \"service provider\", \"service provider\", \"service recipient\", \"services\", \"services\", \"services\", \"services\", \"services\", \"services\", \"services\", \"services\", \"services\", \"services\", \"set\", \"set\", \"set\", \"set\", \"set\", \"set\", \"set\", \"set\", \"set\", \"set\", \"set forth\", \"set forth\", \"set forth\", \"set forth\", \"set forth\", \"set forth\", \"set forth\", \"set forth\", \"set forth\", \"set forth\", \"settlements\", \"settlements\", \"shall\", \"shall\", \"shall\", \"shall\", \"shall\", \"shall\", \"shall\", \"shall\", \"shall\", \"shall\", \"shall conform\", \"shall indemnify\", \"shall indemnify\", \"shall pass\", \"shares\", \"shares\", \"shares\", \"shares\", \"shares\", \"shares common\", \"shares purchased\", \"shipment\", \"shipment\", \"shipping\", \"shipping\", \"shipping\", \"shown accrued\", \"smartgate\", \"software\", \"software\", \"software\", \"software\", \"software\", \"software\", \"software\", \"software\", \"software\", \"software\", \"specifications\", \"specifications\", \"specifications\", \"specifications\", \"specifications\", \"specifications\", \"state\", \"state\", \"state\", \"state\", \"state\", \"state\", \"state\", \"state\", \"state\", \"state\", \"state local\", \"state local\", \"state local\", \"state local\", \"state local\", \"state local\", \"state local\", \"state material\", \"statement\", \"statement\", \"statement\", \"statement\", \"statement\", \"statement alleged\", \"statement material\", \"sterling\", \"stock\", \"stock\", \"stock\", \"stock\", \"stock\", \"stock\", \"strategies\", \"strategies\", \"street journal\", \"street journal\", \"sub\", \"sub\", \"sub\", \"sub\", \"sub\", \"sub\", \"sub\", \"sub\", \"sub\", \"sub adviser\", \"sub adviser\", \"sub adviser\", \"sub advisor\", \"subpoena\", \"subpoena\", \"subpoena similar\", \"subsidiaries\", \"subsidiaries\", \"subsidiaries\", \"subsidiaries\", \"subsidiaries\", \"subsidiaries\", \"subsidiaries\", \"subsidiaries\", \"subsidiaries\", \"subsidiaries\", \"substantially section\", \"suit proceeding\", \"suit proceeding\", \"suit proceeding\", \"suits costs\", \"suits costs\", \"supplier\", \"supplier\", \"supplier\", \"supplier\", \"supplier\", \"supplier\", \"supplier\", \"support\", \"support\", \"support\", \"support\", \"support\", \"support\", \"support\", \"support services\", \"support services\", \"support services\", \"swap\", \"synacor\", \"technical\", \"technical\", \"technical\", \"technical\", \"technical\", \"technical\", \"technical\", \"technical\", \"technical publications\", \"technical support\", \"technical support\", \"technical support\", \"technical support\", \"technology\", \"technology\", \"technology\", \"technology\", \"technology\", \"technology\", \"technology\", \"technology\", \"technology\", \"telephone\", \"telephone\", \"telephone\", \"telephone\", \"telephone\", \"termination executive\", \"terms\", \"terms\", \"terms\", \"terms\", \"terms\", \"terms\", \"terms\", \"terms\", \"terms\", \"terms\", \"theratronics\", \"thirty\", \"thirty\", \"thirty\", \"thirty\", \"threatened party\", \"tiger\", \"tiger fair\", \"time\", \"time\", \"time\", \"time\", \"time\", \"time\", \"time\", \"time\", \"time\", \"time\", \"title\", \"title\", \"title\", \"title\", \"title\", \"title\", \"title\", \"title\", \"title\", \"title interest\", \"title interest\", \"title interest\", \"title risk\", \"ton\", \"ton v\", \"tort including\", \"trade\", \"trade\", \"trade\", \"trade\", \"trade\", \"trade\", \"trade\", \"trade names\", \"trade names\", \"trade names\", \"trade secrets\", \"trade secrets\", \"trade secrets\", \"trade service\", \"trademark\", \"trademark\", \"trademark\", \"trademark trade\", \"trademarks\", \"trademarks\", \"transfer\", \"transfer\", \"transfer\", \"transfer\", \"transfer\", \"transfer\", \"transfer\", \"transfer\", \"transfer\", \"transfer\", \"transition service\", \"treatment accorded\", \"trust\", \"trust\", \"trust\", \"trust\", \"trust\", \"trust\", \"trust\", \"trust\", \"trustees shareholders\", \"txen\", \"understood persons\", \"underwriter\", \"underwriter\", \"untrue\", \"untrue\", \"untrue\", \"untrue statement\", \"use\", \"use\", \"use\", \"use\", \"use\", \"use\", \"use\", \"use\", \"use\", \"use\", \"use designation\", \"use intellectual\", \"use proceeds\", \"use proprietary\", \"use proprietary\", \"use proprietary\", \"users\", \"users\", \"users\", \"users\", \"users\", \"users\", \"users\", \"v phase\", \"vai\", \"violation\", \"violation\", \"violation\", \"violation\", \"violation\", \"violation\", \"violation\", \"violation\", \"violation\", \"wall\", \"wall\", \"wall\", \"wall\", \"wall street\", \"wall street\", \"wall street\", \"wall street\", \"warranted\", \"warranties\", \"warranties\", \"warranties\", \"warranties\", \"warranties\", \"warranties\", \"warranties express\", \"warranties merchantability\", \"warrants\", \"warrants\", \"warrants\", \"warrants\", \"warrants\", \"warrants\", \"warrants\", \"warrants\", \"warrants\", \"warrants\", \"warranty\", \"warranty\", \"warranty\", \"warranty\", \"warranty\", \"warranty\", \"warranty\", \"warranty\", \"warranty covenant\", \"warranty period\", \"warranty period\", \"warranty shall\", \"warranty shall\", \"whatsoever imposed\", \"willful\", \"willful\", \"willful misconduct\", \"willful misconduct\", \"willful misfeasance\", \"wink\", \"wkh\", \"work\", \"work\", \"work\", \"work\", \"work\", \"work\", \"work\", \"work\", \"work\", \"work\", \"work hire\", \"workmanship\", \"workmanship\", \"works\", \"works\", \"works\", \"works\", \"works hire\", \"written\", \"written\", \"written\", \"written\", \"written\", \"written\", \"written\", \"written\", \"written\", \"written\", \"ypc\"]}, \"R\": 30, \"lambda.step\": 0.01, \"plot.opts\": {\"xlab\": \"PC1\", \"ylab\": \"PC2\"}, \"topic.order\": [1, 7, 5, 3, 6, 2, 4, 9, 8, 10]};\n",
       "\n",
       "function LDAvis_load_lib(url, callback){\n",
       "  var s = document.createElement('script');\n",
       "  s.src = url;\n",
       "  s.async = true;\n",
       "  s.onreadystatechange = s.onload = callback;\n",
       "  s.onerror = function(){console.warn(\"failed to load library \" + url);};\n",
       "  document.getElementsByTagName(\"head\")[0].appendChild(s);\n",
       "}\n",
       "\n",
       "if(typeof(LDAvis) !== \"undefined\"){\n",
       "   // already loaded: just create the visualization\n",
       "   !function(LDAvis){\n",
       "       new LDAvis(\"#\" + \"ldavis_el852951404662393989928540355360\", ldavis_el852951404662393989928540355360_data);\n",
       "   }(LDAvis);\n",
       "}else if(typeof define === \"function\" && define.amd){\n",
       "   // require.js is available: use it to load d3/LDAvis\n",
       "   require.config({paths: {d3: \"https://cdnjs.cloudflare.com/ajax/libs/d3/3.5.5/d3.min\"}});\n",
       "   require([\"d3\"], function(d3){\n",
       "      window.d3 = d3;\n",
       "      LDAvis_load_lib(\"https://cdn.rawgit.com/bmabey/pyLDAvis/files/ldavis.v1.0.0.js\", function(){\n",
       "        new LDAvis(\"#\" + \"ldavis_el852951404662393989928540355360\", ldavis_el852951404662393989928540355360_data);\n",
       "      });\n",
       "    });\n",
       "}else{\n",
       "    // require.js not available: dynamically load d3 & LDAvis\n",
       "    LDAvis_load_lib(\"https://cdnjs.cloudflare.com/ajax/libs/d3/3.5.5/d3.min.js\", function(){\n",
       "         LDAvis_load_lib(\"https://cdn.rawgit.com/bmabey/pyLDAvis/files/ldavis.v1.0.0.js\", function(){\n",
       "                 new LDAvis(\"#\" + \"ldavis_el852951404662393989928540355360\", ldavis_el852951404662393989928540355360_data);\n",
       "            })\n",
       "         });\n",
       "}\n",
       "</script>"
      ],
      "text/plain": [
       "<IPython.core.display.HTML object>"
      ]
     },
     "execution_count": 43,
     "metadata": {},
     "output_type": "execute_result"
    }
   ],
   "source": [
    "#what distinct topical clusters has LDA found for us?\n",
    "viz"
   ]
  },
  {
   "cell_type": "markdown",
   "metadata": {},
   "source": [
    "<img src=\"../images/topic_1.png\">"
   ]
  },
  {
   "cell_type": "markdown",
   "metadata": {},
   "source": [
    "<img src=\"../images/topic_2.png\">"
   ]
  },
  {
   "cell_type": "markdown",
   "metadata": {},
   "source": [
    "### Interpretation"
   ]
  },
  {
   "cell_type": "markdown",
   "metadata": {},
   "source": [
    "Unlike simply ranking top word vectors, LDA has clustered what it sees as specific topics for us to analyze. By mousing over each circle, we see the top 30 words in it - with red bars signifying a particular term's frequency within that topic.\n"
   ]
  },
  {
   "cell_type": "markdown",
   "metadata": {},
   "source": [
    "* **Distinct topic clusters:** The LDA model has classified many of the topics be distinct clusters. For example, if we mouse over `Topic 2`, it specifically lists \"government\", \"regulations\" and \"compliance\" as top keywords. This refers to a compliance clause i.e. that all parties and their conduct aren't illegal and comply with local laws.\n",
    "\n",
    "That's a pretty good representation of the fact that many clauses are highly specialized in providing specific protections to parties in it.\n",
    "\n",
    "* **Overlapping topic clusters:** other topics, however, involve some form of overlap. This is what sets LDA apart from traditional clustering models - k-means clustering, for example, aims to define very distinct, non-overlapping clusters, unlike LDA, which is \"softer\".\n",
    "\n",
    "For example, `Topic 1` looks like a cluster around warranty clauses, since it has similar keywords to our earlier bar graph of the same type of clause. However, it overlaps a bit with `Topic 6`, which we hadn't visualized thus far - it is most likely a support services clause, given that the term and the bigram \"support services\" arises in that topic distinctly. The overlap is unsurprising since support services are often a response to warranties getting invoked i.e. maintenance of software that has been guaranteed to be serviced for a period.\n",
    "\n",
    "This reflects the fact that sometimes, clauses may be talking about different subjects, but have common elements."
   ]
  },
  {
   "cell_type": "markdown",
   "metadata": {},
   "source": [
    "## Dependency Parsing EDA: What \"Bag-of-Words\" Models don't account for"
   ]
  },
  {
   "cell_type": "markdown",
   "metadata": {},
   "source": [
    "**If we conclude that the majority of topics/subjects in a contract can overlap, it means that a Bag of Words approach may not be ideal,** because even distinctly labelled subjects can have a high degree of similarity that could confuse a machine learning model that is attempting to pick apart renewal option/automatic renewal clauses from each other, or from other clauses.\n",
    "\n",
    "This is reflective of the reality that people don't classify language by seeing frequently used words in a corpus. We read things from left to right, our brains comprehend the language and we take in the syntax and relationships that each word has with each other.\n",
    "\n",
    "This also means that `Lemmatization` and `Stopword Removal` actually cause a loss in meaning, and while their usage may be necessary for conventional Word Vectorization models, the process isn't organic."
   ]
  },
  {
   "cell_type": "markdown",
   "metadata": {},
   "source": [
    "**Can we visualize the dependency of tokens with each other that we lost in a Bag of Words?**"
   ]
  },
  {
   "cell_type": "markdown",
   "metadata": {},
   "source": [
    "For the final part of our EDA, we will visualize the relationship between tokens in our sample clause sentences. spaCy actually has a way of understanding and displaying the dependency that words have on each other to form meaning. It does this through `dependency parsing`.\n",
    "\n",
    "Blackstone summarizes the process as such: \"Dependency parsing is a complex and fine-grained area of study, but it essentially boils down to modelling the relationships between tokens.\" "
   ]
  },
  {
   "cell_type": "code",
   "execution_count": 56,
   "metadata": {},
   "outputs": [
    {
     "data": {
      "text/plain": [
       "'Landlord and Tenant shall each do all acts required to comply with all applicable laws, ordinances, and rules of any public authority relating to their respective maintenance obligations as set forth herein.'"
      ]
     },
     "execution_count": 56,
     "metadata": {},
     "output_type": "execute_result"
    }
   ],
   "source": [
    "sample_text_2 = df[\"clause_text\"][7133]\n",
    "sample_text_2"
   ]
  },
  {
   "cell_type": "code",
   "execution_count": 57,
   "metadata": {},
   "outputs": [],
   "source": [
    "doc_2 = nlp(sample_text_2)"
   ]
  },
  {
   "cell_type": "code",
   "execution_count": 58,
   "metadata": {},
   "outputs": [
    {
     "data": {
      "text/plain": [
       "26476"
      ]
     },
     "execution_count": 58,
     "metadata": {},
     "output_type": "execute_result"
    }
   ],
   "source": [
    "#the visualization is supposed to run natively in Jupyter, but it sometimes doesn't work.\n",
    "#what this code does is renders the dependency Visualization and saves it as a .svg graphics file\n",
    "#we then view a portion of that .svg file in the next line of markup.\n",
    "\n",
    "options = {'compact': True} \n",
    "svg = displacy.render(doc_2, style=\"dep\", jupyter=False, options=options)\n",
    "output_path = Path(\"../data/dep.svg\")\n",
    "output_path.open(\"w\", encoding=\"utf-8\").write(svg)"
   ]
  },
  {
   "attachments": {},
   "cell_type": "markdown",
   "metadata": {},
   "source": [
    "<img src=\"../images/displacy_dependency.png\">"
   ]
  },
  {
   "cell_type": "markdown",
   "metadata": {},
   "source": [
    "### Explanation\n",
    "1. We see an arc starting from `Landlord` which is a Proper Noun (`PROPN`) and sweeping to `do` . The label on the arc, `nsubj`, tells us that `Landlord` is the noun subject of the `AUX` (or auxiliary non-main) verb `do`. \n",
    "\n",
    "\n",
    "2. What is it that the Landlord has to `do`? If we trace the arc running from `do`, we see that it lands on the noun (`NOUN`) `acts` with a label of `dobj`. This tells us the `acts` is the dependent object of the verb `do`. The parse is telling us that the Landlord has to `do` `acts`. \n",
    "\n",
    "\n",
    "3. What `acts` does the Landlord have to do? We trace the `amod` arc, which is an \"adjectival modifier\" that modifies the meaning of `acts` with the adjective (`ADJ`) `necessary` i.e. the Landlord has to *do all acts necessary*.\n",
    "\n",
    "For further reading on how to interpret dependency parsing representations, refer to Stanford University's \"Typed Dependencies Manual\", which is provided in this repo as `dependencies_manual.pdf`.\n",
    "\n",
    "We won't explain the rest of the clause, because clearly we're obviously able to understand the word dependencies intuitively if we assume ourselves to be native English users. \n",
    "\n",
    "What the visualization illustrates is that dependency parsing is something that more recent machine learning models can interpret too, which theoretically should outperform conventional Bag-of-Words type models. We will keep this in mind as we move on to modelling."
   ]
  }
 ],
 "metadata": {
  "kernelspec": {
   "display_name": "Python 3",
   "language": "python",
   "name": "python3"
  },
  "language_info": {
   "codemirror_mode": {
    "name": "ipython",
    "version": 3
   },
   "file_extension": ".py",
   "mimetype": "text/x-python",
   "name": "python",
   "nbconvert_exporter": "python",
   "pygments_lexer": "ipython3",
   "version": "3.7.6"
  }
 },
 "nbformat": 4,
 "nbformat_minor": 4
}

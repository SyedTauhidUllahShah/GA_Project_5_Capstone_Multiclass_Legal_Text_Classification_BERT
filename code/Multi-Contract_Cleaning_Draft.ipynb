{
 "cells": [
  {
   "cell_type": "code",
   "execution_count": 1,
   "metadata": {},
   "outputs": [],
   "source": [
    "#Usual Imports \n",
    "\n",
    "import numpy as np\n",
    "import pandas as pd\n",
    "import matplotlib.pyplot as plt\n",
    "import seaborn as sns\n",
    "\n",
    "%matplotlib inline"
   ]
  },
  {
   "cell_type": "markdown",
   "metadata": {},
   "source": [
    "You will need to install the following in your command line/terminal:\n",
    "\n",
    "`pip install -U spacy`\n",
    "\n",
    "`python -m spacy download en_core_web_sm`"
   ]
  },
  {
   "cell_type": "code",
   "execution_count": 3,
   "metadata": {},
   "outputs": [],
   "source": [
    "from __future__ import unicode_literals, print_function\n",
    "from spacy.lang.en import English # updated"
   ]
  },
  {
   "cell_type": "code",
   "execution_count": 4,
   "metadata": {},
   "outputs": [],
   "source": [
    "#set column size to be larger\n",
    "pd.set_option(\"display.max_colwidth\", 1000)"
   ]
  },
  {
   "cell_type": "code",
   "execution_count": 5,
   "metadata": {},
   "outputs": [],
   "source": [
    "#for loop to open up software agreement folder and turn it into DataFrame\n",
    "import os\n",
    "\n",
    "file_names = os.listdir('../data/lexpredict-contraxsuite-samples-master/agreements/software_license/')\n",
    "# Create Dictionary for File Name and Text\n",
    "file_name_and_text = {}\n",
    "for file in file_names:\n",
    "    with open('../data/lexpredict-contraxsuite-samples-master/agreements/software_license/' + file, \"r\") as target_file:\n",
    "         file_name_and_text[file] = target_file.read()\n",
    "df = (pd.DataFrame.from_dict(file_name_and_text, orient='index')\n",
    "             .reset_index().rename(index = str, columns = {'index': 'file_name', 0: 'text'}))"
   ]
  },
  {
   "cell_type": "code",
   "execution_count": 6,
   "metadata": {},
   "outputs": [
    {
     "data": {
      "text/html": [
       "<div>\n",
       "<style scoped>\n",
       "    .dataframe tbody tr th:only-of-type {\n",
       "        vertical-align: middle;\n",
       "    }\n",
       "\n",
       "    .dataframe tbody tr th {\n",
       "        vertical-align: top;\n",
       "    }\n",
       "\n",
       "    .dataframe thead th {\n",
       "        text-align: right;\n",
       "    }\n",
       "</style>\n",
       "<table border=\"1\" class=\"dataframe\">\n",
       "  <thead>\n",
       "    <tr style=\"text-align: right;\">\n",
       "      <th></th>\n",
       "      <th>file_name</th>\n",
       "      <th>text</th>\n",
       "    </tr>\n",
       "  </thead>\n",
       "  <tbody>\n",
       "    <tr>\n",
       "      <th>0</th>\n",
       "      <td>737300_1996-04-08_EXHIBIT 10.4 EXCLUSIVE SOFTWARE LICENSE AGREEMENT.txt</td>\n",
       "      <td>\\n\\n\\n\\n\\n\\n\\n\\n\\n\\nExhibit 10.4\\n\\n\\nEXCLUSIVE SOFTWARE LICENSE AGREEMENT\\n\\nThis Agreement is made as of March 31, 1996, by and between\\nCARE CORPORATION LIMITED, a company incorporated in the British\\nVirgin Islands (\"CCL\"), WARNER INSURANCE SERVICES, INC., a\\nDelaware corporation (\"WARNER\"), and, for the limited purposes of\\njoining in Sections 4, 6, 8, 10, 11, 21, and 22, COVER-ALL\\nSYSTEMS, INC., a Delaware corporation and wholly owned subsidiary\\nof WARNER (\"COVER-ALL\").\\n\\nRECITALS\\n\\nA.   CCL is the exclusive worldwide owner, except in the\\nCommonwealth of Australia, the Dominion of New Zealand, and the\\nUnited States of America, of all rights in certain computer\\nsoftware and related documentation pertaining to the\\nadministration of worker's compensation, as set forth and\\ndescribed in Attachment A hereto (hereinafter referred to as the\\n\"CARE Software\").\\n\\nB.   Pursuant to a separate agreement by and between CCL and\\nWARNER, entered into contemporaneously with this Agr...</td>\n",
       "    </tr>\n",
       "    <tr>\n",
       "      <th>1</th>\n",
       "      <td>946822_1999-12-01_EXHIBIT 10.26 - SOFTWARE LIC AGREE -RURAL CELLULAR.txt</td>\n",
       "      <td>\\n\\n\\n\\n\\n\\n\\n\\n\\n\\n\\nEXHIBIT 10.26\\n\\n\\nSOFTWARE LICENSE AGREEMENT\\n\\nThis  Software  License  Agreement  is  made  as of  this  25th  day of\\nSeptember,   1999,  between  Preferred  Voice,  Inc.,  a  Delaware   corporation\\n(\"Licensor\") and Rural Cellular Corporation, a Minnesota corporation,  on behalf\\nof  itself  and its  wholly  owned  subsidiaries  and  affiliates  (\"Licensee\").\\nLicensor  and  Licensee are  collectively  referred to in this  Agreement as the\\n\"Parties.\"\\n\\nBackground Information\\n\\nLicensor has developed a system (the \"System\") that when interconnected\\nwith a telecommunications switching system is capable of performing the services\\n(the  \"Services\")  described  in a  Marketing  Agreement  between  Licensor  and\\nLicensee of even date (the \"Marketing  Agreement\").  Each System consists of the\\nhardware,  certain third party software (the \"Third Party Software\") and certain\\nproprietary   application  software  developed  by  Licensor  (the  \"Application\\nS...</td>\n",
       "    </tr>\n",
       "    <tr>\n",
       "      <th>2</th>\n",
       "      <td>1414043_2016-10-14_SOFTWARE LICENSE AGREEMENT DATED OCTOBER 7, 2016 BY AND BETWEEN THE COMPANY AND HANG WITH, INC..txt</td>\n",
       "      <td>\\n\\n\\n\\n\\n\\n\\nBlueprint\\n\\n\\n\\n\\n\\n\\n\\n\\nEXHIBIT\\n10.5\\n\\n\\n\\n\\n\\n\\n\\n\\n\\n\\n\\n\\n\\n\\nSOFTWARE LICENSE AGREEMENT\\n\\n\\n\\n\\n\\n\\nThis SOFTWARE LICENSE AGREEMENT (this \"Agreement\") is effective as\\nof October 7, 2016 (the\\n\"Effective Date\") by and between Friendable, Inc., a Nevada corporation with offices at 1821 S\\nBascom Ave., Suite 353, Campbell, California 95008\\n(\"FRIEND\"), and Hang With,\\nInc., a Nevada corporation with\\nits principal office at 7 Studebaker, 1st\\nFloor, Irvine, CA 92618\\n(\"LICENSOR\") (FRIEND and LICENSOR each, a \"Party\"; together,\\nthe \"Parties\").\\n\\n\\n\\n\\n\\n\\nRECITALS\\n\\n\\n\\n\\n\\nWHEREAS, LICENSOR is the sole owner of all rights,\\ntitle, and interest in and to the proprietary live-streaming mobile\\nand social application platform generally known as Hang w/,\\ndescribed in further detail in Exhibit A\\nattached hereto and incorporated\\nherein by this reference (the \"App\"), as well as the \"Licensed\\nSoftware\" (defined below), which includes any and all related\\ndocume...</td>\n",
       "    </tr>\n",
       "  </tbody>\n",
       "</table>\n",
       "</div>"
      ],
      "text/plain": [
       "                                                                                                                file_name  \\\n",
       "0                                                 737300_1996-04-08_EXHIBIT 10.4 EXCLUSIVE SOFTWARE LICENSE AGREEMENT.txt   \n",
       "1                                                946822_1999-12-01_EXHIBIT 10.26 - SOFTWARE LIC AGREE -RURAL CELLULAR.txt   \n",
       "2  1414043_2016-10-14_SOFTWARE LICENSE AGREEMENT DATED OCTOBER 7, 2016 BY AND BETWEEN THE COMPANY AND HANG WITH, INC..txt   \n",
       "\n",
       "                                                                                                                                                                                                                                                                                                                                                                                                                                                                                                                                                                                                                                                                                                                                                                                                                                                                                                                                                                                                                                      text  \n",
       "0  \\n\\n\\n\\n\\n\\n\\n\\n\\n\\nExhibit 10.4\\n\\n\\nEXCLUSIVE SOFTWARE LICENSE AGREEMENT\\n\\nThis Agreement is made as of March 31, 1996, by and between\\nCARE CORPORATION LIMITED, a company incorporated in the British\\nVirgin Islands (\"CCL\"), WARNER INSURANCE SERVICES, INC., a\\nDelaware corporation (\"WARNER\"), and, for the limited purposes of\\njoining in Sections 4, 6, 8, 10, 11, 21, and 22, COVER-ALL\\nSYSTEMS, INC., a Delaware corporation and wholly owned subsidiary\\nof WARNER (\"COVER-ALL\").\\n\\nRECITALS\\n\\nA.   CCL is the exclusive worldwide owner, except in the\\nCommonwealth of Australia, the Dominion of New Zealand, and the\\nUnited States of America, of all rights in certain computer\\nsoftware and related documentation pertaining to the\\nadministration of worker's compensation, as set forth and\\ndescribed in Attachment A hereto (hereinafter referred to as the\\n\"CARE Software\").\\n\\nB.   Pursuant to a separate agreement by and between CCL and\\nWARNER, entered into contemporaneously with this Agr...  \n",
       "1  \\n\\n\\n\\n\\n\\n\\n\\n\\n\\n\\nEXHIBIT 10.26\\n\\n\\nSOFTWARE LICENSE AGREEMENT\\n\\nThis  Software  License  Agreement  is  made  as of  this  25th  day of\\nSeptember,   1999,  between  Preferred  Voice,  Inc.,  a  Delaware   corporation\\n(\"Licensor\") and Rural Cellular Corporation, a Minnesota corporation,  on behalf\\nof  itself  and its  wholly  owned  subsidiaries  and  affiliates  (\"Licensee\").\\nLicensor  and  Licensee are  collectively  referred to in this  Agreement as the\\n\"Parties.\"\\n\\nBackground Information\\n\\nLicensor has developed a system (the \"System\") that when interconnected\\nwith a telecommunications switching system is capable of performing the services\\n(the  \"Services\")  described  in a  Marketing  Agreement  between  Licensor  and\\nLicensee of even date (the \"Marketing  Agreement\").  Each System consists of the\\nhardware,  certain third party software (the \"Third Party Software\") and certain\\nproprietary   application  software  developed  by  Licensor  (the  \"Application\\nS...  \n",
       "2  \\n\\n\\n\\n\\n\\n\\nBlueprint\\n\\n\\n\\n\\n\\n\\n\\n\\nEXHIBIT\\n10.5\\n\\n\\n\\n\\n\\n\\n\\n\\n\\n\\n\\n\\n\\n\\nSOFTWARE LICENSE AGREEMENT\\n\\n\\n\\n\\n\\n\\nThis SOFTWARE LICENSE AGREEMENT (this \"Agreement\") is effective as\\nof October 7, 2016 (the\\n\"Effective Date\") by and between Friendable, Inc., a Nevada corporation with offices at 1821 S\\nBascom Ave., Suite 353, Campbell, California 95008\\n(\"FRIEND\"), and Hang With,\\nInc., a Nevada corporation with\\nits principal office at 7 Studebaker, 1st\\nFloor, Irvine, CA 92618\\n(\"LICENSOR\") (FRIEND and LICENSOR each, a \"Party\"; together,\\nthe \"Parties\").\\n\\n\\n\\n\\n\\n\\nRECITALS\\n\\n\\n\\n\\n\\nWHEREAS, LICENSOR is the sole owner of all rights,\\ntitle, and interest in and to the proprietary live-streaming mobile\\nand social application platform generally known as Hang w/,\\ndescribed in further detail in Exhibit A\\nattached hereto and incorporated\\nherein by this reference (the \"App\"), as well as the \"Licensed\\nSoftware\" (defined below), which includes any and all related\\ndocume...  "
      ]
     },
     "execution_count": 6,
     "metadata": {},
     "output_type": "execute_result"
    }
   ],
   "source": [
    "#checking out what our dataframe looks like\n",
    "df.head(3)"
   ]
  },
  {
   "cell_type": "code",
   "execution_count": 7,
   "metadata": {},
   "outputs": [],
   "source": [
    "#since these are all contract licenses lets create a new column to name them as such for future contract meta-classification\n",
    "\n",
    "df[\"contract_type\"]=\"software_license\""
   ]
  },
  {
   "cell_type": "code",
   "execution_count": 8,
   "metadata": {},
   "outputs": [],
   "source": [
    "#backing up .csv file\n",
    "\n",
    "df.to_csv(\"../data/software_agmts_raw.csv\")"
   ]
  },
  {
   "cell_type": "code",
   "execution_count": 11,
   "metadata": {},
   "outputs": [],
   "source": [
    "#let's get rid of all the unnecessary new line breaks like \\n and extra spaces\n",
    "\n",
    "def space_remover(mess):\n",
    "    \n",
    "    splitted = mess.split()\n",
    "    \n",
    "    return (\" \".join(splitted))"
   ]
  },
  {
   "cell_type": "code",
   "execution_count": 12,
   "metadata": {},
   "outputs": [],
   "source": [
    "#applying our simple cleaning function\n",
    "\n",
    "df[\"text\"] = df[\"text\"].apply(space_remover)"
   ]
  },
  {
   "cell_type": "code",
   "execution_count": 14,
   "metadata": {},
   "outputs": [
    {
     "data": {
      "text/html": [
       "<div>\n",
       "<style scoped>\n",
       "    .dataframe tbody tr th:only-of-type {\n",
       "        vertical-align: middle;\n",
       "    }\n",
       "\n",
       "    .dataframe tbody tr th {\n",
       "        vertical-align: top;\n",
       "    }\n",
       "\n",
       "    .dataframe thead th {\n",
       "        text-align: right;\n",
       "    }\n",
       "</style>\n",
       "<table border=\"1\" class=\"dataframe\">\n",
       "  <thead>\n",
       "    <tr style=\"text-align: right;\">\n",
       "      <th></th>\n",
       "      <th>file_name</th>\n",
       "      <th>text</th>\n",
       "      <th>contract_type</th>\n",
       "    </tr>\n",
       "  </thead>\n",
       "  <tbody>\n",
       "    <tr>\n",
       "      <th>0</th>\n",
       "      <td>737300_1996-04-08_EXHIBIT 10.4 EXCLUSIVE SOFTWARE LICENSE AGREEMENT.txt</td>\n",
       "      <td>Exhibit 10.4 EXCLUSIVE SOFTWARE LICENSE AGREEMENT This Agreement is made as of March 31, 1996, by and between CARE CORPORATION LIMITED, a company incorporated in the British Virgin Islands (\"CCL\"), WARNER INSURANCE SERVICES, INC., a Delaware corporation (\"WARNER\"), and, for the limited purposes of joining in Sections 4, 6, 8, 10, 11, 21, and 22, COVER-ALL SYSTEMS, INC., a Delaware corporation and wholly owned subsidiary of WARNER (\"COVER-ALL\"). RECITALS A. CCL is the exclusive worldwide owner, except in the Commonwealth of Australia, the Dominion of New Zealand, and the United States of America, of all rights in certain computer software and related documentation pertaining to the administration of worker's compensation, as set forth and described in Attachment A hereto (hereinafter referred to as the \"CARE Software\"). B. Pursuant to a separate agreement by and between CCL and WARNER, entered into contemporaneously with this Agreement (the \"Stock Purchase Agreement\"), CCL and WARNE...</td>\n",
       "      <td>software_license</td>\n",
       "    </tr>\n",
       "    <tr>\n",
       "      <th>1</th>\n",
       "      <td>946822_1999-12-01_EXHIBIT 10.26 - SOFTWARE LIC AGREE -RURAL CELLULAR.txt</td>\n",
       "      <td>EXHIBIT 10.26 SOFTWARE LICENSE AGREEMENT This Software License Agreement is made as of this 25th day of September, 1999, between Preferred Voice, Inc., a Delaware corporation (\"Licensor\") and Rural Cellular Corporation, a Minnesota corporation, on behalf of itself and its wholly owned subsidiaries and affiliates (\"Licensee\"). Licensor and Licensee are collectively referred to in this Agreement as the \"Parties.\" Background Information Licensor has developed a system (the \"System\") that when interconnected with a telecommunications switching system is capable of performing the services (the \"Services\") described in a Marketing Agreement between Licensor and Licensee of even date (the \"Marketing Agreement\"). Each System consists of the hardware, certain third party software (the \"Third Party Software\") and certain proprietary application software developed by Licensor (the \"Application Software\"). Licensee is a wireless carrier that is currently providing telecommunications service in...</td>\n",
       "      <td>software_license</td>\n",
       "    </tr>\n",
       "  </tbody>\n",
       "</table>\n",
       "</div>"
      ],
      "text/plain": [
       "                                                                  file_name  \\\n",
       "0   737300_1996-04-08_EXHIBIT 10.4 EXCLUSIVE SOFTWARE LICENSE AGREEMENT.txt   \n",
       "1  946822_1999-12-01_EXHIBIT 10.26 - SOFTWARE LIC AGREE -RURAL CELLULAR.txt   \n",
       "\n",
       "                                                                                                                                                                                                                                                                                                                                                                                                                                                                                                                                                                                                                                                                                                                                                                                                                                                                                                                                                                                                                                      text  \\\n",
       "0  Exhibit 10.4 EXCLUSIVE SOFTWARE LICENSE AGREEMENT This Agreement is made as of March 31, 1996, by and between CARE CORPORATION LIMITED, a company incorporated in the British Virgin Islands (\"CCL\"), WARNER INSURANCE SERVICES, INC., a Delaware corporation (\"WARNER\"), and, for the limited purposes of joining in Sections 4, 6, 8, 10, 11, 21, and 22, COVER-ALL SYSTEMS, INC., a Delaware corporation and wholly owned subsidiary of WARNER (\"COVER-ALL\"). RECITALS A. CCL is the exclusive worldwide owner, except in the Commonwealth of Australia, the Dominion of New Zealand, and the United States of America, of all rights in certain computer software and related documentation pertaining to the administration of worker's compensation, as set forth and described in Attachment A hereto (hereinafter referred to as the \"CARE Software\"). B. Pursuant to a separate agreement by and between CCL and WARNER, entered into contemporaneously with this Agreement (the \"Stock Purchase Agreement\"), CCL and WARNE...   \n",
       "1  EXHIBIT 10.26 SOFTWARE LICENSE AGREEMENT This Software License Agreement is made as of this 25th day of September, 1999, between Preferred Voice, Inc., a Delaware corporation (\"Licensor\") and Rural Cellular Corporation, a Minnesota corporation, on behalf of itself and its wholly owned subsidiaries and affiliates (\"Licensee\"). Licensor and Licensee are collectively referred to in this Agreement as the \"Parties.\" Background Information Licensor has developed a system (the \"System\") that when interconnected with a telecommunications switching system is capable of performing the services (the \"Services\") described in a Marketing Agreement between Licensor and Licensee of even date (the \"Marketing Agreement\"). Each System consists of the hardware, certain third party software (the \"Third Party Software\") and certain proprietary application software developed by Licensor (the \"Application Software\"). Licensee is a wireless carrier that is currently providing telecommunications service in...   \n",
       "\n",
       "      contract_type  \n",
       "0  software_license  \n",
       "1  software_license  "
      ]
     },
     "execution_count": 14,
     "metadata": {},
     "output_type": "execute_result"
    }
   ],
   "source": [
    "#the text definitely looks better.\n",
    "\n",
    "df.head(2)"
   ]
  },
  {
   "cell_type": "code",
   "execution_count": 15,
   "metadata": {},
   "outputs": [],
   "source": [
    "#using spaCy to split the text into sentences for our classification work \n",
    "\n",
    "#we first begin by instantiating spaCy's inbuilt sentence tokenizer\n",
    "nlp = English()\n",
    "nlp.add_pipe(nlp.create_pipe('sentencizer')) # updated"
   ]
  },
  {
   "cell_type": "code",
   "execution_count": 16,
   "metadata": {},
   "outputs": [],
   "source": [
    "#we then create another function to deconstruct large strings of contracts into a list of sentence tokens.\n",
    "\n",
    "def sentences_lister(text):\n",
    "    doc = nlp(text)\n",
    "    return [sent.string.strip() for sent in doc.sents]"
   ]
  },
  {
   "cell_type": "code",
   "execution_count": 17,
   "metadata": {},
   "outputs": [],
   "source": [
    "#applying our sentences lister function into a new panda columns\n",
    "df['sentences_lists'] = df['text'].apply(sentences_lister)\n"
   ]
  },
  {
   "cell_type": "code",
   "execution_count": 18,
   "metadata": {},
   "outputs": [],
   "source": [
    "#we want to explode our list of sentences into new rows which is just what we do now:\n",
    "\n",
    "df = df.explode('sentences_lists')"
   ]
  },
  {
   "cell_type": "code",
   "execution_count": 20,
   "metadata": {},
   "outputs": [
    {
     "data": {
      "text/plain": [
       "(17000, 4)"
      ]
     },
     "execution_count": 20,
     "metadata": {},
     "output_type": "execute_result"
    }
   ],
   "source": [
    "#how big is this new dataframe?\n",
    "df.shape"
   ]
  },
  {
   "cell_type": "markdown",
   "metadata": {},
   "source": [
    "Our goal now is to pull out all sentences with the word \"renewal\" in them. These are potential \"renewal\" clauses.\n",
    "\n",
    "We want to be able to identify the general renewal clauses AND the automatic renewal clauses to help contract managers and GCs know which of their customer contracts have to be manually re-signed to renew the software license, and which don't."
   ]
  },
  {
   "cell_type": "code",
   "execution_count": 22,
   "metadata": {},
   "outputs": [
    {
     "data": {
      "text/html": [
       "<div>\n",
       "<style scoped>\n",
       "    .dataframe tbody tr th:only-of-type {\n",
       "        vertical-align: middle;\n",
       "    }\n",
       "\n",
       "    .dataframe tbody tr th {\n",
       "        vertical-align: top;\n",
       "    }\n",
       "\n",
       "    .dataframe thead th {\n",
       "        text-align: right;\n",
       "    }\n",
       "</style>\n",
       "<table border=\"1\" class=\"dataframe\">\n",
       "  <thead>\n",
       "    <tr style=\"text-align: right;\">\n",
       "      <th></th>\n",
       "      <th>file_name</th>\n",
       "      <th>text</th>\n",
       "      <th>contract_type</th>\n",
       "      <th>sentences_lists</th>\n",
       "    </tr>\n",
       "  </thead>\n",
       "  <tbody>\n",
       "    <tr>\n",
       "      <th>0</th>\n",
       "      <td>737300_1996-04-08_EXHIBIT 10.4 EXCLUSIVE SOFTWARE LICENSE AGREEMENT.txt</td>\n",
       "      <td>Exhibit 10.4 EXCLUSIVE SOFTWARE LICENSE AGREEMENT This Agreement is made as of March 31, 1996, by and between CARE CORPORATION LIMITED, a company incorporated in the British Virgin Islands (\"CCL\"), WARNER INSURANCE SERVICES, INC., a Delaware corporation (\"WARNER\"), and, for the limited purposes of joining in Sections 4, 6, 8, 10, 11, 21, and 22, COVER-ALL SYSTEMS, INC., a Delaware corporation and wholly owned subsidiary of WARNER (\"COVER-ALL\"). RECITALS A. CCL is the exclusive worldwide owner, except in the Commonwealth of Australia, the Dominion of New Zealand, and the United States of America, of all rights in certain computer software and related documentation pertaining to the administration of worker's compensation, as set forth and described in Attachment A hereto (hereinafter referred to as the \"CARE Software\"). B. Pursuant to a separate agreement by and between CCL and WARNER, entered into contemporaneously with this Agreement (the \"Stock Purchase Agreement\"), CCL and WARNE...</td>\n",
       "      <td>software_license</td>\n",
       "      <td>Exhibit 10.4 EXCLUSIVE SOFTWARE LICENSE AGREEMENT This Agreement is made as of March 31, 1996, by and between CARE CORPORATION LIMITED, a company incorporated in the British Virgin Islands (\"CCL\"), WARNER INSURANCE SERVICES, INC.,</td>\n",
       "    </tr>\n",
       "    <tr>\n",
       "      <th>0</th>\n",
       "      <td>737300_1996-04-08_EXHIBIT 10.4 EXCLUSIVE SOFTWARE LICENSE AGREEMENT.txt</td>\n",
       "      <td>Exhibit 10.4 EXCLUSIVE SOFTWARE LICENSE AGREEMENT This Agreement is made as of March 31, 1996, by and between CARE CORPORATION LIMITED, a company incorporated in the British Virgin Islands (\"CCL\"), WARNER INSURANCE SERVICES, INC., a Delaware corporation (\"WARNER\"), and, for the limited purposes of joining in Sections 4, 6, 8, 10, 11, 21, and 22, COVER-ALL SYSTEMS, INC., a Delaware corporation and wholly owned subsidiary of WARNER (\"COVER-ALL\"). RECITALS A. CCL is the exclusive worldwide owner, except in the Commonwealth of Australia, the Dominion of New Zealand, and the United States of America, of all rights in certain computer software and related documentation pertaining to the administration of worker's compensation, as set forth and described in Attachment A hereto (hereinafter referred to as the \"CARE Software\"). B. Pursuant to a separate agreement by and between CCL and WARNER, entered into contemporaneously with this Agreement (the \"Stock Purchase Agreement\"), CCL and WARNE...</td>\n",
       "      <td>software_license</td>\n",
       "      <td>a Delaware corporation (\"WARNER\"), and, for the limited purposes of joining in Sections 4, 6, 8, 10, 11, 21, and 22, COVER-ALL SYSTEMS, INC.,</td>\n",
       "    </tr>\n",
       "  </tbody>\n",
       "</table>\n",
       "</div>"
      ],
      "text/plain": [
       "                                                                 file_name  \\\n",
       "0  737300_1996-04-08_EXHIBIT 10.4 EXCLUSIVE SOFTWARE LICENSE AGREEMENT.txt   \n",
       "0  737300_1996-04-08_EXHIBIT 10.4 EXCLUSIVE SOFTWARE LICENSE AGREEMENT.txt   \n",
       "\n",
       "                                                                                                                                                                                                                                                                                                                                                                                                                                                                                                                                                                                                                                                                                                                                                                                                                                                                                                                                                                                                                                      text  \\\n",
       "0  Exhibit 10.4 EXCLUSIVE SOFTWARE LICENSE AGREEMENT This Agreement is made as of March 31, 1996, by and between CARE CORPORATION LIMITED, a company incorporated in the British Virgin Islands (\"CCL\"), WARNER INSURANCE SERVICES, INC., a Delaware corporation (\"WARNER\"), and, for the limited purposes of joining in Sections 4, 6, 8, 10, 11, 21, and 22, COVER-ALL SYSTEMS, INC., a Delaware corporation and wholly owned subsidiary of WARNER (\"COVER-ALL\"). RECITALS A. CCL is the exclusive worldwide owner, except in the Commonwealth of Australia, the Dominion of New Zealand, and the United States of America, of all rights in certain computer software and related documentation pertaining to the administration of worker's compensation, as set forth and described in Attachment A hereto (hereinafter referred to as the \"CARE Software\"). B. Pursuant to a separate agreement by and between CCL and WARNER, entered into contemporaneously with this Agreement (the \"Stock Purchase Agreement\"), CCL and WARNE...   \n",
       "0  Exhibit 10.4 EXCLUSIVE SOFTWARE LICENSE AGREEMENT This Agreement is made as of March 31, 1996, by and between CARE CORPORATION LIMITED, a company incorporated in the British Virgin Islands (\"CCL\"), WARNER INSURANCE SERVICES, INC., a Delaware corporation (\"WARNER\"), and, for the limited purposes of joining in Sections 4, 6, 8, 10, 11, 21, and 22, COVER-ALL SYSTEMS, INC., a Delaware corporation and wholly owned subsidiary of WARNER (\"COVER-ALL\"). RECITALS A. CCL is the exclusive worldwide owner, except in the Commonwealth of Australia, the Dominion of New Zealand, and the United States of America, of all rights in certain computer software and related documentation pertaining to the administration of worker's compensation, as set forth and described in Attachment A hereto (hereinafter referred to as the \"CARE Software\"). B. Pursuant to a separate agreement by and between CCL and WARNER, entered into contemporaneously with this Agreement (the \"Stock Purchase Agreement\"), CCL and WARNE...   \n",
       "\n",
       "      contract_type  \\\n",
       "0  software_license   \n",
       "0  software_license   \n",
       "\n",
       "                                                                                                                                                                                                                          sentences_lists  \n",
       "0  Exhibit 10.4 EXCLUSIVE SOFTWARE LICENSE AGREEMENT This Agreement is made as of March 31, 1996, by and between CARE CORPORATION LIMITED, a company incorporated in the British Virgin Islands (\"CCL\"), WARNER INSURANCE SERVICES, INC.,  \n",
       "0                                                                                           a Delaware corporation (\"WARNER\"), and, for the limited purposes of joining in Sections 4, 6, 8, 10, 11, 21, and 22, COVER-ALL SYSTEMS, INC.,  "
      ]
     },
     "execution_count": 22,
     "metadata": {},
     "output_type": "execute_result"
    }
   ],
   "source": [
    "df.head(2)"
   ]
  },
  {
   "cell_type": "code",
   "execution_count": 25,
   "metadata": {},
   "outputs": [],
   "source": [
    "#all the index numbers are cloned, which isn't ideal for indexing so we reset the dataframe index\n",
    "\n",
    "df.reset_index(inplace = True)"
   ]
  },
  {
   "cell_type": "code",
   "execution_count": 32,
   "metadata": {},
   "outputs": [],
   "source": [
    "potential_renewal_clauses = df[df['sentences_lists'].str.contains(\"renew\")]"
   ]
  },
  {
   "cell_type": "code",
   "execution_count": 36,
   "metadata": {},
   "outputs": [
    {
     "data": {
      "text/html": [
       "<div>\n",
       "<style scoped>\n",
       "    .dataframe tbody tr th:only-of-type {\n",
       "        vertical-align: middle;\n",
       "    }\n",
       "\n",
       "    .dataframe tbody tr th {\n",
       "        vertical-align: top;\n",
       "    }\n",
       "\n",
       "    .dataframe thead th {\n",
       "        text-align: right;\n",
       "    }\n",
       "</style>\n",
       "<table border=\"1\" class=\"dataframe\">\n",
       "  <thead>\n",
       "    <tr style=\"text-align: right;\">\n",
       "      <th></th>\n",
       "      <th>index</th>\n",
       "      <th>file_name</th>\n",
       "      <th>text</th>\n",
       "      <th>contract_type</th>\n",
       "      <th>sentences_lists</th>\n",
       "    </tr>\n",
       "  </thead>\n",
       "  <tbody>\n",
       "    <tr>\n",
       "      <th>223</th>\n",
       "      <td>1</td>\n",
       "      <td>946822_1999-12-01_EXHIBIT 10.26 - SOFTWARE LIC AGREE -RURAL CELLULAR.txt</td>\n",
       "      <td>EXHIBIT 10.26 SOFTWARE LICENSE AGREEMENT This Software License Agreement is made as of this 25th day of September, 1999, between Preferred Voice, Inc., a Delaware corporation (\"Licensor\") and Rural Cellular Corporation, a Minnesota corporation, on behalf of itself and its wholly owned subsidiaries and affiliates (\"Licensee\"). Licensor and Licensee are collectively referred to in this Agreement as the \"Parties.\" Background Information Licensor has developed a system (the \"System\") that when interconnected with a telecommunications switching system is capable of performing the services (the \"Services\") described in a Marketing Agreement between Licensor and Licensee of even date (the \"Marketing Agreement\"). Each System consists of the hardware, certain third party software (the \"Third Party Software\") and certain proprietary application software developed by Licensor (the \"Application Software\"). Licensee is a wireless carrier that is currently providing telecommunications service in...</td>\n",
       "      <td>software_license</td>\n",
       "      <td>The license granted in this Agreement shall terminate automatically and without further notice upon the occurrence of expiration of the term, specified in Section 1.02 or of any renewal term in the absence of a subsequent renewal in accordance with the terms of this Agreement.</td>\n",
       "    </tr>\n",
       "    <tr>\n",
       "      <th>275</th>\n",
       "      <td>2</td>\n",
       "      <td>1414043_2016-10-14_SOFTWARE LICENSE AGREEMENT DATED OCTOBER 7, 2016 BY AND BETWEEN THE COMPANY AND HANG WITH, INC..txt</td>\n",
       "      <td>Blueprint EXHIBIT 10.5 SOFTWARE LICENSE AGREEMENT This SOFTWARE LICENSE AGREEMENT (this \"Agreement\") is effective as of October 7, 2016 (the \"Effective Date\") by and between Friendable, Inc., a Nevada corporation with offices at 1821 S Bascom Ave., Suite 353, Campbell, California 95008 (\"FRIEND\"), and Hang With, Inc., a Nevada corporation with its principal office at 7 Studebaker, 1st Floor, Irvine, CA 92618 (\"LICENSOR\") (FRIEND and LICENSOR each, a \"Party\"; together, the \"Parties\"). RECITALS WHEREAS, LICENSOR is the sole owner of all rights, title, and interest in and to the proprietary live-streaming mobile and social application platform generally known as Hang w/, described in further detail in Exhibit A attached hereto and incorporated herein by this reference (the \"App\"), as well as the \"Licensed Software\" (defined below), which includes any and all related documentation, user manuals, and related material (collectively, the \"App Documentation\"); WHEREAS, LICENSOR desires to ...</td>\n",
       "      <td>software_license</td>\n",
       "      <td>Intellectual Property Rights\" means all past, present and future intellectual property or proprietary rights of any kind recognized in any country or jurisdiction in the world, in each case registered or unregistered, including, without limitation, in and to, arising out of, or associated with (a) any and all United States and foreign patents and applications therefor, as well as any and all patents issuing in the future on such patent applications, including any and all reissues, divisions, renewals, extensions, substitutions, continuations and continuations-in-part thereof (\"Patents\"); (b) inventions (whether patentable or not), invention disclosures, improvements, trade secrets, proprietary information, know-how, technology and technical data (\"Trade Secrets\"); (c) all copyrights, copyright registrations and applications therefor and all other rights corresponding thereto throughout the world (\"Copyrights\"), (d) names, trademarks, service marks, trade dress, symbols and logos (\"...</td>\n",
       "    </tr>\n",
       "    <tr>\n",
       "      <th>919</th>\n",
       "      <td>6</td>\n",
       "      <td>1017137_1999-10-27_SOFTWARE LICENSE AGREEMENT.txt</td>\n",
       "      <td>&lt;PAGE&gt; 1 **CONFIDENTIAL** EXHIBIT 10.2 viaLINK SOFTWARE LICENSE This Software License (\"License\") is entered into as of this 12th day of October, 1999 by and between The viaLink Company, an Oklahoma corporation with its principal place of business at 13800 Benson Road, Edmond, Oklahoma (\"viaLink\") and i2 Technologies, Inc., a Delaware corporation with its principal place of business at 11701 Luna Road, Dallas, Texas 75234 . WHEREAS, viaLink and i2 have contemporaneously herewith entered into an Alliance and Marketing Agreement of even date herewith (\"Alliance Agreement\"); and WHEREAS, this License is entered into to pursuant to and in furtherance of said Alliance Agreement. NOW, THEREFORE, in consideration of the above premises and other good and valuable consideration, the receipt and sufficiency of which is hereby acknowledged, the parties hereto agree as follows: 1. DEFINITIONS: When used in this License, the capitalized terms listed below shall have the following meanings. Any ...</td>\n",
       "      <td>software_license</td>\n",
       "      <td>During the Term of this License, including all renewal terms hereof, i2 agrees to pay the fees and amounts set forth in the Sections 5.2 through 5.4 of the Alliance Agreement.</td>\n",
       "    </tr>\n",
       "    <tr>\n",
       "      <th>925</th>\n",
       "      <td>6</td>\n",
       "      <td>1017137_1999-10-27_SOFTWARE LICENSE AGREEMENT.txt</td>\n",
       "      <td>&lt;PAGE&gt; 1 **CONFIDENTIAL** EXHIBIT 10.2 viaLINK SOFTWARE LICENSE This Software License (\"License\") is entered into as of this 12th day of October, 1999 by and between The viaLink Company, an Oklahoma corporation with its principal place of business at 13800 Benson Road, Edmond, Oklahoma (\"viaLink\") and i2 Technologies, Inc., a Delaware corporation with its principal place of business at 11701 Luna Road, Dallas, Texas 75234 . WHEREAS, viaLink and i2 have contemporaneously herewith entered into an Alliance and Marketing Agreement of even date herewith (\"Alliance Agreement\"); and WHEREAS, this License is entered into to pursuant to and in furtherance of said Alliance Agreement. NOW, THEREFORE, in consideration of the above premises and other good and valuable consideration, the receipt and sufficiency of which is hereby acknowledged, the parties hereto agree as follows: 1. DEFINITIONS: When used in this License, the capitalized terms listed below shall have the following meanings. Any ...</td>\n",
       "      <td>software_license</td>\n",
       "      <td>It will thereafter automatically renew on a year to year basis (\"Renewal Term\") unless a party, upon at least three (3) months written notice prior to end of the Initial Term or the then current Renewal Term, as the case may be, notifies the other party that it will terminate this License as of the end of such Initial Term or Renewal Term.</td>\n",
       "    </tr>\n",
       "    <tr>\n",
       "      <th>927</th>\n",
       "      <td>6</td>\n",
       "      <td>1017137_1999-10-27_SOFTWARE LICENSE AGREEMENT.txt</td>\n",
       "      <td>&lt;PAGE&gt; 1 **CONFIDENTIAL** EXHIBIT 10.2 viaLINK SOFTWARE LICENSE This Software License (\"License\") is entered into as of this 12th day of October, 1999 by and between The viaLink Company, an Oklahoma corporation with its principal place of business at 13800 Benson Road, Edmond, Oklahoma (\"viaLink\") and i2 Technologies, Inc., a Delaware corporation with its principal place of business at 11701 Luna Road, Dallas, Texas 75234 . WHEREAS, viaLink and i2 have contemporaneously herewith entered into an Alliance and Marketing Agreement of even date herewith (\"Alliance Agreement\"); and WHEREAS, this License is entered into to pursuant to and in furtherance of said Alliance Agreement. NOW, THEREFORE, in consideration of the above premises and other good and valuable consideration, the receipt and sufficiency of which is hereby acknowledged, the parties hereto agree as follows: 1. DEFINITIONS: When used in this License, the capitalized terms listed below shall have the following meanings. Any ...</td>\n",
       "      <td>software_license</td>\n",
       "      <td>if viaLink exercises its right to terminate this License as of the end of its Initial Term or the then-current Renewal Term (\"non-renewal\"), then for a period of one (1) year following the effective date of said non-renewal, i2 shall, subject to the applicable terms of this License (including, without limitation, Section 4), nonetheless be entitled to continue to operate, provide and offer access to its then in operation Public Exchanges and/or Private Exchanges for its then existing customers of such Exchanges only (determined as of the effective date of such non-renewal).</td>\n",
       "    </tr>\n",
       "  </tbody>\n",
       "</table>\n",
       "</div>"
      ],
      "text/plain": [
       "    index  \\\n",
       "223     1   \n",
       "275     2   \n",
       "919     6   \n",
       "925     6   \n",
       "927     6   \n",
       "\n",
       "                                                                                                                  file_name  \\\n",
       "223                                                946822_1999-12-01_EXHIBIT 10.26 - SOFTWARE LIC AGREE -RURAL CELLULAR.txt   \n",
       "275  1414043_2016-10-14_SOFTWARE LICENSE AGREEMENT DATED OCTOBER 7, 2016 BY AND BETWEEN THE COMPANY AND HANG WITH, INC..txt   \n",
       "919                                                                       1017137_1999-10-27_SOFTWARE LICENSE AGREEMENT.txt   \n",
       "925                                                                       1017137_1999-10-27_SOFTWARE LICENSE AGREEMENT.txt   \n",
       "927                                                                       1017137_1999-10-27_SOFTWARE LICENSE AGREEMENT.txt   \n",
       "\n",
       "                                                                                                                                                                                                                                                                                                                                                                                                                                                                                                                                                                                                                                                                                                                                                                                                                                                                                                                                                                                                                                        text  \\\n",
       "223  EXHIBIT 10.26 SOFTWARE LICENSE AGREEMENT This Software License Agreement is made as of this 25th day of September, 1999, between Preferred Voice, Inc., a Delaware corporation (\"Licensor\") and Rural Cellular Corporation, a Minnesota corporation, on behalf of itself and its wholly owned subsidiaries and affiliates (\"Licensee\"). Licensor and Licensee are collectively referred to in this Agreement as the \"Parties.\" Background Information Licensor has developed a system (the \"System\") that when interconnected with a telecommunications switching system is capable of performing the services (the \"Services\") described in a Marketing Agreement between Licensor and Licensee of even date (the \"Marketing Agreement\"). Each System consists of the hardware, certain third party software (the \"Third Party Software\") and certain proprietary application software developed by Licensor (the \"Application Software\"). Licensee is a wireless carrier that is currently providing telecommunications service in...   \n",
       "275  Blueprint EXHIBIT 10.5 SOFTWARE LICENSE AGREEMENT This SOFTWARE LICENSE AGREEMENT (this \"Agreement\") is effective as of October 7, 2016 (the \"Effective Date\") by and between Friendable, Inc., a Nevada corporation with offices at 1821 S Bascom Ave., Suite 353, Campbell, California 95008 (\"FRIEND\"), and Hang With, Inc., a Nevada corporation with its principal office at 7 Studebaker, 1st Floor, Irvine, CA 92618 (\"LICENSOR\") (FRIEND and LICENSOR each, a \"Party\"; together, the \"Parties\"). RECITALS WHEREAS, LICENSOR is the sole owner of all rights, title, and interest in and to the proprietary live-streaming mobile and social application platform generally known as Hang w/, described in further detail in Exhibit A attached hereto and incorporated herein by this reference (the \"App\"), as well as the \"Licensed Software\" (defined below), which includes any and all related documentation, user manuals, and related material (collectively, the \"App Documentation\"); WHEREAS, LICENSOR desires to ...   \n",
       "919  <PAGE> 1 **CONFIDENTIAL** EXHIBIT 10.2 viaLINK SOFTWARE LICENSE This Software License (\"License\") is entered into as of this 12th day of October, 1999 by and between The viaLink Company, an Oklahoma corporation with its principal place of business at 13800 Benson Road, Edmond, Oklahoma (\"viaLink\") and i2 Technologies, Inc., a Delaware corporation with its principal place of business at 11701 Luna Road, Dallas, Texas 75234 . WHEREAS, viaLink and i2 have contemporaneously herewith entered into an Alliance and Marketing Agreement of even date herewith (\"Alliance Agreement\"); and WHEREAS, this License is entered into to pursuant to and in furtherance of said Alliance Agreement. NOW, THEREFORE, in consideration of the above premises and other good and valuable consideration, the receipt and sufficiency of which is hereby acknowledged, the parties hereto agree as follows: 1. DEFINITIONS: When used in this License, the capitalized terms listed below shall have the following meanings. Any ...   \n",
       "925  <PAGE> 1 **CONFIDENTIAL** EXHIBIT 10.2 viaLINK SOFTWARE LICENSE This Software License (\"License\") is entered into as of this 12th day of October, 1999 by and between The viaLink Company, an Oklahoma corporation with its principal place of business at 13800 Benson Road, Edmond, Oklahoma (\"viaLink\") and i2 Technologies, Inc., a Delaware corporation with its principal place of business at 11701 Luna Road, Dallas, Texas 75234 . WHEREAS, viaLink and i2 have contemporaneously herewith entered into an Alliance and Marketing Agreement of even date herewith (\"Alliance Agreement\"); and WHEREAS, this License is entered into to pursuant to and in furtherance of said Alliance Agreement. NOW, THEREFORE, in consideration of the above premises and other good and valuable consideration, the receipt and sufficiency of which is hereby acknowledged, the parties hereto agree as follows: 1. DEFINITIONS: When used in this License, the capitalized terms listed below shall have the following meanings. Any ...   \n",
       "927  <PAGE> 1 **CONFIDENTIAL** EXHIBIT 10.2 viaLINK SOFTWARE LICENSE This Software License (\"License\") is entered into as of this 12th day of October, 1999 by and between The viaLink Company, an Oklahoma corporation with its principal place of business at 13800 Benson Road, Edmond, Oklahoma (\"viaLink\") and i2 Technologies, Inc., a Delaware corporation with its principal place of business at 11701 Luna Road, Dallas, Texas 75234 . WHEREAS, viaLink and i2 have contemporaneously herewith entered into an Alliance and Marketing Agreement of even date herewith (\"Alliance Agreement\"); and WHEREAS, this License is entered into to pursuant to and in furtherance of said Alliance Agreement. NOW, THEREFORE, in consideration of the above premises and other good and valuable consideration, the receipt and sufficiency of which is hereby acknowledged, the parties hereto agree as follows: 1. DEFINITIONS: When used in this License, the capitalized terms listed below shall have the following meanings. Any ...   \n",
       "\n",
       "        contract_type  \\\n",
       "223  software_license   \n",
       "275  software_license   \n",
       "919  software_license   \n",
       "925  software_license   \n",
       "927  software_license   \n",
       "\n",
       "                                                                                                                                                                                                                                                                                                                                                                                                                                                                                                                                                                                                                                                                                                                                                                                                                                                                                                                                                                                                                             sentences_lists  \n",
       "223                                                                                                                                                                                                                                                                                                                                                                                                                                                                                                                                                                                                                                                                                                                                                    The license granted in this Agreement shall terminate automatically and without further notice upon the occurrence of expiration of the term, specified in Section 1.02 or of any renewal term in the absence of a subsequent renewal in accordance with the terms of this Agreement.  \n",
       "275  Intellectual Property Rights\" means all past, present and future intellectual property or proprietary rights of any kind recognized in any country or jurisdiction in the world, in each case registered or unregistered, including, without limitation, in and to, arising out of, or associated with (a) any and all United States and foreign patents and applications therefor, as well as any and all patents issuing in the future on such patent applications, including any and all reissues, divisions, renewals, extensions, substitutions, continuations and continuations-in-part thereof (\"Patents\"); (b) inventions (whether patentable or not), invention disclosures, improvements, trade secrets, proprietary information, know-how, technology and technical data (\"Trade Secrets\"); (c) all copyrights, copyright registrations and applications therefor and all other rights corresponding thereto throughout the world (\"Copyrights\"), (d) names, trademarks, service marks, trade dress, symbols and logos (\"...  \n",
       "919                                                                                                                                                                                                                                                                                                                                                                                                                                                                                                                                                                                                                                                                                                                                                                                                                                                          During the Term of this License, including all renewal terms hereof, i2 agrees to pay the fees and amounts set forth in the Sections 5.2 through 5.4 of the Alliance Agreement.  \n",
       "925                                                                                                                                                                                                                                                                                                                                                                                                                                                                                                                                                                                                                                                                                    It will thereafter automatically renew on a year to year basis (\"Renewal Term\") unless a party, upon at least three (3) months written notice prior to end of the Initial Term or the then current Renewal Term, as the case may be, notifies the other party that it will terminate this License as of the end of such Initial Term or Renewal Term.  \n",
       "927                                                                                                                                                                                                                                                                                                                                                                                                                                     if viaLink exercises its right to terminate this License as of the end of its Initial Term or the then-current Renewal Term (\"non-renewal\"), then for a period of one (1) year following the effective date of said non-renewal, i2 shall, subject to the applicable terms of this License (including, without limitation, Section 4), nonetheless be entitled to continue to operate, provide and offer access to its then in operation Public Exchanges and/or Private Exchanges for its then existing customers of such Exchanges only (determined as of the effective date of such non-renewal).  "
      ]
     },
     "execution_count": 36,
     "metadata": {},
     "output_type": "execute_result"
    }
   ],
   "source": [
    "potential_renewal_clauses[0:10]"
   ]
  },
  {
   "cell_type": "code",
   "execution_count": null,
   "metadata": {},
   "outputs": [],
   "source": [
    "def word_cleaner(mess):\n",
    "    \n",
    "    #removing non-letters including spaces\n",
    "    just_letters = re.sub(\"[^a-zA-Z]\", \" \", mess)\n",
    "    \n",
    "    #lower-casing\n",
    "    small_caps = just_letters.lower().split()\n",
    "    \n",
    "    #assign stopwords into a set and then removing those from target text\n",
    "    stops = set(stopwords.words('english'))\n",
    "    important_words = [string for string in small_caps if not string in stops]\n",
    "    \n",
    "    #lemmatize the important words \n",
    "    lem_words_only = [lemmatizer.lemmatize(word) for word in important_words]\n",
    "\n",
    "    #get rid of all the quotation marks\n",
    "    clean_stage1=[i.replace('\\xe2\\x80\\x9c','') for i in lem_words_only]\n",
    "    clean2=[i.replace('\\xe2\\x80\\x9d','') for i in clean_stage1 ]\n",
    "    clean3=[i.replace('\\xe2\\x80\\x99s','') for i in clean2 ]\n",
    "    \n",
    "    #rejoin all the words into a string separated by a space\n",
    "    return(\" \".join(clean3))"
   ]
  },
  {
   "cell_type": "code",
   "execution_count": null,
   "metadata": {},
   "outputs": [],
   "source": [
    "REPLACE_BY_SPACE_RE = re.compile('[/(){}\\[\\]\\|@,;]')\n",
    "BAD_SYMBOLS_RE = re.compile('[^0-9a-z #+_]')\n",
    "\n",
    "def clean_text(text):\n",
    "    \"\"\"\n",
    "        text: a string\n",
    "        \n",
    "        return: modified initial string\n",
    "    \"\"\"\n",
    "    text = text.lower() # lowercase text\n",
    "    text = REPLACE_BY_SPACE_RE.sub(' ', text) # replace REPLACE_BY_SPACE_RE symbols by space in text. substitute the matched string in REPLACE_BY_SPACE_RE with space.\n",
    "    text = BAD_SYMBOLS_RE.sub('', text) # remove symbols which are in BAD_SYMBOLS_RE from text. substitute the matched string in BAD_SYMBOLS_RE with nothing. \n",
    "#    text = re.sub(r'\\W+', '', text)\n",
    "    text = ' '.join(word for word in text.split() if word not in STOPWORDS) # remove stopwors from text\n",
    "    return text\n",
    "df['Consumer complaint narrative'] = df['Consumer complaint narrative'].apply(clean_text)\n",
    "df['Consumer complaint narrative'] = df['Consumer complaint narrative'].str.replace('\\d+', '')\n"
   ]
  },
  {
   "cell_type": "code",
   "execution_count": null,
   "metadata": {},
   "outputs": [],
   "source": []
  },
  {
   "cell_type": "code",
   "execution_count": null,
   "metadata": {},
   "outputs": [],
   "source": []
  },
  {
   "cell_type": "code",
   "execution_count": null,
   "metadata": {},
   "outputs": [],
   "source": []
  },
  {
   "cell_type": "code",
   "execution_count": null,
   "metadata": {},
   "outputs": [],
   "source": []
  },
  {
   "cell_type": "code",
   "execution_count": null,
   "metadata": {},
   "outputs": [],
   "source": []
  },
  {
   "cell_type": "code",
   "execution_count": null,
   "metadata": {},
   "outputs": [],
   "source": []
  },
  {
   "cell_type": "code",
   "execution_count": null,
   "metadata": {},
   "outputs": [],
   "source": []
  },
  {
   "cell_type": "code",
   "execution_count": 30,
   "metadata": {},
   "outputs": [],
   "source": []
  },
  {
   "cell_type": "code",
   "execution_count": 33,
   "metadata": {},
   "outputs": [],
   "source": []
  },
  {
   "cell_type": "code",
   "execution_count": null,
   "metadata": {},
   "outputs": [],
   "source": []
  }
 ],
 "metadata": {
  "kernelspec": {
   "display_name": "Python 3",
   "language": "python",
   "name": "python3"
  },
  "language_info": {
   "codemirror_mode": {
    "name": "ipython",
    "version": 3
   },
   "file_extension": ".py",
   "mimetype": "text/x-python",
   "name": "python",
   "nbconvert_exporter": "python",
   "pygments_lexer": "ipython3",
   "version": "3.7.6"
  }
 },
 "nbformat": 4,
 "nbformat_minor": 4
}

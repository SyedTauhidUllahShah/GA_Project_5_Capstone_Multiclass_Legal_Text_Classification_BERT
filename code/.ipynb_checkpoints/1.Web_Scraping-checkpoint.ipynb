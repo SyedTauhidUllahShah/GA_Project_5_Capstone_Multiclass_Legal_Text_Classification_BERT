{
 "cells": [
  {
   "cell_type": "markdown",
   "metadata": {},
   "source": [
    "by Graham Lim"
   ]
  },
  {
   "cell_type": "markdown",
   "metadata": {},
   "source": [
    "# 1. Webscraping"
   ]
  },
  {
   "cell_type": "markdown",
   "metadata": {},
   "source": [
    "You will need to run the following pip install commands in terminal or cmd line:\n",
    "\n",
    "* `pip install bs4` (for BeautifulSoup)\n",
    "* `pip install selenium` (for Selenium)\n",
    "* `pip install webdriver-manager` (for the automated Selenium web driver to work)"
   ]
  },
  {
   "cell_type": "code",
   "execution_count": 1,
   "metadata": {},
   "outputs": [],
   "source": [
    "#Standard Python DS imports:\n",
    "\n",
    "import pandas as pd\n",
    "import numpy as np\n",
    "import matplotlib.pyplot as plt\n",
    "import seaborn as sns"
   ]
  },
  {
   "cell_type": "code",
   "execution_count": 2,
   "metadata": {},
   "outputs": [],
   "source": [
    "#set column size to be larger\n",
    "pd.set_option(\"display.max_colwidth\", 1000)"
   ]
  },
  {
   "cell_type": "markdown",
   "metadata": {},
   "source": [
    "We have to use `Selenium` because of the fact that all the clauses don't load in full in this website. The content only loads up in full via infinite scrolling down/paging down. \n",
    "\n",
    "Hence, we will import `Selenium` and the related `WebDriver Manager` tool to run a Chrome instance within Selenium that will keep scrolling down for us, so that we don't manually have to do this for our 15+ types of clauses."
   ]
  },
  {
   "cell_type": "code",
   "execution_count": 17,
   "metadata": {},
   "outputs": [],
   "source": [
    "#Selenium and WebDriver Manager imports:\n",
    "\n",
    "from selenium import webdriver\n",
    "from webdriver_manager.chrome import ChromeDriverManager\n",
    "from bs4 import BeautifulSoup\n",
    "\n",
    "import time\n",
    "from selenium.webdriver.common.keys import Keys"
   ]
  },
  {
   "cell_type": "code",
   "execution_count": 5,
   "metadata": {},
   "outputs": [],
   "source": [
    "#let's assign the major URLS we want to scrape from LawInsider:\n",
    "\n",
    "#these are our 2 target clauses - automatic and optional/manual renewal clauses:\n",
    "url = \"https://www.foodnavigator-asia.com/tag/keyword/Food/Rice\""
   ]
  },
  {
   "cell_type": "markdown",
   "metadata": {},
   "source": [
    "## LawInsider.com Scraper Function"
   ]
  },
  {
   "cell_type": "markdown",
   "metadata": {},
   "source": [
    "We then write a function that will scrape the clauses contained in the LawInsider site url(s) after scrolling down that page x number of pagedowns to load it in full.\n",
    "\n",
    "It takes 3 arguments: the url/url list objects we previously assigned (`urls`), the number of pagedowns/scrolls downwards to execute (`pagedown_pushes`), and the delay between each page/scroll down (`pagedown_lag`), so that LawInsider doesn't get overwhelmed with too many requests."
   ]
  },
  {
   "cell_type": "code",
   "execution_count": 58,
   "metadata": {},
   "outputs": [
    {
     "name": "stderr",
     "output_type": "stream",
     "text": [
      "[WDM] - Current google-chrome version is 84.0.4147\n",
      "[WDM] - Get LATEST driver version for 84.0.4147\n",
      "[WDM] - Driver [/Users/grahamlim/.wdm/drivers/chromedriver/mac64/84.0.4147.30/chromedriver] found in cache\n"
     ]
    },
    {
     "name": "stdout",
     "output_type": "stream",
     "text": [
      " \n"
     ]
    }
   ],
   "source": [
    "driver = webdriver.Chrome(ChromeDriverManager().install())\n",
    "driver.get(url)\n",
    "\n",
    "driver.get(url)\n",
    "time.sleep(5)\n",
    "driver_body = driver.find_element_by_tag_name('body')\n",
    "driver_pages = driver_body.find_elements_by_class_name('Pagination-item')\n",
    "\n",
    "i = 0\n",
    "\n",
    "intro_list = []\n",
    "title_list = []\n",
    "date_list = []\n",
    "post_url_list = []\n",
    "\n",
    "for i in range(1, len(driver_pages)):\n",
    "    html = \"\"\n",
    "    html = driver.page_source\n",
    "    soup = BeautifulSoup(html, 'lxml')\n",
    "    \n",
    "    intro_elems = driver.find_elements_by_class_name(\"Teaser-intro\")\n",
    "\n",
    "    for intro in intro_elems:\n",
    "        intro_list.append(intro.text)\n",
    "\n",
    "    title_elems = driver.find_elements_by_class_name(\"Teaser-title\")\n",
    "    \n",
    "    for title in title_elems:\n",
    "        title_list.append(title.text)\n",
    "    \n",
    "    date_elems = driver.find_elements_by_class_name(\"Teaser-date\")\n",
    "    for date in date_elems:\n",
    "        date_list.append(date.text)\n",
    "    \n",
    "    linksdiv = soup.find_all('h3', {'class': 'Teaser-title'})\n",
    "    for linkdiv in linksdiv:\n",
    "        post_url_list.append('www.foodnavigator-asia.com'+(linkdiv.find('a')['href']))\n",
    "    \n",
    "#   div = soup.find('div', {'class': 'gsc-wrapper'})\n",
    "#   linksdiv = div.find_all('div', {'class': 'gsc-webResult gsc-result'})\n",
    "#   for linkdiv in linksdiv:\n",
    "#       links.append(linkdiv.find('a')['href'])\n",
    "\n",
    "    try:\n",
    "        driver.execute_script(\"arguments[0].click();\", driver_pages[i])\n",
    "        time.sleep(2)\n",
    "\n",
    "        driver_body = driver.find_element_by_tag_name('body')\n",
    "        driver_pages = driver_body.find_elements_by_class_name('Pagination-item')\n",
    "        i+1\n",
    "        \n",
    "    except exceptions.StaleElementReferenceException as e:\n",
    "        pass\n",
    "\n",
    "driver.close()"
   ]
  },
  {
   "cell_type": "code",
   "execution_count": 36,
   "metadata": {},
   "outputs": [
    {
     "data": {
      "text/plain": [
       "75"
      ]
     },
     "execution_count": 36,
     "metadata": {},
     "output_type": "execute_result"
    }
   ],
   "source": [
    "len(post_url_list)"
   ]
  },
  {
   "cell_type": "code",
   "execution_count": 38,
   "metadata": {},
   "outputs": [
    {
     "name": "stdout",
     "output_type": "stream",
     "text": [
      "75\n",
      "75\n",
      "75\n",
      "75\n"
     ]
    }
   ],
   "source": [
    "#checking scraped length\n",
    "print (len(intro_list))\n",
    "print (len(title_list))\n",
    "print (len(date_list))\n",
    "print (len(post_url_list))"
   ]
  },
  {
   "cell_type": "code",
   "execution_count": 39,
   "metadata": {},
   "outputs": [
    {
     "data": {
      "text/plain": [
       "(75, 4)"
      ]
     },
     "execution_count": 39,
     "metadata": {},
     "output_type": "execute_result"
    }
   ],
   "source": [
    "#We then write a simple function to convert and label these lists as DataFrames in pandas, and tells us what the `shape` of the dataframe is:\n",
    "\n",
    "df = pd.DataFrame({'date': date_list,\n",
    "                   'title': title_list,\n",
    "                   'intro': intro_list,\n",
    "                   'url': post_url_list\n",
    "                  })\n",
    "\n",
    "df.shape"
   ]
  },
  {
   "cell_type": "code",
   "execution_count": 40,
   "metadata": {},
   "outputs": [
    {
     "data": {
      "text/html": [
       "<div>\n",
       "<style scoped>\n",
       "    .dataframe tbody tr th:only-of-type {\n",
       "        vertical-align: middle;\n",
       "    }\n",
       "\n",
       "    .dataframe tbody tr th {\n",
       "        vertical-align: top;\n",
       "    }\n",
       "\n",
       "    .dataframe thead th {\n",
       "        text-align: right;\n",
       "    }\n",
       "</style>\n",
       "<table border=\"1\" class=\"dataframe\">\n",
       "  <thead>\n",
       "    <tr style=\"text-align: right;\">\n",
       "      <th></th>\n",
       "      <th>date</th>\n",
       "      <th>title</th>\n",
       "      <th>intro</th>\n",
       "      <th>url</th>\n",
       "    </tr>\n",
       "  </thead>\n",
       "  <tbody>\n",
       "    <tr>\n",
       "      <th>0</th>\n",
       "      <td>20-Jul-2020</td>\n",
       "      <td>Legacy vs price: Rice exports from Vietnam and India vie for ASEAN trade post-COVID-19</td>\n",
       "      <td>Vietnam and India are competing for ASEAN rice trade post-COVID-19, with the former having gained advantage due to support from traditional partner Philippines, and the latter having come out ahead with Malaysia in terms of price.</td>\n",
       "      <td>www.foodnavigator-asia.com/Article/2020/07/20/Legacy-vs-price-Rice-exports-from-Vietnam-and-India-vie-for-ASEAN-trade-post-COVID-19</td>\n",
       "    </tr>\n",
       "    <tr>\n",
       "      <th>1</th>\n",
       "      <td>25-Jun-2020</td>\n",
       "      <td>Trade-off: Rice and seafood the big winners for Vietnam under EU free trade deal</td>\n",
       "      <td>The recently-ratified EU-Vietnam Free Trade Agreement (EVFTA) has seen major gains in food trade for both sides, particularly in rice and seafood for Vietnam as well as alcohol and meat for the EU.</td>\n",
       "      <td>www.foodnavigator-asia.com/Article/2020/06/25/Trade-off-Rice-and-seafood-the-big-winners-for-Vietnam-under-EU-free-trade-deal</td>\n",
       "    </tr>\n",
       "    <tr>\n",
       "      <th>2</th>\n",
       "      <td>22-Apr-2020</td>\n",
       "      <td>Rice-ing concern: COVID-19 creates supply and price volatility for Asia’s most ‘cost-sensitive’ crop</td>\n",
       "      <td>Lockdowns and trade barriers across Asia due to the COVID-19 pandemic have thrust rice - one of the region’s largest agricultural commodities – firmly into the spotlight potential volatility in both supply and cost.</td>\n",
       "      <td>www.foodnavigator-asia.com/Article/2020/04/22/Rice-ing-concern-COVID-19-creates-supply-and-price-volatility-for-Asia-s-most-cost-sensitive-crop</td>\n",
       "    </tr>\n",
       "    <tr>\n",
       "      <th>3</th>\n",
       "      <td>17-Mar-2020</td>\n",
       "      <td>The rice and fall: Vietnam eyes more global opportunities as Thai supply totters</td>\n",
       "      <td>Thailand’s position as the largest exporter of rice from the South East Asian region is at risk as the country struggles to handle weather, economical and quality changes, whereas Vietnam looks to be going from strength to strength.</td>\n",
       "      <td>www.foodnavigator-asia.com/Article/2020/03/17/The-rice-and-fall-Vietnam-eyes-more-global-opportunities-as-Thai-supply-totters</td>\n",
       "    </tr>\n",
       "    <tr>\n",
       "      <th>4</th>\n",
       "      <td>25-Feb-2020</td>\n",
       "      <td>Beyond rice: Indian government urged to boost cereal production in security drive</td>\n",
       "      <td>Researchers are pushing for India to focus on enhancing its production of crops other than rice, the country’s traditional staple, if it wishes to effectively address its triple threats of food security, climate change effects and malnutrition.</td>\n",
       "      <td>www.foodnavigator-asia.com/Article/2020/02/25/Beyond-rice-Indian-government-urged-to-boost-cereal-production-in-security-drive</td>\n",
       "    </tr>\n",
       "  </tbody>\n",
       "</table>\n",
       "</div>"
      ],
      "text/plain": [
       "          date  \\\n",
       "0  20-Jul-2020   \n",
       "1  25-Jun-2020   \n",
       "2  22-Apr-2020   \n",
       "3  17-Mar-2020   \n",
       "4  25-Feb-2020   \n",
       "\n",
       "                                                                                                  title  \\\n",
       "0                Legacy vs price: Rice exports from Vietnam and India vie for ASEAN trade post-COVID-19   \n",
       "1                      Trade-off: Rice and seafood the big winners for Vietnam under EU free trade deal   \n",
       "2  Rice-ing concern: COVID-19 creates supply and price volatility for Asia’s most ‘cost-sensitive’ crop   \n",
       "3                      The rice and fall: Vietnam eyes more global opportunities as Thai supply totters   \n",
       "4                     Beyond rice: Indian government urged to boost cereal production in security drive   \n",
       "\n",
       "                                                                                                                                                                                                                                                  intro  \\\n",
       "0                Vietnam and India are competing for ASEAN rice trade post-COVID-19, with the former having gained advantage due to support from traditional partner Philippines, and the latter having come out ahead with Malaysia in terms of price.   \n",
       "1                                                 The recently-ratified EU-Vietnam Free Trade Agreement (EVFTA) has seen major gains in food trade for both sides, particularly in rice and seafood for Vietnam as well as alcohol and meat for the EU.   \n",
       "2                               Lockdowns and trade barriers across Asia due to the COVID-19 pandemic have thrust rice - one of the region’s largest agricultural commodities – firmly into the spotlight potential volatility in both supply and cost.   \n",
       "3              Thailand’s position as the largest exporter of rice from the South East Asian region is at risk as the country struggles to handle weather, economical and quality changes, whereas Vietnam looks to be going from strength to strength.   \n",
       "4  Researchers are pushing for India to focus on enhancing its production of crops other than rice, the country’s traditional staple, if it wishes to effectively address its triple threats of food security, climate change effects and malnutrition.   \n",
       "\n",
       "                                                                                                                                               url  \n",
       "0              www.foodnavigator-asia.com/Article/2020/07/20/Legacy-vs-price-Rice-exports-from-Vietnam-and-India-vie-for-ASEAN-trade-post-COVID-19  \n",
       "1                    www.foodnavigator-asia.com/Article/2020/06/25/Trade-off-Rice-and-seafood-the-big-winners-for-Vietnam-under-EU-free-trade-deal  \n",
       "2  www.foodnavigator-asia.com/Article/2020/04/22/Rice-ing-concern-COVID-19-creates-supply-and-price-volatility-for-Asia-s-most-cost-sensitive-crop  \n",
       "3                    www.foodnavigator-asia.com/Article/2020/03/17/The-rice-and-fall-Vietnam-eyes-more-global-opportunities-as-Thai-supply-totters  \n",
       "4                   www.foodnavigator-asia.com/Article/2020/02/25/Beyond-rice-Indian-government-urged-to-boost-cereal-production-in-security-drive  "
      ]
     },
     "execution_count": 40,
     "metadata": {},
     "output_type": "execute_result"
    }
   ],
   "source": [
    "df.head()"
   ]
  },
  {
   "cell_type": "code",
   "execution_count": 43,
   "metadata": {},
   "outputs": [
    {
     "name": "stdout",
     "output_type": "stream",
     "text": [
      "/Users/grahamlim/Documents/FSX_and_Trainer_Stuff/scrape_risk_app/data\n"
     ]
    }
   ],
   "source": [
    "cd /Users/grahamlim/Documents/FSX_and_Trainer_Stuff/scrape_risk_app/data/"
   ]
  },
  {
   "cell_type": "code",
   "execution_count": 44,
   "metadata": {},
   "outputs": [
    {
     "data": {
      "text/plain": [
       "'/Users/grahamlim/Documents/FSX_and_Trainer_Stuff/scrape_risk_app/data'"
      ]
     },
     "execution_count": 44,
     "metadata": {},
     "output_type": "execute_result"
    }
   ],
   "source": [
    "pwd"
   ]
  },
  {
   "cell_type": "code",
   "execution_count": 45,
   "metadata": {},
   "outputs": [],
   "source": [
    "df.to_csv(\"../data/df_raw.csv\")"
   ]
  },
  {
   "cell_type": "markdown",
   "metadata": {},
   "source": [
    "## 2. Cleaning and Labelling"
   ]
  },
  {
   "cell_type": "code",
   "execution_count": 47,
   "metadata": {},
   "outputs": [
    {
     "data": {
      "text/plain": [
       "date     0\n",
       "title    0\n",
       "intro    0\n",
       "url      0\n",
       "dtype: int64"
      ]
     },
     "execution_count": 47,
     "metadata": {},
     "output_type": "execute_result"
    }
   ],
   "source": [
    "#checking for null values\n",
    "\n",
    "df.isnull().sum()"
   ]
  },
  {
   "cell_type": "code",
   "execution_count": 53,
   "metadata": {},
   "outputs": [
    {
     "data": {
      "text/plain": [
       "0              Legacy vs price: Rice exports from Vietnam and India vie for ASEAN trade post-COVID-19. Vietnam and India are competing for ASEAN rice trade post-COVID-19, with the former having gained advantage due to support from traditional partner Philippines, and the latter having come out ahead with Malaysia in terms of price.\n",
       "1                                                     Trade-off: Rice and seafood the big winners for Vietnam under EU free trade deal. The recently-ratified EU-Vietnam Free Trade Agreement (EVFTA) has seen major gains in food trade for both sides, particularly in rice and seafood for Vietnam as well as alcohol and meat for the EU.\n",
       "2               Rice-ing concern: COVID-19 creates supply and price volatility for Asia’s most ‘cost-sensitive’ crop. Lockdowns and trade barriers across Asia due to the COVID-19 pandemic have thrust rice - one of the region’s largest agricultural commodities – firmly into the spotlight potential volatility in both supply and cost.\n",
       "3                  The rice and fall: Vietnam eyes more global opportunities as Thai supply totters. Thailand’s position as the largest exporter of rice from the South East Asian region is at risk as the country struggles to handle weather, economical and quality changes, whereas Vietnam looks to be going from strength to strength.\n",
       "4     Beyond rice: Indian government urged to boost cereal production in security drive. Researchers are pushing for India to focus on enhancing its production of crops other than rice, the country’s traditional staple, if it wishes to effectively address its triple threats of food security, climate change effects and malnutrition.\n",
       "                                                                                                                                                                       ...                                                                                                                                                                   \n",
       "70                                                                                                                                           Global sustainable rice scheme launched. An international system has been launched that will establish environmental standards for sustainable rice production in a bid to increase rice yields.\n",
       "71                                                                                                                        Thai floods will have minimal impact on global rice market, according to industry expert. The severe flooding in Thailand is merely a second blow to its already unsteady rice market, an industry expert has said.\n",
       "72                                                                                           New joint venture between McCormick and Kohinoor Foods: India. Global spice and flavour giant McCormick has signed a joint venture contract with India’s leading basmati rice production company Kohinoor Foods, forming a new company in India.\n",
       "73                                                                          Singapore pledges $8.2m to Asia rice science for the next five years. Singapore’s National Research Foundation (NRF) has said it will invest $8.2m in a joint research program that aims to ensure food security and future rice demands are met throughout Asia.\n",
       "74                Japanese scientists to breed rice resilient to radioactive cesium. In the wake of the Fukushima nuclear disaster, Japanese scientists from the Fukushima Agricultural Technology Centre are working towards a potential solution for the future of Japanese rice farmers – a strain of rice resilient to cesium absorption.\n",
       "Name: combined, Length: 75, dtype: object"
      ]
     },
     "execution_count": 53,
     "metadata": {},
     "output_type": "execute_result"
    }
   ],
   "source": [
    "#combine title and intro text in one\n",
    "\n",
    "df[\"combined\"] = df[\"title\"] + \". \" + df[\"intro\"]\n",
    "\n",
    "df[\"combined\"]"
   ]
  },
  {
   "cell_type": "code",
   "execution_count": 56,
   "metadata": {},
   "outputs": [],
   "source": [
    "df[\"risk_rating\"]=0"
   ]
  },
  {
   "cell_type": "code",
   "execution_count": 57,
   "metadata": {},
   "outputs": [
    {
     "data": {
      "text/html": [
       "<div>\n",
       "<style scoped>\n",
       "    .dataframe tbody tr th:only-of-type {\n",
       "        vertical-align: middle;\n",
       "    }\n",
       "\n",
       "    .dataframe tbody tr th {\n",
       "        vertical-align: top;\n",
       "    }\n",
       "\n",
       "    .dataframe thead th {\n",
       "        text-align: right;\n",
       "    }\n",
       "</style>\n",
       "<table border=\"1\" class=\"dataframe\">\n",
       "  <thead>\n",
       "    <tr style=\"text-align: right;\">\n",
       "      <th></th>\n",
       "      <th>date</th>\n",
       "      <th>title</th>\n",
       "      <th>intro</th>\n",
       "      <th>url</th>\n",
       "      <th>combined</th>\n",
       "      <th>risk_rating</th>\n",
       "    </tr>\n",
       "  </thead>\n",
       "  <tbody>\n",
       "    <tr>\n",
       "      <th>0</th>\n",
       "      <td>20-Jul-2020</td>\n",
       "      <td>Legacy vs price: Rice exports from Vietnam and India vie for ASEAN trade post-COVID-19</td>\n",
       "      <td>Vietnam and India are competing for ASEAN rice trade post-COVID-19, with the former having gained advantage due to support from traditional partner Philippines, and the latter having come out ahead with Malaysia in terms of price.</td>\n",
       "      <td>www.foodnavigator-asia.com/Article/2020/07/20/Legacy-vs-price-Rice-exports-from-Vietnam-and-India-vie-for-ASEAN-trade-post-COVID-19</td>\n",
       "      <td>Legacy vs price: Rice exports from Vietnam and India vie for ASEAN trade post-COVID-19. Vietnam and India are competing for ASEAN rice trade post-COVID-19, with the former having gained advantage due to support from traditional partner Philippines, and the latter having come out ahead with Malaysia in terms of price.</td>\n",
       "      <td>0</td>\n",
       "    </tr>\n",
       "    <tr>\n",
       "      <th>1</th>\n",
       "      <td>25-Jun-2020</td>\n",
       "      <td>Trade-off: Rice and seafood the big winners for Vietnam under EU free trade deal</td>\n",
       "      <td>The recently-ratified EU-Vietnam Free Trade Agreement (EVFTA) has seen major gains in food trade for both sides, particularly in rice and seafood for Vietnam as well as alcohol and meat for the EU.</td>\n",
       "      <td>www.foodnavigator-asia.com/Article/2020/06/25/Trade-off-Rice-and-seafood-the-big-winners-for-Vietnam-under-EU-free-trade-deal</td>\n",
       "      <td>Trade-off: Rice and seafood the big winners for Vietnam under EU free trade deal. The recently-ratified EU-Vietnam Free Trade Agreement (EVFTA) has seen major gains in food trade for both sides, particularly in rice and seafood for Vietnam as well as alcohol and meat for the EU.</td>\n",
       "      <td>0</td>\n",
       "    </tr>\n",
       "    <tr>\n",
       "      <th>2</th>\n",
       "      <td>22-Apr-2020</td>\n",
       "      <td>Rice-ing concern: COVID-19 creates supply and price volatility for Asia’s most ‘cost-sensitive’ crop</td>\n",
       "      <td>Lockdowns and trade barriers across Asia due to the COVID-19 pandemic have thrust rice - one of the region’s largest agricultural commodities – firmly into the spotlight potential volatility in both supply and cost.</td>\n",
       "      <td>www.foodnavigator-asia.com/Article/2020/04/22/Rice-ing-concern-COVID-19-creates-supply-and-price-volatility-for-Asia-s-most-cost-sensitive-crop</td>\n",
       "      <td>Rice-ing concern: COVID-19 creates supply and price volatility for Asia’s most ‘cost-sensitive’ crop. Lockdowns and trade barriers across Asia due to the COVID-19 pandemic have thrust rice - one of the region’s largest agricultural commodities – firmly into the spotlight potential volatility in both supply and cost.</td>\n",
       "      <td>0</td>\n",
       "    </tr>\n",
       "    <tr>\n",
       "      <th>3</th>\n",
       "      <td>17-Mar-2020</td>\n",
       "      <td>The rice and fall: Vietnam eyes more global opportunities as Thai supply totters</td>\n",
       "      <td>Thailand’s position as the largest exporter of rice from the South East Asian region is at risk as the country struggles to handle weather, economical and quality changes, whereas Vietnam looks to be going from strength to strength.</td>\n",
       "      <td>www.foodnavigator-asia.com/Article/2020/03/17/The-rice-and-fall-Vietnam-eyes-more-global-opportunities-as-Thai-supply-totters</td>\n",
       "      <td>The rice and fall: Vietnam eyes more global opportunities as Thai supply totters. Thailand’s position as the largest exporter of rice from the South East Asian region is at risk as the country struggles to handle weather, economical and quality changes, whereas Vietnam looks to be going from strength to strength.</td>\n",
       "      <td>0</td>\n",
       "    </tr>\n",
       "    <tr>\n",
       "      <th>4</th>\n",
       "      <td>25-Feb-2020</td>\n",
       "      <td>Beyond rice: Indian government urged to boost cereal production in security drive</td>\n",
       "      <td>Researchers are pushing for India to focus on enhancing its production of crops other than rice, the country’s traditional staple, if it wishes to effectively address its triple threats of food security, climate change effects and malnutrition.</td>\n",
       "      <td>www.foodnavigator-asia.com/Article/2020/02/25/Beyond-rice-Indian-government-urged-to-boost-cereal-production-in-security-drive</td>\n",
       "      <td>Beyond rice: Indian government urged to boost cereal production in security drive. Researchers are pushing for India to focus on enhancing its production of crops other than rice, the country’s traditional staple, if it wishes to effectively address its triple threats of food security, climate change effects and malnutrition.</td>\n",
       "      <td>0</td>\n",
       "    </tr>\n",
       "  </tbody>\n",
       "</table>\n",
       "</div>"
      ],
      "text/plain": [
       "          date  \\\n",
       "0  20-Jul-2020   \n",
       "1  25-Jun-2020   \n",
       "2  22-Apr-2020   \n",
       "3  17-Mar-2020   \n",
       "4  25-Feb-2020   \n",
       "\n",
       "                                                                                                  title  \\\n",
       "0                Legacy vs price: Rice exports from Vietnam and India vie for ASEAN trade post-COVID-19   \n",
       "1                      Trade-off: Rice and seafood the big winners for Vietnam under EU free trade deal   \n",
       "2  Rice-ing concern: COVID-19 creates supply and price volatility for Asia’s most ‘cost-sensitive’ crop   \n",
       "3                      The rice and fall: Vietnam eyes more global opportunities as Thai supply totters   \n",
       "4                     Beyond rice: Indian government urged to boost cereal production in security drive   \n",
       "\n",
       "                                                                                                                                                                                                                                                  intro  \\\n",
       "0                Vietnam and India are competing for ASEAN rice trade post-COVID-19, with the former having gained advantage due to support from traditional partner Philippines, and the latter having come out ahead with Malaysia in terms of price.   \n",
       "1                                                 The recently-ratified EU-Vietnam Free Trade Agreement (EVFTA) has seen major gains in food trade for both sides, particularly in rice and seafood for Vietnam as well as alcohol and meat for the EU.   \n",
       "2                               Lockdowns and trade barriers across Asia due to the COVID-19 pandemic have thrust rice - one of the region’s largest agricultural commodities – firmly into the spotlight potential volatility in both supply and cost.   \n",
       "3              Thailand’s position as the largest exporter of rice from the South East Asian region is at risk as the country struggles to handle weather, economical and quality changes, whereas Vietnam looks to be going from strength to strength.   \n",
       "4  Researchers are pushing for India to focus on enhancing its production of crops other than rice, the country’s traditional staple, if it wishes to effectively address its triple threats of food security, climate change effects and malnutrition.   \n",
       "\n",
       "                                                                                                                                               url  \\\n",
       "0              www.foodnavigator-asia.com/Article/2020/07/20/Legacy-vs-price-Rice-exports-from-Vietnam-and-India-vie-for-ASEAN-trade-post-COVID-19   \n",
       "1                    www.foodnavigator-asia.com/Article/2020/06/25/Trade-off-Rice-and-seafood-the-big-winners-for-Vietnam-under-EU-free-trade-deal   \n",
       "2  www.foodnavigator-asia.com/Article/2020/04/22/Rice-ing-concern-COVID-19-creates-supply-and-price-volatility-for-Asia-s-most-cost-sensitive-crop   \n",
       "3                    www.foodnavigator-asia.com/Article/2020/03/17/The-rice-and-fall-Vietnam-eyes-more-global-opportunities-as-Thai-supply-totters   \n",
       "4                   www.foodnavigator-asia.com/Article/2020/02/25/Beyond-rice-Indian-government-urged-to-boost-cereal-production-in-security-drive   \n",
       "\n",
       "                                                                                                                                                                                                                                                                                                                                  combined  \\\n",
       "0           Legacy vs price: Rice exports from Vietnam and India vie for ASEAN trade post-COVID-19. Vietnam and India are competing for ASEAN rice trade post-COVID-19, with the former having gained advantage due to support from traditional partner Philippines, and the latter having come out ahead with Malaysia in terms of price.   \n",
       "1                                                  Trade-off: Rice and seafood the big winners for Vietnam under EU free trade deal. The recently-ratified EU-Vietnam Free Trade Agreement (EVFTA) has seen major gains in food trade for both sides, particularly in rice and seafood for Vietnam as well as alcohol and meat for the EU.   \n",
       "2            Rice-ing concern: COVID-19 creates supply and price volatility for Asia’s most ‘cost-sensitive’ crop. Lockdowns and trade barriers across Asia due to the COVID-19 pandemic have thrust rice - one of the region’s largest agricultural commodities – firmly into the spotlight potential volatility in both supply and cost.   \n",
       "3               The rice and fall: Vietnam eyes more global opportunities as Thai supply totters. Thailand’s position as the largest exporter of rice from the South East Asian region is at risk as the country struggles to handle weather, economical and quality changes, whereas Vietnam looks to be going from strength to strength.   \n",
       "4  Beyond rice: Indian government urged to boost cereal production in security drive. Researchers are pushing for India to focus on enhancing its production of crops other than rice, the country’s traditional staple, if it wishes to effectively address its triple threats of food security, climate change effects and malnutrition.   \n",
       "\n",
       "   risk_rating  \n",
       "0            0  \n",
       "1            0  \n",
       "2            0  \n",
       "3            0  \n",
       "4            0  "
      ]
     },
     "execution_count": 57,
     "metadata": {},
     "output_type": "execute_result"
    }
   ],
   "source": [
    "df.head()"
   ]
  },
  {
   "cell_type": "code",
   "execution_count": null,
   "metadata": {},
   "outputs": [],
   "source": [
    "#manually annotate"
   ]
  }
 ],
 "metadata": {
  "kernelspec": {
   "display_name": "Python 3",
   "language": "python",
   "name": "python3"
  },
  "language_info": {
   "codemirror_mode": {
    "name": "ipython",
    "version": 3
   },
   "file_extension": ".py",
   "mimetype": "text/x-python",
   "name": "python",
   "nbconvert_exporter": "python",
   "pygments_lexer": "ipython3",
   "version": "3.7.6"
  }
 },
 "nbformat": 4,
 "nbformat_minor": 4
}

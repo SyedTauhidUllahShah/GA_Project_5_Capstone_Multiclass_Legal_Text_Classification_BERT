{
 "cells": [
  {
   "cell_type": "markdown",
   "metadata": {
    "collapsed": true
   },
   "source": [
    "# Capstone Project: Using NLP to Summarize Contracts"
   ]
  },
  {
   "cell_type": "markdown",
   "metadata": {},
   "source": [
    "## Problem Statement \n",
    "Contracts can be long, dense and inaccessible, and a quick way to summarize the topics can give at least a good bird's eye view for legal stakeholders.\n",
    "\n",
    "Can we use NLP models like Transformers or LDA (TBC) to summarize the topics of a contract's content? To measure success, we will use perplexity and coherence, which are topic modelling classification metrics.\n",
    "\n",
    "Perplexity captures how surprised a model is of new data it has not seen before, and is measured as the normalized log-likelihood of a held-out test set - how well does the model represent or reproduce the statistics of the held-out data?\n",
    "\n",
    "Topic Coherence measures score a single topic by measuring the degree of semantic similarity between high scoring words in the topic. These measurements help distinguish between topics that are semantically interpretable topics and topics that are artifacts of statistical inference. \n",
    "\n",
    "* Initial Code adapted from Oguejio for Chibueze's NLP modelling article:\n",
    "https://towardsdatascience.com/nlp-for-topic-modeling-summarization-of-legal-documents-8c89393b1534\n",
    "* Topic Modelling metrics explanation:\n",
    "https://towardsdatascience.com/evaluate-topic-model-in-python-latent-dirichlet-allocation-lda-7d57484bb5d0"
   ]
  },
  {
   "cell_type": "markdown",
   "metadata": {},
   "source": [
    "## Initial Imports"
   ]
  },
  {
   "cell_type": "code",
   "execution_count": 3,
   "metadata": {},
   "outputs": [],
   "source": [
    "import re #we need regex because we're going to parse through textual data"
   ]
  },
  {
   "cell_type": "markdown",
   "metadata": {},
   "source": [
    "You have to run `pip install PyPDF` in your command line terminal."
   ]
  },
  {
   "cell_type": "code",
   "execution_count": 41,
   "metadata": {},
   "outputs": [
    {
     "data": {
      "text/html": [
       "        <script type=\"text/javascript\">\n",
       "        window.PlotlyConfig = {MathJaxConfig: 'local'};\n",
       "        if (window.MathJax) {MathJax.Hub.Config({SVG: {font: \"STIX-Web\"}});}\n",
       "        if (typeof require !== 'undefined') {\n",
       "        require.undef(\"plotly\");\n",
       "        requirejs.config({\n",
       "            paths: {\n",
       "                'plotly': ['https://cdn.plot.ly/plotly-latest.min']\n",
       "            }\n",
       "        });\n",
       "        require(['plotly'], function(Plotly) {\n",
       "            window._Plotly = Plotly;\n",
       "        });\n",
       "        }\n",
       "        </script>\n",
       "        "
      ]
     },
     "metadata": {},
     "output_type": "display_data"
    },
    {
     "data": {
      "text/html": [
       "        <script type=\"text/javascript\">\n",
       "        window.PlotlyConfig = {MathJaxConfig: 'local'};\n",
       "        if (window.MathJax) {MathJax.Hub.Config({SVG: {font: \"STIX-Web\"}});}\n",
       "        if (typeof require !== 'undefined') {\n",
       "        require.undef(\"plotly\");\n",
       "        requirejs.config({\n",
       "            paths: {\n",
       "                'plotly': ['https://cdn.plot.ly/plotly-latest.min']\n",
       "            }\n",
       "        });\n",
       "        require(['plotly'], function(Plotly) {\n",
       "            window._Plotly = Plotly;\n",
       "        });\n",
       "        }\n",
       "        </script>\n",
       "        "
      ]
     },
     "metadata": {},
     "output_type": "display_data"
    }
   ],
   "source": [
    "#importing textual pandas, numpy, as well as PyPDF, \n",
    "# which is a Pure-Python library built as a PDF toolkit.\n",
    "import string \n",
    "import PyPDF2 as p2\n",
    "import numpy as np \n",
    "import pickle\n",
    "import pandas as pd \n",
    "\n",
    "#Imports For Visuals\n",
    "import matplotlib\n",
    "import matplotlib.pyplot as plt\n",
    "#making our square treemap plot larger\n",
    "from matplotlib import rcParams\n",
    "rcParams['figure.figsize'] = 16, 9\n",
    "import seaborn as sns\n",
    "\n",
    "%matplotlib inline\n",
    "\n",
    "#plotly, squarify and cufflinks interactive chart imports\n",
    "\n",
    "from plotly import __version__\n",
    "from plotly.offline import download_plotlyjs, init_notebook_mode, plot, iplot\n",
    "import cufflinks as cf\n",
    "import plotly.express as px #another related library of plotly that makes it easy to draw multiple plots\n",
    "import squarify\n",
    "\n",
    "#we have to make sure this code is run for Jupyter Notebooks otherwise the plots may not happen offline:\n",
    "init_notebook_mode(connected=True)\n",
    "cf.go_offline()"
   ]
  },
  {
   "cell_type": "code",
   "execution_count": 5,
   "metadata": {},
   "outputs": [],
   "source": [
    "# Gensim - a Natural Language Processing package that does ‘Topic Modeling for Humans'\n",
    "import gensim, spacy, logging, warnings\n",
    "import gensim.corpora as corpora\n",
    "from gensim.utils import lemmatize, simple_preprocess\n",
    "from gensim.models import CoherenceModel"
   ]
  },
  {
   "cell_type": "code",
   "execution_count": 6,
   "metadata": {},
   "outputs": [],
   "source": [
    "# NLTK Stop words - imported and also extended\n",
    "import nltk  # for text manipulation \n",
    "from nltk.corpus import stopwords\n",
    "stop_words = stopwords.words('english')\n",
    "stop_words.extend(['from', 'subject', 're', 'edu', \n",
    "                   'use', 'not', 'would', 'say', 'could', '_', \n",
    "                   'be', 'know', 'good', 'go', 'get', 'do', 'done', \n",
    "                   'try', 'many', 'some', 'nice', 'thank', 'think', \n",
    "                   'see', 'rather', 'easy', 'easily', \n",
    "                   'lot', 'lack', 'make', 'want', \n",
    "                   'seem', 'run', 'need', 'even', \n",
    "                   'right', 'line', 'even', 'also', 'may', 'take', 'come'])"
   ]
  },
  {
   "cell_type": "markdown",
   "metadata": {},
   "source": [
    "in command line terminal, type `python -m spacy download en_core_web_md`"
   ]
  },
  {
   "cell_type": "code",
   "execution_count": 7,
   "metadata": {},
   "outputs": [],
   "source": [
    "import re    # for regular expressions \n",
    "import spacy # another text processing library like nltk\n",
    "import en_core_web_md \n",
    "\n",
    "#en core web md is from spacy. it's an English multi-task CNN trained on OntoNotes, \n",
    "#with GloVe vectors trained on Common Crawl. \n",
    "#Assigns word vectors, POS tags, dependency parse and named entities.\n",
    "#https://spacy.io/models/en#en_core_web_md\n",
    "\n",
    "nlp = en_core_web_md.load()"
   ]
  },
  {
   "cell_type": "markdown",
   "metadata": {},
   "source": [
    "## Reading in PDF Data then Converting to Pandas"
   ]
  },
  {
   "cell_type": "code",
   "execution_count": 8,
   "metadata": {},
   "outputs": [],
   "source": [
    "#have to pip install pdfminer3, these imports and this loop will convert \n",
    "#whatever pdf is passed in the filepath after \"open\" into text.\n",
    "#https://stackoverflow.com/questions/56494070/how-to-use-pdfminer-six-with-python-3"
   ]
  },
  {
   "cell_type": "code",
   "execution_count": 9,
   "metadata": {},
   "outputs": [
    {
     "name": "stdout",
     "output_type": "stream",
     "text": [
      "TRADEMARK AND DOMAIN NAME AGREEMENT \n",
      "\n",
      "This agreement (the “Agreement”) is by and between ____________________________ \n",
      "\n",
      " \n",
      " \n",
      "(“Party”) and Eclipse Foundation, Inc. (“Eclipse”) and is effective as of [______] [_____],  \n",
      "201[__] (the “Effective Date”). \n",
      " \n",
      "\n",
      "WHEREAS, Party is the owner of certain trademarks identified in Exhibit A (the \n",
      "\n",
      "“Trademarks”) and of certain domain names identified in Exhibit A (the “Domain Names”); \n",
      "\n",
      " \n",
      "WHEREAS, Party is desirous of Eclipse to initiate a project or working group with a \n",
      "\n",
      "name based on the Trademark (the “Project Initiation”); \n",
      "\n",
      " \n",
      "WHEREAS, to accommodate the Project Initiation, Party desires to transfer all of Party’s \n",
      "\n",
      "rights, title and interest in and to the Trademarks to Eclipse and to thereafter have certain \n",
      "continuing usage rights of the Trademarks; \n",
      "\n",
      " \n",
      "WHEREAS, to accommodate the Project Initiation, the Parties may mutually agree to \n",
      "have any related Domain Names initially redirect to a URL designated by Eclipse and that the \n",
      "Domain Names are subsequently transferred to Eclipse; \n",
      "\n",
      " \n",
      "In consideration of the foregoing and for other good and valuable consideration, the \n",
      "\n",
      "receipt and sufficiency of which is hereby acknowledged, the parties agree as follows: \n",
      "\n",
      " \n",
      "1. \n",
      "\n",
      "Trademark Assignment.  Party irrevocably assigns, grants and transfers to \n",
      "\n",
      "Eclipse, all of Party’s right, title, and interest in and to the Trademarks, including all common \n",
      "law rights, and any trademark registrations and applications, along with the goodwill of the \n",
      "business symbolized by use of the Trademarks, and the right to sue third parties for and recover \n",
      "damages from future infringement of the Trademarks, the same to be held and enjoyed by \n",
      "Eclipse for its own use and enjoyment and the use and enjoyment of its successors, assigns or \n",
      "other legal representatives, as fully and entirely as the same would have been held and enjoyed \n",
      "by Party if this assignment had not been made (the “Assignment”).   \n",
      "\n",
      "To the extent that Party is seeking to perfect the ownership of the Trademarks and \n",
      "\n",
      "Party’s ownership of the Trademarks has not been perfected by the Effective Date, Party agrees \n",
      "to promptly assign ownership of the Trademarks to Eclipse, in accordance with the terms of this \n",
      "Agreement, as soon as such ownership has been perfected.  Party further agrees to take all steps \n",
      "necessary to promptly expedite any perfection of their ownership in and to the Trademarks.   \n",
      "Party hereby authorizes the Commissioner of Patents and Trademarks of the United States, and \n",
      "any official of any other country empowered to issue trademark registrations, to record this \n",
      "Assignment, and to issue or transfer said Trademarks to Eclipse as owner of all right, title and \n",
      "interest therein, or otherwise as Eclipse may direct, in accordance with the terms of the \n",
      "Assignment. \n",
      "\n",
      "2. \n",
      "\n",
      "Trademark Usage.  Eclipse hereby confirms that Party shall have all applicable \n",
      "rights  to use the Trademarks in accordance with the then current version of the Guidelines for \n",
      "Eclipse Logo and Trademarks currently available at: \n",
      "\n",
      " \n",
      "\n",
      "Page 1 of 5 \n",
      "\n",
      "\f",
      "http://www.eclipse.org/legal/logo_guidelines.php, as may be amended from time to time  (the \n",
      "“Trademark Guidelines”).  \n",
      "\n",
      "3. \n",
      "\n",
      "Domain Names.  Upon the mutual agreement of the Parties, as of the date Eclipse \n",
      "\n",
      "formally approves the Project (the “Project Effective Date”), Party shall cause any related \n",
      "Domain Names (including all sub-domains and related URLs) to redirect directly to the URLs \n",
      "designated by Eclipse with no interstitial content.  Within ten (10) days of the Project Effective \n",
      "Date, Party shall transfer to Eclipse Party’s entire right, title and interest to the Domain Names.   \n",
      "\n",
      "4. \n",
      "\n",
      "Execution and Delivery.  Upon Eclipse’s request, Party agrees that it will take \n",
      "such actions and execute such documents (including, without limitation, the prompt execution \n",
      "and delivery of documents in recordable form or testifying as to any material fact or thing and \n",
      "including the transfer of any domain names through appropriate communications with domain \n",
      "name registrars) as may be necessary to vest in and secure unto Eclipse the full right, title and \n",
      "interest in and to the Trademarks and Domain Names and to protect and enforce the Trademarks. \n",
      "\n",
      "5. \n",
      "\n",
      "Representations and Warranties.  Party represents and warrants that Party has the \n",
      "full right to convey the entire right, title and interest herein assigned, and that Party will not take \n",
      "any action, use any trademark or domain name, or execute any instrument or grant or transfer \n",
      "any rights, title or interests inconsistent with the rights, title and interests assigned herein. \n",
      "\n",
      "6. \n",
      "\n",
      "Warranty Disclaimer.  PARTY MAKES NO WARRANTIES, EXPRESS OR \n",
      "\n",
      "IMPLIED, TO ANY PERSON OR ENTITY WITH RESPECT TO THE TRADEMARKS OR \n",
      "ANY RELATED MATERIALS PROVIDED HEREUNDER, ALL OF WHICH ARE \n",
      "PROVIDED \"AS IS,\" AND DISCLAIMS ALL IMPLIED WARRANTIES, INCLUDING \n",
      "WITHOUT LIMITATION WARRANTIES OF MERCHANTABILITY, FITNESS FOR A \n",
      "PARTICULAR PURPOSE, TITLE AND NONINFRINGEMENT. \n",
      "\n",
      "7. \n",
      "\n",
      "Limitation of Liability.  IN NO EVENT WILL EITHER PARTY BE LIABLE \n",
      "\n",
      "FOR ANY SPECIAL, INCIDENTAL OR CONSEQUENTIAL DAMAGES ARISING FROM \n",
      "OR RELATED TO THE USE OF THE TRADEMARKS, EVEN IF ADVISED OF THE \n",
      "POSSIBILITY OF SUCH DAMAGES.   \n",
      "\n",
      "8. \n",
      "\n",
      "Miscellaneous. \n",
      "\n",
      "a. \n",
      "\n",
      "b. \n",
      "\n",
      "c. \n",
      "\n",
      "Independent Contractors.  The parties hereto are independent contractors \n",
      "and are not partners, joint venturers or otherwise affiliated, and neither \n",
      "party has any right or authority to bind the other in any way. \n",
      "\n",
      "Assignment.  Eclipse may not assign this Agreement or any of its rights or \n",
      "obligations under this Agreement without the prior written consent of \n",
      "Party. \n",
      "\n",
      "Notices.  All notices, requests, demands and other communications \n",
      "required or permitted to be given under this Agreement shall be in writing \n",
      "and shall be deemed to have been duly given only if personally delivered, \n",
      "delivered by a major commercial rapid delivery courier service with \n",
      "tracking capabilities, costs prepaid, or mailed by certified or registered \n",
      "\n",
      " \n",
      "\n",
      "Page 2 of 5 \n",
      "\n",
      "\f",
      "If to Party: \n",
      " \n",
      " \n",
      "\n",
      " \n",
      " \n",
      "\n",
      "If to Eclipse: \n",
      " \n",
      " \n",
      " \n",
      "\n",
      " \n",
      " \n",
      " \n",
      "\n",
      " \n",
      "\n",
      " \n",
      "\n",
      "d. \n",
      "\n",
      "e. \n",
      "\n",
      "f. \n",
      "\n",
      "g. \n",
      "\n",
      "h. \n",
      "\n",
      "mail, return receipt requested, postage prepaid, to a party at the address set \n",
      "forth below or such other address as a party last provided to the other by \n",
      "written notice: \n",
      "\n",
      " \n",
      " \n",
      " \n",
      "\n",
      " \n",
      " \n",
      " \n",
      " \n",
      "\n",
      " \n",
      "\n",
      "___________________________ \n",
      "___________________________ \n",
      "___________________________ \n",
      "\n",
      "Eclipse Foundation, Inc. \n",
      "102 Centrepointe Drive \n",
      "Ottawa, Ontario \n",
      "Canada, K2G 6B1 \n",
      "\n",
      " \n",
      "\n",
      " \n",
      "\n",
      " \n",
      "\n",
      " \n",
      "\n",
      "Modification and Waiver.  The failure of either party to enforce its rights \n",
      "or to require performance by the other party of any term or condition of \n",
      "this Agreement shall not be construed as a waiver of such rights or of its \n",
      "right to require future performance of that term or condition.  Any \n",
      "amendment or modification of this Agreement or any waiver of any \n",
      "breach of any term or condition of this Agreement must be in a writing \n",
      "signed by both parties in order to be effective and shall not be construed as \n",
      "a waiver of any continuing or succeeding breach of such term or \n",
      "condition, a waiver of the term or condition itself or a waiver of any right \n",
      "under this Agreement. \n",
      "\n",
      "Governing Law.  This Agreement shall be governed and interpreted under \n",
      "the laws of the State of New York without regard to the conflicts of law \n",
      "provisions thereof. \n",
      "\n",
      "Headings.  Headings and captions are for convenience of reference only \n",
      "and shall not be deemed to interpret, supersede or modify any provisions \n",
      "of this Agreement. \n",
      "\n",
      "Severability.  In the event that any provision of this Agreement shall be \n",
      "determined by a court of competent jurisdiction to be illegal or \n",
      "unenforceable, that provision will be limited or eliminated to the minimum \n",
      "extent necessary so that this Agreement shall otherwise remain in full \n",
      "force and effect and enforceable. \n",
      "\n",
      "Entire Agreement.  Upon execution by both parties, this Agreement shall \n",
      "constitute the entire agreement between the parties with respect to the \n",
      "subject matter hereof and supersedes all discussions, negotiations, \n",
      "agreements and past dealings, either oral or written, between or among the \n",
      "parties relating to the subject matter hereof. \n",
      "\n",
      "Page 3 of 5 \n",
      "\n",
      " \n",
      " \n",
      " \n",
      " \n",
      " \n",
      " \n",
      " \n",
      " \n",
      " \n",
      " \n",
      " \n",
      " \n",
      "\n",
      " \n",
      "\n",
      "\f",
      "i. \n",
      "\n",
      "Non-Exclusive Remedies.  The rights and remedies of a party set forth \n",
      "herein are not exclusive, the exercise thereof shall not constitute an \n",
      "election of remedies and the aggrieved party shall in all events be entitled \n",
      "to seek whatever additional remedies may be available in law or in equity. \n",
      "\n",
      " \n",
      "Each party represents and warrants that it has full right, power and authority to enter into this \n",
      "Agreement and perform all of its obligations hereunder. \n",
      " \n",
      "IN WITNESS WHEREOF, the parties hereto have each caused this Agreement to be executed by \n",
      "their authorized representatives. \n",
      " \n",
      "COMPANY NAME:  ____________________  \n",
      " \n",
      "Dated: _________________________ \n",
      " \n",
      "                                                                                       Name: __________________________ \n",
      " \n",
      "                                                                                         Title: __________________________ \n",
      " \n",
      " \n",
      "ECLIPSE FOUNDATION, INC. \n",
      " \n",
      "Dated: __________________________ \n",
      " \n",
      "                                                                                        Name: __________________________ \n",
      " \n",
      "                                                                                          Title: __________________________ \n",
      " \n",
      "\n",
      " Signature: __________________________ \n",
      "\n",
      " Signature: __________________________ \n",
      "\n",
      " \n",
      "\n",
      " \n",
      "\n",
      " \n",
      "\n",
      " \n",
      "\n",
      " \n",
      "\n",
      "Page 4 of 5 \n",
      "\n",
      "\f",
      "Exhibit A \n",
      "\n",
      "1. \n",
      "\n",
      "Trademarks: \n",
      "\n",
      "Registered \n",
      "\n",
      "Mark \n",
      "\n",
      "Serial No. \n",
      "\n",
      "Filing Date \n",
      "\n",
      "Reg. No. \n",
      "\n",
      "Jurisdiction \n",
      "of \n",
      "Registration \n",
      "\n",
      "Reg. Date. \n",
      "\n",
      " \n",
      " \n",
      " \n",
      " \n",
      " \n",
      " \n",
      "\n",
      " \n",
      " \n",
      " \n",
      " \n",
      " \n",
      " \n",
      "\n",
      " \n",
      " \n",
      " \n",
      " \n",
      " \n",
      " \n",
      "\n",
      " \n",
      " \n",
      " \n",
      " \n",
      " \n",
      " \n",
      "\n",
      " \n",
      " \n",
      " \n",
      " \n",
      " \n",
      " \n",
      "\n",
      " \n",
      " \n",
      " \n",
      " \n",
      " \n",
      " \n",
      "\n",
      " \n",
      "\n",
      "Unregistered \n",
      "\n",
      "[List all trademarks] \n",
      "\n",
      " \n",
      "\n",
      " \n",
      "\n",
      " \n",
      "\n",
      " \n",
      "\n",
      " \n",
      "\n",
      "2. \n",
      "\n",
      "Domain Names: \n",
      "\n",
      "[List Domain Names to be transferred (if any)] \n",
      "\n",
      " \n",
      "\n",
      " \n",
      " \n",
      " \n",
      " \n",
      " \n",
      " \n",
      " \n",
      "\n",
      " \n",
      "\n",
      "Page 5 of 5 \n",
      "\n",
      "\f",
      "\n"
     ]
    }
   ],
   "source": [
    "from pdfminer3.layout import LAParams, LTTextBox\n",
    "from pdfminer3.pdfpage import PDFPage\n",
    "from pdfminer3.pdfinterp import PDFResourceManager\n",
    "from pdfminer3.pdfinterp import PDFPageInterpreter\n",
    "from pdfminer3.converter import PDFPageAggregator\n",
    "from pdfminer3.converter import TextConverter\n",
    "import io\n",
    "\n",
    "resource_manager = PDFResourceManager()\n",
    "fake_file_handle = io.StringIO()\n",
    "converter = TextConverter(resource_manager, fake_file_handle, laparams=LAParams())\n",
    "page_interpreter = PDFPageInterpreter(resource_manager, converter)\n",
    "\n",
    "with open('../data/contract_sample.pdf', 'rb') as fh:\n",
    "\n",
    "    for page in PDFPage.get_pages(fh,\n",
    "                                  caching=True,\n",
    "                                  check_extractable=True):\n",
    "        page_interpreter.process_page(page)\n",
    "\n",
    "    text = fake_file_handle.getvalue()\n",
    "\n",
    "# close open handles\n",
    "converter.close()\n",
    "fake_file_handle.close()\n",
    "\n",
    "print(text)"
   ]
  },
  {
   "cell_type": "code",
   "execution_count": 10,
   "metadata": {},
   "outputs": [
    {
     "data": {
      "text/plain": [
       "str"
      ]
     },
     "execution_count": 10,
     "metadata": {},
     "output_type": "execute_result"
    }
   ],
   "source": [
    "type(text)\n",
    "\n",
    "#we just created one gigantic string"
   ]
  },
  {
   "cell_type": "code",
   "execution_count": 13,
   "metadata": {},
   "outputs": [],
   "source": [
    "#read the text as a list\n",
    "\n",
    "text_list = text.split(\"delimiter\")"
   ]
  },
  {
   "cell_type": "code",
   "execution_count": 14,
   "metadata": {
    "scrolled": false
   },
   "outputs": [
    {
     "data": {
      "text/plain": [
       "['TRADEMARK AND DOMAIN NAME AGREEMENT \\n\\nThis agreement (the “Agreement”) is by and between ____________________________ \\n\\n \\n \\n(“Party”) and Eclipse Foundation, Inc. (“Eclipse”) and is effective as of [______] [_____],  \\n201[__] (the “Effective Date”). \\n \\n\\nWHEREAS, Party is the owner of certain trademarks identified in Exhibit A (the \\n\\n“Trademarks”) and of certain domain names identified in Exhibit A (the “Domain Names”); \\n\\n \\nWHEREAS, Party is desirous of Eclipse to initiate a project or working group with a \\n\\nname based on the Trademark (the “Project Initiation”); \\n\\n \\nWHEREAS, to accommodate the Project Initiation, Party desires to transfer all of Party’s \\n\\nrights, title and interest in and to the Trademarks to Eclipse and to thereafter have certain \\ncontinuing usage rights of the Trademarks; \\n\\n \\nWHEREAS, to accommodate the Project Initiation, the Parties may mutually agree to \\nhave any related Domain Names initially redirect to a URL designated by Eclipse and that the \\nDomain Names are subsequently transferred to Eclipse; \\n\\n \\nIn consideration of the foregoing and for other good and valuable consideration, the \\n\\nreceipt and sufficiency of which is hereby acknowledged, the parties agree as follows: \\n\\n \\n1. \\n\\nTrademark Assignment.  Party irrevocably assigns, grants and transfers to \\n\\nEclipse, all of Party’s right, title, and interest in and to the Trademarks, including all common \\nlaw rights, and any trademark registrations and applications, along with the goodwill of the \\nbusiness symbolized by use of the Trademarks, and the right to sue third parties for and recover \\ndamages from future infringement of the Trademarks, the same to be held and enjoyed by \\nEclipse for its own use and enjoyment and the use and enjoyment of its successors, assigns or \\nother legal representatives, as fully and entirely as the same would have been held and enjoyed \\nby Party if this assignment had not been made (the “Assignment”).   \\n\\nTo the extent that Party is seeking to perfect the ownership of the Trademarks and \\n\\nParty’s ownership of the Trademarks has not been perfected by the Effective Date, Party agrees \\nto promptly assign ownership of the Trademarks to Eclipse, in accordance with the terms of this \\nAgreement, as soon as such ownership has been perfected.  Party further agrees to take all steps \\nnecessary to promptly expedite any perfection of their ownership in and to the Trademarks.   \\nParty hereby authorizes the Commissioner of Patents and Trademarks of the United States, and \\nany official of any other country empowered to issue trademark registrations, to record this \\nAssignment, and to issue or transfer said Trademarks to Eclipse as owner of all right, title and \\ninterest therein, or otherwise as Eclipse may direct, in accordance with the terms of the \\nAssignment. \\n\\n2. \\n\\nTrademark Usage.  Eclipse hereby confirms that Party shall have all applicable \\nrights  to use the Trademarks in accordance with the then current version of the Guidelines for \\nEclipse Logo and Trademarks currently available at: \\n\\n \\n\\nPage 1 of 5 \\n\\n\\x0chttp://www.eclipse.org/legal/logo_guidelines.php, as may be amended from time to time  (the \\n“Trademark Guidelines”).  \\n\\n3. \\n\\nDomain Names.  Upon the mutual agreement of the Parties, as of the date Eclipse \\n\\nformally approves the Project (the “Project Effective Date”), Party shall cause any related \\nDomain Names (including all sub-domains and related URLs) to redirect directly to the URLs \\ndesignated by Eclipse with no interstitial content.  Within ten (10) days of the Project Effective \\nDate, Party shall transfer to Eclipse Party’s entire right, title and interest to the Domain Names.   \\n\\n4. \\n\\nExecution and Delivery.  Upon Eclipse’s request, Party agrees that it will take \\nsuch actions and execute such documents (including, without limitation, the prompt execution \\nand delivery of documents in recordable form or testifying as to any material fact or thing and \\nincluding the transfer of any domain names through appropriate communications with domain \\nname registrars) as may be necessary to vest in and secure unto Eclipse the full right, title and \\ninterest in and to the Trademarks and Domain Names and to protect and enforce the Trademarks. \\n\\n5. \\n\\nRepresentations and Warranties.  Party represents and warrants that Party has the \\nfull right to convey the entire right, title and interest herein assigned, and that Party will not take \\nany action, use any trademark or domain name, or execute any instrument or grant or transfer \\nany rights, title or interests inconsistent with the rights, title and interests assigned herein. \\n\\n6. \\n\\nWarranty Disclaimer.  PARTY MAKES NO WARRANTIES, EXPRESS OR \\n\\nIMPLIED, TO ANY PERSON OR ENTITY WITH RESPECT TO THE TRADEMARKS OR \\nANY RELATED MATERIALS PROVIDED HEREUNDER, ALL OF WHICH ARE \\nPROVIDED \"AS IS,\" AND DISCLAIMS ALL IMPLIED WARRANTIES, INCLUDING \\nWITHOUT LIMITATION WARRANTIES OF MERCHANTABILITY, FITNESS FOR A \\nPARTICULAR PURPOSE, TITLE AND NONINFRINGEMENT. \\n\\n7. \\n\\nLimitation of Liability.  IN NO EVENT WILL EITHER PARTY BE LIABLE \\n\\nFOR ANY SPECIAL, INCIDENTAL OR CONSEQUENTIAL DAMAGES ARISING FROM \\nOR RELATED TO THE USE OF THE TRADEMARKS, EVEN IF ADVISED OF THE \\nPOSSIBILITY OF SUCH DAMAGES.   \\n\\n8. \\n\\nMiscellaneous. \\n\\na. \\n\\nb. \\n\\nc. \\n\\nIndependent Contractors.  The parties hereto are independent contractors \\nand are not partners, joint venturers or otherwise affiliated, and neither \\nparty has any right or authority to bind the other in any way. \\n\\nAssignment.  Eclipse may not assign this Agreement or any of its rights or \\nobligations under this Agreement without the prior written consent of \\nParty. \\n\\nNotices.  All notices, requests, demands and other communications \\nrequired or permitted to be given under this Agreement shall be in writing \\nand shall be deemed to have been duly given only if personally delivered, \\ndelivered by a major commercial rapid delivery courier service with \\ntracking capabilities, costs prepaid, or mailed by certified or registered \\n\\n \\n\\nPage 2 of 5 \\n\\n\\x0cIf to Party: \\n \\n \\n\\n \\n \\n\\nIf to Eclipse: \\n \\n \\n \\n\\n \\n \\n \\n\\n \\n\\n \\n\\nd. \\n\\ne. \\n\\nf. \\n\\ng. \\n\\nh. \\n\\nmail, return receipt requested, postage prepaid, to a party at the address set \\nforth below or such other address as a party last provided to the other by \\nwritten notice: \\n\\n \\n \\n \\n\\n \\n \\n \\n \\n\\n \\n\\n___________________________ \\n___________________________ \\n___________________________ \\n\\nEclipse Foundation, Inc. \\n102 Centrepointe Drive \\nOttawa, Ontario \\nCanada, K2G 6B1 \\n\\n \\n\\n \\n\\n \\n\\n \\n\\nModification and Waiver.  The failure of either party to enforce its rights \\nor to require performance by the other party of any term or condition of \\nthis Agreement shall not be construed as a waiver of such rights or of its \\nright to require future performance of that term or condition.  Any \\namendment or modification of this Agreement or any waiver of any \\nbreach of any term or condition of this Agreement must be in a writing \\nsigned by both parties in order to be effective and shall not be construed as \\na waiver of any continuing or succeeding breach of such term or \\ncondition, a waiver of the term or condition itself or a waiver of any right \\nunder this Agreement. \\n\\nGoverning Law.  This Agreement shall be governed and interpreted under \\nthe laws of the State of New York without regard to the conflicts of law \\nprovisions thereof. \\n\\nHeadings.  Headings and captions are for convenience of reference only \\nand shall not be deemed to interpret, supersede or modify any provisions \\nof this Agreement. \\n\\nSeverability.  In the event that any provision of this Agreement shall be \\ndetermined by a court of competent jurisdiction to be illegal or \\nunenforceable, that provision will be limited or eliminated to the minimum \\nextent necessary so that this Agreement shall otherwise remain in full \\nforce and effect and enforceable. \\n\\nEntire Agreement.  Upon execution by both parties, this Agreement shall \\nconstitute the entire agreement between the parties with respect to the \\nsubject matter hereof and supersedes all discussions, negotiations, \\nagreements and past dealings, either oral or written, between or among the \\nparties relating to the subject matter hereof. \\n\\nPage 3 of 5 \\n\\n \\n \\n \\n \\n \\n \\n \\n \\n \\n \\n \\n \\n\\n \\n\\n\\x0ci. \\n\\nNon-Exclusive Remedies.  The rights and remedies of a party set forth \\nherein are not exclusive, the exercise thereof shall not constitute an \\nelection of remedies and the aggrieved party shall in all events be entitled \\nto seek whatever additional remedies may be available in law or in equity. \\n\\n \\nEach party represents and warrants that it has full right, power and authority to enter into this \\nAgreement and perform all of its obligations hereunder. \\n \\nIN WITNESS WHEREOF, the parties hereto have each caused this Agreement to be executed by \\ntheir authorized representatives. \\n \\nCOMPANY NAME:  ____________________  \\n \\nDated: _________________________ \\n \\n                                                                                       Name: __________________________ \\n \\n                                                                                         Title: __________________________ \\n \\n \\nECLIPSE FOUNDATION, INC. \\n \\nDated: __________________________ \\n \\n                                                                                        Name: __________________________ \\n \\n                                                                                          Title: __________________________ \\n \\n\\n Signature: __________________________ \\n\\n Signature: __________________________ \\n\\n \\n\\n \\n\\n \\n\\n \\n\\n \\n\\nPage 4 of 5 \\n\\n\\x0cExhibit A \\n\\n1. \\n\\nTrademarks: \\n\\nRegistered \\n\\nMark \\n\\nSerial No. \\n\\nFiling Date \\n\\nReg. No. \\n\\nJurisdiction \\nof \\nRegistration \\n\\nReg. Date. \\n\\n \\n \\n \\n \\n \\n \\n\\n \\n \\n \\n \\n \\n \\n\\n \\n \\n \\n \\n \\n \\n\\n \\n \\n \\n \\n \\n \\n\\n \\n \\n \\n \\n \\n \\n\\n \\n \\n \\n \\n \\n \\n\\n \\n\\nUnregistered \\n\\n[List all trademarks] \\n\\n \\n\\n \\n\\n \\n\\n \\n\\n \\n\\n2. \\n\\nDomain Names: \\n\\n[List Domain Names to be transferred (if any)] \\n\\n \\n\\n \\n \\n \\n \\n \\n \\n \\n\\n \\n\\nPage 5 of 5 \\n\\n\\x0c']"
      ]
     },
     "execution_count": 14,
     "metadata": {},
     "output_type": "execute_result"
    }
   ],
   "source": [
    "text_list"
   ]
  },
  {
   "cell_type": "markdown",
   "metadata": {},
   "source": [
    "The list is full of unwanted textual elements like line breaks, quotation marks, and underscores. All this will be removed in further down."
   ]
  },
  {
   "cell_type": "code",
   "execution_count": 15,
   "metadata": {
    "scrolled": true
   },
   "outputs": [],
   "source": [
    "#let's convert this into a DataFrame for now.\n",
    "text_frame = pd.DataFrame(text_list, columns=[\"contract_text\"])"
   ]
  },
  {
   "cell_type": "code",
   "execution_count": 16,
   "metadata": {},
   "outputs": [],
   "source": [
    "#we're gonna have to read a lot of words in columns, so let's expand the column width:\n",
    "pd.set_option(\"display.max_colwidth\", 1000)\n"
   ]
  },
  {
   "cell_type": "code",
   "execution_count": 17,
   "metadata": {},
   "outputs": [
    {
     "data": {
      "text/html": [
       "<div>\n",
       "<style scoped>\n",
       "    .dataframe tbody tr th:only-of-type {\n",
       "        vertical-align: middle;\n",
       "    }\n",
       "\n",
       "    .dataframe tbody tr th {\n",
       "        vertical-align: top;\n",
       "    }\n",
       "\n",
       "    .dataframe thead th {\n",
       "        text-align: right;\n",
       "    }\n",
       "</style>\n",
       "<table border=\"1\" class=\"dataframe\">\n",
       "  <thead>\n",
       "    <tr style=\"text-align: right;\">\n",
       "      <th></th>\n",
       "      <th>contract_text</th>\n",
       "    </tr>\n",
       "  </thead>\n",
       "  <tbody>\n",
       "    <tr>\n",
       "      <th>0</th>\n",
       "      <td>TRADEMARK AND DOMAIN NAME AGREEMENT \\n\\nThis agreement (the “Agreement”) is by and between ____________________________ \\n\\n \\n \\n(“Party”) and Eclipse Foundation, Inc. (“Eclipse”) and is effective as of [______] [_____],  \\n201[__] (the “Effective Date”). \\n \\n\\nWHEREAS, Party is the owner of certain trademarks identified in Exhibit A (the \\n\\n“Trademarks”) and of certain domain names identified in Exhibit A (the “Domain Names”); \\n\\n \\nWHEREAS, Party is desirous of Eclipse to initiate a project or working group with a \\n\\nname based on the Trademark (the “Project Initiation”); \\n\\n \\nWHEREAS, to accommodate the Project Initiation, Party desires to transfer all of Party’s \\n\\nrights, title and interest in and to the Trademarks to Eclipse and to thereafter have certain \\ncontinuing usage rights of the Trademarks; \\n\\n \\nWHEREAS, to accommodate the Project Initiation, the Parties may mutually agree to \\nhave any related Domain Names initially redirect to a URL designated by Eclipse ...</td>\n",
       "    </tr>\n",
       "  </tbody>\n",
       "</table>\n",
       "</div>"
      ],
      "text/plain": [
       "                                                                                                                                                                                                                                                                                                                                                                                                                                                                                                                                                                                                                                                                                                                                                                                                                                                                                                                                                                                                                             contract_text\n",
       "0  TRADEMARK AND DOMAIN NAME AGREEMENT \\n\\nThis agreement (the “Agreement”) is by and between ____________________________ \\n\\n \\n \\n(“Party”) and Eclipse Foundation, Inc. (“Eclipse”) and is effective as of [______] [_____],  \\n201[__] (the “Effective Date”). \\n \\n\\nWHEREAS, Party is the owner of certain trademarks identified in Exhibit A (the \\n\\n“Trademarks”) and of certain domain names identified in Exhibit A (the “Domain Names”); \\n\\n \\nWHEREAS, Party is desirous of Eclipse to initiate a project or working group with a \\n\\nname based on the Trademark (the “Project Initiation”); \\n\\n \\nWHEREAS, to accommodate the Project Initiation, Party desires to transfer all of Party’s \\n\\nrights, title and interest in and to the Trademarks to Eclipse and to thereafter have certain \\ncontinuing usage rights of the Trademarks; \\n\\n \\nWHEREAS, to accommodate the Project Initiation, the Parties may mutually agree to \\nhave any related Domain Names initially redirect to a URL designated by Eclipse ..."
      ]
     },
     "execution_count": 17,
     "metadata": {},
     "output_type": "execute_result"
    }
   ],
   "source": [
    "df = text_frame\n",
    "\n",
    "df"
   ]
  },
  {
   "cell_type": "markdown",
   "metadata": {},
   "source": [
    "# Cleaning and Pre-Processing\n",
    "\n",
    "We will need to convert the text into a \"bag of words\" i.e. unique words in a text represented by a number. To facilitate this we must first pre-process by \n",
    "\n",
    "    1. getting rid of punctuation and non-words using RegEx, \n",
    "    2. lowercasing everything, \n",
    "    3. removing \"stop words\" i.e. conjunctive/article type words with no substantial meaning for content, \n",
    "    4. lemmatizing e.g. contracting words like run/ran/runs into run, and\n",
    "    5. removing other odd punctuation like underscores and apostrophes"
   ]
  },
  {
   "cell_type": "code",
   "execution_count": 18,
   "metadata": {},
   "outputs": [],
   "source": [
    "#this requires new imports for our custom function:\n",
    "\n",
    "from nltk.stem import WordNetLemmatizer\n",
    "from nltk.tokenize import RegexpTokenizer\n",
    "from nltk.corpus import stopwords\n",
    "\n",
    "import regex as re"
   ]
  },
  {
   "cell_type": "code",
   "execution_count": 19,
   "metadata": {},
   "outputs": [],
   "source": [
    "#instantiate the lemmatizer\n",
    "\n",
    "lemmatizer = WordNetLemmatizer()"
   ]
  },
  {
   "cell_type": "code",
   "execution_count": 20,
   "metadata": {},
   "outputs": [],
   "source": [
    "#adapted from GA tutorial:\n",
    "\n",
    "def word_cleaner(mess):\n",
    "    \n",
    "    #removing non-letters including spaces\n",
    "    just_letters = re.sub(\"[^a-zA-Z]\", \" \", mess)\n",
    "    \n",
    "    #lower-casing\n",
    "    small_caps = just_letters.lower().split()\n",
    "    \n",
    "    #assign stopwords into a set and then removing those from target text\n",
    "    stops = set(stopwords.words('english'))\n",
    "    important_words = [string for string in small_caps if not string in stops]\n",
    "    \n",
    "    #lemmatize the important words \n",
    "    lem_words_only = [lemmatizer.lemmatize(word) for word in important_words]\n",
    "\n",
    "    #get rid of all the quotation marks\n",
    "    clean_stage1=[i.replace('\\xe2\\x80\\x9c','') for i in lem_words_only]\n",
    "    clean2=[i.replace('\\xe2\\x80\\x9d','') for i in clean_stage1 ]\n",
    "    clean3=[i.replace('\\xe2\\x80\\x99s','') for i in clean2 ]\n",
    "    \n",
    "    #rejoin all the words into a string separated by a space\n",
    "    return(\" \".join(clean3))"
   ]
  },
  {
   "cell_type": "code",
   "execution_count": 21,
   "metadata": {},
   "outputs": [
    {
     "data": {
      "text/plain": [
       "0    trademark domain name agreement agreement agreement party eclipse foundation inc eclipse effective effective date whereas party owner certain trademark identified exhibit trademark certain domain name identified exhibit domain name whereas party desirous eclipse initiate project working group name based trademark project initiation whereas accommodate project initiation party desire transfer party right title interest trademark eclipse thereafter certain continuing usage right trademark whereas accommodate project initiation party may mutually agree related domain name initially redirect url designated eclipse domain name subsequently transferred eclipse consideration foregoing good valuable consideration receipt sufficiency hereby acknowledged party agree follows trademark assignment party irrevocably assigns grant transfer eclipse party right title interest trademark including common law right trademark registration application along goodwill business symbolized use trademark rig...\n",
       "Name: contract_text, dtype: object"
      ]
     },
     "execution_count": 21,
     "metadata": {},
     "output_type": "execute_result"
    }
   ],
   "source": [
    "#using .apply to run the function across the whole selftext column\n",
    "\n",
    "df[\"contract_text\"].apply(word_cleaner)"
   ]
  },
  {
   "cell_type": "code",
   "execution_count": 22,
   "metadata": {},
   "outputs": [],
   "source": [
    "#creating a new, cleaned column to put into our dataframe\n",
    "\n",
    "df['cleaned_text']=df['contract_text'].apply(word_cleaner)"
   ]
  },
  {
   "cell_type": "code",
   "execution_count": 23,
   "metadata": {},
   "outputs": [
    {
     "data": {
      "text/html": [
       "<div>\n",
       "<style scoped>\n",
       "    .dataframe tbody tr th:only-of-type {\n",
       "        vertical-align: middle;\n",
       "    }\n",
       "\n",
       "    .dataframe tbody tr th {\n",
       "        vertical-align: top;\n",
       "    }\n",
       "\n",
       "    .dataframe thead th {\n",
       "        text-align: right;\n",
       "    }\n",
       "</style>\n",
       "<table border=\"1\" class=\"dataframe\">\n",
       "  <thead>\n",
       "    <tr style=\"text-align: right;\">\n",
       "      <th></th>\n",
       "      <th>contract_text</th>\n",
       "      <th>cleaned_text</th>\n",
       "    </tr>\n",
       "  </thead>\n",
       "  <tbody>\n",
       "    <tr>\n",
       "      <th>0</th>\n",
       "      <td>TRADEMARK AND DOMAIN NAME AGREEMENT \\n\\nThis agreement (the “Agreement”) is by and between ____________________________ \\n\\n \\n \\n(“Party”) and Eclipse Foundation, Inc. (“Eclipse”) and is effective as of [______] [_____],  \\n201[__] (the “Effective Date”). \\n \\n\\nWHEREAS, Party is the owner of certain trademarks identified in Exhibit A (the \\n\\n“Trademarks”) and of certain domain names identified in Exhibit A (the “Domain Names”); \\n\\n \\nWHEREAS, Party is desirous of Eclipse to initiate a project or working group with a \\n\\nname based on the Trademark (the “Project Initiation”); \\n\\n \\nWHEREAS, to accommodate the Project Initiation, Party desires to transfer all of Party’s \\n\\nrights, title and interest in and to the Trademarks to Eclipse and to thereafter have certain \\ncontinuing usage rights of the Trademarks; \\n\\n \\nWHEREAS, to accommodate the Project Initiation, the Parties may mutually agree to \\nhave any related Domain Names initially redirect to a URL designated by Eclipse ...</td>\n",
       "      <td>trademark domain name agreement agreement agreement party eclipse foundation inc eclipse effective effective date whereas party owner certain trademark identified exhibit trademark certain domain name identified exhibit domain name whereas party desirous eclipse initiate project working group name based trademark project initiation whereas accommodate project initiation party desire transfer party right title interest trademark eclipse thereafter certain continuing usage right trademark whereas accommodate project initiation party may mutually agree related domain name initially redirect url designated eclipse domain name subsequently transferred eclipse consideration foregoing good valuable consideration receipt sufficiency hereby acknowledged party agree follows trademark assignment party irrevocably assigns grant transfer eclipse party right title interest trademark including common law right trademark registration application along goodwill business symbolized use trademark rig...</td>\n",
       "    </tr>\n",
       "  </tbody>\n",
       "</table>\n",
       "</div>"
      ],
      "text/plain": [
       "                                                                                                                                                                                                                                                                                                                                                                                                                                                                                                                                                                                                                                                                                                                                                                                                                                                                                                                                                                                                                             contract_text  \\\n",
       "0  TRADEMARK AND DOMAIN NAME AGREEMENT \\n\\nThis agreement (the “Agreement”) is by and between ____________________________ \\n\\n \\n \\n(“Party”) and Eclipse Foundation, Inc. (“Eclipse”) and is effective as of [______] [_____],  \\n201[__] (the “Effective Date”). \\n \\n\\nWHEREAS, Party is the owner of certain trademarks identified in Exhibit A (the \\n\\n“Trademarks”) and of certain domain names identified in Exhibit A (the “Domain Names”); \\n\\n \\nWHEREAS, Party is desirous of Eclipse to initiate a project or working group with a \\n\\nname based on the Trademark (the “Project Initiation”); \\n\\n \\nWHEREAS, to accommodate the Project Initiation, Party desires to transfer all of Party’s \\n\\nrights, title and interest in and to the Trademarks to Eclipse and to thereafter have certain \\ncontinuing usage rights of the Trademarks; \\n\\n \\nWHEREAS, to accommodate the Project Initiation, the Parties may mutually agree to \\nhave any related Domain Names initially redirect to a URL designated by Eclipse ...   \n",
       "\n",
       "                                                                                                                                                                                                                                                                                                                                                                                                                                                                                                                                                                                                                                                                                                                                                                                                                                                                                                                                                                                                                              cleaned_text  \n",
       "0  trademark domain name agreement agreement agreement party eclipse foundation inc eclipse effective effective date whereas party owner certain trademark identified exhibit trademark certain domain name identified exhibit domain name whereas party desirous eclipse initiate project working group name based trademark project initiation whereas accommodate project initiation party desire transfer party right title interest trademark eclipse thereafter certain continuing usage right trademark whereas accommodate project initiation party may mutually agree related domain name initially redirect url designated eclipse domain name subsequently transferred eclipse consideration foregoing good valuable consideration receipt sufficiency hereby acknowledged party agree follows trademark assignment party irrevocably assigns grant transfer eclipse party right title interest trademark including common law right trademark registration application along goodwill business symbolized use trademark rig...  "
      ]
     },
     "execution_count": 23,
     "metadata": {},
     "output_type": "execute_result"
    }
   ],
   "source": [
    "#comparing our cleaned vs messy columns to see what the change looks like\n",
    "df"
   ]
  },
  {
   "cell_type": "code",
   "execution_count": 24,
   "metadata": {},
   "outputs": [],
   "source": [
    "#backing up this dataframe in case things go horribly wrong in Word Vectorization\n",
    "\n",
    "df.to_csv(\"../data/df.csv\", index=False)"
   ]
  },
  {
   "cell_type": "markdown",
   "metadata": {},
   "source": [
    "## Initial Text EDA and Visualization"
   ]
  },
  {
   "cell_type": "code",
   "execution_count": 25,
   "metadata": {},
   "outputs": [],
   "source": [
    "#import the vectorizer,\n",
    "\n",
    "from sklearn.feature_extraction.text import CountVectorizer\n",
    "import scipy.sparse as sp\n",
    "\n",
    "#intialize it and assign as vectorizer \n",
    "vectorizer = CountVectorizer(ngram_range=(1,2))"
   ]
  },
  {
   "cell_type": "code",
   "execution_count": 26,
   "metadata": {},
   "outputs": [],
   "source": [
    "#top words assigned to object\n",
    "cleaned_text = df[\"cleaned_text\"]"
   ]
  },
  {
   "cell_type": "code",
   "execution_count": 27,
   "metadata": {},
   "outputs": [],
   "source": [
    "#turn a series into vectors and then plot the distribution of the top 25 words\n",
    "def vector_barplotter(series, graph_title, x_label):\n",
    "    vectorized_series = vectorizer.fit(series)\n",
    "    series_df = pd.DataFrame(vectorizer.transform(series).todense(),\n",
    "                              columns=vectorizer.get_feature_names())\n",
    "    #we slice the top 25 words \n",
    "    top_25_words=series_df.sum().sort_values(ascending = False).head(25)\n",
    "    \n",
    "    #we plot this on a plotly bar chart by frequency of words.\n",
    "    fig = px.bar(top_25_words, orientation='v', title = graph_title, \n",
    "             labels={\"index\":x_label})\n",
    "    fig.show()"
   ]
  },
  {
   "cell_type": "code",
   "execution_count": 28,
   "metadata": {},
   "outputs": [
    {
     "data": {
      "application/vnd.plotly.v1+json": {
       "config": {
        "plotlyServerURL": "https://plot.ly"
       },
       "data": [
        {
         "alignmentgroup": "True",
         "hovertemplate": "variable=0<br>words=%{x}<br>value=%{y}<extra></extra>",
         "legendgroup": "0",
         "marker": {
          "color": "#636efa"
         },
         "name": "0",
         "offsetgroup": "0",
         "orientation": "v",
         "showlegend": true,
         "textposition": "auto",
         "type": "bar",
         "x": [
          "party",
          "trademark",
          "eclipse",
          "agreement",
          "right",
          "name",
          "domain",
          "shall",
          "domain name",
          "title",
          "interest",
          "right title",
          "title interest",
          "project",
          "term",
          "date",
          "effective",
          "use",
          "waiver",
          "transfer",
          "assignment",
          "may",
          "agreement shall",
          "including",
          "page"
         ],
         "xaxis": "x",
         "y": [
          43,
          29,
          23,
          22,
          21,
          18,
          15,
          14,
          14,
          11,
          8,
          8,
          8,
          7,
          7,
          7,
          6,
          6,
          6,
          6,
          6,
          6,
          6,
          5,
          5
         ],
         "yaxis": "y"
        }
       ],
       "layout": {
        "barmode": "relative",
        "legend": {
         "title": {
          "text": "variable"
         },
         "tracegroupgap": 0
        },
        "template": {
         "data": {
          "bar": [
           {
            "error_x": {
             "color": "#2a3f5f"
            },
            "error_y": {
             "color": "#2a3f5f"
            },
            "marker": {
             "line": {
              "color": "#E5ECF6",
              "width": 0.5
             }
            },
            "type": "bar"
           }
          ],
          "barpolar": [
           {
            "marker": {
             "line": {
              "color": "#E5ECF6",
              "width": 0.5
             }
            },
            "type": "barpolar"
           }
          ],
          "carpet": [
           {
            "aaxis": {
             "endlinecolor": "#2a3f5f",
             "gridcolor": "white",
             "linecolor": "white",
             "minorgridcolor": "white",
             "startlinecolor": "#2a3f5f"
            },
            "baxis": {
             "endlinecolor": "#2a3f5f",
             "gridcolor": "white",
             "linecolor": "white",
             "minorgridcolor": "white",
             "startlinecolor": "#2a3f5f"
            },
            "type": "carpet"
           }
          ],
          "choropleth": [
           {
            "colorbar": {
             "outlinewidth": 0,
             "ticks": ""
            },
            "type": "choropleth"
           }
          ],
          "contour": [
           {
            "colorbar": {
             "outlinewidth": 0,
             "ticks": ""
            },
            "colorscale": [
             [
              0,
              "#0d0887"
             ],
             [
              0.1111111111111111,
              "#46039f"
             ],
             [
              0.2222222222222222,
              "#7201a8"
             ],
             [
              0.3333333333333333,
              "#9c179e"
             ],
             [
              0.4444444444444444,
              "#bd3786"
             ],
             [
              0.5555555555555556,
              "#d8576b"
             ],
             [
              0.6666666666666666,
              "#ed7953"
             ],
             [
              0.7777777777777778,
              "#fb9f3a"
             ],
             [
              0.8888888888888888,
              "#fdca26"
             ],
             [
              1,
              "#f0f921"
             ]
            ],
            "type": "contour"
           }
          ],
          "contourcarpet": [
           {
            "colorbar": {
             "outlinewidth": 0,
             "ticks": ""
            },
            "type": "contourcarpet"
           }
          ],
          "heatmap": [
           {
            "colorbar": {
             "outlinewidth": 0,
             "ticks": ""
            },
            "colorscale": [
             [
              0,
              "#0d0887"
             ],
             [
              0.1111111111111111,
              "#46039f"
             ],
             [
              0.2222222222222222,
              "#7201a8"
             ],
             [
              0.3333333333333333,
              "#9c179e"
             ],
             [
              0.4444444444444444,
              "#bd3786"
             ],
             [
              0.5555555555555556,
              "#d8576b"
             ],
             [
              0.6666666666666666,
              "#ed7953"
             ],
             [
              0.7777777777777778,
              "#fb9f3a"
             ],
             [
              0.8888888888888888,
              "#fdca26"
             ],
             [
              1,
              "#f0f921"
             ]
            ],
            "type": "heatmap"
           }
          ],
          "heatmapgl": [
           {
            "colorbar": {
             "outlinewidth": 0,
             "ticks": ""
            },
            "colorscale": [
             [
              0,
              "#0d0887"
             ],
             [
              0.1111111111111111,
              "#46039f"
             ],
             [
              0.2222222222222222,
              "#7201a8"
             ],
             [
              0.3333333333333333,
              "#9c179e"
             ],
             [
              0.4444444444444444,
              "#bd3786"
             ],
             [
              0.5555555555555556,
              "#d8576b"
             ],
             [
              0.6666666666666666,
              "#ed7953"
             ],
             [
              0.7777777777777778,
              "#fb9f3a"
             ],
             [
              0.8888888888888888,
              "#fdca26"
             ],
             [
              1,
              "#f0f921"
             ]
            ],
            "type": "heatmapgl"
           }
          ],
          "histogram": [
           {
            "marker": {
             "colorbar": {
              "outlinewidth": 0,
              "ticks": ""
             }
            },
            "type": "histogram"
           }
          ],
          "histogram2d": [
           {
            "colorbar": {
             "outlinewidth": 0,
             "ticks": ""
            },
            "colorscale": [
             [
              0,
              "#0d0887"
             ],
             [
              0.1111111111111111,
              "#46039f"
             ],
             [
              0.2222222222222222,
              "#7201a8"
             ],
             [
              0.3333333333333333,
              "#9c179e"
             ],
             [
              0.4444444444444444,
              "#bd3786"
             ],
             [
              0.5555555555555556,
              "#d8576b"
             ],
             [
              0.6666666666666666,
              "#ed7953"
             ],
             [
              0.7777777777777778,
              "#fb9f3a"
             ],
             [
              0.8888888888888888,
              "#fdca26"
             ],
             [
              1,
              "#f0f921"
             ]
            ],
            "type": "histogram2d"
           }
          ],
          "histogram2dcontour": [
           {
            "colorbar": {
             "outlinewidth": 0,
             "ticks": ""
            },
            "colorscale": [
             [
              0,
              "#0d0887"
             ],
             [
              0.1111111111111111,
              "#46039f"
             ],
             [
              0.2222222222222222,
              "#7201a8"
             ],
             [
              0.3333333333333333,
              "#9c179e"
             ],
             [
              0.4444444444444444,
              "#bd3786"
             ],
             [
              0.5555555555555556,
              "#d8576b"
             ],
             [
              0.6666666666666666,
              "#ed7953"
             ],
             [
              0.7777777777777778,
              "#fb9f3a"
             ],
             [
              0.8888888888888888,
              "#fdca26"
             ],
             [
              1,
              "#f0f921"
             ]
            ],
            "type": "histogram2dcontour"
           }
          ],
          "mesh3d": [
           {
            "colorbar": {
             "outlinewidth": 0,
             "ticks": ""
            },
            "type": "mesh3d"
           }
          ],
          "parcoords": [
           {
            "line": {
             "colorbar": {
              "outlinewidth": 0,
              "ticks": ""
             }
            },
            "type": "parcoords"
           }
          ],
          "pie": [
           {
            "automargin": true,
            "type": "pie"
           }
          ],
          "scatter": [
           {
            "marker": {
             "colorbar": {
              "outlinewidth": 0,
              "ticks": ""
             }
            },
            "type": "scatter"
           }
          ],
          "scatter3d": [
           {
            "line": {
             "colorbar": {
              "outlinewidth": 0,
              "ticks": ""
             }
            },
            "marker": {
             "colorbar": {
              "outlinewidth": 0,
              "ticks": ""
             }
            },
            "type": "scatter3d"
           }
          ],
          "scattercarpet": [
           {
            "marker": {
             "colorbar": {
              "outlinewidth": 0,
              "ticks": ""
             }
            },
            "type": "scattercarpet"
           }
          ],
          "scattergeo": [
           {
            "marker": {
             "colorbar": {
              "outlinewidth": 0,
              "ticks": ""
             }
            },
            "type": "scattergeo"
           }
          ],
          "scattergl": [
           {
            "marker": {
             "colorbar": {
              "outlinewidth": 0,
              "ticks": ""
             }
            },
            "type": "scattergl"
           }
          ],
          "scattermapbox": [
           {
            "marker": {
             "colorbar": {
              "outlinewidth": 0,
              "ticks": ""
             }
            },
            "type": "scattermapbox"
           }
          ],
          "scatterpolar": [
           {
            "marker": {
             "colorbar": {
              "outlinewidth": 0,
              "ticks": ""
             }
            },
            "type": "scatterpolar"
           }
          ],
          "scatterpolargl": [
           {
            "marker": {
             "colorbar": {
              "outlinewidth": 0,
              "ticks": ""
             }
            },
            "type": "scatterpolargl"
           }
          ],
          "scatterternary": [
           {
            "marker": {
             "colorbar": {
              "outlinewidth": 0,
              "ticks": ""
             }
            },
            "type": "scatterternary"
           }
          ],
          "surface": [
           {
            "colorbar": {
             "outlinewidth": 0,
             "ticks": ""
            },
            "colorscale": [
             [
              0,
              "#0d0887"
             ],
             [
              0.1111111111111111,
              "#46039f"
             ],
             [
              0.2222222222222222,
              "#7201a8"
             ],
             [
              0.3333333333333333,
              "#9c179e"
             ],
             [
              0.4444444444444444,
              "#bd3786"
             ],
             [
              0.5555555555555556,
              "#d8576b"
             ],
             [
              0.6666666666666666,
              "#ed7953"
             ],
             [
              0.7777777777777778,
              "#fb9f3a"
             ],
             [
              0.8888888888888888,
              "#fdca26"
             ],
             [
              1,
              "#f0f921"
             ]
            ],
            "type": "surface"
           }
          ],
          "table": [
           {
            "cells": {
             "fill": {
              "color": "#EBF0F8"
             },
             "line": {
              "color": "white"
             }
            },
            "header": {
             "fill": {
              "color": "#C8D4E3"
             },
             "line": {
              "color": "white"
             }
            },
            "type": "table"
           }
          ]
         },
         "layout": {
          "annotationdefaults": {
           "arrowcolor": "#2a3f5f",
           "arrowhead": 0,
           "arrowwidth": 1
          },
          "coloraxis": {
           "colorbar": {
            "outlinewidth": 0,
            "ticks": ""
           }
          },
          "colorscale": {
           "diverging": [
            [
             0,
             "#8e0152"
            ],
            [
             0.1,
             "#c51b7d"
            ],
            [
             0.2,
             "#de77ae"
            ],
            [
             0.3,
             "#f1b6da"
            ],
            [
             0.4,
             "#fde0ef"
            ],
            [
             0.5,
             "#f7f7f7"
            ],
            [
             0.6,
             "#e6f5d0"
            ],
            [
             0.7,
             "#b8e186"
            ],
            [
             0.8,
             "#7fbc41"
            ],
            [
             0.9,
             "#4d9221"
            ],
            [
             1,
             "#276419"
            ]
           ],
           "sequential": [
            [
             0,
             "#0d0887"
            ],
            [
             0.1111111111111111,
             "#46039f"
            ],
            [
             0.2222222222222222,
             "#7201a8"
            ],
            [
             0.3333333333333333,
             "#9c179e"
            ],
            [
             0.4444444444444444,
             "#bd3786"
            ],
            [
             0.5555555555555556,
             "#d8576b"
            ],
            [
             0.6666666666666666,
             "#ed7953"
            ],
            [
             0.7777777777777778,
             "#fb9f3a"
            ],
            [
             0.8888888888888888,
             "#fdca26"
            ],
            [
             1,
             "#f0f921"
            ]
           ],
           "sequentialminus": [
            [
             0,
             "#0d0887"
            ],
            [
             0.1111111111111111,
             "#46039f"
            ],
            [
             0.2222222222222222,
             "#7201a8"
            ],
            [
             0.3333333333333333,
             "#9c179e"
            ],
            [
             0.4444444444444444,
             "#bd3786"
            ],
            [
             0.5555555555555556,
             "#d8576b"
            ],
            [
             0.6666666666666666,
             "#ed7953"
            ],
            [
             0.7777777777777778,
             "#fb9f3a"
            ],
            [
             0.8888888888888888,
             "#fdca26"
            ],
            [
             1,
             "#f0f921"
            ]
           ]
          },
          "colorway": [
           "#636efa",
           "#EF553B",
           "#00cc96",
           "#ab63fa",
           "#FFA15A",
           "#19d3f3",
           "#FF6692",
           "#B6E880",
           "#FF97FF",
           "#FECB52"
          ],
          "font": {
           "color": "#2a3f5f"
          },
          "geo": {
           "bgcolor": "white",
           "lakecolor": "white",
           "landcolor": "#E5ECF6",
           "showlakes": true,
           "showland": true,
           "subunitcolor": "white"
          },
          "hoverlabel": {
           "align": "left"
          },
          "hovermode": "closest",
          "mapbox": {
           "style": "light"
          },
          "paper_bgcolor": "white",
          "plot_bgcolor": "#E5ECF6",
          "polar": {
           "angularaxis": {
            "gridcolor": "white",
            "linecolor": "white",
            "ticks": ""
           },
           "bgcolor": "#E5ECF6",
           "radialaxis": {
            "gridcolor": "white",
            "linecolor": "white",
            "ticks": ""
           }
          },
          "scene": {
           "xaxis": {
            "backgroundcolor": "#E5ECF6",
            "gridcolor": "white",
            "gridwidth": 2,
            "linecolor": "white",
            "showbackground": true,
            "ticks": "",
            "zerolinecolor": "white"
           },
           "yaxis": {
            "backgroundcolor": "#E5ECF6",
            "gridcolor": "white",
            "gridwidth": 2,
            "linecolor": "white",
            "showbackground": true,
            "ticks": "",
            "zerolinecolor": "white"
           },
           "zaxis": {
            "backgroundcolor": "#E5ECF6",
            "gridcolor": "white",
            "gridwidth": 2,
            "linecolor": "white",
            "showbackground": true,
            "ticks": "",
            "zerolinecolor": "white"
           }
          },
          "shapedefaults": {
           "line": {
            "color": "#2a3f5f"
           }
          },
          "ternary": {
           "aaxis": {
            "gridcolor": "white",
            "linecolor": "white",
            "ticks": ""
           },
           "baxis": {
            "gridcolor": "white",
            "linecolor": "white",
            "ticks": ""
           },
           "bgcolor": "#E5ECF6",
           "caxis": {
            "gridcolor": "white",
            "linecolor": "white",
            "ticks": ""
           }
          },
          "title": {
           "x": 0.05
          },
          "xaxis": {
           "automargin": true,
           "gridcolor": "white",
           "linecolor": "white",
           "ticks": "",
           "title": {
            "standoff": 15
           },
           "zerolinecolor": "white",
           "zerolinewidth": 2
          },
          "yaxis": {
           "automargin": true,
           "gridcolor": "white",
           "linecolor": "white",
           "ticks": "",
           "title": {
            "standoff": 15
           },
           "zerolinecolor": "white",
           "zerolinewidth": 2
          }
         }
        },
        "title": {
         "text": "Top Words & Bigrams in Sample Contract"
        },
        "xaxis": {
         "anchor": "y",
         "domain": [
          0,
          1
         ],
         "title": {
          "text": "words"
         }
        },
        "yaxis": {
         "anchor": "x",
         "domain": [
          0,
          1
         ],
         "title": {
          "text": "value"
         }
        }
       }
      },
      "text/html": [
       "<div>\n",
       "        \n",
       "        \n",
       "            <div id=\"a8d94f89-29cb-42cd-8d33-755013f6949b\" class=\"plotly-graph-div\" style=\"height:525px; width:100%;\"></div>\n",
       "            <script type=\"text/javascript\">\n",
       "                require([\"plotly\"], function(Plotly) {\n",
       "                    window.PLOTLYENV=window.PLOTLYENV || {};\n",
       "                    \n",
       "                if (document.getElementById(\"a8d94f89-29cb-42cd-8d33-755013f6949b\")) {\n",
       "                    Plotly.newPlot(\n",
       "                        'a8d94f89-29cb-42cd-8d33-755013f6949b',\n",
       "                        [{\"alignmentgroup\": \"True\", \"hovertemplate\": \"variable=0<br>words=%{x}<br>value=%{y}<extra></extra>\", \"legendgroup\": \"0\", \"marker\": {\"color\": \"#636efa\"}, \"name\": \"0\", \"offsetgroup\": \"0\", \"orientation\": \"v\", \"showlegend\": true, \"textposition\": \"auto\", \"type\": \"bar\", \"x\": [\"party\", \"trademark\", \"eclipse\", \"agreement\", \"right\", \"name\", \"domain\", \"shall\", \"domain name\", \"title\", \"interest\", \"right title\", \"title interest\", \"project\", \"term\", \"date\", \"effective\", \"use\", \"waiver\", \"transfer\", \"assignment\", \"may\", \"agreement shall\", \"including\", \"page\"], \"xaxis\": \"x\", \"y\": [43, 29, 23, 22, 21, 18, 15, 14, 14, 11, 8, 8, 8, 7, 7, 7, 6, 6, 6, 6, 6, 6, 6, 5, 5], \"yaxis\": \"y\"}],\n",
       "                        {\"barmode\": \"relative\", \"legend\": {\"title\": {\"text\": \"variable\"}, \"tracegroupgap\": 0}, \"template\": {\"data\": {\"bar\": [{\"error_x\": {\"color\": \"#2a3f5f\"}, \"error_y\": {\"color\": \"#2a3f5f\"}, \"marker\": {\"line\": {\"color\": \"#E5ECF6\", \"width\": 0.5}}, \"type\": \"bar\"}], \"barpolar\": [{\"marker\": {\"line\": {\"color\": \"#E5ECF6\", \"width\": 0.5}}, \"type\": \"barpolar\"}], \"carpet\": [{\"aaxis\": {\"endlinecolor\": \"#2a3f5f\", \"gridcolor\": \"white\", \"linecolor\": \"white\", \"minorgridcolor\": \"white\", \"startlinecolor\": \"#2a3f5f\"}, \"baxis\": {\"endlinecolor\": \"#2a3f5f\", \"gridcolor\": \"white\", \"linecolor\": \"white\", \"minorgridcolor\": \"white\", \"startlinecolor\": \"#2a3f5f\"}, \"type\": \"carpet\"}], \"choropleth\": [{\"colorbar\": {\"outlinewidth\": 0, \"ticks\": \"\"}, \"type\": \"choropleth\"}], \"contour\": [{\"colorbar\": {\"outlinewidth\": 0, \"ticks\": \"\"}, \"colorscale\": [[0.0, \"#0d0887\"], [0.1111111111111111, \"#46039f\"], [0.2222222222222222, \"#7201a8\"], [0.3333333333333333, \"#9c179e\"], [0.4444444444444444, \"#bd3786\"], [0.5555555555555556, \"#d8576b\"], [0.6666666666666666, \"#ed7953\"], [0.7777777777777778, \"#fb9f3a\"], [0.8888888888888888, \"#fdca26\"], [1.0, \"#f0f921\"]], \"type\": \"contour\"}], \"contourcarpet\": [{\"colorbar\": {\"outlinewidth\": 0, \"ticks\": \"\"}, \"type\": \"contourcarpet\"}], \"heatmap\": [{\"colorbar\": {\"outlinewidth\": 0, \"ticks\": \"\"}, \"colorscale\": [[0.0, \"#0d0887\"], [0.1111111111111111, \"#46039f\"], [0.2222222222222222, \"#7201a8\"], [0.3333333333333333, \"#9c179e\"], [0.4444444444444444, \"#bd3786\"], [0.5555555555555556, \"#d8576b\"], [0.6666666666666666, \"#ed7953\"], [0.7777777777777778, \"#fb9f3a\"], [0.8888888888888888, \"#fdca26\"], [1.0, \"#f0f921\"]], \"type\": \"heatmap\"}], \"heatmapgl\": [{\"colorbar\": {\"outlinewidth\": 0, \"ticks\": \"\"}, \"colorscale\": [[0.0, \"#0d0887\"], [0.1111111111111111, \"#46039f\"], [0.2222222222222222, \"#7201a8\"], [0.3333333333333333, \"#9c179e\"], [0.4444444444444444, \"#bd3786\"], [0.5555555555555556, \"#d8576b\"], [0.6666666666666666, \"#ed7953\"], [0.7777777777777778, \"#fb9f3a\"], [0.8888888888888888, \"#fdca26\"], [1.0, \"#f0f921\"]], \"type\": \"heatmapgl\"}], \"histogram\": [{\"marker\": {\"colorbar\": {\"outlinewidth\": 0, \"ticks\": \"\"}}, \"type\": \"histogram\"}], \"histogram2d\": [{\"colorbar\": {\"outlinewidth\": 0, \"ticks\": \"\"}, \"colorscale\": [[0.0, \"#0d0887\"], [0.1111111111111111, \"#46039f\"], [0.2222222222222222, \"#7201a8\"], [0.3333333333333333, \"#9c179e\"], [0.4444444444444444, \"#bd3786\"], [0.5555555555555556, \"#d8576b\"], [0.6666666666666666, \"#ed7953\"], [0.7777777777777778, \"#fb9f3a\"], [0.8888888888888888, \"#fdca26\"], [1.0, \"#f0f921\"]], \"type\": \"histogram2d\"}], \"histogram2dcontour\": [{\"colorbar\": {\"outlinewidth\": 0, \"ticks\": \"\"}, \"colorscale\": [[0.0, \"#0d0887\"], [0.1111111111111111, \"#46039f\"], [0.2222222222222222, \"#7201a8\"], [0.3333333333333333, \"#9c179e\"], [0.4444444444444444, \"#bd3786\"], [0.5555555555555556, \"#d8576b\"], [0.6666666666666666, \"#ed7953\"], [0.7777777777777778, \"#fb9f3a\"], [0.8888888888888888, \"#fdca26\"], [1.0, \"#f0f921\"]], \"type\": \"histogram2dcontour\"}], \"mesh3d\": [{\"colorbar\": {\"outlinewidth\": 0, \"ticks\": \"\"}, \"type\": \"mesh3d\"}], \"parcoords\": [{\"line\": {\"colorbar\": {\"outlinewidth\": 0, \"ticks\": \"\"}}, \"type\": \"parcoords\"}], \"pie\": [{\"automargin\": true, \"type\": \"pie\"}], \"scatter\": [{\"marker\": {\"colorbar\": {\"outlinewidth\": 0, \"ticks\": \"\"}}, \"type\": \"scatter\"}], \"scatter3d\": [{\"line\": {\"colorbar\": {\"outlinewidth\": 0, \"ticks\": \"\"}}, \"marker\": {\"colorbar\": {\"outlinewidth\": 0, \"ticks\": \"\"}}, \"type\": \"scatter3d\"}], \"scattercarpet\": [{\"marker\": {\"colorbar\": {\"outlinewidth\": 0, \"ticks\": \"\"}}, \"type\": \"scattercarpet\"}], \"scattergeo\": [{\"marker\": {\"colorbar\": {\"outlinewidth\": 0, \"ticks\": \"\"}}, \"type\": \"scattergeo\"}], \"scattergl\": [{\"marker\": {\"colorbar\": {\"outlinewidth\": 0, \"ticks\": \"\"}}, \"type\": \"scattergl\"}], \"scattermapbox\": [{\"marker\": {\"colorbar\": {\"outlinewidth\": 0, \"ticks\": \"\"}}, \"type\": \"scattermapbox\"}], \"scatterpolar\": [{\"marker\": {\"colorbar\": {\"outlinewidth\": 0, \"ticks\": \"\"}}, \"type\": \"scatterpolar\"}], \"scatterpolargl\": [{\"marker\": {\"colorbar\": {\"outlinewidth\": 0, \"ticks\": \"\"}}, \"type\": \"scatterpolargl\"}], \"scatterternary\": [{\"marker\": {\"colorbar\": {\"outlinewidth\": 0, \"ticks\": \"\"}}, \"type\": \"scatterternary\"}], \"surface\": [{\"colorbar\": {\"outlinewidth\": 0, \"ticks\": \"\"}, \"colorscale\": [[0.0, \"#0d0887\"], [0.1111111111111111, \"#46039f\"], [0.2222222222222222, \"#7201a8\"], [0.3333333333333333, \"#9c179e\"], [0.4444444444444444, \"#bd3786\"], [0.5555555555555556, \"#d8576b\"], [0.6666666666666666, \"#ed7953\"], [0.7777777777777778, \"#fb9f3a\"], [0.8888888888888888, \"#fdca26\"], [1.0, \"#f0f921\"]], \"type\": \"surface\"}], \"table\": [{\"cells\": {\"fill\": {\"color\": \"#EBF0F8\"}, \"line\": {\"color\": \"white\"}}, \"header\": {\"fill\": {\"color\": \"#C8D4E3\"}, \"line\": {\"color\": \"white\"}}, \"type\": \"table\"}]}, \"layout\": {\"annotationdefaults\": {\"arrowcolor\": \"#2a3f5f\", \"arrowhead\": 0, \"arrowwidth\": 1}, \"coloraxis\": {\"colorbar\": {\"outlinewidth\": 0, \"ticks\": \"\"}}, \"colorscale\": {\"diverging\": [[0, \"#8e0152\"], [0.1, \"#c51b7d\"], [0.2, \"#de77ae\"], [0.3, \"#f1b6da\"], [0.4, \"#fde0ef\"], [0.5, \"#f7f7f7\"], [0.6, \"#e6f5d0\"], [0.7, \"#b8e186\"], [0.8, \"#7fbc41\"], [0.9, \"#4d9221\"], [1, \"#276419\"]], \"sequential\": [[0.0, \"#0d0887\"], [0.1111111111111111, \"#46039f\"], [0.2222222222222222, \"#7201a8\"], [0.3333333333333333, \"#9c179e\"], [0.4444444444444444, \"#bd3786\"], [0.5555555555555556, \"#d8576b\"], [0.6666666666666666, \"#ed7953\"], [0.7777777777777778, \"#fb9f3a\"], [0.8888888888888888, \"#fdca26\"], [1.0, \"#f0f921\"]], \"sequentialminus\": [[0.0, \"#0d0887\"], [0.1111111111111111, \"#46039f\"], [0.2222222222222222, \"#7201a8\"], [0.3333333333333333, \"#9c179e\"], [0.4444444444444444, \"#bd3786\"], [0.5555555555555556, \"#d8576b\"], [0.6666666666666666, \"#ed7953\"], [0.7777777777777778, \"#fb9f3a\"], [0.8888888888888888, \"#fdca26\"], [1.0, \"#f0f921\"]]}, \"colorway\": [\"#636efa\", \"#EF553B\", \"#00cc96\", \"#ab63fa\", \"#FFA15A\", \"#19d3f3\", \"#FF6692\", \"#B6E880\", \"#FF97FF\", \"#FECB52\"], \"font\": {\"color\": \"#2a3f5f\"}, \"geo\": {\"bgcolor\": \"white\", \"lakecolor\": \"white\", \"landcolor\": \"#E5ECF6\", \"showlakes\": true, \"showland\": true, \"subunitcolor\": \"white\"}, \"hoverlabel\": {\"align\": \"left\"}, \"hovermode\": \"closest\", \"mapbox\": {\"style\": \"light\"}, \"paper_bgcolor\": \"white\", \"plot_bgcolor\": \"#E5ECF6\", \"polar\": {\"angularaxis\": {\"gridcolor\": \"white\", \"linecolor\": \"white\", \"ticks\": \"\"}, \"bgcolor\": \"#E5ECF6\", \"radialaxis\": {\"gridcolor\": \"white\", \"linecolor\": \"white\", \"ticks\": \"\"}}, \"scene\": {\"xaxis\": {\"backgroundcolor\": \"#E5ECF6\", \"gridcolor\": \"white\", \"gridwidth\": 2, \"linecolor\": \"white\", \"showbackground\": true, \"ticks\": \"\", \"zerolinecolor\": \"white\"}, \"yaxis\": {\"backgroundcolor\": \"#E5ECF6\", \"gridcolor\": \"white\", \"gridwidth\": 2, \"linecolor\": \"white\", \"showbackground\": true, \"ticks\": \"\", \"zerolinecolor\": \"white\"}, \"zaxis\": {\"backgroundcolor\": \"#E5ECF6\", \"gridcolor\": \"white\", \"gridwidth\": 2, \"linecolor\": \"white\", \"showbackground\": true, \"ticks\": \"\", \"zerolinecolor\": \"white\"}}, \"shapedefaults\": {\"line\": {\"color\": \"#2a3f5f\"}}, \"ternary\": {\"aaxis\": {\"gridcolor\": \"white\", \"linecolor\": \"white\", \"ticks\": \"\"}, \"baxis\": {\"gridcolor\": \"white\", \"linecolor\": \"white\", \"ticks\": \"\"}, \"bgcolor\": \"#E5ECF6\", \"caxis\": {\"gridcolor\": \"white\", \"linecolor\": \"white\", \"ticks\": \"\"}}, \"title\": {\"x\": 0.05}, \"xaxis\": {\"automargin\": true, \"gridcolor\": \"white\", \"linecolor\": \"white\", \"ticks\": \"\", \"title\": {\"standoff\": 15}, \"zerolinecolor\": \"white\", \"zerolinewidth\": 2}, \"yaxis\": {\"automargin\": true, \"gridcolor\": \"white\", \"linecolor\": \"white\", \"ticks\": \"\", \"title\": {\"standoff\": 15}, \"zerolinecolor\": \"white\", \"zerolinewidth\": 2}}}, \"title\": {\"text\": \"Top Words & Bigrams in Sample Contract\"}, \"xaxis\": {\"anchor\": \"y\", \"domain\": [0.0, 1.0], \"title\": {\"text\": \"words\"}}, \"yaxis\": {\"anchor\": \"x\", \"domain\": [0.0, 1.0], \"title\": {\"text\": \"value\"}}},\n",
       "                        {\"responsive\": true}\n",
       "                    ).then(function(){\n",
       "                            \n",
       "var gd = document.getElementById('a8d94f89-29cb-42cd-8d33-755013f6949b');\n",
       "var x = new MutationObserver(function (mutations, observer) {{\n",
       "        var display = window.getComputedStyle(gd).display;\n",
       "        if (!display || display === 'none') {{\n",
       "            console.log([gd, 'removed!']);\n",
       "            Plotly.purge(gd);\n",
       "            observer.disconnect();\n",
       "        }}\n",
       "}});\n",
       "\n",
       "// Listen for the removal of the full notebook cells\n",
       "var notebookContainer = gd.closest('#notebook-container');\n",
       "if (notebookContainer) {{\n",
       "    x.observe(notebookContainer, {childList: true});\n",
       "}}\n",
       "\n",
       "// Listen for the clearing of the current output cell\n",
       "var outputEl = gd.closest('.output');\n",
       "if (outputEl) {{\n",
       "    x.observe(outputEl, {childList: true});\n",
       "}}\n",
       "\n",
       "                        })\n",
       "                };\n",
       "                });\n",
       "            </script>\n",
       "        </div>"
      ]
     },
     "metadata": {},
     "output_type": "display_data"
    }
   ],
   "source": [
    "vector_barplotter(cleaned_text, \"Top Words & Bigrams in Sample Contract\", \"words\")"
   ]
  },
  {
   "cell_type": "code",
   "execution_count": 42,
   "metadata": {},
   "outputs": [],
   "source": [
    "#to plot a square word treemap, I have to modify our datascience word array into a special dataframe; \n",
    "#Adapted from https://python-graph-gallery.com/200-basic-treemap-with-python/\n",
    "#We plot a square treemap of word frequencies, as an alternative to word clouds\n",
    "#to save time I turned this into a function too.\n",
    "\n",
    "def vector_treemap_plotter(series, title):\n",
    "    vectorized_series = vectorizer.fit(series)\n",
    "    series_df = pd.DataFrame(vectorizer.transform(series).todense(),\n",
    "                              columns=vectorizer.get_feature_names())\n",
    "    #we slice the top 25 words and turn that into a squarify-friendly dataframe\n",
    "    top_25_words=series_df.sum().sort_values(ascending = False).head(25)\n",
    "    top_25_words_df = pd.DataFrame(top_25_words)\n",
    "    top_25_words_df.columns = [\"count\"]\n",
    "    top_25_words_df[\"word\"]=top_25_words_df.index\n",
    "    top_25_words_df = top_25_words_df.reset_index(drop=True)\n",
    "    \n",
    "    count = top_25_words_df[\"count\"]\n",
    "    word = top_25_words_df[\"word\"]\n",
    "    \n",
    "    #I then create a hybrid heatmap and treemap\n",
    "    #it is like a word cloud, but it looks cleaner.\n",
    "    #frequent words are deeper blues with bigger squares.\n",
    "\n",
    "    cmap = matplotlib.cm.Blues\n",
    "    mini=min(count)\n",
    "    maxi=max(count)\n",
    "    norm = matplotlib.colors.Normalize(vmin=mini, vmax=maxi)\n",
    "    colors = [cmap(norm(value)) for value in count]\n",
    "\n",
    "    squarify.plot(sizes=count, norm_x=100, norm_y=100, label=word, \n",
    "                  color=colors,alpha=.9 )\n",
    "\n",
    "    print(title)\n",
    "    \n",
    "    plt.axis('off')\n",
    "    plt.show()"
   ]
  },
  {
   "cell_type": "code",
   "execution_count": 43,
   "metadata": {},
   "outputs": [
    {
     "name": "stdout",
     "output_type": "stream",
     "text": [
      "Top 25 Words in Contract\n"
     ]
    },
    {
     "data": {
      "image/png": "[encoded data removed]",
      "text/plain": [
       "<Figure size 432x288 with 1 Axes>"
      ]
     },
     "metadata": {
      "needs_background": "light"
     },
     "output_type": "display_data"
    }
   ],
   "source": [
    "vector_treemap_plotter(cleaned_text, \"Top 25 Words in Contract\")"
   ]
  },
  {
   "cell_type": "markdown",
   "metadata": {},
   "source": [
    "### Initial EDA Explanation"
   ]
  },
  {
   "cell_type": "markdown",
   "metadata": {},
   "source": [
    "Thanks to pdf miner, we were able to convert our single pdf file into a gigantic string. As is expected, however, that conversion wasn't perfect - there were lots of unwanted characters, spaces, quotation marks etc. These had to be cleaned out and processed using `WordVectorizer` in order to get our bag of words that we could bring out into intial visualizations. \n",
    "\n",
    "Our initial EDA of this sample contract tells us that the top few words relate to \"party\", \"trademark\", \"eclipse\" and \"agreement\". \n",
    "\n",
    "\"Party\" and \"agreement\" aren't very special in a contract as they simply refer to the contract itself and the people who are the parties to it. However, drawing from my own subject expertise in law, the following words have special legal meanings:\n",
    "\n",
    "**Trademark**: The second highest word count at 29 counts indicates that the agreement has to do with a trademark agreement. In a trademark licence agreement, the proprietor (Licensor) of a registered trademark gives authorization to another company (Licensee) to manufacture and distribute products under this trademark: https://www.globalnegotiator.com/international-trade/dictionary/trademark-license-agreement/#:~:text=Trade%20Tradem%20Tradeo-,Trademark%20license%20agreement,distribute%20products%20under%20this%20trademark.\n",
    "\n",
    "**Domain Name** and **Eclipse** : That trademark agreement centers around the company's domain name \"Eclipse\".\n",
    "\n",
    "**Title Interest**: This refers to the title and interest a.k.a the legal rights to use the \"Domain Name\", which is being assigned."
   ]
  },
  {
   "cell_type": "markdown",
   "metadata": {},
   "source": [
    "### What This Means for Modelling\n",
    "The intrinsically technical nature of contracts makes it easy to bring out keywords, which in turn should ideally help us to boost the accuracy of topic modelling. We have only run this clean on sample contract, however.\n",
    "\n",
    "Although I have a corpus of ~1000+ contracts at about nearly **800MB**, I haven't yet figured out how to write a for loop that does all of the above actions - including the pdf into dataframe row conversion - into one gigantic dataframe for the entire corpus. That will require further research, but for now we can see that the preliminary potential of topic modelling around contracts will work.\n",
    "\n",
    "The somewhat large dataset may mean that I may be best served running the eventual giant clean and convert to the cloud or a hybrid of the cloud and on-premise computing. "
   ]
  },
  {
   "cell_type": "code",
   "execution_count": null,
   "metadata": {},
   "outputs": [],
   "source": []
  }
 ],
 "metadata": {
  "kernelspec": {
   "display_name": "Python 3",
   "language": "python",
   "name": "python3"
  },
  "language_info": {
   "codemirror_mode": {
    "name": "ipython",
    "version": 3
   },
   "file_extension": ".py",
   "mimetype": "text/x-python",
   "name": "python",
   "nbconvert_exporter": "python",
   "pygments_lexer": "ipython3",
   "version": "3.7.6"
  }
 },
 "nbformat": 4,
 "nbformat_minor": 2
}

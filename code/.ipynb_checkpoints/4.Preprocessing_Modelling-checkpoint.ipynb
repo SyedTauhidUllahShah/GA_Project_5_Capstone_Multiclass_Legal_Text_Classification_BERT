{
 "cells": [
  {
   "cell_type": "markdown",
   "metadata": {},
   "source": [
    "# 4. Text Preprocessing and Modelling with scikit-learn"
   ]
  },
  {
   "cell_type": "markdown",
   "metadata": {},
   "source": [
    "In this notebook, we will use conventional `scikit-learn` models to conduct multi-class predictive labelling of our 10 different contract clauses. We'll also talk about some of the special considerations that have to be undertaken in the case of a classifying 10 labels."
   ]
  },
  {
   "cell_type": "markdown",
   "metadata": {},
   "source": [
    "**Please also type in the following command line/terminal installations**:\n",
    "\n",
    "* `brew install libomp` \n",
    "* `pip install xgboost`\n",
    "* `pip install plotly`\n",
    "\n",
    "\n",
    "**For Interactive Visualizations for Jupyter Notebooks:**\n",
    "* `pip install \"notebook>=5.3\" \"ipywidgets>=7.2\"`\n",
    "\n",
    "**For Interactive Visualizations for Jupyter Labs:**\n",
    "* Install node @ https://nodejs.org/en/, then in command line/terminal:\n",
    "* `pip install jupyterlab \"ipywidgets>=7.5\"`\n",
    "* `jupyter labextension install jupyterlab-plotly@4.8.2`\n",
    "\n",
    "Source: https://plotly.com/python/getting-started/?utm_source=mailchimp-jan-2015&utm_medium=email&utm_campaign=generalemail-jan2015&utm_term=bubble-chart\n",
    "\n",
    "**For sklearn multiclass and spaCy NLP:**\n",
    "* `pip install scikit-multilearn`\n",
    "* `pip install -U spacy`\n",
    "* `python -m spacy download en_core_web_sm`"
   ]
  },
  {
   "cell_type": "code",
   "execution_count": 26,
   "metadata": {},
   "outputs": [],
   "source": [
    "#usual imports for sklearn modelling \n",
    "import numpy as np\n",
    "import pandas as pd\n",
    "import matplotlib.pyplot as plt\n",
    "import seaborn as sns\n",
    "\n",
    "from sklearn.model_selection import GridSearchCV\n",
    "from sklearn.model_selection import train_test_split\n",
    "from sklearn.pipeline import Pipeline\n",
    "from sklearn.preprocessing import RobustScaler\n",
    "from sklearn.model_selection import cross_val_score\n",
    "\n",
    "#for multilabel classification and oversampling\n",
    "from skmultilearn.problem_transform import BinaryRelevance\n",
    "from sklearn.multiclass import OneVsRestClassifier\n",
    "from imblearn.over_sampling import SMOTE\n",
    "from sklearn.preprocessing import label_binarize\n",
    "\n",
    "#for PCA - Dimensionality Reduction\n",
    "from sklearn.decomposition import TruncatedSVD\n",
    "\n",
    "#for word vectorization\n",
    "from sklearn.feature_extraction.text import TfidfTransformer, CountVectorizer, TfidfVectorizer\n",
    "\n",
    "#our dummy baseline\n",
    "from sklearn.dummy import DummyClassifier\n",
    "\n",
    "#advanced supervised classification models\n",
    "from sklearn.neighbors import KNeighborsClassifier\n",
    "from sklearn.ensemble import RandomForestClassifier, GradientBoostingClassifier, AdaBoostClassifier\n",
    "from sklearn.tree import DecisionTreeClassifier\n",
    "from sklearn import svm\n",
    "from sklearn.svm import SVC\n",
    "from xgboost import XGBClassifier\n",
    "\n",
    "from sklearn.dummy import DummyClassifier\n",
    "from sklearn.linear_model import SGDClassifier\n",
    "from sklearn.naive_bayes import GaussianNB\n",
    "\n",
    "#classification metrics imports \n",
    "from sklearn.metrics import accuracy_score, precision_score, recall_score, f1_score, roc_curve, auc, confusion_matrix\n",
    "from scipy import interp\n",
    "from itertools import cycle\n",
    "\n",
    "from sklearn.metrics import balanced_accuracy_score\n",
    "from sklearn.metrics import confusion_matrix, classification_report, roc_auc_score, hinge_loss\n",
    "from sklearn import metrics"
   ]
  },
  {
   "cell_type": "code",
   "execution_count": 2,
   "metadata": {},
   "outputs": [
    {
     "name": "stdout",
     "output_type": "stream",
     "text": [
      "4.8.1\n"
     ]
    },
    {
     "data": {
      "text/html": [
       "        <script type=\"text/javascript\">\n",
       "        window.PlotlyConfig = {MathJaxConfig: 'local'};\n",
       "        if (window.MathJax) {MathJax.Hub.Config({SVG: {font: \"STIX-Web\"}});}\n",
       "        if (typeof require !== 'undefined') {\n",
       "        require.undef(\"plotly\");\n",
       "        requirejs.config({\n",
       "            paths: {\n",
       "                'plotly': ['https://cdn.plot.ly/plotly-latest.min']\n",
       "            }\n",
       "        });\n",
       "        require(['plotly'], function(Plotly) {\n",
       "            window._Plotly = Plotly;\n",
       "        });\n",
       "        }\n",
       "        </script>\n",
       "        "
      ]
     },
     "metadata": {},
     "output_type": "display_data"
    },
    {
     "data": {
      "text/html": [
       "        <script type=\"text/javascript\">\n",
       "        window.PlotlyConfig = {MathJaxConfig: 'local'};\n",
       "        if (window.MathJax) {MathJax.Hub.Config({SVG: {font: \"STIX-Web\"}});}\n",
       "        if (typeof require !== 'undefined') {\n",
       "        require.undef(\"plotly\");\n",
       "        requirejs.config({\n",
       "            paths: {\n",
       "                'plotly': ['https://cdn.plot.ly/plotly-latest.min']\n",
       "            }\n",
       "        });\n",
       "        require(['plotly'], function(Plotly) {\n",
       "            window._Plotly = Plotly;\n",
       "        });\n",
       "        }\n",
       "        </script>\n",
       "        "
      ]
     },
     "metadata": {},
     "output_type": "display_data"
    }
   ],
   "source": [
    "#We will then be importing these libraries: \n",
    "\n",
    "from plotly import __version__\n",
    "import plotly.offline\n",
    "from plotly.offline import download_plotlyjs, init_notebook_mode, plot, iplot\n",
    "import plotly.express as px\n",
    "\n",
    "print(__version__)\n",
    "#learnt this from \n",
    "#https://towardsdatascience.com/interactive-distribution-plots-with-plotly-ea58efc78885\n",
    "\n",
    "import cufflinks as cf\n",
    "#we have to make sure this code is run for Jupyter Notebooks otherwise the plots may not happen:\n",
    "\n",
    "init_notebook_mode(connected=True)\n",
    "\n",
    "#we have to make sure this code is run otherwise the visualizations won't run offline:\n",
    "cf.go_offline()"
   ]
  },
  {
   "cell_type": "code",
   "execution_count": 3,
   "metadata": {},
   "outputs": [],
   "source": [
    "#pre-process text for EDA and later modelling too using spacy and string libraries\n",
    "\n",
    "import spacy\n",
    "from spacy.lang.en import English # updated\n",
    "\n",
    "import re\n",
    "import string\n",
    "from spacy.lang.en.stop_words import STOP_WORDS\n",
    "from spacy.lang.en import English\n",
    "from spacy import displacy\n",
    "import spacy.cli\n",
    "from spacy.pipeline import EntityRuler\n",
    "from spacy.matcher import Matcher\n",
    "from spacy.tokens import Doc\n",
    "from spacy import displacy\n",
    "\n",
    "from collections import Counter"
   ]
  },
  {
   "cell_type": "code",
   "execution_count": 4,
   "metadata": {},
   "outputs": [],
   "source": [
    "df = pd.read_csv(\"../data/df_clean_draft_2.csv\", index_col=0)"
   ]
  },
  {
   "cell_type": "markdown",
   "metadata": {},
   "source": [
    "## Text Pre-Processing for Bag of Words Models using `sklearn`"
   ]
  },
  {
   "cell_type": "markdown",
   "metadata": {},
   "source": [
    "The first thing we'll do is tokenize our words, using the same function we made during the EDA notebook."
   ]
  },
  {
   "cell_type": "code",
   "execution_count": 5,
   "metadata": {},
   "outputs": [],
   "source": [
    "#from https://www.dataquest.io/blog/tutorial-text-classification-in-python-using-spacy/\n",
    "#stopwords removal\n",
    "\n",
    "# Create our list of punctuation marks\n",
    "punctuations = string.punctuation\n",
    "\n",
    "# Create our list of stopwords\n",
    "nlp = spacy.load('en_core_web_sm')\n",
    "stop_words = spacy.lang.en.stop_words.STOP_WORDS\n",
    "\n",
    "# Load English tokenizer, tagger, parser, NER and word vectors\n",
    "parser = English()\n",
    "\n",
    "# Creating our tokenizer function\n",
    "def spacy_tokenizer(sentence):\n",
    "    \n",
    "    #remove non-words\n",
    "    tokens = re.sub(\"[^a-zA-Z]\", \" \", sentence)\n",
    "    tokens = re.sub(\"[0-9]+\", \"\", tokens)\n",
    "    \n",
    "    # Creating our token object, which is used to create documents with linguistic annotations.\n",
    "    tokens = parser(tokens)\n",
    "\n",
    "    # Lemmatizing each token and converting each token into lowercase\n",
    "    tokens = [ word.lemma_.lower().strip() if word.lemma_ != \"-PRON-\" else word.lower_ for word in tokens ]\n",
    "\n",
    "    # Removing stop words\n",
    "    tokens = [ word for word in tokens if word not in stop_words and word not in punctuations]\n",
    "    \n",
    "    # return preprocessed list of tokens\n",
    "    return(\" \".join(tokens))"
   ]
  },
  {
   "cell_type": "code",
   "execution_count": 6,
   "metadata": {},
   "outputs": [],
   "source": [
    "df[\"bag_cleaned_text\"]=df[\"clause_text\"].apply(spacy_tokenizer)"
   ]
  },
  {
   "cell_type": "code",
   "execution_count": 7,
   "metadata": {},
   "outputs": [],
   "source": [
    "#last minute clean - we had some stray full stops discovered late \n",
    "check_other_nulls = df[pd.isnull(df['bag_cleaned_text'])].index.tolist()\n",
    "df = df.drop(check_other_nulls)"
   ]
  },
  {
   "cell_type": "code",
   "execution_count": 8,
   "metadata": {},
   "outputs": [
    {
     "data": {
      "text/html": [
       "<div>\n",
       "<style scoped>\n",
       "    .dataframe tbody tr th:only-of-type {\n",
       "        vertical-align: middle;\n",
       "    }\n",
       "\n",
       "    .dataframe tbody tr th {\n",
       "        vertical-align: top;\n",
       "    }\n",
       "\n",
       "    .dataframe thead th {\n",
       "        text-align: right;\n",
       "    }\n",
       "</style>\n",
       "<table border=\"1\" class=\"dataframe\">\n",
       "  <thead>\n",
       "    <tr style=\"text-align: right;\">\n",
       "      <th></th>\n",
       "      <th>clause_text</th>\n",
       "      <th>clause_type</th>\n",
       "      <th>clause_word_count</th>\n",
       "      <th>bag_cleaned_text</th>\n",
       "    </tr>\n",
       "  </thead>\n",
       "  <tbody>\n",
       "    <tr>\n",
       "      <th>0</th>\n",
       "      <td>The Acquiror Company possesses from the approp...</td>\n",
       "      <td>licenses</td>\n",
       "      <td>358</td>\n",
       "      <td>acquiror company possesses appropriate governm...</td>\n",
       "    </tr>\n",
       "    <tr>\n",
       "      <th>1</th>\n",
       "      <td>The Depositor shall cause the Trust to use its...</td>\n",
       "      <td>licenses</td>\n",
       "      <td>71</td>\n",
       "      <td>depositor shall cause trust use best efforts o...</td>\n",
       "    </tr>\n",
       "    <tr>\n",
       "      <th>2</th>\n",
       "      <td>AUGI and its subsidiaries hold all licenses an...</td>\n",
       "      <td>licenses</td>\n",
       "      <td>67</td>\n",
       "      <td>augi subsidiaries hold licenses permits requis...</td>\n",
       "    </tr>\n",
       "    <tr>\n",
       "      <th>3</th>\n",
       "      <td>Keep each License affecting any Collateral (in...</td>\n",
       "      <td>licenses</td>\n",
       "      <td>80</td>\n",
       "      <td>license affecting collateral including manufac...</td>\n",
       "    </tr>\n",
       "    <tr>\n",
       "      <th>4</th>\n",
       "      <td>The Company possesses from all appropriate gov...</td>\n",
       "      <td>licenses</td>\n",
       "      <td>38</td>\n",
       "      <td>company possesses appropriate governmental aut...</td>\n",
       "    </tr>\n",
       "  </tbody>\n",
       "</table>\n",
       "</div>"
      ],
      "text/plain": [
       "                                         clause_text clause_type  \\\n",
       "0  The Acquiror Company possesses from the approp...    licenses   \n",
       "1  The Depositor shall cause the Trust to use its...    licenses   \n",
       "2  AUGI and its subsidiaries hold all licenses an...    licenses   \n",
       "3  Keep each License affecting any Collateral (in...    licenses   \n",
       "4  The Company possesses from all appropriate gov...    licenses   \n",
       "\n",
       "   clause_word_count                                   bag_cleaned_text  \n",
       "0                358  acquiror company possesses appropriate governm...  \n",
       "1                 71  depositor shall cause trust use best efforts o...  \n",
       "2                 67  augi subsidiaries hold licenses permits requis...  \n",
       "3                 80  license affecting collateral including manufac...  \n",
       "4                 38  company possesses appropriate governmental aut...  "
      ]
     },
     "execution_count": 8,
     "metadata": {},
     "output_type": "execute_result"
    }
   ],
   "source": [
    "df.head()"
   ]
  },
  {
   "cell_type": "code",
   "execution_count": 15,
   "metadata": {},
   "outputs": [
    {
     "data": {
      "text/plain": [
       "Index(['warranty', 'compliance', 'payment', 'support', 'delivery',\n",
       "       'proprietary_rights', 'limited_liability', 'indemnity',\n",
       "       'confidentiality', 'licenses'],\n",
       "      dtype='object')"
      ]
     },
     "execution_count": 15,
     "metadata": {},
     "output_type": "execute_result"
    }
   ],
   "source": [
    "df[\"clause_type\"].value_counts().index"
   ]
  },
  {
   "cell_type": "markdown",
   "metadata": {},
   "source": [
    "We also need to rename our categories with this dictionary of replacement values for multiclass classification to work in sklearn:"
   ]
  },
  {
   "cell_type": "code",
   "execution_count": 16,
   "metadata": {},
   "outputs": [],
   "source": [
    "df[\"clause_type\"].replace({'warranty':0, \n",
    "                           'compliance':1, \n",
    "                           'payment':2, \n",
    "                           'support':3, \n",
    "                           'delivery':4,\n",
    "                           'proprietary_rights':5, \n",
    "                           'limited_liability':6, \n",
    "                           'indemnity':7,\n",
    "                           'confidentiality':8, \n",
    "                           'licenses':9}, inplace=True)"
   ]
  },
  {
   "cell_type": "code",
   "execution_count": 17,
   "metadata": {},
   "outputs": [
    {
     "data": {
      "text/html": [
       "<div>\n",
       "<style scoped>\n",
       "    .dataframe tbody tr th:only-of-type {\n",
       "        vertical-align: middle;\n",
       "    }\n",
       "\n",
       "    .dataframe tbody tr th {\n",
       "        vertical-align: top;\n",
       "    }\n",
       "\n",
       "    .dataframe thead th {\n",
       "        text-align: right;\n",
       "    }\n",
       "</style>\n",
       "<table border=\"1\" class=\"dataframe\">\n",
       "  <thead>\n",
       "    <tr style=\"text-align: right;\">\n",
       "      <th></th>\n",
       "      <th>clause_text</th>\n",
       "      <th>clause_type</th>\n",
       "      <th>clause_word_count</th>\n",
       "      <th>bag_cleaned_text</th>\n",
       "    </tr>\n",
       "  </thead>\n",
       "  <tbody>\n",
       "    <tr>\n",
       "      <th>0</th>\n",
       "      <td>The Acquiror Company possesses from the approp...</td>\n",
       "      <td>9</td>\n",
       "      <td>358</td>\n",
       "      <td>acquiror company possesses appropriate governm...</td>\n",
       "    </tr>\n",
       "    <tr>\n",
       "      <th>1</th>\n",
       "      <td>The Depositor shall cause the Trust to use its...</td>\n",
       "      <td>9</td>\n",
       "      <td>71</td>\n",
       "      <td>depositor shall cause trust use best efforts o...</td>\n",
       "    </tr>\n",
       "    <tr>\n",
       "      <th>2</th>\n",
       "      <td>AUGI and its subsidiaries hold all licenses an...</td>\n",
       "      <td>9</td>\n",
       "      <td>67</td>\n",
       "      <td>augi subsidiaries hold licenses permits requis...</td>\n",
       "    </tr>\n",
       "    <tr>\n",
       "      <th>3</th>\n",
       "      <td>Keep each License affecting any Collateral (in...</td>\n",
       "      <td>9</td>\n",
       "      <td>80</td>\n",
       "      <td>license affecting collateral including manufac...</td>\n",
       "    </tr>\n",
       "    <tr>\n",
       "      <th>4</th>\n",
       "      <td>The Company possesses from all appropriate gov...</td>\n",
       "      <td>9</td>\n",
       "      <td>38</td>\n",
       "      <td>company possesses appropriate governmental aut...</td>\n",
       "    </tr>\n",
       "  </tbody>\n",
       "</table>\n",
       "</div>"
      ],
      "text/plain": [
       "                                         clause_text  clause_type  \\\n",
       "0  The Acquiror Company possesses from the approp...            9   \n",
       "1  The Depositor shall cause the Trust to use its...            9   \n",
       "2  AUGI and its subsidiaries hold all licenses an...            9   \n",
       "3  Keep each License affecting any Collateral (in...            9   \n",
       "4  The Company possesses from all appropriate gov...            9   \n",
       "\n",
       "   clause_word_count                                   bag_cleaned_text  \n",
       "0                358  acquiror company possesses appropriate governm...  \n",
       "1                 71  depositor shall cause trust use best efforts o...  \n",
       "2                 67  augi subsidiaries hold licenses permits requis...  \n",
       "3                 80  license affecting collateral including manufac...  \n",
       "4                 38  company possesses appropriate governmental aut...  "
      ]
     },
     "execution_count": 17,
     "metadata": {},
     "output_type": "execute_result"
    }
   ],
   "source": [
    "df.head()"
   ]
  },
  {
   "cell_type": "code",
   "execution_count": 18,
   "metadata": {},
   "outputs": [],
   "source": [
    "#backing up our modified dataframe again\n",
    "df.to_csv(\"../data/df_clean_draft_3.csv\")"
   ]
  },
  {
   "cell_type": "code",
   "execution_count": 19,
   "metadata": {},
   "outputs": [
    {
     "name": "stdout",
     "output_type": "stream",
     "text": [
      "(7961, 54848)\n",
      "(7961,)\n"
     ]
    }
   ],
   "source": [
    "#Creating the features (tf-idf weights) for the processed text\n",
    "\n",
    "texts = df['bag_cleaned_text'].astype('str')\n",
    "\n",
    "tfidf_vectorizer = TfidfVectorizer(ngram_range=(1, 2), \n",
    "                                   min_df = 2, \n",
    "                                   max_df = .95)\n",
    "\n",
    "X = tfidf_vectorizer.fit_transform(texts) #features\n",
    "y = df['clause_type'].values #target\n",
    "\n",
    "print (X.shape)\n",
    "print(y.shape)"
   ]
  },
  {
   "cell_type": "markdown",
   "metadata": {},
   "source": [
    "We also apply this transformer below, which performs linear dimensionality reduction by means of\n",
    "truncated singular value decomposition (SVD). Contrary to PCA, this\n",
    "estimator does not center the data before computing the singular value\n",
    "decomposition. This means it can work with sparse matrices\n",
    "efficiently:"
   ]
  },
  {
   "cell_type": "code",
   "execution_count": 20,
   "metadata": {},
   "outputs": [
    {
     "data": {
      "text/plain": [
       "(7961, 1000)"
      ]
     },
     "execution_count": 20,
     "metadata": {},
     "output_type": "execute_result"
    }
   ],
   "source": [
    "#Dimensionality reduction. Only using the 1000 best features per clause category\n",
    "\n",
    "lsa = TruncatedSVD(n_components=1000, \n",
    "                   n_iter=10, \n",
    "                   random_state=3)\n",
    "\n",
    "X = lsa.fit_transform(X)\n",
    "X.shape"
   ]
  },
  {
   "cell_type": "markdown",
   "metadata": {},
   "source": [
    "### Multilabel Text Classification using sklearn Models\n",
    "Here, we're going to run Random Forest, XGBoost, SVC and Knn on our data. We'll split the data into a train, validation and test set. We'll only run our models on the validation set to understand generalization of each model, which we compare against sklearn's own `DummyClassifier` as our baseline model.\n",
    "\n",
    "Since we're predicting **Multiple Clause/Labels**, we will have to take a look at roc_auc later as it isn't simply a division between 2 labels. We also have to score our metrics like `f1`, `precision` and `recall` using **micro-averaging**.\n",
    "\n",
    "This gives each sample-class pair an equal contribution to the overall metric (except as a result of sample-weight). Rather than summing the metric per class, this sums the dividends and divisors that make up the per-class metrics to calculate an overall quotient. Micro-averaging may be preferred in multilabel settings, including multiclass classification where a majority class is to be ignored: https://scikit-learn.org/stable/modules/model_evaluation.html."
   ]
  },
  {
   "cell_type": "code",
   "execution_count": 27,
   "metadata": {},
   "outputs": [
    {
     "name": "stdout",
     "output_type": "stream",
     "text": [
      "Multiclass Clause Classification - Validation Scores\n"
     ]
    },
    {
     "data": {
      "text/html": [
       "<div>\n",
       "<style scoped>\n",
       "    .dataframe tbody tr th:only-of-type {\n",
       "        vertical-align: middle;\n",
       "    }\n",
       "\n",
       "    .dataframe tbody tr th {\n",
       "        vertical-align: top;\n",
       "    }\n",
       "\n",
       "    .dataframe thead th {\n",
       "        text-align: right;\n",
       "    }\n",
       "</style>\n",
       "<table border=\"1\" class=\"dataframe\">\n",
       "  <thead>\n",
       "    <tr style=\"text-align: right;\">\n",
       "      <th></th>\n",
       "      <th>model_name</th>\n",
       "      <th>accuracy_score</th>\n",
       "      <th>precision_score</th>\n",
       "      <th>recall_score</th>\n",
       "      <th>f1_score</th>\n",
       "    </tr>\n",
       "  </thead>\n",
       "  <tbody>\n",
       "    <tr>\n",
       "      <th>2</th>\n",
       "      <td>SVC</td>\n",
       "      <td>0.946877</td>\n",
       "      <td>0.946877</td>\n",
       "      <td>0.946877</td>\n",
       "      <td>0.946877</td>\n",
       "    </tr>\n",
       "    <tr>\n",
       "      <th>1</th>\n",
       "      <td>XGBoost</td>\n",
       "      <td>0.916726</td>\n",
       "      <td>0.916726</td>\n",
       "      <td>0.916726</td>\n",
       "      <td>0.916726</td>\n",
       "    </tr>\n",
       "    <tr>\n",
       "      <th>0</th>\n",
       "      <td>Random Forest</td>\n",
       "      <td>0.900215</td>\n",
       "      <td>0.900215</td>\n",
       "      <td>0.900215</td>\n",
       "      <td>0.900215</td>\n",
       "    </tr>\n",
       "    <tr>\n",
       "      <th>3</th>\n",
       "      <td>K Nearest Neighbor</td>\n",
       "      <td>0.730079</td>\n",
       "      <td>0.730079</td>\n",
       "      <td>0.730079</td>\n",
       "      <td>0.730079</td>\n",
       "    </tr>\n",
       "    <tr>\n",
       "      <th>4</th>\n",
       "      <td>Dummy Baseline</td>\n",
       "      <td>0.0961953</td>\n",
       "      <td>0.0961953</td>\n",
       "      <td>0.0961953</td>\n",
       "      <td>0.0961953</td>\n",
       "    </tr>\n",
       "  </tbody>\n",
       "</table>\n",
       "</div>"
      ],
      "text/plain": [
       "           model_name accuracy_score precision_score recall_score   f1_score\n",
       "2                 SVC       0.946877        0.946877     0.946877   0.946877\n",
       "1             XGBoost       0.916726        0.916726     0.916726   0.916726\n",
       "0       Random Forest       0.900215        0.900215     0.900215   0.900215\n",
       "3  K Nearest Neighbor       0.730079        0.730079     0.730079   0.730079\n",
       "4      Dummy Baseline      0.0961953       0.0961953    0.0961953  0.0961953"
      ]
     },
     "execution_count": 27,
     "metadata": {},
     "output_type": "execute_result"
    }
   ],
   "source": [
    "#General model evaluation using default parameters on Validation Set\n",
    "\n",
    "#Creating a dict of the models\n",
    "model_dict = {'Random Forest': RandomForestClassifier(random_state=3),\n",
    "              'XGBoost': XGBClassifier(random_state=3),\n",
    "              'SVC':SVC(),\n",
    "              'K Nearest Neighbor': KNeighborsClassifier(),\n",
    "              'Dummy Baseline': DummyClassifier()} \n",
    "\n",
    "\n",
    "#Train test split with stratified sampling for evaluation\n",
    "X_train, X_test, y_train, y_test = train_test_split(X, \n",
    "                                                    y, \n",
    "                                                    test_size = .3, \n",
    "                                                    shuffle = True, \n",
    "                                                    stratify = y, \n",
    "                                                    random_state = 3)\n",
    "\n",
    "#split into validation set only first.\n",
    "X_train, X_val, y_train, y_val = train_test_split(X_train, y_train, test_size=0.25, random_state=3)\n",
    "\n",
    "\n",
    "print(\"Multiclass Clause Classification - Validation Scores\")\n",
    "\n",
    "#Function to get the scores for each model in a datframe\n",
    "def model_score_df(model_dict):   \n",
    "    \n",
    "    model_name, ac_score_list, p_score_list, r_score_list, f1_score_list, auc_list = [], [], [], [], [], []\n",
    "    \n",
    "    for k,v in model_dict.items():   \n",
    "        model_name.append(k)\n",
    "        v.fit(X_train, y_train)\n",
    "        y_pred = v.predict(X_val)\n",
    "        ac_score_list.append(accuracy_score(y_val, y_pred))\n",
    "        p_score_list.append(precision_score(y_val, y_pred, average='micro'))\n",
    "        r_score_list.append(recall_score(y_val, y_pred, average='micro'))\n",
    "        f1_score_list.append(f1_score(y_val, y_pred, average='micro'))\n",
    "\n",
    "        model_comparison_df = pd.DataFrame([model_name, ac_score_list, p_score_list, r_score_list, f1_score_list]).T\n",
    "        model_comparison_df.columns = ['model_name', 'accuracy_score', 'precision_score', 'recall_score', 'f1_score']\n",
    "        model_comparison_df = model_comparison_df.sort_values(by='f1_score', ascending=False)\n",
    "    return model_comparison_df\n",
    "\n",
    "model_score_df(model_dict)"
   ]
  },
  {
   "cell_type": "markdown",
   "metadata": {},
   "source": [
    "`Support Vector Machines Classifier` seems to outperform our other models quite handily at `0.947` by all metrics. We'll run a `GridSearchCV` using SVC to see its best parameters, and apply it to our recombined train test split."
   ]
  },
  {
   "cell_type": "code",
   "execution_count": 25,
   "metadata": {},
   "outputs": [
    {
     "name": "stdout",
     "output_type": "stream",
     "text": [
      "Fitting 3 folds for each of 32 candidates, totalling 96 fits\n"
     ]
    },
    {
     "name": "stderr",
     "output_type": "stream",
     "text": [
      "[Parallel(n_jobs=-1)]: Using backend LokyBackend with 8 concurrent workers.\n",
      "[Parallel(n_jobs=-1)]: Done  34 tasks      | elapsed:  9.0min\n",
      "[Parallel(n_jobs=-1)]: Done  96 out of  96 | elapsed: 21.8min finished\n"
     ]
    },
    {
     "name": "stdout",
     "output_type": "stream",
     "text": [
      "best parameters = {'C': 1, 'gamma': 0.001, 'kernel': 'linear'}\n"
     ]
    }
   ],
   "source": [
    "#run grid search on SVC parameters\n",
    "clf = SVC(probability=True, class_weight = \"balanced\") #we enable probability estimates because it's multiclass\n",
    "#we also get class weightage to be balanced because we have some minority classes\n",
    "\n",
    "param_grid_svm = {\"C\":[1,10], \n",
    "                  \"gamma\":[0.001, 0.01, 0.1, 1], \n",
    "                  \"kernel\":('linear', 'rbf','sigmoid','poly')}  \n",
    "        \n",
    "gs = GridSearchCV(clf, param_grid_svm, cv=3, n_jobs=-1, verbose=1) \n",
    "\n",
    "gs.fit(X_train, y_train)\n",
    "    \n",
    "print(f'best parameters = {gs.best_params_}')"
   ]
  },
  {
   "cell_type": "markdown",
   "metadata": {},
   "source": [
    "### Recombined Train Test Split Performance"
   ]
  },
  {
   "cell_type": "markdown",
   "metadata": {},
   "source": [
    "We'll now see how all models perform on the `full train test split` vs our optimized `SVC` model."
   ]
  },
  {
   "cell_type": "code",
   "execution_count": 30,
   "metadata": {},
   "outputs": [
    {
     "name": "stdout",
     "output_type": "stream",
     "text": [
      "Multiclass Clause Classification - Test Scores\n"
     ]
    },
    {
     "data": {
      "text/html": [
       "<div>\n",
       "<style scoped>\n",
       "    .dataframe tbody tr th:only-of-type {\n",
       "        vertical-align: middle;\n",
       "    }\n",
       "\n",
       "    .dataframe tbody tr th {\n",
       "        vertical-align: top;\n",
       "    }\n",
       "\n",
       "    .dataframe thead th {\n",
       "        text-align: right;\n",
       "    }\n",
       "</style>\n",
       "<table border=\"1\" class=\"dataframe\">\n",
       "  <thead>\n",
       "    <tr style=\"text-align: right;\">\n",
       "      <th></th>\n",
       "      <th>model_name</th>\n",
       "      <th>accuracy_score</th>\n",
       "      <th>precision_score</th>\n",
       "      <th>recall_score</th>\n",
       "      <th>f1_score</th>\n",
       "    </tr>\n",
       "  </thead>\n",
       "  <tbody>\n",
       "    <tr>\n",
       "      <th>2</th>\n",
       "      <td>SVC</td>\n",
       "      <td>0.946003</td>\n",
       "      <td>0.946003</td>\n",
       "      <td>0.946003</td>\n",
       "      <td>0.946003</td>\n",
       "    </tr>\n",
       "    <tr>\n",
       "      <th>1</th>\n",
       "      <td>XGBoost</td>\n",
       "      <td>0.912516</td>\n",
       "      <td>0.912516</td>\n",
       "      <td>0.912516</td>\n",
       "      <td>0.912516</td>\n",
       "    </tr>\n",
       "    <tr>\n",
       "      <th>0</th>\n",
       "      <td>Random Forest</td>\n",
       "      <td>0.890331</td>\n",
       "      <td>0.890331</td>\n",
       "      <td>0.890331</td>\n",
       "      <td>0.890331</td>\n",
       "    </tr>\n",
       "    <tr>\n",
       "      <th>3</th>\n",
       "      <td>K Nearest Neighbor</td>\n",
       "      <td>0.739221</td>\n",
       "      <td>0.739221</td>\n",
       "      <td>0.739221</td>\n",
       "      <td>0.739221</td>\n",
       "    </tr>\n",
       "    <tr>\n",
       "      <th>4</th>\n",
       "      <td>Dummy Baseline</td>\n",
       "      <td>0.110506</td>\n",
       "      <td>0.110506</td>\n",
       "      <td>0.110506</td>\n",
       "      <td>0.110506</td>\n",
       "    </tr>\n",
       "  </tbody>\n",
       "</table>\n",
       "</div>"
      ],
      "text/plain": [
       "           model_name accuracy_score precision_score recall_score  f1_score\n",
       "2                 SVC       0.946003        0.946003     0.946003  0.946003\n",
       "1             XGBoost       0.912516        0.912516     0.912516  0.912516\n",
       "0       Random Forest       0.890331        0.890331     0.890331  0.890331\n",
       "3  K Nearest Neighbor       0.739221        0.739221     0.739221  0.739221\n",
       "4      Dummy Baseline       0.110506        0.110506     0.110506  0.110506"
      ]
     },
     "execution_count": 30,
     "metadata": {},
     "output_type": "execute_result"
    }
   ],
   "source": [
    "#Creating a dict of the models\n",
    "model_dict = {'Random Forest': RandomForestClassifier(random_state=3),\n",
    "              'XGBoost': XGBClassifier(random_state=3),\n",
    "              'SVC':SVC(C=1, gamma=0.001, kernel = \"linear\", probability = True, \n",
    "                                         class_weight = \"balanced\"),\n",
    "              'K Nearest Neighbor': KNeighborsClassifier(),\n",
    "              'Dummy Baseline': DummyClassifier(strategy=\"stratified\")} \n",
    "                #dummy generates predictions \n",
    "                #by mimicking the training set’s class distribution.\n",
    "        \n",
    "#recombining train and validation set against test\n",
    "X_train, X_test, y_train, y_test = train_test_split(X, \n",
    "                                                    y, \n",
    "                                                    test_size = .3, \n",
    "                                                    shuffle = True, \n",
    "                                                    stratify = y, \n",
    "                                                    random_state = 3)\n",
    "\n",
    "print(\"Multiclass Clause Classification - Test Scores\")\n",
    "\n",
    "#Evaluation of models on Test Set\n",
    "def model_score_df(model_dict):   \n",
    "    \n",
    "    model_name, ac_score_list, p_score_list, r_score_list, f1_score_list, auc_list = [], [], [], [], [], []\n",
    "    \n",
    "    for k,v in model_dict.items():   \n",
    "        model_name.append(k)\n",
    "        v.fit(X_train, y_train)\n",
    "        y_pred = v.predict(X_test)\n",
    "        ac_score_list.append(accuracy_score(y_test, y_pred))\n",
    "        p_score_list.append(precision_score(y_test, y_pred, average='micro'))\n",
    "        r_score_list.append(recall_score(y_test, y_pred, average='micro'))\n",
    "        f1_score_list.append(f1_score(y_test, y_pred, average='micro'))\n",
    "\n",
    "        model_comparison_df = pd.DataFrame([model_name, ac_score_list, p_score_list, r_score_list, f1_score_list]).T\n",
    "        model_comparison_df.columns = ['model_name', 'accuracy_score', 'precision_score', 'recall_score', 'f1_score']\n",
    "        model_comparison_df = model_comparison_df.sort_values(by='f1_score', ascending=False)\n",
    "    return model_comparison_df\n",
    "\n",
    "model_score_df(model_dict)"
   ]
  },
  {
   "cell_type": "markdown",
   "metadata": {},
   "source": [
    "Even against the unseen train set, `SVC` has performance metrics that have only dipped ever so slightly from its validation scores to `0.946`, or a `0.001` difference from validation, which is impressive.\n",
    "\n",
    "What about other classification-focused metrics?"
   ]
  },
  {
   "cell_type": "markdown",
   "metadata": {},
   "source": [
    "### Confusion Matrix"
   ]
  },
  {
   "cell_type": "markdown",
   "metadata": {},
   "source": [
    "It's quite a difficult process to visualize `ROC AUC` and the `Confusion Matrix`, the traditional metric for good classification, because we have 10 classes. For this reason, we'll stick to showing how our sklearn production `SVC` model fares and visualizing only that model for our Confusion Matrix.\n",
    "\n",
    "* We'll also use the `OneVsRestClassifier`. This classifier utilizes what's known as the **One-vs-the-rest (OvR) multiclass/multilabel strategy**. `scikit-learn` explains it thus:\n",
    "\n",
    "    \"Also known as one-vs-all, this strategy consists in fitting one classifier per class. For each classifier, the class is fitted against all the other classes. In addition to its computational efficiency (only n_classes classifiers are needed), one advantage of this approach is its interpretability. Since each class is represented by one and one classifier only, it is possible to gain knowledge about the class by inspecting its corresponding classifier. This is the most commonly used strategy for multiclass classification and is a fair default choice.\""
   ]
  },
  {
   "cell_type": "code",
   "execution_count": null,
   "metadata": {},
   "outputs": [],
   "source": [
    "#we instantiate our svc classifier with the OVR aka One Vs Rest transformation:\n",
    "svc_classifier = OneVsRestClassifier(SVC(C=1, gamma=0.001, kernel = \"linear\", probability = True, \n",
    "                                         class_weight = \"balanced\"))\n",
    "\n",
    "#fit the data again\n",
    "svc_classifier.fit(X_train, y_train)\n",
    "\n",
    "#Predict the testing data\n",
    "y_pred = svc_classifier.predict(X_test)"
   ]
  },
  {
   "cell_type": "code",
   "execution_count": 36,
   "metadata": {},
   "outputs": [
    {
     "data": {
      "image/png": "[encoded data removed]",
      "text/plain": [
       "<Figure size 864x576 with 2 Axes>"
      ]
     },
     "metadata": {
      "needs_background": "light"
     },
     "output_type": "display_data"
    }
   ],
   "source": [
    "#Get the confusion matrix and put it into a df\n",
    "cm = confusion_matrix(y_test, y_pred) \n",
    "\n",
    "cm_df = pd.DataFrame(cm,\n",
    "                     index = ['warranty', 'compliance', 'payment', 'support', 'delivery',\n",
    "                              'proprietary_rights', 'limited_liability', 'indemnity',\n",
    "                              'confidentiality', 'licenses'], \n",
    "                     columns = ['warranty', 'compliance', 'payment', 'support', 'delivery',\n",
    "                                'proprietary_rights', 'limited_liability', 'indemnity',\n",
    "                                'confidentiality', 'licenses'])\n",
    "\n",
    "#Plot the heatmap\n",
    "plt.figure(figsize=(12, 8))\n",
    "\n",
    "sns.heatmap(cm_df, \n",
    "            center=0, \n",
    "            cmap=sns.diverging_palette(220, 15, as_cmap=True), \n",
    "            annot=True, \n",
    "            fmt='g')\n",
    "\n",
    "plt.title('SVC \\nF1 Score (avg = micro) : {0:.2f}'.format(f1_score(y_test, y_pred, average='micro')), fontsize = 13)\n",
    "plt.ylabel('True label', fontsize = 13)\n",
    "plt.xlabel('Predicted label', fontsize = 13)\n",
    "plt.show()"
   ]
  },
  {
   "cell_type": "markdown",
   "metadata": {},
   "source": [
    "## Findings\n",
    "\n",
    "`SVC` really does do a good job despite only being utilizing a linear model in its kernel, and 0.947 is a tough validation score to beat for a bag-of-words model. We'll now turn to more advanced sequence-focused Neural Network models to see if that gives any edge."
   ]
  },
  {
   "cell_type": "markdown",
   "metadata": {},
   "source": [
    "## Optional Code: SMOTE to oversample minority text classes here.\n",
    "The code has been commented out because accuracy would become nearly perfect (when I ran the code) using SMOTE oversampling of minority clauses, which isn't realistic. The process of repeating this is here for reference only:"
   ]
  },
  {
   "cell_type": "code",
   "execution_count": 16,
   "metadata": {},
   "outputs": [],
   "source": [
    "# vectorizer = TfidfVectorizer(ngram_range = (1,2))"
   ]
  },
  {
   "cell_type": "code",
   "execution_count": 17,
   "metadata": {},
   "outputs": [],
   "source": [
    "# X = df[\"bag_cleaned_text\"]\n",
    "# X = vectorizer.fit_transform(X)\n",
    "\n",
    "# y = df[\"clause_type\"]"
   ]
  },
  {
   "cell_type": "code",
   "execution_count": 18,
   "metadata": {},
   "outputs": [],
   "source": [
    "# df1 = pd.DataFrame(X.toarray(), columns=vectorizer.get_feature_names())\n",
    "# df1"
   ]
  },
  {
   "cell_type": "code",
   "execution_count": 19,
   "metadata": {},
   "outputs": [],
   "source": [
    "# oversample = SMOTE(sampling_strategy=\"auto\", random_state=42)\n",
    "# X_rs, y_rs = oversample.fit_resample(X, y)"
   ]
  },
  {
   "cell_type": "code",
   "execution_count": 20,
   "metadata": {},
   "outputs": [],
   "source": [
    "# X_rs"
   ]
  },
  {
   "cell_type": "code",
   "execution_count": 21,
   "metadata": {},
   "outputs": [],
   "source": [
    "# y_rs_df=pd.DataFrame(y_rs)\n",
    "\n",
    "# y_rs_df"
   ]
  },
  {
   "cell_type": "code",
   "execution_count": 22,
   "metadata": {},
   "outputs": [],
   "source": [
    "# y_rs_df.value_counts()"
   ]
  },
  {
   "cell_type": "code",
   "execution_count": 23,
   "metadata": {},
   "outputs": [],
   "source": [
    "# y_rs_df.replace({0:\"automatic_renewal_clause\",1:\"renewal_option_clause\",2:\"other_clauses\"}, inplace=True)"
   ]
  },
  {
   "cell_type": "code",
   "execution_count": 24,
   "metadata": {},
   "outputs": [],
   "source": [
    "# y_rs_df"
   ]
  },
  {
   "cell_type": "code",
   "execution_count": 25,
   "metadata": {},
   "outputs": [],
   "source": [
    "# y_again=pd.get_dummies(y_rs_df)"
   ]
  },
  {
   "cell_type": "code",
   "execution_count": 26,
   "metadata": {},
   "outputs": [],
   "source": [
    "# y_again.rename(columns={\"clause_type_renewal_option_clause\": \"renewal_option\", \"clause_type_automatic_renewal_clause\": \"automatic_renewal\", \"clause_type_other_clauses\": \"other_clauses\"}, inplace=True)"
   ]
  },
  {
   "cell_type": "code",
   "execution_count": 27,
   "metadata": {},
   "outputs": [],
   "source": [
    "# y_again.drop(['clause_type_other_clauses'], axis=1, inplace = True)"
   ]
  },
  {
   "cell_type": "code",
   "execution_count": 28,
   "metadata": {},
   "outputs": [],
   "source": [
    "# y_again.isnull().sum()"
   ]
  },
  {
   "cell_type": "code",
   "execution_count": 29,
   "metadata": {},
   "outputs": [],
   "source": [
    "# y_again"
   ]
  },
  {
   "cell_type": "code",
   "execution_count": 30,
   "metadata": {},
   "outputs": [],
   "source": [
    "# X_resampled_df = pd.DataFrame(X_rs, columns=X.columns)"
   ]
  },
  {
   "cell_type": "code",
   "execution_count": 31,
   "metadata": {},
   "outputs": [],
   "source": [
    "# X_train, X_test, y_train, y_test = train_test_split(X_rs, y_again, test_size=0.2, random_state=42)"
   ]
  },
  {
   "cell_type": "code",
   "execution_count": 32,
   "metadata": {},
   "outputs": [],
   "source": [
    "# X_train, X_val, y_train, y_val = train_test_split(X_train, y_train, test_size=0.25, random_state=42)"
   ]
  },
  {
   "cell_type": "code",
   "execution_count": 33,
   "metadata": {},
   "outputs": [],
   "source": [
    "## Why we don't apply Standard Scaler in Text-based Classification"
   ]
  },
  {
   "cell_type": "markdown",
   "metadata": {},
   "source": [
    "https://datascience.stackexchange.com/questions/33730/should-i-rescale-tfidf-features"
   ]
  },
  {
   "cell_type": "code",
   "execution_count": 34,
   "metadata": {},
   "outputs": [],
   "source": [
    "# model_to_set = OneVsRestClassifier(SVC(class_weight = \"balanced\"))\n",
    "\n",
    "# parameters = {\"estimator__C\": [1,2,4,8],\n",
    "#               \"estimator__kernel\": [\"poly\",\"rbf\"],\n",
    "#               \"estimator__degree\":[1, 2, 3, 4],}\n",
    "\n",
    "# model_tunning = GridSearchCV(model_to_set, param_grid=parameters, cv=3, n_jobs=-1, verbose=1, \n",
    "#                              scoring = \"roc_auc\")\n",
    "\n",
    "# model_tunning.fit(X_train, y_train)\n",
    "\n",
    "# print (model_tunning.best_score_)\n",
    "# print (model_tunning.best_params_)"
   ]
  },
  {
   "cell_type": "code",
   "execution_count": 35,
   "metadata": {},
   "outputs": [],
   "source": [
    "# def grid_modeller_val_scorer(classifier): #takes arguments \"knn\", \"rf\", \"gb\", \"xgb\" \"svc\"\n",
    "    \n",
    "#     #all 5 classifier models correspond respectively to these 5 instantiated models:\n",
    "#     clf_rf  = OneVsRestClassifier(RandomForestClassifier())\n",
    "#     clf_gb = OneVsRestClassifier(GradientBoostingClassifier())\n",
    "#     clf_svc = OneVsRestClassifier(SVC())\n",
    "#     clf_xgb = OneVsRestClassifier(XGBClassifier())\n",
    "    \n",
    "#     if classifier == \"rf\":\n",
    "        \n",
    "#         #run grid search on Random Forest params:\n",
    "#         param_grid_rf  = {'estimator__n_estimators': [10, 50, 100, 250, 500],\n",
    "#                           'estimator__min_samples_leaf': [1, 3, 5],\n",
    "#                           'estimator__max_features': ['sqrt', 'log2'],} \n",
    "    \n",
    "#         gs = GridSearchCV(clf_rf, param_grid_rf, cv=3, n_jobs=-1, verbose=1,\n",
    "#                           scoring = \"roc_auc\") \n",
    "#         gs.fit(X_train, y_train)\n",
    "                            \n",
    "#     elif classifier == \"gb\":\n",
    "#         #run grid search on Gradient Boosting Params\n",
    "#         param_grid_gb = {'estimator__max_depth': [2,3,4,5],\n",
    "#                          'estimator__n_estimators': [100, 125, 150, 200],\n",
    "#                          'estimator__learning_rate': [.08, .1, .12]}\n",
    "    \n",
    "#         gs = GridSearchCV(clf_gb, param_grid_gb, cv=3, n_jobs=-1, verbose=1,\n",
    "#                           scoring = \"roc_auc\") \n",
    "#         gs.fit(X_train, y_train)\n",
    "    \n",
    "#     elif classifier == \"xgb\":\n",
    "        \n",
    "#         #run grid search on Xtreme Gradient Boosting Params\n",
    "#         param_grid_xgb = {'estimator__max_depth': [2,3,4,5,6,7,8,9,10],\n",
    "#                           'estimator__n_estimators': [100, 125, 150, 200, 250],\n",
    "#                           'estimator__learning_rate': [.1, .01, .05],\n",
    "#                          }\n",
    "                        \n",
    "#         gs = GridSearchCV(clf_xgb, param_grid_xgb, cv=3, n_jobs=-1, verbose=1,\n",
    "#                           scoring = \"roc_auc\") \n",
    "#         gs.fit(X_train, y_train)\n",
    "                            \n",
    "#     elif classifier == \"svc\":\n",
    "        \n",
    "#         #run grid search on SVC paramaters\n",
    "#         param_grid_svm = {\"estimator__C\":[1,10], \n",
    "#                           \"estimator__gamma\":[0.001, 0.01, 0.1, 1], \n",
    "#                           \"estimator__kernel\":('linear', 'rbf','sigmoid','poly')}  \n",
    "        \n",
    "#         gs = GridSearchCV(clf_sv, param_grid_svm, cv=3, n_jobs=-1, verbose=1,\n",
    "#                           scoring = \"roc_auc\") \n",
    "#         gs.fit(X_train, y_train)\n",
    "    \n",
    "#     #get scores\n",
    "#     train_score = gs.score(X_train, y_train)\n",
    "#     val_score = gs.score(X_val, y_val)    \n",
    "#     y_pred = gs.predict(X_val)\n",
    "        \n",
    "#     #get ROC AUC and F1 Score\n",
    "#     auc = roc_auc_score(y_val, y_pred, average = \"micro\")\n",
    "#     f1_score = metrics.f1_score(y_val, y_pred, average = \"micro\")\n",
    "    \n",
    "#     #sklearn's advice: \"micro\" gives each sample-class pair \n",
    "#     #an equal contribution to the overall metric. \n",
    "#     #Rather than summing the metric per class, this sums the dividends and divisors that make up the per-class metrics \n",
    "#     #to calculate an overall quotient. \n",
    "#     #Micro-averaging may be preferred in multilabel settings, including multiclass classification where a majority class is to be ignored.\n",
    "    \n",
    "#     metrics_list= [train_score, val_score, gs.best_score_, auc, f1_score]\n",
    "\n",
    "    \n",
    "#     #print out accuracy, estimator and parameters from GridSearchCV\n",
    "#     print(f'best train accuracy score = {train_score}')\n",
    "#     print(f'best validation accuracy score = {val_score}')\n",
    "#     print(f'best grid search score = {gs.best_score_}')\n",
    "#     print(f'multi ROC AUC score = {auc}')\n",
    "#     print(f'multi f1_score={f1_score}')\n",
    "#     print(f'best estimator = {gs.best_estimator_}')\n",
    "#     print(f'best parameters = {gs.best_params_}')\n",
    "#     print(f\"train_score, val_score, grid best score, multiclass auc, multiclass f1 for{classifier}:\", metrics_list)"
   ]
  },
  {
   "cell_type": "code",
   "execution_count": 36,
   "metadata": {},
   "outputs": [],
   "source": [
    "# grid_modeller_val_scorer(\"rf\")"
   ]
  },
  {
   "cell_type": "code",
   "execution_count": 37,
   "metadata": {},
   "outputs": [],
   "source": [
    "# grid_modeller_val_scorer(\"svc\")"
   ]
  }
 ],
 "metadata": {
  "kernelspec": {
   "display_name": "Python 3",
   "language": "python",
   "name": "python3"
  },
  "language_info": {
   "codemirror_mode": {
    "name": "ipython",
    "version": 3
   },
   "file_extension": ".py",
   "mimetype": "text/x-python",
   "name": "python",
   "nbconvert_exporter": "python",
   "pygments_lexer": "ipython3",
   "version": "3.7.6"
  }
 },
 "nbformat": 4,
 "nbformat_minor": 4
}

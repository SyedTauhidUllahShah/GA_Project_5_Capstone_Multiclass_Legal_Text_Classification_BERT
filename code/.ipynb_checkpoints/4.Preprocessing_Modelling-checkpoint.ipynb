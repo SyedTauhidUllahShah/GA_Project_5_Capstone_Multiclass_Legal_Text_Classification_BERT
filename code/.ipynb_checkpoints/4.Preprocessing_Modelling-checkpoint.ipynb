{
 "cells": [
  {
   "cell_type": "markdown",
   "metadata": {},
   "source": [
    "**Please also type in the following command line/terminal installations**:\n",
    "\n",
    "* `brew install libomp` \n",
    "* `pip install xgboost`\n",
    "* `pip install plotly`\n",
    "\n",
    "\n",
    "**For Interactive Visualizations for Jupyter Notebooks:**\n",
    "* `pip install \"notebook>=5.3\" \"ipywidgets>=7.2\"`\n",
    "\n",
    "**For Interactive Visualizations for Jupyter Labs:**\n",
    "* Install node @ https://nodejs.org/en/, then in command line/terminal:\n",
    "* `pip install jupyterlab \"ipywidgets>=7.5\"`\n",
    "* `jupyter labextension install jupyterlab-plotly@4.8.2`\n",
    "\n",
    "Source: https://plotly.com/python/getting-started/?utm_source=mailchimp-jan-2015&utm_medium=email&utm_campaign=generalemail-jan2015&utm_term=bubble-chart\n",
    "\n",
    "**For sklearn multiclass and spaCy NLP:**\n",
    "* `pip install scikit-multilearn`\n",
    "* `pip install -U spacy`\n",
    "* `python -m spacy download en_core_web_sm`"
   ]
  },
  {
   "cell_type": "code",
   "execution_count": 76,
   "metadata": {},
   "outputs": [],
   "source": [
    "#usual imports for sklearn modelling \n",
    "import numpy as np\n",
    "import pandas as pd\n",
    "import matplotlib.pyplot as plt\n",
    "import seaborn as sns\n",
    "\n",
    "from sklearn.model_selection import GridSearchCV\n",
    "from sklearn.model_selection import train_test_split\n",
    "from sklearn.pipeline import Pipeline\n",
    "from sklearn.preprocessing import RobustScaler\n",
    "from sklearn.model_selection import cross_val_score\n",
    "\n",
    "#for multilabel classification and oversampling\n",
    "from skmultilearn.problem_transform import BinaryRelevance\n",
    "from sklearn.multiclass import OneVsRestClassifier\n",
    "from imblearn.over_sampling import SMOTE\n",
    "from sklearn.preprocessing import label_binarize\n",
    "\n",
    "#for PCA - Dimensionality Reduction\n",
    "from sklearn.decomposition import TruncatedSVD\n",
    "\n",
    "#for word vectorization\n",
    "from sklearn.feature_extraction.text import TfidfTransformer, CountVectorizer, TfidfVectorizer\n",
    "\n",
    "#advanced supervised classification models\n",
    "from sklearn.neighbors import KNeighborsClassifier\n",
    "from sklearn.ensemble import RandomForestClassifier, GradientBoostingClassifier, AdaBoostClassifier\n",
    "from sklearn.tree import DecisionTreeClassifier\n",
    "from sklearn import svm\n",
    "from sklearn.svm import SVC\n",
    "from xgboost import XGBClassifier\n",
    "\n",
    "from sklearn.dummy import DummyClassifier\n",
    "from sklearn.linear_model import SGDClassifier\n",
    "from sklearn.naive_bayes import GaussianNB\n",
    "\n",
    "#classification metrics imports \n",
    "from sklearn.metrics import accuracy_score, precision_score, recall_score, f1_score, roc_curve, auc, confusion_matrix\n",
    "from scipy import interp\n",
    "from itertools import cycle\n",
    "\n",
    "from sklearn.metrics import balanced_accuracy_score\n",
    "from sklearn.metrics import confusion_matrix, classification_report, roc_auc_score, hinge_loss\n",
    "from sklearn import metrics"
   ]
  },
  {
   "cell_type": "code",
   "execution_count": 2,
   "metadata": {},
   "outputs": [
    {
     "name": "stdout",
     "output_type": "stream",
     "text": [
      "4.8.1\n"
     ]
    },
    {
     "data": {
      "text/html": [
       "        <script type=\"text/javascript\">\n",
       "        window.PlotlyConfig = {MathJaxConfig: 'local'};\n",
       "        if (window.MathJax) {MathJax.Hub.Config({SVG: {font: \"STIX-Web\"}});}\n",
       "        if (typeof require !== 'undefined') {\n",
       "        require.undef(\"plotly\");\n",
       "        requirejs.config({\n",
       "            paths: {\n",
       "                'plotly': ['https://cdn.plot.ly/plotly-latest.min']\n",
       "            }\n",
       "        });\n",
       "        require(['plotly'], function(Plotly) {\n",
       "            window._Plotly = Plotly;\n",
       "        });\n",
       "        }\n",
       "        </script>\n",
       "        "
      ]
     },
     "metadata": {},
     "output_type": "display_data"
    },
    {
     "data": {
      "text/html": [
       "        <script type=\"text/javascript\">\n",
       "        window.PlotlyConfig = {MathJaxConfig: 'local'};\n",
       "        if (window.MathJax) {MathJax.Hub.Config({SVG: {font: \"STIX-Web\"}});}\n",
       "        if (typeof require !== 'undefined') {\n",
       "        require.undef(\"plotly\");\n",
       "        requirejs.config({\n",
       "            paths: {\n",
       "                'plotly': ['https://cdn.plot.ly/plotly-latest.min']\n",
       "            }\n",
       "        });\n",
       "        require(['plotly'], function(Plotly) {\n",
       "            window._Plotly = Plotly;\n",
       "        });\n",
       "        }\n",
       "        </script>\n",
       "        "
      ]
     },
     "metadata": {},
     "output_type": "display_data"
    }
   ],
   "source": [
    "#We will then be importing these libraries: \n",
    "\n",
    "from plotly import __version__\n",
    "import plotly.offline\n",
    "from plotly.offline import download_plotlyjs, init_notebook_mode, plot, iplot\n",
    "import plotly.express as px\n",
    "\n",
    "print(__version__)\n",
    "#learnt this from \n",
    "#https://towardsdatascience.com/interactive-distribution-plots-with-plotly-ea58efc78885\n",
    "\n",
    "import cufflinks as cf\n",
    "#we have to make sure this code is run for Jupyter Notebooks otherwise the plots may not happen:\n",
    "\n",
    "init_notebook_mode(connected=True)\n",
    "\n",
    "#we have to make sure this code is run otherwise the visualizations won't run offline:\n",
    "cf.go_offline()"
   ]
  },
  {
   "cell_type": "code",
   "execution_count": 3,
   "metadata": {},
   "outputs": [],
   "source": [
    "#pre-process text for EDA and later modelling too using spacy and string libraries\n",
    "\n",
    "import spacy\n",
    "from spacy.lang.en import English # updated\n",
    "\n",
    "import re\n",
    "import string\n",
    "from spacy.lang.en.stop_words import STOP_WORDS\n",
    "from spacy.lang.en import English\n",
    "from spacy import displacy\n",
    "import spacy.cli\n",
    "from spacy.pipeline import EntityRuler\n",
    "from spacy.matcher import Matcher\n",
    "from spacy.tokens import Doc\n",
    "from spacy import displacy\n",
    "\n",
    "from collections import Counter"
   ]
  },
  {
   "cell_type": "code",
   "execution_count": 4,
   "metadata": {},
   "outputs": [],
   "source": [
    "df = pd.read_csv(\"../data/df_clean_draft_2.csv\", index_col=0)"
   ]
  },
  {
   "cell_type": "markdown",
   "metadata": {},
   "source": [
    "## Text Pre-Processing for Bag of Words Models using `sklearn`"
   ]
  },
  {
   "cell_type": "code",
   "execution_count": 5,
   "metadata": {},
   "outputs": [],
   "source": [
    "#from https://www.dataquest.io/blog/tutorial-text-classification-in-python-using-spacy/\n",
    "#stopwords removal\n",
    "\n",
    "# Create our list of punctuation marks\n",
    "punctuations = string.punctuation\n",
    "\n",
    "# Create our list of stopwords\n",
    "nlp = spacy.load('en_core_web_sm')\n",
    "stop_words = spacy.lang.en.stop_words.STOP_WORDS\n",
    "\n",
    "# Load English tokenizer, tagger, parser, NER and word vectors\n",
    "parser = English()\n",
    "\n",
    "# Creating our tokenizer function\n",
    "def spacy_tokenizer(sentence):\n",
    "    \n",
    "    #remove non-words\n",
    "    tokens = re.sub(\"[^a-zA-Z]\", \" \", sentence)\n",
    "    tokens = re.sub(\"[0-9]+\", \"\", tokens)\n",
    "    \n",
    "    # Creating our token object, which is used to create documents with linguistic annotations.\n",
    "    tokens = parser(tokens)\n",
    "\n",
    "    # Lemmatizing each token and converting each token into lowercase\n",
    "    tokens = [ word.lemma_.lower().strip() if word.lemma_ != \"-PRON-\" else word.lower_ for word in tokens ]\n",
    "\n",
    "    # Removing stop words\n",
    "    tokens = [ word for word in tokens if word not in stop_words and word not in punctuations]\n",
    "    \n",
    "    # return preprocessed list of tokens\n",
    "    return(\" \".join(tokens))"
   ]
  },
  {
   "cell_type": "code",
   "execution_count": 6,
   "metadata": {},
   "outputs": [],
   "source": [
    "df[\"bag_cleaned_text\"]=df[\"clause_text\"].apply(spacy_tokenizer)"
   ]
  },
  {
   "cell_type": "code",
   "execution_count": 7,
   "metadata": {},
   "outputs": [],
   "source": [
    "#last minute clean - we had some stray full stops discovered late \n",
    "check_other_nulls = df[pd.isnull(df['bag_cleaned_text'])].index.tolist()\n",
    "df = df.drop(check_other_nulls)"
   ]
  },
  {
   "cell_type": "code",
   "execution_count": 8,
   "metadata": {},
   "outputs": [],
   "source": [
    "# df = pd.get_dummies(df, columns=[\"clause_type\"])"
   ]
  },
  {
   "cell_type": "code",
   "execution_count": 9,
   "metadata": {},
   "outputs": [],
   "source": [
    "#we drop the \"other clauses\" column because if automatic renewals = 0 and renewal options = 0, \n",
    "#by definition, it's another kind of clause since the 3 columns are mutually exclusive\n",
    "# df.drop(['clause_type_other_clauses'], axis=1, inplace = True)"
   ]
  },
  {
   "cell_type": "code",
   "execution_count": 10,
   "metadata": {},
   "outputs": [],
   "source": [
    "# df.rename(columns={\"clause_type_renewal_option_clause\": \"renewal_option\", \"clause_type_automatic_renewal_clause\": \"automatic_renewal\", \"clause_type_other_clauses\": \"other_clauses\"}, inplace=True)"
   ]
  },
  {
   "cell_type": "code",
   "execution_count": 11,
   "metadata": {},
   "outputs": [
    {
     "data": {
      "text/html": [
       "<div>\n",
       "<style scoped>\n",
       "    .dataframe tbody tr th:only-of-type {\n",
       "        vertical-align: middle;\n",
       "    }\n",
       "\n",
       "    .dataframe tbody tr th {\n",
       "        vertical-align: top;\n",
       "    }\n",
       "\n",
       "    .dataframe thead th {\n",
       "        text-align: right;\n",
       "    }\n",
       "</style>\n",
       "<table border=\"1\" class=\"dataframe\">\n",
       "  <thead>\n",
       "    <tr style=\"text-align: right;\">\n",
       "      <th></th>\n",
       "      <th>clause_text</th>\n",
       "      <th>clause_type</th>\n",
       "      <th>clause_word_count</th>\n",
       "      <th>bag_cleaned_text</th>\n",
       "    </tr>\n",
       "  </thead>\n",
       "  <tbody>\n",
       "    <tr>\n",
       "      <th>0</th>\n",
       "      <td>Upon the expiration of the original term or an...</td>\n",
       "      <td>automatic_renewal_clause</td>\n",
       "      <td>81</td>\n",
       "      <td>expiration original term renewal term employme...</td>\n",
       "    </tr>\n",
       "    <tr>\n",
       "      <th>1</th>\n",
       "      <td>This Agreement shall be automatically extended...</td>\n",
       "      <td>automatic_renewal_clause</td>\n",
       "      <td>49</td>\n",
       "      <td>agreement shall automatically extended additio...</td>\n",
       "    </tr>\n",
       "    <tr>\n",
       "      <th>2</th>\n",
       "      <td>This Agreement shall renew automatically, with...</td>\n",
       "      <td>automatic_renewal_clause</td>\n",
       "      <td>149</td>\n",
       "      <td>agreement shall renew automatically respect se...</td>\n",
       "    </tr>\n",
       "    <tr>\n",
       "      <th>3</th>\n",
       "      <td>If a Holder of such Security has not delivered...</td>\n",
       "      <td>automatic_renewal_clause</td>\n",
       "      <td>433</td>\n",
       "      <td>holder security delivered repayment election r...</td>\n",
       "    </tr>\n",
       "    <tr>\n",
       "      <th>4</th>\n",
       "      <td>This Agreement shall be renewed automatically ...</td>\n",
       "      <td>automatic_renewal_clause</td>\n",
       "      <td>50</td>\n",
       "      <td>agreement shall renewed automatically succeedi...</td>\n",
       "    </tr>\n",
       "  </tbody>\n",
       "</table>\n",
       "</div>"
      ],
      "text/plain": [
       "                                         clause_text  \\\n",
       "0  Upon the expiration of the original term or an...   \n",
       "1  This Agreement shall be automatically extended...   \n",
       "2  This Agreement shall renew automatically, with...   \n",
       "3  If a Holder of such Security has not delivered...   \n",
       "4  This Agreement shall be renewed automatically ...   \n",
       "\n",
       "                clause_type  clause_word_count  \\\n",
       "0  automatic_renewal_clause                 81   \n",
       "1  automatic_renewal_clause                 49   \n",
       "2  automatic_renewal_clause                149   \n",
       "3  automatic_renewal_clause                433   \n",
       "4  automatic_renewal_clause                 50   \n",
       "\n",
       "                                    bag_cleaned_text  \n",
       "0  expiration original term renewal term employme...  \n",
       "1  agreement shall automatically extended additio...  \n",
       "2  agreement shall renew automatically respect se...  \n",
       "3  holder security delivered repayment election r...  \n",
       "4  agreement shall renewed automatically succeedi...  "
      ]
     },
     "execution_count": 11,
     "metadata": {},
     "output_type": "execute_result"
    }
   ],
   "source": [
    "df.head()"
   ]
  },
  {
   "cell_type": "code",
   "execution_count": 12,
   "metadata": {},
   "outputs": [],
   "source": [
    "df[\"clause_type\"].replace({\"automatic_renewal_clause\": 0, \"renewal_option_clause\": 1, \"other_clauses\":2}, inplace=True)"
   ]
  },
  {
   "cell_type": "code",
   "execution_count": 13,
   "metadata": {},
   "outputs": [
    {
     "data": {
      "text/html": [
       "<div>\n",
       "<style scoped>\n",
       "    .dataframe tbody tr th:only-of-type {\n",
       "        vertical-align: middle;\n",
       "    }\n",
       "\n",
       "    .dataframe tbody tr th {\n",
       "        vertical-align: top;\n",
       "    }\n",
       "\n",
       "    .dataframe thead th {\n",
       "        text-align: right;\n",
       "    }\n",
       "</style>\n",
       "<table border=\"1\" class=\"dataframe\">\n",
       "  <thead>\n",
       "    <tr style=\"text-align: right;\">\n",
       "      <th></th>\n",
       "      <th>clause_text</th>\n",
       "      <th>clause_type</th>\n",
       "      <th>clause_word_count</th>\n",
       "      <th>bag_cleaned_text</th>\n",
       "    </tr>\n",
       "  </thead>\n",
       "  <tbody>\n",
       "    <tr>\n",
       "      <th>0</th>\n",
       "      <td>Upon the expiration of the original term or an...</td>\n",
       "      <td>0</td>\n",
       "      <td>81</td>\n",
       "      <td>expiration original term renewal term employme...</td>\n",
       "    </tr>\n",
       "    <tr>\n",
       "      <th>1</th>\n",
       "      <td>This Agreement shall be automatically extended...</td>\n",
       "      <td>0</td>\n",
       "      <td>49</td>\n",
       "      <td>agreement shall automatically extended additio...</td>\n",
       "    </tr>\n",
       "    <tr>\n",
       "      <th>2</th>\n",
       "      <td>This Agreement shall renew automatically, with...</td>\n",
       "      <td>0</td>\n",
       "      <td>149</td>\n",
       "      <td>agreement shall renew automatically respect se...</td>\n",
       "    </tr>\n",
       "    <tr>\n",
       "      <th>3</th>\n",
       "      <td>If a Holder of such Security has not delivered...</td>\n",
       "      <td>0</td>\n",
       "      <td>433</td>\n",
       "      <td>holder security delivered repayment election r...</td>\n",
       "    </tr>\n",
       "    <tr>\n",
       "      <th>4</th>\n",
       "      <td>This Agreement shall be renewed automatically ...</td>\n",
       "      <td>0</td>\n",
       "      <td>50</td>\n",
       "      <td>agreement shall renewed automatically succeedi...</td>\n",
       "    </tr>\n",
       "  </tbody>\n",
       "</table>\n",
       "</div>"
      ],
      "text/plain": [
       "                                         clause_text  clause_type  \\\n",
       "0  Upon the expiration of the original term or an...            0   \n",
       "1  This Agreement shall be automatically extended...            0   \n",
       "2  This Agreement shall renew automatically, with...            0   \n",
       "3  If a Holder of such Security has not delivered...            0   \n",
       "4  This Agreement shall be renewed automatically ...            0   \n",
       "\n",
       "   clause_word_count                                   bag_cleaned_text  \n",
       "0                 81  expiration original term renewal term employme...  \n",
       "1                 49  agreement shall automatically extended additio...  \n",
       "2                149  agreement shall renew automatically respect se...  \n",
       "3                433  holder security delivered repayment election r...  \n",
       "4                 50  agreement shall renewed automatically succeedi...  "
      ]
     },
     "execution_count": 13,
     "metadata": {},
     "output_type": "execute_result"
    }
   ],
   "source": [
    "df.head()"
   ]
  },
  {
   "cell_type": "code",
   "execution_count": 14,
   "metadata": {},
   "outputs": [],
   "source": [
    "#backing up our modified dataframe again\n",
    "df.to_csv(\"../data/df_clean_draft_3.csv\")"
   ]
  },
  {
   "cell_type": "code",
   "execution_count": 44,
   "metadata": {},
   "outputs": [
    {
     "name": "stdout",
     "output_type": "stream",
     "text": [
      "(9746, 61513)\n",
      "(9746,)\n"
     ]
    }
   ],
   "source": [
    "#Creating the features (tf-idf weights) for the processed text\n",
    "\n",
    "texts = df['bag_cleaned_text'].astype('str')\n",
    "\n",
    "tfidf_vectorizer = TfidfVectorizer(ngram_range=(1, 2), \n",
    "                                   min_df = 2, \n",
    "                                   max_df = .95)\n",
    "\n",
    "X = tfidf_vectorizer.fit_transform(texts) #features\n",
    "y = df['clause_type'].values #target\n",
    "\n",
    "print (X.shape)\n",
    "print(y.shape)"
   ]
  },
  {
   "cell_type": "code",
   "execution_count": 45,
   "metadata": {},
   "outputs": [
    {
     "data": {
      "text/plain": [
       "(9746, 1000)"
      ]
     },
     "execution_count": 45,
     "metadata": {},
     "output_type": "execute_result"
    }
   ],
   "source": [
    "#Dimensionality reduction. Only using the 1000 best features per clause category\n",
    "\n",
    "lsa = TruncatedSVD(n_components=1000, \n",
    "                   n_iter=10, \n",
    "                   random_state=3)\n",
    "\n",
    "X = lsa.fit_transform(X)\n",
    "X.shape"
   ]
  },
  {
   "cell_type": "code",
   "execution_count": 74,
   "metadata": {},
   "outputs": [
    {
     "data": {
      "text/html": [
       "<div>\n",
       "<style scoped>\n",
       "    .dataframe tbody tr th:only-of-type {\n",
       "        vertical-align: middle;\n",
       "    }\n",
       "\n",
       "    .dataframe tbody tr th {\n",
       "        vertical-align: top;\n",
       "    }\n",
       "\n",
       "    .dataframe thead th {\n",
       "        text-align: right;\n",
       "    }\n",
       "</style>\n",
       "<table border=\"1\" class=\"dataframe\">\n",
       "  <thead>\n",
       "    <tr style=\"text-align: right;\">\n",
       "      <th></th>\n",
       "      <th>model_name</th>\n",
       "      <th>accuracy_score</th>\n",
       "      <th>precision_score</th>\n",
       "      <th>recall_score</th>\n",
       "      <th>f1_score</th>\n",
       "    </tr>\n",
       "  </thead>\n",
       "  <tbody>\n",
       "    <tr>\n",
       "      <th>2</th>\n",
       "      <td>SVC</td>\n",
       "      <td>0.99238</td>\n",
       "      <td>0.99238</td>\n",
       "      <td>0.99238</td>\n",
       "      <td>0.99238</td>\n",
       "    </tr>\n",
       "    <tr>\n",
       "      <th>1</th>\n",
       "      <td>XGBoost</td>\n",
       "      <td>0.987691</td>\n",
       "      <td>0.987691</td>\n",
       "      <td>0.987691</td>\n",
       "      <td>0.987691</td>\n",
       "    </tr>\n",
       "    <tr>\n",
       "      <th>0</th>\n",
       "      <td>Random Forest</td>\n",
       "      <td>0.978898</td>\n",
       "      <td>0.978898</td>\n",
       "      <td>0.978898</td>\n",
       "      <td>0.978898</td>\n",
       "    </tr>\n",
       "    <tr>\n",
       "      <th>3</th>\n",
       "      <td>K Nearest Neighbor</td>\n",
       "      <td>0.970692</td>\n",
       "      <td>0.970692</td>\n",
       "      <td>0.970692</td>\n",
       "      <td>0.970692</td>\n",
       "    </tr>\n",
       "  </tbody>\n",
       "</table>\n",
       "</div>"
      ],
      "text/plain": [
       "           model_name accuracy_score precision_score recall_score  f1_score\n",
       "2                 SVC        0.99238         0.99238      0.99238   0.99238\n",
       "1             XGBoost       0.987691        0.987691     0.987691  0.987691\n",
       "0       Random Forest       0.978898        0.978898     0.978898  0.978898\n",
       "3  K Nearest Neighbor       0.970692        0.970692     0.970692  0.970692"
      ]
     },
     "execution_count": 74,
     "metadata": {},
     "output_type": "execute_result"
    }
   ],
   "source": [
    "#Preliminary model evaluation using default parameters\n",
    "\n",
    "#Creating a dict of the models\n",
    "model_dict = {'Random Forest': RandomForestClassifier(random_state=3),\n",
    "              'XGBoost': XGBClassifier(random_state=3),\n",
    "              'SVC':SVC(),\n",
    "              'K Nearest Neighbor': KNeighborsClassifier()}\n",
    "\n",
    "#Train test split with stratified sampling for evaluation\n",
    "X_train, X_test, y_train, y_test = train_test_split(X, \n",
    "                                                    y, \n",
    "                                                    test_size = .3, \n",
    "                                                    shuffle = True, \n",
    "                                                    stratify = y, \n",
    "                                                    random_state = 3)\n",
    "\n",
    "X_train, X_val, y_train, y_val = train_test_split(X_train, y_train, test_size=0.25, random_state=3)\n",
    "\n",
    "#Function to get the scores for each model in a df\n",
    "def model_score_df(model_dict):   \n",
    "    \n",
    "    model_name, ac_score_list, p_score_list, r_score_list, f1_score_list, auc_list = [], [], [], [], [], []\n",
    "    \n",
    "    for k,v in model_dict.items():   \n",
    "        model_name.append(k)\n",
    "        v.fit(X_train, y_train)\n",
    "        y_pred = v.predict(X_val)\n",
    "        ac_score_list.append(accuracy_score(y_val, y_pred))\n",
    "        p_score_list.append(precision_score(y_val, y_pred, average='micro'))\n",
    "        r_score_list.append(recall_score(y_val, y_pred, average='micro'))\n",
    "        f1_score_list.append(f1_score(y_val, y_pred, average='micro'))\n",
    "\n",
    "        model_comparison_df = pd.DataFrame([model_name, ac_score_list, p_score_list, r_score_list, f1_score_list]).T\n",
    "        model_comparison_df.columns = ['model_name', 'accuracy_score', 'precision_score', 'recall_score', 'f1_score']\n",
    "        model_comparison_df = model_comparison_df.sort_values(by='f1_score', ascending=False)\n",
    "    return model_comparison_df\n",
    "\n",
    "model_score_df(model_dict)"
   ]
  },
  {
   "cell_type": "code",
   "execution_count": 90,
   "metadata": {},
   "outputs": [],
   "source": [
    "#recombining train and validation set against test\n",
    "X_train, X_test, y_train, y_test = train_test_split(X, \n",
    "                                                    y, \n",
    "                                                    test_size = .3, \n",
    "                                                    shuffle = True, \n",
    "                                                    stratify = y, \n",
    "                                                    random_state = 3)"
   ]
  },
  {
   "cell_type": "code",
   "execution_count": 91,
   "metadata": {},
   "outputs": [
    {
     "data": {
      "text/html": [
       "<div>\n",
       "<style scoped>\n",
       "    .dataframe tbody tr th:only-of-type {\n",
       "        vertical-align: middle;\n",
       "    }\n",
       "\n",
       "    .dataframe tbody tr th {\n",
       "        vertical-align: top;\n",
       "    }\n",
       "\n",
       "    .dataframe thead th {\n",
       "        text-align: right;\n",
       "    }\n",
       "</style>\n",
       "<table border=\"1\" class=\"dataframe\">\n",
       "  <thead>\n",
       "    <tr style=\"text-align: right;\">\n",
       "      <th></th>\n",
       "      <th>model_name</th>\n",
       "      <th>accuracy_score</th>\n",
       "      <th>precision_score</th>\n",
       "      <th>recall_score</th>\n",
       "      <th>f1_score</th>\n",
       "    </tr>\n",
       "  </thead>\n",
       "  <tbody>\n",
       "    <tr>\n",
       "      <th>2</th>\n",
       "      <td>SVC</td>\n",
       "      <td>0.993844</td>\n",
       "      <td>0.993844</td>\n",
       "      <td>0.993844</td>\n",
       "      <td>0.993844</td>\n",
       "    </tr>\n",
       "    <tr>\n",
       "      <th>1</th>\n",
       "      <td>XGBoost</td>\n",
       "      <td>0.99145</td>\n",
       "      <td>0.99145</td>\n",
       "      <td>0.99145</td>\n",
       "      <td>0.99145</td>\n",
       "    </tr>\n",
       "    <tr>\n",
       "      <th>0</th>\n",
       "      <td>Random Forest</td>\n",
       "      <td>0.981532</td>\n",
       "      <td>0.981532</td>\n",
       "      <td>0.981532</td>\n",
       "      <td>0.981532</td>\n",
       "    </tr>\n",
       "    <tr>\n",
       "      <th>3</th>\n",
       "      <td>K Nearest Neighbor</td>\n",
       "      <td>0.975376</td>\n",
       "      <td>0.975376</td>\n",
       "      <td>0.975376</td>\n",
       "      <td>0.975376</td>\n",
       "    </tr>\n",
       "  </tbody>\n",
       "</table>\n",
       "</div>"
      ],
      "text/plain": [
       "           model_name accuracy_score precision_score recall_score  f1_score\n",
       "2                 SVC       0.993844        0.993844     0.993844  0.993844\n",
       "1             XGBoost        0.99145         0.99145      0.99145   0.99145\n",
       "0       Random Forest       0.981532        0.981532     0.981532  0.981532\n",
       "3  K Nearest Neighbor       0.975376        0.975376     0.975376  0.975376"
      ]
     },
     "execution_count": 91,
     "metadata": {},
     "output_type": "execute_result"
    }
   ],
   "source": [
    "def model_score_df(model_dict):   \n",
    "    \n",
    "    model_name, ac_score_list, p_score_list, r_score_list, f1_score_list, auc_list = [], [], [], [], [], []\n",
    "    \n",
    "    for k,v in model_dict.items():   \n",
    "        model_name.append(k)\n",
    "        v.fit(X_train, y_train)\n",
    "        y_pred = v.predict(X_test)\n",
    "        ac_score_list.append(accuracy_score(y_test, y_pred))\n",
    "        p_score_list.append(precision_score(y_test, y_pred, average='micro'))\n",
    "        r_score_list.append(recall_score(y_test, y_pred, average='micro'))\n",
    "        f1_score_list.append(f1_score(y_test, y_pred, average='micro'))\n",
    "\n",
    "        model_comparison_df = pd.DataFrame([model_name, ac_score_list, p_score_list, r_score_list, f1_score_list]).T\n",
    "        model_comparison_df.columns = ['model_name', 'accuracy_score', 'precision_score', 'recall_score', 'f1_score']\n",
    "        model_comparison_df = model_comparison_df.sort_values(by='f1_score', ascending=False)\n",
    "    return model_comparison_df\n",
    "\n",
    "model_score_df(model_dict)"
   ]
  },
  {
   "cell_type": "code",
   "execution_count": 81,
   "metadata": {},
   "outputs": [
    {
     "name": "stdout",
     "output_type": "stream",
     "text": [
      "Fitting 3 folds for each of 32 candidates, totalling 96 fits\n"
     ]
    },
    {
     "name": "stderr",
     "output_type": "stream",
     "text": [
      "[Parallel(n_jobs=-1)]: Using backend LokyBackend with 8 concurrent workers.\n",
      "[Parallel(n_jobs=-1)]: Done  34 tasks      | elapsed:   27.2s\n",
      "[Parallel(n_jobs=-1)]: Done  96 out of  96 | elapsed:  1.9min finished\n"
     ]
    },
    {
     "name": "stdout",
     "output_type": "stream",
     "text": [
      "best parameters = {'C': 10, 'gamma': 0.1, 'kernel': 'rbf'}\n"
     ]
    }
   ],
   "source": [
    "#run grid search on SVC paramaters\n",
    "clf = SVC()\n",
    "\n",
    "param_grid_svm = {\"C\":[1,10], \n",
    "                  \"gamma\":[0.001, 0.01, 0.1, 1], \n",
    "                  \"kernel\":('linear', 'rbf','sigmoid','poly')}  \n",
    "        \n",
    "gs = GridSearchCV(clf, param_grid_svm, cv=3, n_jobs=-1, verbose=1) \n",
    "\n",
    "gs.fit(X_train, y_train)\n",
    "    \n",
    "print(f'best parameters = {gs.best_params_}')"
   ]
  },
  {
   "cell_type": "code",
   "execution_count": 89,
   "metadata": {},
   "outputs": [
    {
     "name": "stderr",
     "output_type": "stream",
     "text": [
      "/Users/grahamlim/opt/anaconda3/lib/python3.7/site-packages/ipykernel_launcher.py:40: DeprecationWarning:\n",
      "\n",
      "scipy.interp is deprecated and will be removed in SciPy 2.0.0, use numpy.interp instead\n",
      "\n"
     ]
    },
    {
     "data": {
      "image/png": "[encoded data removed]",
      "text/plain": [
       "<Figure size 936x720 with 1 Axes>"
      ]
     },
     "metadata": {},
     "output_type": "display_data"
    }
   ],
   "source": [
    "#Plot AUC - for AUC accounting for Multiple Classes \n",
    "\n",
    "#Binarize the labels\n",
    "y_b = label_binarize(y, classes = [0, 1, 2])\n",
    "n_classes = y_b.shape[1]\n",
    "\n",
    "#Shuffle and split training and test sets with stratified sampling and binarized labels\n",
    "X_train_b, X_test_b, y_train_b, y_test_b = train_test_split(X,\n",
    "                                                            y_b,\n",
    "                                                            test_size = .3,\n",
    "                                                            shuffle = True,\n",
    "                                                            stratify = y,\n",
    "                                                            random_state = 3)\n",
    "\n",
    "#Learn to predict each class against the other using SVC\n",
    "svc_classifier = OneVsRestClassifier(SVC(C=10, gamma=0.1, kernel = \"sigmoid\", probability = True, \n",
    "                                         class_weight = \"balanced\"))\n",
    "\n",
    "y_score = svc_classifier.fit(X_train_b, y_train_b).predict_proba(X_test_b)\n",
    "\n",
    "#Compute ROC curve and ROC area for each class\n",
    "fpr = dict()\n",
    "tpr = dict()\n",
    "roc_auc = dict()\n",
    "\n",
    "for i in range(n_classes):\n",
    "    fpr[i], tpr[i], _ = roc_curve(y_test_b[:, i], y_score[:, i])\n",
    "    roc_auc[i] = auc(fpr[i], tpr[i])\n",
    "\n",
    "#Compute micro-average ROC curve and ROC area\n",
    "fpr['micro'], tpr['micro'], _ = roc_curve(y_test_b.ravel(), y_score.ravel())\n",
    "roc_auc['micro'] = auc(fpr['micro'], tpr['micro'])\n",
    "\n",
    "#First aggregate all false positive rates\n",
    "all_fpr = np.unique(np.concatenate([fpr[i] for i in range(n_classes)]))\n",
    "\n",
    "#Then interpolate all ROC curves at this points\n",
    "mean_tpr = np.zeros_like(all_fpr)\n",
    "for i in range(n_classes):\n",
    "    mean_tpr += interp(all_fpr, fpr[i], tpr[i])\n",
    "\n",
    "#Finally average it and compute AUC\n",
    "mean_tpr /= n_classes\n",
    "\n",
    "fpr['macro'] = all_fpr\n",
    "tpr['macro'] = mean_tpr\n",
    "roc_auc['macro'] = auc(fpr['macro'], tpr['macro'])\n",
    "\n",
    "#Plot all ROC curves\n",
    "plt.figure(figsize=(13,10)) \n",
    "sns.set_style('darkgrid')\n",
    "lw=2\n",
    "\n",
    "plt.plot(fpr['micro'], \n",
    "         tpr['micro'], \n",
    "         label='micro-average ROC curve (area = {0:0.3f})'''.format(roc_auc['micro']),\n",
    "         color='deeppink',\n",
    "         linestyle=':', \n",
    "         linewidth=4)\n",
    "\n",
    "plt.plot(fpr['macro'], \n",
    "         tpr['macro'], \n",
    "         label='macro-average ROC curve (area = {0:0.3f})'''.format(roc_auc['macro']),\n",
    "         color='navy', \n",
    "         linestyle=':', \n",
    "         linewidth=4)\n",
    "\n",
    "colors = cycle(['#41924F', '#FFC300', '#a98ff3'])\n",
    "\n",
    "for i, color in zip(range(n_classes), colors):\n",
    "    plt.plot(fpr[i], tpr[i], \n",
    "             color=color, \n",
    "             lw=lw, \n",
    "             label='ROC curve of class {0} (area = {1:0.3f})'''.format(i, roc_auc[i]))\n",
    "\n",
    "plt.plot([0, 1], [0, 1], 'k--', lw=lw)\n",
    "plt.xlim([0.0, 1.0])\n",
    "plt.ylim([0.0, 1.05])\n",
    "plt.xlabel('1-Specificity (False Positive Rate)', fontsize = 14)\n",
    "plt.ylabel('Sensitivity (True Positive Rate)', fontsize = 14)\n",
    "plt.title('Receiver Operating Characteristic - SVC (loss = log)', fontsize = 16)\n",
    "plt.legend(loc=\"lower right\", fontsize = 13)\n",
    "plt.show()"
   ]
  },
  {
   "cell_type": "code",
   "execution_count": 88,
   "metadata": {},
   "outputs": [
    {
     "data": {
      "image/png": "[encoded data removed]",
      "text/plain": [
       "<Figure size 864x576 with 2 Axes>"
      ]
     },
     "metadata": {},
     "output_type": "display_data"
    }
   ],
   "source": [
    "#Confusion Matrix - RF\n",
    "\n",
    "#Fit the training data\n",
    "svc_classifier.fit(X_train, y_train)\n",
    "\n",
    "#Predict the testing data\n",
    "y_pred = svc_classifier.predict(X_test)\n",
    "\n",
    "#Get the confusion matrix and put it into a df\n",
    "cm = confusion_matrix(y_test, y_pred) \n",
    "\n",
    "cm_df = pd.DataFrame(cm,\n",
    "                     index = ['automatic_renewal','renewal_option','others'], \n",
    "                     columns = ['automatic_renewal','renewal_option','others'])\n",
    "\n",
    "#Plot the heatmap\n",
    "plt.figure(figsize=(12, 8))\n",
    "\n",
    "sns.heatmap(cm_df, \n",
    "            center=0, \n",
    "            cmap=sns.diverging_palette(220, 15, as_cmap=True), \n",
    "            annot=True, \n",
    "            fmt='g')\n",
    "\n",
    "plt.title('SVC \\nF1 Score (avg = micro) : {0:.2f}'.format(f1_score(y_test, y_pred, average='micro')), fontsize = 13)\n",
    "plt.ylabel('True label', fontsize = 13)\n",
    "plt.xlabel('Predicted label', fontsize = 13)\n",
    "plt.show()"
   ]
  },
  {
   "cell_type": "markdown",
   "metadata": {},
   "source": [
    "## Optional Code: SMOTE to oversample minority text classes here.\n",
    "The code has been commented out because accuracy would become perfect using SMOTE oversampling of minority clauses, which isn't realistic. The process of repeating this is here for reference only:"
   ]
  },
  {
   "cell_type": "code",
   "execution_count": 16,
   "metadata": {},
   "outputs": [],
   "source": [
    "# vectorizer = TfidfVectorizer(ngram_range = (1,2))"
   ]
  },
  {
   "cell_type": "code",
   "execution_count": 17,
   "metadata": {},
   "outputs": [],
   "source": [
    "# X = df[\"bag_cleaned_text\"]\n",
    "# X = vectorizer.fit_transform(X)\n",
    "\n",
    "# y = df[\"clause_type\"]"
   ]
  },
  {
   "cell_type": "code",
   "execution_count": 18,
   "metadata": {},
   "outputs": [],
   "source": [
    "# df1 = pd.DataFrame(X.toarray(), columns=vectorizer.get_feature_names())\n",
    "# df1"
   ]
  },
  {
   "cell_type": "code",
   "execution_count": 19,
   "metadata": {},
   "outputs": [],
   "source": [
    "# oversample = SMOTE(sampling_strategy=\"auto\", random_state=42)\n",
    "# X_rs, y_rs = oversample.fit_resample(X, y)"
   ]
  },
  {
   "cell_type": "code",
   "execution_count": 20,
   "metadata": {},
   "outputs": [],
   "source": [
    "# X_rs"
   ]
  },
  {
   "cell_type": "code",
   "execution_count": 21,
   "metadata": {},
   "outputs": [],
   "source": [
    "# y_rs_df=pd.DataFrame(y_rs)\n",
    "\n",
    "# y_rs_df"
   ]
  },
  {
   "cell_type": "code",
   "execution_count": 22,
   "metadata": {},
   "outputs": [],
   "source": [
    "# y_rs_df.value_counts()"
   ]
  },
  {
   "cell_type": "code",
   "execution_count": 23,
   "metadata": {},
   "outputs": [],
   "source": [
    "# y_rs_df.replace({0:\"automatic_renewal_clause\",1:\"renewal_option_clause\",2:\"other_clauses\"}, inplace=True)"
   ]
  },
  {
   "cell_type": "code",
   "execution_count": 24,
   "metadata": {},
   "outputs": [],
   "source": [
    "# y_rs_df"
   ]
  },
  {
   "cell_type": "code",
   "execution_count": 25,
   "metadata": {},
   "outputs": [],
   "source": [
    "# y_again=pd.get_dummies(y_rs_df)"
   ]
  },
  {
   "cell_type": "code",
   "execution_count": 26,
   "metadata": {},
   "outputs": [],
   "source": [
    "# y_again.rename(columns={\"clause_type_renewal_option_clause\": \"renewal_option\", \"clause_type_automatic_renewal_clause\": \"automatic_renewal\", \"clause_type_other_clauses\": \"other_clauses\"}, inplace=True)"
   ]
  },
  {
   "cell_type": "code",
   "execution_count": 27,
   "metadata": {},
   "outputs": [],
   "source": [
    "# y_again.drop(['clause_type_other_clauses'], axis=1, inplace = True)"
   ]
  },
  {
   "cell_type": "code",
   "execution_count": 28,
   "metadata": {},
   "outputs": [],
   "source": [
    "# y_again.isnull().sum()"
   ]
  },
  {
   "cell_type": "code",
   "execution_count": 29,
   "metadata": {},
   "outputs": [],
   "source": [
    "# y_again"
   ]
  },
  {
   "cell_type": "code",
   "execution_count": 30,
   "metadata": {},
   "outputs": [],
   "source": [
    "# X_resampled_df = pd.DataFrame(X_rs, columns=X.columns)"
   ]
  },
  {
   "cell_type": "code",
   "execution_count": 31,
   "metadata": {},
   "outputs": [],
   "source": [
    "# X_train, X_test, y_train, y_test = train_test_split(X_rs, y_again, test_size=0.2, random_state=42)"
   ]
  },
  {
   "cell_type": "code",
   "execution_count": 32,
   "metadata": {},
   "outputs": [],
   "source": [
    "# X_train, X_val, y_train, y_val = train_test_split(X_train, y_train, test_size=0.25, random_state=42)"
   ]
  },
  {
   "cell_type": "code",
   "execution_count": 33,
   "metadata": {},
   "outputs": [],
   "source": [
    "## Why we don't apply Standard Scaler in Text-based Classification"
   ]
  },
  {
   "cell_type": "markdown",
   "metadata": {},
   "source": [
    "https://datascience.stackexchange.com/questions/33730/should-i-rescale-tfidf-features"
   ]
  },
  {
   "cell_type": "code",
   "execution_count": 34,
   "metadata": {},
   "outputs": [],
   "source": [
    "# model_to_set = OneVsRestClassifier(SVC(class_weight = \"balanced\"))\n",
    "\n",
    "# parameters = {\"estimator__C\": [1,2,4,8],\n",
    "#               \"estimator__kernel\": [\"poly\",\"rbf\"],\n",
    "#               \"estimator__degree\":[1, 2, 3, 4],}\n",
    "\n",
    "# model_tunning = GridSearchCV(model_to_set, param_grid=parameters, cv=3, n_jobs=-1, verbose=1, \n",
    "#                              scoring = \"roc_auc\")\n",
    "\n",
    "# model_tunning.fit(X_train, y_train)\n",
    "\n",
    "# print (model_tunning.best_score_)\n",
    "# print (model_tunning.best_params_)"
   ]
  },
  {
   "cell_type": "code",
   "execution_count": 35,
   "metadata": {},
   "outputs": [],
   "source": [
    "# def grid_modeller_val_scorer(classifier): #takes arguments \"knn\", \"rf\", \"gb\", \"xgb\" \"svc\"\n",
    "    \n",
    "#     #all 5 classifier models correspond respectively to these 5 instantiated models:\n",
    "#     clf_rf  = OneVsRestClassifier(RandomForestClassifier())\n",
    "#     clf_gb = OneVsRestClassifier(GradientBoostingClassifier())\n",
    "#     clf_svc = OneVsRestClassifier(SVC())\n",
    "#     clf_xgb = OneVsRestClassifier(XGBClassifier())\n",
    "    \n",
    "#     if classifier == \"rf\":\n",
    "        \n",
    "#         #run grid search on Random Forest params:\n",
    "#         param_grid_rf  = {'estimator__n_estimators': [10, 50, 100, 250, 500],\n",
    "#                           'estimator__min_samples_leaf': [1, 3, 5],\n",
    "#                           'estimator__max_features': ['sqrt', 'log2'],} \n",
    "    \n",
    "#         gs = GridSearchCV(clf_rf, param_grid_rf, cv=3, n_jobs=-1, verbose=1,\n",
    "#                           scoring = \"roc_auc\") \n",
    "#         gs.fit(X_train, y_train)\n",
    "                            \n",
    "#     elif classifier == \"gb\":\n",
    "#         #run grid search on Gradient Boosting Params\n",
    "#         param_grid_gb = {'estimator__max_depth': [2,3,4,5],\n",
    "#                          'estimator__n_estimators': [100, 125, 150, 200],\n",
    "#                          'estimator__learning_rate': [.08, .1, .12]}\n",
    "    \n",
    "#         gs = GridSearchCV(clf_gb, param_grid_gb, cv=3, n_jobs=-1, verbose=1,\n",
    "#                           scoring = \"roc_auc\") \n",
    "#         gs.fit(X_train, y_train)\n",
    "    \n",
    "#     elif classifier == \"xgb\":\n",
    "        \n",
    "#         #run grid search on Xtreme Gradient Boosting Params\n",
    "#         param_grid_xgb = {'estimator__max_depth': [2,3,4,5,6,7,8,9,10],\n",
    "#                           'estimator__n_estimators': [100, 125, 150, 200, 250],\n",
    "#                           'estimator__learning_rate': [.1, .01, .05],\n",
    "#                          }\n",
    "                        \n",
    "#         gs = GridSearchCV(clf_xgb, param_grid_xgb, cv=3, n_jobs=-1, verbose=1,\n",
    "#                           scoring = \"roc_auc\") \n",
    "#         gs.fit(X_train, y_train)\n",
    "                            \n",
    "#     elif classifier == \"svc\":\n",
    "        \n",
    "#         #run grid search on SVC paramaters\n",
    "#         param_grid_svm = {\"estimator__C\":[1,10], \n",
    "#                           \"estimator__gamma\":[0.001, 0.01, 0.1, 1], \n",
    "#                           \"estimator__kernel\":('linear', 'rbf','sigmoid','poly')}  \n",
    "        \n",
    "#         gs = GridSearchCV(clf_sv, param_grid_svm, cv=3, n_jobs=-1, verbose=1,\n",
    "#                           scoring = \"roc_auc\") \n",
    "#         gs.fit(X_train, y_train)\n",
    "    \n",
    "#     #get scores\n",
    "#     train_score = gs.score(X_train, y_train)\n",
    "#     val_score = gs.score(X_val, y_val)    \n",
    "#     y_pred = gs.predict(X_val)\n",
    "        \n",
    "#     #get ROC AUC and F1 Score\n",
    "#     auc = roc_auc_score(y_val, y_pred, average = \"micro\")\n",
    "#     f1_score = metrics.f1_score(y_val, y_pred, average = \"micro\")\n",
    "    \n",
    "#     #sklearn's advice: \"micro\" gives each sample-class pair \n",
    "#     #an equal contribution to the overall metric. \n",
    "#     #Rather than summing the metric per class, this sums the dividends and divisors that make up the per-class metrics \n",
    "#     #to calculate an overall quotient. \n",
    "#     #Micro-averaging may be preferred in multilabel settings, including multiclass classification where a majority class is to be ignored.\n",
    "    \n",
    "#     metrics_list= [train_score, val_score, gs.best_score_, auc, f1_score]\n",
    "\n",
    "    \n",
    "#     #print out accuracy, estimator and parameters from GridSearchCV\n",
    "#     print(f'best train accuracy score = {train_score}')\n",
    "#     print(f'best validation accuracy score = {val_score}')\n",
    "#     print(f'best grid search score = {gs.best_score_}')\n",
    "#     print(f'multi ROC AUC score = {auc}')\n",
    "#     print(f'multi f1_score={f1_score}')\n",
    "#     print(f'best estimator = {gs.best_estimator_}')\n",
    "#     print(f'best parameters = {gs.best_params_}')\n",
    "#     print(f\"train_score, val_score, grid best score, multiclass auc, multiclass f1 for{classifier}:\", metrics_list)"
   ]
  },
  {
   "cell_type": "code",
   "execution_count": 36,
   "metadata": {},
   "outputs": [],
   "source": [
    "# grid_modeller_val_scorer(\"rf\")"
   ]
  },
  {
   "cell_type": "code",
   "execution_count": 37,
   "metadata": {},
   "outputs": [],
   "source": [
    "# grid_modeller_val_scorer(\"svc\")"
   ]
  },
  {
   "cell_type": "markdown",
   "metadata": {},
   "source": [
    "### Recombining Initial Train and Validation Sets"
   ]
  },
  {
   "cell_type": "code",
   "execution_count": 38,
   "metadata": {},
   "outputs": [],
   "source": [
    "# #we're now going to retrain our model on the full training set \n",
    "\n",
    "# X_train, X_test, y_train, y_test = train_test_split(X_rs, y_again, test_size=0.2, random_state=42)"
   ]
  },
  {
   "cell_type": "code",
   "execution_count": 39,
   "metadata": {},
   "outputs": [],
   "source": [
    "# #firstly, we run the Robust Scaler that worked out well in our GridSearch\n",
    "\n",
    "# rs = RobustScaler()\n",
    "# rs.fit(X_train)\n",
    "# X_train = rs.transform(X_train)\n",
    "# X_test = rs.transform(X_test)"
   ]
  },
  {
   "cell_type": "code",
   "execution_count": null,
   "metadata": {},
   "outputs": [],
   "source": []
  }
 ],
 "metadata": {
  "kernelspec": {
   "display_name": "Python 3",
   "language": "python",
   "name": "python3"
  },
  "language_info": {
   "codemirror_mode": {
    "name": "ipython",
    "version": 3
   },
   "file_extension": ".py",
   "mimetype": "text/x-python",
   "name": "python",
   "nbconvert_exporter": "python",
   "pygments_lexer": "ipython3",
   "version": "3.7.6"
  }
 },
 "nbformat": 4,
 "nbformat_minor": 4
}

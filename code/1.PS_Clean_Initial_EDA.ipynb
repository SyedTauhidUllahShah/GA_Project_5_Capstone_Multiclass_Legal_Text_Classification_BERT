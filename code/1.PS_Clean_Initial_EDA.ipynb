{
 "cells": [
  {
   "cell_type": "markdown",
   "metadata": {
    "collapsed": true
   },
   "source": [
    "# Capstone Project: Using NLP to Summarize Contracts"
   ]
  },
  {
   "cell_type": "markdown",
   "metadata": {},
   "source": [
    "## Problem Statement \n",
    "Contracts can be long, dense and inaccessible, and a quick way to summarize the topics can give at least a good bird's eye view for legal stakeholders.\n",
    "\n",
    "Can we use NLP models like Transformers or LDA (TBC) to summarize the topics of a contract's content? To measure success, we will use perplexity and coherence, which are topic modelling classification metrics.\n",
    "\n",
    "Perplexity captures how surprised a model is of new data it has not seen before, and is measured as the normalized log-likelihood of a held-out test set - how well does the model represent or reproduce the statistics of the held-out data?\n",
    "\n",
    "Topic Coherence measures score a single topic by measuring the degree of semantic similarity between high scoring words in the topic. These measurements help distinguish between topics that are semantically interpretable topics and topics that are artifacts of statistical inference. \n",
    "\n",
    "* Initial Code adapted from Oguejio for Chibueze's NLP modelling article:\n",
    "https://towardsdatascience.com/nlp-for-topic-modeling-summarization-of-legal-documents-8c89393b1534\n",
    "* Topic Modelling metrics explanation:\n",
    "https://towardsdatascience.com/evaluate-topic-model-in-python-latent-dirichlet-allocation-lda-7d57484bb5d0"
   ]
  },
  {
   "cell_type": "markdown",
   "metadata": {},
   "source": [
    "## Initial Imports"
   ]
  },
  {
   "cell_type": "code",
   "execution_count": 1,
   "metadata": {},
   "outputs": [],
   "source": [
    "import re #we need regex because we're going to parse through textual data"
   ]
  },
  {
   "cell_type": "markdown",
   "metadata": {},
   "source": [
    "You have to run `pip install PyPDF` in your command line terminal."
   ]
  },
  {
   "cell_type": "code",
   "execution_count": 104,
   "metadata": {},
   "outputs": [
    {
     "data": {
      "text/html": [
       "        <script type=\"text/javascript\">\n",
       "        window.PlotlyConfig = {MathJaxConfig: 'local'};\n",
       "        if (window.MathJax) {MathJax.Hub.Config({SVG: {font: \"STIX-Web\"}});}\n",
       "        if (typeof require !== 'undefined') {\n",
       "        require.undef(\"plotly\");\n",
       "        requirejs.config({\n",
       "            paths: {\n",
       "                'plotly': ['https://cdn.plot.ly/plotly-latest.min']\n",
       "            }\n",
       "        });\n",
       "        require(['plotly'], function(Plotly) {\n",
       "            window._Plotly = Plotly;\n",
       "        });\n",
       "        }\n",
       "        </script>\n",
       "        "
      ]
     },
     "metadata": {},
     "output_type": "display_data"
    },
    {
     "data": {
      "text/html": [
       "        <script type=\"text/javascript\">\n",
       "        window.PlotlyConfig = {MathJaxConfig: 'local'};\n",
       "        if (window.MathJax) {MathJax.Hub.Config({SVG: {font: \"STIX-Web\"}});}\n",
       "        if (typeof require !== 'undefined') {\n",
       "        require.undef(\"plotly\");\n",
       "        requirejs.config({\n",
       "            paths: {\n",
       "                'plotly': ['https://cdn.plot.ly/plotly-latest.min']\n",
       "            }\n",
       "        });\n",
       "        require(['plotly'], function(Plotly) {\n",
       "            window._Plotly = Plotly;\n",
       "        });\n",
       "        }\n",
       "        </script>\n",
       "        "
      ]
     },
     "metadata": {},
     "output_type": "display_data"
    }
   ],
   "source": [
    "#importing textual pandas, numpy, as well as PyPDF, \n",
    "# which is a Pure-Python library built as a PDF toolkit.\n",
    "import string \n",
    "import PyPDF2 as p2\n",
    "import numpy as np \n",
    "import pickle\n",
    "import pandas as pd \n",
    "\n",
    "#Imports For Visuals\n",
    "import matplotlib.pyplot as plt\n",
    "#making our square treemap plot larger\n",
    "from matplotlib import rcParams\n",
    "rcParams['figure.figsize'] = 16, 9\n",
    "import seaborn as sns\n",
    "\n",
    "%matplotlib inline\n",
    "\n",
    "#plotly, squarify and cufflinks interactive chart imports\n",
    "\n",
    "from plotly import __version__\n",
    "from plotly.offline import download_plotlyjs, init_notebook_mode, plot, iplot\n",
    "import cufflinks as cf\n",
    "import plotly.express as px #another related library of plotly that makes it easy to draw multiple plots\n",
    "import squarify\n",
    "\n",
    "#we have to make sure this code is run for Jupyter Notebooks otherwise the plots may not happen offline:\n",
    "init_notebook_mode(connected=True)\n",
    "cf.go_offline()"
   ]
  },
  {
   "cell_type": "code",
   "execution_count": 3,
   "metadata": {},
   "outputs": [],
   "source": [
    "# Gensim - a Natural Language Processing package that does ‘Topic Modeling for Humans'\n",
    "import gensim, spacy, logging, warnings\n",
    "import gensim.corpora as corpora\n",
    "from gensim.utils import lemmatize, simple_preprocess\n",
    "from gensim.models import CoherenceModel"
   ]
  },
  {
   "cell_type": "code",
   "execution_count": 4,
   "metadata": {},
   "outputs": [],
   "source": [
    "# NLTK Stop words - imported and also extended\n",
    "import nltk  # for text manipulation \n",
    "from nltk.corpus import stopwords\n",
    "stop_words = stopwords.words('english')\n",
    "stop_words.extend(['from', 'subject', 're', 'edu', \n",
    "                   'use', 'not', 'would', 'say', 'could', '_', \n",
    "                   'be', 'know', 'good', 'go', 'get', 'do', 'done', \n",
    "                   'try', 'many', 'some', 'nice', 'thank', 'think', \n",
    "                   'see', 'rather', 'easy', 'easily', \n",
    "                   'lot', 'lack', 'make', 'want', \n",
    "                   'seem', 'run', 'need', 'even', \n",
    "                   'right', 'line', 'even', 'also', 'may', 'take', 'come'])"
   ]
  },
  {
   "cell_type": "markdown",
   "metadata": {},
   "source": [
    "in command line terminal, type `python -m spacy download en_core_web_md`"
   ]
  },
  {
   "cell_type": "code",
   "execution_count": 5,
   "metadata": {},
   "outputs": [],
   "source": [
    "import re    # for regular expressions \n",
    "import spacy # another text processing library like nltk\n",
    "import en_core_web_md \n",
    "\n",
    "#en core web md is from spacy. it's an English multi-task CNN trained on OntoNotes, \n",
    "#with GloVe vectors trained on Common Crawl. \n",
    "#Assigns word vectors, POS tags, dependency parse and named entities.\n",
    "#https://spacy.io/models/en#en_core_web_md\n",
    "\n",
    "nlp = en_core_web_md.load()"
   ]
  },
  {
   "cell_type": "markdown",
   "metadata": {},
   "source": [
    "## Reading in PDF Data then Converting to Pandas"
   ]
  },
  {
   "cell_type": "code",
   "execution_count": 111,
   "metadata": {},
   "outputs": [],
   "source": [
    "#have to pip install pdfminer3, these imports and this loop will convert \n",
    "#whatever pdf is passed in the filepath after \"open\" into text.\n",
    "#https://stackoverflow.com/questions/56494070/how-to-use-pdfminer-six-with-python-3"
   ]
  },
  {
   "cell_type": "code",
   "execution_count": 56,
   "metadata": {},
   "outputs": [
    {
     "name": "stdout",
     "output_type": "stream",
     "text": [
      "TRADEMARK AND DOMAIN NAME AGREEMENT \n",
      "\n",
      "This agreement (the “Agreement”) is by and between ____________________________ \n",
      "\n",
      " \n",
      " \n",
      "(“Party”) and Eclipse Foundation, Inc. (“Eclipse”) and is effective as of [______] [_____],  \n",
      "201[__] (the “Effective Date”). \n",
      " \n",
      "\n",
      "WHEREAS, Party is the owner of certain trademarks identified in Exhibit A (the \n",
      "\n",
      "“Trademarks”) and of certain domain names identified in Exhibit A (the “Domain Names”); \n",
      "\n",
      " \n",
      "WHEREAS, Party is desirous of Eclipse to initiate a project or working group with a \n",
      "\n",
      "name based on the Trademark (the “Project Initiation”); \n",
      "\n",
      " \n",
      "WHEREAS, to accommodate the Project Initiation, Party desires to transfer all of Party’s \n",
      "\n",
      "rights, title and interest in and to the Trademarks to Eclipse and to thereafter have certain \n",
      "continuing usage rights of the Trademarks; \n",
      "\n",
      " \n",
      "WHEREAS, to accommodate the Project Initiation, the Parties may mutually agree to \n",
      "have any related Domain Names initially redirect to a URL designated by Eclipse and that the \n",
      "Domain Names are subsequently transferred to Eclipse; \n",
      "\n",
      " \n",
      "In consideration of the foregoing and for other good and valuable consideration, the \n",
      "\n",
      "receipt and sufficiency of which is hereby acknowledged, the parties agree as follows: \n",
      "\n",
      " \n",
      "1. \n",
      "\n",
      "Trademark Assignment.  Party irrevocably assigns, grants and transfers to \n",
      "\n",
      "Eclipse, all of Party’s right, title, and interest in and to the Trademarks, including all common \n",
      "law rights, and any trademark registrations and applications, along with the goodwill of the \n",
      "business symbolized by use of the Trademarks, and the right to sue third parties for and recover \n",
      "damages from future infringement of the Trademarks, the same to be held and enjoyed by \n",
      "Eclipse for its own use and enjoyment and the use and enjoyment of its successors, assigns or \n",
      "other legal representatives, as fully and entirely as the same would have been held and enjoyed \n",
      "by Party if this assignment had not been made (the “Assignment”).   \n",
      "\n",
      "To the extent that Party is seeking to perfect the ownership of the Trademarks and \n",
      "\n",
      "Party’s ownership of the Trademarks has not been perfected by the Effective Date, Party agrees \n",
      "to promptly assign ownership of the Trademarks to Eclipse, in accordance with the terms of this \n",
      "Agreement, as soon as such ownership has been perfected.  Party further agrees to take all steps \n",
      "necessary to promptly expedite any perfection of their ownership in and to the Trademarks.   \n",
      "Party hereby authorizes the Commissioner of Patents and Trademarks of the United States, and \n",
      "any official of any other country empowered to issue trademark registrations, to record this \n",
      "Assignment, and to issue or transfer said Trademarks to Eclipse as owner of all right, title and \n",
      "interest therein, or otherwise as Eclipse may direct, in accordance with the terms of the \n",
      "Assignment. \n",
      "\n",
      "2. \n",
      "\n",
      "Trademark Usage.  Eclipse hereby confirms that Party shall have all applicable \n",
      "rights  to use the Trademarks in accordance with the then current version of the Guidelines for \n",
      "Eclipse Logo and Trademarks currently available at: \n",
      "\n",
      " \n",
      "\n",
      "Page 1 of 5 \n",
      "\n",
      "\f",
      "http://www.eclipse.org/legal/logo_guidelines.php, as may be amended from time to time  (the \n",
      "“Trademark Guidelines”).  \n",
      "\n",
      "3. \n",
      "\n",
      "Domain Names.  Upon the mutual agreement of the Parties, as of the date Eclipse \n",
      "\n",
      "formally approves the Project (the “Project Effective Date”), Party shall cause any related \n",
      "Domain Names (including all sub-domains and related URLs) to redirect directly to the URLs \n",
      "designated by Eclipse with no interstitial content.  Within ten (10) days of the Project Effective \n",
      "Date, Party shall transfer to Eclipse Party’s entire right, title and interest to the Domain Names.   \n",
      "\n",
      "4. \n",
      "\n",
      "Execution and Delivery.  Upon Eclipse’s request, Party agrees that it will take \n",
      "such actions and execute such documents (including, without limitation, the prompt execution \n",
      "and delivery of documents in recordable form or testifying as to any material fact or thing and \n",
      "including the transfer of any domain names through appropriate communications with domain \n",
      "name registrars) as may be necessary to vest in and secure unto Eclipse the full right, title and \n",
      "interest in and to the Trademarks and Domain Names and to protect and enforce the Trademarks. \n",
      "\n",
      "5. \n",
      "\n",
      "Representations and Warranties.  Party represents and warrants that Party has the \n",
      "full right to convey the entire right, title and interest herein assigned, and that Party will not take \n",
      "any action, use any trademark or domain name, or execute any instrument or grant or transfer \n",
      "any rights, title or interests inconsistent with the rights, title and interests assigned herein. \n",
      "\n",
      "6. \n",
      "\n",
      "Warranty Disclaimer.  PARTY MAKES NO WARRANTIES, EXPRESS OR \n",
      "\n",
      "IMPLIED, TO ANY PERSON OR ENTITY WITH RESPECT TO THE TRADEMARKS OR \n",
      "ANY RELATED MATERIALS PROVIDED HEREUNDER, ALL OF WHICH ARE \n",
      "PROVIDED \"AS IS,\" AND DISCLAIMS ALL IMPLIED WARRANTIES, INCLUDING \n",
      "WITHOUT LIMITATION WARRANTIES OF MERCHANTABILITY, FITNESS FOR A \n",
      "PARTICULAR PURPOSE, TITLE AND NONINFRINGEMENT. \n",
      "\n",
      "7. \n",
      "\n",
      "Limitation of Liability.  IN NO EVENT WILL EITHER PARTY BE LIABLE \n",
      "\n",
      "FOR ANY SPECIAL, INCIDENTAL OR CONSEQUENTIAL DAMAGES ARISING FROM \n",
      "OR RELATED TO THE USE OF THE TRADEMARKS, EVEN IF ADVISED OF THE \n",
      "POSSIBILITY OF SUCH DAMAGES.   \n",
      "\n",
      "8. \n",
      "\n",
      "Miscellaneous. \n",
      "\n",
      "a. \n",
      "\n",
      "b. \n",
      "\n",
      "c. \n",
      "\n",
      "Independent Contractors.  The parties hereto are independent contractors \n",
      "and are not partners, joint venturers or otherwise affiliated, and neither \n",
      "party has any right or authority to bind the other in any way. \n",
      "\n",
      "Assignment.  Eclipse may not assign this Agreement or any of its rights or \n",
      "obligations under this Agreement without the prior written consent of \n",
      "Party. \n",
      "\n",
      "Notices.  All notices, requests, demands and other communications \n",
      "required or permitted to be given under this Agreement shall be in writing \n",
      "and shall be deemed to have been duly given only if personally delivered, \n",
      "delivered by a major commercial rapid delivery courier service with \n",
      "tracking capabilities, costs prepaid, or mailed by certified or registered \n",
      "\n",
      " \n",
      "\n",
      "Page 2 of 5 \n",
      "\n",
      "\f",
      "If to Party: \n",
      " \n",
      " \n",
      "\n",
      " \n",
      " \n",
      "\n",
      "If to Eclipse: \n",
      " \n",
      " \n",
      " \n",
      "\n",
      " \n",
      " \n",
      " \n",
      "\n",
      " \n",
      "\n",
      " \n",
      "\n",
      "d. \n",
      "\n",
      "e. \n",
      "\n",
      "f. \n",
      "\n",
      "g. \n",
      "\n",
      "h. \n",
      "\n",
      "mail, return receipt requested, postage prepaid, to a party at the address set \n",
      "forth below or such other address as a party last provided to the other by \n",
      "written notice: \n",
      "\n",
      " \n",
      " \n",
      " \n",
      "\n",
      " \n",
      " \n",
      " \n",
      " \n",
      "\n",
      " \n",
      "\n",
      "___________________________ \n",
      "___________________________ \n",
      "___________________________ \n",
      "\n",
      "Eclipse Foundation, Inc. \n",
      "102 Centrepointe Drive \n",
      "Ottawa, Ontario \n",
      "Canada, K2G 6B1 \n",
      "\n",
      " \n",
      "\n",
      " \n",
      "\n",
      " \n",
      "\n",
      " \n",
      "\n",
      "Modification and Waiver.  The failure of either party to enforce its rights \n",
      "or to require performance by the other party of any term or condition of \n",
      "this Agreement shall not be construed as a waiver of such rights or of its \n",
      "right to require future performance of that term or condition.  Any \n",
      "amendment or modification of this Agreement or any waiver of any \n",
      "breach of any term or condition of this Agreement must be in a writing \n",
      "signed by both parties in order to be effective and shall not be construed as \n",
      "a waiver of any continuing or succeeding breach of such term or \n",
      "condition, a waiver of the term or condition itself or a waiver of any right \n",
      "under this Agreement. \n",
      "\n",
      "Governing Law.  This Agreement shall be governed and interpreted under \n",
      "the laws of the State of New York without regard to the conflicts of law \n",
      "provisions thereof. \n",
      "\n",
      "Headings.  Headings and captions are for convenience of reference only \n",
      "and shall not be deemed to interpret, supersede or modify any provisions \n",
      "of this Agreement. \n",
      "\n",
      "Severability.  In the event that any provision of this Agreement shall be \n",
      "determined by a court of competent jurisdiction to be illegal or \n",
      "unenforceable, that provision will be limited or eliminated to the minimum \n",
      "extent necessary so that this Agreement shall otherwise remain in full \n",
      "force and effect and enforceable. \n",
      "\n",
      "Entire Agreement.  Upon execution by both parties, this Agreement shall \n",
      "constitute the entire agreement between the parties with respect to the \n",
      "subject matter hereof and supersedes all discussions, negotiations, \n",
      "agreements and past dealings, either oral or written, between or among the \n",
      "parties relating to the subject matter hereof. \n",
      "\n",
      "Page 3 of 5 \n",
      "\n",
      " \n",
      " \n",
      " \n",
      " \n",
      " \n",
      " \n",
      " \n",
      " \n",
      " \n",
      " \n",
      " \n",
      " \n",
      "\n",
      " \n",
      "\n",
      "\f",
      "i. \n",
      "\n",
      "Non-Exclusive Remedies.  The rights and remedies of a party set forth \n",
      "herein are not exclusive, the exercise thereof shall not constitute an \n",
      "election of remedies and the aggrieved party shall in all events be entitled \n",
      "to seek whatever additional remedies may be available in law or in equity. \n",
      "\n",
      " \n",
      "Each party represents and warrants that it has full right, power and authority to enter into this \n",
      "Agreement and perform all of its obligations hereunder. \n",
      " \n",
      "IN WITNESS WHEREOF, the parties hereto have each caused this Agreement to be executed by \n",
      "their authorized representatives. \n",
      " \n",
      "COMPANY NAME:  ____________________  \n",
      " \n",
      "Dated: _________________________ \n",
      " \n",
      "                                                                                       Name: __________________________ \n",
      " \n",
      "                                                                                         Title: __________________________ \n",
      " \n",
      " \n",
      "ECLIPSE FOUNDATION, INC. \n",
      " \n",
      "Dated: __________________________ \n",
      " \n",
      "                                                                                        Name: __________________________ \n",
      " \n",
      "                                                                                          Title: __________________________ \n",
      " \n",
      "\n",
      " Signature: __________________________ \n",
      "\n",
      " Signature: __________________________ \n",
      "\n",
      " \n",
      "\n",
      " \n",
      "\n",
      " \n",
      "\n",
      " \n",
      "\n",
      " \n",
      "\n",
      "Page 4 of 5 \n",
      "\n",
      "\f",
      "Exhibit A \n",
      "\n",
      "1. \n",
      "\n",
      "Trademarks: \n",
      "\n",
      "Registered \n",
      "\n",
      "Mark \n",
      "\n",
      "Serial No. \n",
      "\n",
      "Filing Date \n",
      "\n",
      "Reg. No. \n",
      "\n",
      "Jurisdiction \n",
      "of \n",
      "Registration \n",
      "\n",
      "Reg. Date. \n",
      "\n",
      " \n",
      " \n",
      " \n",
      " \n",
      " \n",
      " \n",
      "\n",
      " \n",
      " \n",
      " \n",
      " \n",
      " \n",
      " \n",
      "\n",
      " \n",
      " \n",
      " \n",
      " \n",
      " \n",
      " \n",
      "\n",
      " \n",
      " \n",
      " \n",
      " \n",
      " \n",
      " \n",
      "\n",
      " \n",
      " \n",
      " \n",
      " \n",
      " \n",
      " \n",
      "\n",
      " \n",
      " \n",
      " \n",
      " \n",
      " \n",
      " \n",
      "\n",
      " \n",
      "\n",
      "Unregistered \n",
      "\n",
      "[List all trademarks] \n",
      "\n",
      " \n",
      "\n",
      " \n",
      "\n",
      " \n",
      "\n",
      " \n",
      "\n",
      " \n",
      "\n",
      "2. \n",
      "\n",
      "Domain Names: \n",
      "\n",
      "[List Domain Names to be transferred (if any)] \n",
      "\n",
      " \n",
      "\n",
      " \n",
      " \n",
      " \n",
      " \n",
      " \n",
      " \n",
      " \n",
      "\n",
      " \n",
      "\n",
      "Page 5 of 5 \n",
      "\n",
      "\f",
      "\n"
     ]
    }
   ],
   "source": [
    "from pdfminer3.layout import LAParams, LTTextBox\n",
    "from pdfminer3.pdfpage import PDFPage\n",
    "from pdfminer3.pdfinterp import PDFResourceManager\n",
    "from pdfminer3.pdfinterp import PDFPageInterpreter\n",
    "from pdfminer3.converter import PDFPageAggregator\n",
    "from pdfminer3.converter import TextConverter\n",
    "import io\n",
    "\n",
    "resource_manager = PDFResourceManager()\n",
    "fake_file_handle = io.StringIO()\n",
    "converter = TextConverter(resource_manager, fake_file_handle, laparams=LAParams())\n",
    "page_interpreter = PDFPageInterpreter(resource_manager, converter)\n",
    "\n",
    "with open('../data/contract_sample.pdf', 'rb') as fh:\n",
    "\n",
    "    for page in PDFPage.get_pages(fh,\n",
    "                                  caching=True,\n",
    "                                  check_extractable=True):\n",
    "        page_interpreter.process_page(page)\n",
    "\n",
    "    text = fake_file_handle.getvalue()\n",
    "\n",
    "# close open handles\n",
    "converter.close()\n",
    "fake_file_handle.close()\n",
    "\n",
    "print(text)"
   ]
  },
  {
   "cell_type": "code",
   "execution_count": 60,
   "metadata": {},
   "outputs": [
    {
     "data": {
      "text/plain": [
       "str"
      ]
     },
     "execution_count": 60,
     "metadata": {},
     "output_type": "execute_result"
    }
   ],
   "source": [
    "type(text)\n",
    "\n",
    "#we just created one gigantic string"
   ]
  },
  {
   "cell_type": "code",
   "execution_count": 65,
   "metadata": {},
   "outputs": [],
   "source": [
    "#read the text as a list\n",
    "\n",
    "text_list = text.split(\"delimiter\")"
   ]
  },
  {
   "cell_type": "code",
   "execution_count": 66,
   "metadata": {
    "scrolled": false
   },
   "outputs": [
    {
     "data": {
      "text/plain": [
       "['TRADEMARK AND DOMAIN NAME AGREEMENT \\n\\nThis agreement (the “Agreement”) is by and between ____________________________ \\n\\n \\n \\n(“Party”) and Eclipse Foundation, Inc. (“Eclipse”) and is effective as of [______] [_____],  \\n201[__] (the “Effective Date”). \\n \\n\\nWHEREAS, Party is the owner of certain trademarks identified in Exhibit A (the \\n\\n“Trademarks”) and of certain domain names identified in Exhibit A (the “Domain Names”); \\n\\n \\nWHEREAS, Party is desirous of Eclipse to initiate a project or working group with a \\n\\nname based on the Trademark (the “Project Initiation”); \\n\\n \\nWHEREAS, to accommodate the Project Initiation, Party desires to transfer all of Party’s \\n\\nrights, title and interest in and to the Trademarks to Eclipse and to thereafter have certain \\ncontinuing usage rights of the Trademarks; \\n\\n \\nWHEREAS, to accommodate the Project Initiation, the Parties may mutually agree to \\nhave any related Domain Names initially redirect to a URL designated by Eclipse and that the \\nDomain Names are subsequently transferred to Eclipse; \\n\\n \\nIn consideration of the foregoing and for other good and valuable consideration, the \\n\\nreceipt and sufficiency of which is hereby acknowledged, the parties agree as follows: \\n\\n \\n1. \\n\\nTrademark Assignment.  Party irrevocably assigns, grants and transfers to \\n\\nEclipse, all of Party’s right, title, and interest in and to the Trademarks, including all common \\nlaw rights, and any trademark registrations and applications, along with the goodwill of the \\nbusiness symbolized by use of the Trademarks, and the right to sue third parties for and recover \\ndamages from future infringement of the Trademarks, the same to be held and enjoyed by \\nEclipse for its own use and enjoyment and the use and enjoyment of its successors, assigns or \\nother legal representatives, as fully and entirely as the same would have been held and enjoyed \\nby Party if this assignment had not been made (the “Assignment”).   \\n\\nTo the extent that Party is seeking to perfect the ownership of the Trademarks and \\n\\nParty’s ownership of the Trademarks has not been perfected by the Effective Date, Party agrees \\nto promptly assign ownership of the Trademarks to Eclipse, in accordance with the terms of this \\nAgreement, as soon as such ownership has been perfected.  Party further agrees to take all steps \\nnecessary to promptly expedite any perfection of their ownership in and to the Trademarks.   \\nParty hereby authorizes the Commissioner of Patents and Trademarks of the United States, and \\nany official of any other country empowered to issue trademark registrations, to record this \\nAssignment, and to issue or transfer said Trademarks to Eclipse as owner of all right, title and \\ninterest therein, or otherwise as Eclipse may direct, in accordance with the terms of the \\nAssignment. \\n\\n2. \\n\\nTrademark Usage.  Eclipse hereby confirms that Party shall have all applicable \\nrights  to use the Trademarks in accordance with the then current version of the Guidelines for \\nEclipse Logo and Trademarks currently available at: \\n\\n \\n\\nPage 1 of 5 \\n\\n\\x0chttp://www.eclipse.org/legal/logo_guidelines.php, as may be amended from time to time  (the \\n“Trademark Guidelines”).  \\n\\n3. \\n\\nDomain Names.  Upon the mutual agreement of the Parties, as of the date Eclipse \\n\\nformally approves the Project (the “Project Effective Date”), Party shall cause any related \\nDomain Names (including all sub-domains and related URLs) to redirect directly to the URLs \\ndesignated by Eclipse with no interstitial content.  Within ten (10) days of the Project Effective \\nDate, Party shall transfer to Eclipse Party’s entire right, title and interest to the Domain Names.   \\n\\n4. \\n\\nExecution and Delivery.  Upon Eclipse’s request, Party agrees that it will take \\nsuch actions and execute such documents (including, without limitation, the prompt execution \\nand delivery of documents in recordable form or testifying as to any material fact or thing and \\nincluding the transfer of any domain names through appropriate communications with domain \\nname registrars) as may be necessary to vest in and secure unto Eclipse the full right, title and \\ninterest in and to the Trademarks and Domain Names and to protect and enforce the Trademarks. \\n\\n5. \\n\\nRepresentations and Warranties.  Party represents and warrants that Party has the \\nfull right to convey the entire right, title and interest herein assigned, and that Party will not take \\nany action, use any trademark or domain name, or execute any instrument or grant or transfer \\nany rights, title or interests inconsistent with the rights, title and interests assigned herein. \\n\\n6. \\n\\nWarranty Disclaimer.  PARTY MAKES NO WARRANTIES, EXPRESS OR \\n\\nIMPLIED, TO ANY PERSON OR ENTITY WITH RESPECT TO THE TRADEMARKS OR \\nANY RELATED MATERIALS PROVIDED HEREUNDER, ALL OF WHICH ARE \\nPROVIDED \"AS IS,\" AND DISCLAIMS ALL IMPLIED WARRANTIES, INCLUDING \\nWITHOUT LIMITATION WARRANTIES OF MERCHANTABILITY, FITNESS FOR A \\nPARTICULAR PURPOSE, TITLE AND NONINFRINGEMENT. \\n\\n7. \\n\\nLimitation of Liability.  IN NO EVENT WILL EITHER PARTY BE LIABLE \\n\\nFOR ANY SPECIAL, INCIDENTAL OR CONSEQUENTIAL DAMAGES ARISING FROM \\nOR RELATED TO THE USE OF THE TRADEMARKS, EVEN IF ADVISED OF THE \\nPOSSIBILITY OF SUCH DAMAGES.   \\n\\n8. \\n\\nMiscellaneous. \\n\\na. \\n\\nb. \\n\\nc. \\n\\nIndependent Contractors.  The parties hereto are independent contractors \\nand are not partners, joint venturers or otherwise affiliated, and neither \\nparty has any right or authority to bind the other in any way. \\n\\nAssignment.  Eclipse may not assign this Agreement or any of its rights or \\nobligations under this Agreement without the prior written consent of \\nParty. \\n\\nNotices.  All notices, requests, demands and other communications \\nrequired or permitted to be given under this Agreement shall be in writing \\nand shall be deemed to have been duly given only if personally delivered, \\ndelivered by a major commercial rapid delivery courier service with \\ntracking capabilities, costs prepaid, or mailed by certified or registered \\n\\n \\n\\nPage 2 of 5 \\n\\n\\x0cIf to Party: \\n \\n \\n\\n \\n \\n\\nIf to Eclipse: \\n \\n \\n \\n\\n \\n \\n \\n\\n \\n\\n \\n\\nd. \\n\\ne. \\n\\nf. \\n\\ng. \\n\\nh. \\n\\nmail, return receipt requested, postage prepaid, to a party at the address set \\nforth below or such other address as a party last provided to the other by \\nwritten notice: \\n\\n \\n \\n \\n\\n \\n \\n \\n \\n\\n \\n\\n___________________________ \\n___________________________ \\n___________________________ \\n\\nEclipse Foundation, Inc. \\n102 Centrepointe Drive \\nOttawa, Ontario \\nCanada, K2G 6B1 \\n\\n \\n\\n \\n\\n \\n\\n \\n\\nModification and Waiver.  The failure of either party to enforce its rights \\nor to require performance by the other party of any term or condition of \\nthis Agreement shall not be construed as a waiver of such rights or of its \\nright to require future performance of that term or condition.  Any \\namendment or modification of this Agreement or any waiver of any \\nbreach of any term or condition of this Agreement must be in a writing \\nsigned by both parties in order to be effective and shall not be construed as \\na waiver of any continuing or succeeding breach of such term or \\ncondition, a waiver of the term or condition itself or a waiver of any right \\nunder this Agreement. \\n\\nGoverning Law.  This Agreement shall be governed and interpreted under \\nthe laws of the State of New York without regard to the conflicts of law \\nprovisions thereof. \\n\\nHeadings.  Headings and captions are for convenience of reference only \\nand shall not be deemed to interpret, supersede or modify any provisions \\nof this Agreement. \\n\\nSeverability.  In the event that any provision of this Agreement shall be \\ndetermined by a court of competent jurisdiction to be illegal or \\nunenforceable, that provision will be limited or eliminated to the minimum \\nextent necessary so that this Agreement shall otherwise remain in full \\nforce and effect and enforceable. \\n\\nEntire Agreement.  Upon execution by both parties, this Agreement shall \\nconstitute the entire agreement between the parties with respect to the \\nsubject matter hereof and supersedes all discussions, negotiations, \\nagreements and past dealings, either oral or written, between or among the \\nparties relating to the subject matter hereof. \\n\\nPage 3 of 5 \\n\\n \\n \\n \\n \\n \\n \\n \\n \\n \\n \\n \\n \\n\\n \\n\\n\\x0ci. \\n\\nNon-Exclusive Remedies.  The rights and remedies of a party set forth \\nherein are not exclusive, the exercise thereof shall not constitute an \\nelection of remedies and the aggrieved party shall in all events be entitled \\nto seek whatever additional remedies may be available in law or in equity. \\n\\n \\nEach party represents and warrants that it has full right, power and authority to enter into this \\nAgreement and perform all of its obligations hereunder. \\n \\nIN WITNESS WHEREOF, the parties hereto have each caused this Agreement to be executed by \\ntheir authorized representatives. \\n \\nCOMPANY NAME:  ____________________  \\n \\nDated: _________________________ \\n \\n                                                                                       Name: __________________________ \\n \\n                                                                                         Title: __________________________ \\n \\n \\nECLIPSE FOUNDATION, INC. \\n \\nDated: __________________________ \\n \\n                                                                                        Name: __________________________ \\n \\n                                                                                          Title: __________________________ \\n \\n\\n Signature: __________________________ \\n\\n Signature: __________________________ \\n\\n \\n\\n \\n\\n \\n\\n \\n\\n \\n\\nPage 4 of 5 \\n\\n\\x0cExhibit A \\n\\n1. \\n\\nTrademarks: \\n\\nRegistered \\n\\nMark \\n\\nSerial No. \\n\\nFiling Date \\n\\nReg. No. \\n\\nJurisdiction \\nof \\nRegistration \\n\\nReg. Date. \\n\\n \\n \\n \\n \\n \\n \\n\\n \\n \\n \\n \\n \\n \\n\\n \\n \\n \\n \\n \\n \\n\\n \\n \\n \\n \\n \\n \\n\\n \\n \\n \\n \\n \\n \\n\\n \\n \\n \\n \\n \\n \\n\\n \\n\\nUnregistered \\n\\n[List all trademarks] \\n\\n \\n\\n \\n\\n \\n\\n \\n\\n \\n\\n2. \\n\\nDomain Names: \\n\\n[List Domain Names to be transferred (if any)] \\n\\n \\n\\n \\n \\n \\n \\n \\n \\n \\n\\n \\n\\nPage 5 of 5 \\n\\n\\x0c']"
      ]
     },
     "execution_count": 66,
     "metadata": {},
     "output_type": "execute_result"
    }
   ],
   "source": [
    "text_list"
   ]
  },
  {
   "cell_type": "markdown",
   "metadata": {},
   "source": [
    "The list is full of unwanted textual elements like line breaks, quotation marks, and underscores. All this will be removed in further down."
   ]
  },
  {
   "cell_type": "code",
   "execution_count": 110,
   "metadata": {
    "scrolled": true
   },
   "outputs": [],
   "source": [
    "#let's convert this into a DataFrame for now.\n",
    "text_frame = pd.DataFrame(text_list, columns=[\"contract_text\"])"
   ]
  },
  {
   "cell_type": "code",
   "execution_count": 78,
   "metadata": {},
   "outputs": [],
   "source": [
    "#we're gonna have to read a lot of words in columns, so let's expand the column width:\n",
    "pd.set_option(\"display.max_colwidth\", 1000)\n"
   ]
  },
  {
   "cell_type": "code",
   "execution_count": 84,
   "metadata": {},
   "outputs": [
    {
     "data": {
      "text/html": [
       "<div>\n",
       "<style scoped>\n",
       "    .dataframe tbody tr th:only-of-type {\n",
       "        vertical-align: middle;\n",
       "    }\n",
       "\n",
       "    .dataframe tbody tr th {\n",
       "        vertical-align: top;\n",
       "    }\n",
       "\n",
       "    .dataframe thead th {\n",
       "        text-align: right;\n",
       "    }\n",
       "</style>\n",
       "<table border=\"1\" class=\"dataframe\">\n",
       "  <thead>\n",
       "    <tr style=\"text-align: right;\">\n",
       "      <th></th>\n",
       "      <th>contract_text</th>\n",
       "    </tr>\n",
       "  </thead>\n",
       "  <tbody>\n",
       "    <tr>\n",
       "      <th>0</th>\n",
       "      <td>TRADEMARK AND DOMAIN NAME AGREEMENT \\n\\nThis agreement (the “Agreement”) is by and between ____________________________ \\n\\n \\n \\n(“Party”) and Eclipse Foundation, Inc. (“Eclipse”) and is effective as of [______] [_____],  \\n201[__] (the “Effective Date”). \\n \\n\\nWHEREAS, Party is the owner of certain trademarks identified in Exhibit A (the \\n\\n“Trademarks”) and of certain domain names identified in Exhibit A (the “Domain Names”); \\n\\n \\nWHEREAS, Party is desirous of Eclipse to initiate a project or working group with a \\n\\nname based on the Trademark (the “Project Initiation”); \\n\\n \\nWHEREAS, to accommodate the Project Initiation, Party desires to transfer all of Party’s \\n\\nrights, title and interest in and to the Trademarks to Eclipse and to thereafter have certain \\ncontinuing usage rights of the Trademarks; \\n\\n \\nWHEREAS, to accommodate the Project Initiation, the Parties may mutually agree to \\nhave any related Domain Names initially redirect to a URL designated by Eclipse ...</td>\n",
       "    </tr>\n",
       "  </tbody>\n",
       "</table>\n",
       "</div>"
      ],
      "text/plain": [
       "                                                                                                                                                                                                                                                                                                                                                                                                                                                                                                                                                                                                                                                                                                                                                                                                                                                                                                                                                                                                                             contract_text\n",
       "0  TRADEMARK AND DOMAIN NAME AGREEMENT \\n\\nThis agreement (the “Agreement”) is by and between ____________________________ \\n\\n \\n \\n(“Party”) and Eclipse Foundation, Inc. (“Eclipse”) and is effective as of [______] [_____],  \\n201[__] (the “Effective Date”). \\n \\n\\nWHEREAS, Party is the owner of certain trademarks identified in Exhibit A (the \\n\\n“Trademarks”) and of certain domain names identified in Exhibit A (the “Domain Names”); \\n\\n \\nWHEREAS, Party is desirous of Eclipse to initiate a project or working group with a \\n\\nname based on the Trademark (the “Project Initiation”); \\n\\n \\nWHEREAS, to accommodate the Project Initiation, Party desires to transfer all of Party’s \\n\\nrights, title and interest in and to the Trademarks to Eclipse and to thereafter have certain \\ncontinuing usage rights of the Trademarks; \\n\\n \\nWHEREAS, to accommodate the Project Initiation, the Parties may mutually agree to \\nhave any related Domain Names initially redirect to a URL designated by Eclipse ..."
      ]
     },
     "execution_count": 84,
     "metadata": {},
     "output_type": "execute_result"
    }
   ],
   "source": [
    "df = text_frame\n",
    "\n",
    "df"
   ]
  },
  {
   "cell_type": "markdown",
   "metadata": {},
   "source": [
    "# Cleaning and Pre-Processing\n",
    "\n",
    "For our columns `title` and `selftext`, we will need to convert the text into a \"bag of words\" i.e. unique words in a text represented by a number. To facilitate this we must first pre-process by \n",
    "\n",
    "    1. getting rid of punctuation and non-words using RegEx, \n",
    "    2. lowercasing everything, \n",
    "    3. removing \"stop words\" i.e. conjunctive/article type words with no substantial meaning for content, \n",
    "    4. lemmatizing e.g. contracting words like run/ran/runs into run."
   ]
  },
  {
   "cell_type": "code",
   "execution_count": 81,
   "metadata": {},
   "outputs": [],
   "source": [
    "#this requires new imports for our custom function:\n",
    "\n",
    "from nltk.stem import WordNetLemmatizer\n",
    "from nltk.tokenize import RegexpTokenizer\n",
    "from nltk.corpus import stopwords\n",
    "\n",
    "import regex as re"
   ]
  },
  {
   "cell_type": "code",
   "execution_count": 82,
   "metadata": {},
   "outputs": [],
   "source": [
    "#instantiate the lemmatizer\n",
    "\n",
    "lemmatizer = WordNetLemmatizer()"
   ]
  },
  {
   "cell_type": "code",
   "execution_count": 83,
   "metadata": {},
   "outputs": [],
   "source": [
    "#adapted from GA tutorial:\n",
    "\n",
    "def word_cleaner(mess):\n",
    "    \n",
    "    #removing non-letters including spaces\n",
    "    just_letters = re.sub(\"[^a-zA-Z]\", \" \", mess)\n",
    "    \n",
    "    #lower-casing\n",
    "    small_caps = just_letters.lower().split()\n",
    "    \n",
    "    #assign stopwords into a set and then removing those from target text\n",
    "    stops = set(stopwords.words('english'))\n",
    "    important_words = [string for string in small_caps if not string in stops]\n",
    "    \n",
    "    #lemmatize the important words \n",
    "    lem_words_only = [lemmatizer.lemmatize(word) for word in important_words]\n",
    "\n",
    "    #get rid of all the quotation marks\n",
    "    clean_stage1=[i.replace('\\xe2\\x80\\x9c','') for i in lem_words_only]\n",
    "    clean2=[i.replace('\\xe2\\x80\\x9d','') for i in clean_stage1 ]\n",
    "    clean3=[i.replace('\\xe2\\x80\\x99s','') for i in clean2 ]\n",
    "    \n",
    "    #rejoin all the words into a string separated by a space\n",
    "    return(\" \".join(clean3))"
   ]
  },
  {
   "cell_type": "code",
   "execution_count": 87,
   "metadata": {},
   "outputs": [
    {
     "data": {
      "text/plain": [
       "0    trademark domain name agreement agreement agreement party eclipse foundation inc eclipse effective effective date whereas party owner certain trademark identified exhibit trademark certain domain name identified exhibit domain name whereas party desirous eclipse initiate project working group name based trademark project initiation whereas accommodate project initiation party desire transfer party right title interest trademark eclipse thereafter certain continuing usage right trademark whereas accommodate project initiation party may mutually agree related domain name initially redirect url designated eclipse domain name subsequently transferred eclipse consideration foregoing good valuable consideration receipt sufficiency hereby acknowledged party agree follows trademark assignment party irrevocably assigns grant transfer eclipse party right title interest trademark including common law right trademark registration application along goodwill business symbolized use trademark rig...\n",
       "Name: contract_text, dtype: object"
      ]
     },
     "execution_count": 87,
     "metadata": {},
     "output_type": "execute_result"
    }
   ],
   "source": [
    "#using .apply to run the function across the whole selftext column\n",
    "\n",
    "df[\"contract_text\"].apply(word_cleaner)"
   ]
  },
  {
   "cell_type": "code",
   "execution_count": 89,
   "metadata": {},
   "outputs": [],
   "source": [
    "#creating a new, cleaned column to put into our dataframe\n",
    "\n",
    "df['cleaned_text']=df['contract_text'].apply(word_cleaner)"
   ]
  },
  {
   "cell_type": "code",
   "execution_count": 92,
   "metadata": {},
   "outputs": [
    {
     "data": {
      "text/html": [
       "<div>\n",
       "<style scoped>\n",
       "    .dataframe tbody tr th:only-of-type {\n",
       "        vertical-align: middle;\n",
       "    }\n",
       "\n",
       "    .dataframe tbody tr th {\n",
       "        vertical-align: top;\n",
       "    }\n",
       "\n",
       "    .dataframe thead th {\n",
       "        text-align: right;\n",
       "    }\n",
       "</style>\n",
       "<table border=\"1\" class=\"dataframe\">\n",
       "  <thead>\n",
       "    <tr style=\"text-align: right;\">\n",
       "      <th></th>\n",
       "      <th>contract_text</th>\n",
       "      <th>cleaned_text</th>\n",
       "    </tr>\n",
       "  </thead>\n",
       "  <tbody>\n",
       "    <tr>\n",
       "      <th>0</th>\n",
       "      <td>TRADEMARK AND DOMAIN NAME AGREEMENT \\n\\nThis agreement (the “Agreement”) is by and between ____________________________ \\n\\n \\n \\n(“Party”) and Eclipse Foundation, Inc. (“Eclipse”) and is effective as of [______] [_____],  \\n201[__] (the “Effective Date”). \\n \\n\\nWHEREAS, Party is the owner of certain trademarks identified in Exhibit A (the \\n\\n“Trademarks”) and of certain domain names identified in Exhibit A (the “Domain Names”); \\n\\n \\nWHEREAS, Party is desirous of Eclipse to initiate a project or working group with a \\n\\nname based on the Trademark (the “Project Initiation”); \\n\\n \\nWHEREAS, to accommodate the Project Initiation, Party desires to transfer all of Party’s \\n\\nrights, title and interest in and to the Trademarks to Eclipse and to thereafter have certain \\ncontinuing usage rights of the Trademarks; \\n\\n \\nWHEREAS, to accommodate the Project Initiation, the Parties may mutually agree to \\nhave any related Domain Names initially redirect to a URL designated by Eclipse ...</td>\n",
       "      <td>trademark domain name agreement agreement agreement party eclipse foundation inc eclipse effective effective date whereas party owner certain trademark identified exhibit trademark certain domain name identified exhibit domain name whereas party desirous eclipse initiate project working group name based trademark project initiation whereas accommodate project initiation party desire transfer party right title interest trademark eclipse thereafter certain continuing usage right trademark whereas accommodate project initiation party may mutually agree related domain name initially redirect url designated eclipse domain name subsequently transferred eclipse consideration foregoing good valuable consideration receipt sufficiency hereby acknowledged party agree follows trademark assignment party irrevocably assigns grant transfer eclipse party right title interest trademark including common law right trademark registration application along goodwill business symbolized use trademark rig...</td>\n",
       "    </tr>\n",
       "  </tbody>\n",
       "</table>\n",
       "</div>"
      ],
      "text/plain": [
       "                                                                                                                                                                                                                                                                                                                                                                                                                                                                                                                                                                                                                                                                                                                                                                                                                                                                                                                                                                                                                             contract_text  \\\n",
       "0  TRADEMARK AND DOMAIN NAME AGREEMENT \\n\\nThis agreement (the “Agreement”) is by and between ____________________________ \\n\\n \\n \\n(“Party”) and Eclipse Foundation, Inc. (“Eclipse”) and is effective as of [______] [_____],  \\n201[__] (the “Effective Date”). \\n \\n\\nWHEREAS, Party is the owner of certain trademarks identified in Exhibit A (the \\n\\n“Trademarks”) and of certain domain names identified in Exhibit A (the “Domain Names”); \\n\\n \\nWHEREAS, Party is desirous of Eclipse to initiate a project or working group with a \\n\\nname based on the Trademark (the “Project Initiation”); \\n\\n \\nWHEREAS, to accommodate the Project Initiation, Party desires to transfer all of Party’s \\n\\nrights, title and interest in and to the Trademarks to Eclipse and to thereafter have certain \\ncontinuing usage rights of the Trademarks; \\n\\n \\nWHEREAS, to accommodate the Project Initiation, the Parties may mutually agree to \\nhave any related Domain Names initially redirect to a URL designated by Eclipse ...   \n",
       "\n",
       "                                                                                                                                                                                                                                                                                                                                                                                                                                                                                                                                                                                                                                                                                                                                                                                                                                                                                                                                                                                                                              cleaned_text  \n",
       "0  trademark domain name agreement agreement agreement party eclipse foundation inc eclipse effective effective date whereas party owner certain trademark identified exhibit trademark certain domain name identified exhibit domain name whereas party desirous eclipse initiate project working group name based trademark project initiation whereas accommodate project initiation party desire transfer party right title interest trademark eclipse thereafter certain continuing usage right trademark whereas accommodate project initiation party may mutually agree related domain name initially redirect url designated eclipse domain name subsequently transferred eclipse consideration foregoing good valuable consideration receipt sufficiency hereby acknowledged party agree follows trademark assignment party irrevocably assigns grant transfer eclipse party right title interest trademark including common law right trademark registration application along goodwill business symbolized use trademark rig...  "
      ]
     },
     "execution_count": 92,
     "metadata": {},
     "output_type": "execute_result"
    }
   ],
   "source": [
    "#comparing our cleaned vs messy columns to see what the change looks like\n",
    "df"
   ]
  },
  {
   "cell_type": "code",
   "execution_count": 93,
   "metadata": {},
   "outputs": [],
   "source": [
    "#backing up this dataframe in case things go horribly wrong in Word Vectorization\n",
    "\n",
    "df.to_csv(\"../data/df.csv\", index=False)"
   ]
  },
  {
   "cell_type": "markdown",
   "metadata": {},
   "source": [
    "## Initial Text EDA and Visualization"
   ]
  },
  {
   "cell_type": "code",
   "execution_count": 94,
   "metadata": {},
   "outputs": [],
   "source": [
    "#import the vectorizer,\n",
    "\n",
    "from sklearn.feature_extraction.text import CountVectorizer\n",
    "import scipy.sparse as sp\n",
    "\n",
    "#intialize it and assign as vectorizer \n",
    "vectorizer = CountVectorizer(ngram_range=(1,2))"
   ]
  },
  {
   "cell_type": "code",
   "execution_count": 98,
   "metadata": {},
   "outputs": [],
   "source": [
    "#top words assigned to object\n",
    "cleaned_text = df[\"cleaned_text\"]"
   ]
  },
  {
   "cell_type": "code",
   "execution_count": 99,
   "metadata": {},
   "outputs": [],
   "source": [
    "#turn a series into vectors and then plot the distribution of the top 25 words\n",
    "def vector_barplotter(series, graph_title, x_label):\n",
    "    vectorized_series = vectorizer.fit(series)\n",
    "    series_df = pd.DataFrame(vectorizer.transform(series).todense(),\n",
    "                              columns=vectorizer.get_feature_names())\n",
    "    #we slice the top 25 words \n",
    "    top_25_words=series_df.sum().sort_values(ascending = False).head(25)\n",
    "    \n",
    "    #we plot this on a plotly bar chart by frequency of words.\n",
    "    fig = px.bar(top_25_words, orientation='v', title = graph_title, \n",
    "             labels={\"index\":x_label})\n",
    "    fig.show()"
   ]
  },
  {
   "cell_type": "code",
   "execution_count": 100,
   "metadata": {},
   "outputs": [
    {
     "data": {
      "application/vnd.plotly.v1+json": {
       "config": {
        "plotlyServerURL": "https://plot.ly"
       },
       "data": [
        {
         "alignmentgroup": "True",
         "hovertemplate": "variable=0<br>words=%{x}<br>value=%{y}<extra></extra>",
         "legendgroup": "0",
         "marker": {
          "color": "#636efa"
         },
         "name": "0",
         "offsetgroup": "0",
         "orientation": "v",
         "showlegend": true,
         "textposition": "auto",
         "type": "bar",
         "x": [
          "party",
          "trademark",
          "eclipse",
          "agreement",
          "right",
          "name",
          "domain",
          "shall",
          "domain name",
          "title",
          "interest",
          "right title",
          "title interest",
          "project",
          "term",
          "date",
          "effective",
          "use",
          "waiver",
          "transfer",
          "assignment",
          "may",
          "agreement shall",
          "including",
          "page"
         ],
         "xaxis": "x",
         "y": [
          43,
          29,
          23,
          22,
          21,
          18,
          15,
          14,
          14,
          11,
          8,
          8,
          8,
          7,
          7,
          7,
          6,
          6,
          6,
          6,
          6,
          6,
          6,
          5,
          5
         ],
         "yaxis": "y"
        }
       ],
       "layout": {
        "barmode": "relative",
        "legend": {
         "title": {
          "text": "variable"
         },
         "tracegroupgap": 0
        },
        "template": {
         "data": {
          "bar": [
           {
            "error_x": {
             "color": "#2a3f5f"
            },
            "error_y": {
             "color": "#2a3f5f"
            },
            "marker": {
             "line": {
              "color": "#E5ECF6",
              "width": 0.5
             }
            },
            "type": "bar"
           }
          ],
          "barpolar": [
           {
            "marker": {
             "line": {
              "color": "#E5ECF6",
              "width": 0.5
             }
            },
            "type": "barpolar"
           }
          ],
          "carpet": [
           {
            "aaxis": {
             "endlinecolor": "#2a3f5f",
             "gridcolor": "white",
             "linecolor": "white",
             "minorgridcolor": "white",
             "startlinecolor": "#2a3f5f"
            },
            "baxis": {
             "endlinecolor": "#2a3f5f",
             "gridcolor": "white",
             "linecolor": "white",
             "minorgridcolor": "white",
             "startlinecolor": "#2a3f5f"
            },
            "type": "carpet"
           }
          ],
          "choropleth": [
           {
            "colorbar": {
             "outlinewidth": 0,
             "ticks": ""
            },
            "type": "choropleth"
           }
          ],
          "contour": [
           {
            "colorbar": {
             "outlinewidth": 0,
             "ticks": ""
            },
            "colorscale": [
             [
              0,
              "#0d0887"
             ],
             [
              0.1111111111111111,
              "#46039f"
             ],
             [
              0.2222222222222222,
              "#7201a8"
             ],
             [
              0.3333333333333333,
              "#9c179e"
             ],
             [
              0.4444444444444444,
              "#bd3786"
             ],
             [
              0.5555555555555556,
              "#d8576b"
             ],
             [
              0.6666666666666666,
              "#ed7953"
             ],
             [
              0.7777777777777778,
              "#fb9f3a"
             ],
             [
              0.8888888888888888,
              "#fdca26"
             ],
             [
              1,
              "#f0f921"
             ]
            ],
            "type": "contour"
           }
          ],
          "contourcarpet": [
           {
            "colorbar": {
             "outlinewidth": 0,
             "ticks": ""
            },
            "type": "contourcarpet"
           }
          ],
          "heatmap": [
           {
            "colorbar": {
             "outlinewidth": 0,
             "ticks": ""
            },
            "colorscale": [
             [
              0,
              "#0d0887"
             ],
             [
              0.1111111111111111,
              "#46039f"
             ],
             [
              0.2222222222222222,
              "#7201a8"
             ],
             [
              0.3333333333333333,
              "#9c179e"
             ],
             [
              0.4444444444444444,
              "#bd3786"
             ],
             [
              0.5555555555555556,
              "#d8576b"
             ],
             [
              0.6666666666666666,
              "#ed7953"
             ],
             [
              0.7777777777777778,
              "#fb9f3a"
             ],
             [
              0.8888888888888888,
              "#fdca26"
             ],
             [
              1,
              "#f0f921"
             ]
            ],
            "type": "heatmap"
           }
          ],
          "heatmapgl": [
           {
            "colorbar": {
             "outlinewidth": 0,
             "ticks": ""
            },
            "colorscale": [
             [
              0,
              "#0d0887"
             ],
             [
              0.1111111111111111,
              "#46039f"
             ],
             [
              0.2222222222222222,
              "#7201a8"
             ],
             [
              0.3333333333333333,
              "#9c179e"
             ],
             [
              0.4444444444444444,
              "#bd3786"
             ],
             [
              0.5555555555555556,
              "#d8576b"
             ],
             [
              0.6666666666666666,
              "#ed7953"
             ],
             [
              0.7777777777777778,
              "#fb9f3a"
             ],
             [
              0.8888888888888888,
              "#fdca26"
             ],
             [
              1,
              "#f0f921"
             ]
            ],
            "type": "heatmapgl"
           }
          ],
          "histogram": [
           {
            "marker": {
             "colorbar": {
              "outlinewidth": 0,
              "ticks": ""
             }
            },
            "type": "histogram"
           }
          ],
          "histogram2d": [
           {
            "colorbar": {
             "outlinewidth": 0,
             "ticks": ""
            },
            "colorscale": [
             [
              0,
              "#0d0887"
             ],
             [
              0.1111111111111111,
              "#46039f"
             ],
             [
              0.2222222222222222,
              "#7201a8"
             ],
             [
              0.3333333333333333,
              "#9c179e"
             ],
             [
              0.4444444444444444,
              "#bd3786"
             ],
             [
              0.5555555555555556,
              "#d8576b"
             ],
             [
              0.6666666666666666,
              "#ed7953"
             ],
             [
              0.7777777777777778,
              "#fb9f3a"
             ],
             [
              0.8888888888888888,
              "#fdca26"
             ],
             [
              1,
              "#f0f921"
             ]
            ],
            "type": "histogram2d"
           }
          ],
          "histogram2dcontour": [
           {
            "colorbar": {
             "outlinewidth": 0,
             "ticks": ""
            },
            "colorscale": [
             [
              0,
              "#0d0887"
             ],
             [
              0.1111111111111111,
              "#46039f"
             ],
             [
              0.2222222222222222,
              "#7201a8"
             ],
             [
              0.3333333333333333,
              "#9c179e"
             ],
             [
              0.4444444444444444,
              "#bd3786"
             ],
             [
              0.5555555555555556,
              "#d8576b"
             ],
             [
              0.6666666666666666,
              "#ed7953"
             ],
             [
              0.7777777777777778,
              "#fb9f3a"
             ],
             [
              0.8888888888888888,
              "#fdca26"
             ],
             [
              1,
              "#f0f921"
             ]
            ],
            "type": "histogram2dcontour"
           }
          ],
          "mesh3d": [
           {
            "colorbar": {
             "outlinewidth": 0,
             "ticks": ""
            },
            "type": "mesh3d"
           }
          ],
          "parcoords": [
           {
            "line": {
             "colorbar": {
              "outlinewidth": 0,
              "ticks": ""
             }
            },
            "type": "parcoords"
           }
          ],
          "pie": [
           {
            "automargin": true,
            "type": "pie"
           }
          ],
          "scatter": [
           {
            "marker": {
             "colorbar": {
              "outlinewidth": 0,
              "ticks": ""
             }
            },
            "type": "scatter"
           }
          ],
          "scatter3d": [
           {
            "line": {
             "colorbar": {
              "outlinewidth": 0,
              "ticks": ""
             }
            },
            "marker": {
             "colorbar": {
              "outlinewidth": 0,
              "ticks": ""
             }
            },
            "type": "scatter3d"
           }
          ],
          "scattercarpet": [
           {
            "marker": {
             "colorbar": {
              "outlinewidth": 0,
              "ticks": ""
             }
            },
            "type": "scattercarpet"
           }
          ],
          "scattergeo": [
           {
            "marker": {
             "colorbar": {
              "outlinewidth": 0,
              "ticks": ""
             }
            },
            "type": "scattergeo"
           }
          ],
          "scattergl": [
           {
            "marker": {
             "colorbar": {
              "outlinewidth": 0,
              "ticks": ""
             }
            },
            "type": "scattergl"
           }
          ],
          "scattermapbox": [
           {
            "marker": {
             "colorbar": {
              "outlinewidth": 0,
              "ticks": ""
             }
            },
            "type": "scattermapbox"
           }
          ],
          "scatterpolar": [
           {
            "marker": {
             "colorbar": {
              "outlinewidth": 0,
              "ticks": ""
             }
            },
            "type": "scatterpolar"
           }
          ],
          "scatterpolargl": [
           {
            "marker": {
             "colorbar": {
              "outlinewidth": 0,
              "ticks": ""
             }
            },
            "type": "scatterpolargl"
           }
          ],
          "scatterternary": [
           {
            "marker": {
             "colorbar": {
              "outlinewidth": 0,
              "ticks": ""
             }
            },
            "type": "scatterternary"
           }
          ],
          "surface": [
           {
            "colorbar": {
             "outlinewidth": 0,
             "ticks": ""
            },
            "colorscale": [
             [
              0,
              "#0d0887"
             ],
             [
              0.1111111111111111,
              "#46039f"
             ],
             [
              0.2222222222222222,
              "#7201a8"
             ],
             [
              0.3333333333333333,
              "#9c179e"
             ],
             [
              0.4444444444444444,
              "#bd3786"
             ],
             [
              0.5555555555555556,
              "#d8576b"
             ],
             [
              0.6666666666666666,
              "#ed7953"
             ],
             [
              0.7777777777777778,
              "#fb9f3a"
             ],
             [
              0.8888888888888888,
              "#fdca26"
             ],
             [
              1,
              "#f0f921"
             ]
            ],
            "type": "surface"
           }
          ],
          "table": [
           {
            "cells": {
             "fill": {
              "color": "#EBF0F8"
             },
             "line": {
              "color": "white"
             }
            },
            "header": {
             "fill": {
              "color": "#C8D4E3"
             },
             "line": {
              "color": "white"
             }
            },
            "type": "table"
           }
          ]
         },
         "layout": {
          "annotationdefaults": {
           "arrowcolor": "#2a3f5f",
           "arrowhead": 0,
           "arrowwidth": 1
          },
          "coloraxis": {
           "colorbar": {
            "outlinewidth": 0,
            "ticks": ""
           }
          },
          "colorscale": {
           "diverging": [
            [
             0,
             "#8e0152"
            ],
            [
             0.1,
             "#c51b7d"
            ],
            [
             0.2,
             "#de77ae"
            ],
            [
             0.3,
             "#f1b6da"
            ],
            [
             0.4,
             "#fde0ef"
            ],
            [
             0.5,
             "#f7f7f7"
            ],
            [
             0.6,
             "#e6f5d0"
            ],
            [
             0.7,
             "#b8e186"
            ],
            [
             0.8,
             "#7fbc41"
            ],
            [
             0.9,
             "#4d9221"
            ],
            [
             1,
             "#276419"
            ]
           ],
           "sequential": [
            [
             0,
             "#0d0887"
            ],
            [
             0.1111111111111111,
             "#46039f"
            ],
            [
             0.2222222222222222,
             "#7201a8"
            ],
            [
             0.3333333333333333,
             "#9c179e"
            ],
            [
             0.4444444444444444,
             "#bd3786"
            ],
            [
             0.5555555555555556,
             "#d8576b"
            ],
            [
             0.6666666666666666,
             "#ed7953"
            ],
            [
             0.7777777777777778,
             "#fb9f3a"
            ],
            [
             0.8888888888888888,
             "#fdca26"
            ],
            [
             1,
             "#f0f921"
            ]
           ],
           "sequentialminus": [
            [
             0,
             "#0d0887"
            ],
            [
             0.1111111111111111,
             "#46039f"
            ],
            [
             0.2222222222222222,
             "#7201a8"
            ],
            [
             0.3333333333333333,
             "#9c179e"
            ],
            [
             0.4444444444444444,
             "#bd3786"
            ],
            [
             0.5555555555555556,
             "#d8576b"
            ],
            [
             0.6666666666666666,
             "#ed7953"
            ],
            [
             0.7777777777777778,
             "#fb9f3a"
            ],
            [
             0.8888888888888888,
             "#fdca26"
            ],
            [
             1,
             "#f0f921"
            ]
           ]
          },
          "colorway": [
           "#636efa",
           "#EF553B",
           "#00cc96",
           "#ab63fa",
           "#FFA15A",
           "#19d3f3",
           "#FF6692",
           "#B6E880",
           "#FF97FF",
           "#FECB52"
          ],
          "font": {
           "color": "#2a3f5f"
          },
          "geo": {
           "bgcolor": "white",
           "lakecolor": "white",
           "landcolor": "#E5ECF6",
           "showlakes": true,
           "showland": true,
           "subunitcolor": "white"
          },
          "hoverlabel": {
           "align": "left"
          },
          "hovermode": "closest",
          "mapbox": {
           "style": "light"
          },
          "paper_bgcolor": "white",
          "plot_bgcolor": "#E5ECF6",
          "polar": {
           "angularaxis": {
            "gridcolor": "white",
            "linecolor": "white",
            "ticks": ""
           },
           "bgcolor": "#E5ECF6",
           "radialaxis": {
            "gridcolor": "white",
            "linecolor": "white",
            "ticks": ""
           }
          },
          "scene": {
           "xaxis": {
            "backgroundcolor": "#E5ECF6",
            "gridcolor": "white",
            "gridwidth": 2,
            "linecolor": "white",
            "showbackground": true,
            "ticks": "",
            "zerolinecolor": "white"
           },
           "yaxis": {
            "backgroundcolor": "#E5ECF6",
            "gridcolor": "white",
            "gridwidth": 2,
            "linecolor": "white",
            "showbackground": true,
            "ticks": "",
            "zerolinecolor": "white"
           },
           "zaxis": {
            "backgroundcolor": "#E5ECF6",
            "gridcolor": "white",
            "gridwidth": 2,
            "linecolor": "white",
            "showbackground": true,
            "ticks": "",
            "zerolinecolor": "white"
           }
          },
          "shapedefaults": {
           "line": {
            "color": "#2a3f5f"
           }
          },
          "ternary": {
           "aaxis": {
            "gridcolor": "white",
            "linecolor": "white",
            "ticks": ""
           },
           "baxis": {
            "gridcolor": "white",
            "linecolor": "white",
            "ticks": ""
           },
           "bgcolor": "#E5ECF6",
           "caxis": {
            "gridcolor": "white",
            "linecolor": "white",
            "ticks": ""
           }
          },
          "title": {
           "x": 0.05
          },
          "xaxis": {
           "automargin": true,
           "gridcolor": "white",
           "linecolor": "white",
           "ticks": "",
           "title": {
            "standoff": 15
           },
           "zerolinecolor": "white",
           "zerolinewidth": 2
          },
          "yaxis": {
           "automargin": true,
           "gridcolor": "white",
           "linecolor": "white",
           "ticks": "",
           "title": {
            "standoff": 15
           },
           "zerolinecolor": "white",
           "zerolinewidth": 2
          }
         }
        },
        "title": {
         "text": "Top Words & Bigrams in Sample Contract"
        },
        "xaxis": {
         "anchor": "y",
         "domain": [
          0,
          1
         ],
         "title": {
          "text": "words"
         }
        },
        "yaxis": {
         "anchor": "x",
         "domain": [
          0,
          1
         ],
         "title": {
          "text": "value"
         }
        }
       }
      },
      "text/html": [
       "<div>\n",
       "        \n",
       "        \n",
       "            <div id=\"2bea436b-7fe8-4b90-992c-850f178a2f23\" class=\"plotly-graph-div\" style=\"height:525px; width:100%;\"></div>\n",
       "            <script type=\"text/javascript\">\n",
       "                require([\"plotly\"], function(Plotly) {\n",
       "                    window.PLOTLYENV=window.PLOTLYENV || {};\n",
       "                    \n",
       "                if (document.getElementById(\"2bea436b-7fe8-4b90-992c-850f178a2f23\")) {\n",
       "                    Plotly.newPlot(\n",
       "                        '2bea436b-7fe8-4b90-992c-850f178a2f23',\n",
       "                        [{\"alignmentgroup\": \"True\", \"hovertemplate\": \"variable=0<br>words=%{x}<br>value=%{y}<extra></extra>\", \"legendgroup\": \"0\", \"marker\": {\"color\": \"#636efa\"}, \"name\": \"0\", \"offsetgroup\": \"0\", \"orientation\": \"v\", \"showlegend\": true, \"textposition\": \"auto\", \"type\": \"bar\", \"x\": [\"party\", \"trademark\", \"eclipse\", \"agreement\", \"right\", \"name\", \"domain\", \"shall\", \"domain name\", \"title\", \"interest\", \"right title\", \"title interest\", \"project\", \"term\", \"date\", \"effective\", \"use\", \"waiver\", \"transfer\", \"assignment\", \"may\", \"agreement shall\", \"including\", \"page\"], \"xaxis\": \"x\", \"y\": [43, 29, 23, 22, 21, 18, 15, 14, 14, 11, 8, 8, 8, 7, 7, 7, 6, 6, 6, 6, 6, 6, 6, 5, 5], \"yaxis\": \"y\"}],\n",
       "                        {\"barmode\": \"relative\", \"legend\": {\"title\": {\"text\": \"variable\"}, \"tracegroupgap\": 0}, \"template\": {\"data\": {\"bar\": [{\"error_x\": {\"color\": \"#2a3f5f\"}, \"error_y\": {\"color\": \"#2a3f5f\"}, \"marker\": {\"line\": {\"color\": \"#E5ECF6\", \"width\": 0.5}}, \"type\": \"bar\"}], \"barpolar\": [{\"marker\": {\"line\": {\"color\": \"#E5ECF6\", \"width\": 0.5}}, \"type\": \"barpolar\"}], \"carpet\": [{\"aaxis\": {\"endlinecolor\": \"#2a3f5f\", \"gridcolor\": \"white\", \"linecolor\": \"white\", \"minorgridcolor\": \"white\", \"startlinecolor\": \"#2a3f5f\"}, \"baxis\": {\"endlinecolor\": \"#2a3f5f\", \"gridcolor\": \"white\", \"linecolor\": \"white\", \"minorgridcolor\": \"white\", \"startlinecolor\": \"#2a3f5f\"}, \"type\": \"carpet\"}], \"choropleth\": [{\"colorbar\": {\"outlinewidth\": 0, \"ticks\": \"\"}, \"type\": \"choropleth\"}], \"contour\": [{\"colorbar\": {\"outlinewidth\": 0, \"ticks\": \"\"}, \"colorscale\": [[0.0, \"#0d0887\"], [0.1111111111111111, \"#46039f\"], [0.2222222222222222, \"#7201a8\"], [0.3333333333333333, \"#9c179e\"], [0.4444444444444444, \"#bd3786\"], [0.5555555555555556, \"#d8576b\"], [0.6666666666666666, \"#ed7953\"], [0.7777777777777778, \"#fb9f3a\"], [0.8888888888888888, \"#fdca26\"], [1.0, \"#f0f921\"]], \"type\": \"contour\"}], \"contourcarpet\": [{\"colorbar\": {\"outlinewidth\": 0, \"ticks\": \"\"}, \"type\": \"contourcarpet\"}], \"heatmap\": [{\"colorbar\": {\"outlinewidth\": 0, \"ticks\": \"\"}, \"colorscale\": [[0.0, \"#0d0887\"], [0.1111111111111111, \"#46039f\"], [0.2222222222222222, \"#7201a8\"], [0.3333333333333333, \"#9c179e\"], [0.4444444444444444, \"#bd3786\"], [0.5555555555555556, \"#d8576b\"], [0.6666666666666666, \"#ed7953\"], [0.7777777777777778, \"#fb9f3a\"], [0.8888888888888888, \"#fdca26\"], [1.0, \"#f0f921\"]], \"type\": \"heatmap\"}], \"heatmapgl\": [{\"colorbar\": {\"outlinewidth\": 0, \"ticks\": \"\"}, \"colorscale\": [[0.0, \"#0d0887\"], [0.1111111111111111, \"#46039f\"], [0.2222222222222222, \"#7201a8\"], [0.3333333333333333, \"#9c179e\"], [0.4444444444444444, \"#bd3786\"], [0.5555555555555556, \"#d8576b\"], [0.6666666666666666, \"#ed7953\"], [0.7777777777777778, \"#fb9f3a\"], [0.8888888888888888, \"#fdca26\"], [1.0, \"#f0f921\"]], \"type\": \"heatmapgl\"}], \"histogram\": [{\"marker\": {\"colorbar\": {\"outlinewidth\": 0, \"ticks\": \"\"}}, \"type\": \"histogram\"}], \"histogram2d\": [{\"colorbar\": {\"outlinewidth\": 0, \"ticks\": \"\"}, \"colorscale\": [[0.0, \"#0d0887\"], [0.1111111111111111, \"#46039f\"], [0.2222222222222222, \"#7201a8\"], [0.3333333333333333, \"#9c179e\"], [0.4444444444444444, \"#bd3786\"], [0.5555555555555556, \"#d8576b\"], [0.6666666666666666, \"#ed7953\"], [0.7777777777777778, \"#fb9f3a\"], [0.8888888888888888, \"#fdca26\"], [1.0, \"#f0f921\"]], \"type\": \"histogram2d\"}], \"histogram2dcontour\": [{\"colorbar\": {\"outlinewidth\": 0, \"ticks\": \"\"}, \"colorscale\": [[0.0, \"#0d0887\"], [0.1111111111111111, \"#46039f\"], [0.2222222222222222, \"#7201a8\"], [0.3333333333333333, \"#9c179e\"], [0.4444444444444444, \"#bd3786\"], [0.5555555555555556, \"#d8576b\"], [0.6666666666666666, \"#ed7953\"], [0.7777777777777778, \"#fb9f3a\"], [0.8888888888888888, \"#fdca26\"], [1.0, \"#f0f921\"]], \"type\": \"histogram2dcontour\"}], \"mesh3d\": [{\"colorbar\": {\"outlinewidth\": 0, \"ticks\": \"\"}, \"type\": \"mesh3d\"}], \"parcoords\": [{\"line\": {\"colorbar\": {\"outlinewidth\": 0, \"ticks\": \"\"}}, \"type\": \"parcoords\"}], \"pie\": [{\"automargin\": true, \"type\": \"pie\"}], \"scatter\": [{\"marker\": {\"colorbar\": {\"outlinewidth\": 0, \"ticks\": \"\"}}, \"type\": \"scatter\"}], \"scatter3d\": [{\"line\": {\"colorbar\": {\"outlinewidth\": 0, \"ticks\": \"\"}}, \"marker\": {\"colorbar\": {\"outlinewidth\": 0, \"ticks\": \"\"}}, \"type\": \"scatter3d\"}], \"scattercarpet\": [{\"marker\": {\"colorbar\": {\"outlinewidth\": 0, \"ticks\": \"\"}}, \"type\": \"scattercarpet\"}], \"scattergeo\": [{\"marker\": {\"colorbar\": {\"outlinewidth\": 0, \"ticks\": \"\"}}, \"type\": \"scattergeo\"}], \"scattergl\": [{\"marker\": {\"colorbar\": {\"outlinewidth\": 0, \"ticks\": \"\"}}, \"type\": \"scattergl\"}], \"scattermapbox\": [{\"marker\": {\"colorbar\": {\"outlinewidth\": 0, \"ticks\": \"\"}}, \"type\": \"scattermapbox\"}], \"scatterpolar\": [{\"marker\": {\"colorbar\": {\"outlinewidth\": 0, \"ticks\": \"\"}}, \"type\": \"scatterpolar\"}], \"scatterpolargl\": [{\"marker\": {\"colorbar\": {\"outlinewidth\": 0, \"ticks\": \"\"}}, \"type\": \"scatterpolargl\"}], \"scatterternary\": [{\"marker\": {\"colorbar\": {\"outlinewidth\": 0, \"ticks\": \"\"}}, \"type\": \"scatterternary\"}], \"surface\": [{\"colorbar\": {\"outlinewidth\": 0, \"ticks\": \"\"}, \"colorscale\": [[0.0, \"#0d0887\"], [0.1111111111111111, \"#46039f\"], [0.2222222222222222, \"#7201a8\"], [0.3333333333333333, \"#9c179e\"], [0.4444444444444444, \"#bd3786\"], [0.5555555555555556, \"#d8576b\"], [0.6666666666666666, \"#ed7953\"], [0.7777777777777778, \"#fb9f3a\"], [0.8888888888888888, \"#fdca26\"], [1.0, \"#f0f921\"]], \"type\": \"surface\"}], \"table\": [{\"cells\": {\"fill\": {\"color\": \"#EBF0F8\"}, \"line\": {\"color\": \"white\"}}, \"header\": {\"fill\": {\"color\": \"#C8D4E3\"}, \"line\": {\"color\": \"white\"}}, \"type\": \"table\"}]}, \"layout\": {\"annotationdefaults\": {\"arrowcolor\": \"#2a3f5f\", \"arrowhead\": 0, \"arrowwidth\": 1}, \"coloraxis\": {\"colorbar\": {\"outlinewidth\": 0, \"ticks\": \"\"}}, \"colorscale\": {\"diverging\": [[0, \"#8e0152\"], [0.1, \"#c51b7d\"], [0.2, \"#de77ae\"], [0.3, \"#f1b6da\"], [0.4, \"#fde0ef\"], [0.5, \"#f7f7f7\"], [0.6, \"#e6f5d0\"], [0.7, \"#b8e186\"], [0.8, \"#7fbc41\"], [0.9, \"#4d9221\"], [1, \"#276419\"]], \"sequential\": [[0.0, \"#0d0887\"], [0.1111111111111111, \"#46039f\"], [0.2222222222222222, \"#7201a8\"], [0.3333333333333333, \"#9c179e\"], [0.4444444444444444, \"#bd3786\"], [0.5555555555555556, \"#d8576b\"], [0.6666666666666666, \"#ed7953\"], [0.7777777777777778, \"#fb9f3a\"], [0.8888888888888888, \"#fdca26\"], [1.0, \"#f0f921\"]], \"sequentialminus\": [[0.0, \"#0d0887\"], [0.1111111111111111, \"#46039f\"], [0.2222222222222222, \"#7201a8\"], [0.3333333333333333, \"#9c179e\"], [0.4444444444444444, \"#bd3786\"], [0.5555555555555556, \"#d8576b\"], [0.6666666666666666, \"#ed7953\"], [0.7777777777777778, \"#fb9f3a\"], [0.8888888888888888, \"#fdca26\"], [1.0, \"#f0f921\"]]}, \"colorway\": [\"#636efa\", \"#EF553B\", \"#00cc96\", \"#ab63fa\", \"#FFA15A\", \"#19d3f3\", \"#FF6692\", \"#B6E880\", \"#FF97FF\", \"#FECB52\"], \"font\": {\"color\": \"#2a3f5f\"}, \"geo\": {\"bgcolor\": \"white\", \"lakecolor\": \"white\", \"landcolor\": \"#E5ECF6\", \"showlakes\": true, \"showland\": true, \"subunitcolor\": \"white\"}, \"hoverlabel\": {\"align\": \"left\"}, \"hovermode\": \"closest\", \"mapbox\": {\"style\": \"light\"}, \"paper_bgcolor\": \"white\", \"plot_bgcolor\": \"#E5ECF6\", \"polar\": {\"angularaxis\": {\"gridcolor\": \"white\", \"linecolor\": \"white\", \"ticks\": \"\"}, \"bgcolor\": \"#E5ECF6\", \"radialaxis\": {\"gridcolor\": \"white\", \"linecolor\": \"white\", \"ticks\": \"\"}}, \"scene\": {\"xaxis\": {\"backgroundcolor\": \"#E5ECF6\", \"gridcolor\": \"white\", \"gridwidth\": 2, \"linecolor\": \"white\", \"showbackground\": true, \"ticks\": \"\", \"zerolinecolor\": \"white\"}, \"yaxis\": {\"backgroundcolor\": \"#E5ECF6\", \"gridcolor\": \"white\", \"gridwidth\": 2, \"linecolor\": \"white\", \"showbackground\": true, \"ticks\": \"\", \"zerolinecolor\": \"white\"}, \"zaxis\": {\"backgroundcolor\": \"#E5ECF6\", \"gridcolor\": \"white\", \"gridwidth\": 2, \"linecolor\": \"white\", \"showbackground\": true, \"ticks\": \"\", \"zerolinecolor\": \"white\"}}, \"shapedefaults\": {\"line\": {\"color\": \"#2a3f5f\"}}, \"ternary\": {\"aaxis\": {\"gridcolor\": \"white\", \"linecolor\": \"white\", \"ticks\": \"\"}, \"baxis\": {\"gridcolor\": \"white\", \"linecolor\": \"white\", \"ticks\": \"\"}, \"bgcolor\": \"#E5ECF6\", \"caxis\": {\"gridcolor\": \"white\", \"linecolor\": \"white\", \"ticks\": \"\"}}, \"title\": {\"x\": 0.05}, \"xaxis\": {\"automargin\": true, \"gridcolor\": \"white\", \"linecolor\": \"white\", \"ticks\": \"\", \"title\": {\"standoff\": 15}, \"zerolinecolor\": \"white\", \"zerolinewidth\": 2}, \"yaxis\": {\"automargin\": true, \"gridcolor\": \"white\", \"linecolor\": \"white\", \"ticks\": \"\", \"title\": {\"standoff\": 15}, \"zerolinecolor\": \"white\", \"zerolinewidth\": 2}}}, \"title\": {\"text\": \"Top Words & Bigrams in Sample Contract\"}, \"xaxis\": {\"anchor\": \"y\", \"domain\": [0.0, 1.0], \"title\": {\"text\": \"words\"}}, \"yaxis\": {\"anchor\": \"x\", \"domain\": [0.0, 1.0], \"title\": {\"text\": \"value\"}}},\n",
       "                        {\"responsive\": true}\n",
       "                    ).then(function(){\n",
       "                            \n",
       "var gd = document.getElementById('2bea436b-7fe8-4b90-992c-850f178a2f23');\n",
       "var x = new MutationObserver(function (mutations, observer) {{\n",
       "        var display = window.getComputedStyle(gd).display;\n",
       "        if (!display || display === 'none') {{\n",
       "            console.log([gd, 'removed!']);\n",
       "            Plotly.purge(gd);\n",
       "            observer.disconnect();\n",
       "        }}\n",
       "}});\n",
       "\n",
       "// Listen for the removal of the full notebook cells\n",
       "var notebookContainer = gd.closest('#notebook-container');\n",
       "if (notebookContainer) {{\n",
       "    x.observe(notebookContainer, {childList: true});\n",
       "}}\n",
       "\n",
       "// Listen for the clearing of the current output cell\n",
       "var outputEl = gd.closest('.output');\n",
       "if (outputEl) {{\n",
       "    x.observe(outputEl, {childList: true});\n",
       "}}\n",
       "\n",
       "                        })\n",
       "                };\n",
       "                });\n",
       "            </script>\n",
       "        </div>"
      ]
     },
     "metadata": {},
     "output_type": "display_data"
    }
   ],
   "source": [
    "vector_barplotter(cleaned_text, \"Top Words & Bigrams in Sample Contract\", \"words\")"
   ]
  },
  {
   "cell_type": "code",
   "execution_count": 107,
   "metadata": {},
   "outputs": [],
   "source": [
    "#to plot a square word treemap, I have to modify our datascience word array into a special dataframe; \n",
    "#Adapted from https://python-graph-gallery.com/200-basic-treemap-with-python/\n",
    "#We plot a square treemap of word frequencies, as an alternative to word clouds\n",
    "#to save time I turned this into a function too.\n",
    "\n",
    "def vector_treemap_plotter(series, title):\n",
    "    vectorized_series = vectorizer.fit(series)\n",
    "    series_df = pd.DataFrame(vectorizer.transform(series).todense(),\n",
    "                              columns=vectorizer.get_feature_names())\n",
    "    #we slice the top 25 words and turn that into a squarify-friendly dataframe\n",
    "    top_25_words=series_df.sum().sort_values(ascending = False).head(25)\n",
    "    top_25_words_df = pd.DataFrame(top_25_words)\n",
    "    top_25_words_df.columns = [\"count\"]\n",
    "    top_25_words_df[\"word\"]=top_25_words_df.index\n",
    "    top_25_words_df = top_25_words_df.reset_index(drop=True)\n",
    "    \n",
    "    count = top_25_words_df[\"count\"]\n",
    "    word = top_25_words_df[\"word\"]\n",
    "    \n",
    "    #I then create a hybrid heatmap and treemap\n",
    "    #it is like a word cloud, but it looks cleaner.\n",
    "    #frequent words are deeper blues with bigger squares.\n",
    "\n",
    "    cmap = matplotlib.cm.Blues\n",
    "    mini=min(count)\n",
    "    maxi=max(count)\n",
    "    norm = matplotlib.colors.Normalize(vmin=mini, vmax=maxi)\n",
    "    colors = [cmap(norm(value)) for value in count]\n",
    "\n",
    "    squarify.plot(sizes=count, norm_x=100, norm_y=100, label=word, \n",
    "                  color=colors,alpha=.9 )\n",
    "\n",
    "    print(title)\n",
    "    \n",
    "    plt.axis('off')\n",
    "    plt.show()"
   ]
  },
  {
   "cell_type": "code",
   "execution_count": 108,
   "metadata": {},
   "outputs": [
    {
     "name": "stdout",
     "output_type": "stream",
     "text": [
      "Top 25 Words in Contract\n"
     ]
    },
    {
     "data": {
      "image/svg+xml": [
       "<?xml version=\"1.0\" encoding=\"utf-8\" standalone=\"no\"?>\n",
       "<!DOCTYPE svg PUBLIC \"-//W3C//DTD SVG 1.1//EN\"\n",
       "  \"http://www.w3.org/Graphics/SVG/1.1/DTD/svg11.dtd\">\n",
       "<!-- Created with matplotlib (https://matplotlib.org/) -->\n",
       "<svg height=\"231.84pt\" version=\"1.1\" viewBox=\"0 0 367.406874 231.84\" width=\"367.406874pt\" xmlns=\"http://www.w3.org/2000/svg\" xmlns:xlink=\"http://www.w3.org/1999/xlink\">\n",
       " <defs>\n",
       "  <style type=\"text/css\">\n",
       "*{stroke-linecap:butt;stroke-linejoin:round;}\n",
       "  </style>\n",
       " </defs>\n",
       " <g id=\"figure_1\">\n",
       "  <g id=\"patch_1\">\n",
       "   <path d=\"M 0 231.84 \n",
       "L 367.406874 231.84 \n",
       "L 367.406874 0 \n",
       "L 0 0 \n",
       "z\n",
       "\" style=\"fill:none;\"/>\n",
       "  </g>\n",
       "  <g id=\"axes_1\">\n",
       "   <g id=\"patch_2\">\n",
       "    <path clip-path=\"url(#p6f036599be)\" d=\"M 7.2 224.64 \n",
       "L 110.802606 224.64 \n",
       "L 110.802606 126.219789 \n",
       "L 7.2 126.219789 \n",
       "z\n",
       "\" style=\"fill:#08306b;opacity:0.9;stroke:#ffffff;stroke-linejoin:miter;\"/>\n",
       "   </g>\n",
       "   <g id=\"patch_3\">\n",
       "    <path clip-path=\"url(#p6f036599be)\" d=\"M 7.2 126.219789 \n",
       "L 110.802606 126.219789 \n",
       "L 110.802606 59.843368 \n",
       "L 7.2 59.843368 \n",
       "z\n",
       "\" style=\"fill:#4090c5;opacity:0.9;stroke:#ffffff;stroke-linejoin:miter;\"/>\n",
       "   </g>\n",
       "   <g id=\"patch_4\">\n",
       "    <path clip-path=\"url(#p6f036599be)\" d=\"M 7.2 59.843368 \n",
       "L 110.802606 59.843368 \n",
       "L 110.802606 7.2 \n",
       "L 7.2 7.2 \n",
       "z\n",
       "\" style=\"fill:#75b4d8;opacity:0.9;stroke:#ffffff;stroke-linejoin:miter;\"/>\n",
       "   </g>\n",
       "   <g id=\"patch_5\">\n",
       "    <path clip-path=\"url(#p6f036599be)\" d=\"M 110.802606 224.64 \n",
       "L 194.185273 224.64 \n",
       "L 194.185273 162.074717 \n",
       "L 110.802606 162.074717 \n",
       "z\n",
       "\" style=\"fill:#81badb;opacity:0.9;stroke:#ffffff;stroke-linejoin:miter;\"/>\n",
       "   </g>\n",
       "   <g id=\"patch_6\">\n",
       "    <path clip-path=\"url(#p6f036599be)\" d=\"M 194.185273 224.64 \n",
       "L 273.777818 224.64 \n",
       "L 273.777818 162.074717 \n",
       "L 194.185273 162.074717 \n",
       "z\n",
       "\" style=\"fill:#8cc0dd;opacity:0.9;stroke:#ffffff;stroke-linejoin:miter;\"/>\n",
       "   </g>\n",
       "   <g id=\"patch_7\">\n",
       "    <path clip-path=\"url(#p6f036599be)\" d=\"M 273.777818 224.64 \n",
       "L 342 224.64 \n",
       "L 342 162.074717 \n",
       "L 273.777818 162.074717 \n",
       "z\n",
       "\" style=\"fill:#a9cfe5;opacity:0.9;stroke:#ffffff;stroke-linejoin:miter;\"/>\n",
       "   </g>\n",
       "   <g id=\"patch_8\">\n",
       "    <path clip-path=\"url(#p6f036599be)\" d=\"M 110.802606 162.074717 \n",
       "L 191.45286 162.074717 \n",
       "L 191.45286 117.971321 \n",
       "L 110.802606 117.971321 \n",
       "z\n",
       "\" style=\"fill:#c2d9ee;opacity:0.9;stroke:#ffffff;stroke-linejoin:miter;\"/>\n",
       "   </g>\n",
       "   <g id=\"patch_9\">\n",
       "    <path clip-path=\"url(#p6f036599be)\" d=\"M 191.45286 162.074717 \n",
       "L 266.72643 162.074717 \n",
       "L 266.72643 117.971321 \n",
       "L 191.45286 117.971321 \n",
       "z\n",
       "\" style=\"fill:#c9ddf0;opacity:0.9;stroke:#ffffff;stroke-linejoin:miter;\"/>\n",
       "   </g>\n",
       "   <g id=\"patch_10\">\n",
       "    <path clip-path=\"url(#p6f036599be)\" d=\"M 266.72643 162.074717 \n",
       "L 342 162.074717 \n",
       "L 342 117.971321 \n",
       "L 266.72643 117.971321 \n",
       "z\n",
       "\" style=\"fill:#c9ddf0;opacity:0.9;stroke:#ffffff;stroke-linejoin:miter;\"/>\n",
       "   </g>\n",
       "   <g id=\"patch_11\">\n",
       "    <path clip-path=\"url(#p6f036599be)\" d=\"M 110.802606 117.971321 \n",
       "L 168.601954 117.971321 \n",
       "L 168.601954 72.842264 \n",
       "L 110.802606 72.842264 \n",
       "z\n",
       "\" style=\"fill:#d8e7f5;opacity:0.9;stroke:#ffffff;stroke-linejoin:miter;\"/>\n",
       "   </g>\n",
       "   <g id=\"patch_12\">\n",
       "    <path clip-path=\"url(#p6f036599be)\" d=\"M 110.802606 72.842264 \n",
       "L 168.601954 72.842264 \n",
       "L 168.601954 40.021132 \n",
       "L 110.802606 40.021132 \n",
       "z\n",
       "\" style=\"fill:#e7f1fa;opacity:0.9;stroke:#ffffff;stroke-linejoin:miter;\"/>\n",
       "   </g>\n",
       "   <g id=\"patch_13\">\n",
       "    <path clip-path=\"url(#p6f036599be)\" d=\"M 110.802606 40.021132 \n",
       "L 168.601954 40.021132 \n",
       "L 168.601954 7.2 \n",
       "L 110.802606 7.2 \n",
       "z\n",
       "\" style=\"fill:#e7f1fa;opacity:0.9;stroke:#ffffff;stroke-linejoin:miter;\"/>\n",
       "   </g>\n",
       "   <g id=\"patch_14\">\n",
       "    <path clip-path=\"url(#p6f036599be)\" d=\"M 168.601954 117.971321 \n",
       "L 215.69772 117.971321 \n",
       "L 215.69772 77.69084 \n",
       "L 168.601954 77.69084 \n",
       "z\n",
       "\" style=\"fill:#e7f1fa;opacity:0.9;stroke:#ffffff;stroke-linejoin:miter;\"/>\n",
       "   </g>\n",
       "   <g id=\"patch_15\">\n",
       "    <path clip-path=\"url(#p6f036599be)\" d=\"M 168.601954 77.69084 \n",
       "L 215.69772 77.69084 \n",
       "L 215.69772 42.44542 \n",
       "L 168.601954 42.44542 \n",
       "z\n",
       "\" style=\"fill:#edf4fc;opacity:0.9;stroke:#ffffff;stroke-linejoin:miter;\"/>\n",
       "   </g>\n",
       "   <g id=\"patch_16\">\n",
       "    <path clip-path=\"url(#p6f036599be)\" d=\"M 168.601954 42.44542 \n",
       "L 215.69772 42.44542 \n",
       "L 215.69772 7.2 \n",
       "L 168.601954 7.2 \n",
       "z\n",
       "\" style=\"fill:#edf4fc;opacity:0.9;stroke:#ffffff;stroke-linejoin:miter;\"/>\n",
       "   </g>\n",
       "   <g id=\"patch_17\">\n",
       "    <path clip-path=\"url(#p6f036599be)\" d=\"M 215.69772 117.971321 \n",
       "L 262.230139 117.971321 \n",
       "L 262.230139 82.299201 \n",
       "L 215.69772 82.299201 \n",
       "z\n",
       "\" style=\"fill:#edf4fc;opacity:0.9;stroke:#ffffff;stroke-linejoin:miter;\"/>\n",
       "   </g>\n",
       "   <g id=\"patch_18\">\n",
       "    <path clip-path=\"url(#p6f036599be)\" d=\"M 262.230139 117.971321 \n",
       "L 302.115069 117.971321 \n",
       "L 302.115069 82.299201 \n",
       "L 262.230139 82.299201 \n",
       "z\n",
       "\" style=\"fill:#f2f8fd;opacity:0.9;stroke:#ffffff;stroke-linejoin:miter;\"/>\n",
       "   </g>\n",
       "   <g id=\"patch_19\">\n",
       "    <path clip-path=\"url(#p6f036599be)\" d=\"M 302.115069 117.971321 \n",
       "L 342 117.971321 \n",
       "L 342 82.299201 \n",
       "L 302.115069 82.299201 \n",
       "z\n",
       "\" style=\"fill:#f2f8fd;opacity:0.9;stroke:#ffffff;stroke-linejoin:miter;\"/>\n",
       "   </g>\n",
       "   <g id=\"patch_20\">\n",
       "    <path clip-path=\"url(#p6f036599be)\" d=\"M 215.69772 82.299201 \n",
       "L 272.533746 82.299201 \n",
       "L 272.533746 57.266134 \n",
       "L 215.69772 57.266134 \n",
       "z\n",
       "\" style=\"fill:#f2f8fd;opacity:0.9;stroke:#ffffff;stroke-linejoin:miter;\"/>\n",
       "   </g>\n",
       "   <g id=\"patch_21\">\n",
       "    <path clip-path=\"url(#p6f036599be)\" d=\"M 215.69772 57.266134 \n",
       "L 272.533746 57.266134 \n",
       "L 272.533746 32.233067 \n",
       "L 215.69772 32.233067 \n",
       "z\n",
       "\" style=\"fill:#f2f8fd;opacity:0.9;stroke:#ffffff;stroke-linejoin:miter;\"/>\n",
       "   </g>\n",
       "   <g id=\"patch_22\">\n",
       "    <path clip-path=\"url(#p6f036599be)\" d=\"M 215.69772 32.233067 \n",
       "L 272.533746 32.233067 \n",
       "L 272.533746 7.2 \n",
       "L 215.69772 7.2 \n",
       "z\n",
       "\" style=\"fill:#f2f8fd;opacity:0.9;stroke:#ffffff;stroke-linejoin:miter;\"/>\n",
       "   </g>\n",
       "   <g id=\"patch_23\">\n",
       "    <path clip-path=\"url(#p6f036599be)\" d=\"M 272.533746 82.299201 \n",
       "L 307.266873 82.299201 \n",
       "L 307.266873 41.336 \n",
       "L 272.533746 41.336 \n",
       "z\n",
       "\" style=\"fill:#f2f8fd;opacity:0.9;stroke:#ffffff;stroke-linejoin:miter;\"/>\n",
       "   </g>\n",
       "   <g id=\"patch_24\">\n",
       "    <path clip-path=\"url(#p6f036599be)\" d=\"M 307.266873 82.299201 \n",
       "L 342 82.299201 \n",
       "L 342 41.336 \n",
       "L 307.266873 41.336 \n",
       "z\n",
       "\" style=\"fill:#f2f8fd;opacity:0.9;stroke:#ffffff;stroke-linejoin:miter;\"/>\n",
       "   </g>\n",
       "   <g id=\"patch_25\">\n",
       "    <path clip-path=\"url(#p6f036599be)\" d=\"M 272.533746 41.336 \n",
       "L 307.266873 41.336 \n",
       "L 307.266873 7.2 \n",
       "L 272.533746 7.2 \n",
       "z\n",
       "\" style=\"fill:#f7fbff;opacity:0.9;stroke:#ffffff;stroke-linejoin:miter;\"/>\n",
       "   </g>\n",
       "   <g id=\"patch_26\">\n",
       "    <path clip-path=\"url(#p6f036599be)\" d=\"M 307.266873 41.336 \n",
       "L 342 41.336 \n",
       "L 342 7.2 \n",
       "L 307.266873 7.2 \n",
       "z\n",
       "\" style=\"fill:#f7fbff;opacity:0.9;stroke:#ffffff;stroke-linejoin:miter;\"/>\n",
       "   </g>\n",
       "   <g id=\"text_1\">\n",
       "    <!-- party -->\n",
       "    <defs>\n",
       "     <path d=\"M 6.59375 -19.875 \n",
       "L 6.59375 51.859375 \n",
       "L 14.59375 51.859375 \n",
       "L 14.59375 45.125 \n",
       "Q 17.4375 49.078125 21 51.046875 \n",
       "Q 24.5625 53.03125 29.640625 53.03125 \n",
       "Q 36.28125 53.03125 41.359375 49.609375 \n",
       "Q 46.4375 46.1875 49.015625 39.953125 \n",
       "Q 51.609375 33.734375 51.609375 26.3125 \n",
       "Q 51.609375 18.359375 48.75 11.984375 \n",
       "Q 45.90625 5.609375 40.453125 2.21875 \n",
       "Q 35.015625 -1.171875 29 -1.171875 \n",
       "Q 24.609375 -1.171875 21.109375 0.6875 \n",
       "Q 17.625 2.546875 15.375 5.375 \n",
       "L 15.375 -19.875 \n",
       "z\n",
       "M 14.546875 25.640625 \n",
       "Q 14.546875 15.625 18.59375 10.84375 \n",
       "Q 22.65625 6.0625 28.421875 6.0625 \n",
       "Q 34.28125 6.0625 38.453125 11.015625 \n",
       "Q 42.625 15.96875 42.625 26.375 \n",
       "Q 42.625 36.28125 38.546875 41.203125 \n",
       "Q 34.46875 46.140625 28.8125 46.140625 \n",
       "Q 23.1875 46.140625 18.859375 40.890625 \n",
       "Q 14.546875 35.640625 14.546875 25.640625 \n",
       "z\n",
       "\" id=\"ArialMT-112\"/>\n",
       "     <path d=\"M 40.4375 6.390625 \n",
       "Q 35.546875 2.25 31.03125 0.53125 \n",
       "Q 26.515625 -1.171875 21.34375 -1.171875 \n",
       "Q 12.796875 -1.171875 8.203125 3 \n",
       "Q 3.609375 7.171875 3.609375 13.671875 \n",
       "Q 3.609375 17.484375 5.34375 20.625 \n",
       "Q 7.078125 23.78125 9.890625 25.6875 \n",
       "Q 12.703125 27.59375 16.21875 28.5625 \n",
       "Q 18.796875 29.25 24.03125 29.890625 \n",
       "Q 34.671875 31.15625 39.703125 32.90625 \n",
       "Q 39.75 34.71875 39.75 35.203125 \n",
       "Q 39.75 40.578125 37.25 42.78125 \n",
       "Q 33.890625 45.75 27.25 45.75 \n",
       "Q 21.046875 45.75 18.09375 43.578125 \n",
       "Q 15.140625 41.40625 13.71875 35.890625 \n",
       "L 5.125 37.0625 \n",
       "Q 6.296875 42.578125 8.984375 45.96875 \n",
       "Q 11.671875 49.359375 16.75 51.1875 \n",
       "Q 21.828125 53.03125 28.515625 53.03125 \n",
       "Q 35.15625 53.03125 39.296875 51.46875 \n",
       "Q 43.453125 49.90625 45.40625 47.53125 \n",
       "Q 47.359375 45.171875 48.140625 41.546875 \n",
       "Q 48.578125 39.3125 48.578125 33.453125 \n",
       "L 48.578125 21.734375 \n",
       "Q 48.578125 9.46875 49.140625 6.21875 \n",
       "Q 49.703125 2.984375 51.375 0 \n",
       "L 42.1875 0 \n",
       "Q 40.828125 2.734375 40.4375 6.390625 \n",
       "z\n",
       "M 39.703125 26.03125 \n",
       "Q 34.90625 24.078125 25.34375 22.703125 \n",
       "Q 19.921875 21.921875 17.671875 20.9375 \n",
       "Q 15.4375 19.96875 14.203125 18.09375 \n",
       "Q 12.984375 16.21875 12.984375 13.921875 \n",
       "Q 12.984375 10.40625 15.640625 8.0625 \n",
       "Q 18.3125 5.71875 23.4375 5.71875 \n",
       "Q 28.515625 5.71875 32.46875 7.9375 \n",
       "Q 36.421875 10.15625 38.28125 14.015625 \n",
       "Q 39.703125 17 39.703125 22.796875 \n",
       "z\n",
       "\" id=\"ArialMT-97\"/>\n",
       "     <path d=\"M 6.5 0 \n",
       "L 6.5 51.859375 \n",
       "L 14.40625 51.859375 \n",
       "L 14.40625 44 \n",
       "Q 17.4375 49.515625 20 51.265625 \n",
       "Q 22.5625 53.03125 25.640625 53.03125 \n",
       "Q 30.078125 53.03125 34.671875 50.203125 \n",
       "L 31.640625 42.046875 \n",
       "Q 28.421875 43.953125 25.203125 43.953125 \n",
       "Q 22.3125 43.953125 20.015625 42.21875 \n",
       "Q 17.71875 40.484375 16.75 37.40625 \n",
       "Q 15.28125 32.71875 15.28125 27.15625 \n",
       "L 15.28125 0 \n",
       "z\n",
       "\" id=\"ArialMT-114\"/>\n",
       "     <path d=\"M 25.78125 7.859375 \n",
       "L 27.046875 0.09375 \n",
       "Q 23.34375 -0.6875 20.40625 -0.6875 \n",
       "Q 15.625 -0.6875 12.984375 0.828125 \n",
       "Q 10.359375 2.34375 9.28125 4.8125 \n",
       "Q 8.203125 7.28125 8.203125 15.1875 \n",
       "L 8.203125 45.015625 \n",
       "L 1.765625 45.015625 \n",
       "L 1.765625 51.859375 \n",
       "L 8.203125 51.859375 \n",
       "L 8.203125 64.703125 \n",
       "L 16.9375 69.96875 \n",
       "L 16.9375 51.859375 \n",
       "L 25.78125 51.859375 \n",
       "L 25.78125 45.015625 \n",
       "L 16.9375 45.015625 \n",
       "L 16.9375 14.703125 \n",
       "Q 16.9375 10.9375 17.40625 9.859375 \n",
       "Q 17.875 8.796875 18.921875 8.15625 \n",
       "Q 19.96875 7.515625 21.921875 7.515625 \n",
       "Q 23.390625 7.515625 25.78125 7.859375 \n",
       "z\n",
       "\" id=\"ArialMT-116\"/>\n",
       "     <path d=\"M 6.203125 -19.96875 \n",
       "L 5.21875 -11.71875 \n",
       "Q 8.109375 -12.5 10.25 -12.5 \n",
       "Q 13.1875 -12.5 14.9375 -11.515625 \n",
       "Q 16.703125 -10.546875 17.828125 -8.796875 \n",
       "Q 18.65625 -7.46875 20.515625 -2.25 \n",
       "Q 20.75 -1.515625 21.296875 -0.09375 \n",
       "L 1.609375 51.859375 \n",
       "L 11.078125 51.859375 \n",
       "L 21.875 21.828125 \n",
       "Q 23.96875 16.109375 25.640625 9.8125 \n",
       "Q 27.15625 15.875 29.25 21.625 \n",
       "L 40.328125 51.859375 \n",
       "L 49.125 51.859375 \n",
       "L 29.390625 -0.875 \n",
       "Q 26.21875 -9.421875 24.46875 -12.640625 \n",
       "Q 22.125 -17 19.09375 -19.015625 \n",
       "Q 16.0625 -21.046875 11.859375 -21.046875 \n",
       "Q 9.328125 -21.046875 6.203125 -19.96875 \n",
       "z\n",
       "\" id=\"ArialMT-121\"/>\n",
       "    </defs>\n",
       "    <g style=\"fill:#262626;\" transform=\"translate(47.886459 177.897863)scale(0.1 -0.1)\">\n",
       "     <use xlink:href=\"#ArialMT-112\"/>\n",
       "     <use x=\"55.615234\" xlink:href=\"#ArialMT-97\"/>\n",
       "     <use x=\"111.230469\" xlink:href=\"#ArialMT-114\"/>\n",
       "     <use x=\"144.53125\" xlink:href=\"#ArialMT-116\"/>\n",
       "     <use x=\"172.314453\" xlink:href=\"#ArialMT-121\"/>\n",
       "    </g>\n",
       "   </g>\n",
       "   <g id=\"text_2\">\n",
       "    <!-- trademark -->\n",
       "    <defs>\n",
       "     <path d=\"M 40.234375 0 \n",
       "L 40.234375 6.546875 \n",
       "Q 35.296875 -1.171875 25.734375 -1.171875 \n",
       "Q 19.53125 -1.171875 14.328125 2.25 \n",
       "Q 9.125 5.671875 6.265625 11.796875 \n",
       "Q 3.421875 17.921875 3.421875 25.875 \n",
       "Q 3.421875 33.640625 6 39.96875 \n",
       "Q 8.59375 46.296875 13.765625 49.65625 \n",
       "Q 18.953125 53.03125 25.34375 53.03125 \n",
       "Q 30.03125 53.03125 33.6875 51.046875 \n",
       "Q 37.359375 49.078125 39.65625 45.90625 \n",
       "L 39.65625 71.578125 \n",
       "L 48.390625 71.578125 \n",
       "L 48.390625 0 \n",
       "z\n",
       "M 12.453125 25.875 \n",
       "Q 12.453125 15.921875 16.640625 10.984375 \n",
       "Q 20.84375 6.0625 26.5625 6.0625 \n",
       "Q 32.328125 6.0625 36.34375 10.765625 \n",
       "Q 40.375 15.484375 40.375 25.140625 \n",
       "Q 40.375 35.796875 36.265625 40.765625 \n",
       "Q 32.171875 45.75 26.171875 45.75 \n",
       "Q 20.3125 45.75 16.375 40.96875 \n",
       "Q 12.453125 36.1875 12.453125 25.875 \n",
       "z\n",
       "\" id=\"ArialMT-100\"/>\n",
       "     <path d=\"M 42.09375 16.703125 \n",
       "L 51.171875 15.578125 \n",
       "Q 49.03125 7.625 43.21875 3.21875 \n",
       "Q 37.40625 -1.171875 28.375 -1.171875 \n",
       "Q 17 -1.171875 10.328125 5.828125 \n",
       "Q 3.65625 12.84375 3.65625 25.484375 \n",
       "Q 3.65625 38.578125 10.390625 45.796875 \n",
       "Q 17.140625 53.03125 27.875 53.03125 \n",
       "Q 38.28125 53.03125 44.875 45.953125 \n",
       "Q 51.46875 38.875 51.46875 26.03125 \n",
       "Q 51.46875 25.25 51.421875 23.6875 \n",
       "L 12.75 23.6875 \n",
       "Q 13.234375 15.140625 17.578125 10.59375 \n",
       "Q 21.921875 6.0625 28.421875 6.0625 \n",
       "Q 33.25 6.0625 36.671875 8.59375 \n",
       "Q 40.09375 11.140625 42.09375 16.703125 \n",
       "z\n",
       "M 13.234375 30.90625 \n",
       "L 42.1875 30.90625 \n",
       "Q 41.609375 37.453125 38.875 40.71875 \n",
       "Q 34.671875 45.796875 27.984375 45.796875 \n",
       "Q 21.921875 45.796875 17.796875 41.75 \n",
       "Q 13.671875 37.703125 13.234375 30.90625 \n",
       "z\n",
       "\" id=\"ArialMT-101\"/>\n",
       "     <path d=\"M 6.59375 0 \n",
       "L 6.59375 51.859375 \n",
       "L 14.453125 51.859375 \n",
       "L 14.453125 44.578125 \n",
       "Q 16.890625 48.390625 20.9375 50.703125 \n",
       "Q 25 53.03125 30.171875 53.03125 \n",
       "Q 35.9375 53.03125 39.625 50.640625 \n",
       "Q 43.3125 48.25 44.828125 43.953125 \n",
       "Q 50.984375 53.03125 60.84375 53.03125 \n",
       "Q 68.5625 53.03125 72.703125 48.75 \n",
       "Q 76.859375 44.484375 76.859375 35.59375 \n",
       "L 76.859375 0 \n",
       "L 68.109375 0 \n",
       "L 68.109375 32.671875 \n",
       "Q 68.109375 37.9375 67.25 40.25 \n",
       "Q 66.40625 42.578125 64.15625 43.984375 \n",
       "Q 61.921875 45.40625 58.890625 45.40625 \n",
       "Q 53.421875 45.40625 49.796875 41.765625 \n",
       "Q 46.1875 38.140625 46.1875 30.125 \n",
       "L 46.1875 0 \n",
       "L 37.40625 0 \n",
       "L 37.40625 33.6875 \n",
       "Q 37.40625 39.546875 35.25 42.46875 \n",
       "Q 33.109375 45.40625 28.21875 45.40625 \n",
       "Q 24.515625 45.40625 21.359375 43.453125 \n",
       "Q 18.21875 41.5 16.796875 37.734375 \n",
       "Q 15.375 33.984375 15.375 26.90625 \n",
       "L 15.375 0 \n",
       "z\n",
       "\" id=\"ArialMT-109\"/>\n",
       "     <path d=\"M 6.640625 0 \n",
       "L 6.640625 71.578125 \n",
       "L 15.4375 71.578125 \n",
       "L 15.4375 30.765625 \n",
       "L 36.234375 51.859375 \n",
       "L 47.609375 51.859375 \n",
       "L 27.78125 32.625 \n",
       "L 49.609375 0 \n",
       "L 38.765625 0 \n",
       "L 21.625 26.515625 \n",
       "L 15.4375 20.5625 \n",
       "L 15.4375 0 \n",
       "z\n",
       "\" id=\"ArialMT-107\"/>\n",
       "    </defs>\n",
       "    <g style=\"fill:#262626;\" transform=\"translate(36.495834 95.616735)scale(0.1 -0.1)\">\n",
       "     <use xlink:href=\"#ArialMT-116\"/>\n",
       "     <use x=\"27.783203\" xlink:href=\"#ArialMT-114\"/>\n",
       "     <use x=\"61.083984\" xlink:href=\"#ArialMT-97\"/>\n",
       "     <use x=\"116.699219\" xlink:href=\"#ArialMT-100\"/>\n",
       "     <use x=\"172.314453\" xlink:href=\"#ArialMT-101\"/>\n",
       "     <use x=\"227.929688\" xlink:href=\"#ArialMT-109\"/>\n",
       "     <use x=\"311.230469\" xlink:href=\"#ArialMT-97\"/>\n",
       "     <use x=\"366.845703\" xlink:href=\"#ArialMT-114\"/>\n",
       "     <use x=\"400.146484\" xlink:href=\"#ArialMT-107\"/>\n",
       "    </g>\n",
       "   </g>\n",
       "   <g id=\"text_3\">\n",
       "    <!-- eclipse -->\n",
       "    <defs>\n",
       "     <path d=\"M 40.4375 19 \n",
       "L 49.078125 17.875 \n",
       "Q 47.65625 8.9375 41.8125 3.875 \n",
       "Q 35.984375 -1.171875 27.484375 -1.171875 \n",
       "Q 16.84375 -1.171875 10.375 5.78125 \n",
       "Q 3.90625 12.75 3.90625 25.734375 \n",
       "Q 3.90625 34.125 6.6875 40.421875 \n",
       "Q 9.46875 46.734375 15.15625 49.875 \n",
       "Q 20.84375 53.03125 27.546875 53.03125 \n",
       "Q 35.984375 53.03125 41.359375 48.75 \n",
       "Q 46.734375 44.484375 48.25 36.625 \n",
       "L 39.703125 35.296875 \n",
       "Q 38.484375 40.53125 35.375 43.15625 \n",
       "Q 32.28125 45.796875 27.875 45.796875 \n",
       "Q 21.234375 45.796875 17.078125 41.03125 \n",
       "Q 12.9375 36.28125 12.9375 25.984375 \n",
       "Q 12.9375 15.53125 16.9375 10.796875 \n",
       "Q 20.953125 6.0625 27.390625 6.0625 \n",
       "Q 32.5625 6.0625 36.03125 9.234375 \n",
       "Q 39.5 12.40625 40.4375 19 \n",
       "z\n",
       "\" id=\"ArialMT-99\"/>\n",
       "     <path d=\"M 6.390625 0 \n",
       "L 6.390625 71.578125 \n",
       "L 15.1875 71.578125 \n",
       "L 15.1875 0 \n",
       "z\n",
       "\" id=\"ArialMT-108\"/>\n",
       "     <path d=\"M 6.640625 61.46875 \n",
       "L 6.640625 71.578125 \n",
       "L 15.4375 71.578125 \n",
       "L 15.4375 61.46875 \n",
       "z\n",
       "M 6.640625 0 \n",
       "L 6.640625 51.859375 \n",
       "L 15.4375 51.859375 \n",
       "L 15.4375 0 \n",
       "z\n",
       "\" id=\"ArialMT-105\"/>\n",
       "     <path d=\"M 3.078125 15.484375 \n",
       "L 11.765625 16.84375 \n",
       "Q 12.5 11.625 15.84375 8.84375 \n",
       "Q 19.1875 6.0625 25.203125 6.0625 \n",
       "Q 31.25 6.0625 34.171875 8.515625 \n",
       "Q 37.109375 10.984375 37.109375 14.3125 \n",
       "Q 37.109375 17.28125 34.515625 19 \n",
       "Q 32.71875 20.171875 25.53125 21.96875 \n",
       "Q 15.875 24.421875 12.140625 26.203125 \n",
       "Q 8.40625 27.984375 6.46875 31.125 \n",
       "Q 4.546875 34.28125 4.546875 38.09375 \n",
       "Q 4.546875 41.546875 6.125 44.5 \n",
       "Q 7.71875 47.46875 10.453125 49.421875 \n",
       "Q 12.5 50.921875 16.03125 51.96875 \n",
       "Q 19.578125 53.03125 23.640625 53.03125 \n",
       "Q 29.734375 53.03125 34.34375 51.265625 \n",
       "Q 38.96875 49.515625 41.15625 46.5 \n",
       "Q 43.359375 43.5 44.1875 38.484375 \n",
       "L 35.59375 37.3125 \n",
       "Q 35.015625 41.3125 32.203125 43.546875 \n",
       "Q 29.390625 45.796875 24.265625 45.796875 \n",
       "Q 18.21875 45.796875 15.625 43.796875 \n",
       "Q 13.03125 41.796875 13.03125 39.109375 \n",
       "Q 13.03125 37.40625 14.109375 36.03125 \n",
       "Q 15.1875 34.625 17.484375 33.6875 \n",
       "Q 18.796875 33.203125 25.25 31.453125 \n",
       "Q 34.578125 28.953125 38.25 27.359375 \n",
       "Q 41.9375 25.78125 44.03125 22.75 \n",
       "Q 46.140625 19.734375 46.140625 15.234375 \n",
       "Q 46.140625 10.84375 43.578125 6.953125 \n",
       "Q 41.015625 3.078125 36.171875 0.953125 \n",
       "Q 31.34375 -1.171875 25.25 -1.171875 \n",
       "Q 15.140625 -1.171875 9.84375 3.03125 \n",
       "Q 4.546875 7.234375 3.078125 15.484375 \n",
       "z\n",
       "\" id=\"ArialMT-115\"/>\n",
       "    </defs>\n",
       "    <g style=\"fill:#262626;\" transform=\"translate(43.438022 36.10684)scale(0.1 -0.1)\">\n",
       "     <use xlink:href=\"#ArialMT-101\"/>\n",
       "     <use x=\"55.615234\" xlink:href=\"#ArialMT-99\"/>\n",
       "     <use x=\"105.615234\" xlink:href=\"#ArialMT-108\"/>\n",
       "     <use x=\"127.832031\" xlink:href=\"#ArialMT-105\"/>\n",
       "     <use x=\"150.048828\" xlink:href=\"#ArialMT-112\"/>\n",
       "     <use x=\"205.664062\" xlink:href=\"#ArialMT-115\"/>\n",
       "     <use x=\"255.664062\" xlink:href=\"#ArialMT-101\"/>\n",
       "    </g>\n",
       "   </g>\n",
       "   <g id=\"text_4\">\n",
       "    <!-- agreement -->\n",
       "    <defs>\n",
       "     <path d=\"M 4.984375 -4.296875 \n",
       "L 13.53125 -5.5625 \n",
       "Q 14.0625 -9.515625 16.5 -11.328125 \n",
       "Q 19.78125 -13.765625 25.4375 -13.765625 \n",
       "Q 31.546875 -13.765625 34.859375 -11.328125 \n",
       "Q 38.1875 -8.890625 39.359375 -4.5 \n",
       "Q 40.046875 -1.8125 39.984375 6.78125 \n",
       "Q 34.234375 0 25.640625 0 \n",
       "Q 14.9375 0 9.078125 7.71875 \n",
       "Q 3.21875 15.4375 3.21875 26.21875 \n",
       "Q 3.21875 33.640625 5.90625 39.90625 \n",
       "Q 8.59375 46.1875 13.6875 49.609375 \n",
       "Q 18.796875 53.03125 25.6875 53.03125 \n",
       "Q 34.859375 53.03125 40.828125 45.609375 \n",
       "L 40.828125 51.859375 \n",
       "L 48.921875 51.859375 \n",
       "L 48.921875 7.03125 \n",
       "Q 48.921875 -5.078125 46.453125 -10.125 \n",
       "Q 44 -15.1875 38.640625 -18.109375 \n",
       "Q 33.296875 -21.046875 25.484375 -21.046875 \n",
       "Q 16.21875 -21.046875 10.5 -16.875 \n",
       "Q 4.78125 -12.703125 4.984375 -4.296875 \n",
       "z\n",
       "M 12.25 26.859375 \n",
       "Q 12.25 16.65625 16.296875 11.96875 \n",
       "Q 20.359375 7.28125 26.46875 7.28125 \n",
       "Q 32.515625 7.28125 36.609375 11.9375 \n",
       "Q 40.71875 16.609375 40.71875 26.5625 \n",
       "Q 40.71875 36.078125 36.5 40.90625 \n",
       "Q 32.28125 45.75 26.3125 45.75 \n",
       "Q 20.453125 45.75 16.34375 40.984375 \n",
       "Q 12.25 36.234375 12.25 26.859375 \n",
       "z\n",
       "\" id=\"ArialMT-103\"/>\n",
       "     <path d=\"M 6.59375 0 \n",
       "L 6.59375 51.859375 \n",
       "L 14.5 51.859375 \n",
       "L 14.5 44.484375 \n",
       "Q 20.21875 53.03125 31 53.03125 \n",
       "Q 35.6875 53.03125 39.625 51.34375 \n",
       "Q 43.5625 49.65625 45.515625 46.921875 \n",
       "Q 47.46875 44.1875 48.25 40.4375 \n",
       "Q 48.734375 37.984375 48.734375 31.890625 \n",
       "L 48.734375 0 \n",
       "L 39.9375 0 \n",
       "L 39.9375 31.546875 \n",
       "Q 39.9375 36.921875 38.90625 39.578125 \n",
       "Q 37.890625 42.234375 35.28125 43.8125 \n",
       "Q 32.671875 45.40625 29.15625 45.40625 \n",
       "Q 23.53125 45.40625 19.453125 41.84375 \n",
       "Q 15.375 38.28125 15.375 28.328125 \n",
       "L 15.375 0 \n",
       "z\n",
       "\" id=\"ArialMT-110\"/>\n",
       "    </defs>\n",
       "    <g style=\"fill:#262626;\" transform=\"translate(128.592377 195.825327)scale(0.1 -0.1)\">\n",
       "     <use xlink:href=\"#ArialMT-97\"/>\n",
       "     <use x=\"55.615234\" xlink:href=\"#ArialMT-103\"/>\n",
       "     <use x=\"111.230469\" xlink:href=\"#ArialMT-114\"/>\n",
       "     <use x=\"144.53125\" xlink:href=\"#ArialMT-101\"/>\n",
       "     <use x=\"200.146484\" xlink:href=\"#ArialMT-101\"/>\n",
       "     <use x=\"255.761719\" xlink:href=\"#ArialMT-109\"/>\n",
       "     <use x=\"339.0625\" xlink:href=\"#ArialMT-101\"/>\n",
       "     <use x=\"394.677734\" xlink:href=\"#ArialMT-110\"/>\n",
       "     <use x=\"450.292969\" xlink:href=\"#ArialMT-116\"/>\n",
       "    </g>\n",
       "   </g>\n",
       "   <g id=\"text_5\">\n",
       "    <!-- right -->\n",
       "    <defs>\n",
       "     <path d=\"M 6.59375 0 \n",
       "L 6.59375 71.578125 \n",
       "L 15.375 71.578125 \n",
       "L 15.375 45.90625 \n",
       "Q 21.53125 53.03125 30.90625 53.03125 \n",
       "Q 36.671875 53.03125 40.921875 50.75 \n",
       "Q 45.171875 48.484375 47 44.484375 \n",
       "Q 48.828125 40.484375 48.828125 32.859375 \n",
       "L 48.828125 0 \n",
       "L 40.046875 0 \n",
       "L 40.046875 32.859375 \n",
       "Q 40.046875 39.453125 37.1875 42.453125 \n",
       "Q 34.328125 45.453125 29.109375 45.453125 \n",
       "Q 25.203125 45.453125 21.75 43.421875 \n",
       "Q 18.3125 41.40625 16.84375 37.9375 \n",
       "Q 15.375 34.46875 15.375 28.375 \n",
       "L 15.375 0 \n",
       "z\n",
       "\" id=\"ArialMT-104\"/>\n",
       "    </defs>\n",
       "    <g style=\"fill:#262626;\" transform=\"translate(224.255764 195.883921)scale(0.1 -0.1)\">\n",
       "     <use xlink:href=\"#ArialMT-114\"/>\n",
       "     <use x=\"33.300781\" xlink:href=\"#ArialMT-105\"/>\n",
       "     <use x=\"55.517578\" xlink:href=\"#ArialMT-103\"/>\n",
       "     <use x=\"111.132812\" xlink:href=\"#ArialMT-104\"/>\n",
       "     <use x=\"166.748047\" xlink:href=\"#ArialMT-116\"/>\n",
       "    </g>\n",
       "   </g>\n",
       "   <g id=\"text_6\">\n",
       "    <!-- name -->\n",
       "    <g style=\"fill:#262626;\" transform=\"translate(295.382659 195.942515)scale(0.1 -0.1)\">\n",
       "     <use xlink:href=\"#ArialMT-110\"/>\n",
       "     <use x=\"55.615234\" xlink:href=\"#ArialMT-97\"/>\n",
       "     <use x=\"111.230469\" xlink:href=\"#ArialMT-109\"/>\n",
       "     <use x=\"194.53125\" xlink:href=\"#ArialMT-101\"/>\n",
       "    </g>\n",
       "   </g>\n",
       "   <g id=\"text_7\">\n",
       "    <!-- domain -->\n",
       "    <defs>\n",
       "     <path d=\"M 3.328125 25.921875 \n",
       "Q 3.328125 40.328125 11.328125 47.265625 \n",
       "Q 18.015625 53.03125 27.640625 53.03125 \n",
       "Q 38.328125 53.03125 45.109375 46.015625 \n",
       "Q 51.90625 39.015625 51.90625 26.65625 \n",
       "Q 51.90625 16.65625 48.90625 10.90625 \n",
       "Q 45.90625 5.171875 40.15625 2 \n",
       "Q 34.421875 -1.171875 27.640625 -1.171875 \n",
       "Q 16.75 -1.171875 10.03125 5.8125 \n",
       "Q 3.328125 12.796875 3.328125 25.921875 \n",
       "z\n",
       "M 12.359375 25.921875 \n",
       "Q 12.359375 15.96875 16.703125 11.015625 \n",
       "Q 21.046875 6.0625 27.640625 6.0625 \n",
       "Q 34.1875 6.0625 38.53125 11.03125 \n",
       "Q 42.875 16.015625 42.875 26.21875 \n",
       "Q 42.875 35.84375 38.5 40.796875 \n",
       "Q 34.125 45.75 27.640625 45.75 \n",
       "Q 21.046875 45.75 16.703125 40.8125 \n",
       "Q 12.359375 35.890625 12.359375 25.921875 \n",
       "z\n",
       "\" id=\"ArialMT-111\"/>\n",
       "    </defs>\n",
       "    <g style=\"fill:#262626;\" transform=\"translate(134.730076 142.608175)scale(0.1 -0.1)\">\n",
       "     <use xlink:href=\"#ArialMT-100\"/>\n",
       "     <use x=\"55.615234\" xlink:href=\"#ArialMT-111\"/>\n",
       "     <use x=\"111.230469\" xlink:href=\"#ArialMT-109\"/>\n",
       "     <use x=\"194.53125\" xlink:href=\"#ArialMT-97\"/>\n",
       "     <use x=\"250.146484\" xlink:href=\"#ArialMT-105\"/>\n",
       "     <use x=\"272.363281\" xlink:href=\"#ArialMT-110\"/>\n",
       "    </g>\n",
       "   </g>\n",
       "   <g id=\"text_8\">\n",
       "    <!-- shall -->\n",
       "    <g style=\"fill:#262626;\" transform=\"translate(218.806832 142.608175)scale(0.1 -0.1)\">\n",
       "     <use xlink:href=\"#ArialMT-115\"/>\n",
       "     <use x=\"50\" xlink:href=\"#ArialMT-104\"/>\n",
       "     <use x=\"105.615234\" xlink:href=\"#ArialMT-97\"/>\n",
       "     <use x=\"161.230469\" xlink:href=\"#ArialMT-108\"/>\n",
       "     <use x=\"183.447266\" xlink:href=\"#ArialMT-108\"/>\n",
       "    </g>\n",
       "   </g>\n",
       "   <g id=\"text_9\">\n",
       "    <!-- domain name -->\n",
       "    <defs>\n",
       "     <path id=\"ArialMT-32\"/>\n",
       "    </defs>\n",
       "    <g style=\"fill:#262626;\" transform=\"translate(274.070246 142.608175)scale(0.1 -0.1)\">\n",
       "     <use xlink:href=\"#ArialMT-100\"/>\n",
       "     <use x=\"55.615234\" xlink:href=\"#ArialMT-111\"/>\n",
       "     <use x=\"111.230469\" xlink:href=\"#ArialMT-109\"/>\n",
       "     <use x=\"194.53125\" xlink:href=\"#ArialMT-97\"/>\n",
       "     <use x=\"250.146484\" xlink:href=\"#ArialMT-105\"/>\n",
       "     <use x=\"272.363281\" xlink:href=\"#ArialMT-110\"/>\n",
       "     <use x=\"327.978516\" xlink:href=\"#ArialMT-32\"/>\n",
       "     <use x=\"355.761719\" xlink:href=\"#ArialMT-110\"/>\n",
       "     <use x=\"411.376953\" xlink:href=\"#ArialMT-97\"/>\n",
       "     <use x=\"466.992188\" xlink:href=\"#ArialMT-109\"/>\n",
       "     <use x=\"550.292969\" xlink:href=\"#ArialMT-101\"/>\n",
       "    </g>\n",
       "   </g>\n",
       "   <g id=\"text_10\">\n",
       "    <!-- title -->\n",
       "    <g style=\"fill:#262626;\" transform=\"translate(131.921811 97.991949)scale(0.1 -0.1)\">\n",
       "     <use xlink:href=\"#ArialMT-116\"/>\n",
       "     <use x=\"27.783203\" xlink:href=\"#ArialMT-105\"/>\n",
       "     <use x=\"50\" xlink:href=\"#ArialMT-116\"/>\n",
       "     <use x=\"77.783203\" xlink:href=\"#ArialMT-108\"/>\n",
       "     <use x=\"100\" xlink:href=\"#ArialMT-101\"/>\n",
       "    </g>\n",
       "   </g>\n",
       "   <g id=\"text_11\">\n",
       "    <!-- interest -->\n",
       "    <g style=\"fill:#262626;\" transform=\"translate(123.306968 59.016854)scale(0.1 -0.1)\">\n",
       "     <use xlink:href=\"#ArialMT-105\"/>\n",
       "     <use x=\"22.216797\" xlink:href=\"#ArialMT-110\"/>\n",
       "     <use x=\"77.832031\" xlink:href=\"#ArialMT-116\"/>\n",
       "     <use x=\"105.615234\" xlink:href=\"#ArialMT-101\"/>\n",
       "     <use x=\"161.230469\" xlink:href=\"#ArialMT-114\"/>\n",
       "     <use x=\"194.53125\" xlink:href=\"#ArialMT-101\"/>\n",
       "     <use x=\"250.146484\" xlink:href=\"#ArialMT-115\"/>\n",
       "     <use x=\"300.146484\" xlink:href=\"#ArialMT-116\"/>\n",
       "    </g>\n",
       "   </g>\n",
       "   <g id=\"text_12\">\n",
       "    <!-- right title -->\n",
       "    <g style=\"fill:#262626;\" transform=\"translate(120.806968 26.137129)scale(0.1 -0.1)\">\n",
       "     <use xlink:href=\"#ArialMT-114\"/>\n",
       "     <use x=\"33.300781\" xlink:href=\"#ArialMT-105\"/>\n",
       "     <use x=\"55.517578\" xlink:href=\"#ArialMT-103\"/>\n",
       "     <use x=\"111.132812\" xlink:href=\"#ArialMT-104\"/>\n",
       "     <use x=\"166.748047\" xlink:href=\"#ArialMT-116\"/>\n",
       "     <use x=\"194.53125\" xlink:href=\"#ArialMT-32\"/>\n",
       "     <use x=\"222.314453\" xlink:href=\"#ArialMT-116\"/>\n",
       "     <use x=\"250.097656\" xlink:href=\"#ArialMT-105\"/>\n",
       "     <use x=\"272.314453\" xlink:href=\"#ArialMT-116\"/>\n",
       "     <use x=\"300.097656\" xlink:href=\"#ArialMT-108\"/>\n",
       "     <use x=\"322.314453\" xlink:href=\"#ArialMT-101\"/>\n",
       "    </g>\n",
       "   </g>\n",
       "   <g id=\"text_13\">\n",
       "    <!-- title interest -->\n",
       "    <g style=\"fill:#262626;\" transform=\"translate(166.584993 100.416237)scale(0.1 -0.1)\">\n",
       "     <use xlink:href=\"#ArialMT-116\"/>\n",
       "     <use x=\"27.783203\" xlink:href=\"#ArialMT-105\"/>\n",
       "     <use x=\"50\" xlink:href=\"#ArialMT-116\"/>\n",
       "     <use x=\"77.783203\" xlink:href=\"#ArialMT-108\"/>\n",
       "     <use x=\"100\" xlink:href=\"#ArialMT-101\"/>\n",
       "     <use x=\"155.615234\" xlink:href=\"#ArialMT-32\"/>\n",
       "     <use x=\"183.398438\" xlink:href=\"#ArialMT-105\"/>\n",
       "     <use x=\"205.615234\" xlink:href=\"#ArialMT-110\"/>\n",
       "     <use x=\"261.230469\" xlink:href=\"#ArialMT-116\"/>\n",
       "     <use x=\"289.013672\" xlink:href=\"#ArialMT-101\"/>\n",
       "     <use x=\"344.628906\" xlink:href=\"#ArialMT-114\"/>\n",
       "     <use x=\"377.929688\" xlink:href=\"#ArialMT-101\"/>\n",
       "     <use x=\"433.544922\" xlink:href=\"#ArialMT-115\"/>\n",
       "     <use x=\"483.544922\" xlink:href=\"#ArialMT-116\"/>\n",
       "    </g>\n",
       "   </g>\n",
       "   <g id=\"text_14\">\n",
       "    <!-- project -->\n",
       "    <defs>\n",
       "     <path d=\"M 6.546875 61.375 \n",
       "L 6.546875 71.578125 \n",
       "L 15.328125 71.578125 \n",
       "L 15.328125 61.375 \n",
       "z\n",
       "M -4.59375 -20.125 \n",
       "L -2.9375 -12.640625 \n",
       "Q -0.296875 -13.328125 1.21875 -13.328125 \n",
       "Q 3.90625 -13.328125 5.21875 -11.546875 \n",
       "Q 6.546875 -9.765625 6.546875 -2.640625 \n",
       "L 6.546875 51.859375 \n",
       "L 15.328125 51.859375 \n",
       "L 15.328125 -2.828125 \n",
       "Q 15.328125 -12.40625 12.84375 -16.15625 \n",
       "Q 9.671875 -21.046875 2.296875 -21.046875 \n",
       "Q -1.265625 -21.046875 -4.59375 -20.125 \n",
       "z\n",
       "\" id=\"ArialMT-106\"/>\n",
       "    </defs>\n",
       "    <g style=\"fill:#262626;\" transform=\"translate(177.143587 62.594693)scale(0.1 -0.1)\">\n",
       "     <use xlink:href=\"#ArialMT-112\"/>\n",
       "     <use x=\"55.615234\" xlink:href=\"#ArialMT-114\"/>\n",
       "     <use x=\"88.916016\" xlink:href=\"#ArialMT-111\"/>\n",
       "     <use x=\"144.53125\" xlink:href=\"#ArialMT-106\"/>\n",
       "     <use x=\"166.748047\" xlink:href=\"#ArialMT-101\"/>\n",
       "     <use x=\"222.363281\" xlink:href=\"#ArialMT-99\"/>\n",
       "     <use x=\"272.363281\" xlink:href=\"#ArialMT-116\"/>\n",
       "    </g>\n",
       "   </g>\n",
       "   <g id=\"text_15\">\n",
       "    <!-- term -->\n",
       "    <g style=\"fill:#262626;\" transform=\"translate(182.150618 27.407866)scale(0.1 -0.1)\">\n",
       "     <use xlink:href=\"#ArialMT-116\"/>\n",
       "     <use x=\"27.783203\" xlink:href=\"#ArialMT-101\"/>\n",
       "     <use x=\"83.398438\" xlink:href=\"#ArialMT-114\"/>\n",
       "     <use x=\"116.699219\" xlink:href=\"#ArialMT-109\"/>\n",
       "    </g>\n",
       "   </g>\n",
       "   <g id=\"text_16\">\n",
       "    <!-- date -->\n",
       "    <g style=\"fill:#262626;\" transform=\"translate(229.233461 102.720417)scale(0.1 -0.1)\">\n",
       "     <use xlink:href=\"#ArialMT-100\"/>\n",
       "     <use x=\"55.615234\" xlink:href=\"#ArialMT-97\"/>\n",
       "     <use x=\"111.230469\" xlink:href=\"#ArialMT-116\"/>\n",
       "     <use x=\"139.013672\" xlink:href=\"#ArialMT-101\"/>\n",
       "    </g>\n",
       "   </g>\n",
       "   <g id=\"text_17\">\n",
       "    <!-- effective -->\n",
       "    <defs>\n",
       "     <path d=\"M 8.6875 0 \n",
       "L 8.6875 45.015625 \n",
       "L 0.921875 45.015625 \n",
       "L 0.921875 51.859375 \n",
       "L 8.6875 51.859375 \n",
       "L 8.6875 57.375 \n",
       "Q 8.6875 62.59375 9.625 65.140625 \n",
       "Q 10.890625 68.5625 14.078125 70.671875 \n",
       "Q 17.28125 72.796875 23.046875 72.796875 \n",
       "Q 26.765625 72.796875 31.25 71.921875 \n",
       "L 29.9375 64.265625 \n",
       "Q 27.203125 64.75 24.75 64.75 \n",
       "Q 20.75 64.75 19.09375 63.03125 \n",
       "Q 17.4375 61.328125 17.4375 56.640625 \n",
       "L 17.4375 51.859375 \n",
       "L 27.546875 51.859375 \n",
       "L 27.546875 45.015625 \n",
       "L 17.4375 45.015625 \n",
       "L 17.4375 0 \n",
       "z\n",
       "\" id=\"ArialMT-102\"/>\n",
       "     <path d=\"M 21 0 \n",
       "L 1.265625 51.859375 \n",
       "L 10.546875 51.859375 \n",
       "L 21.6875 20.796875 \n",
       "Q 23.484375 15.765625 25 10.359375 \n",
       "Q 26.171875 14.453125 28.265625 20.21875 \n",
       "L 39.796875 51.859375 \n",
       "L 48.828125 51.859375 \n",
       "L 29.203125 0 \n",
       "z\n",
       "\" id=\"ArialMT-118\"/>\n",
       "    </defs>\n",
       "    <g style=\"fill:#262626;\" transform=\"translate(263.640573 102.720417)scale(0.1 -0.1)\">\n",
       "     <use xlink:href=\"#ArialMT-101\"/>\n",
       "     <use x=\"55.615234\" xlink:href=\"#ArialMT-102\"/>\n",
       "     <use x=\"81.648438\" xlink:href=\"#ArialMT-102\"/>\n",
       "     <use x=\"109.431641\" xlink:href=\"#ArialMT-101\"/>\n",
       "     <use x=\"165.046875\" xlink:href=\"#ArialMT-99\"/>\n",
       "     <use x=\"215.046875\" xlink:href=\"#ArialMT-116\"/>\n",
       "     <use x=\"242.830078\" xlink:href=\"#ArialMT-105\"/>\n",
       "     <use x=\"265.046875\" xlink:href=\"#ArialMT-118\"/>\n",
       "     <use x=\"315.046875\" xlink:href=\"#ArialMT-101\"/>\n",
       "    </g>\n",
       "   </g>\n",
       "   <g id=\"text_18\">\n",
       "    <!-- use -->\n",
       "    <defs>\n",
       "     <path d=\"M 40.578125 0 \n",
       "L 40.578125 7.625 \n",
       "Q 34.515625 -1.171875 24.125 -1.171875 \n",
       "Q 19.53125 -1.171875 15.546875 0.578125 \n",
       "Q 11.578125 2.34375 9.640625 5 \n",
       "Q 7.71875 7.671875 6.9375 11.53125 \n",
       "Q 6.390625 14.109375 6.390625 19.734375 \n",
       "L 6.390625 51.859375 \n",
       "L 15.1875 51.859375 \n",
       "L 15.1875 23.09375 \n",
       "Q 15.1875 16.21875 15.71875 13.8125 \n",
       "Q 16.546875 10.359375 19.234375 8.375 \n",
       "Q 21.921875 6.390625 25.875 6.390625 \n",
       "Q 29.828125 6.390625 33.296875 8.421875 \n",
       "Q 36.765625 10.453125 38.203125 13.9375 \n",
       "Q 39.65625 17.4375 39.65625 24.078125 \n",
       "L 39.65625 51.859375 \n",
       "L 48.4375 51.859375 \n",
       "L 48.4375 0 \n",
       "z\n",
       "\" id=\"ArialMT-117\"/>\n",
       "    </defs>\n",
       "    <g style=\"fill:#262626;\" transform=\"translate(313.996597 102.720417)scale(0.1 -0.1)\">\n",
       "     <use xlink:href=\"#ArialMT-117\"/>\n",
       "     <use x=\"55.615234\" xlink:href=\"#ArialMT-115\"/>\n",
       "     <use x=\"105.615234\" xlink:href=\"#ArialMT-101\"/>\n",
       "    </g>\n",
       "   </g>\n",
       "   <g id=\"text_19\">\n",
       "    <!-- waiver -->\n",
       "    <defs>\n",
       "     <path d=\"M 16.15625 0 \n",
       "L 0.296875 51.859375 \n",
       "L 9.375 51.859375 \n",
       "L 17.625 21.921875 \n",
       "L 20.703125 10.796875 \n",
       "Q 20.90625 11.625 23.390625 21.484375 \n",
       "L 31.640625 51.859375 \n",
       "L 40.671875 51.859375 \n",
       "L 48.4375 21.78125 \n",
       "L 51.03125 11.859375 \n",
       "L 54 21.875 \n",
       "L 62.890625 51.859375 \n",
       "L 71.4375 51.859375 \n",
       "L 55.21875 0 \n",
       "L 46.09375 0 \n",
       "L 37.84375 31.0625 \n",
       "L 35.84375 39.890625 \n",
       "L 25.34375 0 \n",
       "z\n",
       "\" id=\"ArialMT-119\"/>\n",
       "    </defs>\n",
       "    <g style=\"fill:#262626;\" transform=\"translate(229.668077 72.367823)scale(0.1 -0.1)\">\n",
       "     <use xlink:href=\"#ArialMT-119\"/>\n",
       "     <use x=\"72.216797\" xlink:href=\"#ArialMT-97\"/>\n",
       "     <use x=\"127.832031\" xlink:href=\"#ArialMT-105\"/>\n",
       "     <use x=\"150.048828\" xlink:href=\"#ArialMT-118\"/>\n",
       "     <use x=\"200.048828\" xlink:href=\"#ArialMT-101\"/>\n",
       "     <use x=\"255.664062\" xlink:href=\"#ArialMT-114\"/>\n",
       "    </g>\n",
       "   </g>\n",
       "   <g id=\"text_20\">\n",
       "    <!-- transfer -->\n",
       "    <g style=\"fill:#262626;\" transform=\"translate(227.166514 47.334757)scale(0.1 -0.1)\">\n",
       "     <use xlink:href=\"#ArialMT-116\"/>\n",
       "     <use x=\"27.783203\" xlink:href=\"#ArialMT-114\"/>\n",
       "     <use x=\"61.083984\" xlink:href=\"#ArialMT-97\"/>\n",
       "     <use x=\"116.699219\" xlink:href=\"#ArialMT-110\"/>\n",
       "     <use x=\"172.314453\" xlink:href=\"#ArialMT-115\"/>\n",
       "     <use x=\"222.314453\" xlink:href=\"#ArialMT-102\"/>\n",
       "     <use x=\"250.097656\" xlink:href=\"#ArialMT-101\"/>\n",
       "     <use x=\"305.712891\" xlink:href=\"#ArialMT-114\"/>\n",
       "    </g>\n",
       "   </g>\n",
       "   <g id=\"text_21\">\n",
       "    <!-- assignment -->\n",
       "    <g style=\"fill:#262626;\" transform=\"translate(218.548545 22.243096)scale(0.1 -0.1)\">\n",
       "     <use xlink:href=\"#ArialMT-97\"/>\n",
       "     <use x=\"55.615234\" xlink:href=\"#ArialMT-115\"/>\n",
       "     <use x=\"105.615234\" xlink:href=\"#ArialMT-115\"/>\n",
       "     <use x=\"155.615234\" xlink:href=\"#ArialMT-105\"/>\n",
       "     <use x=\"177.832031\" xlink:href=\"#ArialMT-103\"/>\n",
       "     <use x=\"233.447266\" xlink:href=\"#ArialMT-110\"/>\n",
       "     <use x=\"289.0625\" xlink:href=\"#ArialMT-109\"/>\n",
       "     <use x=\"372.363281\" xlink:href=\"#ArialMT-101\"/>\n",
       "     <use x=\"427.978516\" xlink:href=\"#ArialMT-110\"/>\n",
       "     <use x=\"483.59375\" xlink:href=\"#ArialMT-116\"/>\n",
       "    </g>\n",
       "   </g>\n",
       "   <g id=\"text_22\">\n",
       "    <!-- may -->\n",
       "    <g style=\"fill:#262626;\" transform=\"translate(280.454997 64.285569)scale(0.1 -0.1)\">\n",
       "     <use xlink:href=\"#ArialMT-109\"/>\n",
       "     <use x=\"83.300781\" xlink:href=\"#ArialMT-97\"/>\n",
       "     <use x=\"138.916016\" xlink:href=\"#ArialMT-121\"/>\n",
       "    </g>\n",
       "   </g>\n",
       "   <g id=\"text_23\">\n",
       "    <!-- agreement shall -->\n",
       "    <g style=\"fill:#262626;\" transform=\"translate(289.059999 64.344163)scale(0.1 -0.1)\">\n",
       "     <use xlink:href=\"#ArialMT-97\"/>\n",
       "     <use x=\"55.615234\" xlink:href=\"#ArialMT-103\"/>\n",
       "     <use x=\"111.230469\" xlink:href=\"#ArialMT-114\"/>\n",
       "     <use x=\"144.53125\" xlink:href=\"#ArialMT-101\"/>\n",
       "     <use x=\"200.146484\" xlink:href=\"#ArialMT-101\"/>\n",
       "     <use x=\"255.761719\" xlink:href=\"#ArialMT-109\"/>\n",
       "     <use x=\"339.0625\" xlink:href=\"#ArialMT-101\"/>\n",
       "     <use x=\"394.677734\" xlink:href=\"#ArialMT-110\"/>\n",
       "     <use x=\"450.292969\" xlink:href=\"#ArialMT-116\"/>\n",
       "     <use x=\"478.076172\" xlink:href=\"#ArialMT-32\"/>\n",
       "     <use x=\"505.859375\" xlink:href=\"#ArialMT-115\"/>\n",
       "     <use x=\"555.859375\" xlink:href=\"#ArialMT-104\"/>\n",
       "     <use x=\"611.474609\" xlink:href=\"#ArialMT-97\"/>\n",
       "     <use x=\"667.089844\" xlink:href=\"#ArialMT-108\"/>\n",
       "     <use x=\"689.306641\" xlink:href=\"#ArialMT-108\"/>\n",
       "    </g>\n",
       "   </g>\n",
       "   <g id=\"text_24\">\n",
       "    <!-- including -->\n",
       "    <g style=\"fill:#262626;\" transform=\"translate(270.165153 26.794563)scale(0.1 -0.1)\">\n",
       "     <use xlink:href=\"#ArialMT-105\"/>\n",
       "     <use x=\"22.216797\" xlink:href=\"#ArialMT-110\"/>\n",
       "     <use x=\"77.832031\" xlink:href=\"#ArialMT-99\"/>\n",
       "     <use x=\"127.832031\" xlink:href=\"#ArialMT-108\"/>\n",
       "     <use x=\"150.048828\" xlink:href=\"#ArialMT-117\"/>\n",
       "     <use x=\"205.664062\" xlink:href=\"#ArialMT-100\"/>\n",
       "     <use x=\"261.279297\" xlink:href=\"#ArialMT-105\"/>\n",
       "     <use x=\"283.496094\" xlink:href=\"#ArialMT-110\"/>\n",
       "     <use x=\"339.111328\" xlink:href=\"#ArialMT-103\"/>\n",
       "    </g>\n",
       "   </g>\n",
       "   <g id=\"text_25\">\n",
       "    <!-- page -->\n",
       "    <g style=\"fill:#262626;\" transform=\"translate(313.511561 26.735969)scale(0.1 -0.1)\">\n",
       "     <use xlink:href=\"#ArialMT-112\"/>\n",
       "     <use x=\"55.615234\" xlink:href=\"#ArialMT-97\"/>\n",
       "     <use x=\"111.230469\" xlink:href=\"#ArialMT-103\"/>\n",
       "     <use x=\"166.845703\" xlink:href=\"#ArialMT-101\"/>\n",
       "    </g>\n",
       "   </g>\n",
       "  </g>\n",
       " </g>\n",
       " <defs>\n",
       "  <clipPath id=\"p6f036599be\">\n",
       "   <rect height=\"217.44\" width=\"334.8\" x=\"7.2\" y=\"7.2\"/>\n",
       "  </clipPath>\n",
       " </defs>\n",
       "</svg>\n"
      ],
      "text/plain": [
       "<Figure size 432x288 with 1 Axes>"
      ]
     },
     "metadata": {
      "needs_background": "light"
     },
     "output_type": "display_data"
    }
   ],
   "source": [
    "vector_treemap_plotter(cleaned_text, \"Top 25 Words in Contract\")\n"
   ]
  },
  {
   "cell_type": "markdown",
   "metadata": {},
   "source": [
    "### Initial EDA Explanation"
   ]
  },
  {
   "cell_type": "markdown",
   "metadata": {},
   "source": [
    "Thanks to pdf miner, we were able to convert our single pdf file into a gigantic string. As is expected, however, that conversion wasn't perfect - there were lots of unwanted characters, spaces, quotation marks etc. These had to be cleaned out and processed using `WordVectorizer` in order to get our bag of words that we could bring out into intial visualizations. \n",
    "\n",
    "Our initial EDA of this sample contract tells us that the top few words relate to \"party\", \"trademark\", \"eclipse\" and \"agreement\". \n",
    "\n",
    "\"Party\" and \"agreement\" aren't very special in a contract as they simply refer to the contract itself and the people who are the parties to it. However, drawing from my own subject expertise in law, the following words have special legal meanings:\n",
    "\n",
    "**Trademark**: The second highest word count at 29 counts indicates that the agreement has to do with a trademark agreement. In a trademark licence agreement, the proprietor (Licensor) of a registered trademark gives authorization to another company (Licensee) to manufacture and distribute products under this trademark: https://www.globalnegotiator.com/international-trade/dictionary/trademark-license-agreement/#:~:text=Trade%20Tradem%20Tradeo-,Trademark%20license%20agreement,distribute%20products%20under%20this%20trademark.\n",
    "\n",
    "**Domain Name** and **Eclipse** : That trademark agreement centers around the company's domain name \"Eclipse\".\n",
    "\n",
    "**Title Interest**: This refers to the title and interest a.k.a the legal rights to use the \"Domain Name\", which is being assigned."
   ]
  },
  {
   "cell_type": "markdown",
   "metadata": {},
   "source": [
    "### What This Means for Modelling\n",
    "The intrinsically technical nature of contracts makes it easy to bring out keywords, which in turn should ideally help us to boost the accuracy of topic modelling. We have only run this clean on sample contract, however.\n",
    "\n",
    "Although I have a corpus of ~1000+ contracts at about nearly **800MB**, I haven't yet figured out how to write a for loop that does all of the above actions - including the pdf into dataframe row conversion - into one gigantic dataframe for the entire corpus. That will require further research, but for now we can see that the preliminary potential of topic modelling around contracts will work.\n",
    "\n",
    "The somewhat large dataset may mean that I may be best served running the eventual giant clean and convert to the cloud or a hybrid of the cloud and on-premise computing. "
   ]
  },
  {
   "cell_type": "code",
   "execution_count": null,
   "metadata": {},
   "outputs": [],
   "source": []
  }
 ],
 "metadata": {
  "kernelspec": {
   "display_name": "Python 3",
   "language": "python",
   "name": "python3"
  },
  "language_info": {
   "codemirror_mode": {
    "name": "ipython",
    "version": 3
   },
   "file_extension": ".py",
   "mimetype": "text/x-python",
   "name": "python",
   "nbconvert_exporter": "python",
   "pygments_lexer": "ipython3",
   "version": "3.7.6"
  }
 },
 "nbformat": 4,
 "nbformat_minor": 2
}

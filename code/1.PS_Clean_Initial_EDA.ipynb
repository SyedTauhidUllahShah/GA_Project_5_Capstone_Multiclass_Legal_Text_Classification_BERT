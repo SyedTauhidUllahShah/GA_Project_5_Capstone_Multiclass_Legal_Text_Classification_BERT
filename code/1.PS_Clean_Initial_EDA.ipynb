{
 "cells": [
  {
   "cell_type": "markdown",
   "metadata": {},
   "source": [
    "# Capstone Project: Using NLP to Summarize Contracts"
   ]
  },
  {
   "cell_type": "markdown",
   "metadata": {},
   "source": [
    "## Problem Statement \n",
    "Contracts can be long, dense and inaccessible, and a quick way to summarize the topics can give at least a good bird's eye view for legal stakeholders.\n",
    "\n",
    "Can we use NLP models like Transformers or LDA (TBC) to summarize the topics of a contract's content? To measure success, we will use perplexity and coherence, which are topic modelling classification metrics.\n",
    "\n",
    "Perplexity captures how surprised a model is of new data it has not seen before, and is measured as the normalized log-likelihood of a held-out test set - how well does the model represent or reproduce the statistics of the held-out data?\n",
    "\n",
    "Topic Coherence measures score a single topic by measuring the degree of semantic similarity between high scoring words in the topic. These measurements help distinguish between topics that are semantically interpretable topics and topics that are artifacts of statistical inference. \n",
    "\n",
    "* Initial Code adapted from Oguejio for Chibueze's NLP modelling article:\n",
    "https://towardsdatascience.com/nlp-for-topic-modeling-summarization-of-legal-documents-8c89393b1534\n",
    "* Topic Modelling metrics explanation:\n",
    "https://towardsdatascience.com/evaluate-topic-model-in-python-latent-dirichlet-allocation-lda-7d57484bb5d0"
   ]
  },
  {
   "cell_type": "markdown",
   "metadata": {},
   "source": [
    "## Initial Imports"
   ]
  },
  {
   "cell_type": "code",
   "execution_count": 1,
   "metadata": {},
   "outputs": [],
   "source": [
    "import re #we need regex because we're going to parse through textual data"
   ]
  },
  {
   "cell_type": "markdown",
   "metadata": {},
   "source": [
    "You have to run `pip install PyPDF` and `pip install plotly` in your command line terminal."
   ]
  },
  {
   "cell_type": "code",
   "execution_count": 2,
   "metadata": {},
   "outputs": [
    {
     "data": {
      "text/html": [
       "        <script type=\"text/javascript\">\n",
       "        window.PlotlyConfig = {MathJaxConfig: 'local'};\n",
       "        if (window.MathJax) {MathJax.Hub.Config({SVG: {font: \"STIX-Web\"}});}\n",
       "        if (typeof require !== 'undefined') {\n",
       "        require.undef(\"plotly\");\n",
       "        requirejs.config({\n",
       "            paths: {\n",
       "                'plotly': ['https://cdn.plot.ly/plotly-latest.min']\n",
       "            }\n",
       "        });\n",
       "        require(['plotly'], function(Plotly) {\n",
       "            window._Plotly = Plotly;\n",
       "        });\n",
       "        }\n",
       "        </script>\n",
       "        "
      ]
     },
     "metadata": {},
     "output_type": "display_data"
    },
    {
     "data": {
      "text/html": [
       "        <script type=\"text/javascript\">\n",
       "        window.PlotlyConfig = {MathJaxConfig: 'local'};\n",
       "        if (window.MathJax) {MathJax.Hub.Config({SVG: {font: \"STIX-Web\"}});}\n",
       "        if (typeof require !== 'undefined') {\n",
       "        require.undef(\"plotly\");\n",
       "        requirejs.config({\n",
       "            paths: {\n",
       "                'plotly': ['https://cdn.plot.ly/plotly-latest.min']\n",
       "            }\n",
       "        });\n",
       "        require(['plotly'], function(Plotly) {\n",
       "            window._Plotly = Plotly;\n",
       "        });\n",
       "        }\n",
       "        </script>\n",
       "        "
      ]
     },
     "metadata": {},
     "output_type": "display_data"
    }
   ],
   "source": [
    "#importing textual pandas, numpy, as well as PyPDF, \n",
    "# which is a Pure-Python library built as a PDF toolkit.\n",
    "import string \n",
    "import PyPDF2 as p2\n",
    "import numpy as np \n",
    "import pickle\n",
    "import pandas as pd \n",
    "\n",
    "#Imports For Visuals\n",
    "import matplotlib\n",
    "import matplotlib.pyplot as plt\n",
    "#making our square treemap plot larger\n",
    "from matplotlib import rcParams\n",
    "rcParams['figure.figsize'] = 16, 9\n",
    "import seaborn as sns\n",
    "\n",
    "%matplotlib inline\n",
    "\n",
    "#plotly, squarify and cufflinks interactive chart imports\n",
    "\n",
    "from plotly import __version__\n",
    "from plotly.offline import download_plotlyjs, init_notebook_mode, plot, iplot\n",
    "import cufflinks as cf\n",
    "import plotly.express as px #another related library of plotly that makes it easy to draw multiple plots\n",
    "import squarify\n",
    "\n",
    "#we have to make sure this code is run for Jupyter Notebooks otherwise the plots may not happen offline:\n",
    "init_notebook_mode(connected=True)\n",
    "cf.go_offline()"
   ]
  },
  {
   "cell_type": "code",
   "execution_count": 3,
   "metadata": {},
   "outputs": [],
   "source": [
    "# Gensim - a Natural Language Processing package that does ‘Topic Modeling for Humans'\n",
    "import gensim, spacy, logging, warnings\n",
    "import gensim.corpora as corpora\n",
    "from gensim.utils import lemmatize, simple_preprocess\n",
    "from gensim.models import CoherenceModel"
   ]
  },
  {
   "cell_type": "code",
   "execution_count": 4,
   "metadata": {},
   "outputs": [],
   "source": [
    "# NLTK Stop words - imported and also extended\n",
    "import nltk  # for text manipulation \n",
    "from nltk.corpus import stopwords\n",
    "stop_words = stopwords.words('english')\n",
    "stop_words.extend(['from', 'subject', 're', 'edu', \n",
    "                   'use', 'not', 'would', 'say', 'could', '_', \n",
    "                   'be', 'know', 'good', 'go', 'get', 'do', 'done', \n",
    "                   'try', 'many', 'some', 'nice', 'thank', 'think', \n",
    "                   'see', 'rather', 'easy', 'easily', \n",
    "                   'lot', 'lack', 'make', 'want', \n",
    "                   'seem', 'run', 'need', 'even', \n",
    "                   'right', 'line', 'even', 'also', 'may', 'take', 'come'])"
   ]
  },
  {
   "cell_type": "markdown",
   "metadata": {},
   "source": [
    "in command line terminal, type `python -m spacy download en_core_web_md`"
   ]
  },
  {
   "cell_type": "code",
   "execution_count": 5,
   "metadata": {},
   "outputs": [],
   "source": [
    "import re    # for regular expressions \n",
    "import spacy # another text processing library like nltk\n",
    "import en_core_web_md \n",
    "\n",
    "#en core web md is from spacy. it's an English multi-task CNN trained on OntoNotes, \n",
    "#with GloVe vectors trained on Common Crawl. \n",
    "#Assigns word vectors, POS tags, dependency parse and named entities.\n",
    "#https://spacy.io/models/en#en_core_web_md\n",
    "\n",
    "nlp = en_core_web_md.load()"
   ]
  },
  {
   "cell_type": "markdown",
   "metadata": {},
   "source": [
    "## Reading in PDF Data then Converting to Pandas"
   ]
  },
  {
   "cell_type": "code",
   "execution_count": 6,
   "metadata": {},
   "outputs": [],
   "source": [
    "#have to pip install pdfminer3, these imports and this loop will convert \n",
    "#whatever pdf is passed in the filepath after \"open\" into text.\n",
    "#https://stackoverflow.com/questions/56494070/how-to-use-pdfminer-six-with-python-3"
   ]
  },
  {
   "cell_type": "code",
   "execution_count": 7,
   "metadata": {},
   "outputs": [
    {
     "name": "stdout",
     "output_type": "stream",
     "text": [
      " \n",
      " \n",
      "\n",
      " \n",
      " \n",
      " \n",
      "\n",
      " \n",
      "\n",
      " \n",
      "\n",
      " \n",
      "\n",
      " \n",
      "\n",
      " \n",
      "\n",
      " \n",
      "\n",
      " \n",
      "\n",
      "M-100310 \n",
      "M-123302\n",
      "\n",
      "1st Advantage Federal Credit Union \n",
      "VISA Platinum Credit Card Agreement \n",
      "1st Advantage Federal Credit Union \n",
      "VISA Platinum Credit Card Agreement \n",
      "\n",
      "calculated by adding 4.5%-14.5% (the “spread”) to the Prime rate (the “index”) in effect on the first business day of the month immediately preceding January 1, April 1, \n",
      "calculated by adding 4.5%-14.5% (the “spread”) to the Prime rate (the “index”) in effect on the first business day of the month immediately preceding January 1, April 1, \n",
      "PERCENTAGE  RATE)  is  calculated  by  adding  4.5%-14.5% (the  “spread”)  to  the  Prime  rate  (the  “index”)  in  effect  at  the time of  the  review.  The  Finance \n",
      "PERCENTAGE  RATE)  is  calculated  by  adding  4.5%-14.5% (the  “spread”)  to  the  Prime  rate  (the  “index”)  in  effect  at  the time of  the  review.  The  Finance \n",
      "\n",
      " \n",
      " \n",
      " \n",
      " \n",
      "M-123302\n",
      "M-100310 \n",
      " \n",
      "In this Agreement the words “you” and “your” mean each and all of those who apply for the card or who sign this Agreement, “Card” means the VISA Platinum Card and \n",
      " \n",
      "duplicates and renewals we issue. Everyone who receives, signs, or uses a card issued under this Agreement must be a member of the Credit Union. “Account” means your \n",
      "VISA Platinum Credit Card Line of Credit Account with us. “We,” “us,” and “issuer” mean this Credit Union (or Credit Union Designee). \n",
      "M-123302\n",
      "1.  Responsibility: If we issue a card, you agree to repay all debts, related fees, and the Finance Charge arising from the use of the card and the card account. For example, you are \n",
      "In this Agreement the words “you” and “your” mean each and all of those who apply for the card or who sign this Agreement, “Card” means the VISA Platinum Card and \n",
      "responsible for charges made by yourself, your spouse, and minor children. You are also responsible for charges made by anyone else to whom you give the card. Your obligation to pay the \n",
      "duplicates and renewals we issue. Everyone who receives, signs, or uses a card issued under this Agreement must be a member of the Credit Union. “Account” means your \n",
      "account balance continues even though an agreement, divorce decree or judgment to which we are not a party may direct you or one of the other persons responsible to pay the account. Any \n",
      "person using the card is jointly responsible with you for charges he or she makes, but if that person signs the card he or she becomes a party to this Agreement and is also jointly responsible for \n",
      "VISA Platinum Credit Card Line of Credit Account with us. “We,” “us,” and “issuer” mean this Credit Union (or Credit Union Designee). \n",
      "all charges on the account, including yours. \n",
      "1.  Responsibility: If we issue a card, you agree to repay all debts, related fees, and the Finance Charge arising from the use of the card and the card account. For example, you are \n",
      "2.  Credit Line: If we approve your application, we will establish a self-replenishing Line of Credit for you and notify you of its account when we issue the card. You agree not to let the \n",
      "responsible for charges made by yourself, your spouse, and minor children. You are also responsible for charges made by anyone else to whom you give the card. Your obligation to pay the \n",
      "account balance continues even though an agreement, divorce decree or judgment to which we are not a party may direct you or one of the other persons responsible to pay the account. Any \n",
      "account balance exceed this approved Credit Line. Each payment you make on the account will restore your Credit Line by the amount of the payment which is applied to the principal. You \n",
      "person using the card is jointly responsible with you for charges he or she makes, but if that person signs the card he or she becomes a party to this Agreement and is also jointly responsible for \n",
      "may request an increase in your Credit Line only by written application to us, which must be approved by our Loan Team. By giving you written notice, our Loan Team may reduce your Credit \n",
      "all charges on the account, including yours. \n",
      "Line from time to time, or with good cause, revoke your card and terminate this Agreement. Good  cause includes your failure to comply with this Agreement or our adverse reevaluation of \n",
      "your credit worthiness. You may also terminate this Agreement at any time; termination by either of us does not affect your obligation to pay the account balance. The cards remain our property \n",
      "2.  Credit Line: If we approve your application, we will establish a self-replenishing Line of Credit for you and notify you of its account when we issue the card. You agree not to let the \n",
      "and you must recover and surrender to us all cards upon request and upon termination of this Agreement. \n",
      "account balance exceed this approved Credit Line. Each payment you make on the account will restore your Credit Line by the amount of the payment which is applied to the principal. You \n",
      "3.  Using the Card: Any financial service provided by 1st Advantage Federal Credit Union may be used for any transaction permitted by law. You agree that illegal use of any financial service \n",
      "may request an increase in your Credit Line only by written application to us, which must be approved by our Loan Team. By giving you written notice, our Loan Team may reduce your Credit \n",
      "Line from time to time, or with good cause, revoke your card and terminate this Agreement. Good  cause includes your failure to comply with this Agreement or our adverse reevaluation of \n",
      "will be deemed an action of default and/or breach of contract and such service and/or other related services may be terminated at 1st Advantage Federal Credit Union’s discretion. You further \n",
      "agree, should illegal use occur, to waive the right to sue 1st Advantage Federal Credit Union for such illegal activity directly or indirectly related to it. You also agree to indemnify and hold 1st \n",
      "your credit worthiness. You may also terminate this Agreement at any time; termination by either of us does not affect your obligation to pay the account balance. The cards remain our property \n",
      "Advantage Federal Credit Union harmless from any suits or other legal action or liability directly or indirectly resulting from such illegal use.  To make a purchase or cash advance, present the \n",
      "and you must recover and surrender to us all cards upon request and upon termination of this Agreement. \n",
      "card to a participating VISA plan merchant, to us or to another financial institution and sign the cash advance voucher which will be imprinted with your card. You will receive a copy of the \n",
      "3.  Using the Card: Any financial service provided by 1st Advantage Federal Credit Union may be used for any transaction permitted by law. You agree that illegal use of any financial service \n",
      "voucher, which you should retain to verify your monthly statement. We reserve the right to make a reasonable charge for each photostatic copy you may request. \n",
      "will be deemed an action of default and/or breach of contract and such service and/or other related services may be terminated at 1st Advantage Federal Credit Union’s discretion. You further \n",
      "4.  Foreign Transaction Fee (FTF):  Purchases and cash withdrawals made in foreign currencies will be debited from your account in U.S. dollars. The exchange rate used to convert foreign \n",
      "agree, should illegal use occur, to waive the right to sue 1st Advantage Federal Credit Union for such illegal activity directly or indirectly related to it. You also agree to indemnify and hold 1st \n",
      "Advantage Federal Credit Union harmless from any suits or other legal action or liability directly or indirectly resulting from such illegal use.  To make a purchase or cash advance, present the \n",
      "currency transactions to U.S. dollars is either a government-mandated exchange rate or a wholesale exchange rate and is selected by Visa. The rate Visa uses for a particular transaction is the \n",
      "card to a participating VISA plan merchant, to us or to another financial institution and sign the cash advance voucher which will be imprinted with your card. You will receive a copy of the \n",
      "rate Visa selects for the applicable currency on the day the transaction is processed. This rate may differ from the rate applicable on the date the transaction occurred or was posted to your \n",
      "voucher, which you should retain to verify your monthly statement. We reserve the right to make a reasonable charge for each photostatic copy you may request. \n",
      "account. A fee of up to 1% will be charged on all transactions completed outside of the United States, where the cardholder’s country code differs from the merchant’s country code. A fee of \n",
      "5.  Finance Charge: In order to avoid a finance charge on purchases made since your last statement date, you must pay the Total new Balance shown on your statement within 25 days of \n",
      "up to 1% will be charged on all transactions completed in a foreign currency. All fees are calculated based on the transaction amount after it is converted to U.S. dollars. These fees are charged \n",
      "the statement closing date. Otherwise, finance charge on purchases will be calculated from the beginning of the next statement period on previously billed but unpaid purchases from the \n",
      "4.  Foreign Transaction Fee (FTF):  Purchases and cash withdrawals made in foreign currencies will be debited from your account in U.S. dollars. The exchange rate used to convert foreign \n",
      "except where excluded. \n",
      "date they are posted to your account. Cash advances are always subject to finance charge from the date of the transaction. The FInAnCE ChArgE (ANNUAL PERCENTAGE RATE) is \n",
      "currency transactions to U.S. dollars is either a government-mandated exchange rate or a wholesale exchange rate and is selected by Visa. The rate Visa uses for a particular transaction is the \n",
      "5.       FINANCE  CHARGE:    In  order  to  avoid  a  finance  charge  on  purchases  made  since  your  last  statement  date,  you  must  pay  the  Total  new  Balance  shown  on  your \n",
      "rate Visa selects for the applicable currency on the day the transaction is processed. This rate may differ from the rate applicable on the date the transaction occurred or was posted to your \n",
      "account. A fee of up to 1% will be charged on all transactions completed outside of the United States, where the cardholder’s country code differs from the merchant’s country code. A fee of \n",
      "statement   within   25   days   of   the   statement   closing   date.     Otherwise,   finance   charges   on   purchases   will   be   calculated   from   the   beginning   of   the   next   statement  \n",
      "5.  Finance Charge: In order to avoid a finance charge on purchases made since your last statement date, you must pay the Total new Balance shown on your statement within 25 days of \n",
      "up to 1% will be charged on all transactions completed in a foreign currency. All fees are calculated based on the transaction amount after it is converted to U.S. dollars. These fees are charged \n",
      "period on  previously  billed  but  unpaid  purchases  from  the  date  they  are  posted  to  your  account.     Cash  advances  are  always  subject  to  finance  charges  from  the  date  \n",
      "the statement closing date. Otherwise, finance charge on purchases will be calculated from the beginning of the next statement period on previously billed but unpaid purchases from the \n",
      "July 1, and October 1. The FInAnCE ChArgE  will be applied to the average principal daily balances of purchase and cash advances of your account. If the index increases or decreases, the \n",
      "except where excluded. \n",
      "of  the transaction.    Your  Interest  rate  is  based  on  certain  credit-worthiness  criteria,  and  may  be  reviewed  annually  based  on  credit  history.    The Finance Charge (ANNUAL \n",
      "date they are posted to your account. Cash advances are always subject to finance charge from the date of the transaction. The FInAnCE ChArgE (ANNUAL PERCENTAGE RATE) is \n",
      "ANNUAL PERCENTAGE RATE and monthly periodic rate will increase and decrease for all existing balances on each January 1, April 1, July 1, and October 1. Because your minimum \n",
      "(the “spread”) to the Prime rate  (the “index”) in effect on the first business day of the month immediately preceding January 1, April 1, \n",
      "5.       FINANCE  CHARGE:    In  order  to  avoid  a  finance  charge  on  purchases  made  since  your  last  statement  date,  you  must  pay  the  Total  new  Balance  shown  on  your \n",
      "payment remains the same, any increase in the ANNUAL PERCENTAGE RATE will increase the number of your payments, but will not increase the amount of your payments. We figure \n",
      "statement   within   25   days   of   the   statement   closing   date.     Otherwise,   finance   charges   on   purchases   will   be   calculated   from   the   beginning   of   the   next   statement  \n",
      "the FInAnCE ChArgE  on your account by applying the periodic rate to the “average daily balance” of your account (including current transactions). To get the “average daily balance” we \n",
      "period on  previously  billed  but  unpaid  purchases  from  the  date  they  are  posted  to  your  account.     Cash  advances  are  always  subject  to  finance  charges  from  the  date  \n",
      "Charge will be applied to the average principal daily balances of purchase and cash advances of your account.  The index will be reviewed and adjusted quarterly.  If the index increases \n",
      "take the beginning balance of your account each day, add any new purchases and cash advances, excluding unpaid finance charges, and subtract any payments or credits. This gives us the \n",
      "July 1, and October 1. The FInAnCE ChArgE  will be applied to the average principal daily balances of purchase and cash advances of your account. If the index increases or decreases, the \n",
      "or decreases, the ANNUAL PERCENTAGE RATE and monthly periodic rate will increase and decrease for an existing balance (fixed rate balances prior to variable rate conversion \n",
      "of  the transaction.    Your  Interest  rate  is  based  on  certain  credit-worthiness  criteria,  and  may  be  reviewed  annually  based  on  credit  history.    The Finance Charge (ANNUAL \n",
      "ANNUAL PERCENTAGE RATE and monthly periodic rate will increase and decrease for all existing balances on each January 1, April 1, July 1, and October 1. Because your minimum \n",
      "daily balance. Then we add up all the daily balances for the billing cycle and divide the total by the number of days in the billing cycle. This gives us the “average daily balance.” \n",
      "(the “spread”) to the Prime rate  (the “index”) in effect on the first business day of the month immediately preceding January 1, April 1, \n",
      "are grandfathered from index increases and decreases).  We figure the Finance Charge on your account by applying the monthly periodic rate to the “average daily balance” of your \n",
      "payment remains the same, any increase in the ANNUAL PERCENTAGE RATE will increase the number of your payments, but will not increase the amount of your payments. We figure \n",
      "account (including current transactions).   To get the  “average daily balance”  we take the beginning balance  of  your account each day, add any new purchases and cash advances, \n",
      "the FInAnCE ChArgE  on your account by applying the periodic rate to the “average daily balance” of your account (including current transactions). To get the “average daily balance” we \n",
      "excluding unpaid finance charges, and subtract any payments or credits.  This gives us the daily balance.  Then we add up all the daily balances for the billing cycle and divide the total by \n",
      "Charge will be applied to the average principal daily balances of purchase and cash advances of your account.  The index will be reviewed and adjusted quarterly.  If the index increases \n",
      "take the beginning balance of your account each day, add any new purchases and cash advances, excluding unpaid finance charges, and subtract any payments or credits. This gives us the \n",
      "the number of days in the billing cycle.  This gives us the “average daily balance.” \n",
      "or decreases, the ANNUAL PERCENTAGE RATE and monthly periodic rate will increase and decrease for an existing balance (fixed rate balances prior to variable rate conversion \n",
      "daily balance. Then we add up all the daily balances for the billing cycle and divide the total by the number of days in the billing cycle. This gives us the “average daily balance.” \n",
      "6.   Fees: \n",
      "are grandfathered from index increases and decreases).  We figure the Finance Charge on your account by applying the monthly periodic rate to the “average daily balance” of your \n",
      "account (including current transactions).   To get the  “average daily balance”  we take the beginning balance  of  your account each day, add any new purchases and cash advances, \n",
      "excluding unpaid finance charges, and subtract any payments or credits.  This gives us the daily balance.  Then we add up all the daily balances for the billing cycle and divide the total by \n",
      "the number of days in the billing cycle.  This gives us the “average daily balance.” \n",
      "6.   Fees: \n",
      "7.  NO USE: Inactive Visa accounts that have no purchase or cash activity may be closed without notice to you after 18 months of no activity. \n",
      "8.  Monthly: Issuer will send to Cardholder, at monthly intervals determined by the Issuer, a statement reflecting for the prior monthly period all Visa Card and related Card transactions. Such \n",
      "statement shall be deemed correct and accepted by the Cardholder and all holders of related Cards unless Issuer is notified to the contract in writing within 60 days of mailing such statement. \n",
      "Each month you must pay at least the minimum payment shown on your statement within 25 days of the statement closing date. This Line of Credit will be repaid as follows: either the full \n",
      "7.  NO USE: Inactive Visa accounts that have no purchase or cash activity may be closed without notice to you after 18 months of no activity. \n",
      "amount billed shall be paid or at your option an installment equal to at least the required minimum balance billed. The required minimum monthly payment shall be the greater of (a) $25.00 \n",
      "(b) 3% of that portion of the outstanding balance that does not exceed your credit limit, plus any amount due. \n",
      "8.  Monthly: Issuer will send to Cardholder, at monthly intervals determined by the Issuer, a statement reflecting for the prior monthly period all Visa Card and related Card transactions. Such \n",
      "8a.  Payment Allocation: Subject to applicable law, your payments may be applied to what you owe the Credit Union in any manner the Credit Union chooses. \n",
      "statement shall be deemed correct and accepted by the Cardholder and all holders of related Cards unless Issuer is notified to the contract in writing within 60 days of mailing such statement. \n",
      "Each month you must pay at least the minimum payment shown on your statement within 25 days of the statement closing date. This Line of Credit will be repaid as follows: either the full \n",
      "9.  Security Interest: Payments on your Account are secured by any security interest in any property securing your other obligations to the Credit Union, whether existing now or in \n",
      "amount billed shall be paid or at your option an installment equal to at least the required minimum balance billed. The required minimum monthly payment shall be the greater of (a) $25.00 \n",
      "the future, except your household goods and your primary residence. Further, you hereby grant Credit Union security interest in all property purchased through this credit \n",
      "(b) 3% of that portion of the outstanding balance that does not exceed your credit limit, plus any amount due. \n",
      "plan, including a purchase-money security interest in any household goods purchased with an extension of credit upon this account. Also, you hereby grant Credit Union a pledge \n",
      "8a.  Payment Allocation: Subject to applicable law, your payments may be applied to what you owe the Credit Union in any manner the Credit Union chooses. \n",
      "of all shares and any other deposits which you have or may have in the future with the Credit Union, except for any deposit in an IRA or Keogh account. These security interests \n",
      "shall secure faithful performance of all obligations arising under this Agreement, and the Credit Union shall have all of the rights of a secured party in accordance with the Virginia \n",
      "9.  Security Interest: Payments on your Account are secured by any security interest in any property securing your other obligations to the Credit Union, whether existing now or in \n",
      "Commercial Code and other applicable law. \n",
      "the future, except your household goods and your primary residence. Further, you hereby grant Credit Union security interest in all property purchased through this credit \n",
      "10.  Default: You will be in default if: (a) you fail to pay the Minimum Payment Due by the Payment Due Date: (b) if the Credit Union, in good faith, believes your ability to pay your account \n",
      "plan, including a purchase-money security interest in any household goods purchased with an extension of credit upon this account. Also, you hereby grant Credit Union a pledge \n",
      "of all shares and any other deposits which you have or may have in the future with the Credit Union, except for any deposit in an IRA or Keogh account. These security interests \n",
      "is impaired: (c) your ability to repay is materially reduced by a change in your employment, by an increase in your obligations, by bankruptcy or insolvency proceedings involving you, by \n",
      "shall secure faithful performance of all obligations arising under this Agreement, and the Credit Union shall have all of the rights of a secured party in accordance with the Virginia \n",
      "your death, or (for community property state residents only) by a change in marital status or domicile: (d) you exceed your credit limit without our permission: (e) you have made a false or \n",
      "Commercial Code and other applicable law. \n",
      "misleading statement to us in your application or otherwise: (f) you are in default under any other agreement with us: or (g) you fail to perform any of your other obligations under the terms \n",
      "11.  Interest Rate Adjustment (Default Rate): 1st Advantage Federal Credit Union will adjust the interest rate on your account whenever your account is two (2) Minimum Payments past \n",
      "of this Agreement as it may be amended. Upon default we may close your Account to future purchases and advances and, to the extent not prohibited by governing  Law, demand immediate \n",
      "due during any six (6) month period. We will change your interest rate (including any promotional rate) to a fixed rate of 17.95% ANNUAL PERCENTAGE RATE, which is a monthly \n",
      "10.  Default: You will be in default if: (a) you fail to pay the Minimum Payment Due by the Payment Due Date: (b) if the Credit Union, in good faith, believes your ability to pay your account \n",
      "payment of your entire Account balance, after giving you any notice and opportunity to cure the default if required by applicable law. \n",
      "periodic rate of .04918%, on the first day of the billing cycle following that has two (2) Minimum Payments past due. After twelve (12) consecutive billing cycles of your account being paid \n",
      "is impaired: (c) your ability to repay is materially reduced by a change in your employment, by an increase in your obligations, by bankruptcy or insolvency proceedings involving you, by \n",
      "pursuant to the terms of your agreements with the Credit Union, we will change the interest rate to the rate that is then applicable to your account, which will become effective on the first day of \n",
      "11.  Interest Rate Adjustment (Default Rate): 1st Advantage Federal Credit Union will adjust the interest rate on your account whenever your account is two (2) Minimum Payments \n",
      "your death, or (for community property state residents only) by a change in marital status or domicile: (d) you exceed your credit limit without our permission: (e) you have made a false or \n",
      "the billing cycle following the twelfth consecutive billing cycle. \n",
      "past due during any six (6) month period. We will change your interest rate (including any promotional rate) to a fixed rate of 17.95% ANNUAL PERCENTAGE RATE, which is a \n",
      "misleading statement to us in your application or otherwise: (f) you are in default under any other agreement with us: or (g) you fail to perform any of your other obligations under the terms \n",
      "11.  Interest Rate Adjustment (Default Rate): 1st Advantage Federal Credit Union will adjust the interest rate on your account whenever your account is two (2) Minimum Payments past \n",
      "of this Agreement as it may be amended. Upon default we may close your Account to future purchases and advances and, to the extent not prohibited by governing  Law, demand immediate \n",
      "monthly periodic rate of 1.49583%, on the first day of the billing cycle following that has two (2) Minimum Payments past due. After twelve (12) consecutive billing cycles of your account \n",
      "due during any six (6) month period. We will change your interest rate (including any promotional rate) to a fixed rate of 17.95% ANNUAL PERCENTAGE RATE, which is a monthly \n",
      "being paid pursuant to the terms of your agreements with the Credit Union, we will change the interest rate to the rate that is then applicable to your account, which will become effective on \n",
      "payment of your entire Account balance, after giving you any notice and opportunity to cure the default if required by applicable law. \n",
      "periodic rate of .04918%, on the first day of the billing cycle following that has two (2) Minimum Payments past due. After twelve (12) consecutive billing cycles of your account being paid \n",
      "the first day of the billing cycle following the twelfth consecutive billing cycle. \n",
      "pursuant to the terms of your agreements with the Credit Union, we will change the interest rate to the rate that is then applicable to your account, which will become effective on the first day of \n",
      "11.  Interest Rate Adjustment (Default Rate): 1st Advantage Federal Credit Union will adjust the interest rate on your account whenever your account is two (2) Minimum Payments \n",
      "the billing cycle following the twelfth consecutive billing cycle. \n",
      "12.  Member Liability: You agree to notify us immediately, orally or in writing, at 1st Advantage FCU, Box 2116, Newport News, VA 23609-0116 (800-359-7650 or 757-877-2444) of the \n",
      "past due during any six (6) month period. We will change your interest rate (including any promotional rate) to a fixed rate of 17.95% ANNUAL PERCENTAGE RATE, which is a \n",
      "loss, theft, or unauthorized use of your credit card. You may be liable for the unauthorized use of your credit card. You will not be liable for unauthorized use that occurs after you notify us of \n",
      "monthly periodic rate of 1.49583%, on the first day of the billing cycle following that has two (2) Minimum Payments past due. After twelve (12) consecutive billing cycles of your account \n",
      "the loss, theft, or possible unauthorized use. In any case your liability will not exceed $50 for unauthorized cash advances at ATMs. You will have no liability for unauthorized purchases made \n",
      "being paid pursuant to the terms of your agreements with the Credit Union, we will change the interest rate to the rate that is then applicable to your account, which will become effective on \n",
      "with your credit card. If you report your card Lost/Stolen, it is your responsibility to destroy any remaining cards with that number. If you find the Lost/Stolen card you should destroy the card \n",
      "the first day of the billing cycle following the twelfth consecutive billing cycle. \n",
      "and notify the Credit Union (or Credit Union Designee). If you see the card and it is recovered by an authorized VISA merchant (because it appears on the revoked Card List or the VISA \n",
      "12.  Member Liability: You agree to notify us immediately, orally or in writing, at 1st Advantage FCU, Box 2116, Newport News, VA 23609-0116 (800-359-7650 or 757-877-2444) of the \n",
      "Center tells the merchant to pick up card) then you will be liable for any fees or rewards resulting from your unauthorized use of the card. \n",
      "loss, theft, or unauthorized use of your credit card. You may be liable for the unauthorized use of your credit card. You will not be liable for unauthorized use that occurs after you notify us of \n",
      "13.  Collection Costs: You agree to pay all costs incurred by the Credit Union in collecting any amounts you owe or in enforcing or protecting the Credit Union rights under this Agreement, \n",
      "the loss, theft, or possible unauthorized use. In any case your liability will not exceed $50 for unauthorized cash advances at ATMs. You will have no liability for unauthorized purchases made \n",
      "with your credit card. If you report your card Lost/Stolen, it is your responsibility to destroy any remaining cards with that number. If you find the Lost/Stolen card you should destroy the card \n",
      "including attorney’s fees and also those costs, expenses and attorney’s fees incurred in any appellate, bankruptcy and post-judgment proceedings, except as limited or prohibited by applicable law. \n",
      "and notify the Credit Union (or Credit Union Designee). If you see the card and it is recovered by an authorized VISA merchant (because it appears on the revoked Card List or the VISA \n",
      "Center tells the merchant to pick up card) then you will be liable for any fees or rewards resulting from your unauthorized use of the card. \n",
      "13.  Collection Costs: You agree to pay all costs incurred by the Credit Union in collecting any amounts you owe or in enforcing or protecting the Credit Union rights under this Agreement, \n",
      "including attorney’s fees and also those costs, expenses and attorney’s fees incurred in any appellate, bankruptcy and post-judgment proceedings, except as limited or prohibited by applicable law. \n",
      "\n",
      "1. $5.00 per card - replacement of card fee on Lost/Stolen or damaged card. \n",
      "2. $25.00 - Return Check fee for a check returned for nonpayment on your VISA account. \n",
      "3. $25.00 - Late Payment fee 10 days after due date. \n",
      "4. 1% of Amount after Conversion - Foreign Transaction Fee. \n",
      "1. $5.00 per card - replacement of card fee on Lost/Stolen or damaged card. \n",
      "2. $25.00 - Return Check fee for a check returned for nonpayment on your VISA account. \n",
      "3. $25.00 - Late Payment fee 10 days after due date. \n",
      "4. 1% of Amount after Conversion - Foreign Transaction Fee. \n",
      "\n",
      "\f",
      "14.  Effect of Agreement: This Agreement is the contract which applies to all transactions on your account even though the sales, cash advance or credit slips you sign may contain different \n",
      "terms. We may amend this Agreement from time to time by sending you the advance written notice required by law. Your use of the card thereafter will indicate your agreement to the \n",
      "amendments. To the extent the law permits and we indicate in our notice, amendments will apply to your existing account balance as well as to future transactions. \n",
      "15.  Military Lending Act (MLA):  Federal law provides important protections to members of the Armed Forces and their dependents relating to extensions of consumer credit. In \n",
      "general, the cost of consumer credit to a member of the Armed Forces and his or her dependent may not exceed an annual percentage rate of 36 percent. This rate must include, as \n",
      "applicable to the credit transaction or account: The costs associated with credit insurance premiums; fees for ancillary products sold in connection with the credit transaction; any \n",
      "application fee charged (other than certain application fees for specified credit transactions or accounts); and any participation fee charged (other than certain participation fees for a \n",
      "credit card account).  To obtain an oral disclosure, please call 800-359-7650. \n",
      " \n",
      "Additional Terms of Visa® Agreement \n",
      "To the extent not prohibited by applicable law, the terms, interpretation and enforcement of any claim or dispute arising under this Agreement, as well as all parties’ \n",
      "rights and duties, will be governed by Virginia law regardless where you may reside or use your account. Further, this Agreement is the contract which governs \n",
      "all transactions on your Account even though sales, cash advances, credit or other slips may contain different terms. You may not transfer or assign your Account \n",
      "or Card to any other person. The Credit Union may assign or transfer this Account, your Account balance, or this Agreement to another person, who will have \n",
      "all of our rights hereunder. This Agreement is binding on your heirs and legal representatives. If there are joint obligors or authorized users for this credit plan, \n",
      "each of you will have the right to use the Account to obtain loans pursuant to the terms hereof. Each of you will be liable for all obligations owing on the Account \n",
      "whether borrowed by you or otherwise and whether within or beyond the credit limit. Your liability will be joint and several. Either party has the right to cancel \n",
      "this Agreement. Further, each of you are responsible for all amounts borrowed by any authorized users and other users may also be required to repay the amount \n",
      "owed for charges they make; however, you remain, at all times, primarily responsible for all amounts owed. All Cards, billing statements and notices will be mailed \n",
      "or delivered to the address given on the application for either applicant unless you direct otherwise in writing. If any law or judicial ruling makes any provision of \n",
      "this Agreement unenforceable, the other provisions will remain in full force and effect. You agree that your Account will also be subject to all rules and regulations of \n",
      "VISA U.S.A., Inc. as applicable. If there is any conflict between this Agreement and the rules and regulations of VISA U.S.A., Inc., the rules and regulations of VISA \n",
      "U.S.A., Inc., will control. \n",
      "Limitations of Lawsuits. You agree that any lawsuit based on a cause of action against us must be filed within one year from the date it arises, or you shall be barred \n",
      "from filing any lawsuit. This limitation includes tort, contract and all other causes of action for which you and we may lawfully contract to limit as set forth in this \n",
      "Agreement. \n",
      " \n",
      "\n",
      "YOUR BILLING RIGHTS \n",
      "\n",
      "KEEP THIS  NOTICE FOR FUTURE USE \n",
      "\n",
      " \n",
      "\n",
      " This notice contains important information about your rights and our responsibilities under the Fair Credit Billing Act.  Notify  us in case of errors or questions about your bill. \n",
      "If you think your bill is wrong, or if you need more information about a transaction on your bill, write us on a separate sheet at the following address and send to Customer \n",
      "Service, PO Box 31112, Tampa, FL 33631-3112, or call at 1-800-654-7728. Write to us as soon as possible. We must hear from you no later than 60 days after we sent you the \n",
      "first bill on which the error or problem appeared. You can telephone us, but doing so will not preserve your rights. \n",
      "In your letter, give us the following information: \n",
      "•    Your name and account number. \n",
      "•    The dollar amount of the suspected error. \n",
      "•    Describe the error and explain, if you can, why you believe there is an error. If you need more information, describe the Item you are not sure about. \n",
      "Your Rights and Our Responsibilities After We Receive Your Written Notice \n",
      "We must acknowledge your letter within 30 days, unless we have corrected the error by then. Within 90 days, we must either correct the error or explain why we believe the \n",
      "bill was correct. \n",
      "•    After we receive your letter, we cannot try to collect any amount you question, or report you as a delinquent. We can continue to bill you for the amount you question, \n",
      "\n",
      "including finance charges, and we can apply an unpaid amount against your credit limit. You do not have to pay any questioned amount while we are investigating, but you \n",
      "are still obligated to pay the parts of your bill that are not in question. \n",
      "•     If we find that we made a mistake on your bill, you will not have to pay any finance charges related to any questioned amount. If we didn’t make a mistake, you may \n",
      "have to pay finance charges, and you will have to make up any missed payments on the questioned amount. In either case, we will send you a statement of the amount you \n",
      "owe and the date that it is due. \n",
      "•     If you fail to pay the amount that we think you owe, we may report you as delinquent. However, if our explanation does not satisfy you and you write to us within ten \n",
      "days telling us that you still refuse to pay, we must tell anyone we report you to that you have a question about your bill. And, we must tell you the name of anyone we \n",
      "reported you to. We must tell anyone we report you to that the matter has been settled between us when it finally is. \n",
      "any tort or related claims arising from such purchases. \n",
      "\n",
      "•    If we do not follow these rules, we cannot collect the first $50 of the questioned amount, even if your bill was correct. Furthermore, the Credit Union has no liability for \n",
      "Special Rule for Credit Card Purchases \n",
      "If you have a problem with the quality of property or services that you purchased with a credit card, and you have tried in good faith to correct the problem with the merchant, \n",
      "you may have the right not to pay the remaining amount due on the property or services. There are two limitations on this right: (a) You must have made the purchase in your \n",
      "home state or, if not within your home state, within 100 miles of your current mailing address; and (b) The purchase price must have been more than $50.  These limitations \n",
      "do not apply if we own or operate the merchant, or if we mailed you the advertisement for the property or services. \n",
      "\n",
      "9/17 \n",
      " \n",
      "\n",
      " \n",
      "\n",
      " \n",
      " \n",
      " \n",
      " \n",
      " \n",
      " \n",
      " \n",
      " \n",
      " \n",
      " \n",
      " \n",
      " \n",
      " \n",
      " \n",
      " \n",
      " \n",
      " \n",
      " \n",
      " \n",
      "\n",
      "\f",
      "\n"
     ]
    }
   ],
   "source": [
    "from pdfminer3.layout import LAParams, LTTextBox\n",
    "from pdfminer3.pdfpage import PDFPage\n",
    "from pdfminer3.pdfinterp import PDFResourceManager\n",
    "from pdfminer3.pdfinterp import PDFPageInterpreter\n",
    "from pdfminer3.converter import PDFPageAggregator\n",
    "from pdfminer3.converter import TextConverter\n",
    "import io\n",
    "\n",
    "resource_manager = PDFResourceManager()\n",
    "fake_file_handle = io.StringIO()\n",
    "converter = TextConverter(resource_manager, fake_file_handle, laparams=LAParams())\n",
    "page_interpreter = PDFPageInterpreter(resource_manager, converter)\n",
    "\n",
    "with open('../data/hard_sample.pdf', 'rb') as fh:\n",
    "\n",
    "    for page in PDFPage.get_pages(fh,\n",
    "                                  caching=True,\n",
    "                                  check_extractable=True):\n",
    "        page_interpreter.process_page(page)\n",
    "\n",
    "    text = fake_file_handle.getvalue()\n",
    "\n",
    "# close open handles\n",
    "converter.close()\n",
    "fake_file_handle.close()\n",
    "\n",
    "print(text)"
   ]
  },
  {
   "cell_type": "code",
   "execution_count": 8,
   "metadata": {},
   "outputs": [
    {
     "data": {
      "text/plain": [
       "str"
      ]
     },
     "execution_count": 8,
     "metadata": {},
     "output_type": "execute_result"
    }
   ],
   "source": [
    "type(text)\n",
    "\n",
    "#we just created one gigantic string"
   ]
  },
  {
   "cell_type": "code",
   "execution_count": 9,
   "metadata": {},
   "outputs": [],
   "source": [
    "#read the text as a list\n",
    "\n",
    "text_list = text.split(\"delimiter\")"
   ]
  },
  {
   "cell_type": "code",
   "execution_count": 10,
   "metadata": {},
   "outputs": [
    {
     "data": {
      "text/plain": [
       "[' \\n \\n\\n \\n \\n \\n\\n \\n\\n \\n\\n \\n\\n \\n\\n \\n\\n \\n\\n \\n\\nM-100310 \\nM-123302\\n\\n1st Advantage Federal Credit Union \\nVISA Platinum Credit Card Agreement \\n1st Advantage Federal Credit Union \\nVISA Platinum Credit Card Agreement \\n\\ncalculated by adding 4.5%-14.5% (the “spread”) to the Prime rate (the “index”) in effect on the first business day of the month immediately preceding January 1, April 1, \\ncalculated by adding 4.5%-14.5% (the “spread”) to the Prime rate (the “index”) in effect on the first business day of the month immediately preceding January 1, April 1, \\nPERCENTAGE  RATE)  is  calculated  by  adding  4.5%-14.5% (the  “spread”)  to  the  Prime  rate  (the  “index”)  in  effect  at  the time of  the  review.  The  Finance \\nPERCENTAGE  RATE)  is  calculated  by  adding  4.5%-14.5% (the  “spread”)  to  the  Prime  rate  (the  “index”)  in  effect  at  the time of  the  review.  The  Finance \\n\\n \\n \\n \\n \\nM-123302\\nM-100310 \\n \\nIn this Agreement the words “you” and “your” mean each and all of those who apply for the card or who sign this Agreement, “Card” means the VISA Platinum Card and \\n \\nduplicates and renewals we issue. Everyone who receives, signs, or uses a card issued under this Agreement must be a member of the Credit Union. “Account” means your \\nVISA Platinum Credit Card Line of Credit Account with us. “We,” “us,” and “issuer” mean this Credit Union (or Credit Union Designee). \\nM-123302\\n1.  Responsibility: If we issue a card, you agree to repay all debts, related fees, and the Finance Charge arising from the use of the card and the card account. For example, you are \\nIn this Agreement the words “you” and “your” mean each and all of those who apply for the card or who sign this Agreement, “Card” means the VISA Platinum Card and \\nresponsible for charges made by yourself, your spouse, and minor children. You are also responsible for charges made by anyone else to whom you give the card. Your obligation to pay the \\nduplicates and renewals we issue. Everyone who receives, signs, or uses a card issued under this Agreement must be a member of the Credit Union. “Account” means your \\naccount balance continues even though an agreement, divorce decree or judgment to which we are not a party may direct you or one of the other persons responsible to pay the account. Any \\nperson using the card is jointly responsible with you for charges he or she makes, but if that person signs the card he or she becomes a party to this Agreement and is also jointly responsible for \\nVISA Platinum Credit Card Line of Credit Account with us. “We,” “us,” and “issuer” mean this Credit Union (or Credit Union Designee). \\nall charges on the account, including yours. \\n1.  Responsibility: If we issue a card, you agree to repay all debts, related fees, and the Finance Charge arising from the use of the card and the card account. For example, you are \\n2.  Credit Line: If we approve your application, we will establish a self-replenishing Line of Credit for you and notify you of its account when we issue the card. You agree not to let the \\nresponsible for charges made by yourself, your spouse, and minor children. You are also responsible for charges made by anyone else to whom you give the card. Your obligation to pay the \\naccount balance continues even though an agreement, divorce decree or judgment to which we are not a party may direct you or one of the other persons responsible to pay the account. Any \\naccount balance exceed this approved Credit Line. Each payment you make on the account will restore your Credit Line by the amount of the payment which is applied to the principal. You \\nperson using the card is jointly responsible with you for charges he or she makes, but if that person signs the card he or she becomes a party to this Agreement and is also jointly responsible for \\nmay request an increase in your Credit Line only by written application to us, which must be approved by our Loan Team. By giving you written notice, our Loan Team may reduce your Credit \\nall charges on the account, including yours. \\nLine from time to time, or with good cause, revoke your card and terminate this Agreement. Good  cause includes your failure to comply with this Agreement or our adverse reevaluation of \\nyour credit worthiness. You may also terminate this Agreement at any time; termination by either of us does not affect your obligation to pay the account balance. The cards remain our property \\n2.  Credit Line: If we approve your application, we will establish a self-replenishing Line of Credit for you and notify you of its account when we issue the card. You agree not to let the \\nand you must recover and surrender to us all cards upon request and upon termination of this Agreement. \\naccount balance exceed this approved Credit Line. Each payment you make on the account will restore your Credit Line by the amount of the payment which is applied to the principal. You \\n3.  Using the Card: Any financial service provided by 1st Advantage Federal Credit Union may be used for any transaction permitted by law. You agree that illegal use of any financial service \\nmay request an increase in your Credit Line only by written application to us, which must be approved by our Loan Team. By giving you written notice, our Loan Team may reduce your Credit \\nLine from time to time, or with good cause, revoke your card and terminate this Agreement. Good  cause includes your failure to comply with this Agreement or our adverse reevaluation of \\nwill be deemed an action of default and/or breach of contract and such service and/or other related services may be terminated at 1st Advantage Federal Credit Union’s discretion. You further \\nagree, should illegal use occur, to waive the right to sue 1st Advantage Federal Credit Union for such illegal activity directly or indirectly related to it. You also agree to indemnify and hold 1st \\nyour credit worthiness. You may also terminate this Agreement at any time; termination by either of us does not affect your obligation to pay the account balance. The cards remain our property \\nAdvantage Federal Credit Union harmless from any suits or other legal action or liability directly or indirectly resulting from such illegal use.  To make a purchase or cash advance, present the \\nand you must recover and surrender to us all cards upon request and upon termination of this Agreement. \\ncard to a participating VISA plan merchant, to us or to another financial institution and sign the cash advance voucher which will be imprinted with your card. You will receive a copy of the \\n3.  Using the Card: Any financial service provided by 1st Advantage Federal Credit Union may be used for any transaction permitted by law. You agree that illegal use of any financial service \\nvoucher, which you should retain to verify your monthly statement. We reserve the right to make a reasonable charge for each photostatic copy you may request. \\nwill be deemed an action of default and/or breach of contract and such service and/or other related services may be terminated at 1st Advantage Federal Credit Union’s discretion. You further \\n4.  Foreign Transaction Fee (FTF):  Purchases and cash withdrawals made in foreign currencies will be debited from your account in U.S. dollars. The exchange rate used to convert foreign \\nagree, should illegal use occur, to waive the right to sue 1st Advantage Federal Credit Union for such illegal activity directly or indirectly related to it. You also agree to indemnify and hold 1st \\nAdvantage Federal Credit Union harmless from any suits or other legal action or liability directly or indirectly resulting from such illegal use.  To make a purchase or cash advance, present the \\ncurrency transactions to U.S. dollars is either a government-mandated exchange rate or a wholesale exchange rate and is selected by Visa. The rate Visa uses for a particular transaction is the \\ncard to a participating VISA plan merchant, to us or to another financial institution and sign the cash advance voucher which will be imprinted with your card. You will receive a copy of the \\nrate Visa selects for the applicable currency on the day the transaction is processed. This rate may differ from the rate applicable on the date the transaction occurred or was posted to your \\nvoucher, which you should retain to verify your monthly statement. We reserve the right to make a reasonable charge for each photostatic copy you may request. \\naccount. A fee of up to 1% will be charged on all transactions completed outside of the United States, where the cardholder’s country code differs from the merchant’s country code. A fee of \\n5.  Finance Charge: In order to avoid a finance charge on purchases made since your last statement date, you must pay the Total new Balance shown on your statement within 25 days of \\nup to 1% will be charged on all transactions completed in a foreign currency. All fees are calculated based on the transaction amount after it is converted to U.S. dollars. These fees are charged \\nthe statement closing date. Otherwise, finance charge on purchases will be calculated from the beginning of the next statement period on previously billed but unpaid purchases from the \\n4.  Foreign Transaction Fee (FTF):  Purchases and cash withdrawals made in foreign currencies will be debited from your account in U.S. dollars. The exchange rate used to convert foreign \\nexcept where excluded. \\ndate they are posted to your account. Cash advances are always subject to finance charge from the date of the transaction. The FInAnCE ChArgE (ANNUAL PERCENTAGE RATE) is \\ncurrency transactions to U.S. dollars is either a government-mandated exchange rate or a wholesale exchange rate and is selected by Visa. The rate Visa uses for a particular transaction is the \\n5.       FINANCE  CHARGE:    In  order  to  avoid  a  finance  charge  on  purchases  made  since  your  last  statement  date,  you  must  pay  the  Total  new  Balance  shown  on  your \\nrate Visa selects for the applicable currency on the day the transaction is processed. This rate may differ from the rate applicable on the date the transaction occurred or was posted to your \\naccount. A fee of up to 1% will be charged on all transactions completed outside of the United States, where the cardholder’s country code differs from the merchant’s country code. A fee of \\nstatement   within   25   days   of   the   statement   closing   date.     Otherwise,   finance   charges   on   purchases   will   be   calculated   from   the   beginning   of   the   next   statement  \\n5.  Finance Charge: In order to avoid a finance charge on purchases made since your last statement date, you must pay the Total new Balance shown on your statement within 25 days of \\nup to 1% will be charged on all transactions completed in a foreign currency. All fees are calculated based on the transaction amount after it is converted to U.S. dollars. These fees are charged \\nperiod on  previously  billed  but  unpaid  purchases  from  the  date  they  are  posted  to  your  account.     Cash  advances  are  always  subject  to  finance  charges  from  the  date  \\nthe statement closing date. Otherwise, finance charge on purchases will be calculated from the beginning of the next statement period on previously billed but unpaid purchases from the \\nJuly 1, and October 1. The FInAnCE ChArgE  will be applied to the average principal daily balances of purchase and cash advances of your account. If the index increases or decreases, the \\nexcept where excluded. \\nof  the transaction.    Your  Interest  rate  is  based  on  certain  credit-worthiness  criteria,  and  may  be  reviewed  annually  based  on  credit  history.    The Finance Charge (ANNUAL \\ndate they are posted to your account. Cash advances are always subject to finance charge from the date of the transaction. The FInAnCE ChArgE (ANNUAL PERCENTAGE RATE) is \\nANNUAL PERCENTAGE RATE and monthly periodic rate will increase and decrease for all existing balances on each January 1, April 1, July 1, and October 1. Because your minimum \\n(the “spread”) to the Prime rate  (the “index”) in effect on the first business day of the month immediately preceding January 1, April 1, \\n5.       FINANCE  CHARGE:    In  order  to  avoid  a  finance  charge  on  purchases  made  since  your  last  statement  date,  you  must  pay  the  Total  new  Balance  shown  on  your \\npayment remains the same, any increase in the ANNUAL PERCENTAGE RATE will increase the number of your payments, but will not increase the amount of your payments. We figure \\nstatement   within   25   days   of   the   statement   closing   date.     Otherwise,   finance   charges   on   purchases   will   be   calculated   from   the   beginning   of   the   next   statement  \\nthe FInAnCE ChArgE  on your account by applying the periodic rate to the “average daily balance” of your account (including current transactions). To get the “average daily balance” we \\nperiod on  previously  billed  but  unpaid  purchases  from  the  date  they  are  posted  to  your  account.     Cash  advances  are  always  subject  to  finance  charges  from  the  date  \\nCharge will be applied to the average principal daily balances of purchase and cash advances of your account.  The index will be reviewed and adjusted quarterly.  If the index increases \\ntake the beginning balance of your account each day, add any new purchases and cash advances, excluding unpaid finance charges, and subtract any payments or credits. This gives us the \\nJuly 1, and October 1. The FInAnCE ChArgE  will be applied to the average principal daily balances of purchase and cash advances of your account. If the index increases or decreases, the \\nor decreases, the ANNUAL PERCENTAGE RATE and monthly periodic rate will increase and decrease for an existing balance (fixed rate balances prior to variable rate conversion \\nof  the transaction.    Your  Interest  rate  is  based  on  certain  credit-worthiness  criteria,  and  may  be  reviewed  annually  based  on  credit  history.    The Finance Charge (ANNUAL \\nANNUAL PERCENTAGE RATE and monthly periodic rate will increase and decrease for all existing balances on each January 1, April 1, July 1, and October 1. Because your minimum \\ndaily balance. Then we add up all the daily balances for the billing cycle and divide the total by the number of days in the billing cycle. This gives us the “average daily balance.” \\n(the “spread”) to the Prime rate  (the “index”) in effect on the first business day of the month immediately preceding January 1, April 1, \\nare grandfathered from index increases and decreases).  We figure the Finance Charge on your account by applying the monthly periodic rate to the “average daily balance” of your \\npayment remains the same, any increase in the ANNUAL PERCENTAGE RATE will increase the number of your payments, but will not increase the amount of your payments. We figure \\naccount (including current transactions).   To get the  “average daily balance”  we take the beginning balance  of  your account each day, add any new purchases and cash advances, \\nthe FInAnCE ChArgE  on your account by applying the periodic rate to the “average daily balance” of your account (including current transactions). To get the “average daily balance” we \\nexcluding unpaid finance charges, and subtract any payments or credits.  This gives us the daily balance.  Then we add up all the daily balances for the billing cycle and divide the total by \\nCharge will be applied to the average principal daily balances of purchase and cash advances of your account.  The index will be reviewed and adjusted quarterly.  If the index increases \\ntake the beginning balance of your account each day, add any new purchases and cash advances, excluding unpaid finance charges, and subtract any payments or credits. This gives us the \\nthe number of days in the billing cycle.  This gives us the “average daily balance.” \\nor decreases, the ANNUAL PERCENTAGE RATE and monthly periodic rate will increase and decrease for an existing balance (fixed rate balances prior to variable rate conversion \\ndaily balance. Then we add up all the daily balances for the billing cycle and divide the total by the number of days in the billing cycle. This gives us the “average daily balance.” \\n6.   Fees: \\nare grandfathered from index increases and decreases).  We figure the Finance Charge on your account by applying the monthly periodic rate to the “average daily balance” of your \\naccount (including current transactions).   To get the  “average daily balance”  we take the beginning balance  of  your account each day, add any new purchases and cash advances, \\nexcluding unpaid finance charges, and subtract any payments or credits.  This gives us the daily balance.  Then we add up all the daily balances for the billing cycle and divide the total by \\nthe number of days in the billing cycle.  This gives us the “average daily balance.” \\n6.   Fees: \\n7.  NO USE: Inactive Visa accounts that have no purchase or cash activity may be closed without notice to you after 18 months of no activity. \\n8.  Monthly: Issuer will send to Cardholder, at monthly intervals determined by the Issuer, a statement reflecting for the prior monthly period all Visa Card and related Card transactions. Such \\nstatement shall be deemed correct and accepted by the Cardholder and all holders of related Cards unless Issuer is notified to the contract in writing within 60 days of mailing such statement. \\nEach month you must pay at least the minimum payment shown on your statement within 25 days of the statement closing date. This Line of Credit will be repaid as follows: either the full \\n7.  NO USE: Inactive Visa accounts that have no purchase or cash activity may be closed without notice to you after 18 months of no activity. \\namount billed shall be paid or at your option an installment equal to at least the required minimum balance billed. The required minimum monthly payment shall be the greater of (a) $25.00 \\n(b) 3% of that portion of the outstanding balance that does not exceed your credit limit, plus any amount due. \\n8.  Monthly: Issuer will send to Cardholder, at monthly intervals determined by the Issuer, a statement reflecting for the prior monthly period all Visa Card and related Card transactions. Such \\n8a.  Payment Allocation: Subject to applicable law, your payments may be applied to what you owe the Credit Union in any manner the Credit Union chooses. \\nstatement shall be deemed correct and accepted by the Cardholder and all holders of related Cards unless Issuer is notified to the contract in writing within 60 days of mailing such statement. \\nEach month you must pay at least the minimum payment shown on your statement within 25 days of the statement closing date. This Line of Credit will be repaid as follows: either the full \\n9.  Security Interest: Payments on your Account are secured by any security interest in any property securing your other obligations to the Credit Union, whether existing now or in \\namount billed shall be paid or at your option an installment equal to at least the required minimum balance billed. The required minimum monthly payment shall be the greater of (a) $25.00 \\nthe future, except your household goods and your primary residence. Further, you hereby grant Credit Union security interest in all property purchased through this credit \\n(b) 3% of that portion of the outstanding balance that does not exceed your credit limit, plus any amount due. \\nplan, including a purchase-money security interest in any household goods purchased with an extension of credit upon this account. Also, you hereby grant Credit Union a pledge \\n8a.  Payment Allocation: Subject to applicable law, your payments may be applied to what you owe the Credit Union in any manner the Credit Union chooses. \\nof all shares and any other deposits which you have or may have in the future with the Credit Union, except for any deposit in an IRA or Keogh account. These security interests \\nshall secure faithful performance of all obligations arising under this Agreement, and the Credit Union shall have all of the rights of a secured party in accordance with the Virginia \\n9.  Security Interest: Payments on your Account are secured by any security interest in any property securing your other obligations to the Credit Union, whether existing now or in \\nCommercial Code and other applicable law. \\nthe future, except your household goods and your primary residence. Further, you hereby grant Credit Union security interest in all property purchased through this credit \\n10.  Default: You will be in default if: (a) you fail to pay the Minimum Payment Due by the Payment Due Date: (b) if the Credit Union, in good faith, believes your ability to pay your account \\nplan, including a purchase-money security interest in any household goods purchased with an extension of credit upon this account. Also, you hereby grant Credit Union a pledge \\nof all shares and any other deposits which you have or may have in the future with the Credit Union, except for any deposit in an IRA or Keogh account. These security interests \\nis impaired: (c) your ability to repay is materially reduced by a change in your employment, by an increase in your obligations, by bankruptcy or insolvency proceedings involving you, by \\nshall secure faithful performance of all obligations arising under this Agreement, and the Credit Union shall have all of the rights of a secured party in accordance with the Virginia \\nyour death, or (for community property state residents only) by a change in marital status or domicile: (d) you exceed your credit limit without our permission: (e) you have made a false or \\nCommercial Code and other applicable law. \\nmisleading statement to us in your application or otherwise: (f) you are in default under any other agreement with us: or (g) you fail to perform any of your other obligations under the terms \\n11.  Interest Rate Adjustment (Default Rate): 1st Advantage Federal Credit Union will adjust the interest rate on your account whenever your account is two (2) Minimum Payments past \\nof this Agreement as it may be amended. Upon default we may close your Account to future purchases and advances and, to the extent not prohibited by governing  Law, demand immediate \\ndue during any six (6) month period. We will change your interest rate (including any promotional rate) to a fixed rate of 17.95% ANNUAL PERCENTAGE RATE, which is a monthly \\n10.  Default: You will be in default if: (a) you fail to pay the Minimum Payment Due by the Payment Due Date: (b) if the Credit Union, in good faith, believes your ability to pay your account \\npayment of your entire Account balance, after giving you any notice and opportunity to cure the default if required by applicable law. \\nperiodic rate of .04918%, on the first day of the billing cycle following that has two (2) Minimum Payments past due. After twelve (12) consecutive billing cycles of your account being paid \\nis impaired: (c) your ability to repay is materially reduced by a change in your employment, by an increase in your obligations, by bankruptcy or insolvency proceedings involving you, by \\npursuant to the terms of your agreements with the Credit Union, we will change the interest rate to the rate that is then applicable to your account, which will become effective on the first day of \\n11.  Interest Rate Adjustment (Default Rate): 1st Advantage Federal Credit Union will adjust the interest rate on your account whenever your account is two (2) Minimum Payments \\nyour death, or (for community property state residents only) by a change in marital status or domicile: (d) you exceed your credit limit without our permission: (e) you have made a false or \\nthe billing cycle following the twelfth consecutive billing cycle. \\npast due during any six (6) month period. We will change your interest rate (including any promotional rate) to a fixed rate of 17.95% ANNUAL PERCENTAGE RATE, which is a \\nmisleading statement to us in your application or otherwise: (f) you are in default under any other agreement with us: or (g) you fail to perform any of your other obligations under the terms \\n11.  Interest Rate Adjustment (Default Rate): 1st Advantage Federal Credit Union will adjust the interest rate on your account whenever your account is two (2) Minimum Payments past \\nof this Agreement as it may be amended. Upon default we may close your Account to future purchases and advances and, to the extent not prohibited by governing  Law, demand immediate \\nmonthly periodic rate of 1.49583%, on the first day of the billing cycle following that has two (2) Minimum Payments past due. After twelve (12) consecutive billing cycles of your account \\ndue during any six (6) month period. We will change your interest rate (including any promotional rate) to a fixed rate of 17.95% ANNUAL PERCENTAGE RATE, which is a monthly \\nbeing paid pursuant to the terms of your agreements with the Credit Union, we will change the interest rate to the rate that is then applicable to your account, which will become effective on \\npayment of your entire Account balance, after giving you any notice and opportunity to cure the default if required by applicable law. \\nperiodic rate of .04918%, on the first day of the billing cycle following that has two (2) Minimum Payments past due. After twelve (12) consecutive billing cycles of your account being paid \\nthe first day of the billing cycle following the twelfth consecutive billing cycle. \\npursuant to the terms of your agreements with the Credit Union, we will change the interest rate to the rate that is then applicable to your account, which will become effective on the first day of \\n11.  Interest Rate Adjustment (Default Rate): 1st Advantage Federal Credit Union will adjust the interest rate on your account whenever your account is two (2) Minimum Payments \\nthe billing cycle following the twelfth consecutive billing cycle. \\n12.  Member Liability: You agree to notify us immediately, orally or in writing, at 1st Advantage FCU, Box 2116, Newport News, VA 23609-0116 (800-359-7650 or 757-877-2444) of the \\npast due during any six (6) month period. We will change your interest rate (including any promotional rate) to a fixed rate of 17.95% ANNUAL PERCENTAGE RATE, which is a \\nloss, theft, or unauthorized use of your credit card. You may be liable for the unauthorized use of your credit card. You will not be liable for unauthorized use that occurs after you notify us of \\nmonthly periodic rate of 1.49583%, on the first day of the billing cycle following that has two (2) Minimum Payments past due. After twelve (12) consecutive billing cycles of your account \\nthe loss, theft, or possible unauthorized use. In any case your liability will not exceed $50 for unauthorized cash advances at ATMs. You will have no liability for unauthorized purchases made \\nbeing paid pursuant to the terms of your agreements with the Credit Union, we will change the interest rate to the rate that is then applicable to your account, which will become effective on \\nwith your credit card. If you report your card Lost/Stolen, it is your responsibility to destroy any remaining cards with that number. If you find the Lost/Stolen card you should destroy the card \\nthe first day of the billing cycle following the twelfth consecutive billing cycle. \\nand notify the Credit Union (or Credit Union Designee). If you see the card and it is recovered by an authorized VISA merchant (because it appears on the revoked Card List or the VISA \\n12.  Member Liability: You agree to notify us immediately, orally or in writing, at 1st Advantage FCU, Box 2116, Newport News, VA 23609-0116 (800-359-7650 or 757-877-2444) of the \\nCenter tells the merchant to pick up card) then you will be liable for any fees or rewards resulting from your unauthorized use of the card. \\nloss, theft, or unauthorized use of your credit card. You may be liable for the unauthorized use of your credit card. You will not be liable for unauthorized use that occurs after you notify us of \\n13.  Collection Costs: You agree to pay all costs incurred by the Credit Union in collecting any amounts you owe or in enforcing or protecting the Credit Union rights under this Agreement, \\nthe loss, theft, or possible unauthorized use. In any case your liability will not exceed $50 for unauthorized cash advances at ATMs. You will have no liability for unauthorized purchases made \\nwith your credit card. If you report your card Lost/Stolen, it is your responsibility to destroy any remaining cards with that number. If you find the Lost/Stolen card you should destroy the card \\nincluding attorney’s fees and also those costs, expenses and attorney’s fees incurred in any appellate, bankruptcy and post-judgment proceedings, except as limited or prohibited by applicable law. \\nand notify the Credit Union (or Credit Union Designee). If you see the card and it is recovered by an authorized VISA merchant (because it appears on the revoked Card List or the VISA \\nCenter tells the merchant to pick up card) then you will be liable for any fees or rewards resulting from your unauthorized use of the card. \\n13.  Collection Costs: You agree to pay all costs incurred by the Credit Union in collecting any amounts you owe or in enforcing or protecting the Credit Union rights under this Agreement, \\nincluding attorney’s fees and also those costs, expenses and attorney’s fees incurred in any appellate, bankruptcy and post-judgment proceedings, except as limited or prohibited by applicable law. \\n\\n1. $5.00 per card - replacement of card fee on Lost/Stolen or damaged card. \\n2. $25.00 - Return Check fee for a check returned for nonpayment on your VISA account. \\n3. $25.00 - Late Payment fee 10 days after due date. \\n4. 1% of Amount after Conversion - Foreign Transaction Fee. \\n1. $5.00 per card - replacement of card fee on Lost/Stolen or damaged card. \\n2. $25.00 - Return Check fee for a check returned for nonpayment on your VISA account. \\n3. $25.00 - Late Payment fee 10 days after due date. \\n4. 1% of Amount after Conversion - Foreign Transaction Fee. \\n\\n\\x0c14.  Effect of Agreement: This Agreement is the contract which applies to all transactions on your account even though the sales, cash advance or credit slips you sign may contain different \\nterms. We may amend this Agreement from time to time by sending you the advance written notice required by law. Your use of the card thereafter will indicate your agreement to the \\namendments. To the extent the law permits and we indicate in our notice, amendments will apply to your existing account balance as well as to future transactions. \\n15.  Military Lending Act (MLA):  Federal law provides important protections to members of the Armed Forces and their dependents relating to extensions of consumer credit. In \\ngeneral, the cost of consumer credit to a member of the Armed Forces and his or her dependent may not exceed an annual percentage rate of 36 percent. This rate must include, as \\napplicable to the credit transaction or account: The costs associated with credit insurance premiums; fees for ancillary products sold in connection with the credit transaction; any \\napplication fee charged (other than certain application fees for specified credit transactions or accounts); and any participation fee charged (other than certain participation fees for a \\ncredit card account).  To obtain an oral disclosure, please call 800-359-7650. \\n \\nAdditional Terms of Visa® Agreement \\nTo the extent not prohibited by applicable law, the terms, interpretation and enforcement of any claim or dispute arising under this Agreement, as well as all parties’ \\nrights and duties, will be governed by Virginia law regardless where you may reside or use your account. Further, this Agreement is the contract which governs \\nall transactions on your Account even though sales, cash advances, credit or other slips may contain different terms. You may not transfer or assign your Account \\nor Card to any other person. The Credit Union may assign or transfer this Account, your Account balance, or this Agreement to another person, who will have \\nall of our rights hereunder. This Agreement is binding on your heirs and legal representatives. If there are joint obligors or authorized users for this credit plan, \\neach of you will have the right to use the Account to obtain loans pursuant to the terms hereof. Each of you will be liable for all obligations owing on the Account \\nwhether borrowed by you or otherwise and whether within or beyond the credit limit. Your liability will be joint and several. Either party has the right to cancel \\nthis Agreement. Further, each of you are responsible for all amounts borrowed by any authorized users and other users may also be required to repay the amount \\nowed for charges they make; however, you remain, at all times, primarily responsible for all amounts owed. All Cards, billing statements and notices will be mailed \\nor delivered to the address given on the application for either applicant unless you direct otherwise in writing. If any law or judicial ruling makes any provision of \\nthis Agreement unenforceable, the other provisions will remain in full force and effect. You agree that your Account will also be subject to all rules and regulations of \\nVISA U.S.A., Inc. as applicable. If there is any conflict between this Agreement and the rules and regulations of VISA U.S.A., Inc., the rules and regulations of VISA \\nU.S.A., Inc., will control. \\nLimitations of Lawsuits. You agree that any lawsuit based on a cause of action against us must be filed within one year from the date it arises, or you shall be barred \\nfrom filing any lawsuit. This limitation includes tort, contract and all other causes of action for which you and we may lawfully contract to limit as set forth in this \\nAgreement. \\n \\n\\nYOUR BILLING RIGHTS \\n\\nKEEP THIS  NOTICE FOR FUTURE USE \\n\\n \\n\\n This notice contains important information about your rights and our responsibilities under the Fair Credit Billing Act.  Notify  us in case of errors or questions about your bill. \\nIf you think your bill is wrong, or if you need more information about a transaction on your bill, write us on a separate sheet at the following address and send to Customer \\nService, PO Box 31112, Tampa, FL 33631-3112, or call at 1-800-654-7728. Write to us as soon as possible. We must hear from you no later than 60 days after we sent you the \\nfirst bill on which the error or problem appeared. You can telephone us, but doing so will not preserve your rights. \\nIn your letter, give us the following information: \\n•    Your name and account number. \\n•    The dollar amount of the suspected error. \\n•    Describe the error and explain, if you can, why you believe there is an error. If you need more information, describe the Item you are not sure about. \\nYour Rights and Our Responsibilities After We Receive Your Written Notice \\nWe must acknowledge your letter within 30 days, unless we have corrected the error by then. Within 90 days, we must either correct the error or explain why we believe the \\nbill was correct. \\n•    After we receive your letter, we cannot try to collect any amount you question, or report you as a delinquent. We can continue to bill you for the amount you question, \\n\\nincluding finance charges, and we can apply an unpaid amount against your credit limit. You do not have to pay any questioned amount while we are investigating, but you \\nare still obligated to pay the parts of your bill that are not in question. \\n•     If we find that we made a mistake on your bill, you will not have to pay any finance charges related to any questioned amount. If we didn’t make a mistake, you may \\nhave to pay finance charges, and you will have to make up any missed payments on the questioned amount. In either case, we will send you a statement of the amount you \\nowe and the date that it is due. \\n•     If you fail to pay the amount that we think you owe, we may report you as delinquent. However, if our explanation does not satisfy you and you write to us within ten \\ndays telling us that you still refuse to pay, we must tell anyone we report you to that you have a question about your bill. And, we must tell you the name of anyone we \\nreported you to. We must tell anyone we report you to that the matter has been settled between us when it finally is. \\nany tort or related claims arising from such purchases. \\n\\n•    If we do not follow these rules, we cannot collect the first $50 of the questioned amount, even if your bill was correct. Furthermore, the Credit Union has no liability for \\nSpecial Rule for Credit Card Purchases \\nIf you have a problem with the quality of property or services that you purchased with a credit card, and you have tried in good faith to correct the problem with the merchant, \\nyou may have the right not to pay the remaining amount due on the property or services. There are two limitations on this right: (a) You must have made the purchase in your \\nhome state or, if not within your home state, within 100 miles of your current mailing address; and (b) The purchase price must have been more than $50.  These limitations \\ndo not apply if we own or operate the merchant, or if we mailed you the advertisement for the property or services. \\n\\n9/17 \\n \\n\\n \\n\\n \\n \\n \\n \\n \\n \\n \\n \\n \\n \\n \\n \\n \\n \\n \\n \\n \\n \\n \\n\\n\\x0c']"
      ]
     },
     "execution_count": 10,
     "metadata": {},
     "output_type": "execute_result"
    }
   ],
   "source": [
    "text_list"
   ]
  },
  {
   "cell_type": "markdown",
   "metadata": {},
   "source": [
    "The list is full of unwanted textual elements like line breaks, quotation marks, and underscores. All this will be removed in further down."
   ]
  },
  {
   "cell_type": "code",
   "execution_count": 11,
   "metadata": {
    "scrolled": true
   },
   "outputs": [],
   "source": [
    "#let's convert this into a DataFrame for now.\n",
    "text_frame = pd.DataFrame(text_list, columns=[\"contract_text\"])"
   ]
  },
  {
   "cell_type": "code",
   "execution_count": 12,
   "metadata": {},
   "outputs": [],
   "source": [
    "#we're gonna have to read a lot of words in columns, so let's expand the column width:\n",
    "pd.set_option(\"display.max_colwidth\", 1000)\n"
   ]
  },
  {
   "cell_type": "code",
   "execution_count": 13,
   "metadata": {},
   "outputs": [
    {
     "data": {
      "text/html": [
       "<div>\n",
       "<style scoped>\n",
       "    .dataframe tbody tr th:only-of-type {\n",
       "        vertical-align: middle;\n",
       "    }\n",
       "\n",
       "    .dataframe tbody tr th {\n",
       "        vertical-align: top;\n",
       "    }\n",
       "\n",
       "    .dataframe thead th {\n",
       "        text-align: right;\n",
       "    }\n",
       "</style>\n",
       "<table border=\"1\" class=\"dataframe\">\n",
       "  <thead>\n",
       "    <tr style=\"text-align: right;\">\n",
       "      <th></th>\n",
       "      <th>contract_text</th>\n",
       "    </tr>\n",
       "  </thead>\n",
       "  <tbody>\n",
       "    <tr>\n",
       "      <th>0</th>\n",
       "      <td>\\n \\n\\n \\n \\n \\n\\n \\n\\n \\n\\n \\n\\n \\n\\n \\n\\n \\n\\n \\n\\nM-100310 \\nM-123302\\n\\n1st Advantage Federal Credit Union \\nVISA Platinum Credit Card Agreement \\n1st Advantage Federal Credit Union \\nVISA Platinum Credit Card Agreement \\n\\ncalculated by adding 4.5%-14.5% (the “spread”) to the Prime rate (the “index”) in effect on the first business day of the month immediately preceding January 1, April 1, \\ncalculated by adding 4.5%-14.5% (the “spread”) to the Prime rate (the “index”) in effect on the first business day of the month immediately preceding January 1, April 1, \\nPERCENTAGE  RATE)  is  calculated  by  adding  4.5%-14.5% (the  “spread”)  to  the  Prime  rate  (the  “index”)  in  effect  at  the time of  the  review.  The  Finance \\nPERCENTAGE  RATE)  is  calculated  by  adding  4.5%-14.5% (the  “spread”)  to  the  Prime  rate  (the  “index”)  in  effect  at  the time of  the  review.  The  Finance \\n\\n \\n \\n \\n \\nM-123302\\nM-100310 \\n \\nIn this Agreement the words “you” and “your...</td>\n",
       "    </tr>\n",
       "  </tbody>\n",
       "</table>\n",
       "</div>"
      ],
      "text/plain": [
       "                                                                                                                                                                                                                                                                                                                                                                                                                                                                                                                                                                                                                                                                                                                                                                                                                                                                                                                                                                                                                             contract_text\n",
       "0   \\n \\n\\n \\n \\n \\n\\n \\n\\n \\n\\n \\n\\n \\n\\n \\n\\n \\n\\n \\n\\nM-100310 \\nM-123302\\n\\n1st Advantage Federal Credit Union \\nVISA Platinum Credit Card Agreement \\n1st Advantage Federal Credit Union \\nVISA Platinum Credit Card Agreement \\n\\ncalculated by adding 4.5%-14.5% (the “spread”) to the Prime rate (the “index”) in effect on the first business day of the month immediately preceding January 1, April 1, \\ncalculated by adding 4.5%-14.5% (the “spread”) to the Prime rate (the “index”) in effect on the first business day of the month immediately preceding January 1, April 1, \\nPERCENTAGE  RATE)  is  calculated  by  adding  4.5%-14.5% (the  “spread”)  to  the  Prime  rate  (the  “index”)  in  effect  at  the time of  the  review.  The  Finance \\nPERCENTAGE  RATE)  is  calculated  by  adding  4.5%-14.5% (the  “spread”)  to  the  Prime  rate  (the  “index”)  in  effect  at  the time of  the  review.  The  Finance \\n\\n \\n \\n \\n \\nM-123302\\nM-100310 \\n \\nIn this Agreement the words “you” and “your..."
      ]
     },
     "execution_count": 13,
     "metadata": {},
     "output_type": "execute_result"
    }
   ],
   "source": [
    "df = text_frame\n",
    "\n",
    "df"
   ]
  },
  {
   "cell_type": "markdown",
   "metadata": {},
   "source": [
    "# Cleaning and Pre-Processing\n",
    "\n",
    "We will need to convert the text into a \"bag of words\" i.e. unique words in a text represented by a number. To facilitate this we must first pre-process by \n",
    "\n",
    "    1. getting rid of punctuation and non-words using RegEx, \n",
    "    2. lowercasing everything, \n",
    "    3. removing \"stop words\" i.e. conjunctive/article type words with no substantial meaning for content, \n",
    "    4. lemmatizing e.g. contracting words like run/ran/runs into run, and\n",
    "    5. removing other odd punctuation like underscores and apostrophes"
   ]
  },
  {
   "cell_type": "code",
   "execution_count": 14,
   "metadata": {},
   "outputs": [],
   "source": [
    "#this requires new imports for our custom function:\n",
    "\n",
    "from nltk.stem import WordNetLemmatizer\n",
    "from nltk.tokenize import RegexpTokenizer\n",
    "from nltk.corpus import stopwords\n",
    "\n",
    "import regex as re"
   ]
  },
  {
   "cell_type": "code",
   "execution_count": 15,
   "metadata": {},
   "outputs": [],
   "source": [
    "#instantiate the lemmatizer\n",
    "\n",
    "lemmatizer = WordNetLemmatizer()"
   ]
  },
  {
   "cell_type": "code",
   "execution_count": 16,
   "metadata": {},
   "outputs": [],
   "source": [
    "#adapted from GA tutorial:\n",
    "\n",
    "def word_cleaner(mess):\n",
    "    \n",
    "    #removing non-letters including spaces\n",
    "    just_letters = re.sub(\"[^a-zA-Z]\", \" \", mess)\n",
    "    \n",
    "    #lower-casing\n",
    "    small_caps = just_letters.lower().split()\n",
    "    \n",
    "    #assign stopwords into a set and then removing those from target text\n",
    "    stops = set(stopwords.words('english'))\n",
    "    important_words = [string for string in small_caps if not string in stops]\n",
    "    \n",
    "    #lemmatize the important words \n",
    "    lem_words_only = [lemmatizer.lemmatize(word) for word in important_words]\n",
    "\n",
    "    #get rid of all the quotation marks\n",
    "    clean_stage1=[i.replace('\\xe2\\x80\\x9c','') for i in lem_words_only]\n",
    "    clean2=[i.replace('\\xe2\\x80\\x9d','') for i in clean_stage1 ]\n",
    "    clean3=[i.replace('\\xe2\\x80\\x99s','') for i in clean2 ]\n",
    "    \n",
    "    #rejoin all the words into a string separated by a space\n",
    "    return(\" \".join(clean3))"
   ]
  },
  {
   "cell_type": "code",
   "execution_count": 17,
   "metadata": {},
   "outputs": [
    {
     "data": {
      "text/plain": [
       "0    st advantage federal credit union visa platinum credit card agreement st advantage federal credit union visa platinum credit card agreement calculated adding spread prime rate index effect first business day month immediately preceding january april calculated adding spread prime rate index effect first business day month immediately preceding january april percentage rate calculated adding spread prime rate index effect time review finance percentage rate calculated adding spread prime rate index effect time review finance agreement word mean apply card sign agreement card mean visa platinum card duplicate renewal issue everyone receives sign us card issued agreement must member credit union account mean visa platinum credit card line credit account u u issuer mean credit union credit union designee responsibility issue card agree repay debt related fee finance charge arising use card card account example agreement word mean apply card sign agreement card mean visa platinum card r...\n",
       "Name: contract_text, dtype: object"
      ]
     },
     "execution_count": 17,
     "metadata": {},
     "output_type": "execute_result"
    }
   ],
   "source": [
    "#using .apply to run the function across the whole selftext column\n",
    "\n",
    "df[\"contract_text\"].apply(word_cleaner)"
   ]
  },
  {
   "cell_type": "code",
   "execution_count": 18,
   "metadata": {},
   "outputs": [],
   "source": [
    "#creating a new, cleaned column to put into our dataframe\n",
    "\n",
    "df['cleaned_text']=df['contract_text'].apply(word_cleaner)"
   ]
  },
  {
   "cell_type": "code",
   "execution_count": 19,
   "metadata": {},
   "outputs": [
    {
     "data": {
      "text/html": [
       "<div>\n",
       "<style scoped>\n",
       "    .dataframe tbody tr th:only-of-type {\n",
       "        vertical-align: middle;\n",
       "    }\n",
       "\n",
       "    .dataframe tbody tr th {\n",
       "        vertical-align: top;\n",
       "    }\n",
       "\n",
       "    .dataframe thead th {\n",
       "        text-align: right;\n",
       "    }\n",
       "</style>\n",
       "<table border=\"1\" class=\"dataframe\">\n",
       "  <thead>\n",
       "    <tr style=\"text-align: right;\">\n",
       "      <th></th>\n",
       "      <th>contract_text</th>\n",
       "      <th>cleaned_text</th>\n",
       "    </tr>\n",
       "  </thead>\n",
       "  <tbody>\n",
       "    <tr>\n",
       "      <th>0</th>\n",
       "      <td>\\n \\n\\n \\n \\n \\n\\n \\n\\n \\n\\n \\n\\n \\n\\n \\n\\n \\n\\n \\n\\nM-100310 \\nM-123302\\n\\n1st Advantage Federal Credit Union \\nVISA Platinum Credit Card Agreement \\n1st Advantage Federal Credit Union \\nVISA Platinum Credit Card Agreement \\n\\ncalculated by adding 4.5%-14.5% (the “spread”) to the Prime rate (the “index”) in effect on the first business day of the month immediately preceding January 1, April 1, \\ncalculated by adding 4.5%-14.5% (the “spread”) to the Prime rate (the “index”) in effect on the first business day of the month immediately preceding January 1, April 1, \\nPERCENTAGE  RATE)  is  calculated  by  adding  4.5%-14.5% (the  “spread”)  to  the  Prime  rate  (the  “index”)  in  effect  at  the time of  the  review.  The  Finance \\nPERCENTAGE  RATE)  is  calculated  by  adding  4.5%-14.5% (the  “spread”)  to  the  Prime  rate  (the  “index”)  in  effect  at  the time of  the  review.  The  Finance \\n\\n \\n \\n \\n \\nM-123302\\nM-100310 \\n \\nIn this Agreement the words “you” and “your...</td>\n",
       "      <td>st advantage federal credit union visa platinum credit card agreement st advantage federal credit union visa platinum credit card agreement calculated adding spread prime rate index effect first business day month immediately preceding january april calculated adding spread prime rate index effect first business day month immediately preceding january april percentage rate calculated adding spread prime rate index effect time review finance percentage rate calculated adding spread prime rate index effect time review finance agreement word mean apply card sign agreement card mean visa platinum card duplicate renewal issue everyone receives sign us card issued agreement must member credit union account mean visa platinum credit card line credit account u u issuer mean credit union credit union designee responsibility issue card agree repay debt related fee finance charge arising use card card account example agreement word mean apply card sign agreement card mean visa platinum card r...</td>\n",
       "    </tr>\n",
       "  </tbody>\n",
       "</table>\n",
       "</div>"
      ],
      "text/plain": [
       "                                                                                                                                                                                                                                                                                                                                                                                                                                                                                                                                                                                                                                                                                                                                                                                                                                                                                                                                                                                                                             contract_text  \\\n",
       "0   \\n \\n\\n \\n \\n \\n\\n \\n\\n \\n\\n \\n\\n \\n\\n \\n\\n \\n\\n \\n\\nM-100310 \\nM-123302\\n\\n1st Advantage Federal Credit Union \\nVISA Platinum Credit Card Agreement \\n1st Advantage Federal Credit Union \\nVISA Platinum Credit Card Agreement \\n\\ncalculated by adding 4.5%-14.5% (the “spread”) to the Prime rate (the “index”) in effect on the first business day of the month immediately preceding January 1, April 1, \\ncalculated by adding 4.5%-14.5% (the “spread”) to the Prime rate (the “index”) in effect on the first business day of the month immediately preceding January 1, April 1, \\nPERCENTAGE  RATE)  is  calculated  by  adding  4.5%-14.5% (the  “spread”)  to  the  Prime  rate  (the  “index”)  in  effect  at  the time of  the  review.  The  Finance \\nPERCENTAGE  RATE)  is  calculated  by  adding  4.5%-14.5% (the  “spread”)  to  the  Prime  rate  (the  “index”)  in  effect  at  the time of  the  review.  The  Finance \\n\\n \\n \\n \\n \\nM-123302\\nM-100310 \\n \\nIn this Agreement the words “you” and “your...   \n",
       "\n",
       "                                                                                                                                                                                                                                                                                                                                                                                                                                                                                                                                                                                                                                                                                                                                                                                                                                                                                                                                                                                                                              cleaned_text  \n",
       "0  st advantage federal credit union visa platinum credit card agreement st advantage federal credit union visa platinum credit card agreement calculated adding spread prime rate index effect first business day month immediately preceding january april calculated adding spread prime rate index effect first business day month immediately preceding january april percentage rate calculated adding spread prime rate index effect time review finance percentage rate calculated adding spread prime rate index effect time review finance agreement word mean apply card sign agreement card mean visa platinum card duplicate renewal issue everyone receives sign us card issued agreement must member credit union account mean visa platinum credit card line credit account u u issuer mean credit union credit union designee responsibility issue card agree repay debt related fee finance charge arising use card card account example agreement word mean apply card sign agreement card mean visa platinum card r...  "
      ]
     },
     "execution_count": 19,
     "metadata": {},
     "output_type": "execute_result"
    }
   ],
   "source": [
    "#comparing our cleaned vs messy columns to see what the change looks like\n",
    "df"
   ]
  },
  {
   "cell_type": "code",
   "execution_count": 20,
   "metadata": {},
   "outputs": [],
   "source": [
    "#backing up this dataframe in case things go horribly wrong in Word Vectorization\n",
    "\n",
    "df.to_csv(\"../data/df.csv\", index=False)"
   ]
  },
  {
   "cell_type": "markdown",
   "metadata": {},
   "source": [
    "## Initial Text EDA and Visualization"
   ]
  },
  {
   "cell_type": "code",
   "execution_count": 21,
   "metadata": {},
   "outputs": [],
   "source": [
    "#import the vectorizer,\n",
    "\n",
    "from sklearn.feature_extraction.text import CountVectorizer\n",
    "import scipy.sparse as sp\n",
    "\n",
    "#intialize it and assign as vectorizer \n",
    "vectorizer = CountVectorizer(ngram_range=(1,2))"
   ]
  },
  {
   "cell_type": "code",
   "execution_count": 22,
   "metadata": {},
   "outputs": [],
   "source": [
    "#top words assigned to object\n",
    "cleaned_text = df[\"cleaned_text\"]"
   ]
  },
  {
   "cell_type": "code",
   "execution_count": 23,
   "metadata": {},
   "outputs": [],
   "source": [
    "#turn a series into vectors and then plot the distribution of the top 25 words\n",
    "def vector_barplotter(series, graph_title, x_label):\n",
    "    vectorized_series = vectorizer.fit(series)\n",
    "    series_df = pd.DataFrame(vectorizer.transform(series).todense(),\n",
    "                              columns=vectorizer.get_feature_names())\n",
    "    #we slice the top 25 words \n",
    "    top_25_words=series_df.sum().sort_values(ascending = False).head(25)\n",
    "    \n",
    "    #we plot this on a plotly bar chart by frequency of words.\n",
    "    fig = px.bar(top_25_words, orientation='v', title = graph_title, \n",
    "             labels={\"index\":x_label})\n",
    "    fig.show()"
   ]
  },
  {
   "cell_type": "code",
   "execution_count": 24,
   "metadata": {},
   "outputs": [],
   "source": [
    "#to plot a square word treemap, I have to modify our datascience word array into a special dataframe; \n",
    "#Adapted from https://python-graph-gallery.com/200-basic-treemap-with-python/\n",
    "#We plot a square treemap of word frequencies, as an alternative to word clouds\n",
    "#to save time I turned this into a function too.\n",
    "\n",
    "def vector_treemap_plotter(series, title):\n",
    "    vectorized_series = vectorizer.fit(series)\n",
    "    series_df = pd.DataFrame(vectorizer.transform(series).todense(),\n",
    "                              columns=vectorizer.get_feature_names())\n",
    "    #we slice the top 25 words and turn that into a squarify-friendly dataframe\n",
    "    top_25_words=series_df.sum().sort_values(ascending = False).head(25)\n",
    "    top_25_words_df = pd.DataFrame(top_25_words)\n",
    "    top_25_words_df.columns = [\"count\"]\n",
    "    top_25_words_df[\"word\"]=top_25_words_df.index\n",
    "    top_25_words_df = top_25_words_df.reset_index(drop=True)\n",
    "    \n",
    "    count = top_25_words_df[\"count\"]\n",
    "    word = top_25_words_df[\"word\"]\n",
    "    \n",
    "    #I then create a hybrid heatmap and treemap\n",
    "    #it is like a word cloud, but it looks cleaner.\n",
    "    #frequent words are deeper blues with bigger squares.\n",
    "\n",
    "    cmap = matplotlib.cm.Blues\n",
    "    mini=min(count)\n",
    "    maxi=max(count)\n",
    "    norm = matplotlib.colors.Normalize(vmin=mini, vmax=maxi)\n",
    "    colors = [cmap(norm(value)) for value in count]\n",
    "\n",
    "    squarify.plot(sizes=count, norm_x=100, norm_y=100, label=word, \n",
    "                  color=colors,alpha=.9 )\n",
    "\n",
    "    print(title)\n",
    "    \n",
    "    plt.axis('off')\n",
    "    plt.show()"
   ]
  },
  {
   "cell_type": "code",
   "execution_count": 25,
   "metadata": {},
   "outputs": [
    {
     "data": {
      "application/vnd.plotly.v1+json": {
       "config": {
        "plotlyServerURL": "https://plot.ly"
       },
       "data": [
        {
         "alignmentgroup": "True",
         "hovertemplate": "variable=0<br>words=%{x}<br>value=%{y}<extra></extra>",
         "legendgroup": "0",
         "marker": {
          "color": "#636efa"
         },
         "name": "0",
         "offsetgroup": "0",
         "orientation": "v",
         "showlegend": true,
         "textposition": "auto",
         "type": "bar",
         "x": [
          "credit",
          "account",
          "rate",
          "card",
          "balance",
          "credit union",
          "union",
          "charge",
          "agreement",
          "may",
          "payment",
          "transaction",
          "finance",
          "day",
          "purchase",
          "finance charge",
          "fee",
          "statement",
          "interest",
          "visa",
          "amount",
          "billing",
          "date",
          "pay",
          "daily balance"
         ],
         "xaxis": "x",
         "y": [
          109,
          90,
          86,
          78,
          52,
          50,
          50,
          48,
          45,
          42,
          41,
          37,
          37,
          36,
          36,
          35,
          33,
          32,
          28,
          28,
          28,
          27,
          26,
          25,
          24
         ],
         "yaxis": "y"
        }
       ],
       "layout": {
        "barmode": "relative",
        "legend": {
         "title": {
          "text": "variable"
         },
         "tracegroupgap": 0
        },
        "template": {
         "data": {
          "bar": [
           {
            "error_x": {
             "color": "#2a3f5f"
            },
            "error_y": {
             "color": "#2a3f5f"
            },
            "marker": {
             "line": {
              "color": "#E5ECF6",
              "width": 0.5
             }
            },
            "type": "bar"
           }
          ],
          "barpolar": [
           {
            "marker": {
             "line": {
              "color": "#E5ECF6",
              "width": 0.5
             }
            },
            "type": "barpolar"
           }
          ],
          "carpet": [
           {
            "aaxis": {
             "endlinecolor": "#2a3f5f",
             "gridcolor": "white",
             "linecolor": "white",
             "minorgridcolor": "white",
             "startlinecolor": "#2a3f5f"
            },
            "baxis": {
             "endlinecolor": "#2a3f5f",
             "gridcolor": "white",
             "linecolor": "white",
             "minorgridcolor": "white",
             "startlinecolor": "#2a3f5f"
            },
            "type": "carpet"
           }
          ],
          "choropleth": [
           {
            "colorbar": {
             "outlinewidth": 0,
             "ticks": ""
            },
            "type": "choropleth"
           }
          ],
          "contour": [
           {
            "colorbar": {
             "outlinewidth": 0,
             "ticks": ""
            },
            "colorscale": [
             [
              0,
              "#0d0887"
             ],
             [
              0.1111111111111111,
              "#46039f"
             ],
             [
              0.2222222222222222,
              "#7201a8"
             ],
             [
              0.3333333333333333,
              "#9c179e"
             ],
             [
              0.4444444444444444,
              "#bd3786"
             ],
             [
              0.5555555555555556,
              "#d8576b"
             ],
             [
              0.6666666666666666,
              "#ed7953"
             ],
             [
              0.7777777777777778,
              "#fb9f3a"
             ],
             [
              0.8888888888888888,
              "#fdca26"
             ],
             [
              1,
              "#f0f921"
             ]
            ],
            "type": "contour"
           }
          ],
          "contourcarpet": [
           {
            "colorbar": {
             "outlinewidth": 0,
             "ticks": ""
            },
            "type": "contourcarpet"
           }
          ],
          "heatmap": [
           {
            "colorbar": {
             "outlinewidth": 0,
             "ticks": ""
            },
            "colorscale": [
             [
              0,
              "#0d0887"
             ],
             [
              0.1111111111111111,
              "#46039f"
             ],
             [
              0.2222222222222222,
              "#7201a8"
             ],
             [
              0.3333333333333333,
              "#9c179e"
             ],
             [
              0.4444444444444444,
              "#bd3786"
             ],
             [
              0.5555555555555556,
              "#d8576b"
             ],
             [
              0.6666666666666666,
              "#ed7953"
             ],
             [
              0.7777777777777778,
              "#fb9f3a"
             ],
             [
              0.8888888888888888,
              "#fdca26"
             ],
             [
              1,
              "#f0f921"
             ]
            ],
            "type": "heatmap"
           }
          ],
          "heatmapgl": [
           {
            "colorbar": {
             "outlinewidth": 0,
             "ticks": ""
            },
            "colorscale": [
             [
              0,
              "#0d0887"
             ],
             [
              0.1111111111111111,
              "#46039f"
             ],
             [
              0.2222222222222222,
              "#7201a8"
             ],
             [
              0.3333333333333333,
              "#9c179e"
             ],
             [
              0.4444444444444444,
              "#bd3786"
             ],
             [
              0.5555555555555556,
              "#d8576b"
             ],
             [
              0.6666666666666666,
              "#ed7953"
             ],
             [
              0.7777777777777778,
              "#fb9f3a"
             ],
             [
              0.8888888888888888,
              "#fdca26"
             ],
             [
              1,
              "#f0f921"
             ]
            ],
            "type": "heatmapgl"
           }
          ],
          "histogram": [
           {
            "marker": {
             "colorbar": {
              "outlinewidth": 0,
              "ticks": ""
             }
            },
            "type": "histogram"
           }
          ],
          "histogram2d": [
           {
            "colorbar": {
             "outlinewidth": 0,
             "ticks": ""
            },
            "colorscale": [
             [
              0,
              "#0d0887"
             ],
             [
              0.1111111111111111,
              "#46039f"
             ],
             [
              0.2222222222222222,
              "#7201a8"
             ],
             [
              0.3333333333333333,
              "#9c179e"
             ],
             [
              0.4444444444444444,
              "#bd3786"
             ],
             [
              0.5555555555555556,
              "#d8576b"
             ],
             [
              0.6666666666666666,
              "#ed7953"
             ],
             [
              0.7777777777777778,
              "#fb9f3a"
             ],
             [
              0.8888888888888888,
              "#fdca26"
             ],
             [
              1,
              "#f0f921"
             ]
            ],
            "type": "histogram2d"
           }
          ],
          "histogram2dcontour": [
           {
            "colorbar": {
             "outlinewidth": 0,
             "ticks": ""
            },
            "colorscale": [
             [
              0,
              "#0d0887"
             ],
             [
              0.1111111111111111,
              "#46039f"
             ],
             [
              0.2222222222222222,
              "#7201a8"
             ],
             [
              0.3333333333333333,
              "#9c179e"
             ],
             [
              0.4444444444444444,
              "#bd3786"
             ],
             [
              0.5555555555555556,
              "#d8576b"
             ],
             [
              0.6666666666666666,
              "#ed7953"
             ],
             [
              0.7777777777777778,
              "#fb9f3a"
             ],
             [
              0.8888888888888888,
              "#fdca26"
             ],
             [
              1,
              "#f0f921"
             ]
            ],
            "type": "histogram2dcontour"
           }
          ],
          "mesh3d": [
           {
            "colorbar": {
             "outlinewidth": 0,
             "ticks": ""
            },
            "type": "mesh3d"
           }
          ],
          "parcoords": [
           {
            "line": {
             "colorbar": {
              "outlinewidth": 0,
              "ticks": ""
             }
            },
            "type": "parcoords"
           }
          ],
          "pie": [
           {
            "automargin": true,
            "type": "pie"
           }
          ],
          "scatter": [
           {
            "marker": {
             "colorbar": {
              "outlinewidth": 0,
              "ticks": ""
             }
            },
            "type": "scatter"
           }
          ],
          "scatter3d": [
           {
            "line": {
             "colorbar": {
              "outlinewidth": 0,
              "ticks": ""
             }
            },
            "marker": {
             "colorbar": {
              "outlinewidth": 0,
              "ticks": ""
             }
            },
            "type": "scatter3d"
           }
          ],
          "scattercarpet": [
           {
            "marker": {
             "colorbar": {
              "outlinewidth": 0,
              "ticks": ""
             }
            },
            "type": "scattercarpet"
           }
          ],
          "scattergeo": [
           {
            "marker": {
             "colorbar": {
              "outlinewidth": 0,
              "ticks": ""
             }
            },
            "type": "scattergeo"
           }
          ],
          "scattergl": [
           {
            "marker": {
             "colorbar": {
              "outlinewidth": 0,
              "ticks": ""
             }
            },
            "type": "scattergl"
           }
          ],
          "scattermapbox": [
           {
            "marker": {
             "colorbar": {
              "outlinewidth": 0,
              "ticks": ""
             }
            },
            "type": "scattermapbox"
           }
          ],
          "scatterpolar": [
           {
            "marker": {
             "colorbar": {
              "outlinewidth": 0,
              "ticks": ""
             }
            },
            "type": "scatterpolar"
           }
          ],
          "scatterpolargl": [
           {
            "marker": {
             "colorbar": {
              "outlinewidth": 0,
              "ticks": ""
             }
            },
            "type": "scatterpolargl"
           }
          ],
          "scatterternary": [
           {
            "marker": {
             "colorbar": {
              "outlinewidth": 0,
              "ticks": ""
             }
            },
            "type": "scatterternary"
           }
          ],
          "surface": [
           {
            "colorbar": {
             "outlinewidth": 0,
             "ticks": ""
            },
            "colorscale": [
             [
              0,
              "#0d0887"
             ],
             [
              0.1111111111111111,
              "#46039f"
             ],
             [
              0.2222222222222222,
              "#7201a8"
             ],
             [
              0.3333333333333333,
              "#9c179e"
             ],
             [
              0.4444444444444444,
              "#bd3786"
             ],
             [
              0.5555555555555556,
              "#d8576b"
             ],
             [
              0.6666666666666666,
              "#ed7953"
             ],
             [
              0.7777777777777778,
              "#fb9f3a"
             ],
             [
              0.8888888888888888,
              "#fdca26"
             ],
             [
              1,
              "#f0f921"
             ]
            ],
            "type": "surface"
           }
          ],
          "table": [
           {
            "cells": {
             "fill": {
              "color": "#EBF0F8"
             },
             "line": {
              "color": "white"
             }
            },
            "header": {
             "fill": {
              "color": "#C8D4E3"
             },
             "line": {
              "color": "white"
             }
            },
            "type": "table"
           }
          ]
         },
         "layout": {
          "annotationdefaults": {
           "arrowcolor": "#2a3f5f",
           "arrowhead": 0,
           "arrowwidth": 1
          },
          "coloraxis": {
           "colorbar": {
            "outlinewidth": 0,
            "ticks": ""
           }
          },
          "colorscale": {
           "diverging": [
            [
             0,
             "#8e0152"
            ],
            [
             0.1,
             "#c51b7d"
            ],
            [
             0.2,
             "#de77ae"
            ],
            [
             0.3,
             "#f1b6da"
            ],
            [
             0.4,
             "#fde0ef"
            ],
            [
             0.5,
             "#f7f7f7"
            ],
            [
             0.6,
             "#e6f5d0"
            ],
            [
             0.7,
             "#b8e186"
            ],
            [
             0.8,
             "#7fbc41"
            ],
            [
             0.9,
             "#4d9221"
            ],
            [
             1,
             "#276419"
            ]
           ],
           "sequential": [
            [
             0,
             "#0d0887"
            ],
            [
             0.1111111111111111,
             "#46039f"
            ],
            [
             0.2222222222222222,
             "#7201a8"
            ],
            [
             0.3333333333333333,
             "#9c179e"
            ],
            [
             0.4444444444444444,
             "#bd3786"
            ],
            [
             0.5555555555555556,
             "#d8576b"
            ],
            [
             0.6666666666666666,
             "#ed7953"
            ],
            [
             0.7777777777777778,
             "#fb9f3a"
            ],
            [
             0.8888888888888888,
             "#fdca26"
            ],
            [
             1,
             "#f0f921"
            ]
           ],
           "sequentialminus": [
            [
             0,
             "#0d0887"
            ],
            [
             0.1111111111111111,
             "#46039f"
            ],
            [
             0.2222222222222222,
             "#7201a8"
            ],
            [
             0.3333333333333333,
             "#9c179e"
            ],
            [
             0.4444444444444444,
             "#bd3786"
            ],
            [
             0.5555555555555556,
             "#d8576b"
            ],
            [
             0.6666666666666666,
             "#ed7953"
            ],
            [
             0.7777777777777778,
             "#fb9f3a"
            ],
            [
             0.8888888888888888,
             "#fdca26"
            ],
            [
             1,
             "#f0f921"
            ]
           ]
          },
          "colorway": [
           "#636efa",
           "#EF553B",
           "#00cc96",
           "#ab63fa",
           "#FFA15A",
           "#19d3f3",
           "#FF6692",
           "#B6E880",
           "#FF97FF",
           "#FECB52"
          ],
          "font": {
           "color": "#2a3f5f"
          },
          "geo": {
           "bgcolor": "white",
           "lakecolor": "white",
           "landcolor": "#E5ECF6",
           "showlakes": true,
           "showland": true,
           "subunitcolor": "white"
          },
          "hoverlabel": {
           "align": "left"
          },
          "hovermode": "closest",
          "mapbox": {
           "style": "light"
          },
          "paper_bgcolor": "white",
          "plot_bgcolor": "#E5ECF6",
          "polar": {
           "angularaxis": {
            "gridcolor": "white",
            "linecolor": "white",
            "ticks": ""
           },
           "bgcolor": "#E5ECF6",
           "radialaxis": {
            "gridcolor": "white",
            "linecolor": "white",
            "ticks": ""
           }
          },
          "scene": {
           "xaxis": {
            "backgroundcolor": "#E5ECF6",
            "gridcolor": "white",
            "gridwidth": 2,
            "linecolor": "white",
            "showbackground": true,
            "ticks": "",
            "zerolinecolor": "white"
           },
           "yaxis": {
            "backgroundcolor": "#E5ECF6",
            "gridcolor": "white",
            "gridwidth": 2,
            "linecolor": "white",
            "showbackground": true,
            "ticks": "",
            "zerolinecolor": "white"
           },
           "zaxis": {
            "backgroundcolor": "#E5ECF6",
            "gridcolor": "white",
            "gridwidth": 2,
            "linecolor": "white",
            "showbackground": true,
            "ticks": "",
            "zerolinecolor": "white"
           }
          },
          "shapedefaults": {
           "line": {
            "color": "#2a3f5f"
           }
          },
          "ternary": {
           "aaxis": {
            "gridcolor": "white",
            "linecolor": "white",
            "ticks": ""
           },
           "baxis": {
            "gridcolor": "white",
            "linecolor": "white",
            "ticks": ""
           },
           "bgcolor": "#E5ECF6",
           "caxis": {
            "gridcolor": "white",
            "linecolor": "white",
            "ticks": ""
           }
          },
          "title": {
           "x": 0.05
          },
          "xaxis": {
           "automargin": true,
           "gridcolor": "white",
           "linecolor": "white",
           "ticks": "",
           "title": {
            "standoff": 15
           },
           "zerolinecolor": "white",
           "zerolinewidth": 2
          },
          "yaxis": {
           "automargin": true,
           "gridcolor": "white",
           "linecolor": "white",
           "ticks": "",
           "title": {
            "standoff": 15
           },
           "zerolinecolor": "white",
           "zerolinewidth": 2
          }
         }
        },
        "title": {
         "text": "Top Words & Bigrams in Sample Contract"
        },
        "xaxis": {
         "anchor": "y",
         "domain": [
          0,
          1
         ],
         "title": {
          "text": "words"
         }
        },
        "yaxis": {
         "anchor": "x",
         "domain": [
          0,
          1
         ],
         "title": {
          "text": "value"
         }
        }
       }
      },
      "text/html": [
       "<div>\n",
       "        \n",
       "        \n",
       "            <div id=\"5560836f-a0ee-4e31-a2e1-ef5f8d30ab01\" class=\"plotly-graph-div\" style=\"height:525px; width:100%;\"></div>\n",
       "            <script type=\"text/javascript\">\n",
       "                require([\"plotly\"], function(Plotly) {\n",
       "                    window.PLOTLYENV=window.PLOTLYENV || {};\n",
       "                    \n",
       "                if (document.getElementById(\"5560836f-a0ee-4e31-a2e1-ef5f8d30ab01\")) {\n",
       "                    Plotly.newPlot(\n",
       "                        '5560836f-a0ee-4e31-a2e1-ef5f8d30ab01',\n",
       "                        [{\"alignmentgroup\": \"True\", \"hovertemplate\": \"variable=0<br>words=%{x}<br>value=%{y}<extra></extra>\", \"legendgroup\": \"0\", \"marker\": {\"color\": \"#636efa\"}, \"name\": \"0\", \"offsetgroup\": \"0\", \"orientation\": \"v\", \"showlegend\": true, \"textposition\": \"auto\", \"type\": \"bar\", \"x\": [\"credit\", \"account\", \"rate\", \"card\", \"balance\", \"credit union\", \"union\", \"charge\", \"agreement\", \"may\", \"payment\", \"transaction\", \"finance\", \"day\", \"purchase\", \"finance charge\", \"fee\", \"statement\", \"interest\", \"visa\", \"amount\", \"billing\", \"date\", \"pay\", \"daily balance\"], \"xaxis\": \"x\", \"y\": [109, 90, 86, 78, 52, 50, 50, 48, 45, 42, 41, 37, 37, 36, 36, 35, 33, 32, 28, 28, 28, 27, 26, 25, 24], \"yaxis\": \"y\"}],\n",
       "                        {\"barmode\": \"relative\", \"legend\": {\"title\": {\"text\": \"variable\"}, \"tracegroupgap\": 0}, \"template\": {\"data\": {\"bar\": [{\"error_x\": {\"color\": \"#2a3f5f\"}, \"error_y\": {\"color\": \"#2a3f5f\"}, \"marker\": {\"line\": {\"color\": \"#E5ECF6\", \"width\": 0.5}}, \"type\": \"bar\"}], \"barpolar\": [{\"marker\": {\"line\": {\"color\": \"#E5ECF6\", \"width\": 0.5}}, \"type\": \"barpolar\"}], \"carpet\": [{\"aaxis\": {\"endlinecolor\": \"#2a3f5f\", \"gridcolor\": \"white\", \"linecolor\": \"white\", \"minorgridcolor\": \"white\", \"startlinecolor\": \"#2a3f5f\"}, \"baxis\": {\"endlinecolor\": \"#2a3f5f\", \"gridcolor\": \"white\", \"linecolor\": \"white\", \"minorgridcolor\": \"white\", \"startlinecolor\": \"#2a3f5f\"}, \"type\": \"carpet\"}], \"choropleth\": [{\"colorbar\": {\"outlinewidth\": 0, \"ticks\": \"\"}, \"type\": \"choropleth\"}], \"contour\": [{\"colorbar\": {\"outlinewidth\": 0, \"ticks\": \"\"}, \"colorscale\": [[0.0, \"#0d0887\"], [0.1111111111111111, \"#46039f\"], [0.2222222222222222, \"#7201a8\"], [0.3333333333333333, \"#9c179e\"], [0.4444444444444444, \"#bd3786\"], [0.5555555555555556, \"#d8576b\"], [0.6666666666666666, \"#ed7953\"], [0.7777777777777778, \"#fb9f3a\"], [0.8888888888888888, \"#fdca26\"], [1.0, \"#f0f921\"]], \"type\": \"contour\"}], \"contourcarpet\": [{\"colorbar\": {\"outlinewidth\": 0, \"ticks\": \"\"}, \"type\": \"contourcarpet\"}], \"heatmap\": [{\"colorbar\": {\"outlinewidth\": 0, \"ticks\": \"\"}, \"colorscale\": [[0.0, \"#0d0887\"], [0.1111111111111111, \"#46039f\"], [0.2222222222222222, \"#7201a8\"], [0.3333333333333333, \"#9c179e\"], [0.4444444444444444, \"#bd3786\"], [0.5555555555555556, \"#d8576b\"], [0.6666666666666666, \"#ed7953\"], [0.7777777777777778, \"#fb9f3a\"], [0.8888888888888888, \"#fdca26\"], [1.0, \"#f0f921\"]], \"type\": \"heatmap\"}], \"heatmapgl\": [{\"colorbar\": {\"outlinewidth\": 0, \"ticks\": \"\"}, \"colorscale\": [[0.0, \"#0d0887\"], [0.1111111111111111, \"#46039f\"], [0.2222222222222222, \"#7201a8\"], [0.3333333333333333, \"#9c179e\"], [0.4444444444444444, \"#bd3786\"], [0.5555555555555556, \"#d8576b\"], [0.6666666666666666, \"#ed7953\"], [0.7777777777777778, \"#fb9f3a\"], [0.8888888888888888, \"#fdca26\"], [1.0, \"#f0f921\"]], \"type\": \"heatmapgl\"}], \"histogram\": [{\"marker\": {\"colorbar\": {\"outlinewidth\": 0, \"ticks\": \"\"}}, \"type\": \"histogram\"}], \"histogram2d\": [{\"colorbar\": {\"outlinewidth\": 0, \"ticks\": \"\"}, \"colorscale\": [[0.0, \"#0d0887\"], [0.1111111111111111, \"#46039f\"], [0.2222222222222222, \"#7201a8\"], [0.3333333333333333, \"#9c179e\"], [0.4444444444444444, \"#bd3786\"], [0.5555555555555556, \"#d8576b\"], [0.6666666666666666, \"#ed7953\"], [0.7777777777777778, \"#fb9f3a\"], [0.8888888888888888, \"#fdca26\"], [1.0, \"#f0f921\"]], \"type\": \"histogram2d\"}], \"histogram2dcontour\": [{\"colorbar\": {\"outlinewidth\": 0, \"ticks\": \"\"}, \"colorscale\": [[0.0, \"#0d0887\"], [0.1111111111111111, \"#46039f\"], [0.2222222222222222, \"#7201a8\"], [0.3333333333333333, \"#9c179e\"], [0.4444444444444444, \"#bd3786\"], [0.5555555555555556, \"#d8576b\"], [0.6666666666666666, \"#ed7953\"], [0.7777777777777778, \"#fb9f3a\"], [0.8888888888888888, \"#fdca26\"], [1.0, \"#f0f921\"]], \"type\": \"histogram2dcontour\"}], \"mesh3d\": [{\"colorbar\": {\"outlinewidth\": 0, \"ticks\": \"\"}, \"type\": \"mesh3d\"}], \"parcoords\": [{\"line\": {\"colorbar\": {\"outlinewidth\": 0, \"ticks\": \"\"}}, \"type\": \"parcoords\"}], \"pie\": [{\"automargin\": true, \"type\": \"pie\"}], \"scatter\": [{\"marker\": {\"colorbar\": {\"outlinewidth\": 0, \"ticks\": \"\"}}, \"type\": \"scatter\"}], \"scatter3d\": [{\"line\": {\"colorbar\": {\"outlinewidth\": 0, \"ticks\": \"\"}}, \"marker\": {\"colorbar\": {\"outlinewidth\": 0, \"ticks\": \"\"}}, \"type\": \"scatter3d\"}], \"scattercarpet\": [{\"marker\": {\"colorbar\": {\"outlinewidth\": 0, \"ticks\": \"\"}}, \"type\": \"scattercarpet\"}], \"scattergeo\": [{\"marker\": {\"colorbar\": {\"outlinewidth\": 0, \"ticks\": \"\"}}, \"type\": \"scattergeo\"}], \"scattergl\": [{\"marker\": {\"colorbar\": {\"outlinewidth\": 0, \"ticks\": \"\"}}, \"type\": \"scattergl\"}], \"scattermapbox\": [{\"marker\": {\"colorbar\": {\"outlinewidth\": 0, \"ticks\": \"\"}}, \"type\": \"scattermapbox\"}], \"scatterpolar\": [{\"marker\": {\"colorbar\": {\"outlinewidth\": 0, \"ticks\": \"\"}}, \"type\": \"scatterpolar\"}], \"scatterpolargl\": [{\"marker\": {\"colorbar\": {\"outlinewidth\": 0, \"ticks\": \"\"}}, \"type\": \"scatterpolargl\"}], \"scatterternary\": [{\"marker\": {\"colorbar\": {\"outlinewidth\": 0, \"ticks\": \"\"}}, \"type\": \"scatterternary\"}], \"surface\": [{\"colorbar\": {\"outlinewidth\": 0, \"ticks\": \"\"}, \"colorscale\": [[0.0, \"#0d0887\"], [0.1111111111111111, \"#46039f\"], [0.2222222222222222, \"#7201a8\"], [0.3333333333333333, \"#9c179e\"], [0.4444444444444444, \"#bd3786\"], [0.5555555555555556, \"#d8576b\"], [0.6666666666666666, \"#ed7953\"], [0.7777777777777778, \"#fb9f3a\"], [0.8888888888888888, \"#fdca26\"], [1.0, \"#f0f921\"]], \"type\": \"surface\"}], \"table\": [{\"cells\": {\"fill\": {\"color\": \"#EBF0F8\"}, \"line\": {\"color\": \"white\"}}, \"header\": {\"fill\": {\"color\": \"#C8D4E3\"}, \"line\": {\"color\": \"white\"}}, \"type\": \"table\"}]}, \"layout\": {\"annotationdefaults\": {\"arrowcolor\": \"#2a3f5f\", \"arrowhead\": 0, \"arrowwidth\": 1}, \"coloraxis\": {\"colorbar\": {\"outlinewidth\": 0, \"ticks\": \"\"}}, \"colorscale\": {\"diverging\": [[0, \"#8e0152\"], [0.1, \"#c51b7d\"], [0.2, \"#de77ae\"], [0.3, \"#f1b6da\"], [0.4, \"#fde0ef\"], [0.5, \"#f7f7f7\"], [0.6, \"#e6f5d0\"], [0.7, \"#b8e186\"], [0.8, \"#7fbc41\"], [0.9, \"#4d9221\"], [1, \"#276419\"]], \"sequential\": [[0.0, \"#0d0887\"], [0.1111111111111111, \"#46039f\"], [0.2222222222222222, \"#7201a8\"], [0.3333333333333333, \"#9c179e\"], [0.4444444444444444, \"#bd3786\"], [0.5555555555555556, \"#d8576b\"], [0.6666666666666666, \"#ed7953\"], [0.7777777777777778, \"#fb9f3a\"], [0.8888888888888888, \"#fdca26\"], [1.0, \"#f0f921\"]], \"sequentialminus\": [[0.0, \"#0d0887\"], [0.1111111111111111, \"#46039f\"], [0.2222222222222222, \"#7201a8\"], [0.3333333333333333, \"#9c179e\"], [0.4444444444444444, \"#bd3786\"], [0.5555555555555556, \"#d8576b\"], [0.6666666666666666, \"#ed7953\"], [0.7777777777777778, \"#fb9f3a\"], [0.8888888888888888, \"#fdca26\"], [1.0, \"#f0f921\"]]}, \"colorway\": [\"#636efa\", \"#EF553B\", \"#00cc96\", \"#ab63fa\", \"#FFA15A\", \"#19d3f3\", \"#FF6692\", \"#B6E880\", \"#FF97FF\", \"#FECB52\"], \"font\": {\"color\": \"#2a3f5f\"}, \"geo\": {\"bgcolor\": \"white\", \"lakecolor\": \"white\", \"landcolor\": \"#E5ECF6\", \"showlakes\": true, \"showland\": true, \"subunitcolor\": \"white\"}, \"hoverlabel\": {\"align\": \"left\"}, \"hovermode\": \"closest\", \"mapbox\": {\"style\": \"light\"}, \"paper_bgcolor\": \"white\", \"plot_bgcolor\": \"#E5ECF6\", \"polar\": {\"angularaxis\": {\"gridcolor\": \"white\", \"linecolor\": \"white\", \"ticks\": \"\"}, \"bgcolor\": \"#E5ECF6\", \"radialaxis\": {\"gridcolor\": \"white\", \"linecolor\": \"white\", \"ticks\": \"\"}}, \"scene\": {\"xaxis\": {\"backgroundcolor\": \"#E5ECF6\", \"gridcolor\": \"white\", \"gridwidth\": 2, \"linecolor\": \"white\", \"showbackground\": true, \"ticks\": \"\", \"zerolinecolor\": \"white\"}, \"yaxis\": {\"backgroundcolor\": \"#E5ECF6\", \"gridcolor\": \"white\", \"gridwidth\": 2, \"linecolor\": \"white\", \"showbackground\": true, \"ticks\": \"\", \"zerolinecolor\": \"white\"}, \"zaxis\": {\"backgroundcolor\": \"#E5ECF6\", \"gridcolor\": \"white\", \"gridwidth\": 2, \"linecolor\": \"white\", \"showbackground\": true, \"ticks\": \"\", \"zerolinecolor\": \"white\"}}, \"shapedefaults\": {\"line\": {\"color\": \"#2a3f5f\"}}, \"ternary\": {\"aaxis\": {\"gridcolor\": \"white\", \"linecolor\": \"white\", \"ticks\": \"\"}, \"baxis\": {\"gridcolor\": \"white\", \"linecolor\": \"white\", \"ticks\": \"\"}, \"bgcolor\": \"#E5ECF6\", \"caxis\": {\"gridcolor\": \"white\", \"linecolor\": \"white\", \"ticks\": \"\"}}, \"title\": {\"x\": 0.05}, \"xaxis\": {\"automargin\": true, \"gridcolor\": \"white\", \"linecolor\": \"white\", \"ticks\": \"\", \"title\": {\"standoff\": 15}, \"zerolinecolor\": \"white\", \"zerolinewidth\": 2}, \"yaxis\": {\"automargin\": true, \"gridcolor\": \"white\", \"linecolor\": \"white\", \"ticks\": \"\", \"title\": {\"standoff\": 15}, \"zerolinecolor\": \"white\", \"zerolinewidth\": 2}}}, \"title\": {\"text\": \"Top Words & Bigrams in Sample Contract\"}, \"xaxis\": {\"anchor\": \"y\", \"domain\": [0.0, 1.0], \"title\": {\"text\": \"words\"}}, \"yaxis\": {\"anchor\": \"x\", \"domain\": [0.0, 1.0], \"title\": {\"text\": \"value\"}}},\n",
       "                        {\"responsive\": true}\n",
       "                    ).then(function(){\n",
       "                            \n",
       "var gd = document.getElementById('5560836f-a0ee-4e31-a2e1-ef5f8d30ab01');\n",
       "var x = new MutationObserver(function (mutations, observer) {{\n",
       "        var display = window.getComputedStyle(gd).display;\n",
       "        if (!display || display === 'none') {{\n",
       "            console.log([gd, 'removed!']);\n",
       "            Plotly.purge(gd);\n",
       "            observer.disconnect();\n",
       "        }}\n",
       "}});\n",
       "\n",
       "// Listen for the removal of the full notebook cells\n",
       "var notebookContainer = gd.closest('#notebook-container');\n",
       "if (notebookContainer) {{\n",
       "    x.observe(notebookContainer, {childList: true});\n",
       "}}\n",
       "\n",
       "// Listen for the clearing of the current output cell\n",
       "var outputEl = gd.closest('.output');\n",
       "if (outputEl) {{\n",
       "    x.observe(outputEl, {childList: true});\n",
       "}}\n",
       "\n",
       "                        })\n",
       "                };\n",
       "                });\n",
       "            </script>\n",
       "        </div>"
      ]
     },
     "metadata": {},
     "output_type": "display_data"
    }
   ],
   "source": [
    "vector_barplotter(cleaned_text, \"Top Words & Bigrams in Sample Contract\", \"words\")"
   ]
  },
  {
   "cell_type": "code",
   "execution_count": 26,
   "metadata": {},
   "outputs": [
    {
     "name": "stdout",
     "output_type": "stream",
     "text": [
      "Top 25 Words in Contract\n"
     ]
    },
    {
     "data": {
      "image/png": "[encoded data removed]",
      "text/plain": [
       "<Figure size 432x288 with 1 Axes>"
      ]
     },
     "metadata": {
      "needs_background": "light"
     },
     "output_type": "display_data"
    }
   ],
   "source": [
    "vector_treemap_plotter(cleaned_text, \"Top 25 Words in Contract\")"
   ]
  },
  {
   "cell_type": "markdown",
   "metadata": {},
   "source": [
    "### Initial EDA Explanation"
   ]
  },
  {
   "cell_type": "markdown",
   "metadata": {},
   "source": [
    "Thanks to pdf miner, we were able to convert our single pdf file into a gigantic string. As is expected, however, that conversion wasn't perfect - there were lots of unwanted characters, spaces, quotation marks etc. These had to be cleaned out and processed using `WordVectorizer` in order to get our bag of words that we could bring out into intial visualizations. \n",
    "\n",
    "Our initial EDA of this sample contract tells us that the top few words relate to \"party\", \"trademark\", \"eclipse\" and \"agreement\". \n",
    "\n",
    "\"Party\" and \"agreement\" aren't very special in a contract as they simply refer to the contract itself and the people who are the parties to it. However, drawing from my own subject expertise in law, the following words have special legal meanings:\n",
    "\n",
    "**Trademark**: The second highest word count at 29 counts indicates that the agreement has to do with a trademark agreement. In a trademark licence agreement, the proprietor (Licensor) of a registered trademark gives authorization to another company (Licensee) to manufacture and distribute products under this trademark: https://www.globalnegotiator.com/international-trade/dictionary/trademark-license-agreement/#:~:text=Trade%20Tradem%20Tradeo-,Trademark%20license%20agreement,distribute%20products%20under%20this%20trademark.\n",
    "\n",
    "**Domain Name** and **Eclipse** : That trademark agreement centers around the company's domain name \"Eclipse\".\n",
    "\n",
    "**Title Interest**: This refers to the title and interest a.k.a the legal rights to use the \"Domain Name\", which is being assigned."
   ]
  },
  {
   "cell_type": "markdown",
   "metadata": {},
   "source": [
    "### What This Means for Modelling\n",
    "The intrinsically technical nature of contracts makes it easy to bring out keywords, which in turn should ideally help us to boost the accuracy of topic modelling. We have only run this clean on sample contract, however.\n",
    "\n",
    "Although I have a corpus of ~1000+ contracts at about nearly **800MB**, I haven't yet figured out how to write a for loop that does all of the above actions - including the pdf into dataframe row conversion - into one gigantic dataframe for the entire corpus. That will require further research, but for now we can see that the preliminary potential of topic modelling around contracts will work.\n",
    "\n",
    "The somewhat large dataset may mean that I may be best served running the eventual giant clean and convert to the cloud or a hybrid of the cloud and on-premise computing. "
   ]
  },
  {
   "cell_type": "code",
   "execution_count": 27,
   "metadata": {},
   "outputs": [
    {
     "name": "stdout",
     "output_type": "stream",
     "text": [
      "Using matplotlib backend: MacOSX\n",
      "Populating the interactive namespace from numpy and matplotlib\n"
     ]
    },
    {
     "name": "stderr",
     "output_type": "stream",
     "text": [
      "/Users/grahamlim/opt/anaconda3/lib/python3.7/site-packages/IPython/core/magics/pylab.py:160: UserWarning:\n",
      "\n",
      "pylab import has clobbered these variables: ['re', 'plot', '__version__', 'text']\n",
      "`%matplotlib` prevents importing * from pylab and numpy\n",
      "\n"
     ]
    }
   ],
   "source": [
    "#imports for LDA Topic Modeller\n",
    "\n",
    "from sklearn.feature_extraction.text import CountVectorizer,TfidfVectorizer\n",
    "from sklearn.decomposition import LatentDirichletAllocation\n",
    "import pandas as pd\n",
    "import numpy as np\n",
    "%pylab\n",
    "%matplotlib inline"
   ]
  },
  {
   "cell_type": "code",
   "execution_count": 28,
   "metadata": {},
   "outputs": [
    {
     "data": {
      "text/plain": [
       "CountVectorizer(analyzer='word', binary=False, decode_error='strict',\n",
       "                dtype=<class 'numpy.int64'>, encoding='utf-8', input='content',\n",
       "                lowercase=True, max_df=1.0, max_features=None, min_df=1,\n",
       "                ngram_range=(1, 2), preprocessor=None, stop_words=None,\n",
       "                strip_accents=None, token_pattern='(?u)\\\\b\\\\w\\\\w+\\\\b',\n",
       "                tokenizer=None, vocabulary=None)"
      ]
     },
     "execution_count": 28,
     "metadata": {},
     "output_type": "execute_result"
    }
   ],
   "source": [
    "#recalling that our vectorizer is at \n",
    "vectorizer"
   ]
  },
  {
   "cell_type": "code",
   "execution_count": 29,
   "metadata": {},
   "outputs": [
    {
     "data": {
      "text/html": [
       "<div>\n",
       "<style scoped>\n",
       "    .dataframe tbody tr th:only-of-type {\n",
       "        vertical-align: middle;\n",
       "    }\n",
       "\n",
       "    .dataframe tbody tr th {\n",
       "        vertical-align: top;\n",
       "    }\n",
       "\n",
       "    .dataframe thead th {\n",
       "        text-align: right;\n",
       "    }\n",
       "</style>\n",
       "<table border=\"1\" class=\"dataframe\">\n",
       "  <thead>\n",
       "    <tr style=\"text-align: right;\">\n",
       "      <th></th>\n",
       "      <th>cleaned_text</th>\n",
       "    </tr>\n",
       "  </thead>\n",
       "  <tbody>\n",
       "    <tr>\n",
       "      <th>0</th>\n",
       "      <td>st advantage federal credit union visa platinum credit card agreement st advantage federal credit union visa platinum credit card agreement calculated adding spread prime rate index effect first business day month immediately preceding january april calculated adding spread prime rate index effect first business day month immediately preceding january april percentage rate calculated adding spread prime rate index effect time review finance percentage rate calculated adding spread prime rate index effect time review finance agreement word mean apply card sign agreement card mean visa platinum card duplicate renewal issue everyone receives sign us card issued agreement must member credit union account mean visa platinum credit card line credit account u u issuer mean credit union credit union designee responsibility issue card agree repay debt related fee finance charge arising use card card account example agreement word mean apply card sign agreement card mean visa platinum card r...</td>\n",
       "    </tr>\n",
       "  </tbody>\n",
       "</table>\n",
       "</div>"
      ],
      "text/plain": [
       "                                                                                                                                                                                                                                                                                                                                                                                                                                                                                                                                                                                                                                                                                                                                                                                                                                                                                                                                                                                                                              cleaned_text\n",
       "0  st advantage federal credit union visa platinum credit card agreement st advantage federal credit union visa platinum credit card agreement calculated adding spread prime rate index effect first business day month immediately preceding january april calculated adding spread prime rate index effect first business day month immediately preceding january april percentage rate calculated adding spread prime rate index effect time review finance percentage rate calculated adding spread prime rate index effect time review finance agreement word mean apply card sign agreement card mean visa platinum card duplicate renewal issue everyone receives sign us card issued agreement must member credit union account mean visa platinum credit card line credit account u u issuer mean credit union credit union designee responsibility issue card agree repay debt related fee finance charge arising use card card account example agreement word mean apply card sign agreement card mean visa platinum card r..."
      ]
     },
     "execution_count": 29,
     "metadata": {},
     "output_type": "execute_result"
    }
   ],
   "source": [
    "#we're going to vectorize the text below\n",
    "df[[\"cleaned_text\"]]"
   ]
  },
  {
   "cell_type": "code",
   "execution_count": 30,
   "metadata": {},
   "outputs": [],
   "source": [
    "dtm=vectorizer.fit_transform(cleaned_text)"
   ]
  },
  {
   "cell_type": "code",
   "execution_count": 31,
   "metadata": {},
   "outputs": [
    {
     "data": {
      "text/plain": [
       "<1x2079 sparse matrix of type '<class 'numpy.int64'>'\n",
       "\twith 2079 stored elements in Compressed Sparse Row format>"
      ]
     },
     "execution_count": 31,
     "metadata": {},
     "output_type": "execute_result"
    }
   ],
   "source": [
    "#doing this gets us a sparse matrix \n",
    "dtm"
   ]
  },
  {
   "cell_type": "code",
   "execution_count": 32,
   "metadata": {},
   "outputs": [
    {
     "data": {
      "text/html": [
       "<div>\n",
       "<style scoped>\n",
       "    .dataframe tbody tr th:only-of-type {\n",
       "        vertical-align: middle;\n",
       "    }\n",
       "\n",
       "    .dataframe tbody tr th {\n",
       "        vertical-align: top;\n",
       "    }\n",
       "\n",
       "    .dataframe thead th {\n",
       "        text-align: right;\n",
       "    }\n",
       "</style>\n",
       "<table border=\"1\" class=\"dataframe\">\n",
       "  <thead>\n",
       "    <tr style=\"text-align: right;\">\n",
       "      <th></th>\n",
       "      <th>ability</th>\n",
       "      <th>ability pay</th>\n",
       "      <th>ability repay</th>\n",
       "      <th>accepted</th>\n",
       "      <th>accepted cardholder</th>\n",
       "      <th>accordance</th>\n",
       "      <th>accordance virginia</th>\n",
       "      <th>account</th>\n",
       "      <th>account account</th>\n",
       "      <th>account agreement</th>\n",
       "      <th>...</th>\n",
       "      <th>writing law</th>\n",
       "      <th>writing st</th>\n",
       "      <th>writing within</th>\n",
       "      <th>written</th>\n",
       "      <th>written application</th>\n",
       "      <th>written notice</th>\n",
       "      <th>wrong</th>\n",
       "      <th>wrong need</th>\n",
       "      <th>year</th>\n",
       "      <th>year date</th>\n",
       "    </tr>\n",
       "  </thead>\n",
       "  <tbody>\n",
       "    <tr>\n",
       "      <th>0</th>\n",
       "      <td>4</td>\n",
       "      <td>2</td>\n",
       "      <td>2</td>\n",
       "      <td>2</td>\n",
       "      <td>2</td>\n",
       "      <td>2</td>\n",
       "      <td>2</td>\n",
       "      <td>90</td>\n",
       "      <td>2</td>\n",
       "      <td>1</td>\n",
       "      <td>...</td>\n",
       "      <td>1</td>\n",
       "      <td>2</td>\n",
       "      <td>2</td>\n",
       "      <td>6</td>\n",
       "      <td>2</td>\n",
       "      <td>4</td>\n",
       "      <td>1</td>\n",
       "      <td>1</td>\n",
       "      <td>1</td>\n",
       "      <td>1</td>\n",
       "    </tr>\n",
       "  </tbody>\n",
       "</table>\n",
       "<p>1 rows × 2079 columns</p>\n",
       "</div>"
      ],
      "text/plain": [
       "   ability  ability pay  ability repay  accepted  accepted cardholder  \\\n",
       "0        4            2              2         2                    2   \n",
       "\n",
       "   accordance  accordance virginia  account  account account  \\\n",
       "0           2                    2       90                2   \n",
       "\n",
       "   account agreement  ...  writing law  writing st  writing within  written  \\\n",
       "0                  1  ...            1           2               2        6   \n",
       "\n",
       "   written application  written notice  wrong  wrong need  year  year date  \n",
       "0                    2               4      1           1     1          1  \n",
       "\n",
       "[1 rows x 2079 columns]"
      ]
     },
     "execution_count": 32,
     "metadata": {},
     "output_type": "execute_result"
    }
   ],
   "source": [
    "pd.DataFrame(dtm.toarray(),columns=vectorizer.get_feature_names())"
   ]
  },
  {
   "cell_type": "code",
   "execution_count": 37,
   "metadata": {},
   "outputs": [
    {
     "data": {
      "text/plain": [
       "array([[9.99877389e-01, 3.06528022e-05, 3.06528022e-05, 3.06528022e-05,\n",
       "        3.06528022e-05]])"
      ]
     },
     "execution_count": 37,
     "metadata": {},
     "output_type": "execute_result"
    }
   ],
   "source": [
    "#we now instantiate the Latent Dirichlet Allocation machine learning algo from sklearn\n",
    "#this lets us do topic modelling when we fit it\n",
    "\n",
    "lda=LatentDirichletAllocation(n_components=5)\n",
    "lda.fit_transform(dtm)\n"
   ]
  },
  {
   "cell_type": "code",
   "execution_count": 38,
   "metadata": {},
   "outputs": [],
   "source": [
    "lda_dtf=lda.fit_transform(dtm)"
   ]
  },
  {
   "cell_type": "code",
   "execution_count": 39,
   "metadata": {},
   "outputs": [],
   "source": [
    "\n",
    "import numpy as np\n",
    "sorting=np.argsort(lda.components_)[:,::-1]\n",
    "features=np.array(vectorizer.get_feature_names())"
   ]
  },
  {
   "cell_type": "markdown",
   "metadata": {},
   "source": [
    "Run `pip install mglearn` in cmd/terminal"
   ]
  },
  {
   "cell_type": "code",
   "execution_count": 41,
   "metadata": {},
   "outputs": [
    {
     "name": "stdout",
     "output_type": "stream",
     "text": [
      "topic 0       topic 1       topic 2       topic 3       topic 4       \n",
      "--------      --------      --------      --------      --------      \n",
      "credit        year date     year date     year date     year date     \n",
      "account       involving pursuantinvolving pursuantinvolving pursuantinvolving pursuant\n",
      "rate          law misleadinglaw misleadinglaw misleadinglaw misleading\n",
      "card          law judicial  law judicial  law judicial  law judicial  \n",
      "balance       law future    law future    law future    law future    \n",
      "credit union  later day     later day     later day     later day     \n",
      "union         later         later         later         later         \n",
      "charge        keep notice   keep notice   keep notice   keep notice   \n",
      "agreement     keep          keep          keep          keep          \n",
      "may           judicial rulingjudicial rulingjudicial rulingjudicial ruling\n",
      "\n",
      "\n"
     ]
    }
   ],
   "source": [
    "import mglearn\n",
    "mglearn.tools.print_topics(topics=range(5), feature_names=features,\n",
    "sorting=sorting, topics_per_chunk=5, n_words=10)"
   ]
  },
  {
   "cell_type": "markdown",
   "metadata": {},
   "source": [
    " The topic modelling algo isn't the best and there are a lot of repeated keywords. Maybe visualization will improve it."
   ]
  },
  {
   "cell_type": "markdown",
   "metadata": {},
   "source": [
    "# Visualizing Topics"
   ]
  },
  {
   "cell_type": "markdown",
   "metadata": {},
   "source": [
    "Please `pip install pyLDAvis` in cmd/terminal."
   ]
  },
  {
   "cell_type": "code",
   "execution_count": 42,
   "metadata": {},
   "outputs": [],
   "source": [
    "from __future__ import  print_function\n",
    "import pyLDAvis\n",
    "import pyLDAvis.sklearn\n",
    "pyLDAvis.enable_notebook()"
   ]
  },
  {
   "cell_type": "code",
   "execution_count": 37,
   "metadata": {},
   "outputs": [],
   "source": [
    "#  Agreement_Topic=np.argsort(lda_dtf[:,2])[::-1]\n",
    "# for i in Agreement_Topic[:4]:\n",
    "#     print(b\".\".join(cleaned_text[i].split(b\".\")[:2]) + b\".\\n\")"
   ]
  },
  {
   "cell_type": "code",
   "execution_count": 51,
   "metadata": {},
   "outputs": [],
   "source": [
    "#this visualization is better and will run a new window in which our top topics can be seen\n",
    "zit=pyLDAvis.sklearn.prepare(lda,dtm,vectorizer)\n"
   ]
  },
  {
   "cell_type": "code",
   "execution_count": 52,
   "metadata": {},
   "outputs": [],
   "source": [
    "#embed visualization in notebook\n",
    "#https://pyldavis.readthedocs.io/en/latest/modules/API.html"
   ]
  },
  {
   "cell_type": "code",
   "execution_count": 53,
   "metadata": {},
   "outputs": [],
   "source": [
    "from IPython.core.display import HTML\n",
    "viz = pyLDAvis.display(zit)"
   ]
  },
  {
   "cell_type": "code",
   "execution_count": 54,
   "metadata": {},
   "outputs": [
    {
     "data": {
      "text/html": [
       "\n",
       "<link rel=\"stylesheet\" type=\"text/css\" href=\"https://cdn.rawgit.com/bmabey/pyLDAvis/files/ldavis.v1.0.0.css\">\n",
       "\n",
       "\n",
       "<div id=\"ldavis_el193301404793528355364689203962\"></div>\n",
       "<script type=\"text/javascript\">\n",
       "\n",
       "var ldavis_el193301404793528355364689203962_data = {\"mdsDat\": {\"x\": [0.07992436196851016, -0.01998109049212935, -0.019981090492127884, -0.01998109049212657, -0.019981090492126364], \"y\": [0.0, 0.0, 0.0, 0.0, 0.0], \"topics\": [1, 2, 3, 4, 5], \"cluster\": [1, 1, 1, 1, 1], \"Freq\": [99.98773887910981, 0.003065280222550621, 0.0030652802225506195, 0.003065280222550618, 0.003065280222550618]}, \"tinfo\": {\"Term\": [\"card\", \"rate\", \"account\", \"credit\", \"balance\", \"union\", \"credit union\", \"charge\", \"agreement\", \"may\", \"payment\", \"finance\", \"transaction\", \"day\", \"purchase\", \"finance charge\", \"fee\", \"statement\", \"amount\", \"visa\", \"interest\", \"billing\", \"date\", \"pay\", \"daily\", \"cash\", \"cycle\", \"billing cycle\", \"use\", \"daily balance\", \"credit\", \"account\", \"rate\", \"card\", \"balance\", \"credit union\", \"union\", \"charge\", \"agreement\", \"may\", \"payment\", \"transaction\", \"finance\", \"day\", \"purchase\", \"finance charge\", \"fee\", \"statement\", \"interest\", \"visa\", \"amount\", \"billing\", \"date\", \"pay\", \"daily balance\", \"billing cycle\", \"cycle\", \"cash\", \"use\", \"daily\", \"year date\", \"involving pursuant\", \"law misleading\", \"law judicial\", \"law future\", \"later day\", \"later\", \"keep notice\", \"keep\", \"judicial ruling\", \"judicial\", \"year\", \"joint obligors\", \"item sure\", \"item\", \"involving shall\", \"investigating still\", \"made purchase\", \"investigating\", \"interpretation enforcement\", \"interpretation\", \"interest shall\", \"interest impaired\", \"insurance premium\", \"insurance\", \"information transaction\", \"information right\", \"information name\", \"information describe\", \"indicate notice\", \"year date\", \"involving pursuant\", \"law misleading\", \"law judicial\", \"law future\", \"later day\", \"later\", \"keep notice\", \"keep\", \"judicial ruling\", \"judicial\", \"year\", \"joint obligors\", \"item sure\", \"item\", \"involving shall\", \"investigating still\", \"made purchase\", \"investigating\", \"interpretation enforcement\", \"interpretation\", \"interest shall\", \"interest impaired\", \"insurance premium\", \"insurance\", \"information transaction\", \"information right\", \"information name\", \"information describe\", \"indicate notice\", \"year date\", \"involving pursuant\", \"law misleading\", \"law judicial\", \"law future\", \"later day\", \"later\", \"keep notice\", \"keep\", \"judicial ruling\", \"judicial\", \"year\", \"joint obligors\", \"item sure\", \"item\", \"involving shall\", \"investigating still\", \"made purchase\", \"investigating\", \"interpretation enforcement\", \"interpretation\", \"interest shall\", \"interest impaired\", \"insurance premium\", \"insurance\", \"information transaction\", \"information right\", \"information name\", \"information describe\", \"indicate notice\", \"year date\", \"involving pursuant\", \"law misleading\", \"law judicial\", \"law future\", \"later day\", \"later\", \"keep notice\", \"keep\", \"judicial ruling\", \"judicial\", \"year\", \"joint obligors\", \"item sure\", \"item\", \"involving shall\", \"investigating still\", \"made purchase\", \"investigating\", \"interpretation enforcement\", \"interpretation\", \"interest shall\", \"interest impaired\", \"insurance premium\", \"insurance\", \"information transaction\", \"information right\", \"information name\", \"information describe\", \"indicate notice\"], \"Freq\": [73.0, 81.0, 84.0, 102.0, 49.0, 47.0, 47.0, 45.0, 42.0, 39.0, 38.0, 34.0, 34.0, 34.0, 34.0, 33.0, 31.0, 30.0, 26.0, 26.0, 26.0, 25.0, 24.0, 23.0, 22.0, 22.0, 22.0, 22.0, 22.0, 22.0, 102.64938477612804, 84.78914379210792, 81.02909305862191, 73.50899159163808, 49.06866182375199, 47.188636456970926, 47.188636456970926, 45.3086110901851, 42.488573039996005, 39.66853498979209, 38.72852230638692, 34.968471572742786, 34.968471572742786, 34.0284588893249, 34.0284588893249, 33.0884462059038, 31.208420839050806, 30.268408155618218, 26.508357421837125, 26.508357421837125, 26.508357421837125, 25.568344738376325, 24.628332054907876, 23.688319371430847, 22.748306687944172, 22.748306687944172, 22.748306687944172, 22.748306687944172, 22.748306687944172, 22.748306687944172, 9.62636627757727e-05, 9.62636627757727e-05, 9.62636627757727e-05, 9.62636627757727e-05, 9.62636627757727e-05, 9.62636627757727e-05, 9.62636627757727e-05, 9.62636627757727e-05, 9.62636627757727e-05, 9.62636627757727e-05, 9.62636627757727e-05, 9.62636627757727e-05, 9.62636627757727e-05, 9.62636627757727e-05, 9.62636627757727e-05, 9.62636627757727e-05, 9.62636627757727e-05, 9.62636627757727e-05, 9.62636627757727e-05, 9.62636627757727e-05, 9.62636627757727e-05, 9.62636627757727e-05, 9.62636627757727e-05, 9.62636627757727e-05, 9.62636627757727e-05, 9.62636627757727e-05, 9.62636627757727e-05, 9.62636627757727e-05, 9.62636627757727e-05, 9.62636627757727e-05, 9.626366277577148e-05, 9.626366277577148e-05, 9.626366277577148e-05, 9.626366277577148e-05, 9.626366277577148e-05, 9.626366277577148e-05, 9.626366277577148e-05, 9.626366277577148e-05, 9.626366277577148e-05, 9.626366277577148e-05, 9.626366277577148e-05, 9.626366277577148e-05, 9.626366277577148e-05, 9.626366277577148e-05, 9.626366277577148e-05, 9.626366277577148e-05, 9.626366277577148e-05, 9.626366277577148e-05, 9.626366277577148e-05, 9.626366277577148e-05, 9.626366277577148e-05, 9.626366277577148e-05, 9.626366277577148e-05, 9.626366277577148e-05, 9.626366277577148e-05, 9.626366277577148e-05, 9.626366277577148e-05, 9.626366277577148e-05, 9.626366277577148e-05, 9.626366277577148e-05, 9.62636627757704e-05, 9.62636627757704e-05, 9.62636627757704e-05, 9.62636627757704e-05, 9.62636627757704e-05, 9.62636627757704e-05, 9.62636627757704e-05, 9.62636627757704e-05, 9.62636627757704e-05, 9.62636627757704e-05, 9.62636627757704e-05, 9.62636627757704e-05, 9.62636627757704e-05, 9.62636627757704e-05, 9.62636627757704e-05, 9.62636627757704e-05, 9.62636627757704e-05, 9.62636627757704e-05, 9.62636627757704e-05, 9.62636627757704e-05, 9.62636627757704e-05, 9.62636627757704e-05, 9.62636627757704e-05, 9.62636627757704e-05, 9.62636627757704e-05, 9.62636627757704e-05, 9.62636627757704e-05, 9.62636627757704e-05, 9.62636627757704e-05, 9.62636627757704e-05, 9.626366277576996e-05, 9.626366277576996e-05, 9.626366277576996e-05, 9.626366277576996e-05, 9.626366277576996e-05, 9.626366277576996e-05, 9.626366277576996e-05, 9.626366277576996e-05, 9.626366277576996e-05, 9.626366277576996e-05, 9.626366277576996e-05, 9.626366277576996e-05, 9.626366277576996e-05, 9.626366277576996e-05, 9.626366277576996e-05, 9.626366277576996e-05, 9.626366277576996e-05, 9.626366277576996e-05, 9.626366277576996e-05, 9.626366277576996e-05, 9.626366277576996e-05, 9.626366277576996e-05, 9.626366277576996e-05, 9.626366277576996e-05, 9.626366277576996e-05, 9.626366277576996e-05, 9.626366277576996e-05, 9.626366277576996e-05, 9.626366277576996e-05, 9.626366277576996e-05], \"Total\": [73.0, 81.0, 84.0, 102.0, 49.0, 47.0, 47.0, 45.0, 42.0, 39.0, 38.0, 34.0, 34.0, 34.0, 34.0, 33.0, 31.0, 30.0, 26.0, 26.0, 26.0, 25.0, 24.0, 23.0, 22.0, 22.0, 22.0, 22.0, 22.0, 22.0, 102.64976983073723, 84.78952884671716, 81.0294781132312, 73.50937664624738, 49.06904687836154, 47.189021511580506, 47.189021511580506, 45.30899614479474, 42.48895809460567, 39.668920044401844, 38.72890736099667, 34.96885662735265, 34.96885662735265, 34.028843943934795, 34.028843943934795, 33.08883126051372, 31.2088058936608, 30.26879321022824, 26.508742476447317, 26.508742476447317, 26.508742476447317, 25.568729792986574, 24.62871710951818, 23.68870442604121, 22.74869174255459, 22.74869174255459, 22.74869174255459, 22.74869174255459, 22.74869174255459, 22.74869174255459, 1.1283999458190548, 1.1283999458190548, 1.1283999458190548, 1.1283999458190548, 1.1283999458190548, 1.1283999458190548, 1.1283999458190548, 1.1283999458190548, 1.1283999458190548, 1.1283999458190548, 1.1283999458190548, 1.1283999458190548, 1.1283999458190548, 1.1283999458190548, 1.1283999458190548, 1.1283999458190548, 1.1283999458190548, 1.1283999458190548, 1.1283999458190548, 1.1283999458190548, 1.1283999458190548, 1.1283999458190548, 1.1283999458190548, 1.1283999458190548, 1.1283999458190548, 1.1283999458190548, 1.1283999458190548, 1.1283999458190548, 1.1283999458190548, 1.1283999458190548, 1.1283999458190548, 1.1283999458190548, 1.1283999458190548, 1.1283999458190548, 1.1283999458190548, 1.1283999458190548, 1.1283999458190548, 1.1283999458190548, 1.1283999458190548, 1.1283999458190548, 1.1283999458190548, 1.1283999458190548, 1.1283999458190548, 1.1283999458190548, 1.1283999458190548, 1.1283999458190548, 1.1283999458190548, 1.1283999458190548, 1.1283999458190548, 1.1283999458190548, 1.1283999458190548, 1.1283999458190548, 1.1283999458190548, 1.1283999458190548, 1.1283999458190548, 1.1283999458190548, 1.1283999458190548, 1.1283999458190548, 1.1283999458190548, 1.1283999458190548, 1.1283999458190548, 1.1283999458190548, 1.1283999458190548, 1.1283999458190548, 1.1283999458190548, 1.1283999458190548, 1.1283999458190548, 1.1283999458190548, 1.1283999458190548, 1.1283999458190548, 1.1283999458190548, 1.1283999458190548, 1.1283999458190548, 1.1283999458190548, 1.1283999458190548, 1.1283999458190548, 1.1283999458190548, 1.1283999458190548, 1.1283999458190548, 1.1283999458190548, 1.1283999458190548, 1.1283999458190548, 1.1283999458190548, 1.1283999458190548, 1.1283999458190548, 1.1283999458190548, 1.1283999458190548, 1.1283999458190548, 1.1283999458190548, 1.1283999458190548, 1.1283999458190548, 1.1283999458190548, 1.1283999458190548, 1.1283999458190548, 1.1283999458190548, 1.1283999458190548, 1.1283999458190548, 1.1283999458190548, 1.1283999458190548, 1.1283999458190548, 1.1283999458190548, 1.1283999458190548, 1.1283999458190548, 1.1283999458190548, 1.1283999458190548, 1.1283999458190548, 1.1283999458190548, 1.1283999458190548, 1.1283999458190548, 1.1283999458190548, 1.1283999458190548, 1.1283999458190548, 1.1283999458190548, 1.1283999458190548, 1.1283999458190548, 1.1283999458190548, 1.1283999458190548, 1.1283999458190548, 1.1283999458190548, 1.1283999458190548], \"Category\": [\"Default\", \"Default\", \"Default\", \"Default\", \"Default\", \"Default\", \"Default\", \"Default\", \"Default\", \"Default\", \"Default\", \"Default\", \"Default\", \"Default\", \"Default\", \"Default\", \"Default\", \"Default\", \"Default\", \"Default\", \"Default\", \"Default\", \"Default\", \"Default\", \"Default\", \"Default\", \"Default\", \"Default\", \"Default\", \"Default\", \"Topic1\", \"Topic1\", \"Topic1\", \"Topic1\", \"Topic1\", \"Topic1\", \"Topic1\", \"Topic1\", \"Topic1\", \"Topic1\", \"Topic1\", \"Topic1\", \"Topic1\", \"Topic1\", \"Topic1\", \"Topic1\", \"Topic1\", \"Topic1\", \"Topic1\", \"Topic1\", \"Topic1\", \"Topic1\", \"Topic1\", \"Topic1\", \"Topic1\", \"Topic1\", \"Topic1\", \"Topic1\", \"Topic1\", \"Topic1\", \"Topic2\", \"Topic2\", \"Topic2\", \"Topic2\", \"Topic2\", \"Topic2\", \"Topic2\", \"Topic2\", \"Topic2\", \"Topic2\", \"Topic2\", \"Topic2\", \"Topic2\", \"Topic2\", \"Topic2\", \"Topic2\", \"Topic2\", \"Topic2\", \"Topic2\", \"Topic2\", \"Topic2\", \"Topic2\", \"Topic2\", \"Topic2\", \"Topic2\", \"Topic2\", \"Topic2\", \"Topic2\", \"Topic2\", \"Topic2\", \"Topic3\", \"Topic3\", \"Topic3\", \"Topic3\", \"Topic3\", \"Topic3\", \"Topic3\", \"Topic3\", \"Topic3\", \"Topic3\", \"Topic3\", \"Topic3\", \"Topic3\", \"Topic3\", \"Topic3\", \"Topic3\", \"Topic3\", \"Topic3\", \"Topic3\", \"Topic3\", \"Topic3\", \"Topic3\", \"Topic3\", \"Topic3\", \"Topic3\", \"Topic3\", \"Topic3\", \"Topic3\", \"Topic3\", \"Topic3\", \"Topic4\", \"Topic4\", \"Topic4\", \"Topic4\", \"Topic4\", \"Topic4\", \"Topic4\", \"Topic4\", \"Topic4\", \"Topic4\", \"Topic4\", \"Topic4\", \"Topic4\", \"Topic4\", \"Topic4\", \"Topic4\", \"Topic4\", \"Topic4\", \"Topic4\", \"Topic4\", \"Topic4\", \"Topic4\", \"Topic4\", \"Topic4\", \"Topic4\", \"Topic4\", \"Topic4\", \"Topic4\", \"Topic4\", \"Topic4\", \"Topic5\", \"Topic5\", \"Topic5\", \"Topic5\", \"Topic5\", \"Topic5\", \"Topic5\", \"Topic5\", \"Topic5\", \"Topic5\", \"Topic5\", \"Topic5\", \"Topic5\", \"Topic5\", \"Topic5\", \"Topic5\", \"Topic5\", \"Topic5\", \"Topic5\", \"Topic5\", \"Topic5\", \"Topic5\", \"Topic5\", \"Topic5\", \"Topic5\", \"Topic5\", \"Topic5\", \"Topic5\", \"Topic5\", \"Topic5\"], \"logprob\": [30.0, 29.0, 28.0, 27.0, 26.0, 25.0, 24.0, 23.0, 22.0, 21.0, 20.0, 19.0, 18.0, 17.0, 16.0, 15.0, 14.0, 13.0, 12.0, 11.0, 10.0, 9.0, 8.0, 7.0, 6.0, 5.0, 4.0, 3.0, 2.0, 1.0, -4.1526, -4.3437, -4.3891, -4.4865, -4.8907, -4.9297, -4.9297, -4.9704, -5.0347, -5.1033, -5.1273, -5.2294, -5.2294, -5.2567, -5.2567, -5.2847, -5.3432, -5.3738, -5.5064, -5.5064, -5.5064, -5.5425, -5.58, -5.6189, -5.6594, -5.6594, -5.6594, -5.6594, -5.6594, -5.6594, -7.6396, -7.6396, -7.6396, -7.6396, -7.6396, -7.6396, -7.6396, -7.6396, -7.6396, -7.6396, -7.6396, -7.6396, -7.6396, -7.6396, -7.6396, -7.6396, -7.6396, -7.6396, -7.6396, -7.6396, -7.6396, -7.6396, -7.6396, -7.6396, -7.6396, -7.6396, -7.6396, -7.6396, -7.6396, -7.6396, -7.6396, -7.6396, -7.6396, -7.6396, -7.6396, -7.6396, -7.6396, -7.6396, -7.6396, -7.6396, -7.6396, -7.6396, -7.6396, -7.6396, -7.6396, -7.6396, -7.6396, -7.6396, -7.6396, -7.6396, -7.6396, -7.6396, -7.6396, -7.6396, -7.6396, -7.6396, -7.6396, -7.6396, -7.6396, -7.6396, -7.6396, -7.6396, -7.6396, -7.6396, -7.6396, -7.6396, -7.6396, -7.6396, -7.6396, -7.6396, -7.6396, -7.6396, -7.6396, -7.6396, -7.6396, -7.6396, -7.6396, -7.6396, -7.6396, -7.6396, -7.6396, -7.6396, -7.6396, -7.6396, -7.6396, -7.6396, -7.6396, -7.6396, -7.6396, -7.6396, -7.6396, -7.6396, -7.6396, -7.6396, -7.6396, -7.6396, -7.6396, -7.6396, -7.6396, -7.6396, -7.6396, -7.6396, -7.6396, -7.6396, -7.6396, -7.6396, -7.6396, -7.6396, -7.6396, -7.6396, -7.6396, -7.6396, -7.6396, -7.6396, -7.6396, -7.6396, -7.6396, -7.6396, -7.6396, -7.6396], \"loglift\": [30.0, 29.0, 28.0, 27.0, 26.0, 25.0, 24.0, 23.0, 22.0, 21.0, 20.0, 19.0, 18.0, 17.0, 16.0, 15.0, 14.0, 13.0, 12.0, 11.0, 10.0, 9.0, 8.0, 7.0, 6.0, 5.0, 4.0, 3.0, 2.0, 1.0, 0.0001, 0.0001, 0.0001, 0.0001, 0.0001, 0.0001, 0.0001, 0.0001, 0.0001, 0.0001, 0.0001, 0.0001, 0.0001, 0.0001, 0.0001, 0.0001, 0.0001, 0.0001, 0.0001, 0.0001, 0.0001, 0.0001, 0.0001, 0.0001, 0.0001, 0.0001, 0.0001, 0.0001, 0.0001, 0.0001, 1.0236, 1.0236, 1.0236, 1.0236, 1.0236, 1.0236, 1.0236, 1.0236, 1.0236, 1.0236, 1.0236, 1.0236, 1.0236, 1.0236, 1.0236, 1.0236, 1.0236, 1.0236, 1.0236, 1.0236, 1.0236, 1.0236, 1.0236, 1.0236, 1.0236, 1.0236, 1.0236, 1.0236, 1.0236, 1.0236, 1.0236, 1.0236, 1.0236, 1.0236, 1.0236, 1.0236, 1.0236, 1.0236, 1.0236, 1.0236, 1.0236, 1.0236, 1.0236, 1.0236, 1.0236, 1.0236, 1.0236, 1.0236, 1.0236, 1.0236, 1.0236, 1.0236, 1.0236, 1.0236, 1.0236, 1.0236, 1.0236, 1.0236, 1.0236, 1.0236, 1.0236, 1.0236, 1.0236, 1.0236, 1.0236, 1.0236, 1.0236, 1.0236, 1.0236, 1.0236, 1.0236, 1.0236, 1.0236, 1.0236, 1.0236, 1.0236, 1.0236, 1.0236, 1.0236, 1.0236, 1.0236, 1.0236, 1.0236, 1.0236, 1.0236, 1.0236, 1.0236, 1.0236, 1.0236, 1.0236, 1.0236, 1.0236, 1.0236, 1.0236, 1.0236, 1.0236, 1.0236, 1.0236, 1.0236, 1.0236, 1.0236, 1.0236, 1.0236, 1.0236, 1.0236, 1.0236, 1.0236, 1.0236, 1.0236, 1.0236, 1.0236, 1.0236, 1.0236, 1.0236, 1.0236, 1.0236, 1.0236, 1.0236, 1.0236, 1.0236]}, \"token.table\": {\"Topic\": [1, 1, 1, 1, 1, 1, 1, 1, 1, 1, 1, 1, 1, 1, 1, 1, 1, 1, 1, 1, 1, 1, 1, 1, 1, 1, 1, 1, 1, 1, 1, 1, 1, 1, 1, 1, 1, 1, 1, 1, 1, 1, 1, 1, 1, 1, 1, 1, 1, 1, 1, 1, 1, 1, 1, 1, 1, 1, 1, 1], \"Freq\": [1.0024822776602913, 0.9884921137977316, 1.0185319059924913, 0.9985928628584798, 1.0168670954914516, 1.0110471520863462, 1.0066742962073216, 1.0110471520863462, 0.9931802473882388, 1.0034118943456014, 0.9959943752693808, 1.0110471520863462, 1.0110471520863462, 1.0110471520863462, 1.0150752022052472, 0.9991523677976742, 0.9933093917667893, 1.0008906031152014, 0.9973153702584918, 0.8862106061819641, 0.8862106061819641, 0.8862106061819641, 0.8862106061819641, 0.8862106061819641, 0.8862106061819641, 0.8862106061819641, 1.0185319059924913, 0.8862106061819641, 0.8862106061819641, 0.8862106061819641, 0.8862106061819641, 0.8862106061819641, 0.8862106061819641, 0.8862106061819641, 0.8862106061819641, 0.8862106061819641, 0.8862106061819641, 0.8862106061819641, 0.8862106061819641, 0.8862106061819641, 0.8862106061819641, 0.8862106061819641, 0.8862106061819641, 0.8862106061819641, 0.8862106061819641, 0.8862106061819641, 0.8862106061819641, 0.8862106061819641, 1.0083460793797152, 1.0131410974766768, 1.006999749217721, 0.9991523677976742, 0.9996362050710729, 0.9911197909886473, 1.0008906031152014, 0.9959943752693808, 1.0110471520863462, 1.0185319059924913, 0.8862106061819641, 0.8862106061819641], \"Term\": [\"account\", \"agreement\", \"amount\", \"balance\", \"billing\", \"billing cycle\", \"card\", \"cash\", \"charge\", \"credit\", \"credit union\", \"cycle\", \"daily\", \"daily balance\", \"date\", \"day\", \"fee\", \"finance\", \"finance charge\", \"indicate notice\", \"information describe\", \"information name\", \"information right\", \"information transaction\", \"insurance\", \"insurance premium\", \"interest\", \"interest impaired\", \"interest shall\", \"interpretation\", \"interpretation enforcement\", \"investigating\", \"investigating still\", \"involving pursuant\", \"involving shall\", \"item\", \"item sure\", \"joint obligors\", \"judicial\", \"judicial ruling\", \"keep\", \"keep notice\", \"later\", \"later day\", \"law future\", \"law judicial\", \"law misleading\", \"made purchase\", \"may\", \"pay\", \"payment\", \"purchase\", \"rate\", \"statement\", \"transaction\", \"union\", \"use\", \"visa\", \"year\", \"year date\"]}, \"R\": 30, \"lambda.step\": 0.01, \"plot.opts\": {\"xlab\": \"PC1\", \"ylab\": \"PC2\"}, \"topic.order\": [1, 3, 5, 4, 2]};\n",
       "\n",
       "function LDAvis_load_lib(url, callback){\n",
       "  var s = document.createElement('script');\n",
       "  s.src = url;\n",
       "  s.async = true;\n",
       "  s.onreadystatechange = s.onload = callback;\n",
       "  s.onerror = function(){console.warn(\"failed to load library \" + url);};\n",
       "  document.getElementsByTagName(\"head\")[0].appendChild(s);\n",
       "}\n",
       "\n",
       "if(typeof(LDAvis) !== \"undefined\"){\n",
       "   // already loaded: just create the visualization\n",
       "   !function(LDAvis){\n",
       "       new LDAvis(\"#\" + \"ldavis_el193301404793528355364689203962\", ldavis_el193301404793528355364689203962_data);\n",
       "   }(LDAvis);\n",
       "}else if(typeof define === \"function\" && define.amd){\n",
       "   // require.js is available: use it to load d3/LDAvis\n",
       "   require.config({paths: {d3: \"https://cdnjs.cloudflare.com/ajax/libs/d3/3.5.5/d3.min\"}});\n",
       "   require([\"d3\"], function(d3){\n",
       "      window.d3 = d3;\n",
       "      LDAvis_load_lib(\"https://cdn.rawgit.com/bmabey/pyLDAvis/files/ldavis.v1.0.0.js\", function(){\n",
       "        new LDAvis(\"#\" + \"ldavis_el193301404793528355364689203962\", ldavis_el193301404793528355364689203962_data);\n",
       "      });\n",
       "    });\n",
       "}else{\n",
       "    // require.js not available: dynamically load d3 & LDAvis\n",
       "    LDAvis_load_lib(\"https://cdnjs.cloudflare.com/ajax/libs/d3/3.5.5/d3.min.js\", function(){\n",
       "         LDAvis_load_lib(\"https://cdn.rawgit.com/bmabey/pyLDAvis/files/ldavis.v1.0.0.js\", function(){\n",
       "                 new LDAvis(\"#\" + \"ldavis_el193301404793528355364689203962\", ldavis_el193301404793528355364689203962_data);\n",
       "            })\n",
       "         });\n",
       "}\n",
       "</script>"
      ],
      "text/plain": [
       "<IPython.core.display.HTML object>"
      ]
     },
     "execution_count": 54,
     "metadata": {},
     "output_type": "execute_result"
    }
   ],
   "source": [
    "viz"
   ]
  },
  {
   "cell_type": "code",
   "execution_count": null,
   "metadata": {},
   "outputs": [],
   "source": []
  }
 ],
 "metadata": {
  "kernelspec": {
   "display_name": "Python 3",
   "language": "python",
   "name": "python3"
  },
  "language_info": {
   "codemirror_mode": {
    "name": "ipython",
    "version": 3
   },
   "file_extension": ".py",
   "mimetype": "text/x-python",
   "name": "python",
   "nbconvert_exporter": "python",
   "pygments_lexer": "ipython3",
   "version": "3.7.6"
  }
 },
 "nbformat": 4,
 "nbformat_minor": 4
}

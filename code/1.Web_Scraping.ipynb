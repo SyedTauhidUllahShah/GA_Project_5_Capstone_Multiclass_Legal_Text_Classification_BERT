{
 "cells": [
  {
   "cell_type": "markdown",
   "metadata": {},
   "source": [
    "by Graham Lim"
   ]
  },
  {
   "cell_type": "markdown",
   "metadata": {},
   "source": [
    "# 1. Webscraping"
   ]
  },
  {
   "cell_type": "markdown",
   "metadata": {},
   "source": [
    "In this notebook, we will be scraping contract clauses from LawInsider.com. There are 2 main requirements for this to work:\n",
    "\n",
    "**1) You must already have a LawInsider premium account**. As of July 2020, it costs USD1.00 to sign up for a premium 30-day trial. \n",
    "\n",
    "  **If you don't wish to spend money, that's cool - please skip to the 2nd notebook in this project.** The rest of the Capstone Project will still work with the saved .csv files that were derived from the scraping done here. \n",
    "\n",
    "2) You will need to run the following pip install commands in terminal or cmd line:\n",
    "\n",
    "* `pip install bs4` (for BeautifulSoup)\n",
    "* `pip install selenium` (for Selenium)\n",
    "* `pip install webdriver-manager` (for the automated Selenium web driver to work)"
   ]
  },
  {
   "cell_type": "code",
   "execution_count": 1,
   "metadata": {},
   "outputs": [],
   "source": [
    "#Standard Python DS imports:\n",
    "\n",
    "import pandas as pd\n",
    "import numpy as np\n",
    "import matplotlib.pyplot as plt\n",
    "import seaborn as sns"
   ]
  },
  {
   "cell_type": "code",
   "execution_count": 2,
   "metadata": {},
   "outputs": [],
   "source": [
    "#set column size to be larger\n",
    "pd.set_option(\"display.max_colwidth\", 1000)"
   ]
  },
  {
   "cell_type": "markdown",
   "metadata": {},
   "source": [
    "We have to use `Selenium` because of the fact that all the clauses don't load in full in this website. The content only loads up in full via infinite scrolling down/paging down. \n",
    "\n",
    "Hence, we will import `Selenium` and the related `WebDriver Manager` tool to run a Chrome instance within Selenium that will keep scrolling down for us, so that we don't manually have to do this for our 15+ types of clauses."
   ]
  },
  {
   "cell_type": "code",
   "execution_count": 3,
   "metadata": {},
   "outputs": [],
   "source": [
    "#Selenium and WebDriver Manager imports:\n",
    "\n",
    "from selenium import webdriver\n",
    "from webdriver_manager.chrome import ChromeDriverManager\n",
    "\n",
    "\n",
    "import time\n",
    "from selenium.webdriver.common.keys import Keys"
   ]
  },
  {
   "cell_type": "code",
   "execution_count": 4,
   "metadata": {},
   "outputs": [],
   "source": [
    "#let's assign the major URLS we want to scrape from LawInsider:\n",
    "\n",
    "#these are our 2 target clauses - automatic and optional/manual renewal clauses:\n",
    "auto_renewal_url = \"https://www.lawinsider.com/clause/automatic-renewal\"\n",
    "optional_renewal_url = \"https://www.lawinsider.com/clause/renewal-option\"\n",
    "\n",
    "#I then take the other most common clauses found in commercial agreements and list them:\n",
    "licenses_url = \"https://www.lawinsider.com/clause/licenses\"\n",
    "delivery_url = \"https://www.lawinsider.com/clause/delivery\"\n",
    "fees_royalties_url = \"https://www.lawinsider.com/clause/fees-and-royalties\"\n",
    "payment_url = \"https://www.lawinsider.com/clause/payment-terms\"\n",
    "support_url = \"https://www.lawinsider.com/clause/support\"\n",
    "marketing_url = \"https://www.lawinsider.com/clause/marketing-and-publicity\"\n",
    "proprietary_rights_url = \"https://www.lawinsider.com/clause/proprietary-rights\"\n",
    "warranty_url = \"https://www.lawinsider.com/clause/warranty\"\n",
    "indemnification_url = \"https://www.lawinsider.com/clause/indemnification\"\n",
    "confidentiality_url = \"https://www.lawinsider.com/clause/confidentiality\"\n",
    "limited_liability_url = \"https://www.lawinsider.com/clause/limitation-of-liability\"\n",
    "compliance_url = \"https://www.lawinsider.com/clause/compliance-with-law\""
   ]
  },
  {
   "cell_type": "markdown",
   "metadata": {},
   "source": [
    "## LawInsider.com Scraper Function"
   ]
  },
  {
   "cell_type": "markdown",
   "metadata": {},
   "source": [
    "We then write a function that will scrape the clauses contained in the LawInsider site url(s) after scrolling down that page x number of pagedowns to load it in full.\n",
    "\n",
    "It takes 3 arguments: the url/url list objects we previously assigned (`urls`), the number of pagedowns/scrolls downwards to execute (`pagedown_pushes`), and the delay between each page/scroll down (`pagedown_lag`), so that LawInsider doesn't get overwhelmed with too many requests."
   ]
  },
  {
   "cell_type": "code",
   "execution_count": 5,
   "metadata": {},
   "outputs": [],
   "source": [
    "#this function takes the url/url list, number of pagedown scrolling, \n",
    "#and how long the lag is between pagedowns/scrolling down\n",
    "#and produces a list of scraped contract clauses.\n",
    "\n",
    "def lawinsider_scraper(urls, pagedown_pushes, pagedown_lag):\n",
    "    driver = webdriver.Chrome(ChromeDriverManager().install())\n",
    "    browser = driver\n",
    "    browser.get(urls)\n",
    "    time.sleep(2)\n",
    "\n",
    "   \n",
    "    elem = browser.find_element_by_tag_name(\"body\")\n",
    "\n",
    "    no_of_pagedowns = pagedown_pushes\n",
    "\n",
    "    while no_of_pagedowns:\n",
    "        elem.send_keys(Keys.PAGE_DOWN)\n",
    "        time.sleep(pagedown_lag)\n",
    "        no_of_pagedowns-=1\n",
    "\n",
    "    post_elems = browser.find_elements_by_class_name(\"snippet-content\")\n",
    "\n",
    "    list_name = [post.text for post in post_elems]\n",
    "\n",
    "    return list_name"
   ]
  },
  {
   "cell_type": "code",
   "execution_count": 6,
   "metadata": {},
   "outputs": [],
   "source": [
    "#We then write a simple function to convert and label these lists as DataFrames in pandas, and tells us what the `shape` of the dataframe is:\n",
    "\n",
    "def clause_list_converter(list_name, df_name, clause):\n",
    "    df_name = pd.DataFrame(list_name)\n",
    "    df_name = df_name.rename(columns = {0:\"clause_text\"})\n",
    "    df_name[\"clause_type\"]=clause\n",
    "\n",
    "    print(df_name.shape)\n",
    "    \n",
    "    return df_name"
   ]
  },
  {
   "cell_type": "markdown",
   "metadata": {},
   "source": [
    "### Automatic Renewal Clauses\n",
    "We first run our function to create a list object containing as many `automatic renewal clauses` as the site will offer us. These clauses basically enable contracts to renew by default automatically, without the need for the contracting parties to have to renegotiate.\n",
    "\n",
    "For example, if you and Software X company have signed a software license agreement for 3 years, at the end of those 3 years, the automatic renewal clause will enliven, enabling the contract to be renewed by default without any further negotiations required."
   ]
  },
  {
   "cell_type": "code",
   "execution_count": 7,
   "metadata": {},
   "outputs": [
    {
     "name": "stderr",
     "output_type": "stream",
     "text": [
      "[WDM] - Current google-chrome version is 84.0.4147\n",
      "[WDM] - Get LATEST driver version for 84.0.4147\n"
     ]
    },
    {
     "name": "stdout",
     "output_type": "stream",
     "text": [
      " \n"
     ]
    },
    {
     "name": "stderr",
     "output_type": "stream",
     "text": [
      "[WDM] - Driver [/Users/grahamlim/.wdm/drivers/chromedriver/mac64/84.0.4147.30/chromedriver] found in cache\n"
     ]
    }
   ],
   "source": [
    "auto_renewal_list = lawinsider_scraper(auto_renewal_url, 200, 2)"
   ]
  },
  {
   "cell_type": "code",
   "execution_count": 8,
   "metadata": {},
   "outputs": [
    {
     "name": "stdout",
     "output_type": "stream",
     "text": [
      "(161, 2)\n"
     ]
    }
   ],
   "source": [
    "df_auto = clause_list_converter(auto_renewal_list, \"df_auto\", \"automatic_renewal\")"
   ]
  },
  {
   "cell_type": "markdown",
   "metadata": {},
   "source": [
    "### Renewal Option Clauses\n",
    "We also want to scrape clauses that have `renewal option clauses`. These clauses generally don't let contracts renew automatically, and some pre-requisites must arise before the contract can be renewed e.g. 30 days notice must be given of intention to renew the contract."
   ]
  },
  {
   "cell_type": "code",
   "execution_count": 9,
   "metadata": {},
   "outputs": [
    {
     "name": "stderr",
     "output_type": "stream",
     "text": [
      "[WDM] - Current google-chrome version is 84.0.4147\n",
      "[WDM] - Get LATEST driver version for 84.0.4147\n",
      "[WDM] - Driver [/Users/grahamlim/.wdm/drivers/chromedriver/mac64/84.0.4147.30/chromedriver] found in cache\n"
     ]
    },
    {
     "name": "stdout",
     "output_type": "stream",
     "text": [
      " \n"
     ]
    }
   ],
   "source": [
    "optional_renewal_list = lawinsider_scraper(optional_renewal_url, 400, 1)"
   ]
  },
  {
   "cell_type": "code",
   "execution_count": 10,
   "metadata": {},
   "outputs": [
    {
     "name": "stdout",
     "output_type": "stream",
     "text": [
      "(70, 2)\n"
     ]
    }
   ],
   "source": [
    "df_renewal_option = clause_list_converter(optional_renewal_list, \"df_renewal_options\", \"renewal_option\")"
   ]
  },
  {
   "cell_type": "markdown",
   "metadata": {},
   "source": [
    "### Other General Clauses\n",
    "We also want our model to distinguish renewal clauses as compared with other common general clauses in contracts e.g. `warranty clauses`, `indemnification clauses`, `limitation of liability clauses` etc.\n",
    "\n",
    "This means we should scrape other common clauses found in commercial contracts for services/products:"
   ]
  },
  {
   "cell_type": "code",
   "execution_count": 11,
   "metadata": {},
   "outputs": [
    {
     "name": "stderr",
     "output_type": "stream",
     "text": [
      "[WDM] - Current google-chrome version is 84.0.4147\n",
      "[WDM] - Get LATEST driver version for 84.0.4147\n"
     ]
    },
    {
     "name": "stdout",
     "output_type": "stream",
     "text": [
      " \n"
     ]
    },
    {
     "name": "stderr",
     "output_type": "stream",
     "text": [
      "[WDM] - Driver [/Users/grahamlim/.wdm/drivers/chromedriver/mac64/84.0.4147.30/chromedriver] found in cache\n"
     ]
    },
    {
     "name": "stdout",
     "output_type": "stream",
     "text": [
      "(630, 2)\n"
     ]
    }
   ],
   "source": [
    "licenses_list = lawinsider_scraper(licenses_url, 400, 1)\n",
    "df_licenses = clause_list_converter(licenses_list, \"df_licenses\", \"licenses\")"
   ]
  },
  {
   "cell_type": "code",
   "execution_count": 12,
   "metadata": {},
   "outputs": [
    {
     "name": "stderr",
     "output_type": "stream",
     "text": [
      "[WDM] - Current google-chrome version is 84.0.4147\n",
      "[WDM] - Get LATEST driver version for 84.0.4147\n",
      "[WDM] - Driver [/Users/grahamlim/.wdm/drivers/chromedriver/mac64/84.0.4147.30/chromedriver] found in cache\n"
     ]
    },
    {
     "name": "stdout",
     "output_type": "stream",
     "text": [
      " \n",
      "(1000, 2)\n"
     ]
    }
   ],
   "source": [
    "delivery_list = lawinsider_scraper(delivery_url, 400, 1)\n",
    "df_delivery = clause_list_converter(delivery_list, \"df_delivery\", \"delivery\")"
   ]
  },
  {
   "cell_type": "code",
   "execution_count": 13,
   "metadata": {},
   "outputs": [
    {
     "name": "stderr",
     "output_type": "stream",
     "text": [
      "[WDM] - Current google-chrome version is 84.0.4147\n",
      "[WDM] - Get LATEST driver version for 84.0.4147\n",
      "[WDM] - Driver [/Users/grahamlim/.wdm/drivers/chromedriver/mac64/84.0.4147.30/chromedriver] found in cache\n"
     ]
    },
    {
     "name": "stdout",
     "output_type": "stream",
     "text": [
      " \n",
      "(51, 2)\n"
     ]
    }
   ],
   "source": [
    "fees_royalties_list = lawinsider_scraper(fees_royalties_url, 400, 1)\n",
    "df_royalties = clause_list_converter(fees_royalties_list, \"df_royalties\", \"royalties\")"
   ]
  },
  {
   "cell_type": "code",
   "execution_count": 14,
   "metadata": {},
   "outputs": [
    {
     "name": "stderr",
     "output_type": "stream",
     "text": [
      "[WDM] - Current google-chrome version is 84.0.4147\n",
      "[WDM] - Get LATEST driver version for 84.0.4147\n"
     ]
    },
    {
     "name": "stdout",
     "output_type": "stream",
     "text": [
      " \n"
     ]
    },
    {
     "name": "stderr",
     "output_type": "stream",
     "text": [
      "[WDM] - Driver [/Users/grahamlim/.wdm/drivers/chromedriver/mac64/84.0.4147.30/chromedriver] found in cache\n"
     ]
    },
    {
     "name": "stdout",
     "output_type": "stream",
     "text": [
      "(1000, 2)\n"
     ]
    }
   ],
   "source": [
    "payment_list = lawinsider_scraper(payment_url, 400, 1)\n",
    "df_payment = clause_list_converter(payment_list, \"df_payments\", \"payment\")"
   ]
  },
  {
   "cell_type": "code",
   "execution_count": 15,
   "metadata": {},
   "outputs": [
    {
     "name": "stderr",
     "output_type": "stream",
     "text": [
      "[WDM] - Current google-chrome version is 84.0.4147\n",
      "[WDM] - Get LATEST driver version for 84.0.4147\n",
      "[WDM] - Driver [/Users/grahamlim/.wdm/drivers/chromedriver/mac64/84.0.4147.30/chromedriver] found in cache\n"
     ]
    },
    {
     "name": "stdout",
     "output_type": "stream",
     "text": [
      " \n",
      "(1000, 2)\n"
     ]
    }
   ],
   "source": [
    "support_list = lawinsider_scraper(support_url, 400, 1)\n",
    "df_support = clause_list_converter(support_list, \"df_support\", \"support\")"
   ]
  },
  {
   "cell_type": "code",
   "execution_count": 16,
   "metadata": {},
   "outputs": [
    {
     "name": "stderr",
     "output_type": "stream",
     "text": [
      "[WDM] - Current google-chrome version is 84.0.4147\n",
      "[WDM] - Get LATEST driver version for 84.0.4147\n",
      "[WDM] - Driver [/Users/grahamlim/.wdm/drivers/chromedriver/mac64/84.0.4147.30/chromedriver] found in cache\n"
     ]
    },
    {
     "name": "stdout",
     "output_type": "stream",
     "text": [
      " \n",
      "(12, 2)\n"
     ]
    }
   ],
   "source": [
    "marketing_list = lawinsider_scraper(marketing_url, 400, 1)\n",
    "df_marketing = clause_list_converter(marketing_list, \"df_marketing\", \"marketing\")"
   ]
  },
  {
   "cell_type": "code",
   "execution_count": 17,
   "metadata": {},
   "outputs": [
    {
     "name": "stderr",
     "output_type": "stream",
     "text": [
      "[WDM] - Current google-chrome version is 84.0.4147\n",
      "[WDM] - Get LATEST driver version for 84.0.4147\n",
      "[WDM] - Driver [/Users/grahamlim/.wdm/drivers/chromedriver/mac64/84.0.4147.30/chromedriver] found in cache\n"
     ]
    },
    {
     "name": "stdout",
     "output_type": "stream",
     "text": [
      " \n",
      "(930, 2)\n"
     ]
    }
   ],
   "source": [
    "proprietary_list = lawinsider_scraper(proprietary_rights_url, 400, 1)\n",
    "df_proprietary = clause_list_converter(proprietary_list, \"df_proprietary\", \"proprietary_rights\")"
   ]
  },
  {
   "cell_type": "code",
   "execution_count": 18,
   "metadata": {},
   "outputs": [
    {
     "name": "stderr",
     "output_type": "stream",
     "text": [
      "[WDM] - Current google-chrome version is 84.0.4147\n",
      "[WDM] - Get LATEST driver version for 84.0.4147\n"
     ]
    },
    {
     "name": "stdout",
     "output_type": "stream",
     "text": [
      " \n"
     ]
    },
    {
     "name": "stderr",
     "output_type": "stream",
     "text": [
      "[WDM] - Driver [/Users/grahamlim/.wdm/drivers/chromedriver/mac64/84.0.4147.30/chromedriver] found in cache\n"
     ]
    },
    {
     "name": "stdout",
     "output_type": "stream",
     "text": [
      "(1000, 2)\n"
     ]
    }
   ],
   "source": [
    "warranty_list = lawinsider_scraper(warranty_url, 400, 1)\n",
    "df_warranty = clause_list_converter(warranty_list, \"df_warranties\", \"warranty\")"
   ]
  },
  {
   "cell_type": "code",
   "execution_count": 19,
   "metadata": {},
   "outputs": [
    {
     "name": "stderr",
     "output_type": "stream",
     "text": [
      "[WDM] - Current google-chrome version is 84.0.4147\n",
      "[WDM] - Get LATEST driver version for 84.0.4147\n"
     ]
    },
    {
     "name": "stdout",
     "output_type": "stream",
     "text": [
      " \n"
     ]
    },
    {
     "name": "stderr",
     "output_type": "stream",
     "text": [
      "[WDM] - Driver [/Users/grahamlim/.wdm/drivers/chromedriver/mac64/84.0.4147.30/chromedriver] found in cache\n"
     ]
    },
    {
     "name": "stdout",
     "output_type": "stream",
     "text": [
      "(740, 2)\n"
     ]
    }
   ],
   "source": [
    "indemnification_list = lawinsider_scraper(indemnification_url, 400, 1)\n",
    "df_indemnity = clause_list_converter(indemnification_list, \"df_indemnity\", \"indemnity\")"
   ]
  },
  {
   "cell_type": "code",
   "execution_count": 20,
   "metadata": {},
   "outputs": [
    {
     "name": "stderr",
     "output_type": "stream",
     "text": [
      "[WDM] - Current google-chrome version is 84.0.4147\n",
      "[WDM] - Get LATEST driver version for 84.0.4147\n",
      "[WDM] - Driver [/Users/grahamlim/.wdm/drivers/chromedriver/mac64/84.0.4147.30/chromedriver] found in cache\n"
     ]
    },
    {
     "name": "stdout",
     "output_type": "stream",
     "text": [
      " \n",
      "(670, 2)\n"
     ]
    }
   ],
   "source": [
    "confidentiality_list = lawinsider_scraper(confidentiality_url, 400, 1)\n",
    "df_confidentiality = clause_list_converter(confidentiality_list, \"df_confidentiality\", \"confidentiality\")"
   ]
  },
  {
   "cell_type": "code",
   "execution_count": 21,
   "metadata": {},
   "outputs": [
    {
     "name": "stderr",
     "output_type": "stream",
     "text": [
      "[WDM] - Current google-chrome version is 84.0.4147\n",
      "[WDM] - Get LATEST driver version for 84.0.4147\n"
     ]
    },
    {
     "name": "stdout",
     "output_type": "stream",
     "text": [
      " \n"
     ]
    },
    {
     "name": "stderr",
     "output_type": "stream",
     "text": [
      "[WDM] - Driver [/Users/grahamlim/.wdm/drivers/chromedriver/mac64/84.0.4147.30/chromedriver] found in cache\n"
     ]
    },
    {
     "name": "stdout",
     "output_type": "stream",
     "text": [
      "(750, 2)\n"
     ]
    }
   ],
   "source": [
    "limited_liability_list = lawinsider_scraper(limited_liability_url, 400, 1)\n",
    "df_liability = clause_list_converter(limited_liability_list, \"df_liability\", \"limited_liability\")"
   ]
  },
  {
   "cell_type": "code",
   "execution_count": 22,
   "metadata": {},
   "outputs": [
    {
     "name": "stderr",
     "output_type": "stream",
     "text": [
      "[WDM] - Current google-chrome version is 84.0.4147\n",
      "[WDM] - Get LATEST driver version for 84.0.4147\n",
      "[WDM] - Driver [/Users/grahamlim/.wdm/drivers/chromedriver/mac64/84.0.4147.30/chromedriver] found in cache\n"
     ]
    },
    {
     "name": "stdout",
     "output_type": "stream",
     "text": [
      " \n",
      "(1000, 2)\n"
     ]
    }
   ],
   "source": [
    "compliance_list = lawinsider_scraper(compliance_url, 400, 1)\n",
    "df_compliance = clause_list_converter(compliance_list, \"df_compliance\", \"compliance\")"
   ]
  },
  {
   "cell_type": "markdown",
   "metadata": {},
   "source": [
    "## Evaluating Clauses for a Balanced Dataset\n",
    "It will be very difficult to account for an imbalanced dataset, and so I will intentionally pick out those dataframes that we scraped that have a larger sampling of clauses. We'll need to combine all our dataframes that have between `600-1,000` rows.\n",
    "\n",
    "We'll also pick 10 dataframes (i.e. 10 categories) so that we don't have too many labels."
   ]
  },
  {
   "cell_type": "code",
   "execution_count": 40,
   "metadata": {},
   "outputs": [],
   "source": [
    "dfs = [df_licenses, df_delivery, df_payment, df_support, \n",
    "       df_proprietary, df_warranty, df_indemnity,\n",
    "       df_confidentiality, df_liability, df_compliance]\n",
    "\n",
    "df = pd.concat(dfs, join='outer', axis=0)"
   ]
  },
  {
   "cell_type": "code",
   "execution_count": 42,
   "metadata": {},
   "outputs": [
    {
     "data": {
      "text/html": [
       "<div>\n",
       "<style scoped>\n",
       "    .dataframe tbody tr th:only-of-type {\n",
       "        vertical-align: middle;\n",
       "    }\n",
       "\n",
       "    .dataframe tbody tr th {\n",
       "        vertical-align: top;\n",
       "    }\n",
       "\n",
       "    .dataframe thead th {\n",
       "        text-align: right;\n",
       "    }\n",
       "</style>\n",
       "<table border=\"1\" class=\"dataframe\">\n",
       "  <thead>\n",
       "    <tr style=\"text-align: right;\">\n",
       "      <th></th>\n",
       "      <th>clause_text</th>\n",
       "      <th>clause_type</th>\n",
       "    </tr>\n",
       "  </thead>\n",
       "  <tbody>\n",
       "    <tr>\n",
       "      <th>0</th>\n",
       "      <td>Licenses. The Acquiror Company possesses from the appropriate Governmental Authority all licenses, permits, authorizations, approvals, franchises and rights that are necessary for the Acquiror Company to engage in its business as currently conducted and to permit the Acquiror Company to own and use its properties and assets in the manner in which it currently owns and uses such properties and assets (collectively, “Acquiror Company Permits”). The Acquiror Company has not received notice from any Governmental Authority or other Person that there is lacking any license, permit, authorization, approval, franchise or right necessary for the Acquiror Company to engage in its business as currently conducted and to permit the Acquiror Company to own and use its properties and assets in the manner in which it currently owns and uses such properties and assets. The Acquiror Company Permits are valid and in full force and effect. No event has occurred or circumstance exists that may (with or...</td>\n",
       "      <td>licenses</td>\n",
       "    </tr>\n",
       "    <tr>\n",
       "      <th>1</th>\n",
       "      <td>Licenses. The Depositor shall cause the Trust to use its best efforts to obtain and maintain the effectiveness of any licenses required in connection with this Agreement and the other Operative Agreements and the transactions contemplated hereby and thereby until such time as the Trust shall terminate in accordance with the terms hereof. It shall be the duty of the Owner Trustee to cooperate with the Depositor with respect to such matters.</td>\n",
       "      <td>licenses</td>\n",
       "    </tr>\n",
       "    <tr>\n",
       "      <th>2</th>\n",
       "      <td>Licenses. AUGI and its subsidiaries hold all licenses and permits as may be requisite for carrying on the AUGI Business in the manner in which it has heretofore been carried on, which licenses and permits have been maintained and continue to be in good standing except where the failure to obtain or maintain such licenses or permits would not have a material adverse effect on the AUGI Business;</td>\n",
       "      <td>licenses</td>\n",
       "    </tr>\n",
       "  </tbody>\n",
       "</table>\n",
       "</div>"
      ],
      "text/plain": [
       "                                                                                                                                                                                                                                                                                                                                                                                                                                                                                                                                                                                                                                                                                                                                                                                                                                                                                                                                                                                                                               clause_text  \\\n",
       "0  Licenses. The Acquiror Company possesses from the appropriate Governmental Authority all licenses, permits, authorizations, approvals, franchises and rights that are necessary for the Acquiror Company to engage in its business as currently conducted and to permit the Acquiror Company to own and use its properties and assets in the manner in which it currently owns and uses such properties and assets (collectively, “Acquiror Company Permits”). The Acquiror Company has not received notice from any Governmental Authority or other Person that there is lacking any license, permit, authorization, approval, franchise or right necessary for the Acquiror Company to engage in its business as currently conducted and to permit the Acquiror Company to own and use its properties and assets in the manner in which it currently owns and uses such properties and assets. The Acquiror Company Permits are valid and in full force and effect. No event has occurred or circumstance exists that may (with or...   \n",
       "1                                                                                                                                                                                                                                                                                                                                                                                                                                                                                                                                                                              Licenses. The Depositor shall cause the Trust to use its best efforts to obtain and maintain the effectiveness of any licenses required in connection with this Agreement and the other Operative Agreements and the transactions contemplated hereby and thereby until such time as the Trust shall terminate in accordance with the terms hereof. It shall be the duty of the Owner Trustee to cooperate with the Depositor with respect to such matters.   \n",
       "2                                                                                                                                                                                                                                                                                                                                                                                                                                                                                                                                                                                                                             Licenses. AUGI and its subsidiaries hold all licenses and permits as may be requisite for carrying on the AUGI Business in the manner in which it has heretofore been carried on, which licenses and permits have been maintained and continue to be in good standing except where the failure to obtain or maintain such licenses or permits would not have a material adverse effect on the AUGI Business;   \n",
       "\n",
       "  clause_type  \n",
       "0    licenses  \n",
       "1    licenses  \n",
       "2    licenses  "
      ]
     },
     "execution_count": 42,
     "metadata": {},
     "output_type": "execute_result"
    }
   ],
   "source": [
    "df.head(3)"
   ]
  },
  {
   "cell_type": "code",
   "execution_count": 43,
   "metadata": {},
   "outputs": [
    {
     "data": {
      "text/plain": [
       "(8720, 2)"
      ]
     },
     "execution_count": 43,
     "metadata": {},
     "output_type": "execute_result"
    }
   ],
   "source": [
    "#great, we have a reasonably large dataframe filled with clause text that needs to be backed up.\n",
    "\n",
    "df.shape"
   ]
  },
  {
   "cell_type": "code",
   "execution_count": 44,
   "metadata": {},
   "outputs": [],
   "source": [
    "df.to_csv(\"../data/df_raw.csv\")"
   ]
  },
  {
   "cell_type": "markdown",
   "metadata": {},
   "source": [
    "## DataFrames and .csv Backups"
   ]
  },
  {
   "cell_type": "code",
   "execution_count": 23,
   "metadata": {},
   "outputs": [],
   "source": [
    "# #Automatic Renewals Clause dataframe\n",
    "# df_auto = clause_list_converter(auto_renewal_list, \"df_auto\", \"automatic_renewal_clause\")"
   ]
  },
  {
   "cell_type": "code",
   "execution_count": 24,
   "metadata": {},
   "outputs": [],
   "source": [
    "# #Automatic Renewals dataframe has turned out ok.\n",
    "# df_auto.head(3)"
   ]
  },
  {
   "cell_type": "code",
   "execution_count": 25,
   "metadata": {},
   "outputs": [],
   "source": [
    "# #we backup our Automatic Renewals Clauses dataframe into a .csv file\n",
    "# df_auto.to_csv(\"../data/df_auto_renewals.csv\")"
   ]
  },
  {
   "cell_type": "code",
   "execution_count": 26,
   "metadata": {},
   "outputs": [],
   "source": [
    "# #we do the same for Renewal Option Clauses and Other Clauses:\n",
    "# df_option = clause_list_converter(optional_renewal_list, \"df_option\", \"renewal_option_clause\")"
   ]
  },
  {
   "cell_type": "code",
   "execution_count": 27,
   "metadata": {},
   "outputs": [],
   "source": [
    "# #the Renewal Option Clause dataframe looks good too:\n",
    "# df_option.head(3)"
   ]
  },
  {
   "cell_type": "code",
   "execution_count": 28,
   "metadata": {},
   "outputs": [],
   "source": [
    "# #backing that up too\n",
    "# df_option.to_csv(\"../data/df_optional_renewals.csv\")"
   ]
  },
  {
   "cell_type": "code",
   "execution_count": 29,
   "metadata": {},
   "outputs": [],
   "source": [
    "# #we do the same for Renewal Option Clauses and Other Clauses:\n",
    "# df_others = clause_list_converter(other_clauses_list, \"df_others\", \"other_clauses\")"
   ]
  },
  {
   "cell_type": "code",
   "execution_count": 30,
   "metadata": {},
   "outputs": [],
   "source": [
    "# #our other clauses look good too:\n",
    "\n",
    "# df_others"
   ]
  },
  {
   "cell_type": "code",
   "execution_count": 31,
   "metadata": {},
   "outputs": [],
   "source": [
    "# #backing that up too\n",
    "# df_others.to_csv(\"../data/df_others.csv\")"
   ]
  },
  {
   "cell_type": "code",
   "execution_count": 32,
   "metadata": {},
   "outputs": [],
   "source": [
    "# df_others = pd.read_csv(\"../data/df_others.csv\", index_col = 0)"
   ]
  },
  {
   "cell_type": "code",
   "execution_count": 33,
   "metadata": {},
   "outputs": [],
   "source": [
    "# df_others"
   ]
  },
  {
   "cell_type": "code",
   "execution_count": 34,
   "metadata": {},
   "outputs": [],
   "source": [
    "# #we now merge everything together - start by merging both renewal clause types\n",
    "# df_merged = pd.merge(df_auto, df_option, how = \"outer\")"
   ]
  },
  {
   "cell_type": "code",
   "execution_count": 35,
   "metadata": {},
   "outputs": [],
   "source": [
    "# #then we merge with all other clauses\n",
    "# df_merged = pd.merge(df_merged, df_others, how = \"outer\")"
   ]
  },
  {
   "cell_type": "code",
   "execution_count": 36,
   "metadata": {},
   "outputs": [],
   "source": [
    "# #this gives us a fairly large dataframe suitable for Machine Learning\n",
    "# df_merged.shape"
   ]
  },
  {
   "cell_type": "code",
   "execution_count": 37,
   "metadata": {},
   "outputs": [],
   "source": [
    "# #and the dataframe does look fine. we back it up too:\n",
    "\n",
    "# df_merged.to_csv(\"../data/df_merged.csv\")\n",
    "# df_merged "
   ]
  }
 ],
 "metadata": {
  "kernelspec": {
   "display_name": "Python 3",
   "language": "python",
   "name": "python3"
  },
  "language_info": {
   "codemirror_mode": {
    "name": "ipython",
    "version": 3
   },
   "file_extension": ".py",
   "mimetype": "text/x-python",
   "name": "python",
   "nbconvert_exporter": "python",
   "pygments_lexer": "ipython3",
   "version": "3.7.6"
  }
 },
 "nbformat": 4,
 "nbformat_minor": 4
}

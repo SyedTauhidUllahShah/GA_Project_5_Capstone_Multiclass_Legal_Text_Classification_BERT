{
 "cells": [
  {
   "cell_type": "markdown",
   "metadata": {},
   "source": [
    "by Graham Lim"
   ]
  },
  {
   "cell_type": "markdown",
   "metadata": {},
   "source": [
    "# 1. Webscraping and Cleaning"
   ]
  },
  {
   "cell_type": "markdown",
   "metadata": {},
   "source": [
    "In this notebook, we will be scraping contract clauses from LawInsider.com. There are 2 main requirements for this to work:\n",
    "\n",
    "**1) You must already have a LawInsider premium account**. As of July 2020, it costs USD1.00 to sign up for a premium 30-day trial. \n",
    "\n",
    "  **If you don't wish to spend money, that's cool - please skip to the 2nd notebook in this project.** The rest of the Capstone Project will still work with the saved .csv files that were derived from the scraping done here. \n",
    "\n",
    "2) You will need to run the following pip install commands in terminal or cmd line:\n",
    "\n",
    "* `pip install bs4` (for BeautifulSoup)\n",
    "* `pip install selenium` (for Selenium)\n",
    "* `pip install webdriver-manager` (for the automated Selenium web driver to work)"
   ]
  },
  {
   "cell_type": "code",
   "execution_count": 1,
   "metadata": {},
   "outputs": [],
   "source": [
    "#Standard Python DS imports:\n",
    "\n",
    "import pandas as pd\n",
    "import numpy as np\n",
    "import matplotlib.pyplot as plt\n",
    "import seaborn as sns"
   ]
  },
  {
   "cell_type": "code",
   "execution_count": 2,
   "metadata": {},
   "outputs": [],
   "source": [
    "#set column size to be larger\n",
    "pd.set_option(\"display.max_colwidth\", 1000)"
   ]
  },
  {
   "cell_type": "markdown",
   "metadata": {},
   "source": [
    "We have to use `Selenium` because of the fact that all the clauses don't load in full in this website. The content only loads up in full via infinite scrolling down/paging down. \n",
    "\n",
    "Hence, we will import `Selenium` and the related `WebDriver Manager` tool to run a Chrome instance within Selenium that will keep scrolling down for us, so that we don't manually have to do this for our 15+ types of clauses."
   ]
  },
  {
   "cell_type": "code",
   "execution_count": 3,
   "metadata": {},
   "outputs": [],
   "source": [
    "#Selenium and WebDriver Manager imports:\n",
    "\n",
    "from selenium import webdriver\n",
    "from webdriver_manager.chrome import ChromeDriverManager\n",
    "\n",
    "\n",
    "import time\n",
    "from selenium.webdriver.common.keys import Keys"
   ]
  },
  {
   "cell_type": "code",
   "execution_count": 4,
   "metadata": {},
   "outputs": [],
   "source": [
    "#let's assign the major URLS we want to scrape from LawInsider:\n",
    "\n",
    "#these are our 2 target clauses - automatic and optional/manual renewal clauses:\n",
    "auto_renewal_url = \"https://www.lawinsider.com/clause/automatic-renewal\"\n",
    "optional_renewal_url = \"https://www.lawinsider.com/clause/renewal-option\"\n",
    "\n",
    "#I then take the other most common clauses found in commercial agreements and list them:\n",
    "other_clauses_urls= [\"https://www.lawinsider.com/clause/definitions\",\n",
    "                     \"https://www.lawinsider.com/clause/licenses\",\n",
    "                     \"https://www.lawinsider.com/clause/delivery\",\n",
    "                     \"https://www.lawinsider.com/clause/fees-and-royalties\",\n",
    "                     \"https://www.lawinsider.com/clause/payment-terms\",\n",
    "                     \"https://www.lawinsider.com/clause/support\",\n",
    "                     \"https://www.lawinsider.com/clause/marketing-and-publicity\",\n",
    "                     \"https://www.lawinsider.com/clause/proprietary-rights\",\n",
    "                     \"https://www.lawinsider.com/clause/warranty\",\n",
    "                     \"https://www.lawinsider.com/clause/indemnification\",\n",
    "                     \"https://www.lawinsider.com/clause/confidentiality\",\n",
    "                     \"https://www.lawinsider.com/clause/limitation-of-liability\",\n",
    "                     \"https://www.lawinsider.com/clause/compliance-with-law\",\n",
    "                     \"https://www.lawinsider.com/clause/miscellaneous\"]"
   ]
  },
  {
   "cell_type": "code",
   "execution_count": 5,
   "metadata": {},
   "outputs": [
    {
     "data": {
      "text/plain": [
       "14"
      ]
     },
     "execution_count": 5,
     "metadata": {},
     "output_type": "execute_result"
    }
   ],
   "source": [
    "len(other_clauses_urls)"
   ]
  },
  {
   "cell_type": "code",
   "execution_count": 6,
   "metadata": {},
   "outputs": [
    {
     "data": {
      "text/plain": [
       "13"
      ]
     },
     "execution_count": 6,
     "metadata": {},
     "output_type": "execute_result"
    }
   ],
   "source": [
    "(len(other_clauses_urls)-1)"
   ]
  },
  {
   "cell_type": "markdown",
   "metadata": {},
   "source": [
    "## LawInsider.com Scraper Function"
   ]
  },
  {
   "cell_type": "markdown",
   "metadata": {},
   "source": [
    "We then write a function that will scrape the clauses contained in the LawInsider site url(s) after scrolling down that page x number of pagedowns to load it in full.\n",
    "\n",
    "It takes 3 arguments: the url/url list objects we previously assigned (`urls`), the number of pagedowns/scrolls downwards to execute (`pagedown_pushes`), and the delay between each page/scroll down (`pagedown_lag`), so that LawInsider doesn't get overwhelmed with too many requests."
   ]
  },
  {
   "cell_type": "code",
   "execution_count": 18,
   "metadata": {},
   "outputs": [],
   "source": [
    "#this function takes the url/url list, number of pagedown scrolling, \n",
    "#and long the lag is\n",
    "#\n",
    "\n",
    "def lawinsider_scraper(urls, pagedown_pushes, pagedown_lag):\n",
    "\n",
    "    \n",
    "    if (type(urls) == list):\n",
    "        \n",
    "        data=[]\n",
    "        \n",
    "        for i in range(0,(len(urls)-1)):\n",
    " \n",
    "            url = urls[i]\n",
    "            driver = webdriver.Chrome(ChromeDriverManager().install())\n",
    "            browser = driver\n",
    "            browser.get(url) \n",
    "            time.sleep(2)\n",
    "            \n",
    "            elem = browser.find_element_by_tag_name(\"body\")\n",
    "\n",
    "            no_of_pagedowns = pagedown_pushes\n",
    "\n",
    "            while no_of_pagedowns:\n",
    "                elem.send_keys(Keys.PAGE_DOWN)\n",
    "                time.sleep(pagedown_lag)\n",
    "                no_of_pagedowns-=1\n",
    "\n",
    "            post_elems = browser.find_elements_by_class_name(\"snippet-content\")\n",
    "\n",
    "            list_name = [post.text for post in post_elems]\n",
    "\n",
    "            for clause in list_name:\n",
    "                data.append(clause)\n",
    "                \n",
    "        return data\n",
    "\n",
    "    elif (type(urls) == str):\n",
    "        driver = webdriver.Chrome(ChromeDriverManager().install())\n",
    "        browser = driver\n",
    "        browser.get(urls)\n",
    "        time.sleep(2)\n",
    "\n",
    "   \n",
    "        elem = browser.find_element_by_tag_name(\"body\")\n",
    "\n",
    "        no_of_pagedowns = pagedown_pushes\n",
    "\n",
    "        while no_of_pagedowns:\n",
    "            elem.send_keys(Keys.PAGE_DOWN)\n",
    "            time.sleep(pagedown_lag)\n",
    "            no_of_pagedowns-=1\n",
    "\n",
    "        post_elems = browser.find_elements_by_class_name(\"snippet-content\")\n",
    "\n",
    "        list_name = [post.text for post in post_elems]\n",
    "\n",
    "        return list_name"
   ]
  },
  {
   "cell_type": "markdown",
   "metadata": {},
   "source": [
    "### Automatic Renewal Clauses\n",
    "We first run our function to create a list object containing as many `automatic renewal clauses` as the site will offer us."
   ]
  },
  {
   "cell_type": "code",
   "execution_count": 8,
   "metadata": {},
   "outputs": [
    {
     "name": "stderr",
     "output_type": "stream",
     "text": [
      "[WDM] - Current google-chrome version is 84.0.4147\n",
      "[WDM] - Get LATEST driver version for 84.0.4147\n",
      "[WDM] - Driver [/Users/grahamlim/.wdm/drivers/chromedriver/mac64/84.0.4147.30/chromedriver] found in cache\n"
     ]
    },
    {
     "name": "stdout",
     "output_type": "stream",
     "text": [
      " \n"
     ]
    }
   ],
   "source": [
    "auto_renewal_list = lawinsider_scraper(auto_renewal_url, 200, 2)"
   ]
  },
  {
   "cell_type": "code",
   "execution_count": 9,
   "metadata": {},
   "outputs": [
    {
     "data": {
      "text/plain": [
       "160"
      ]
     },
     "execution_count": 9,
     "metadata": {},
     "output_type": "execute_result"
    }
   ],
   "source": [
    "len(auto_renewal_list)"
   ]
  },
  {
   "cell_type": "markdown",
   "metadata": {},
   "source": [
    "### Renewal Option Clauses\n",
    "We also want to scrape clauses that have `renewal option clauses`. These clauses generally don't let contracts renew automatically, and some pre-requisites must arise before the contract can be renewed e.g. 30 days notice must be given of intention to renew the contract."
   ]
  },
  {
   "cell_type": "code",
   "execution_count": 15,
   "metadata": {},
   "outputs": [
    {
     "name": "stderr",
     "output_type": "stream",
     "text": [
      "[WDM] - Current google-chrome version is 84.0.4147\n",
      "[WDM] - Get LATEST driver version for 84.0.4147\n",
      "[WDM] - Driver [/Users/grahamlim/.wdm/drivers/chromedriver/mac64/84.0.4147.30/chromedriver] found in cache\n"
     ]
    },
    {
     "name": "stdout",
     "output_type": "stream",
     "text": [
      " \n"
     ]
    }
   ],
   "source": [
    "optional_renewal_list = lawinsider_scraper(optional_renewal_url, 400, 1)"
   ]
  },
  {
   "cell_type": "code",
   "execution_count": 16,
   "metadata": {},
   "outputs": [
    {
     "data": {
      "text/plain": [
       "583"
      ]
     },
     "execution_count": 16,
     "metadata": {},
     "output_type": "execute_result"
    }
   ],
   "source": [
    "len(optional_renewal_list)"
   ]
  },
  {
   "cell_type": "markdown",
   "metadata": {},
   "source": [
    "### Other General Clauses\n",
    "We also want our model to distinguish renewal clauses as compared with other common general clauses in contracts e.g. warranty clauses, indemnification clauses, limitation of liability clauses etc.\n",
    "\n",
    "This means we should scrape other common clauses found in commercial contracts for services/products:"
   ]
  },
  {
   "cell_type": "code",
   "execution_count": 19,
   "metadata": {},
   "outputs": [
    {
     "name": "stderr",
     "output_type": "stream",
     "text": [
      "[WDM] - Current google-chrome version is 84.0.4147\n",
      "[WDM] - Get LATEST driver version for 84.0.4147\n",
      "[WDM] - Driver [/Users/grahamlim/.wdm/drivers/chromedriver/mac64/84.0.4147.30/chromedriver] found in cache\n"
     ]
    },
    {
     "name": "stdout",
     "output_type": "stream",
     "text": [
      " \n"
     ]
    },
    {
     "name": "stderr",
     "output_type": "stream",
     "text": [
      "[WDM] - Current google-chrome version is 84.0.4147\n",
      "[WDM] - Get LATEST driver version for 84.0.4147\n",
      "[WDM] - Driver [/Users/grahamlim/.wdm/drivers/chromedriver/mac64/84.0.4147.30/chromedriver] found in cache\n"
     ]
    },
    {
     "name": "stdout",
     "output_type": "stream",
     "text": [
      " \n"
     ]
    },
    {
     "name": "stderr",
     "output_type": "stream",
     "text": [
      "[WDM] - Current google-chrome version is 84.0.4147\n",
      "[WDM] - Get LATEST driver version for 84.0.4147\n",
      "[WDM] - Driver [/Users/grahamlim/.wdm/drivers/chromedriver/mac64/84.0.4147.30/chromedriver] found in cache\n"
     ]
    },
    {
     "name": "stdout",
     "output_type": "stream",
     "text": [
      " \n"
     ]
    },
    {
     "name": "stderr",
     "output_type": "stream",
     "text": [
      "[WDM] - Current google-chrome version is 84.0.4147\n",
      "[WDM] - Get LATEST driver version for 84.0.4147\n"
     ]
    },
    {
     "name": "stdout",
     "output_type": "stream",
     "text": [
      " \n"
     ]
    },
    {
     "name": "stderr",
     "output_type": "stream",
     "text": [
      "[WDM] - Driver [/Users/grahamlim/.wdm/drivers/chromedriver/mac64/84.0.4147.30/chromedriver] found in cache\n",
      "[WDM] - Current google-chrome version is 84.0.4147\n",
      "[WDM] - Get LATEST driver version for 84.0.4147\n",
      "[WDM] - Driver [/Users/grahamlim/.wdm/drivers/chromedriver/mac64/84.0.4147.30/chromedriver] found in cache\n"
     ]
    },
    {
     "name": "stdout",
     "output_type": "stream",
     "text": [
      " \n"
     ]
    },
    {
     "name": "stderr",
     "output_type": "stream",
     "text": [
      "[WDM] - Current google-chrome version is 84.0.4147\n",
      "[WDM] - Get LATEST driver version for 84.0.4147\n",
      "[WDM] - Driver [/Users/grahamlim/.wdm/drivers/chromedriver/mac64/84.0.4147.30/chromedriver] found in cache\n"
     ]
    },
    {
     "name": "stdout",
     "output_type": "stream",
     "text": [
      " \n"
     ]
    },
    {
     "name": "stderr",
     "output_type": "stream",
     "text": [
      "[WDM] - Current google-chrome version is 84.0.4147\n",
      "[WDM] - Get LATEST driver version for 84.0.4147\n",
      "[WDM] - Driver [/Users/grahamlim/.wdm/drivers/chromedriver/mac64/84.0.4147.30/chromedriver] found in cache\n"
     ]
    },
    {
     "name": "stdout",
     "output_type": "stream",
     "text": [
      " \n"
     ]
    },
    {
     "name": "stderr",
     "output_type": "stream",
     "text": [
      "[WDM] - Current google-chrome version is 84.0.4147\n",
      "[WDM] - Get LATEST driver version for 84.0.4147\n",
      "[WDM] - Driver [/Users/grahamlim/.wdm/drivers/chromedriver/mac64/84.0.4147.30/chromedriver] found in cache\n"
     ]
    },
    {
     "name": "stdout",
     "output_type": "stream",
     "text": [
      " \n"
     ]
    },
    {
     "name": "stderr",
     "output_type": "stream",
     "text": [
      "[WDM] - Current google-chrome version is 84.0.4147\n",
      "[WDM] - Get LATEST driver version for 84.0.4147\n"
     ]
    },
    {
     "name": "stdout",
     "output_type": "stream",
     "text": [
      " \n"
     ]
    },
    {
     "name": "stderr",
     "output_type": "stream",
     "text": [
      "[WDM] - Driver [/Users/grahamlim/.wdm/drivers/chromedriver/mac64/84.0.4147.30/chromedriver] found in cache\n",
      "[WDM] - Current google-chrome version is 84.0.4147\n",
      "[WDM] - Get LATEST driver version for 84.0.4147\n"
     ]
    },
    {
     "name": "stdout",
     "output_type": "stream",
     "text": [
      " \n"
     ]
    },
    {
     "name": "stderr",
     "output_type": "stream",
     "text": [
      "[WDM] - Driver [/Users/grahamlim/.wdm/drivers/chromedriver/mac64/84.0.4147.30/chromedriver] found in cache\n",
      "[WDM] - Current google-chrome version is 84.0.4147\n",
      "[WDM] - Get LATEST driver version for 84.0.4147\n",
      "[WDM] - Driver [/Users/grahamlim/.wdm/drivers/chromedriver/mac64/84.0.4147.30/chromedriver] found in cache\n"
     ]
    },
    {
     "name": "stdout",
     "output_type": "stream",
     "text": [
      " \n"
     ]
    },
    {
     "name": "stderr",
     "output_type": "stream",
     "text": [
      "[WDM] - Current google-chrome version is 84.0.4147\n",
      "[WDM] - Get LATEST driver version for 84.0.4147\n",
      "[WDM] - Driver [/Users/grahamlim/.wdm/drivers/chromedriver/mac64/84.0.4147.30/chromedriver] found in cache\n"
     ]
    },
    {
     "name": "stdout",
     "output_type": "stream",
     "text": [
      " \n"
     ]
    },
    {
     "name": "stderr",
     "output_type": "stream",
     "text": [
      "[WDM] - Current google-chrome version is 84.0.4147\n",
      "[WDM] - Get LATEST driver version for 84.0.4147\n",
      "[WDM] - Driver [/Users/grahamlim/.wdm/drivers/chromedriver/mac64/84.0.4147.30/chromedriver] found in cache\n"
     ]
    },
    {
     "name": "stdout",
     "output_type": "stream",
     "text": [
      " \n"
     ]
    }
   ],
   "source": [
    "other_clauses_list = lawinsider_scraper(other_clauses_urls, 400, 1)"
   ]
  },
  {
   "cell_type": "code",
   "execution_count": 21,
   "metadata": {},
   "outputs": [
    {
     "data": {
      "text/plain": [
       "9143"
      ]
     },
     "execution_count": 21,
     "metadata": {},
     "output_type": "execute_result"
    }
   ],
   "source": [
    "len(other_clauses_list)"
   ]
  },
  {
   "cell_type": "markdown",
   "metadata": {},
   "source": [
    "## DataFrames and .csv Backups"
   ]
  },
  {
   "cell_type": "markdown",
   "metadata": {},
   "source": [
    "We then write a simple function to convert and label these lists as DataFrames in pandas, and tells us what the `shape` of the dataframe is:"
   ]
  },
  {
   "cell_type": "code",
   "execution_count": 31,
   "metadata": {},
   "outputs": [],
   "source": [
    "def clause_list_converter(list_name, df_name, clause):\n",
    "    df_name = pd.DataFrame(list_name)\n",
    "    df_name = df_name.rename(columns = {0:\"clause_text\"})\n",
    "    df_name[\"clause_type\"]=clause\n",
    "\n",
    "    print(df_name.shape)\n",
    "    \n",
    "    return df_name"
   ]
  },
  {
   "cell_type": "code",
   "execution_count": 32,
   "metadata": {},
   "outputs": [
    {
     "name": "stdout",
     "output_type": "stream",
     "text": [
      "(160, 2)\n"
     ]
    }
   ],
   "source": [
    "#Automatic Renewals Clause dataframe\n",
    "df_auto = clause_list_converter(auto_renewal_list, \"df_auto\", \"automatic_renewal_clause\")"
   ]
  },
  {
   "cell_type": "code",
   "execution_count": 35,
   "metadata": {},
   "outputs": [
    {
     "data": {
      "text/html": [
       "<div>\n",
       "<style scoped>\n",
       "    .dataframe tbody tr th:only-of-type {\n",
       "        vertical-align: middle;\n",
       "    }\n",
       "\n",
       "    .dataframe tbody tr th {\n",
       "        vertical-align: top;\n",
       "    }\n",
       "\n",
       "    .dataframe thead th {\n",
       "        text-align: right;\n",
       "    }\n",
       "</style>\n",
       "<table border=\"1\" class=\"dataframe\">\n",
       "  <thead>\n",
       "    <tr style=\"text-align: right;\">\n",
       "      <th></th>\n",
       "      <th>clause_text</th>\n",
       "      <th>clause_type</th>\n",
       "    </tr>\n",
       "  </thead>\n",
       "  <tbody>\n",
       "    <tr>\n",
       "      <th>0</th>\n",
       "      <td>Automatic Renewal. Upon the expiration of the original term or any renewal term of employment, Employee’s employment shall be automatically renewed for a one (1) year period unless, at least sixty (60) days prior to the renewal date, either party gives the other party written notice of its intent not to continue the employment relationship. During any renewal term of employment, the terms, conditions and provisions set forth in this Agreement shall remain in effect unless modified in accordance with Section 8.</td>\n",
       "      <td>automatic_renewal_clause</td>\n",
       "    </tr>\n",
       "    <tr>\n",
       "      <th>1</th>\n",
       "      <td>Automatic Renewal. This Agreement shall be automatically extended for one additional year, unless on or before November 30, 2007 (for the initial term), or thirteen (13) months before the expiration of any extended term, either Party provides to the other written notice of its desire not to automatically renew this Agreement.</td>\n",
       "      <td>automatic_renewal_clause</td>\n",
       "    </tr>\n",
       "    <tr>\n",
       "      <th>2</th>\n",
       "      <td>Automatic Renewal. This Agreement shall renew automatically, with respect to each series set forth in Schedule A, on the same terms, for a period of one year from the expiration of the waiver and/or expense commitment applicable to such series as set forth in Schedule A, unless prior to such an expiration, CMA and/or CMD provide notice to the appropriate Board of Trustees of a Company of any proposals to increase, decrease or eliminate the series’ fee waivers and/or expense commitment, or to change the time period covered or any other terms thereof, for a subsequent period. Any renewal of this Agreement with respect to a series does not preclude CMA or CMD from requesting that a Company’s Board of Trustees approve changes to the fee waivers and/or expense commitment, or to the time period covered or any other terms thereof, prior to a subsequent renewal.</td>\n",
       "      <td>automatic_renewal_clause</td>\n",
       "    </tr>\n",
       "  </tbody>\n",
       "</table>\n",
       "</div>"
      ],
      "text/plain": [
       "                                                                                                                                                                                                                                                                                                                                                                                                                                                                                                                                                                                                                                                                                                                                                                                                                                                                                          clause_text  \\\n",
       "0                                                                                                                                                                                                                                                                                                                                                                 Automatic Renewal. Upon the expiration of the original term or any renewal term of employment, Employee’s employment shall be automatically renewed for a one (1) year period unless, at least sixty (60) days prior to the renewal date, either party gives the other party written notice of its intent not to continue the employment relationship. During any renewal term of employment, the terms, conditions and provisions set forth in this Agreement shall remain in effect unless modified in accordance with Section 8.   \n",
       "1                                                                                                                                                                                                                                                                                                                                                                                                                                                                                                                                                             Automatic Renewal. This Agreement shall be automatically extended for one additional year, unless on or before November 30, 2007 (for the initial term), or thirteen (13) months before the expiration of any extended term, either Party provides to the other written notice of its desire not to automatically renew this Agreement.   \n",
       "2  Automatic Renewal. This Agreement shall renew automatically, with respect to each series set forth in Schedule A, on the same terms, for a period of one year from the expiration of the waiver and/or expense commitment applicable to such series as set forth in Schedule A, unless prior to such an expiration, CMA and/or CMD provide notice to the appropriate Board of Trustees of a Company of any proposals to increase, decrease or eliminate the series’ fee waivers and/or expense commitment, or to change the time period covered or any other terms thereof, for a subsequent period. Any renewal of this Agreement with respect to a series does not preclude CMA or CMD from requesting that a Company’s Board of Trustees approve changes to the fee waivers and/or expense commitment, or to the time period covered or any other terms thereof, prior to a subsequent renewal.   \n",
       "\n",
       "                clause_type  \n",
       "0  automatic_renewal_clause  \n",
       "1  automatic_renewal_clause  \n",
       "2  automatic_renewal_clause  "
      ]
     },
     "execution_count": 35,
     "metadata": {},
     "output_type": "execute_result"
    }
   ],
   "source": [
    "#Automatic Renewals dataframe has turned out ok.\n",
    "df_auto.head(3)"
   ]
  },
  {
   "cell_type": "code",
   "execution_count": 36,
   "metadata": {},
   "outputs": [],
   "source": [
    "#we backup our Automatic Renewals Clauses dataframe into a .csv file\n",
    "df_auto.to_csv(\"../data/df_auto_renewals.csv\")"
   ]
  },
  {
   "cell_type": "code",
   "execution_count": 37,
   "metadata": {},
   "outputs": [
    {
     "name": "stdout",
     "output_type": "stream",
     "text": [
      "(583, 2)\n"
     ]
    }
   ],
   "source": [
    "#we do the same for Renewal Option Clauses and Other Clauses:\n",
    "df_option = clause_list_converter(optional_renewal_list, \"df_option\", \"renewal_option_clause\")"
   ]
  },
  {
   "cell_type": "code",
   "execution_count": 39,
   "metadata": {},
   "outputs": [
    {
     "data": {
      "text/html": [
       "<div>\n",
       "<style scoped>\n",
       "    .dataframe tbody tr th:only-of-type {\n",
       "        vertical-align: middle;\n",
       "    }\n",
       "\n",
       "    .dataframe tbody tr th {\n",
       "        vertical-align: top;\n",
       "    }\n",
       "\n",
       "    .dataframe thead th {\n",
       "        text-align: right;\n",
       "    }\n",
       "</style>\n",
       "<table border=\"1\" class=\"dataframe\">\n",
       "  <thead>\n",
       "    <tr style=\"text-align: right;\">\n",
       "      <th></th>\n",
       "      <th>clause_text</th>\n",
       "      <th>clause_type</th>\n",
       "    </tr>\n",
       "  </thead>\n",
       "  <tbody>\n",
       "    <tr>\n",
       "      <th>0</th>\n",
       "      <td>Renewal Option. Lessor hereby grants Lessee (but no assignee or subtenant) two (2) options to renew this Lease, each option to be for a period of sixty(60) months, for a total of one hundred twenty (120) months in the event both renewal options are exercised. Each said renewal option shall be exercised by Lessee notifying Lessor thereof in writing not more than two hundred seventy (270) and at least two hundred ten (210) days prior to the expiration of the then current lease or renewal term, as the case may be. In the event a renewal agreement has not been executed at least one hundred twenty (120) days prior to the expiration date of the current lease or renewal term, the option shall automatically become null and void. Each such renewal shall be subject to all of the terms and conditions of this Lease except that (i) the rentals payable during each renewal term shall be as set forth below and (ii) no further renewal option shall exist during the second renewal term. It shall be a...</td>\n",
       "      <td>renewal_option_clause</td>\n",
       "    </tr>\n",
       "    <tr>\n",
       "      <th>1</th>\n",
       "      <td>Renewal Option. This Contract may be renewed under the same terms and conditions, subject to the approval of the Commissioner of the Department of Administration and the State Budget Director in compliance with IC §5-22-17-4. The term of the renewed contract may not be longer than the term of the original contract.</td>\n",
       "      <td>renewal_option_clause</td>\n",
       "    </tr>\n",
       "    <tr>\n",
       "      <th>2</th>\n",
       "      <td>Renewal Option. Landlord hereby grants to Tenant, and Tenant shall have, the right and option to extend the Term of this Lease for one (1) period of five (5) years (the “Renewal Term”). The Renewal Term shall commence upon the day next following the last day of the initial Term. Tenant shall notify Landlord in writing of its election to extend this Lease for the Renewal Term not less than six (6) months prior to the expiration of the initial Term, time being of the essence with respect to such notification. Notice thereof shall be deemed sufficient if given in the manner hereinafter provided. If Landlord does not receive such written notice as and when required herein, the Renewal Term shall terminate and be of no further force or effect, and this Lease shall expire as of the then-scheduled expiration date. The Renewal Term shall be upon all of the terms, covenants and conditions of this Lease, except that the Fixed Rent shall be increased by adding the CPI Adjustment Amount (defin...</td>\n",
       "      <td>renewal_option_clause</td>\n",
       "    </tr>\n",
       "  </tbody>\n",
       "</table>\n",
       "</div>"
      ],
      "text/plain": [
       "                                                                                                                                                                                                                                                                                                                                                                                                                                                                                                                                                                                                                                                                                                                                                                                                                                                                                                                                                                                                                               clause_text  \\\n",
       "0  Renewal Option. Lessor hereby grants Lessee (but no assignee or subtenant) two (2) options to renew this Lease, each option to be for a period of sixty(60) months, for a total of one hundred twenty (120) months in the event both renewal options are exercised. Each said renewal option shall be exercised by Lessee notifying Lessor thereof in writing not more than two hundred seventy (270) and at least two hundred ten (210) days prior to the expiration of the then current lease or renewal term, as the case may be. In the event a renewal agreement has not been executed at least one hundred twenty (120) days prior to the expiration date of the current lease or renewal term, the option shall automatically become null and void. Each such renewal shall be subject to all of the terms and conditions of this Lease except that (i) the rentals payable during each renewal term shall be as set forth below and (ii) no further renewal option shall exist during the second renewal term. It shall be a...   \n",
       "1                                                                                                                                                                                                                                                                                                                                                                                                                                                                                                                                                                                                                                                                                                             Renewal Option. This Contract may be renewed under the same terms and conditions, subject to the approval of the Commissioner of the Department of Administration and the State Budget Director in compliance with IC §5-22-17-4. The term of the renewed contract may not be longer than the term of the original contract.   \n",
       "2  Renewal Option. Landlord hereby grants to Tenant, and Tenant shall have, the right and option to extend the Term of this Lease for one (1) period of five (5) years (the “Renewal Term”). The Renewal Term shall commence upon the day next following the last day of the initial Term. Tenant shall notify Landlord in writing of its election to extend this Lease for the Renewal Term not less than six (6) months prior to the expiration of the initial Term, time being of the essence with respect to such notification. Notice thereof shall be deemed sufficient if given in the manner hereinafter provided. If Landlord does not receive such written notice as and when required herein, the Renewal Term shall terminate and be of no further force or effect, and this Lease shall expire as of the then-scheduled expiration date. The Renewal Term shall be upon all of the terms, covenants and conditions of this Lease, except that the Fixed Rent shall be increased by adding the CPI Adjustment Amount (defin...   \n",
       "\n",
       "             clause_type  \n",
       "0  renewal_option_clause  \n",
       "1  renewal_option_clause  \n",
       "2  renewal_option_clause  "
      ]
     },
     "execution_count": 39,
     "metadata": {},
     "output_type": "execute_result"
    }
   ],
   "source": [
    "#the Renewal Option Clause dataframe looks good too:\n",
    "df_option.head(3)"
   ]
  },
  {
   "cell_type": "code",
   "execution_count": 40,
   "metadata": {},
   "outputs": [],
   "source": [
    "#backing that up too\n",
    "df_option.to_csv(\"../data/df_optional_renewals.csv\")"
   ]
  },
  {
   "cell_type": "code",
   "execution_count": 41,
   "metadata": {},
   "outputs": [
    {
     "name": "stdout",
     "output_type": "stream",
     "text": [
      "(9143, 2)\n"
     ]
    }
   ],
   "source": [
    "#we do the same for Renewal Option Clauses and Other Clauses:\n",
    "df_others = clause_list_converter(other_clauses_list, \"df_others\", \"other_clauses\")"
   ]
  },
  {
   "cell_type": "code",
   "execution_count": 44,
   "metadata": {},
   "outputs": [
    {
     "data": {
      "text/html": [
       "<div>\n",
       "<style scoped>\n",
       "    .dataframe tbody tr th:only-of-type {\n",
       "        vertical-align: middle;\n",
       "    }\n",
       "\n",
       "    .dataframe tbody tr th {\n",
       "        vertical-align: top;\n",
       "    }\n",
       "\n",
       "    .dataframe thead th {\n",
       "        text-align: right;\n",
       "    }\n",
       "</style>\n",
       "<table border=\"1\" class=\"dataframe\">\n",
       "  <thead>\n",
       "    <tr style=\"text-align: right;\">\n",
       "      <th></th>\n",
       "      <th>clause_text</th>\n",
       "      <th>clause_type</th>\n",
       "    </tr>\n",
       "  </thead>\n",
       "  <tbody>\n",
       "    <tr>\n",
       "      <th>0</th>\n",
       "      <td>Definitions. As used in this Agreement, the following terms shall have the following meanings:</td>\n",
       "      <td>other_clauses</td>\n",
       "    </tr>\n",
       "    <tr>\n",
       "      <th>1</th>\n",
       "      <td>Definitions. For purposes of this Agreement:</td>\n",
       "      <td>other_clauses</td>\n",
       "    </tr>\n",
       "    <tr>\n",
       "      <th>2</th>\n",
       "      <td>Definitions. For purposes of this Agreement, the following terms shall have the following meanings:</td>\n",
       "      <td>other_clauses</td>\n",
       "    </tr>\n",
       "    <tr>\n",
       "      <th>3</th>\n",
       "      <td>Definitions. As used in this Agreement:</td>\n",
       "      <td>other_clauses</td>\n",
       "    </tr>\n",
       "    <tr>\n",
       "      <th>4</th>\n",
       "      <td>Definitions. For all purposes of this Indenture, except as otherwise expressly provided or unless the context otherwise requires:</td>\n",
       "      <td>other_clauses</td>\n",
       "    </tr>\n",
       "    <tr>\n",
       "      <th>...</th>\n",
       "      <td>...</td>\n",
       "      <td>...</td>\n",
       "    </tr>\n",
       "    <tr>\n",
       "      <th>9138</th>\n",
       "      <td>Compliance with Law. In the performance of such services as described herein, the Insurer shall comply with applicable laws, rules and regulations.</td>\n",
       "      <td>other_clauses</td>\n",
       "    </tr>\n",
       "    <tr>\n",
       "      <th>9139</th>\n",
       "      <td>Compliance with Law. It shall comply with all applicable laws relating to its performance under this Agreement.</td>\n",
       "      <td>other_clauses</td>\n",
       "    </tr>\n",
       "    <tr>\n",
       "      <th>9140</th>\n",
       "      <td>Compliance with Law. JCR agrees to comply with all applicable laws, rules and regulations with respect to Product for use in the Field in the Territory.</td>\n",
       "      <td>other_clauses</td>\n",
       "    </tr>\n",
       "    <tr>\n",
       "      <th>9141</th>\n",
       "      <td>Compliance with Law. Landlord and Tenant shall each do all acts necessary to comply with all applicable laws, statutes, ordinances, and rules of any public authority relating to their respective maintenance obligations as set forth herein. The provisions of Section 9.2. are deemed restated here.</td>\n",
       "      <td>other_clauses</td>\n",
       "    </tr>\n",
       "    <tr>\n",
       "      <th>9142</th>\n",
       "      <td>Compliance with Law. Licensee acknowledges that this Agreement does not constitute, and Licensor has not promised or offered, any type of waiver of, or agreement to waive (or show any type of forbearance, priority or favoritism to Licensee with regard to) any law, ordinance, power, regulation, tax, assessment or other legal requirement now or hereafter imposed by the city of Scottsdale or any other governmental body upon or affecting Licensee’s use of the Street Parcel. For example, Licensee shall comply with all zoning, building and right-of-way codes, ordinances and policies.</td>\n",
       "      <td>other_clauses</td>\n",
       "    </tr>\n",
       "  </tbody>\n",
       "</table>\n",
       "<p>9143 rows × 2 columns</p>\n",
       "</div>"
      ],
      "text/plain": [
       "                                                                                                                                                                                                                                                                                                                                                                                                                                                                                                                                                                                                   clause_text  \\\n",
       "0                                                                                                                                                                                                                                                                                                                                                                                                                                                                                                               Definitions. As used in this Agreement, the following terms shall have the following meanings:   \n",
       "1                                                                                                                                                                                                                                                                                                                                                                                                                                                                                                                                                                 Definitions. For purposes of this Agreement:   \n",
       "2                                                                                                                                                                                                                                                                                                                                                                                                                                                                                                          Definitions. For purposes of this Agreement, the following terms shall have the following meanings:   \n",
       "3                                                                                                                                                                                                                                                                                                                                                                                                                                                                                                                                                                      Definitions. As used in this Agreement:   \n",
       "4                                                                                                                                                                                                                                                                                                                                                                                                                                                                            Definitions. For all purposes of this Indenture, except as otherwise expressly provided or unless the context otherwise requires:   \n",
       "...                                                                                                                                                                                                                                                                                                                                                                                                                                                                                                                                                                                                        ...   \n",
       "9138                                                                                                                                                                                                                                                                                                                                                                                                                                                       Compliance with Law. In the performance of such services as described herein, the Insurer shall comply with applicable laws, rules and regulations.   \n",
       "9139                                                                                                                                                                                                                                                                                                                                                                                                                                                                                           Compliance with Law. It shall comply with all applicable laws relating to its performance under this Agreement.   \n",
       "9140                                                                                                                                                                                                                                                                                                                                                                                                                                                  Compliance with Law. JCR agrees to comply with all applicable laws, rules and regulations with respect to Product for use in the Field in the Territory.   \n",
       "9141                                                                                                                                                                                                                                                                                                  Compliance with Law. Landlord and Tenant shall each do all acts necessary to comply with all applicable laws, statutes, ordinances, and rules of any public authority relating to their respective maintenance obligations as set forth herein. The provisions of Section 9.2. are deemed restated here.   \n",
       "9142  Compliance with Law. Licensee acknowledges that this Agreement does not constitute, and Licensor has not promised or offered, any type of waiver of, or agreement to waive (or show any type of forbearance, priority or favoritism to Licensee with regard to) any law, ordinance, power, regulation, tax, assessment or other legal requirement now or hereafter imposed by the city of Scottsdale or any other governmental body upon or affecting Licensee’s use of the Street Parcel. For example, Licensee shall comply with all zoning, building and right-of-way codes, ordinances and policies.   \n",
       "\n",
       "        clause_type  \n",
       "0     other_clauses  \n",
       "1     other_clauses  \n",
       "2     other_clauses  \n",
       "3     other_clauses  \n",
       "4     other_clauses  \n",
       "...             ...  \n",
       "9138  other_clauses  \n",
       "9139  other_clauses  \n",
       "9140  other_clauses  \n",
       "9141  other_clauses  \n",
       "9142  other_clauses  \n",
       "\n",
       "[9143 rows x 2 columns]"
      ]
     },
     "execution_count": 44,
     "metadata": {},
     "output_type": "execute_result"
    }
   ],
   "source": [
    "#our other clauses look good too:\n",
    "\n",
    "df_others"
   ]
  },
  {
   "cell_type": "code",
   "execution_count": 45,
   "metadata": {},
   "outputs": [],
   "source": [
    "#backing that up too\n",
    "df_others.to_csv(\"../data/df_others.csv\")"
   ]
  },
  {
   "cell_type": "code",
   "execution_count": 47,
   "metadata": {},
   "outputs": [],
   "source": [
    "#we now merge everything together - start by merging both renewal clause types\n",
    "df_merged = pd.merge(df_auto, df_option, how = \"outer\")"
   ]
  },
  {
   "cell_type": "code",
   "execution_count": 49,
   "metadata": {},
   "outputs": [],
   "source": [
    "#then we merge with all other clauses\n",
    "df_merged = pd.merge(df_merged, df_others, how = \"outer\")"
   ]
  },
  {
   "cell_type": "code",
   "execution_count": 51,
   "metadata": {},
   "outputs": [
    {
     "data": {
      "text/plain": [
       "(9886, 2)"
      ]
     },
     "execution_count": 51,
     "metadata": {},
     "output_type": "execute_result"
    }
   ],
   "source": [
    "#this gives us a fairly large dataframe suitable for Machine Learning\n",
    "df_merged.shape"
   ]
  },
  {
   "cell_type": "code",
   "execution_count": 54,
   "metadata": {},
   "outputs": [
    {
     "data": {
      "text/html": [
       "<div>\n",
       "<style scoped>\n",
       "    .dataframe tbody tr th:only-of-type {\n",
       "        vertical-align: middle;\n",
       "    }\n",
       "\n",
       "    .dataframe tbody tr th {\n",
       "        vertical-align: top;\n",
       "    }\n",
       "\n",
       "    .dataframe thead th {\n",
       "        text-align: right;\n",
       "    }\n",
       "</style>\n",
       "<table border=\"1\" class=\"dataframe\">\n",
       "  <thead>\n",
       "    <tr style=\"text-align: right;\">\n",
       "      <th></th>\n",
       "      <th>clause_text</th>\n",
       "      <th>clause_type</th>\n",
       "    </tr>\n",
       "  </thead>\n",
       "  <tbody>\n",
       "    <tr>\n",
       "      <th>0</th>\n",
       "      <td>Automatic Renewal. Upon the expiration of the original term or any renewal term of employment, Employee’s employment shall be automatically renewed for a one (1) year period unless, at least sixty (60) days prior to the renewal date, either party gives the other party written notice of its intent not to continue the employment relationship. During any renewal term of employment, the terms, conditions and provisions set forth in this Agreement shall remain in effect unless modified in accordance with Section 8.</td>\n",
       "      <td>automatic_renewal_clause</td>\n",
       "    </tr>\n",
       "    <tr>\n",
       "      <th>1</th>\n",
       "      <td>Automatic Renewal. This Agreement shall be automatically extended for one additional year, unless on or before November 30, 2007 (for the initial term), or thirteen (13) months before the expiration of any extended term, either Party provides to the other written notice of its desire not to automatically renew this Agreement.</td>\n",
       "      <td>automatic_renewal_clause</td>\n",
       "    </tr>\n",
       "    <tr>\n",
       "      <th>2</th>\n",
       "      <td>Automatic Renewal. This Agreement shall renew automatically, with respect to each series set forth in Schedule A, on the same terms, for a period of one year from the expiration of the waiver and/or expense commitment applicable to such series as set forth in Schedule A, unless prior to such an expiration, CMA and/or CMD provide notice to the appropriate Board of Trustees of a Company of any proposals to increase, decrease or eliminate the series’ fee waivers and/or expense commitment, or to change the time period covered or any other terms thereof, for a subsequent period. Any renewal of this Agreement with respect to a series does not preclude CMA or CMD from requesting that a Company’s Board of Trustees approve changes to the fee waivers and/or expense commitment, or to the time period covered or any other terms thereof, prior to a subsequent renewal.</td>\n",
       "      <td>automatic_renewal_clause</td>\n",
       "    </tr>\n",
       "    <tr>\n",
       "      <th>3</th>\n",
       "      <td>Automatic Renewal. If a Holder of such Security has not delivered a Repayment Election for repayment of the Security on or prior to the 15th day following the Maturity Date, and the Company did not notify the Holder of its intention to repay the Security in the Notice of Maturity, then such maturing Security shall be extended automatically for an additional term equal to the original term, and shall be deemed to be renewed by the Holder and the Company as of the Maturity Date of such maturing Security. A maturing Security will continue to renew as described herein absent a Redemption Notice or Repurchase Request by the Holder or an indication by the Company that it will repay and not allow the Security to be renewed in the Notice of Maturity. Interest on the renewed Security shall accrue from the Issue Date thereof, which is the first day of such renewed term (i.e., the Maturity Date of the maturing Security). Such renewed Security will be deemed to have the identical terms and pro...</td>\n",
       "      <td>automatic_renewal_clause</td>\n",
       "    </tr>\n",
       "    <tr>\n",
       "      <th>4</th>\n",
       "      <td>Automatic Renewal. This Agreement shall be renewed automatically for succeeding terms of three (3) years each unless either party gives written notice to the other at least ninety (90) days prior to the expiration of any term of Executive’s or Company’s intention not to renew pursuant to Company’s bylaws.</td>\n",
       "      <td>automatic_renewal_clause</td>\n",
       "    </tr>\n",
       "    <tr>\n",
       "      <th>...</th>\n",
       "      <td>...</td>\n",
       "      <td>...</td>\n",
       "    </tr>\n",
       "    <tr>\n",
       "      <th>9881</th>\n",
       "      <td>Compliance with Law. In the performance of such services as described herein, the Insurer shall comply with applicable laws, rules and regulations.</td>\n",
       "      <td>other_clauses</td>\n",
       "    </tr>\n",
       "    <tr>\n",
       "      <th>9882</th>\n",
       "      <td>Compliance with Law. It shall comply with all applicable laws relating to its performance under this Agreement.</td>\n",
       "      <td>other_clauses</td>\n",
       "    </tr>\n",
       "    <tr>\n",
       "      <th>9883</th>\n",
       "      <td>Compliance with Law. JCR agrees to comply with all applicable laws, rules and regulations with respect to Product for use in the Field in the Territory.</td>\n",
       "      <td>other_clauses</td>\n",
       "    </tr>\n",
       "    <tr>\n",
       "      <th>9884</th>\n",
       "      <td>Compliance with Law. Landlord and Tenant shall each do all acts necessary to comply with all applicable laws, statutes, ordinances, and rules of any public authority relating to their respective maintenance obligations as set forth herein. The provisions of Section 9.2. are deemed restated here.</td>\n",
       "      <td>other_clauses</td>\n",
       "    </tr>\n",
       "    <tr>\n",
       "      <th>9885</th>\n",
       "      <td>Compliance with Law. Licensee acknowledges that this Agreement does not constitute, and Licensor has not promised or offered, any type of waiver of, or agreement to waive (or show any type of forbearance, priority or favoritism to Licensee with regard to) any law, ordinance, power, regulation, tax, assessment or other legal requirement now or hereafter imposed by the city of Scottsdale or any other governmental body upon or affecting Licensee’s use of the Street Parcel. For example, Licensee shall comply with all zoning, building and right-of-way codes, ordinances and policies.</td>\n",
       "      <td>other_clauses</td>\n",
       "    </tr>\n",
       "  </tbody>\n",
       "</table>\n",
       "<p>9886 rows × 2 columns</p>\n",
       "</div>"
      ],
      "text/plain": [
       "                                                                                                                                                                                                                                                                                                                                                                                                                                                                                                                                                                                                                                                                                                                                                                                                                                                                                                                                                                                                                                  clause_text  \\\n",
       "0                                                                                                                                                                                                                                                                                                                                                                                                                                                                                                         Automatic Renewal. Upon the expiration of the original term or any renewal term of employment, Employee’s employment shall be automatically renewed for a one (1) year period unless, at least sixty (60) days prior to the renewal date, either party gives the other party written notice of its intent not to continue the employment relationship. During any renewal term of employment, the terms, conditions and provisions set forth in this Agreement shall remain in effect unless modified in accordance with Section 8.   \n",
       "1                                                                                                                                                                                                                                                                                                                                                                                                                                                                                                                                                                                                                                                                                                     Automatic Renewal. This Agreement shall be automatically extended for one additional year, unless on or before November 30, 2007 (for the initial term), or thirteen (13) months before the expiration of any extended term, either Party provides to the other written notice of its desire not to automatically renew this Agreement.   \n",
       "2                                                                                                                                          Automatic Renewal. This Agreement shall renew automatically, with respect to each series set forth in Schedule A, on the same terms, for a period of one year from the expiration of the waiver and/or expense commitment applicable to such series as set forth in Schedule A, unless prior to such an expiration, CMA and/or CMD provide notice to the appropriate Board of Trustees of a Company of any proposals to increase, decrease or eliminate the series’ fee waivers and/or expense commitment, or to change the time period covered or any other terms thereof, for a subsequent period. Any renewal of this Agreement with respect to a series does not preclude CMA or CMD from requesting that a Company’s Board of Trustees approve changes to the fee waivers and/or expense commitment, or to the time period covered or any other terms thereof, prior to a subsequent renewal.   \n",
       "3     Automatic Renewal. If a Holder of such Security has not delivered a Repayment Election for repayment of the Security on or prior to the 15th day following the Maturity Date, and the Company did not notify the Holder of its intention to repay the Security in the Notice of Maturity, then such maturing Security shall be extended automatically for an additional term equal to the original term, and shall be deemed to be renewed by the Holder and the Company as of the Maturity Date of such maturing Security. A maturing Security will continue to renew as described herein absent a Redemption Notice or Repurchase Request by the Holder or an indication by the Company that it will repay and not allow the Security to be renewed in the Notice of Maturity. Interest on the renewed Security shall accrue from the Issue Date thereof, which is the first day of such renewed term (i.e., the Maturity Date of the maturing Security). Such renewed Security will be deemed to have the identical terms and pro...   \n",
       "4                                                                                                                                                                                                                                                                                                                                                                                                                                                                                                                                                                                                                                                                                                                          Automatic Renewal. This Agreement shall be renewed automatically for succeeding terms of three (3) years each unless either party gives written notice to the other at least ninety (90) days prior to the expiration of any term of Executive’s or Company’s intention not to renew pursuant to Company’s bylaws.   \n",
       "...                                                                                                                                                                                                                                                                                                                                                                                                                                                                                                                                                                                                                                                                                                                                                                                                                                                                                                                                                                                                                                       ...   \n",
       "9881                                                                                                                                                                                                                                                                                                                                                                                                                                                                                                                                                                                                                                                                                                                                                                                                                                                                                      Compliance with Law. In the performance of such services as described herein, the Insurer shall comply with applicable laws, rules and regulations.   \n",
       "9882                                                                                                                                                                                                                                                                                                                                                                                                                                                                                                                                                                                                                                                                                                                                                                                                                                                                                                                          Compliance with Law. It shall comply with all applicable laws relating to its performance under this Agreement.   \n",
       "9883                                                                                                                                                                                                                                                                                                                                                                                                                                                                                                                                                                                                                                                                                                                                                                                                                                                                                 Compliance with Law. JCR agrees to comply with all applicable laws, rules and regulations with respect to Product for use in the Field in the Territory.   \n",
       "9884                                                                                                                                                                                                                                                                                                                                                                                                                                                                                                                                                                                                                                                                                                                                 Compliance with Law. Landlord and Tenant shall each do all acts necessary to comply with all applicable laws, statutes, ordinances, and rules of any public authority relating to their respective maintenance obligations as set forth herein. The provisions of Section 9.2. are deemed restated here.   \n",
       "9885                                                                                                                                                                                                                                                                                                                                                                                                                                 Compliance with Law. Licensee acknowledges that this Agreement does not constitute, and Licensor has not promised or offered, any type of waiver of, or agreement to waive (or show any type of forbearance, priority or favoritism to Licensee with regard to) any law, ordinance, power, regulation, tax, assessment or other legal requirement now or hereafter imposed by the city of Scottsdale or any other governmental body upon or affecting Licensee’s use of the Street Parcel. For example, Licensee shall comply with all zoning, building and right-of-way codes, ordinances and policies.   \n",
       "\n",
       "                   clause_type  \n",
       "0     automatic_renewal_clause  \n",
       "1     automatic_renewal_clause  \n",
       "2     automatic_renewal_clause  \n",
       "3     automatic_renewal_clause  \n",
       "4     automatic_renewal_clause  \n",
       "...                        ...  \n",
       "9881             other_clauses  \n",
       "9882             other_clauses  \n",
       "9883             other_clauses  \n",
       "9884             other_clauses  \n",
       "9885             other_clauses  \n",
       "\n",
       "[9886 rows x 2 columns]"
      ]
     },
     "execution_count": 54,
     "metadata": {},
     "output_type": "execute_result"
    }
   ],
   "source": [
    "#and the dataframe does look fine. we back it up too:\n",
    "\n",
    "df_merged.to_csv(\"../data/df_merged.csv\")\n",
    "df_merged "
   ]
  },
  {
   "cell_type": "code",
   "execution_count": null,
   "metadata": {},
   "outputs": [],
   "source": []
  }
 ],
 "metadata": {
  "kernelspec": {
   "display_name": "Python 3",
   "language": "python",
   "name": "python3"
  },
  "language_info": {
   "codemirror_mode": {
    "name": "ipython",
    "version": 3
   },
   "file_extension": ".py",
   "mimetype": "text/x-python",
   "name": "python",
   "nbconvert_exporter": "python",
   "pygments_lexer": "ipython3",
   "version": "3.7.6"
  }
 },
 "nbformat": 4,
 "nbformat_minor": 4
}

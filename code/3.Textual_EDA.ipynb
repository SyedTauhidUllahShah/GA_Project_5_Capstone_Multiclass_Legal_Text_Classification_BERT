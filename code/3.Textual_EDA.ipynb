{
 "cells": [
  {
   "cell_type": "markdown",
   "metadata": {},
   "source": [
    "# 3. Textual EDA and Visualizations"
   ]
  },
  {
   "cell_type": "markdown",
   "metadata": {},
   "source": [
    "We now turn to more NLP-specific EDA and Visualizations to help us understand our data better."
   ]
  },
  {
   "cell_type": "markdown",
   "metadata": {},
   "source": [
    "**Please also type in the following command line/terminal installations**:\n",
    "\n",
    "**For Interactive Visualizations for Jupyter Notebooks:**\n",
    "* `pip install \"notebook>=5.3\" \"ipywidgets>=7.2\"`\n",
    "\n",
    "**For Interactive Visualizations for Jupyter Labs:**\n",
    "* Install node @ https://nodejs.org/en/, then in command line/terminal:\n",
    "* `pip install jupyterlab \"ipywidgets>=7.5\"`\n",
    "* `jupyter labextension install jupyterlab-plotly@4.8.2`\n",
    "\n",
    "Source: https://plotly.com/python/getting-started/?utm_source=mailchimp-jan-2015&utm_medium=email&utm_campaign=generalemail-jan2015&utm_term=bubble-chart\n",
    "\n",
    "**For Blackstone:** \n",
    "\n",
    "**NB** Blackstone is a legal NLP library that uses an *outdated version* of `spaCy`. \n",
    "\n",
    "**Blackstone is only compatible with older versions of spaCy 2.1.8.** \n",
    "\n",
    "As such, the developers recommend that you run anything with its library in a virtual environment. If you intend to run this notebook natively, do so at your own risk:\n",
    "* `pip install blackstone`\n",
    "* `pip install https://blackstone-model.s3-eu-west-1.amazonaws.com/en_blackstone_proto-0.0.1.tar.gz`\n",
    "* `python -m spacy download en_core_web_sm`\n",
    "\n",
    "Source: https://github.com/ICLRandD/Blackstone#installation\n",
    "\n",
    "**For Topic Modelling:**\n",
    "* `pip install pyLDAvis`"
   ]
  },
  {
   "cell_type": "code",
   "execution_count": 40,
   "metadata": {},
   "outputs": [],
   "source": [
    "#Standard Python DS imports:\n",
    "\n",
    "import pandas as pd\n",
    "import numpy as np\n",
    "import matplotlib\n",
    "import matplotlib.pyplot as plt\n",
    "import seaborn as sns\n",
    "\n",
    "%matplotlib inline\n",
    "\n",
    "#set column size to be larger\n",
    "pd.set_option(\"display.max_colwidth\", 1000)"
   ]
  },
  {
   "cell_type": "code",
   "execution_count": 41,
   "metadata": {},
   "outputs": [
    {
     "name": "stdout",
     "output_type": "stream",
     "text": [
      "4.8.1\n"
     ]
    },
    {
     "data": {
      "text/html": [
       "        <script type=\"text/javascript\">\n",
       "        window.PlotlyConfig = {MathJaxConfig: 'local'};\n",
       "        if (window.MathJax) {MathJax.Hub.Config({SVG: {font: \"STIX-Web\"}});}\n",
       "        if (typeof require !== 'undefined') {\n",
       "        require.undef(\"plotly\");\n",
       "        requirejs.config({\n",
       "            paths: {\n",
       "                'plotly': ['https://cdn.plot.ly/plotly-latest.min']\n",
       "            }\n",
       "        });\n",
       "        require(['plotly'], function(Plotly) {\n",
       "            window._Plotly = Plotly;\n",
       "        });\n",
       "        }\n",
       "        </script>\n",
       "        "
      ]
     },
     "metadata": {},
     "output_type": "display_data"
    },
    {
     "data": {
      "text/html": [
       "        <script type=\"text/javascript\">\n",
       "        window.PlotlyConfig = {MathJaxConfig: 'local'};\n",
       "        if (window.MathJax) {MathJax.Hub.Config({SVG: {font: \"STIX-Web\"}});}\n",
       "        if (typeof require !== 'undefined') {\n",
       "        require.undef(\"plotly\");\n",
       "        requirejs.config({\n",
       "            paths: {\n",
       "                'plotly': ['https://cdn.plot.ly/plotly-latest.min']\n",
       "            }\n",
       "        });\n",
       "        require(['plotly'], function(Plotly) {\n",
       "            window._Plotly = Plotly;\n",
       "        });\n",
       "        }\n",
       "        </script>\n",
       "        "
      ]
     },
     "metadata": {},
     "output_type": "display_data"
    }
   ],
   "source": [
    "#We will then be importing these libraries: \n",
    "\n",
    "from plotly import __version__\n",
    "import plotly.offline\n",
    "from plotly.offline import download_plotlyjs, init_notebook_mode, plot, iplot\n",
    "import plotly.express as px\n",
    "import squarify\n",
    "\n",
    "print(__version__)\n",
    "#learnt this from \n",
    "#https://towardsdatascience.com/interactive-distribution-plots-with-plotly-ea58efc78885\n",
    "\n",
    "import cufflinks as cf\n",
    "#we have to make sure this code is run for Jupyter Notebooks otherwise the plots may not happen:\n",
    "\n",
    "init_notebook_mode(connected=True)\n",
    "\n",
    "#we have to make sure this code is run otherwise the visualizations won't run offline:\n",
    "cf.go_offline()"
   ]
  },
  {
   "cell_type": "code",
   "execution_count": 42,
   "metadata": {},
   "outputs": [],
   "source": [
    "#import the TFIDF vectorizer, and the Latent Dirichlet Allocation model and visualization libraries\n",
    "\n",
    "from sklearn.feature_extraction.text import CountVectorizer, TfidfVectorizer\n",
    "from sklearn.decomposition import LatentDirichletAllocation\n",
    "\n",
    "import pyLDAvis\n",
    "import pyLDAvis.sklearn\n",
    "from IPython.core.display import HTML\n",
    "\n",
    "import scipy.sparse as sp"
   ]
  },
  {
   "cell_type": "code",
   "execution_count": 43,
   "metadata": {},
   "outputs": [],
   "source": [
    "#pre-process text for EDA and later modelling too using spacy and string libraries\n",
    "\n",
    "import spacy\n",
    "from spacy.lang.en import English # updated\n",
    "\n",
    "import re\n",
    "import string\n",
    "from spacy.lang.en.stop_words import STOP_WORDS\n",
    "from spacy.lang.en import English\n",
    "from spacy import displacy\n",
    "import spacy.cli\n",
    "from spacy.pipeline import EntityRuler\n",
    "from spacy.matcher import Matcher\n",
    "from spacy.tokens import Doc\n",
    "from spacy import displacy\n",
    "\n",
    "from blackstone.displacy_palette import ner_displacy_options\n",
    "from blackstone.rules.concept_rules import CONCEPT_PATTERNS\n",
    "\n",
    "from collections import Counter"
   ]
  },
  {
   "cell_type": "code",
   "execution_count": 44,
   "metadata": {},
   "outputs": [],
   "source": [
    "#importing our dataframe and resetting the index\n",
    "\n",
    "df = pd.read_csv(\"../data/df_clean_draft_1.csv\", index_col=0)\n",
    "df= df.reset_index(drop=True)"
   ]
  },
  {
   "cell_type": "markdown",
   "metadata": {},
   "source": [
    "## EDA: Understanding Clause Structures with displaCy Visualizations: Blackstone Legal NLP + spaCy NER"
   ]
  },
  {
   "cell_type": "markdown",
   "metadata": {},
   "source": [
    "It'll be helpful for us to understand how contract clauses are generally structured. To do this, we'll use `Blackstone`, which is a custom spaCy library that focuses on legal text. It's actually designed for usage on court judgements in common law jurisdictions, but the legalese-focus of Blackstone has the advantage of helping us dissect our contractual clauses more easily.\n",
    "\n",
    "Blackstone has its own legal `Named Entity Recognition(NER)` tagging system, that highlights distinct \"entities\" or substantive elements that are worth drawing attention to the contract reader (Source: https://research.iclr.co.uk/blackstone). \n",
    "\n",
    "However, we really only want 1 custom class of Blackstone entities called `CONCEPTS`, which specifically refers to legal concepts. \n",
    "\n",
    "We will define a class and add this along into our pipeline of the **vanilla spaCy** Named Entity Recognition tagger, which itself runs on a pre-trained Convolutional Neural Network model. We will render the tagging visually in spacY's own custom visualization tool, known as `displaCy` (Source: https://spacy.io/usage/training)."
   ]
  },
  {
   "cell_type": "code",
   "execution_count": 47,
   "metadata": {},
   "outputs": [],
   "source": [
    "#let's instantiate spaCy's English pre-trained model now:\n",
    "nlp = spacy.load('en_core_web_sm')"
   ]
  },
  {
   "cell_type": "code",
   "execution_count": 7,
   "metadata": {
    "scrolled": true
   },
   "outputs": [
    {
     "data": {
      "text/plain": [
       "\"Mercury represents and warrants that it has the full right and power to grant the license and release set forth in Sections 1 and 4, respectively, and that there are no outstanding agreements, assignments, or encumbrances inconsistent therewith. Mercury makes no other representations or warranties, express or implied, nor shall Mercury have any liability in respect of any infringement of patents or other rights of third parties due to Licensee's operation under the license herein granted. Mercury neither warrants nor represents that Licensee will not require a license under other patents (owned by Mercury or by third parties) to make, use, import, or lease, sell or otherwise transfer Licensed Products. Licensee represents and warrants that it has the full right and power to grant to Mercury the right so specified in Section 6.\""
      ]
     },
     "execution_count": 7,
     "metadata": {},
     "output_type": "execute_result"
    }
   ],
   "source": [
    "#we take a sample clause from our dataframe - the clause that we will tag:\n",
    "\n",
    "sample_clause = df[\"clause_text\"][6000]\n",
    "\n",
    "sample_clause"
   ]
  },
  {
   "cell_type": "markdown",
   "metadata": {},
   "source": [
    "**Note how difficult and generally unreadable the clause is. This is why we use the displaCy tagger to help us break down what's going on.**"
   ]
  },
  {
   "cell_type": "code",
   "execution_count": 8,
   "metadata": {},
   "outputs": [],
   "source": [
    "#we create a class for the sake of adding it onto our spaCy NER tagging pipeline:\n",
    "class Concepts:\n",
    "    \"\"\"\n",
    "    Taken straight from the Blackstone library:\n",
    "\n",
    "    A custom pipeline component for identifying legal \"concepts\"\n",
    "    in the doc. \n",
    "\n",
    "    This process is rules-based as opposed to statistical. \n",
    "\n",
    "    The doc is processed as usual, the EntityRuler is applied to the\n",
    "    end of the pipeline, the patterns to look for are added to\n",
    "    the ruler, matches are identified in the doc and are labelled \n",
    "    as CONCEPT entities. \n",
    "\n",
    "    The concept pipe is added after the EntityRuler and the concepts\n",
    "    in the doc are accessible via doc._.concepts as a Counter object.\n",
    "    \n",
    "    Usage:\n",
    "    concepts_pipe = Concepts(nlp)\n",
    "    nlp.add_pipe(concepts_pipe)\n",
    "\n",
    "    \"\"\"\n",
    "\n",
    "    def __init__(self, nlp) -> None:\n",
    "        Doc.set_extension(\"concepts\", default={}, force=True)\n",
    "        self.ruler = EntityRuler(nlp)\n",
    "        self.ruler.add_patterns(CONCEPT_PATTERNS)\n",
    "        pipes = nlp.pipe_names\n",
    "        if \"EntityRuler\" not in pipes:\n",
    "            nlp.add_pipe(self.ruler, last=True)\n",
    "\n",
    "    def __call__(self, doc: Doc) -> Doc:\n",
    "        CONCEPTS = [ent.text.lower() for ent in doc.ents if ent.label_ == \"CONCEPT\"]\n",
    "        if CONCEPTS:\n",
    "            # CONCEPTS = list(set(CONCEPTS))\n",
    "            CONCEPTS.sort()\n",
    "            # Exclude terms with fewer than 5 occurences\n",
    "            doc._.concepts = Counter(CONCEPTS).most_common(5)\n",
    "        else:\n",
    "            doc._.concepts = \"None\"\n",
    "        return doc"
   ]
  },
  {
   "cell_type": "code",
   "execution_count": 9,
   "metadata": {},
   "outputs": [],
   "source": [
    "#we now instantiate and add on the new legal concepts tag\n",
    "concepts_pipe = Concepts(nlp)\n",
    "nlp.add_pipe(concepts_pipe)"
   ]
  },
  {
   "cell_type": "code",
   "execution_count": 10,
   "metadata": {},
   "outputs": [
    {
     "data": {
      "text/html": [
       "<span class=\"tex2jax_ignore\"><div class=\"entities\" style=\"line-height: 2.5; direction: ltr\">\n",
       "<mark class=\"entity\" style=\"background: #7aecec; padding: 0.45em 0.6em; margin: 0 0.25em; line-height: 1; border-radius: 0.35em;\">\n",
       "    Mercury\n",
       "    <span style=\"font-size: 0.8em; font-weight: bold; line-height: 1; border-radius: 0.35em; text-transform: uppercase; vertical-align: middle; margin-left: 0.5rem\">ORG</span>\n",
       "</mark>\n",
       " represents and warrants that it has the full right and power to \n",
       "<mark class=\"entity\" style=\"background: #ddd; padding: 0.45em 0.6em; margin: 0 0.25em; line-height: 1; border-radius: 0.35em;\">\n",
       "    grant\n",
       "    <span style=\"font-size: 0.8em; font-weight: bold; line-height: 1; border-radius: 0.35em; text-transform: uppercase; vertical-align: middle; margin-left: 0.5rem\">CONCEPT</span>\n",
       "</mark>\n",
       " the license and release set forth in Sections 1 and 4, respectively, and that there are no outstanding agreements, assignments, or encumbrances inconsistent therewith. \n",
       "<mark class=\"entity\" style=\"background: #7aecec; padding: 0.45em 0.6em; margin: 0 0.25em; line-height: 1; border-radius: 0.35em;\">\n",
       "    Mercury\n",
       "    <span style=\"font-size: 0.8em; font-weight: bold; line-height: 1; border-radius: 0.35em; text-transform: uppercase; vertical-align: middle; margin-left: 0.5rem\">ORG</span>\n",
       "</mark>\n",
       " makes no other representations or warranties, express or implied, nor shall \n",
       "<mark class=\"entity\" style=\"background: #7aecec; padding: 0.45em 0.6em; margin: 0 0.25em; line-height: 1; border-radius: 0.35em;\">\n",
       "    Mercury\n",
       "    <span style=\"font-size: 0.8em; font-weight: bold; line-height: 1; border-radius: 0.35em; text-transform: uppercase; vertical-align: middle; margin-left: 0.5rem\">ORG</span>\n",
       "</mark>\n",
       " have any \n",
       "<mark class=\"entity\" style=\"background: #ddd; padding: 0.45em 0.6em; margin: 0 0.25em; line-height: 1; border-radius: 0.35em;\">\n",
       "    liability\n",
       "    <span style=\"font-size: 0.8em; font-weight: bold; line-height: 1; border-radius: 0.35em; text-transform: uppercase; vertical-align: middle; margin-left: 0.5rem\">CONCEPT</span>\n",
       "</mark>\n",
       " in respect of any infringement of \n",
       "<mark class=\"entity\" style=\"background: #ddd; padding: 0.45em 0.6em; margin: 0 0.25em; line-height: 1; border-radius: 0.35em;\">\n",
       "    patents\n",
       "    <span style=\"font-size: 0.8em; font-weight: bold; line-height: 1; border-radius: 0.35em; text-transform: uppercase; vertical-align: middle; margin-left: 0.5rem\">CONCEPT</span>\n",
       "</mark>\n",
       " or other rights of \n",
       "<mark class=\"entity\" style=\"background: #e4e7d2; padding: 0.45em 0.6em; margin: 0 0.25em; line-height: 1; border-radius: 0.35em;\">\n",
       "    third\n",
       "    <span style=\"font-size: 0.8em; font-weight: bold; line-height: 1; border-radius: 0.35em; text-transform: uppercase; vertical-align: middle; margin-left: 0.5rem\">ORDINAL</span>\n",
       "</mark>\n",
       " parties due to \n",
       "<mark class=\"entity\" style=\"background: #feca74; padding: 0.45em 0.6em; margin: 0 0.25em; line-height: 1; border-radius: 0.35em;\">\n",
       "    Licensee\n",
       "    <span style=\"font-size: 0.8em; font-weight: bold; line-height: 1; border-radius: 0.35em; text-transform: uppercase; vertical-align: middle; margin-left: 0.5rem\">GPE</span>\n",
       "</mark>\n",
       "'s operation under the license herein granted. \n",
       "<mark class=\"entity\" style=\"background: #7aecec; padding: 0.45em 0.6em; margin: 0 0.25em; line-height: 1; border-radius: 0.35em;\">\n",
       "    Mercury\n",
       "    <span style=\"font-size: 0.8em; font-weight: bold; line-height: 1; border-radius: 0.35em; text-transform: uppercase; vertical-align: middle; margin-left: 0.5rem\">ORG</span>\n",
       "</mark>\n",
       " neither warrants nor represents that \n",
       "<mark class=\"entity\" style=\"background: #aa9cfc; padding: 0.45em 0.6em; margin: 0 0.25em; line-height: 1; border-radius: 0.35em;\">\n",
       "    Licensee\n",
       "    <span style=\"font-size: 0.8em; font-weight: bold; line-height: 1; border-radius: 0.35em; text-transform: uppercase; vertical-align: middle; margin-left: 0.5rem\">PERSON</span>\n",
       "</mark>\n",
       " will not require a license under other \n",
       "<mark class=\"entity\" style=\"background: #ddd; padding: 0.45em 0.6em; margin: 0 0.25em; line-height: 1; border-radius: 0.35em;\">\n",
       "    patents\n",
       "    <span style=\"font-size: 0.8em; font-weight: bold; line-height: 1; border-radius: 0.35em; text-transform: uppercase; vertical-align: middle; margin-left: 0.5rem\">CONCEPT</span>\n",
       "</mark>\n",
       " (owned by \n",
       "<mark class=\"entity\" style=\"background: #7aecec; padding: 0.45em 0.6em; margin: 0 0.25em; line-height: 1; border-radius: 0.35em;\">\n",
       "    Mercury\n",
       "    <span style=\"font-size: 0.8em; font-weight: bold; line-height: 1; border-radius: 0.35em; text-transform: uppercase; vertical-align: middle; margin-left: 0.5rem\">ORG</span>\n",
       "</mark>\n",
       " or by \n",
       "<mark class=\"entity\" style=\"background: #e4e7d2; padding: 0.45em 0.6em; margin: 0 0.25em; line-height: 1; border-radius: 0.35em;\">\n",
       "    third\n",
       "    <span style=\"font-size: 0.8em; font-weight: bold; line-height: 1; border-radius: 0.35em; text-transform: uppercase; vertical-align: middle; margin-left: 0.5rem\">ORDINAL</span>\n",
       "</mark>\n",
       " parties) to make, use, import, or \n",
       "<mark class=\"entity\" style=\"background: #ddd; padding: 0.45em 0.6em; margin: 0 0.25em; line-height: 1; border-radius: 0.35em;\">\n",
       "    lease\n",
       "    <span style=\"font-size: 0.8em; font-weight: bold; line-height: 1; border-radius: 0.35em; text-transform: uppercase; vertical-align: middle; margin-left: 0.5rem\">CONCEPT</span>\n",
       "</mark>\n",
       ", sell or otherwise \n",
       "<mark class=\"entity\" style=\"background: #ffeb80; padding: 0.45em 0.6em; margin: 0 0.25em; line-height: 1; border-radius: 0.35em;\">\n",
       "    transfer Licensed Products\n",
       "    <span style=\"font-size: 0.8em; font-weight: bold; line-height: 1; border-radius: 0.35em; text-transform: uppercase; vertical-align: middle; margin-left: 0.5rem\">EVENT</span>\n",
       "</mark>\n",
       ". \n",
       "<mark class=\"entity\" style=\"background: #aa9cfc; padding: 0.45em 0.6em; margin: 0 0.25em; line-height: 1; border-radius: 0.35em;\">\n",
       "    Licensee\n",
       "    <span style=\"font-size: 0.8em; font-weight: bold; line-height: 1; border-radius: 0.35em; text-transform: uppercase; vertical-align: middle; margin-left: 0.5rem\">PERSON</span>\n",
       "</mark>\n",
       " represents and warrants that it has the full right and power to \n",
       "<mark class=\"entity\" style=\"background: #ddd; padding: 0.45em 0.6em; margin: 0 0.25em; line-height: 1; border-radius: 0.35em;\">\n",
       "    grant\n",
       "    <span style=\"font-size: 0.8em; font-weight: bold; line-height: 1; border-radius: 0.35em; text-transform: uppercase; vertical-align: middle; margin-left: 0.5rem\">CONCEPT</span>\n",
       "</mark>\n",
       " to \n",
       "<mark class=\"entity\" style=\"background: #7aecec; padding: 0.45em 0.6em; margin: 0 0.25em; line-height: 1; border-radius: 0.35em;\">\n",
       "    Mercury\n",
       "    <span style=\"font-size: 0.8em; font-weight: bold; line-height: 1; border-radius: 0.35em; text-transform: uppercase; vertical-align: middle; margin-left: 0.5rem\">ORG</span>\n",
       "</mark>\n",
       " the right so specified in \n",
       "<mark class=\"entity\" style=\"background: #ff8197; padding: 0.45em 0.6em; margin: 0 0.25em; line-height: 1; border-radius: 0.35em;\">\n",
       "    Section 6\n",
       "    <span style=\"font-size: 0.8em; font-weight: bold; line-height: 1; border-radius: 0.35em; text-transform: uppercase; vertical-align: middle; margin-left: 0.5rem\">LAW</span>\n",
       "</mark>\n",
       ".</div></span>"
      ],
      "text/plain": [
       "<IPython.core.display.HTML object>"
      ]
     },
     "metadata": {},
     "output_type": "display_data"
    }
   ],
   "source": [
    "#we convert our sample clause into a spaCy object, and let displaCy show us what the tagging is like:\n",
    "doc = nlp(sample_clause)\n",
    "\n",
    "displacy.render(doc, style='ent', jupyter=True)"
   ]
  },
  {
   "cell_type": "markdown",
   "metadata": {},
   "source": [
    "### Interpretation\n",
    "The `spaCy+Blackstone` Entity tags on our sample clause very helpfully show us that contractual clauses usually reference:\n",
    "* Organizations (`ORG`) and/or  Persons (`PERSON`), in this case Mercury and the Licensee, \n",
    "* Legal Concepts (`CONCEPT`), which our Blackstone library has tagged on for us e.g. \"liability\",\n",
    "* Other provisions and laws (`LAW`), e.g. \"Section 6\" of this contract\n",
    "* conditional events, which spaCy recognizes as an `EVENT` e.g. transfer Licensed Products.\n",
    "\n",
    "Although spaCy Neural Network definitely misses out on a fair few other exanples of `CONCEPT` like \"representations and warranties\", the tool is a good starting point for us to understand how contractual clauses work."
   ]
  },
  {
   "cell_type": "markdown",
   "metadata": {},
   "source": [
    "## Conventional \"Bag-of-Words\" Style EDA and Visualizations\n",
    "One of the most common types of visualizations normally used for NLP is a word cloud. \n",
    "\n",
    "These typically involve visualizing the top word vectors used in a particular category. **We'll avoid word clouds explicitly** and use an alternative that does the same job, but looks neater.\n",
    "\n",
    "The first step to getting word vectors to work is to convert each of our clauses into cleaned-up text that: \n",
    "\n",
    "* is lowercased,\n",
    "* has no symbols, \n",
    "* has no stopwords,\n",
    "* has been contracted to its \"base\" word e.g. disappointed's base word is disappoint (for which we will employ **lemmatization** here), and\n",
    "* has no unnecessary spaces."
   ]
  },
  {
   "cell_type": "markdown",
   "metadata": {},
   "source": [
    "We’ll create a `spacy_tokenizer()` function that accepts a sentence as input and processes the sentence into tokens, performing lemmatization, lowercasing, and removing stop words. We'll need this to run our visualizations."
   ]
  },
  {
   "cell_type": "code",
   "execution_count": 11,
   "metadata": {},
   "outputs": [
    {
     "name": "stderr",
     "output_type": "stream",
     "text": [
      "/Users/grahamlim/opt/anaconda3/lib/python3.7/site-packages/spacy/util.py:275: UserWarning:\n",
      "\n",
      "[W031] Model 'en_blackstone_proto' (0.0.1) requires spaCy v2.1 and is incompatible with the current spaCy version (2.3.2). This may lead to unexpected results or runtime errors. To resolve this, download a newer compatible model or retrain your custom model with the current spaCy version. For more details and available updates, run: python -m spacy validate\n",
      "\n"
     ]
    }
   ],
   "source": [
    "#from https://www.dataquest.io/blog/tutorial-text-classification-in-python-using-spacy/\n",
    "#stopwords removal\n",
    "\n",
    "# Create our list of punctuation marks\n",
    "punctuations = string.punctuation\n",
    "\n",
    "# Create our list of stopwords\n",
    "nlp = spacy.load('en_blackstone_proto')\n",
    "stop_words = spacy.lang.en.stop_words.STOP_WORDS\n",
    "\n",
    "# Load English tokenizer, tagger, parser, NER and word vectors\n",
    "parser = English()\n",
    "\n",
    "# Creating our tokenizer function\n",
    "def spacy_tokenizer(sentence):\n",
    "    \n",
    "    #remove non-words\n",
    "    tokens = re.sub(\"[^a-zA-Z]\", \" \", sentence)\n",
    "    tokens = re.sub(\"[0-9]+\", \"\", tokens)\n",
    "    \n",
    "    # Creating our token object, which is used to create documents with linguistic annotations.\n",
    "    tokens = parser(tokens)\n",
    "\n",
    "    # Lemmatizing each token and converting each token into lowercase\n",
    "    tokens = [ word.lemma_.lower().strip() if word.lemma_ != \"-PRON-\" else word.lower_ for word in tokens ]\n",
    "\n",
    "    # Removing stop words\n",
    "    tokens = [ word for word in tokens if word not in stop_words and word not in punctuations]\n",
    "    \n",
    "    # return preprocessed list of tokens\n",
    "    return tokens"
   ]
  },
  {
   "cell_type": "code",
   "execution_count": 12,
   "metadata": {},
   "outputs": [],
   "source": [
    "#intialize our TfidfVectorizer and assign it\n",
    "vectorizer = TfidfVectorizer(tokenizer=spacy_tokenizer, ngram_range=(1,2))"
   ]
  },
  {
   "cell_type": "code",
   "execution_count": 13,
   "metadata": {},
   "outputs": [
    {
     "data": {
      "text/plain": [
       "clause_type             \n",
       "other_clauses               9014\n",
       "renewal_option_clause        576\n",
       "automatic_renewal_clause     156\n",
       "dtype: int64"
      ]
     },
     "execution_count": 13,
     "metadata": {},
     "output_type": "execute_result"
    }
   ],
   "source": [
    "#reminding ourselves what clauses we have\n",
    "df[[\"clause_type\"]].value_counts()"
   ]
  },
  {
   "cell_type": "code",
   "execution_count": 14,
   "metadata": {},
   "outputs": [],
   "source": [
    "#I create objects that will let us visualize specific types of clauses only\n",
    "all_clauses = df[\"clause_text\"]\n",
    "auto_renewals_only = df[\"clause_text\"][df[\"clause_type\"]==\"automatic_renewal_clause\"]\n",
    "renewal_options_only = df[\"clause_text\"][df[\"clause_type\"]==\"renewal_option_clause\"]\n",
    "other_clauses_only = df[\"clause_text\"][df[\"clause_type\"]==\"other_clauses\"]"
   ]
  },
  {
   "cell_type": "code",
   "execution_count": 15,
   "metadata": {},
   "outputs": [],
   "source": [
    "#turn a series into vectors and then plot the distribution of the top 25 words\n",
    "\n",
    "def vector_barplotter(series, graph_title, x_label):\n",
    "    vectorized_series = vectorizer.fit(series)\n",
    "    series_df = pd.DataFrame(vectorizer.transform(series).todense(),\n",
    "                              columns=vectorizer.get_feature_names())\n",
    "    #we slice the top 25 words \n",
    "    top_25_words=series_df.sum().sort_values(ascending = False).head(25)\n",
    "    \n",
    "    #we plot this on a plotly bar chart by frequency of words.\n",
    "    fig = px.bar(top_25_words, orientation='v', title = graph_title, \n",
    "             labels={\"index\":x_label})\n",
    "    fig.show()"
   ]
  },
  {
   "cell_type": "code",
   "execution_count": 16,
   "metadata": {},
   "outputs": [],
   "source": [
    "\n",
    "#to plot a square word treemap, I have to modify our word array into a special dataframe; \n",
    "#Adapted from https://python-graph-gallery.com/200-basic-treemap-with-python/\n",
    "#We plot a square treemap of word frequencies, as an alternative to word clouds\n",
    "#to save time I turned this into a function too.\n",
    "\n",
    "def vector_treemap_plotter(series, chart_title):\n",
    "    print(chart_title)\n",
    "    \n",
    "    vectorized_series = vectorizer.fit(series)\n",
    "    series_df = pd.DataFrame(vectorizer.transform(series).todense(),\n",
    "                              columns=vectorizer.get_feature_names())\n",
    "    #we slice the top 25 words and turn that into a squarify-friendly dataframe\n",
    "    top_25_words=series_df.sum().sort_values(ascending = False).head(25)\n",
    "    top_25_words_df = pd.DataFrame(top_25_words)\n",
    "    top_25_words_df.columns = [\"count\"]\n",
    "    top_25_words_df[\"word\"]=top_25_words_df.index\n",
    "    top_25_words_df = top_25_words_df.reset_index(drop=True)\n",
    "    \n",
    "    count = top_25_words_df[\"count\"]\n",
    "    word = top_25_words_df[\"word\"]\n",
    "    \n",
    "    #I then create a hybrid heatmap and treemap\n",
    "    #it is like a word cloud, but it looks cleaner.\n",
    "    #frequent words are deeper blues with bigger squares.\n",
    "\n",
    "    cmap = matplotlib.cm.Blues\n",
    "    mini=min(count)\n",
    "    maxi=max(count)\n",
    "    norm = matplotlib.colors.Normalize(vmin=mini, vmax=maxi)\n",
    "    colors = [cmap(norm(value)) for value in count]\n",
    "\n",
    "    squarify.plot(sizes=count, norm_x=100, norm_y=100, label=word, \n",
    "                  color=colors,alpha=.9 )\n",
    "\n",
    "    plt.axis('off')\n",
    "    plt.show()"
   ]
  },
  {
   "cell_type": "markdown",
   "metadata": {},
   "source": [
    "**What are the top words in other clauses?**"
   ]
  },
  {
   "cell_type": "code",
   "execution_count": 17,
   "metadata": {},
   "outputs": [
    {
     "name": "stderr",
     "output_type": "stream",
     "text": [
      "/Users/grahamlim/opt/anaconda3/lib/python3.7/site-packages/sklearn/feature_extraction/text.py:484: UserWarning:\n",
      "\n",
      "The parameter 'token_pattern' will not be used since 'tokenizer' is not None'\n",
      "\n"
     ]
    },
    {
     "data": {
      "application/vnd.plotly.v1+json": {
       "config": {
        "plotlyServerURL": "https://plot.ly"
       },
       "data": [
        {
         "alignmentgroup": "True",
         "hovertemplate": "variable=0<br>Word=%{x}<br>value=%{y}<extra></extra>",
         "legendgroup": "0",
         "marker": {
          "color": "#636efa"
         },
         "name": "0",
         "offsetgroup": "0",
         "orientation": "v",
         "showlegend": true,
         "textposition": "auto",
         "type": "bar",
         "x": [
          "shall",
          "agreement",
          "company",
          "party",
          "terms",
          "s",
          "following",
          "information",
          "meanings",
          "applicable",
          "rights",
          "section",
          "seller",
          "including",
          "set",
          "material",
          "forth",
          "defined",
          "date",
          "set forth",
          "business",
          "confidential",
          "provided",
          "payment",
          "following terms"
         ],
         "xaxis": "x",
         "y": [
          264.28980180256366,
          221.8520939955904,
          196.19703493563077,
          167.82871700059206,
          159.6432403248743,
          142.01836237275637,
          137.21943104505468,
          125.99458994072099,
          120.28649338370282,
          107.34747151911724,
          102.4395619952438,
          98.76195755423016,
          92.18504485951458,
          86.78914332400178,
          84.62066660747467,
          83.9231439925978,
          83.20877203460455,
          82.7642258168616,
          82.75046513472532,
          81.04295338237515,
          78.83310405152028,
          77.54502104345082,
          76.04402624463046,
          75.7892352684938,
          74.67150877144103
         ],
         "yaxis": "y"
        }
       ],
       "layout": {
        "barmode": "relative",
        "legend": {
         "title": {
          "text": "variable"
         },
         "tracegroupgap": 0
        },
        "template": {
         "data": {
          "bar": [
           {
            "error_x": {
             "color": "#2a3f5f"
            },
            "error_y": {
             "color": "#2a3f5f"
            },
            "marker": {
             "line": {
              "color": "#E5ECF6",
              "width": 0.5
             }
            },
            "type": "bar"
           }
          ],
          "barpolar": [
           {
            "marker": {
             "line": {
              "color": "#E5ECF6",
              "width": 0.5
             }
            },
            "type": "barpolar"
           }
          ],
          "carpet": [
           {
            "aaxis": {
             "endlinecolor": "#2a3f5f",
             "gridcolor": "white",
             "linecolor": "white",
             "minorgridcolor": "white",
             "startlinecolor": "#2a3f5f"
            },
            "baxis": {
             "endlinecolor": "#2a3f5f",
             "gridcolor": "white",
             "linecolor": "white",
             "minorgridcolor": "white",
             "startlinecolor": "#2a3f5f"
            },
            "type": "carpet"
           }
          ],
          "choropleth": [
           {
            "colorbar": {
             "outlinewidth": 0,
             "ticks": ""
            },
            "type": "choropleth"
           }
          ],
          "contour": [
           {
            "colorbar": {
             "outlinewidth": 0,
             "ticks": ""
            },
            "colorscale": [
             [
              0,
              "#0d0887"
             ],
             [
              0.1111111111111111,
              "#46039f"
             ],
             [
              0.2222222222222222,
              "#7201a8"
             ],
             [
              0.3333333333333333,
              "#9c179e"
             ],
             [
              0.4444444444444444,
              "#bd3786"
             ],
             [
              0.5555555555555556,
              "#d8576b"
             ],
             [
              0.6666666666666666,
              "#ed7953"
             ],
             [
              0.7777777777777778,
              "#fb9f3a"
             ],
             [
              0.8888888888888888,
              "#fdca26"
             ],
             [
              1,
              "#f0f921"
             ]
            ],
            "type": "contour"
           }
          ],
          "contourcarpet": [
           {
            "colorbar": {
             "outlinewidth": 0,
             "ticks": ""
            },
            "type": "contourcarpet"
           }
          ],
          "heatmap": [
           {
            "colorbar": {
             "outlinewidth": 0,
             "ticks": ""
            },
            "colorscale": [
             [
              0,
              "#0d0887"
             ],
             [
              0.1111111111111111,
              "#46039f"
             ],
             [
              0.2222222222222222,
              "#7201a8"
             ],
             [
              0.3333333333333333,
              "#9c179e"
             ],
             [
              0.4444444444444444,
              "#bd3786"
             ],
             [
              0.5555555555555556,
              "#d8576b"
             ],
             [
              0.6666666666666666,
              "#ed7953"
             ],
             [
              0.7777777777777778,
              "#fb9f3a"
             ],
             [
              0.8888888888888888,
              "#fdca26"
             ],
             [
              1,
              "#f0f921"
             ]
            ],
            "type": "heatmap"
           }
          ],
          "heatmapgl": [
           {
            "colorbar": {
             "outlinewidth": 0,
             "ticks": ""
            },
            "colorscale": [
             [
              0,
              "#0d0887"
             ],
             [
              0.1111111111111111,
              "#46039f"
             ],
             [
              0.2222222222222222,
              "#7201a8"
             ],
             [
              0.3333333333333333,
              "#9c179e"
             ],
             [
              0.4444444444444444,
              "#bd3786"
             ],
             [
              0.5555555555555556,
              "#d8576b"
             ],
             [
              0.6666666666666666,
              "#ed7953"
             ],
             [
              0.7777777777777778,
              "#fb9f3a"
             ],
             [
              0.8888888888888888,
              "#fdca26"
             ],
             [
              1,
              "#f0f921"
             ]
            ],
            "type": "heatmapgl"
           }
          ],
          "histogram": [
           {
            "marker": {
             "colorbar": {
              "outlinewidth": 0,
              "ticks": ""
             }
            },
            "type": "histogram"
           }
          ],
          "histogram2d": [
           {
            "colorbar": {
             "outlinewidth": 0,
             "ticks": ""
            },
            "colorscale": [
             [
              0,
              "#0d0887"
             ],
             [
              0.1111111111111111,
              "#46039f"
             ],
             [
              0.2222222222222222,
              "#7201a8"
             ],
             [
              0.3333333333333333,
              "#9c179e"
             ],
             [
              0.4444444444444444,
              "#bd3786"
             ],
             [
              0.5555555555555556,
              "#d8576b"
             ],
             [
              0.6666666666666666,
              "#ed7953"
             ],
             [
              0.7777777777777778,
              "#fb9f3a"
             ],
             [
              0.8888888888888888,
              "#fdca26"
             ],
             [
              1,
              "#f0f921"
             ]
            ],
            "type": "histogram2d"
           }
          ],
          "histogram2dcontour": [
           {
            "colorbar": {
             "outlinewidth": 0,
             "ticks": ""
            },
            "colorscale": [
             [
              0,
              "#0d0887"
             ],
             [
              0.1111111111111111,
              "#46039f"
             ],
             [
              0.2222222222222222,
              "#7201a8"
             ],
             [
              0.3333333333333333,
              "#9c179e"
             ],
             [
              0.4444444444444444,
              "#bd3786"
             ],
             [
              0.5555555555555556,
              "#d8576b"
             ],
             [
              0.6666666666666666,
              "#ed7953"
             ],
             [
              0.7777777777777778,
              "#fb9f3a"
             ],
             [
              0.8888888888888888,
              "#fdca26"
             ],
             [
              1,
              "#f0f921"
             ]
            ],
            "type": "histogram2dcontour"
           }
          ],
          "mesh3d": [
           {
            "colorbar": {
             "outlinewidth": 0,
             "ticks": ""
            },
            "type": "mesh3d"
           }
          ],
          "parcoords": [
           {
            "line": {
             "colorbar": {
              "outlinewidth": 0,
              "ticks": ""
             }
            },
            "type": "parcoords"
           }
          ],
          "pie": [
           {
            "automargin": true,
            "type": "pie"
           }
          ],
          "scatter": [
           {
            "marker": {
             "colorbar": {
              "outlinewidth": 0,
              "ticks": ""
             }
            },
            "type": "scatter"
           }
          ],
          "scatter3d": [
           {
            "line": {
             "colorbar": {
              "outlinewidth": 0,
              "ticks": ""
             }
            },
            "marker": {
             "colorbar": {
              "outlinewidth": 0,
              "ticks": ""
             }
            },
            "type": "scatter3d"
           }
          ],
          "scattercarpet": [
           {
            "marker": {
             "colorbar": {
              "outlinewidth": 0,
              "ticks": ""
             }
            },
            "type": "scattercarpet"
           }
          ],
          "scattergeo": [
           {
            "marker": {
             "colorbar": {
              "outlinewidth": 0,
              "ticks": ""
             }
            },
            "type": "scattergeo"
           }
          ],
          "scattergl": [
           {
            "marker": {
             "colorbar": {
              "outlinewidth": 0,
              "ticks": ""
             }
            },
            "type": "scattergl"
           }
          ],
          "scattermapbox": [
           {
            "marker": {
             "colorbar": {
              "outlinewidth": 0,
              "ticks": ""
             }
            },
            "type": "scattermapbox"
           }
          ],
          "scatterpolar": [
           {
            "marker": {
             "colorbar": {
              "outlinewidth": 0,
              "ticks": ""
             }
            },
            "type": "scatterpolar"
           }
          ],
          "scatterpolargl": [
           {
            "marker": {
             "colorbar": {
              "outlinewidth": 0,
              "ticks": ""
             }
            },
            "type": "scatterpolargl"
           }
          ],
          "scatterternary": [
           {
            "marker": {
             "colorbar": {
              "outlinewidth": 0,
              "ticks": ""
             }
            },
            "type": "scatterternary"
           }
          ],
          "surface": [
           {
            "colorbar": {
             "outlinewidth": 0,
             "ticks": ""
            },
            "colorscale": [
             [
              0,
              "#0d0887"
             ],
             [
              0.1111111111111111,
              "#46039f"
             ],
             [
              0.2222222222222222,
              "#7201a8"
             ],
             [
              0.3333333333333333,
              "#9c179e"
             ],
             [
              0.4444444444444444,
              "#bd3786"
             ],
             [
              0.5555555555555556,
              "#d8576b"
             ],
             [
              0.6666666666666666,
              "#ed7953"
             ],
             [
              0.7777777777777778,
              "#fb9f3a"
             ],
             [
              0.8888888888888888,
              "#fdca26"
             ],
             [
              1,
              "#f0f921"
             ]
            ],
            "type": "surface"
           }
          ],
          "table": [
           {
            "cells": {
             "fill": {
              "color": "#EBF0F8"
             },
             "line": {
              "color": "white"
             }
            },
            "header": {
             "fill": {
              "color": "#C8D4E3"
             },
             "line": {
              "color": "white"
             }
            },
            "type": "table"
           }
          ]
         },
         "layout": {
          "annotationdefaults": {
           "arrowcolor": "#2a3f5f",
           "arrowhead": 0,
           "arrowwidth": 1
          },
          "coloraxis": {
           "colorbar": {
            "outlinewidth": 0,
            "ticks": ""
           }
          },
          "colorscale": {
           "diverging": [
            [
             0,
             "#8e0152"
            ],
            [
             0.1,
             "#c51b7d"
            ],
            [
             0.2,
             "#de77ae"
            ],
            [
             0.3,
             "#f1b6da"
            ],
            [
             0.4,
             "#fde0ef"
            ],
            [
             0.5,
             "#f7f7f7"
            ],
            [
             0.6,
             "#e6f5d0"
            ],
            [
             0.7,
             "#b8e186"
            ],
            [
             0.8,
             "#7fbc41"
            ],
            [
             0.9,
             "#4d9221"
            ],
            [
             1,
             "#276419"
            ]
           ],
           "sequential": [
            [
             0,
             "#0d0887"
            ],
            [
             0.1111111111111111,
             "#46039f"
            ],
            [
             0.2222222222222222,
             "#7201a8"
            ],
            [
             0.3333333333333333,
             "#9c179e"
            ],
            [
             0.4444444444444444,
             "#bd3786"
            ],
            [
             0.5555555555555556,
             "#d8576b"
            ],
            [
             0.6666666666666666,
             "#ed7953"
            ],
            [
             0.7777777777777778,
             "#fb9f3a"
            ],
            [
             0.8888888888888888,
             "#fdca26"
            ],
            [
             1,
             "#f0f921"
            ]
           ],
           "sequentialminus": [
            [
             0,
             "#0d0887"
            ],
            [
             0.1111111111111111,
             "#46039f"
            ],
            [
             0.2222222222222222,
             "#7201a8"
            ],
            [
             0.3333333333333333,
             "#9c179e"
            ],
            [
             0.4444444444444444,
             "#bd3786"
            ],
            [
             0.5555555555555556,
             "#d8576b"
            ],
            [
             0.6666666666666666,
             "#ed7953"
            ],
            [
             0.7777777777777778,
             "#fb9f3a"
            ],
            [
             0.8888888888888888,
             "#fdca26"
            ],
            [
             1,
             "#f0f921"
            ]
           ]
          },
          "colorway": [
           "#636efa",
           "#EF553B",
           "#00cc96",
           "#ab63fa",
           "#FFA15A",
           "#19d3f3",
           "#FF6692",
           "#B6E880",
           "#FF97FF",
           "#FECB52"
          ],
          "font": {
           "color": "#2a3f5f"
          },
          "geo": {
           "bgcolor": "white",
           "lakecolor": "white",
           "landcolor": "#E5ECF6",
           "showlakes": true,
           "showland": true,
           "subunitcolor": "white"
          },
          "hoverlabel": {
           "align": "left"
          },
          "hovermode": "closest",
          "mapbox": {
           "style": "light"
          },
          "paper_bgcolor": "white",
          "plot_bgcolor": "#E5ECF6",
          "polar": {
           "angularaxis": {
            "gridcolor": "white",
            "linecolor": "white",
            "ticks": ""
           },
           "bgcolor": "#E5ECF6",
           "radialaxis": {
            "gridcolor": "white",
            "linecolor": "white",
            "ticks": ""
           }
          },
          "scene": {
           "xaxis": {
            "backgroundcolor": "#E5ECF6",
            "gridcolor": "white",
            "gridwidth": 2,
            "linecolor": "white",
            "showbackground": true,
            "ticks": "",
            "zerolinecolor": "white"
           },
           "yaxis": {
            "backgroundcolor": "#E5ECF6",
            "gridcolor": "white",
            "gridwidth": 2,
            "linecolor": "white",
            "showbackground": true,
            "ticks": "",
            "zerolinecolor": "white"
           },
           "zaxis": {
            "backgroundcolor": "#E5ECF6",
            "gridcolor": "white",
            "gridwidth": 2,
            "linecolor": "white",
            "showbackground": true,
            "ticks": "",
            "zerolinecolor": "white"
           }
          },
          "shapedefaults": {
           "line": {
            "color": "#2a3f5f"
           }
          },
          "ternary": {
           "aaxis": {
            "gridcolor": "white",
            "linecolor": "white",
            "ticks": ""
           },
           "baxis": {
            "gridcolor": "white",
            "linecolor": "white",
            "ticks": ""
           },
           "bgcolor": "#E5ECF6",
           "caxis": {
            "gridcolor": "white",
            "linecolor": "white",
            "ticks": ""
           }
          },
          "title": {
           "x": 0.05
          },
          "xaxis": {
           "automargin": true,
           "gridcolor": "white",
           "linecolor": "white",
           "ticks": "",
           "title": {
            "standoff": 15
           },
           "zerolinecolor": "white",
           "zerolinewidth": 2
          },
          "yaxis": {
           "automargin": true,
           "gridcolor": "white",
           "linecolor": "white",
           "ticks": "",
           "title": {
            "standoff": 15
           },
           "zerolinecolor": "white",
           "zerolinewidth": 2
          }
         }
        },
        "title": {
         "text": "Top 25 Words in Other Clauses"
        },
        "xaxis": {
         "anchor": "y",
         "domain": [
          0,
          1
         ],
         "title": {
          "text": "Word"
         }
        },
        "yaxis": {
         "anchor": "x",
         "domain": [
          0,
          1
         ],
         "title": {
          "text": "value"
         }
        }
       }
      },
      "text/html": [
       "<div>\n",
       "        \n",
       "        \n",
       "            <div id=\"8371e050-dff8-4e57-98f1-225a1d9f5a1b\" class=\"plotly-graph-div\" style=\"height:525px; width:100%;\"></div>\n",
       "            <script type=\"text/javascript\">\n",
       "                require([\"plotly\"], function(Plotly) {\n",
       "                    window.PLOTLYENV=window.PLOTLYENV || {};\n",
       "                    \n",
       "                if (document.getElementById(\"8371e050-dff8-4e57-98f1-225a1d9f5a1b\")) {\n",
       "                    Plotly.newPlot(\n",
       "                        '8371e050-dff8-4e57-98f1-225a1d9f5a1b',\n",
       "                        [{\"alignmentgroup\": \"True\", \"hovertemplate\": \"variable=0<br>Word=%{x}<br>value=%{y}<extra></extra>\", \"legendgroup\": \"0\", \"marker\": {\"color\": \"#636efa\"}, \"name\": \"0\", \"offsetgroup\": \"0\", \"orientation\": \"v\", \"showlegend\": true, \"textposition\": \"auto\", \"type\": \"bar\", \"x\": [\"shall\", \"agreement\", \"company\", \"party\", \"terms\", \"s\", \"following\", \"information\", \"meanings\", \"applicable\", \"rights\", \"section\", \"seller\", \"including\", \"set\", \"material\", \"forth\", \"defined\", \"date\", \"set forth\", \"business\", \"confidential\", \"provided\", \"payment\", \"following terms\"], \"xaxis\": \"x\", \"y\": [264.28980180256366, 221.8520939955904, 196.19703493563077, 167.82871700059206, 159.6432403248743, 142.01836237275637, 137.21943104505468, 125.99458994072099, 120.28649338370282, 107.34747151911724, 102.4395619952438, 98.76195755423016, 92.18504485951458, 86.78914332400178, 84.62066660747467, 83.9231439925978, 83.20877203460455, 82.7642258168616, 82.75046513472532, 81.04295338237515, 78.83310405152028, 77.54502104345082, 76.04402624463046, 75.7892352684938, 74.67150877144103], \"yaxis\": \"y\"}],\n",
       "                        {\"barmode\": \"relative\", \"legend\": {\"title\": {\"text\": \"variable\"}, \"tracegroupgap\": 0}, \"template\": {\"data\": {\"bar\": [{\"error_x\": {\"color\": \"#2a3f5f\"}, \"error_y\": {\"color\": \"#2a3f5f\"}, \"marker\": {\"line\": {\"color\": \"#E5ECF6\", \"width\": 0.5}}, \"type\": \"bar\"}], \"barpolar\": [{\"marker\": {\"line\": {\"color\": \"#E5ECF6\", \"width\": 0.5}}, \"type\": \"barpolar\"}], \"carpet\": [{\"aaxis\": {\"endlinecolor\": \"#2a3f5f\", \"gridcolor\": \"white\", \"linecolor\": \"white\", \"minorgridcolor\": \"white\", \"startlinecolor\": \"#2a3f5f\"}, \"baxis\": {\"endlinecolor\": \"#2a3f5f\", \"gridcolor\": \"white\", \"linecolor\": \"white\", \"minorgridcolor\": \"white\", \"startlinecolor\": \"#2a3f5f\"}, \"type\": \"carpet\"}], \"choropleth\": [{\"colorbar\": {\"outlinewidth\": 0, \"ticks\": \"\"}, \"type\": \"choropleth\"}], \"contour\": [{\"colorbar\": {\"outlinewidth\": 0, \"ticks\": \"\"}, \"colorscale\": [[0.0, \"#0d0887\"], [0.1111111111111111, \"#46039f\"], [0.2222222222222222, \"#7201a8\"], [0.3333333333333333, \"#9c179e\"], [0.4444444444444444, \"#bd3786\"], [0.5555555555555556, \"#d8576b\"], [0.6666666666666666, \"#ed7953\"], [0.7777777777777778, \"#fb9f3a\"], [0.8888888888888888, \"#fdca26\"], [1.0, \"#f0f921\"]], \"type\": \"contour\"}], \"contourcarpet\": [{\"colorbar\": {\"outlinewidth\": 0, \"ticks\": \"\"}, \"type\": \"contourcarpet\"}], \"heatmap\": [{\"colorbar\": {\"outlinewidth\": 0, \"ticks\": \"\"}, \"colorscale\": [[0.0, \"#0d0887\"], [0.1111111111111111, \"#46039f\"], [0.2222222222222222, \"#7201a8\"], [0.3333333333333333, \"#9c179e\"], [0.4444444444444444, \"#bd3786\"], [0.5555555555555556, \"#d8576b\"], [0.6666666666666666, \"#ed7953\"], [0.7777777777777778, \"#fb9f3a\"], [0.8888888888888888, \"#fdca26\"], [1.0, \"#f0f921\"]], \"type\": \"heatmap\"}], \"heatmapgl\": [{\"colorbar\": {\"outlinewidth\": 0, \"ticks\": \"\"}, \"colorscale\": [[0.0, \"#0d0887\"], [0.1111111111111111, \"#46039f\"], [0.2222222222222222, \"#7201a8\"], [0.3333333333333333, \"#9c179e\"], [0.4444444444444444, \"#bd3786\"], [0.5555555555555556, \"#d8576b\"], [0.6666666666666666, \"#ed7953\"], [0.7777777777777778, \"#fb9f3a\"], [0.8888888888888888, \"#fdca26\"], [1.0, \"#f0f921\"]], \"type\": \"heatmapgl\"}], \"histogram\": [{\"marker\": {\"colorbar\": {\"outlinewidth\": 0, \"ticks\": \"\"}}, \"type\": \"histogram\"}], \"histogram2d\": [{\"colorbar\": {\"outlinewidth\": 0, \"ticks\": \"\"}, \"colorscale\": [[0.0, \"#0d0887\"], [0.1111111111111111, \"#46039f\"], [0.2222222222222222, \"#7201a8\"], [0.3333333333333333, \"#9c179e\"], [0.4444444444444444, \"#bd3786\"], [0.5555555555555556, \"#d8576b\"], [0.6666666666666666, \"#ed7953\"], [0.7777777777777778, \"#fb9f3a\"], [0.8888888888888888, \"#fdca26\"], [1.0, \"#f0f921\"]], \"type\": \"histogram2d\"}], \"histogram2dcontour\": [{\"colorbar\": {\"outlinewidth\": 0, \"ticks\": \"\"}, \"colorscale\": [[0.0, \"#0d0887\"], [0.1111111111111111, \"#46039f\"], [0.2222222222222222, \"#7201a8\"], [0.3333333333333333, \"#9c179e\"], [0.4444444444444444, \"#bd3786\"], [0.5555555555555556, \"#d8576b\"], [0.6666666666666666, \"#ed7953\"], [0.7777777777777778, \"#fb9f3a\"], [0.8888888888888888, \"#fdca26\"], [1.0, \"#f0f921\"]], \"type\": \"histogram2dcontour\"}], \"mesh3d\": [{\"colorbar\": {\"outlinewidth\": 0, \"ticks\": \"\"}, \"type\": \"mesh3d\"}], \"parcoords\": [{\"line\": {\"colorbar\": {\"outlinewidth\": 0, \"ticks\": \"\"}}, \"type\": \"parcoords\"}], \"pie\": [{\"automargin\": true, \"type\": \"pie\"}], \"scatter\": [{\"marker\": {\"colorbar\": {\"outlinewidth\": 0, \"ticks\": \"\"}}, \"type\": \"scatter\"}], \"scatter3d\": [{\"line\": {\"colorbar\": {\"outlinewidth\": 0, \"ticks\": \"\"}}, \"marker\": {\"colorbar\": {\"outlinewidth\": 0, \"ticks\": \"\"}}, \"type\": \"scatter3d\"}], \"scattercarpet\": [{\"marker\": {\"colorbar\": {\"outlinewidth\": 0, \"ticks\": \"\"}}, \"type\": \"scattercarpet\"}], \"scattergeo\": [{\"marker\": {\"colorbar\": {\"outlinewidth\": 0, \"ticks\": \"\"}}, \"type\": \"scattergeo\"}], \"scattergl\": [{\"marker\": {\"colorbar\": {\"outlinewidth\": 0, \"ticks\": \"\"}}, \"type\": \"scattergl\"}], \"scattermapbox\": [{\"marker\": {\"colorbar\": {\"outlinewidth\": 0, \"ticks\": \"\"}}, \"type\": \"scattermapbox\"}], \"scatterpolar\": [{\"marker\": {\"colorbar\": {\"outlinewidth\": 0, \"ticks\": \"\"}}, \"type\": \"scatterpolar\"}], \"scatterpolargl\": [{\"marker\": {\"colorbar\": {\"outlinewidth\": 0, \"ticks\": \"\"}}, \"type\": \"scatterpolargl\"}], \"scatterternary\": [{\"marker\": {\"colorbar\": {\"outlinewidth\": 0, \"ticks\": \"\"}}, \"type\": \"scatterternary\"}], \"surface\": [{\"colorbar\": {\"outlinewidth\": 0, \"ticks\": \"\"}, \"colorscale\": [[0.0, \"#0d0887\"], [0.1111111111111111, \"#46039f\"], [0.2222222222222222, \"#7201a8\"], [0.3333333333333333, \"#9c179e\"], [0.4444444444444444, \"#bd3786\"], [0.5555555555555556, \"#d8576b\"], [0.6666666666666666, \"#ed7953\"], [0.7777777777777778, \"#fb9f3a\"], [0.8888888888888888, \"#fdca26\"], [1.0, \"#f0f921\"]], \"type\": \"surface\"}], \"table\": [{\"cells\": {\"fill\": {\"color\": \"#EBF0F8\"}, \"line\": {\"color\": \"white\"}}, \"header\": {\"fill\": {\"color\": \"#C8D4E3\"}, \"line\": {\"color\": \"white\"}}, \"type\": \"table\"}]}, \"layout\": {\"annotationdefaults\": {\"arrowcolor\": \"#2a3f5f\", \"arrowhead\": 0, \"arrowwidth\": 1}, \"coloraxis\": {\"colorbar\": {\"outlinewidth\": 0, \"ticks\": \"\"}}, \"colorscale\": {\"diverging\": [[0, \"#8e0152\"], [0.1, \"#c51b7d\"], [0.2, \"#de77ae\"], [0.3, \"#f1b6da\"], [0.4, \"#fde0ef\"], [0.5, \"#f7f7f7\"], [0.6, \"#e6f5d0\"], [0.7, \"#b8e186\"], [0.8, \"#7fbc41\"], [0.9, \"#4d9221\"], [1, \"#276419\"]], \"sequential\": [[0.0, \"#0d0887\"], [0.1111111111111111, \"#46039f\"], [0.2222222222222222, \"#7201a8\"], [0.3333333333333333, \"#9c179e\"], [0.4444444444444444, \"#bd3786\"], [0.5555555555555556, \"#d8576b\"], [0.6666666666666666, \"#ed7953\"], [0.7777777777777778, \"#fb9f3a\"], [0.8888888888888888, \"#fdca26\"], [1.0, \"#f0f921\"]], \"sequentialminus\": [[0.0, \"#0d0887\"], [0.1111111111111111, \"#46039f\"], [0.2222222222222222, \"#7201a8\"], [0.3333333333333333, \"#9c179e\"], [0.4444444444444444, \"#bd3786\"], [0.5555555555555556, \"#d8576b\"], [0.6666666666666666, \"#ed7953\"], [0.7777777777777778, \"#fb9f3a\"], [0.8888888888888888, \"#fdca26\"], [1.0, \"#f0f921\"]]}, \"colorway\": [\"#636efa\", \"#EF553B\", \"#00cc96\", \"#ab63fa\", \"#FFA15A\", \"#19d3f3\", \"#FF6692\", \"#B6E880\", \"#FF97FF\", \"#FECB52\"], \"font\": {\"color\": \"#2a3f5f\"}, \"geo\": {\"bgcolor\": \"white\", \"lakecolor\": \"white\", \"landcolor\": \"#E5ECF6\", \"showlakes\": true, \"showland\": true, \"subunitcolor\": \"white\"}, \"hoverlabel\": {\"align\": \"left\"}, \"hovermode\": \"closest\", \"mapbox\": {\"style\": \"light\"}, \"paper_bgcolor\": \"white\", \"plot_bgcolor\": \"#E5ECF6\", \"polar\": {\"angularaxis\": {\"gridcolor\": \"white\", \"linecolor\": \"white\", \"ticks\": \"\"}, \"bgcolor\": \"#E5ECF6\", \"radialaxis\": {\"gridcolor\": \"white\", \"linecolor\": \"white\", \"ticks\": \"\"}}, \"scene\": {\"xaxis\": {\"backgroundcolor\": \"#E5ECF6\", \"gridcolor\": \"white\", \"gridwidth\": 2, \"linecolor\": \"white\", \"showbackground\": true, \"ticks\": \"\", \"zerolinecolor\": \"white\"}, \"yaxis\": {\"backgroundcolor\": \"#E5ECF6\", \"gridcolor\": \"white\", \"gridwidth\": 2, \"linecolor\": \"white\", \"showbackground\": true, \"ticks\": \"\", \"zerolinecolor\": \"white\"}, \"zaxis\": {\"backgroundcolor\": \"#E5ECF6\", \"gridcolor\": \"white\", \"gridwidth\": 2, \"linecolor\": \"white\", \"showbackground\": true, \"ticks\": \"\", \"zerolinecolor\": \"white\"}}, \"shapedefaults\": {\"line\": {\"color\": \"#2a3f5f\"}}, \"ternary\": {\"aaxis\": {\"gridcolor\": \"white\", \"linecolor\": \"white\", \"ticks\": \"\"}, \"baxis\": {\"gridcolor\": \"white\", \"linecolor\": \"white\", \"ticks\": \"\"}, \"bgcolor\": \"#E5ECF6\", \"caxis\": {\"gridcolor\": \"white\", \"linecolor\": \"white\", \"ticks\": \"\"}}, \"title\": {\"x\": 0.05}, \"xaxis\": {\"automargin\": true, \"gridcolor\": \"white\", \"linecolor\": \"white\", \"ticks\": \"\", \"title\": {\"standoff\": 15}, \"zerolinecolor\": \"white\", \"zerolinewidth\": 2}, \"yaxis\": {\"automargin\": true, \"gridcolor\": \"white\", \"linecolor\": \"white\", \"ticks\": \"\", \"title\": {\"standoff\": 15}, \"zerolinecolor\": \"white\", \"zerolinewidth\": 2}}}, \"title\": {\"text\": \"Top 25 Words in Other Clauses\"}, \"xaxis\": {\"anchor\": \"y\", \"domain\": [0.0, 1.0], \"title\": {\"text\": \"Word\"}}, \"yaxis\": {\"anchor\": \"x\", \"domain\": [0.0, 1.0], \"title\": {\"text\": \"value\"}}},\n",
       "                        {\"responsive\": true}\n",
       "                    ).then(function(){\n",
       "                            \n",
       "var gd = document.getElementById('8371e050-dff8-4e57-98f1-225a1d9f5a1b');\n",
       "var x = new MutationObserver(function (mutations, observer) {{\n",
       "        var display = window.getComputedStyle(gd).display;\n",
       "        if (!display || display === 'none') {{\n",
       "            console.log([gd, 'removed!']);\n",
       "            Plotly.purge(gd);\n",
       "            observer.disconnect();\n",
       "        }}\n",
       "}});\n",
       "\n",
       "// Listen for the removal of the full notebook cells\n",
       "var notebookContainer = gd.closest('#notebook-container');\n",
       "if (notebookContainer) {{\n",
       "    x.observe(notebookContainer, {childList: true});\n",
       "}}\n",
       "\n",
       "// Listen for the clearing of the current output cell\n",
       "var outputEl = gd.closest('.output');\n",
       "if (outputEl) {{\n",
       "    x.observe(outputEl, {childList: true});\n",
       "}}\n",
       "\n",
       "                        })\n",
       "                };\n",
       "                });\n",
       "            </script>\n",
       "        </div>"
      ]
     },
     "metadata": {},
     "output_type": "display_data"
    }
   ],
   "source": [
    "vector_barplotter(other_clauses_only, \"Top 25 Words in Other Clauses\", \"Word\")"
   ]
  },
  {
   "cell_type": "markdown",
   "metadata": {},
   "source": [
    "**What are the top words in Automatic Renewal Clauses?**"
   ]
  },
  {
   "cell_type": "code",
   "execution_count": 18,
   "metadata": {},
   "outputs": [
    {
     "name": "stdout",
     "output_type": "stream",
     "text": [
      "Top 25 Words in Automatic Renewal Clauses\n"
     ]
    },
    {
     "name": "stderr",
     "output_type": "stream",
     "text": [
      "/Users/grahamlim/opt/anaconda3/lib/python3.7/site-packages/sklearn/feature_extraction/text.py:484: UserWarning:\n",
      "\n",
      "The parameter 'token_pattern' will not be used since 'tokenizer' is not None'\n",
      "\n"
     ]
    },
    {
     "data": {
      "image/png": "[encoded data removed]",
      "text/plain": [
       "<Figure size 432x288 with 1 Axes>"
      ]
     },
     "metadata": {
      "needs_background": "light"
     },
     "output_type": "display_data"
    }
   ],
   "source": [
    "vector_treemap_plotter(auto_renewals_only, \"Top 25 Words in Automatic Renewal Clauses\")"
   ]
  },
  {
   "cell_type": "markdown",
   "metadata": {},
   "source": [
    "**What are the top words in Renewal Option Clauses?**"
   ]
  },
  {
   "cell_type": "code",
   "execution_count": 19,
   "metadata": {},
   "outputs": [
    {
     "name": "stderr",
     "output_type": "stream",
     "text": [
      "/Users/grahamlim/opt/anaconda3/lib/python3.7/site-packages/sklearn/feature_extraction/text.py:484: UserWarning:\n",
      "\n",
      "The parameter 'token_pattern' will not be used since 'tokenizer' is not None'\n",
      "\n"
     ]
    },
    {
     "data": {
      "application/vnd.plotly.v1+json": {
       "config": {
        "plotlyServerURL": "https://plot.ly"
       },
       "data": [
        {
         "alignmentgroup": "True",
         "hovertemplate": "variable=0<br>Word=%{x}<br>value=%{y}<extra></extra>",
         "legendgroup": "0",
         "marker": {
          "color": "#636efa"
         },
         "name": "0",
         "offsetgroup": "0",
         "orientation": "v",
         "showlegend": true,
         "textposition": "auto",
         "type": "bar",
         "x": [
          "term",
          "lease",
          "renewal",
          "shall",
          "tenant",
          "option",
          "renewal option",
          "terms",
          "renewal term",
          "renew",
          "lessee",
          "tenant shall",
          "period",
          "landlord",
          "conditions",
          "year",
          "notice",
          "following",
          "terms conditions",
          "expiration",
          "option renew",
          "extend",
          "additional",
          "section",
          "years"
         ],
         "xaxis": "x",
         "y": [
          36.783268479823974,
          33.59067531273701,
          31.825126394009885,
          31.112898603272566,
          30.221192446306016,
          29.23241029964562,
          17.650827930214664,
          17.595773419557855,
          17.267222586932714,
          17.156697337236096,
          16.292667734864565,
          15.009870948122654,
          14.380294842085348,
          14.129268638832958,
          14.122309154732902,
          13.758330300932416,
          13.684792389474739,
          12.711783835989099,
          12.548538808880403,
          12.327685007543867,
          12.118394568514686,
          12.076974265908929,
          12.027132993078155,
          12.011589149406632,
          11.965863916386091
         ],
         "yaxis": "y"
        }
       ],
       "layout": {
        "barmode": "relative",
        "legend": {
         "title": {
          "text": "variable"
         },
         "tracegroupgap": 0
        },
        "template": {
         "data": {
          "bar": [
           {
            "error_x": {
             "color": "#2a3f5f"
            },
            "error_y": {
             "color": "#2a3f5f"
            },
            "marker": {
             "line": {
              "color": "#E5ECF6",
              "width": 0.5
             }
            },
            "type": "bar"
           }
          ],
          "barpolar": [
           {
            "marker": {
             "line": {
              "color": "#E5ECF6",
              "width": 0.5
             }
            },
            "type": "barpolar"
           }
          ],
          "carpet": [
           {
            "aaxis": {
             "endlinecolor": "#2a3f5f",
             "gridcolor": "white",
             "linecolor": "white",
             "minorgridcolor": "white",
             "startlinecolor": "#2a3f5f"
            },
            "baxis": {
             "endlinecolor": "#2a3f5f",
             "gridcolor": "white",
             "linecolor": "white",
             "minorgridcolor": "white",
             "startlinecolor": "#2a3f5f"
            },
            "type": "carpet"
           }
          ],
          "choropleth": [
           {
            "colorbar": {
             "outlinewidth": 0,
             "ticks": ""
            },
            "type": "choropleth"
           }
          ],
          "contour": [
           {
            "colorbar": {
             "outlinewidth": 0,
             "ticks": ""
            },
            "colorscale": [
             [
              0,
              "#0d0887"
             ],
             [
              0.1111111111111111,
              "#46039f"
             ],
             [
              0.2222222222222222,
              "#7201a8"
             ],
             [
              0.3333333333333333,
              "#9c179e"
             ],
             [
              0.4444444444444444,
              "#bd3786"
             ],
             [
              0.5555555555555556,
              "#d8576b"
             ],
             [
              0.6666666666666666,
              "#ed7953"
             ],
             [
              0.7777777777777778,
              "#fb9f3a"
             ],
             [
              0.8888888888888888,
              "#fdca26"
             ],
             [
              1,
              "#f0f921"
             ]
            ],
            "type": "contour"
           }
          ],
          "contourcarpet": [
           {
            "colorbar": {
             "outlinewidth": 0,
             "ticks": ""
            },
            "type": "contourcarpet"
           }
          ],
          "heatmap": [
           {
            "colorbar": {
             "outlinewidth": 0,
             "ticks": ""
            },
            "colorscale": [
             [
              0,
              "#0d0887"
             ],
             [
              0.1111111111111111,
              "#46039f"
             ],
             [
              0.2222222222222222,
              "#7201a8"
             ],
             [
              0.3333333333333333,
              "#9c179e"
             ],
             [
              0.4444444444444444,
              "#bd3786"
             ],
             [
              0.5555555555555556,
              "#d8576b"
             ],
             [
              0.6666666666666666,
              "#ed7953"
             ],
             [
              0.7777777777777778,
              "#fb9f3a"
             ],
             [
              0.8888888888888888,
              "#fdca26"
             ],
             [
              1,
              "#f0f921"
             ]
            ],
            "type": "heatmap"
           }
          ],
          "heatmapgl": [
           {
            "colorbar": {
             "outlinewidth": 0,
             "ticks": ""
            },
            "colorscale": [
             [
              0,
              "#0d0887"
             ],
             [
              0.1111111111111111,
              "#46039f"
             ],
             [
              0.2222222222222222,
              "#7201a8"
             ],
             [
              0.3333333333333333,
              "#9c179e"
             ],
             [
              0.4444444444444444,
              "#bd3786"
             ],
             [
              0.5555555555555556,
              "#d8576b"
             ],
             [
              0.6666666666666666,
              "#ed7953"
             ],
             [
              0.7777777777777778,
              "#fb9f3a"
             ],
             [
              0.8888888888888888,
              "#fdca26"
             ],
             [
              1,
              "#f0f921"
             ]
            ],
            "type": "heatmapgl"
           }
          ],
          "histogram": [
           {
            "marker": {
             "colorbar": {
              "outlinewidth": 0,
              "ticks": ""
             }
            },
            "type": "histogram"
           }
          ],
          "histogram2d": [
           {
            "colorbar": {
             "outlinewidth": 0,
             "ticks": ""
            },
            "colorscale": [
             [
              0,
              "#0d0887"
             ],
             [
              0.1111111111111111,
              "#46039f"
             ],
             [
              0.2222222222222222,
              "#7201a8"
             ],
             [
              0.3333333333333333,
              "#9c179e"
             ],
             [
              0.4444444444444444,
              "#bd3786"
             ],
             [
              0.5555555555555556,
              "#d8576b"
             ],
             [
              0.6666666666666666,
              "#ed7953"
             ],
             [
              0.7777777777777778,
              "#fb9f3a"
             ],
             [
              0.8888888888888888,
              "#fdca26"
             ],
             [
              1,
              "#f0f921"
             ]
            ],
            "type": "histogram2d"
           }
          ],
          "histogram2dcontour": [
           {
            "colorbar": {
             "outlinewidth": 0,
             "ticks": ""
            },
            "colorscale": [
             [
              0,
              "#0d0887"
             ],
             [
              0.1111111111111111,
              "#46039f"
             ],
             [
              0.2222222222222222,
              "#7201a8"
             ],
             [
              0.3333333333333333,
              "#9c179e"
             ],
             [
              0.4444444444444444,
              "#bd3786"
             ],
             [
              0.5555555555555556,
              "#d8576b"
             ],
             [
              0.6666666666666666,
              "#ed7953"
             ],
             [
              0.7777777777777778,
              "#fb9f3a"
             ],
             [
              0.8888888888888888,
              "#fdca26"
             ],
             [
              1,
              "#f0f921"
             ]
            ],
            "type": "histogram2dcontour"
           }
          ],
          "mesh3d": [
           {
            "colorbar": {
             "outlinewidth": 0,
             "ticks": ""
            },
            "type": "mesh3d"
           }
          ],
          "parcoords": [
           {
            "line": {
             "colorbar": {
              "outlinewidth": 0,
              "ticks": ""
             }
            },
            "type": "parcoords"
           }
          ],
          "pie": [
           {
            "automargin": true,
            "type": "pie"
           }
          ],
          "scatter": [
           {
            "marker": {
             "colorbar": {
              "outlinewidth": 0,
              "ticks": ""
             }
            },
            "type": "scatter"
           }
          ],
          "scatter3d": [
           {
            "line": {
             "colorbar": {
              "outlinewidth": 0,
              "ticks": ""
             }
            },
            "marker": {
             "colorbar": {
              "outlinewidth": 0,
              "ticks": ""
             }
            },
            "type": "scatter3d"
           }
          ],
          "scattercarpet": [
           {
            "marker": {
             "colorbar": {
              "outlinewidth": 0,
              "ticks": ""
             }
            },
            "type": "scattercarpet"
           }
          ],
          "scattergeo": [
           {
            "marker": {
             "colorbar": {
              "outlinewidth": 0,
              "ticks": ""
             }
            },
            "type": "scattergeo"
           }
          ],
          "scattergl": [
           {
            "marker": {
             "colorbar": {
              "outlinewidth": 0,
              "ticks": ""
             }
            },
            "type": "scattergl"
           }
          ],
          "scattermapbox": [
           {
            "marker": {
             "colorbar": {
              "outlinewidth": 0,
              "ticks": ""
             }
            },
            "type": "scattermapbox"
           }
          ],
          "scatterpolar": [
           {
            "marker": {
             "colorbar": {
              "outlinewidth": 0,
              "ticks": ""
             }
            },
            "type": "scatterpolar"
           }
          ],
          "scatterpolargl": [
           {
            "marker": {
             "colorbar": {
              "outlinewidth": 0,
              "ticks": ""
             }
            },
            "type": "scatterpolargl"
           }
          ],
          "scatterternary": [
           {
            "marker": {
             "colorbar": {
              "outlinewidth": 0,
              "ticks": ""
             }
            },
            "type": "scatterternary"
           }
          ],
          "surface": [
           {
            "colorbar": {
             "outlinewidth": 0,
             "ticks": ""
            },
            "colorscale": [
             [
              0,
              "#0d0887"
             ],
             [
              0.1111111111111111,
              "#46039f"
             ],
             [
              0.2222222222222222,
              "#7201a8"
             ],
             [
              0.3333333333333333,
              "#9c179e"
             ],
             [
              0.4444444444444444,
              "#bd3786"
             ],
             [
              0.5555555555555556,
              "#d8576b"
             ],
             [
              0.6666666666666666,
              "#ed7953"
             ],
             [
              0.7777777777777778,
              "#fb9f3a"
             ],
             [
              0.8888888888888888,
              "#fdca26"
             ],
             [
              1,
              "#f0f921"
             ]
            ],
            "type": "surface"
           }
          ],
          "table": [
           {
            "cells": {
             "fill": {
              "color": "#EBF0F8"
             },
             "line": {
              "color": "white"
             }
            },
            "header": {
             "fill": {
              "color": "#C8D4E3"
             },
             "line": {
              "color": "white"
             }
            },
            "type": "table"
           }
          ]
         },
         "layout": {
          "annotationdefaults": {
           "arrowcolor": "#2a3f5f",
           "arrowhead": 0,
           "arrowwidth": 1
          },
          "coloraxis": {
           "colorbar": {
            "outlinewidth": 0,
            "ticks": ""
           }
          },
          "colorscale": {
           "diverging": [
            [
             0,
             "#8e0152"
            ],
            [
             0.1,
             "#c51b7d"
            ],
            [
             0.2,
             "#de77ae"
            ],
            [
             0.3,
             "#f1b6da"
            ],
            [
             0.4,
             "#fde0ef"
            ],
            [
             0.5,
             "#f7f7f7"
            ],
            [
             0.6,
             "#e6f5d0"
            ],
            [
             0.7,
             "#b8e186"
            ],
            [
             0.8,
             "#7fbc41"
            ],
            [
             0.9,
             "#4d9221"
            ],
            [
             1,
             "#276419"
            ]
           ],
           "sequential": [
            [
             0,
             "#0d0887"
            ],
            [
             0.1111111111111111,
             "#46039f"
            ],
            [
             0.2222222222222222,
             "#7201a8"
            ],
            [
             0.3333333333333333,
             "#9c179e"
            ],
            [
             0.4444444444444444,
             "#bd3786"
            ],
            [
             0.5555555555555556,
             "#d8576b"
            ],
            [
             0.6666666666666666,
             "#ed7953"
            ],
            [
             0.7777777777777778,
             "#fb9f3a"
            ],
            [
             0.8888888888888888,
             "#fdca26"
            ],
            [
             1,
             "#f0f921"
            ]
           ],
           "sequentialminus": [
            [
             0,
             "#0d0887"
            ],
            [
             0.1111111111111111,
             "#46039f"
            ],
            [
             0.2222222222222222,
             "#7201a8"
            ],
            [
             0.3333333333333333,
             "#9c179e"
            ],
            [
             0.4444444444444444,
             "#bd3786"
            ],
            [
             0.5555555555555556,
             "#d8576b"
            ],
            [
             0.6666666666666666,
             "#ed7953"
            ],
            [
             0.7777777777777778,
             "#fb9f3a"
            ],
            [
             0.8888888888888888,
             "#fdca26"
            ],
            [
             1,
             "#f0f921"
            ]
           ]
          },
          "colorway": [
           "#636efa",
           "#EF553B",
           "#00cc96",
           "#ab63fa",
           "#FFA15A",
           "#19d3f3",
           "#FF6692",
           "#B6E880",
           "#FF97FF",
           "#FECB52"
          ],
          "font": {
           "color": "#2a3f5f"
          },
          "geo": {
           "bgcolor": "white",
           "lakecolor": "white",
           "landcolor": "#E5ECF6",
           "showlakes": true,
           "showland": true,
           "subunitcolor": "white"
          },
          "hoverlabel": {
           "align": "left"
          },
          "hovermode": "closest",
          "mapbox": {
           "style": "light"
          },
          "paper_bgcolor": "white",
          "plot_bgcolor": "#E5ECF6",
          "polar": {
           "angularaxis": {
            "gridcolor": "white",
            "linecolor": "white",
            "ticks": ""
           },
           "bgcolor": "#E5ECF6",
           "radialaxis": {
            "gridcolor": "white",
            "linecolor": "white",
            "ticks": ""
           }
          },
          "scene": {
           "xaxis": {
            "backgroundcolor": "#E5ECF6",
            "gridcolor": "white",
            "gridwidth": 2,
            "linecolor": "white",
            "showbackground": true,
            "ticks": "",
            "zerolinecolor": "white"
           },
           "yaxis": {
            "backgroundcolor": "#E5ECF6",
            "gridcolor": "white",
            "gridwidth": 2,
            "linecolor": "white",
            "showbackground": true,
            "ticks": "",
            "zerolinecolor": "white"
           },
           "zaxis": {
            "backgroundcolor": "#E5ECF6",
            "gridcolor": "white",
            "gridwidth": 2,
            "linecolor": "white",
            "showbackground": true,
            "ticks": "",
            "zerolinecolor": "white"
           }
          },
          "shapedefaults": {
           "line": {
            "color": "#2a3f5f"
           }
          },
          "ternary": {
           "aaxis": {
            "gridcolor": "white",
            "linecolor": "white",
            "ticks": ""
           },
           "baxis": {
            "gridcolor": "white",
            "linecolor": "white",
            "ticks": ""
           },
           "bgcolor": "#E5ECF6",
           "caxis": {
            "gridcolor": "white",
            "linecolor": "white",
            "ticks": ""
           }
          },
          "title": {
           "x": 0.05
          },
          "xaxis": {
           "automargin": true,
           "gridcolor": "white",
           "linecolor": "white",
           "ticks": "",
           "title": {
            "standoff": 15
           },
           "zerolinecolor": "white",
           "zerolinewidth": 2
          },
          "yaxis": {
           "automargin": true,
           "gridcolor": "white",
           "linecolor": "white",
           "ticks": "",
           "title": {
            "standoff": 15
           },
           "zerolinecolor": "white",
           "zerolinewidth": 2
          }
         }
        },
        "title": {
         "text": "Top 25 Words in Renewal Option Clauses"
        },
        "xaxis": {
         "anchor": "y",
         "domain": [
          0,
          1
         ],
         "title": {
          "text": "Word"
         }
        },
        "yaxis": {
         "anchor": "x",
         "domain": [
          0,
          1
         ],
         "title": {
          "text": "value"
         }
        }
       }
      },
      "text/html": [
       "<div>\n",
       "        \n",
       "        \n",
       "            <div id=\"4b634344-73df-48f9-ba8b-e181a524e950\" class=\"plotly-graph-div\" style=\"height:525px; width:100%;\"></div>\n",
       "            <script type=\"text/javascript\">\n",
       "                require([\"plotly\"], function(Plotly) {\n",
       "                    window.PLOTLYENV=window.PLOTLYENV || {};\n",
       "                    \n",
       "                if (document.getElementById(\"4b634344-73df-48f9-ba8b-e181a524e950\")) {\n",
       "                    Plotly.newPlot(\n",
       "                        '4b634344-73df-48f9-ba8b-e181a524e950',\n",
       "                        [{\"alignmentgroup\": \"True\", \"hovertemplate\": \"variable=0<br>Word=%{x}<br>value=%{y}<extra></extra>\", \"legendgroup\": \"0\", \"marker\": {\"color\": \"#636efa\"}, \"name\": \"0\", \"offsetgroup\": \"0\", \"orientation\": \"v\", \"showlegend\": true, \"textposition\": \"auto\", \"type\": \"bar\", \"x\": [\"term\", \"lease\", \"renewal\", \"shall\", \"tenant\", \"option\", \"renewal option\", \"terms\", \"renewal term\", \"renew\", \"lessee\", \"tenant shall\", \"period\", \"landlord\", \"conditions\", \"year\", \"notice\", \"following\", \"terms conditions\", \"expiration\", \"option renew\", \"extend\", \"additional\", \"section\", \"years\"], \"xaxis\": \"x\", \"y\": [36.783268479823974, 33.59067531273701, 31.825126394009885, 31.112898603272566, 30.221192446306016, 29.23241029964562, 17.650827930214664, 17.595773419557855, 17.267222586932714, 17.156697337236096, 16.292667734864565, 15.009870948122654, 14.380294842085348, 14.129268638832958, 14.122309154732902, 13.758330300932416, 13.684792389474739, 12.711783835989099, 12.548538808880403, 12.327685007543867, 12.118394568514686, 12.076974265908929, 12.027132993078155, 12.011589149406632, 11.965863916386091], \"yaxis\": \"y\"}],\n",
       "                        {\"barmode\": \"relative\", \"legend\": {\"title\": {\"text\": \"variable\"}, \"tracegroupgap\": 0}, \"template\": {\"data\": {\"bar\": [{\"error_x\": {\"color\": \"#2a3f5f\"}, \"error_y\": {\"color\": \"#2a3f5f\"}, \"marker\": {\"line\": {\"color\": \"#E5ECF6\", \"width\": 0.5}}, \"type\": \"bar\"}], \"barpolar\": [{\"marker\": {\"line\": {\"color\": \"#E5ECF6\", \"width\": 0.5}}, \"type\": \"barpolar\"}], \"carpet\": [{\"aaxis\": {\"endlinecolor\": \"#2a3f5f\", \"gridcolor\": \"white\", \"linecolor\": \"white\", \"minorgridcolor\": \"white\", \"startlinecolor\": \"#2a3f5f\"}, \"baxis\": {\"endlinecolor\": \"#2a3f5f\", \"gridcolor\": \"white\", \"linecolor\": \"white\", \"minorgridcolor\": \"white\", \"startlinecolor\": \"#2a3f5f\"}, \"type\": \"carpet\"}], \"choropleth\": [{\"colorbar\": {\"outlinewidth\": 0, \"ticks\": \"\"}, \"type\": \"choropleth\"}], \"contour\": [{\"colorbar\": {\"outlinewidth\": 0, \"ticks\": \"\"}, \"colorscale\": [[0.0, \"#0d0887\"], [0.1111111111111111, \"#46039f\"], [0.2222222222222222, \"#7201a8\"], [0.3333333333333333, \"#9c179e\"], [0.4444444444444444, \"#bd3786\"], [0.5555555555555556, \"#d8576b\"], [0.6666666666666666, \"#ed7953\"], [0.7777777777777778, \"#fb9f3a\"], [0.8888888888888888, \"#fdca26\"], [1.0, \"#f0f921\"]], \"type\": \"contour\"}], \"contourcarpet\": [{\"colorbar\": {\"outlinewidth\": 0, \"ticks\": \"\"}, \"type\": \"contourcarpet\"}], \"heatmap\": [{\"colorbar\": {\"outlinewidth\": 0, \"ticks\": \"\"}, \"colorscale\": [[0.0, \"#0d0887\"], [0.1111111111111111, \"#46039f\"], [0.2222222222222222, \"#7201a8\"], [0.3333333333333333, \"#9c179e\"], [0.4444444444444444, \"#bd3786\"], [0.5555555555555556, \"#d8576b\"], [0.6666666666666666, \"#ed7953\"], [0.7777777777777778, \"#fb9f3a\"], [0.8888888888888888, \"#fdca26\"], [1.0, \"#f0f921\"]], \"type\": \"heatmap\"}], \"heatmapgl\": [{\"colorbar\": {\"outlinewidth\": 0, \"ticks\": \"\"}, \"colorscale\": [[0.0, \"#0d0887\"], [0.1111111111111111, \"#46039f\"], [0.2222222222222222, \"#7201a8\"], [0.3333333333333333, \"#9c179e\"], [0.4444444444444444, \"#bd3786\"], [0.5555555555555556, \"#d8576b\"], [0.6666666666666666, \"#ed7953\"], [0.7777777777777778, \"#fb9f3a\"], [0.8888888888888888, \"#fdca26\"], [1.0, \"#f0f921\"]], \"type\": \"heatmapgl\"}], \"histogram\": [{\"marker\": {\"colorbar\": {\"outlinewidth\": 0, \"ticks\": \"\"}}, \"type\": \"histogram\"}], \"histogram2d\": [{\"colorbar\": {\"outlinewidth\": 0, \"ticks\": \"\"}, \"colorscale\": [[0.0, \"#0d0887\"], [0.1111111111111111, \"#46039f\"], [0.2222222222222222, \"#7201a8\"], [0.3333333333333333, \"#9c179e\"], [0.4444444444444444, \"#bd3786\"], [0.5555555555555556, \"#d8576b\"], [0.6666666666666666, \"#ed7953\"], [0.7777777777777778, \"#fb9f3a\"], [0.8888888888888888, \"#fdca26\"], [1.0, \"#f0f921\"]], \"type\": \"histogram2d\"}], \"histogram2dcontour\": [{\"colorbar\": {\"outlinewidth\": 0, \"ticks\": \"\"}, \"colorscale\": [[0.0, \"#0d0887\"], [0.1111111111111111, \"#46039f\"], [0.2222222222222222, \"#7201a8\"], [0.3333333333333333, \"#9c179e\"], [0.4444444444444444, \"#bd3786\"], [0.5555555555555556, \"#d8576b\"], [0.6666666666666666, \"#ed7953\"], [0.7777777777777778, \"#fb9f3a\"], [0.8888888888888888, \"#fdca26\"], [1.0, \"#f0f921\"]], \"type\": \"histogram2dcontour\"}], \"mesh3d\": [{\"colorbar\": {\"outlinewidth\": 0, \"ticks\": \"\"}, \"type\": \"mesh3d\"}], \"parcoords\": [{\"line\": {\"colorbar\": {\"outlinewidth\": 0, \"ticks\": \"\"}}, \"type\": \"parcoords\"}], \"pie\": [{\"automargin\": true, \"type\": \"pie\"}], \"scatter\": [{\"marker\": {\"colorbar\": {\"outlinewidth\": 0, \"ticks\": \"\"}}, \"type\": \"scatter\"}], \"scatter3d\": [{\"line\": {\"colorbar\": {\"outlinewidth\": 0, \"ticks\": \"\"}}, \"marker\": {\"colorbar\": {\"outlinewidth\": 0, \"ticks\": \"\"}}, \"type\": \"scatter3d\"}], \"scattercarpet\": [{\"marker\": {\"colorbar\": {\"outlinewidth\": 0, \"ticks\": \"\"}}, \"type\": \"scattercarpet\"}], \"scattergeo\": [{\"marker\": {\"colorbar\": {\"outlinewidth\": 0, \"ticks\": \"\"}}, \"type\": \"scattergeo\"}], \"scattergl\": [{\"marker\": {\"colorbar\": {\"outlinewidth\": 0, \"ticks\": \"\"}}, \"type\": \"scattergl\"}], \"scattermapbox\": [{\"marker\": {\"colorbar\": {\"outlinewidth\": 0, \"ticks\": \"\"}}, \"type\": \"scattermapbox\"}], \"scatterpolar\": [{\"marker\": {\"colorbar\": {\"outlinewidth\": 0, \"ticks\": \"\"}}, \"type\": \"scatterpolar\"}], \"scatterpolargl\": [{\"marker\": {\"colorbar\": {\"outlinewidth\": 0, \"ticks\": \"\"}}, \"type\": \"scatterpolargl\"}], \"scatterternary\": [{\"marker\": {\"colorbar\": {\"outlinewidth\": 0, \"ticks\": \"\"}}, \"type\": \"scatterternary\"}], \"surface\": [{\"colorbar\": {\"outlinewidth\": 0, \"ticks\": \"\"}, \"colorscale\": [[0.0, \"#0d0887\"], [0.1111111111111111, \"#46039f\"], [0.2222222222222222, \"#7201a8\"], [0.3333333333333333, \"#9c179e\"], [0.4444444444444444, \"#bd3786\"], [0.5555555555555556, \"#d8576b\"], [0.6666666666666666, \"#ed7953\"], [0.7777777777777778, \"#fb9f3a\"], [0.8888888888888888, \"#fdca26\"], [1.0, \"#f0f921\"]], \"type\": \"surface\"}], \"table\": [{\"cells\": {\"fill\": {\"color\": \"#EBF0F8\"}, \"line\": {\"color\": \"white\"}}, \"header\": {\"fill\": {\"color\": \"#C8D4E3\"}, \"line\": {\"color\": \"white\"}}, \"type\": \"table\"}]}, \"layout\": {\"annotationdefaults\": {\"arrowcolor\": \"#2a3f5f\", \"arrowhead\": 0, \"arrowwidth\": 1}, \"coloraxis\": {\"colorbar\": {\"outlinewidth\": 0, \"ticks\": \"\"}}, \"colorscale\": {\"diverging\": [[0, \"#8e0152\"], [0.1, \"#c51b7d\"], [0.2, \"#de77ae\"], [0.3, \"#f1b6da\"], [0.4, \"#fde0ef\"], [0.5, \"#f7f7f7\"], [0.6, \"#e6f5d0\"], [0.7, \"#b8e186\"], [0.8, \"#7fbc41\"], [0.9, \"#4d9221\"], [1, \"#276419\"]], \"sequential\": [[0.0, \"#0d0887\"], [0.1111111111111111, \"#46039f\"], [0.2222222222222222, \"#7201a8\"], [0.3333333333333333, \"#9c179e\"], [0.4444444444444444, \"#bd3786\"], [0.5555555555555556, \"#d8576b\"], [0.6666666666666666, \"#ed7953\"], [0.7777777777777778, \"#fb9f3a\"], [0.8888888888888888, \"#fdca26\"], [1.0, \"#f0f921\"]], \"sequentialminus\": [[0.0, \"#0d0887\"], [0.1111111111111111, \"#46039f\"], [0.2222222222222222, \"#7201a8\"], [0.3333333333333333, \"#9c179e\"], [0.4444444444444444, \"#bd3786\"], [0.5555555555555556, \"#d8576b\"], [0.6666666666666666, \"#ed7953\"], [0.7777777777777778, \"#fb9f3a\"], [0.8888888888888888, \"#fdca26\"], [1.0, \"#f0f921\"]]}, \"colorway\": [\"#636efa\", \"#EF553B\", \"#00cc96\", \"#ab63fa\", \"#FFA15A\", \"#19d3f3\", \"#FF6692\", \"#B6E880\", \"#FF97FF\", \"#FECB52\"], \"font\": {\"color\": \"#2a3f5f\"}, \"geo\": {\"bgcolor\": \"white\", \"lakecolor\": \"white\", \"landcolor\": \"#E5ECF6\", \"showlakes\": true, \"showland\": true, \"subunitcolor\": \"white\"}, \"hoverlabel\": {\"align\": \"left\"}, \"hovermode\": \"closest\", \"mapbox\": {\"style\": \"light\"}, \"paper_bgcolor\": \"white\", \"plot_bgcolor\": \"#E5ECF6\", \"polar\": {\"angularaxis\": {\"gridcolor\": \"white\", \"linecolor\": \"white\", \"ticks\": \"\"}, \"bgcolor\": \"#E5ECF6\", \"radialaxis\": {\"gridcolor\": \"white\", \"linecolor\": \"white\", \"ticks\": \"\"}}, \"scene\": {\"xaxis\": {\"backgroundcolor\": \"#E5ECF6\", \"gridcolor\": \"white\", \"gridwidth\": 2, \"linecolor\": \"white\", \"showbackground\": true, \"ticks\": \"\", \"zerolinecolor\": \"white\"}, \"yaxis\": {\"backgroundcolor\": \"#E5ECF6\", \"gridcolor\": \"white\", \"gridwidth\": 2, \"linecolor\": \"white\", \"showbackground\": true, \"ticks\": \"\", \"zerolinecolor\": \"white\"}, \"zaxis\": {\"backgroundcolor\": \"#E5ECF6\", \"gridcolor\": \"white\", \"gridwidth\": 2, \"linecolor\": \"white\", \"showbackground\": true, \"ticks\": \"\", \"zerolinecolor\": \"white\"}}, \"shapedefaults\": {\"line\": {\"color\": \"#2a3f5f\"}}, \"ternary\": {\"aaxis\": {\"gridcolor\": \"white\", \"linecolor\": \"white\", \"ticks\": \"\"}, \"baxis\": {\"gridcolor\": \"white\", \"linecolor\": \"white\", \"ticks\": \"\"}, \"bgcolor\": \"#E5ECF6\", \"caxis\": {\"gridcolor\": \"white\", \"linecolor\": \"white\", \"ticks\": \"\"}}, \"title\": {\"x\": 0.05}, \"xaxis\": {\"automargin\": true, \"gridcolor\": \"white\", \"linecolor\": \"white\", \"ticks\": \"\", \"title\": {\"standoff\": 15}, \"zerolinecolor\": \"white\", \"zerolinewidth\": 2}, \"yaxis\": {\"automargin\": true, \"gridcolor\": \"white\", \"linecolor\": \"white\", \"ticks\": \"\", \"title\": {\"standoff\": 15}, \"zerolinecolor\": \"white\", \"zerolinewidth\": 2}}}, \"title\": {\"text\": \"Top 25 Words in Renewal Option Clauses\"}, \"xaxis\": {\"anchor\": \"y\", \"domain\": [0.0, 1.0], \"title\": {\"text\": \"Word\"}}, \"yaxis\": {\"anchor\": \"x\", \"domain\": [0.0, 1.0], \"title\": {\"text\": \"value\"}}},\n",
       "                        {\"responsive\": true}\n",
       "                    ).then(function(){\n",
       "                            \n",
       "var gd = document.getElementById('4b634344-73df-48f9-ba8b-e181a524e950');\n",
       "var x = new MutationObserver(function (mutations, observer) {{\n",
       "        var display = window.getComputedStyle(gd).display;\n",
       "        if (!display || display === 'none') {{\n",
       "            console.log([gd, 'removed!']);\n",
       "            Plotly.purge(gd);\n",
       "            observer.disconnect();\n",
       "        }}\n",
       "}});\n",
       "\n",
       "// Listen for the removal of the full notebook cells\n",
       "var notebookContainer = gd.closest('#notebook-container');\n",
       "if (notebookContainer) {{\n",
       "    x.observe(notebookContainer, {childList: true});\n",
       "}}\n",
       "\n",
       "// Listen for the clearing of the current output cell\n",
       "var outputEl = gd.closest('.output');\n",
       "if (outputEl) {{\n",
       "    x.observe(outputEl, {childList: true});\n",
       "}}\n",
       "\n",
       "                        })\n",
       "                };\n",
       "                });\n",
       "            </script>\n",
       "        </div>"
      ]
     },
     "metadata": {},
     "output_type": "display_data"
    }
   ],
   "source": [
    "vector_barplotter(renewal_options_only, \"Top 25 Words in Renewal Option Clauses\", \"Word\")"
   ]
  },
  {
   "cell_type": "markdown",
   "metadata": {},
   "source": [
    "### Interpretation"
   ]
  },
  {
   "cell_type": "markdown",
   "metadata": {},
   "source": [
    "1. **Other Clauses**: Recalling that other clauses comprise every other type of common contract clause apart from renewals, the first bar graph is really a general visualization of  what specific words tend to pop up in most agreements. We can interpret top words we see that our top keywords are \"shall\", \"agreement\", \"company\", \"party\" and \"term\". \n",
    "\n",
    "    These aren't very helpful and generally just show that contracts will have language designed to compel parties (including companies) to do something in an agreement for a period of time. \n",
    "    \n",
    "    What's a little more illuminating is that we see other top keywords that include \"product\", \"service\", and \"license\", which does remind us that contracts can be for transactions both tangible and intangible property.\n",
    "    \n",
    "    'Damage' also appears as one of our top words. That's important because it demonstrates a very important concept in contracts: liability and compensation. When things go south and parties lose something because of e.g. another party's negligence or failure to perform the contract properly, the party at loss is usually entitled to monetary compensation i.e. damages.\n",
    "    \n",
    "    \n",
    "2. **Automatic Renewal Clauses**: We see specific top keywords in the Treemap. Words that are situated in darker blue and wider rectangles indicate more frequently used words. \n",
    "\n",
    "    Unsurprisingly, \"automatically renew\" and \"automatically\" are common words/bigrams used in these clauses, as is the bigram \"write notice\". Written notice is an important concept in contract. In the case of automatically renewing contracts, this doesn't force companies who don't want to renew to actually renew; the parties are free to provide written notice usually within a specific period to express their intention to stop further renewals.\n",
    "    \n",
    "3. **Renewal Option Clauses**: Unlike automatic renewal clauses, renewal options by definition don't let contracts renew without requirements being satisfied first. This is why \"condition\" is a top word, as are bigrams that use the word \"option\" e.g. \"renewal option\". \n",
    "\n",
    "    There are also many words that are to do with leases e.g. \"lease\", \"tenant\", \"landlord\", \"lessee\". This reflects the fact that some of the most commonly found renewal option clauses are in tenancy leases, at least from scraping `LawInsider.com`. "
   ]
  },
  {
   "cell_type": "markdown",
   "metadata": {},
   "source": [
    "## Topic Modelling as \"Bag of Words\" EDA: Insights\n",
    "By using Topic Modelling, can we discern any topics/subjects that distinctly cluster within our contract clause data?\n",
    "* According to Li, Topic Modelling is \"statistical modeling for discovering the abstract 'topics' that occur in a collection of documents. Latent Dirichlet Allocation (LDA) is an example of topic model and is used to classify text in a document to a particular topic.\" \n",
    "\n",
    "    (Source: https://towardsdatascience.com/topic-modeling-and-latent-dirichlet-allocation-in-python-9bf156893c24#:~:text=Topic%20modeling%20is%20a%20type,document%20to%20a%20particular%20topic.)\n",
    "    \n",
    "    \n",
    "* In summary, how LDA works is it assumes that 1 document is mostly about 1 topic, so the words in that document will be about one topic, and there won't be very many other topics in one document. That's known as a Dirichlet distribution.\n",
    "\n",
    "\n",
    "* An LDA model will then guess what words go in what topics by comparing words with guessed topics. If the words don't fit in the topic distribution, it changes the topic the word is in. It keeps doing this until fewer and fewer words have to have their topic label changed. It therefore has similarity with clustering:\n",
    "\n",
    "    (Source: https://medium.com/@lettier/how-does-lda-work-ill-explain-using-emoji-108abf40fa7d#:~:text=Why%20use%20LDA%3F,cluster%20(hard-clustering).)"
   ]
  },
  {
   "cell_type": "code",
   "execution_count": 20,
   "metadata": {},
   "outputs": [],
   "source": [
    "#we first create an object that comprises the array of all our clause text\n",
    "clause_text = df[\"clause_text\"]"
   ]
  },
  {
   "cell_type": "code",
   "execution_count": 21,
   "metadata": {},
   "outputs": [],
   "source": [
    "#we instantiate another vectorizer this time using CountVectorizer for LDA.\n",
    "vectorizer_lda = CountVectorizer(tokenizer=spacy_tokenizer, ngram_range=(1,2))"
   ]
  },
  {
   "cell_type": "code",
   "execution_count": 22,
   "metadata": {},
   "outputs": [],
   "source": [
    "#we then fit the vectorizer onto our clause text\n",
    "dtm=vectorizer_lda.fit_transform(clause_text)"
   ]
  },
  {
   "cell_type": "code",
   "execution_count": 23,
   "metadata": {},
   "outputs": [
    {
     "data": {
      "text/plain": [
       "array([[7.93652017e-04, 7.93651444e-04, 7.93651667e-04, ...,\n",
       "        1.11166701e-01, 1.84875555e-01, 8.44119826e-02],\n",
       "       [1.51515241e-03, 1.51515188e-03, 1.51515216e-03, ...,\n",
       "        1.51515205e-03, 3.94951809e-01, 1.51515218e-03],\n",
       "       [4.50450975e-04, 4.50450660e-04, 4.50451141e-04, ...,\n",
       "        5.14085577e-02, 7.53262440e-01, 4.50450879e-04],\n",
       "       ...,\n",
       "       [2.77778679e-03, 2.77778548e-03, 2.77778677e-03, ...,\n",
       "        2.77778225e-03, 2.77778260e-03, 2.77778150e-03],\n",
       "       [4.30108203e-01, 1.44927590e-03, 1.44927631e-03, ...,\n",
       "        1.44927699e-03, 1.44927704e-03, 1.44927948e-03],\n",
       "       [7.09220633e-04, 7.09220583e-04, 7.09220944e-04, ...,\n",
       "        7.09221198e-04, 7.52571302e-01, 7.09221056e-04]])"
      ]
     },
     "execution_count": 23,
     "metadata": {},
     "output_type": "execute_result"
    }
   ],
   "source": [
    "#we now instantiate the Latent Dirichlet Allocation machine learning algo from sklearn\n",
    "#this lets us do topic modelling when we fit it. \n",
    "\n",
    "#We pick the number of topics \"n_components\" to be 15 because we scraped 15 different clause types \n",
    "lda=LatentDirichletAllocation(n_components=15)\n",
    "lda.fit_transform(dtm)"
   ]
  },
  {
   "cell_type": "code",
   "execution_count": 24,
   "metadata": {},
   "outputs": [],
   "source": [
    "#we then utilize our pyLDAvis visualization library that lets us open up an interactive chart here in Jupyter.\n",
    "#to do this we instantiate the pyLDAvis object as well as enable the settings to run with Jupyter like so:\n",
    "from __future__ import  print_function\n",
    "pyLDAvis.enable_notebook()\n",
    "zit=pyLDAvis.sklearn.prepare(lda,dtm,vectorizer_lda)\n",
    "viz = pyLDAvis.display(zit)"
   ]
  },
  {
   "cell_type": "markdown",
   "metadata": {},
   "source": [
    "**What are the distinct topics or subjects that can be discerned from our corpora of contract clauses?**"
   ]
  },
  {
   "cell_type": "code",
   "execution_count": 25,
   "metadata": {},
   "outputs": [
    {
     "data": {
      "text/html": [
       "\n",
       "<link rel=\"stylesheet\" type=\"text/css\" href=\"https://cdn.rawgit.com/bmabey/pyLDAvis/files/ldavis.v1.0.0.css\">\n",
       "\n",
       "\n",
       "<div id=\"ldavis_el730621401813245332003148221425\"></div>\n",
       "<script type=\"text/javascript\">\n",
       "\n",
       "var ldavis_el730621401813245332003148221425_data = {\"mdsDat\": {\"x\": [-0.20723458641948603, -0.16229660148608288, 0.07417885341316989, -0.04060567646499114, -0.14507110315500127, 0.08101251508054036, -0.08534968013424868, 0.06928192975955944, 0.06896822389843273, 0.03573417896780808, -0.008089244797130158, 0.08498421529531257, 0.015088441310223898, 0.12714048688587887, 0.0922580478460147], \"y\": [0.03129512093348942, 0.020040996817446616, -0.10125541506483228, -0.05265057280967814, -0.07750565664024726, -0.17725610783577872, 0.023760973347504457, -0.1447220628762661, 0.09327089159944961, -0.03651996240096387, 0.04809303921958902, 0.056341827288785236, 0.15055154157527367, 0.08936741566944524, 0.07718797117678254], \"topics\": [1, 2, 3, 4, 5, 6, 7, 8, 9, 10, 11, 12, 13, 14, 15], \"cluster\": [1, 1, 1, 1, 1, 1, 1, 1, 1, 1, 1, 1, 1, 1, 1], \"Freq\": [16.104499443154108, 11.658397087045199, 9.718071522479994, 9.69789335695551, 8.35387928552035, 7.865889473054752, 7.585670387693454, 7.158643504819316, 4.946036807638659, 4.9140483349867035, 3.4260764849757757, 3.078211524326776, 2.1903525259200434, 1.7285458371582536, 1.5737844242711199]}, \"tinfo\": {\"Term\": [\"party\", \"company\", \"tenant\", \"information\", \"lease\", \"agreement\", \"rights\", \"renewal\", \"terms\", \"shall\", \"term\", \"executive\", \"invoice\", \"payment\", \"landlord\", \"meanings\", \"lender\", \"damages\", \"licenses\", \"proprietary\", \"confidential\", \"material\", \"trust\", \"software\", \"laws\", \"option\", \"following\", \"agent\", \"proprietary rights\", \"governmental\", \"lenders\", \"agent lender\", \"lender\", \"assignee participant\", \"issuing bank\", \"maintain confidentiality\", \"obligations losses\", \"confidential nature\", \"expenses disbursements\", \"lender shall\", \"actions judgments\", \"penalties actions\", \"publicly available\", \"administrative agent\", \"judgments suits\", \"agent issuing\", \"suits costs\", \"lender s\", \"connection exercise\", \"extent information\", \"agreement loan\", \"incurred asserted\", \"nature information\", \"informed confidential\", \"agent lenders\", \"information publicly\", \"prior disclosure\", \"information received\", \"subpoena\", \"enforcement rights\", \"advisors\", \"damages penalties\", \"accountants\", \"confidentiality information\", \"loan document\", \"loan documents\", \"agent\", \"administrative\", \"prospective\", \"disbursements\", \"information confidential\", \"information\", \"confidential\", \"disclose\", \"counsel\", \"issuing\", \"disclosure\", \"publicly\", \"borrower\", \"loan\", \"confidential information\", \"confidentiality\", \"public\", \"indemnified\", \"participant\", \"connection\", \"assignee\", \"extent\", \"agents\", \"legal\", \"required\", \"affiliates\", \"disclosed\", \"documents\", \"party\", \"contemplated\", \"bank\", \"agreement\", \"employees\", \"obligations\", \"expenses\", \"shall\", \"section\", \"person\", \"agrees\", \"provided\", \"including\", \"s\", \"hereunder\", \"parties\", \"infringing\", \"infringed\", \"employee company\", \"names copyrights\", \"patent applications\", \"use proprietary\", \"indemnify executive\", \"registrations applications\", \"rights listed\", \"infringement misappropriation\", \"infringes conflicts\", \"patents patent\", \"manager officer\", \"member manager\", \"marks trade\", \"proceeding civil\", \"duties reckless\", \"valid enforceable\", \"infringes\", \"rights owned\", \"trade service\", \"company member\", \"fiduciary duty\", \"asset representations\", \"reviewer\", \"representations reviewer\", \"misappropriated\", \"technology know\", \"domain names\", \"rights person\", \"employee shall\", \"proprietary rights\", \"service mark\", \"trade names\", \"unregistered\", \"collectively proprietary\", \"respect proprietary\", \"misappropriation\", \"service marks\", \"proprietary\", \"employee s\", \"employee\", \"trademarks service\", \"names\", \"patent\", \"infringe\", \"trademark\", \"applications\", \"trade\", \"copyrights\", \"infringement\", \"patents\", \"rights\", \"trademarks\", \"director\", \"marks\", \"member\", \"action suit\", \"director officer\", \"company\", \"intellectual\", \"intellectual property\", \"conflict\", \"knowledge\", \"executive\", \"secrets\", \"trade secrets\", \"officer\", \"property\", \"person\", \"business\", \"claim\", \"schedule\", \"s\", \"use\", \"respect\", \"service\", \"shall\", \"right\", \"agreement\", \"including\", \"liability\", \"party\", \"subsidiaries\", \"seller\", \"information\", \"tenant\", \"landlord\", \"renewal term\", \"tenant shall\", \"renewal option\", \"rental\", \"tenant s\", \"term lease\", \"renew lease\", \"option renew\", \"landlord s\", \"lease shall\", \"lease term\", \"landlord tenant\", \"rental rate\", \"term renewal\", \"landlord shall\", \"exercise renewal\", \"option extend\", \"lease additional\", \"base rent\", \"initial term\", \"provided tenant\", \"extended term\", \"option shall\", \"renewal period\", \"tenant default\", \"market rental\", \"lease tenant\", \"notice landlord\", \"lease\", \"renewal\", \"renew\", \"rent\", \"premises\", \"extend term\", \"term shall\", \"prior expiration\", \"option\", \"shall option\", \"term\", \"building\", \"lessee\", \"expiration\", \"year\", \"extend\", \"years\", \"notice\", \"additional\", \"written notice\", \"shall\", \"initial\", \"period\", \"conditions\", \"exercise\", \"terms\", \"date\", \"s\", \"prior\", \"days\", \"provided\", \"written\", \"terms conditions\", \"section\", \"punitive\", \"incidental consequential\", \"lost profits\", \"advised possibility\", \"possibility damages\", \"exemplary\", \"indirect incidental\", \"consequential damages\", \"strict liability\", \"special consequential\", \"liable party\", \"special incidental\", \"indirect special\", \"party advised\", \"tort including\", \"special indirect\", \"theory liability\", \"loss profits\", \"liable special\", \"including negligence\", \"negligence strict\", \"automatically renew\", \"consequential punitive\", \"punitive exemplary\", \"special punitive\", \"incidental special\", \"consequential incidental\", \"incidental indirect\", \"consequential indirect\", \"incidental punitive\", \"consequential\", \"lost\", \"possibility\", \"punitive damages\", \"incidental\", \"profits\", \"receiving party\", \"shall party\", \"party liable\", \"theory\", \"special\", \"tort\", \"indirect\", \"damages arising\", \"damages\", \"contract tort\", \"party\", \"event shall\", \"advised\", \"receiving\", \"liable\", \"party shall\", \"party s\", \"liability\", \"licensee\", \"loss\", \"agreement\", \"event\", \"arising\", \"shall\", \"customer\", \"breach\", \"s\", \"contract\", \"including\", \"services\", \"provided\", \"information\", \"use\", \"warranty\", \"section\", \"authorizations\", \"licenses permits\", \"closing company\", \"comply material\", \"individually aggregate\", \"deliver purchaser\", \"respects applicable\", \"price therefor\", \"representing shares\", \"approvals\", \"compliance material\", \"permits authorizations\", \"aggregate reasonably\", \"certificates representing\", \"expected material\", \"certificate certificates\", \"registered purchaser\", \"representing number\", \"purchased purchaser\", \"purchaser certificate\", \"governmental authorizations\", \"regulations orders\", \"authorizations approvals\", \"opposite\", \"local foreign\", \"writ\", \"closing subject\", \"certificate representing\", \"cause subsidiaries\", \"extent failure\", \"material adverse\", \"adverse effect\", \"laws rules\", \"reasonably expected\", \"company deliver\", \"decrees\", \"adverse\", \"permits\", \"rules regulations\", \"shares purchased\", \"material respects\", \"expected\", \"permits licenses\", \"representing\", \"rules\", \"closing\", \"payment purchase\", \"respects\", \"licenses\", \"state local\", \"franchises\", \"regulations\", \"governmental\", \"laws\", \"effect\", \"compliance\", \"material\", \"federal state\", \"comply\", \"purchaser\", \"certificates\", \"applicable laws\", \"federal\", \"applicable\", \"violation\", \"shares\", \"company\", \"business\", \"state\", \"seller\", \"deliver\", \"reasonably\", \"law\", \"subsidiaries\", \"s\", \"borrower\", \"payments shall\", \"disputed\", \"states dollars\", \"calendar quarter\", \"invoices shall\", \"bear interest\", \"invoice date\", \"s dollars\", \"percent month\", \"s invoice\", \"rate permitted\", \"prime rate\", \"shall accrue\", \"journal\", \"street journal\", \"maximum rate\", \"payments agreement\", \"days invoice\", \"net days\", \"accrue interest\", \"allowed law\", \"net thirty\", \"duska\", \"payable thirty\", \"end calendar\", \"receipt invoice\", \"terms net\", \"undisputed\", \"late payments\", \"law whichever\", \"invoice\", \"date invoice\", \"invoiced\", \"quarter\", \"invoices\", \"shall payable\", \"accrue\", \"payments\", \"dollars\", \"payment terms\", \"payment shall\", \"shall pay\", \"date payment\", \"payment\", \"days date\", \"buyer shall\", \"pay\", \"month\", \"buyer\", \"late\", \"days\", \"calendar\", \"net\", \"payable\", \"shall paid\", \"thirty days\", \"amounts\", \"thirty\", \"receipt\", \"rate\", \"paid\", \"date\", \"shall\", \"seller\", \"interest\", \"s\", \"purchase\", \"delivery\", \"shipment\", \"product\", \"account\", \"price\", \"time\", \"order\", \"agreement\", \"applicable\", \"terms\", \"fees\", \"registrable\", \"registrable securities\", \"meaning section\", \"alleged untrue\", \"person controls\", \"statement alleged\", \"controlling person\", \"olympic\", \"fact required\", \"based untrue\", \"section securities\", \"actions causes\", \"er\", \"arise based\", \"untrue statement\", \"securities included\", \"hmi\", \"planetrx\", \"supplement thereto\", \"event registrable\", \"merger consideration\", \"ii breach\", \"act section\", \"live earth\", \"stock listed\", \"life company\", \"avif\", \"om\", \"misrepresentation breach\", \"veraz\", \"underwriter\", \"obligated issue\", \"action suits\", \"untrue\", \"breach representation\", \"included registration\", \"omission alleged\", \"material fact\", \"alleged omission\", \"required stated\", \"securities act\", \"incurred indemnitee\", \"stockholder\", \"state securities\", \"statement material\", \"securities\", \"registration statement\", \"indemnitee\", \"statement\", \"registration\", \"shares\", \"prospectus\", \"stock\", \"holder\", \"company\", \"common\", \"act\", \"hold harmless\", \"common stock\", \"section\", \"company shall\", \"indemnify\", \"harmless\", \"indemnify hold\", \"shall\", \"losses\", \"agreement\", \"including\", \"hold\", \"s\", \"liabilities\", \"expenses\", \"claims\", \"pursuant\", \"person\", \"applicable\", \"law\", \"respect\", \"damages\", \"provided\", \"party\", \"subject\", \"workmanship\", \"material workmanship\", \"shall conform\", \"catalent\", \"free defects\", \"defects workmanship\", \"defects design\", \"defects material\", \"bamboo com\", \"bamboo\", \"defects materials\", \"conform applicable\", \"catalent shall\", \"materials workmanship\", \"ship product\", \"manufacturer shall\", \"diasys\", \"diamond\", \"com java\", \"bulk product\", \"warrants products\", \"workmanship shall\", \"shelf life\", \"workmanship material\", \"warrants product\", \"aastrom\", \"ssa\", \"ssa gt\", \"ambix\", \"applicable specifications\", \"replace defective\", \"repair replacement\", \"warranty period\", \"defects\", \"repair replace\", \"manufacturer\", \"defective\", \"conform specifications\", \"conform\", \"roka\", \"warranty shall\", \"specifications\", \"defect\", \"replace\", \"omitted filed\", \"requested respect\", \"filed separately\", \"shall free\", \"separately securities\", \"warranty\", \"repair\", \"product\", \"distributor\", \"free\", \"products\", \"delivery\", \"warrants\", \"confidential treatment\", \"carrier\", \"replacement\", \"contractor\", \"shipment\", \"shipping\", \"warranties\", \"shall\", \"period\", \"s\", \"order\", \"date\", \"customer\", \"applicable\", \"accordance\", \"purchase\", \"agreement\", \"provided\", \"use\", \"confidential\", \"seller\", \"material\", \"time\", \"meanings\", \"capitalized\", \"capitalized terms\", \"terms defined\", \"shall meanings\", \"meanings set\", \"respective meanings\", \"definitions\", \"shall respective\", \"plural\", \"meanings specified\", \"ascribed\", \"meanings assigned\", \"declaration trust\", \"shall meaning\", \"following meanings\", \"meanings ascribed\", \"singular plural\", \"meanings given\", \"defined terms\", \"terms meanings\", \"limited partner\", \"agreement following\", \"assets property\", \"applicable singular\", \"plural forms\", \"defined shall\", \"provided context\", \"supplemental indenture\", \"following definitions\", \"context\", \"singular\", \"shall following\", \"context requires\", \"terms shall\", \"following terms\", \"words\", \"declaration\", \"indenture\", \"trust\", \"defined\", \"following\", \"terms\", \"fund\", \"trustees\", \"agreement\", \"meaning\", \"shall\", \"requires\", \"purposes\", \"set forth\", \"set\", \"forth\", \"act\", \"specified\", \"respective\", \"section\", \"assets\", \"obligations\", \"support services\", \"provide support\", \"reverse\", \"derivative works\", \"reverse engineer\", \"disassemble\", \"expressly granted\", \"decompile\", \"maintenance support\", \"metlife\", \"cardinal health\", \"support terms\", \"shall bill\", \"reselling\", \"jutvision\", \"reasonable explanation\", \"explanation supporting\", \"reselling purchaser\", \"support provided\", \"class class\", \"technical support\", \"support shall\", \"starfield\", \"macrogenics\", \"sterling commerce\", \"decompile disassemble\", \"micro\", \"dst\", \"ec\", \"annuncio\", \"support\", \"create derivative\", \"updates\", \"rights software\", \"level support\", \"software documentation\", \"rights expressly\", \"engineer\", \"enhancements\", \"retain right\", \"software\", \"content\", \"licensors\", \"modifications\", \"title interest\", \"right title\", \"proprietary materials\", \"documentation\", \"property rights\", \"technical\", \"intellectual\", \"intellectual property\", \"title\", \"technology\", \"derivative\", \"users\", \"works\", \"provide\", \"services\", \"property\", \"rights\", \"right\", \"customer\", \"interest\", \"materials\", \"use\", \"licensed\", \"products\", \"agreement\", \"shall\", \"party\", \"s\", \"licensee\", \"expressly\", \"provided\", \"license\", \"time\", \"including\", \"seller\", \"exchange offer\", \"consultant agrees\", \"executive acknowledges\", \"adcs group\", \"adcs\", \"offer registration\", \"agreement consultant\", \"transfer restricted\", \"works hire\", \"eas\", \"ips\", \"lotus\", \"statement relating\", \"directv\", \"dovatron\", \"developed created\", \"time originated\", \"walnut\", \"discoveries improvements\", \"group adcs\", \"registered exchange\", \"company termination\", \"qiu\", \"relating exchange\", \"group subsidiary\", \"exchange notes\", \"vest company\", \"inventions processes\", \"conceived\", \"holders exchange\", \"inventions discoveries\", \"consultant warrants\", \"consultant\", \"conceived developed\", \"copyrightable\", \"executive agrees\", \"hire\", \"discoveries\", \"executive\", \"consultant s\", \"executive s\", \"inventions\", \"consultant shall\", \"offer\", \"patentable\", \"employment\", \"exclusive property\", \"s employment\", \"employer\", \"developed\", \"executive shall\", \"company executive\", \"works\", \"exchange\", \"employment company\", \"company\", \"work\", \"services\", \"property\", \"confidential information\", \"performed\", \"information\", \"secrets\", \"agrees\", \"trade\", \"confidential\", \"rights\", \"s\", \"trade secrets\", \"including\", \"shall\", \"agreement\", \"title\", \"materials\", \"business\", \"use\", \"right\", \"proprietary\", \"relating\", \"undertakings agreements\", \"msv\", \"tiger fair\", \"tiger\", \"head\", \"covenant undertaken\", \"conferred vested\", \"powers authority\", \"personally solely\", \"wilmington trust\", \"wilmington\", \"japan local\", \"failure obligation\", \"pubco\", \"intended personal\", \"regent\", \"currency agent\", \"purpose binding\", \"gtm\", \"priveco\", \"original indenture\", \"newco lp\", \"apl\", \"jhu apl\", \"individually personally\", \"indebtedness expenses\", \"trust national\", \"regent s\", \"personal representations\", \"bronson\", \"representations undertakings\", \"airline\", \"obligation representation\", \"local currency\", \"delaware trustee\", \"undertakings\", \"expressly understood\", \"individual capacity\", \"lp\", \"executed delivered\", \"trustee\", \"owner trustee\", \"trust company\", \"trust\", \"implied\", \"maturity date\", \"representation\", \"personally\", \"warranty\", \"warranties\", \"delivered\", \"representations\", \"owner\", \"agreement\", \"representation warranty\", \"bank trust\", \"executed\", \"forth\", \"set forth\", \"set\", \"license\", \"purpose\", \"parties\", \"shall\", \"s\", \"respect\", \"express\", \"express implied\", \"credit\", \"failure\", \"section\", \"documents\", \"capacity\", \"including\", \"date\", \"liability\", \"b\", \"bank\", \"hereunder\", \"sub adviser\", \"reckless\", \"reckless disregard\", \"misfeasance bad\", \"willful misfeasance\", \"adviser s\", \"adviser shall\", \"negligence reckless\", \"disregard obligations\", \"misfeasance\", \"sub advisor\", \"adviser\", \"mistake law\", \"disregard duties\", \"judgment mistake\", \"liable error\", \"obligations duties\", \"sales literature\", \"daa\", \"depositary custodian\", \"adviser agrees\", \"disregard\", \"reason reckless\", \"literature materials\", \"negligence performance\", \"use designation\", \"consent sub\", \"acts performed\", \"esc\", \"tamic\", \"loss resulting\", \"error judgment\", \"sub\", \"janus\", \"depositary\", \"mistake\", \"faith gross\", \"law loss\", \"bad\", \"bad faith\", \"duties agreement\", \"fund\", \"duties\", \"custodian\", \"performance duties\", \"faith\", \"manager\", \"s willful\", \"negligence\", \"willful\", \"investment\", \"gross negligence\", \"trust\", \"gross\", \"performance\", \"shall\", \"loss\", \"agreement\", \"s\", \"liability\", \"expenses\", \"use\", \"mortgage\", \"mortgage loan\", \"mortgage loans\", \"mortgage note\", \"related mortgage\", \"mortgaged\", \"rate mortgage\", \"mortgage interest\", \"mortgaged property\", \"loan mortgage\", \"servicing practices\", \"servicer shall\", \"adjustable rate\", \"respect mortgage\", \"related mortgaged\", \"avanex\", \"mbusa\", \"mortgage servicing\", \"memsic\", \"adjustment date\", \"friedrich\", \"amortize\", \"jurisdiction related\", \"informatica\", \"assignment mortgage\", \"ibg\", \"freddie\", \"freddie mac\", \"mac\", \"service mortgage\", \"adjustable\", \"lucent\", \"principal balance\", \"unpaid interest\", \"accrual\", \"distribution date\", \"servicer\", \"servicing\", \"class\", \"principal\", \"loan\", \"maturity\", \"loans\", \"interest\", \"master servicer\", \"maturity date\", \"related\", \"rate\", \"interest rate\", \"trustee\", \"note\", \"date\", \"respect\", \"property\", \"time\", \"day\", \"transfer\", \"shall\", \"distribution\", \"period\", \"section\", \"agreement\", \"balance\", \"including\", \"microstrategy\", \"communication document\", \"converge\", \"amadeus\", \"impresse\", \"assignment confidentiality\", \"ea\", \"pgx\", \"restricted shareholder\", \"aws\", \"dir\", \"microstrategy software\", \"interplay\", \"execute employee\", \"holding co\", \"licensed game\", \"rheogenx\", \"employee invention\", \"department officer\", \"platforms\", \"standby purchaser\", \"shares beneficial\", \"medecision\", \"development pack\", \"ability enter\", \"chemins\", \"invention confidentiality\", \"lockwell\", \"invention assignment\", \"crxx\", \"flextronics\", \"company substantially\", \"agreement perform\", \"authority enter\", \"export administration\", \"mobilemail\", \"bea\", \"enter agreement\", \"enter\", \"document delivered\", \"party represents\", \"export\", \"phoenix\", \"represents warrants\", \"represents\", \"customer\", \"employee\", \"google\", \"warrants\", \"invention\", \"agreement\", \"power\", \"s\", \"communication\", \"agrees\", \"party\", \"reseller\", \"shall\", \"obligations\", \"confidentiality agreement\", \"use\", \"perform\", \"products\", \"license\", \"licensed\", \"company\", \"data\", \"hereto\", \"ii\", \"date\", \"confidentiality\", \"delivered\", \"non\", \"act\"], \"Freq\": [5304.0, 5567.0, 1369.0, 4281.0, 1360.0, 7682.0, 2941.0, 1198.0, 2552.0, 13284.0, 2183.0, 1051.0, 910.0, 1784.0, 891.0, 682.0, 1165.0, 1646.0, 1245.0, 1485.0, 2297.0, 1785.0, 925.0, 1036.0, 1397.0, 1093.0, 1322.0, 1848.0, 936.0, 942.0, 324.7284788854304, 238.7288456382041, 1160.9778505770132, 160.10930951725217, 137.64658482135687, 137.64658479130009, 124.54332877058688, 122.67143481999301, 121.73548817573219, 117.05575359724047, 114.24791335443946, 113.3119664920974, 112.37601945894839, 558.6969553770073, 110.5041259167773, 110.50412589509126, 104.88844475679718, 103.01655093570211, 102.08060415445142, 102.08060406167672, 197.55672384458123, 100.2087102948641, 93.65708241343134, 88.04140124183826, 88.04140110557917, 84.29181785488817, 82.42571134153269, 78.68193254226478, 154.63813956925114, 75.87409209402098, 298.8187562590272, 144.17828863554337, 162.7391033658308, 121.69834841495523, 148.5727057890495, 193.6056191226038, 1585.1614025395322, 671.4925460916572, 253.47850215943058, 225.13247505920626, 164.5345395897542, 3030.0302085659437, 1576.4506523081723, 490.4457953595668, 400.6919661448756, 195.6437938145799, 680.7744581152251, 172.494268807564, 962.1437749856121, 539.1734851768522, 807.1889140097729, 440.5144852159824, 402.11993409647096, 538.9061623492915, 284.8111182731969, 945.9061636929345, 230.6924229342124, 819.6168779382392, 554.3993131398906, 481.61820244816687, 819.5965054712012, 611.0792379263056, 357.5818367247991, 497.62030204114143, 1668.4044319170744, 404.4965840934614, 491.0509504927873, 1871.4281950035434, 528.3797123811771, 675.7219730565273, 569.0044481314281, 1860.349232973743, 860.8275158713349, 647.5267792133077, 588.9303284459501, 695.9199525741165, 669.2892462351514, 720.0125055017002, 556.613004413852, 520.5733870031299, 62.41580089014823, 57.089335077114235, 47.28731568779968, 39.2674813858722, 74.90245191558537, 84.53687968504747, 38.30450526768977, 33.92092636964298, 33.92092635010348, 33.02730425013283, 29.465463287133403, 64.12559151565699, 28.574370420073528, 27.683277707674403, 74.29642458986315, 26.792185199054472, 26.79218350402838, 26.79218110133479, 76.10493630801116, 56.11240836240873, 25.901092518960255, 25.90109222976578, 25.85189103039448, 24.118907053058138, 24.118907053058138, 24.118907053058138, 23.227814753648726, 23.227814699401495, 23.2278146227138, 54.33579555825598, 46.076285835806594, 877.9268783317842, 57.6849652653234, 176.11011259513947, 42.38105455539529, 39.02145583759526, 57.03621887736316, 49.66950662490566, 148.8694321012077, 1206.5567755379395, 107.67808468999645, 678.7298898121581, 104.92442675513816, 271.26064647691015, 375.1434815616852, 108.64289524794162, 218.51901461437495, 236.954301120362, 629.244399044493, 281.3921217108784, 194.55417693578534, 288.87923286021464, 1793.3842645232519, 329.3841810809501, 251.58224515851543, 232.58131789071848, 258.1999340120531, 109.8246998462548, 103.57899810653277, 2079.845144546779, 427.6599165071213, 412.3501464229278, 123.11253531143463, 364.70888079646755, 516.0838196487264, 224.21344466732623, 217.1400140570986, 258.606782716135, 631.8583749961067, 611.3566712427198, 680.4418232723322, 395.4653372329064, 379.28638592543416, 1069.7179544182388, 568.828042178527, 490.80268280438037, 356.33411254432303, 827.1728388953501, 371.89689366757113, 634.6892933895505, 471.8956541931066, 375.0603027873032, 471.8261599585287, 301.5387931425672, 323.42347826468915, 329.31648592746944, 1368.277545640966, 890.5841335807359, 483.0055404212017, 364.68312956345414, 325.23880556802095, 217.4308482045681, 206.9128282927369, 182.37078145927188, 169.22325637329982, 167.47025300727, 140.2987010870972, 121.0156642575651, 112.25064757892196, 103.48563083329208, 99.97962419879467, 97.35011911310426, 92.09110904275379, 85.95559736795829, 83.32609236904707, 80.69658735379458, 78.94358398471795, 157.62385488172612, 67.5490622668838, 65.79605889495869, 64.88896585721238, 62.290052126931016, 59.66054720828823, 59.66054720375249, 57.90754383682378, 55.278038835699014, 1338.7857665585539, 1175.9666586580126, 467.990670874631, 294.0989042339279, 506.0738666606921, 104.11822899629773, 149.81373334080905, 136.10013203946951, 971.3610302412973, 123.3089833332096, 1639.396681801749, 145.69135062365874, 389.9013971459703, 376.99943604578357, 456.9639299661636, 215.57517680349042, 251.74798679525577, 621.9265582083588, 306.2496158473031, 287.4541008697056, 2331.3438827467116, 246.10589477836191, 465.29288944020294, 339.05391707718445, 290.3641556674269, 504.66056966653673, 503.3444463402599, 699.347623853122, 366.2126802836381, 362.50741488767784, 393.41691758232395, 311.41136533588974, 255.4962715933117, 267.21116331046835, 275.0825309195649, 168.03780465780028, 168.0378046409057, 162.81563540132433, 154.98238139018315, 146.27876572409534, 127.13081149996995, 241.149359053296, 103.63104931429699, 99.27924141312813, 97.53851854209941, 92.3163491347713, 90.57562595213531, 85.35345676594577, 77.52020262127499, 105.92079369171087, 70.55704439360328, 67.94622550957013, 67.07586384462743, 75.65424538592443, 64.4647792354049, 60.11297032999117, 74.72256572738236, 57.501886763298366, 57.50188675174087, 52.2797175102701, 52.279717426724474, 47.927909663735626, 47.05754788247032, 44.446463484263596, 510.75074050205166, 264.1084381474246, 218.24567139135183, 106.66072658116964, 373.93190054524956, 282.72483727904006, 241.27649304491655, 121.37879381875527, 114.51557651052933, 120.26392478693742, 442.6486557627645, 219.03204528153202, 398.80379217633504, 102.18282171392661, 1039.7173004964566, 136.8182379739093, 2390.5778618677887, 203.60608579089168, 196.0140240165389, 244.75060990011423, 491.1650694770582, 308.65916021099616, 282.61434990862546, 668.1650516773939, 349.149894293263, 399.90529886624955, 1462.4024437164023, 452.625332414997, 439.77560245936303, 1588.0769834991193, 423.6250024513356, 341.38909092104075, 750.1247293023683, 300.7126578603308, 498.38963475487515, 365.3738480156851, 394.2840494627704, 391.59309204588845, 319.8564605500428, 286.84070302725667, 298.50363406217093, 229.6026669683663, 213.67142510549928, 110.44992195264209, 107.82011020630478, 138.27232446461636, 104.31706014939958, 100.8118046153819, 67.51988887822993, 67.5198887747021, 213.7957497268443, 80.38110650275797, 60.510903773260324, 60.51090332692753, 57.88253433495718, 171.2135993449372, 57.006411249721246, 47.369056967646095, 47.36905694906419, 47.369056944324804, 46.49293386950329, 45.616810101466655, 111.10650090481604, 40.3600718958033, 37.731702506766815, 36.85557830565101, 36.847485094598696, 35.97945631271666, 35.97945616531012, 35.10333319021582, 34.227209993778736, 493.580193146126, 477.7586413594939, 210.608116390642, 289.2766660027446, 102.35809979071787, 72.76043077311853, 534.2826631038007, 440.3316856556027, 376.3166605897382, 67.4278898773663, 246.29277318482215, 298.1686276541248, 67.35112985452065, 188.7777948098689, 428.54665188401543, 658.0667653038246, 90.95804007589237, 276.0896956184237, 951.1279625153666, 191.0235743095304, 108.45835921646088, 685.0561663088823, 697.7838269325158, 987.0442517791585, 750.2154954307349, 485.98613106135963, 1094.7580449810555, 270.3205332756657, 544.3325138822219, 663.225684805553, 250.93376950374963, 313.45065688388365, 370.2742594007701, 1097.8841567792558, 356.0581504118922, 438.3226305826378, 1248.2937920521504, 719.4825098743188, 395.822638931889, 507.1471791619305, 342.24343759266, 345.39633106078736, 404.62882718063224, 335.2199708936691, 386.1311637267937, 338.0108435889344, 119.16985928846208, 63.51147117869491, 77.09136254719701, 58.21601598275471, 56.44981099680544, 65.81955993453977, 55.545883125457685, 106.03854370903267, 43.53164065773102, 55.48995194117635, 40.932185529067354, 41.78039615657865, 56.11115729655286, 35.71420771250863, 35.71420771250863, 50.17774122400144, 34.84295617191251, 33.105204918466015, 68.74032278525951, 32.23550435383255, 35.542409030176934, 27.88723010188475, 27.017566279169788, 26.14790201419902, 32.05814026767222, 113.16523533091244, 24.407182826444725, 69.89299045587997, 42.87214601857375, 21.76975884241309, 878.267934394861, 118.32770880395678, 114.55876169244003, 107.56362439260614, 267.0149528509505, 141.96261907461292, 77.67238521973096, 649.9239299598308, 238.57332305279337, 144.69755625000505, 97.06078517579465, 284.38059450205117, 76.54848053725213, 1189.2284552856183, 186.9839772055948, 97.20061602367781, 527.4090333800871, 349.5645737978914, 642.7013377269595, 108.32003043060823, 764.8189254990303, 162.5326541801887, 211.54222211553056, 399.1882446719805, 141.00142786574918, 205.20174538618969, 370.24606731480793, 228.07421314792526, 344.0981235296029, 348.5262866720316, 442.89075413871484, 800.0674788380884, 1934.451090504943, 582.0697365836849, 380.38054315064323, 942.2607398237408, 320.348870087827, 373.64172791862717, 206.47947438649376, 352.0460254180422, 214.41490504085843, 220.68770766092655, 319.56532879405626, 258.57582666202006, 375.2010400911982, 284.9179129078723, 259.7884937098574, 233.5465976341194, 51.55133759249203, 45.54369000884198, 36.961336162287196, 32.67015955700685, 36.76701227611675, 26.662511989591295, 24.9460410343372, 23.22957051257181, 22.371335079333402, 20.65486443935569, 20.65486417351234, 19.796629002920483, 18.938393235587924, 18.08015828627262, 72.5408726016215, 17.221923035028766, 15.505452232119673, 15.505452140655013, 16.307640741535845, 14.647216931770314, 13.78896980053943, 13.782499191140355, 12.930746101196391, 12.930746014839482, 12.93074596894289, 12.072510811836684, 12.072510811836684, 12.072510778612852, 12.072510742939498, 12.072510704819196, 63.62830321509932, 15.225475249155508, 13.64825294292365, 84.38451427309238, 33.51279798400341, 23.208743417941683, 28.313984714219387, 52.1175900033972, 27.32846409863747, 21.911556534725435, 112.75100364053799, 18.85213443266395, 78.80814054033227, 59.405704461230265, 26.068793912047564, 435.9633837280277, 96.7042637372965, 171.70539310182016, 191.1177608711906, 157.91109094024145, 313.05467561913156, 73.71590092076302, 185.77697456814698, 130.48217765231806, 1050.0611017820602, 123.78234675582736, 300.6834752313218, 140.6083461922641, 81.27303398040794, 548.715062159015, 173.22469895777994, 231.09195357342202, 181.89438631332828, 121.41522668319865, 1044.0700280708727, 176.89438971502767, 592.0049530364169, 356.24003880121643, 175.6473693695413, 471.4049769087226, 172.5377697660276, 211.77576791842577, 178.007834280262, 191.16853466709443, 197.23169618684176, 237.15702263439383, 178.62069664430376, 175.0050845957958, 162.50206352048443, 166.7932401197567, 177.1932992488075, 148.66973931827235, 204.83271688420407, 66.72123189101961, 49.221283711539954, 47.46547395830076, 160.4635690126247, 35.12008375008978, 29.90734540363544, 41.01174634878512, 24.639906957040008, 24.639906957040008, 38.19721467684064, 21.995590493116364, 21.12828123861559, 54.93378747565174, 18.494561773752906, 17.61648536764933, 16.73874916158126, 16.73874899909525, 15.860842707685185, 15.860842661027496, 45.98934372395609, 14.982936246035171, 14.98293612864337, 16.646758346214366, 16.600552143290866, 14.105029844756906, 14.105029832133777, 14.105029832133777, 14.105029818533982, 29.93425304693923, 24.83795667280206, 37.175436500655735, 171.81946249229875, 266.35592714649533, 45.83323836818079, 158.6709052380515, 181.67574798192558, 39.76388161301759, 164.4951631288942, 23.738020325344934, 87.61100342561109, 274.34629378921835, 127.60652412860217, 99.00758353818276, 63.15888197507448, 30.39006822506247, 81.94349447523616, 63.51699707812213, 50.26952567907765, 667.2460769542623, 125.74896588734755, 634.3064292746699, 271.84082883248, 265.2877548285132, 624.0166873047389, 568.7112635094552, 366.18401081354034, 118.1022065636663, 114.50634575433847, 107.20568505278506, 199.17141377954758, 189.7042566326768, 101.59463895367554, 249.3921715246704, 1241.2585945272206, 289.0238538064199, 654.3041616736319, 233.3261404996783, 322.19264802394093, 215.3453137551638, 283.4273652375649, 196.96150304244838, 173.03033149626992, 302.3238212715761, 205.12233466281552, 197.3325101543121, 188.31337720686693, 183.7317347603728, 182.62105100563124, 178.9100737830899, 681.4308293551939, 296.40526734560115, 259.8577987102313, 259.85779850943476, 251.1181867266244, 139.09225014838634, 128.76361771263873, 98.56852325270943, 85.06555733933412, 77.9149657407079, 71.55888407972394, 71.5586914309029, 67.58633329050869, 64.40829253290936, 63.61378217608621, 178.33678486397343, 55.66868045228482, 53.28514991888766, 46.134558199611575, 42.16200711713559, 37.394946113770985, 35.01140083720991, 197.4940412598252, 32.627885013882825, 31.833374844066718, 31.83337484140754, 110.44193616433658, 30.244354435529342, 29.449844189381437, 29.423865815110382, 161.08244215393827, 77.91299132954549, 162.20947016788733, 95.23295811137567, 249.8093166827645, 294.0121561072698, 107.45869340813432, 82.38365182534133, 197.48467923165836, 632.0273962331486, 553.871631434737, 680.4237067046304, 986.5697429901672, 307.132211255824, 139.45035682853523, 1228.9267955497326, 132.57379677670468, 1171.6063450018075, 108.98412908646739, 183.5214354512481, 240.92481917044685, 248.18811825480637, 243.25008093340895, 174.12803515272955, 145.96500636891432, 158.3362843265945, 177.28088098992362, 143.00627468258236, 142.96925648245917, 57.39359699712913, 39.37275266288371, 55.92695442480291, 67.13316901857776, 39.641859729622105, 21.331919545200616, 37.038220867423384, 25.880899186036256, 15.618048151708939, 13.979791498951858, 22.560272381333384, 13.160663043268903, 13.160661253994762, 13.1606519227358, 12.34153470358641, 12.341534482379268, 12.341534482379268, 11.52240615008779, 11.522405969013011, 11.522405796032599, 39.98559925730872, 21.35194634053587, 9.884149426947603, 9.884149419551195, 9.884149351877277, 9.88414930985423, 9.884148361653406, 21.318996497503512, 9.065021067681727, 9.065021038905487, 424.8584882700769, 19.510763180782522, 33.521289129651684, 20.187576855922295, 16.437176712716965, 46.385428346237305, 28.389839696367023, 39.54722382682858, 36.54343946782811, 26.458850451158092, 609.0466466080613, 81.04353912527523, 77.49316694442578, 71.09996274294792, 168.1214904570366, 142.2800686732492, 20.9877628707176, 180.0677696840905, 140.20621471610448, 107.43532478075004, 255.17017350186495, 248.7217944924513, 219.76642782657493, 127.0949405042739, 72.76658585872399, 54.9653533781012, 97.49376996073026, 187.34329698161116, 291.71794759522606, 297.01410618264777, 398.87676187086225, 246.65074455926782, 217.5029802222301, 188.48191480484428, 158.09059558121172, 248.99374122437473, 137.44310982465524, 193.3521154783458, 357.66940825680666, 411.46493692415925, 285.1587044371041, 298.76308565618797, 130.60393746709514, 123.9189085183978, 155.95746634493824, 126.9062430127048, 134.5999634376885, 140.09569510861456, 127.65612565514766, 50.60712845475035, 35.72186980683912, 22.354372870054927, 20.867385969461818, 20.867385969461818, 16.40642452842301, 14.148735175862026, 13.432450359924811, 29.03362582952442, 11.945463223523753, 11.945463195855396, 10.458476009041323, 9.71498254454677, 9.714982517316031, 9.71498247425429, 9.714982396821256, 9.714982382365228, 9.714981714110413, 11.784474976618647, 8.971488961307486, 8.97148894899712, 8.971488916356032, 8.971488885172011, 8.22799541798814, 8.227995398232196, 7.4845016658247046, 7.484495286682445, 7.4536154266099715, 50.26021882226712, 6.741008292345272, 17.56336361697656, 11.342796251307783, 263.8869112688952, 12.523298887562765, 34.15030092958593, 43.6277596761599, 56.433611148424184, 39.29769456565404, 454.8294817501268, 30.800570811287894, 103.57350784584513, 91.08606751644334, 27.082080009463084, 55.704510457472516, 27.533923592028366, 138.49935825813733, 45.67206890038205, 53.7075282132417, 89.60811872142327, 88.53328144576396, 46.446963671304175, 28.63011280420543, 73.05497130864087, 99.85843797812242, 39.779828967910234, 332.3929421242764, 108.72096881216555, 161.37319894923533, 167.07996760834953, 137.64000064707167, 66.63168068529724, 220.97370057567133, 70.65800715115886, 127.27325813821685, 99.88413970776968, 140.1439164209939, 149.2591944079921, 160.7426791201907, 67.25588254842974, 116.24046975475997, 164.67130970711216, 132.4741723879297, 75.78098987160577, 76.15961378815264, 88.00111042658885, 86.41590008347103, 74.03265569923232, 74.10074790167086, 70.66745854888666, 18.46755067799235, 12.799760162653465, 12.091286356777514, 12.091286356777514, 11.382812548790167, 10.6743387809361, 10.674338770923908, 10.674338770923908, 10.67433877070529, 10.67433875753625, 10.67433875753625, 10.67433869656275, 9.965864967479737, 9.965864955129629, 9.965864938341808, 9.965864938028934, 9.96586490401271, 9.257391156467706, 9.257391143261474, 9.257391141886394, 9.257390334079766, 8.548917284857543, 8.548917254129963, 8.54891725412942, 17.050603207141023, 7.840443530490638, 7.840443503593446, 7.840443498127972, 7.840443489219387, 7.840443473975734, 14.216707900339182, 19.176024433856064, 9.96259592260129, 21.301446099651027, 10.557087862164675, 21.4612403665025, 18.133172825797523, 11.230838449943183, 18.308893911347702, 23.518740550807017, 100.68671675276198, 32.862495655759986, 22.104954159453204, 108.76166551001667, 59.889477650887606, 20.110398346596046, 40.40309156304029, 35.23541630212187, 104.90952040418928, 73.92018609773861, 75.5073200263364, 41.1334846155807, 54.206857479220034, 186.2516796798348, 30.595706308518306, 14.076147980743334, 41.631399793831804, 83.89236489633714, 80.34184162006028, 80.11263592595438, 61.529674618669546, 47.031532674196335, 63.915631103300186, 131.57751664738512, 97.46190400620142, 66.5293821820058, 36.74283484455374, 32.20927478635464, 42.950953903867386, 42.99849418486852, 57.23577083744935, 42.07068077559166, 31.33876330814205, 49.96184992635862, 48.22445966340322, 43.94298785407878, 39.96584425852259, 37.70012816395835, 38.17477775054297, 168.67210382060682, 86.30114845229788, 83.66510172496348, 71.23421135349822, 80.38973119667982, 48.97927525817506, 42.366411760112285, 31.78582851823585, 44.04252351208109, 80.82939278403182, 25.81138109983072, 326.2701408126041, 23.172700211841875, 21.866509984993915, 23.145563675693214, 19.164506406264795, 53.03041045060189, 16.57624431745897, 15.914958036462325, 14.592385352807074, 14.592382893596707, 83.85870272282524, 18.31721571892844, 12.608526312214629, 28.38244664778376, 11.947239953798665, 11.947239936935837, 11.285953601661793, 9.963380928762193, 9.963380905960364, 24.797947228485313, 27.843827347848443, 267.1264160012466, 25.24755749091253, 67.99328503795509, 26.78125526262116, 65.33813451191756, 21.46362835013875, 107.67164968226912, 107.27568315556627, 54.85557872662365, 205.70401739983123, 155.69647573097947, 74.42208531268496, 50.21850956556122, 116.5862570051795, 88.3152098486333, 29.36599838386205, 106.9013141054254, 89.3751504964309, 58.07925420578373, 68.92760028285932, 88.392913547472, 67.4878233097266, 78.83210265845312, 141.04546037682508, 73.38577836876055, 95.51200864343514, 87.9791248890003, 71.61864358064024, 65.17255466169426, 66.98256493215834, 206.91561519912017, 81.96467404437087, 38.34972268926105, 18.899812186808642, 17.7210297170529, 17.72102968462747, 16.542247256591722, 14.774073562143966, 14.774073548319901, 14.184682312242577, 14.184682301333657, 14.672294682046553, 11.237726157143417, 10.648334920192843, 10.648334877193909, 9.469552451267257, 8.88016123181115, 8.880161216519076, 8.880161177080177, 8.880161175820298, 8.290769979865123, 8.29076986789728, 7.7013787545841605, 7.111987501310506, 6.522596281311022, 6.522596257993279, 6.522596227245809, 6.522596227245809, 6.522596227245809, 6.5225960215833245, 11.82708010517169, 11.235866206353167, 17.375243380519127, 10.41653141664565, 14.69847244453762, 22.04269617262733, 66.57278790432251, 45.81334241963714, 34.971961780381385, 55.370488996421976, 106.4467938087657, 24.67999640673164, 39.81879627556817, 98.96683030132056, 15.493397230969185, 17.788219916170863, 53.52542700002542, 48.2979900847027, 22.54626750681439, 37.84319079176081, 30.289870092614933, 56.15498524688591, 51.472519416831794, 36.517239889171655, 36.19315825619977, 28.64822403081573, 30.49215031028537, 49.12519019142648, 20.222281323464493, 20.98727691526088, 21.433474276180068, 20.644066932387002, 18.065732445791273, 18.162905734083573, 10.729786879603706, 8.478782624967746, 8.478782593956595, 7.916031581590138, 6.790529466359567, 6.7905294508998235, 6.790529254910534, 6.2277784063074915, 6.2277782839643505, 5.665027343473356, 5.665027334702895, 5.665027330393501, 5.6650272883103545, 5.665027187800455, 5.102276260850561, 5.102276251989722, 5.102276243397738, 10.15292362814375, 4.539525204058053, 4.539525175872938, 4.539525117735404, 4.5395249998288545, 4.539524909652874, 3.976774154388432, 3.976774141854225, 3.9767741410052246, 3.9767741385170563, 3.976774058950898, 7.867943727629142, 3.4140231013182025, 20.224510054419763, 6.219868768761606, 5.661421747584099, 11.638662700243119, 4.783843228956302, 11.32938675245176, 8.463365499402835, 16.36912953613943, 28.053564176611523, 7.858028943514833, 9.763386978697639, 19.90219455025347, 11.891699285913779, 29.187623103678668, 33.29806717091537, 65.54292934065708, 43.57656038451839, 10.153034645694495, 38.99333227934079, 14.735114630647383, 81.9556385543187, 17.74297722004925, 64.7800462291982, 12.725577869322917, 34.703113219278116, 50.776237392734906, 14.318340538149595, 55.73289211226927, 27.293612054318316, 14.045555923679053, 26.916829031176125, 17.94279096500896, 23.299928348705784, 20.52888375549207, 18.32817848757044, 26.706309772553702, 17.036811602286335, 17.31658088940314, 17.615907098504845, 18.214100881709673, 15.844971804178268, 15.456711105982505, 15.333269458274351, 15.223220919195201], \"Total\": [5304.0, 5567.0, 1369.0, 4281.0, 1360.0, 7682.0, 2941.0, 1198.0, 2552.0, 13284.0, 2183.0, 1051.0, 910.0, 1784.0, 891.0, 682.0, 1165.0, 1646.0, 1245.0, 1485.0, 2297.0, 1785.0, 925.0, 1036.0, 1397.0, 1093.0, 1322.0, 1848.0, 936.0, 942.0, 325.5602943157099, 239.46210706430955, 1165.753788484822, 160.84257083531617, 138.37984618089453, 138.37984618308158, 125.27659013770425, 123.40469638009276, 122.46874955767932, 117.78901523129782, 114.98117468783515, 114.04522782755542, 113.10928093470861, 562.3592743072136, 111.23738724796468, 111.23738724377664, 105.6217060870782, 103.74981235286778, 102.81386549794044, 102.8138654890315, 198.99123764917707, 100.94197174723716, 94.39034376292469, 88.77466259957797, 88.77466257415979, 85.03046898509437, 83.15898081937233, 79.41519398533667, 156.10737766723554, 76.60735342516038, 302.92122596491475, 145.5876946721978, 164.53297130242757, 123.33650859951469, 151.66244393253075, 200.15647065033127, 1848.6318227858062, 766.698008708862, 273.7113084707024, 240.9456114019127, 173.0520732206454, 4281.972034476463, 2297.942221765897, 608.3974707541225, 483.1951736182215, 214.41190342210214, 923.5606963741644, 185.73435992220655, 1411.1456724286704, 737.3296938429852, 1207.8633231032193, 580.6757062355316, 536.957972204062, 783.751054068141, 356.3452768569791, 1756.8226289050115, 274.594788788704, 1546.5831739108191, 926.0717834682588, 766.5308983247442, 1677.8847082248972, 1103.544405842493, 511.7600428062738, 842.1465857073456, 5304.070590563251, 616.9883367603535, 840.7097573048325, 7682.24162066765, 991.2814499679611, 1590.5234159552815, 1183.8666218051128, 13284.008821502, 2905.7975430362276, 1672.9372922044813, 1522.7651454879176, 2592.901906800416, 3041.80206203198, 6528.344030893211, 1650.6333315763259, 1488.444887134925, 63.17052015044693, 57.82558678462923, 48.023567663320854, 40.00373381389445, 76.43153919136982, 86.30439367434361, 39.109990729260204, 34.657178107162075, 34.65717809404437, 33.76566649191443, 30.201714918367838, 65.74180858374991, 29.310622244818916, 28.419529624777333, 76.28910720900201, 27.528436984741354, 27.528436585725537, 27.52843615897344, 78.20123139940213, 57.6637703135536, 26.63734431251562, 26.63734429779443, 26.63201148380657, 24.85515902569505, 24.85515902569505, 24.85515902569505, 23.96406642293418, 23.964066411610368, 23.96406640837247, 56.09229576839217, 47.57742131662535, 936.2852065649962, 60.15472765980416, 189.80954172764396, 44.23693418297714, 40.7066013109679, 60.24862518093653, 52.34047052289484, 164.47759509718875, 1485.0533784997951, 118.23422165726944, 831.4492392056159, 117.04996632718685, 324.09999964321366, 466.75915481323585, 123.75004895705175, 265.33316986541655, 290.2003363348005, 864.925191612384, 356.237185022469, 237.31557049644735, 371.7178308168154, 2941.0196475784637, 440.04273120648793, 329.59538222473634, 303.4104059785555, 361.807230862018, 131.0990094721054, 122.65816744858591, 5567.1895520800745, 757.9594792936871, 732.1948408693539, 153.4628713946278, 642.782679725492, 1051.4217099731138, 355.47080127656534, 342.8519240943367, 444.8351316340279, 1679.798294999466, 1672.9372922044813, 2066.0061159756597, 939.6291915663215, 922.3361869170807, 6528.344030893211, 2157.2483993328196, 1882.3855830228206, 1003.4060542963284, 13284.008821502, 1269.704056927676, 7682.24162066765, 3041.80206203198, 1550.4072252924902, 5304.070590563251, 851.0600588491119, 1864.1101846865784, 4281.972034476463, 1369.0147700558066, 891.3213580151088, 483.74804260773806, 365.4203539268483, 325.9774433901885, 218.16807277157224, 207.65005269495137, 183.10800583829067, 169.96048073918195, 168.20747739096038, 141.03592551489308, 121.75288869567264, 112.9878719593581, 104.22285522848111, 100.71684853645041, 98.0873435111323, 92.82833347227931, 86.69282175174924, 84.06331673304823, 81.43381171619245, 79.68080837155823, 159.12467381949278, 68.28628661637596, 66.5332832709921, 65.65614407162869, 63.02727657376746, 60.397771555235245, 60.39777155659569, 58.64476820698505, 56.01526318809323, 1360.1758422163987, 1198.2772999866934, 478.3890308091477, 299.2508306817678, 527.2413651326269, 105.92297643164945, 153.92279758917522, 140.8543483081002, 1093.3433355479847, 127.88486039654342, 2183.036934629458, 156.10067260546492, 492.61619166146323, 507.7931635447326, 689.630289909232, 281.1659172222749, 360.42797931204507, 1406.1674724833226, 505.2708986434396, 465.72778377560877, 13284.008821502, 370.46912498525234, 1124.8149308551478, 680.127432933971, 579.7090722341617, 2552.527481764703, 2542.5372595123886, 6528.344030893211, 1248.7833268509798, 1361.2699448088974, 2592.901906800416, 1136.5987076473796, 493.9830406506783, 2905.7975430362276, 275.829774352857, 168.77543847470494, 168.7754384734949, 163.55326913265793, 155.720015110901, 147.0163995192792, 127.86844524620099, 242.77519258231374, 104.36868318083627, 100.01687535689327, 98.27615227287131, 93.05398291694968, 91.31325979362997, 86.0910904587539, 78.25783643240092, 106.98742186915757, 71.29496395883851, 68.68385928760155, 67.81349771026058, 76.49381969012877, 65.20241305424481, 60.850605200894925, 75.66080922177152, 58.23952057592846, 58.239520584157894, 53.01735124566887, 53.017351234392216, 48.665543450081344, 47.79518185934094, 45.184097218632466, 521.0165930431299, 268.86379949871264, 222.02066751545084, 108.75122302326248, 387.05195944036274, 296.2884544839104, 251.72290357387052, 125.4474087859265, 118.51616402531279, 125.57805260752686, 508.5301527529856, 241.98027013534008, 479.00600224992286, 108.12362889577288, 1646.84238777347, 154.3382955326985, 5304.070590563251, 257.22690366002627, 246.26152539944454, 337.81950266409683, 886.6788502525658, 474.9619020185825, 437.57625531310964, 1550.4072252924902, 641.5451227945553, 852.5535572918271, 7682.24162066765, 1152.9254370346275, 1141.8673205331377, 13284.008821502, 1171.439780780471, 933.5325736346073, 6528.344030893211, 765.3719984519972, 3041.80206203198, 1553.8462459062407, 2592.901906800416, 4281.972034476463, 2157.2483993328196, 1338.34707166881, 2905.7975430362276, 230.33991681392519, 214.5719785790454, 111.18717164521067, 108.55880235988168, 139.22676020488788, 105.05430977076101, 101.54970178974689, 68.2571384744247, 68.25713846237569, 216.2080534799221, 81.3565032780201, 61.24815346128886, 61.24815346006736, 58.6197840635433, 173.4165357556396, 57.743660957831985, 48.10630657168989, 48.10630656612007, 48.10630657187626, 47.230183447505354, 46.35406032539538, 112.93989130232042, 41.09732155478644, 38.46895217500367, 37.5928290696775, 37.59296735667108, 36.71670592868649, 36.71670590367418, 35.840582808545314, 34.96445966335964, 506.4936757954018, 494.3176534967311, 216.21852557452004, 298.41092566511054, 105.01431377741069, 74.39181534688586, 557.9526574088746, 462.23765905331936, 405.74419146998906, 69.11349550128226, 265.449162549164, 324.7811121467196, 69.1511144603761, 205.34394543266913, 497.9350872754715, 811.1276713337195, 95.39157296688987, 319.2216197280137, 1245.2412517923638, 213.76200582791637, 115.6766628349379, 899.4817402872122, 942.4163923055961, 1397.9337594441108, 1109.8304344189514, 670.807007578873, 1785.3488383476385, 339.3377767718323, 823.0758610341734, 1092.547808933592, 319.9772230318719, 449.4304919206655, 574.5166451010515, 3006.8841755184717, 556.2201154835578, 803.1038345966685, 5567.1895520800745, 2066.0061159756597, 778.4418682620159, 1864.1101846865784, 693.3110714091875, 875.1609495920383, 1787.354821625358, 851.0600588491119, 6528.344030893211, 1411.1456724286704, 120.51869294599679, 64.28132670450786, 78.19673391179661, 59.060735987495036, 57.32511981982098, 66.8708106290704, 56.45434611257667, 107.77371352209298, 44.27895570364647, 56.45631046715646, 41.669872973691014, 42.53925505529087, 57.18995110791323, 36.45188801064761, 36.45188801064761, 51.21755590563817, 35.58223880937961, 33.84289246734867, 70.28518637671772, 32.973228675591926, 36.44865662804978, 28.624910636471192, 27.755246488795397, 26.885582330034495, 32.973858764709334, 116.48523429962239, 25.146267205802346, 72.1221208255699, 44.264159249253176, 22.537504510602574, 910.7605609670007, 123.45955111190779, 119.98364817286463, 112.70701265043506, 286.20423428452375, 151.65787691444336, 82.61106332073471, 795.121461924735, 274.0616363188006, 163.37648873039467, 107.42817908820626, 346.2261649391884, 83.47861509355717, 1784.8407779510014, 227.9031040360375, 110.4620243630384, 784.9868953256487, 502.750495960366, 1053.190502690957, 126.06764870134998, 1361.2699448088974, 206.41414844468306, 286.14700480586737, 633.5433423574142, 176.97111315285574, 286.7356425683447, 635.7128908168035, 342.05462926038103, 609.9948073886136, 626.9101458126919, 910.8346154532579, 2542.5372595123886, 13284.008821502, 1864.1101846865784, 1094.0386942598172, 6528.344030893211, 867.1826186329007, 1395.4411456054756, 404.309329731628, 1385.0258814574975, 470.6135199588328, 528.3083969712395, 1732.9438902224572, 1164.755749305459, 7682.24162066765, 3006.8841755184717, 2552.527481764703, 1126.7953542548391, 52.28977980304883, 46.28213223018071, 37.69977852359523, 33.40860171777403, 37.707218068562376, 27.400954144795623, 25.684483376107217, 23.968012688137307, 23.109777294997386, 21.393306576780418, 21.39330653920921, 20.535071219031593, 19.6768358203879, 18.818600475215266, 75.62250457922997, 17.96036511058222, 16.243894374598696, 16.24389434848318, 17.089268054253072, 15.385659007519449, 14.527423765108452, 14.527671803679674, 13.66918826534717, 13.66918828239254, 13.669188267261191, 12.810952907633657, 12.810952907633657, 12.810952907235803, 12.810952908148481, 12.810952909404408, 68.05812806995854, 16.249853278949026, 14.530418850536591, 95.56927059167622, 36.864468988024804, 25.369099672896876, 31.747654431566875, 61.67773301961766, 30.860209471740287, 24.326839378459283, 151.52984573118948, 20.620593307107367, 104.43860006602965, 75.88417191113685, 29.90985263533405, 830.9671931204155, 141.66815750984912, 283.81345785862624, 371.84243412317545, 315.09506389770115, 803.1038345966685, 118.23856888236905, 425.20359997284294, 279.0139918352281, 5567.1895520800745, 269.43147855194223, 1089.7356268562332, 352.2062880565903, 157.68120400244956, 2905.7975430362276, 511.3138639757561, 813.5776503453692, 575.1984356931458, 315.847724053308, 13284.008821502, 684.356374025589, 7682.24162066765, 3041.80206203198, 725.0822984938745, 6528.344030893211, 747.7611743033125, 1183.8666218051128, 917.9511988282005, 1343.2322279608202, 1672.9372922044813, 3006.8841755184717, 1787.354821625358, 1882.3855830228206, 1646.84238777347, 2592.901906800416, 5304.070590563251, 1276.274450167382, 207.0893235839045, 67.51265063661398, 49.95841749409012, 48.202604703201764, 163.5528206576756, 35.91168222970289, 30.644476199761122, 42.03661274134774, 25.377037656129126, 25.377037656129126, 39.41633225674168, 22.743218886337196, 21.865411955588424, 56.978835810589594, 19.2316926640806, 18.35378266111078, 17.47587983432414, 17.475879830533128, 16.59797340706152, 16.597973408445586, 48.189912734511466, 15.720066983125282, 15.72006696964727, 17.4750892281023, 17.467830985507167, 14.842160558625748, 14.84216055656428, 14.84216055656428, 14.842160555067608, 31.509882105945472, 26.188476357367474, 39.40918204338753, 186.42074397697797, 294.5576165633564, 49.05944844129775, 176.11865552964574, 203.17600951498426, 42.78928592883487, 185.54090798044925, 25.20297695097816, 100.42137553542707, 342.6530249593099, 155.8138058645499, 120.26368462282126, 73.90514677391428, 33.13418091953864, 105.82540024055777, 78.45287506514023, 60.00459968298954, 1338.34707166881, 179.7063401682135, 1385.0258814574975, 491.7497267055722, 498.6779282642598, 1506.7123683361312, 1395.4411456054756, 812.1605328790245, 181.55670200399325, 180.64409730668118, 166.26151348120206, 430.1943599731837, 404.309329731628, 157.94031797827586, 679.8982798611389, 13284.008821502, 1124.8149308551478, 6528.344030893211, 1164.755749305459, 2542.5372595123886, 1171.439780780471, 3006.8841755184717, 1070.5289015307399, 867.1826186329007, 7682.24162066765, 2592.901906800416, 2157.2483993328196, 2297.942221765897, 1864.1101846865784, 1785.3488383476385, 1732.9438902224572, 682.4048811666212, 297.14795790513557, 260.6004892494687, 260.60048924307836, 251.86087719334142, 139.83494066292891, 129.50630821912756, 99.31451962939002, 85.80824786725897, 78.657656193547, 72.30157469675574, 72.301524960786, 68.32902374924693, 65.15098299619653, 64.35647280779115, 180.61505917162705, 56.411370924787, 54.02784036251044, 46.87724866790857, 42.90469769930955, 38.13763659475419, 35.75410755835305, 201.76526015258364, 33.37057547335183, 32.57606528380296, 32.5760652834656, 113.0565388984515, 30.987044909704178, 30.19253469577952, 30.190300082551786, 166.0572067965882, 80.42686386713858, 170.86707411320387, 99.6316024875927, 276.4695218859617, 328.0724672773531, 116.63300677424547, 89.53212369856966, 244.48106692612248, 925.9055793717333, 951.0612075498661, 1322.9446851460666, 2552.527481764703, 577.8764179096626, 197.04190600252483, 7682.24162066765, 208.43771500035828, 13284.008821502, 162.0329140103606, 559.0447373183193, 1607.8469306388442, 1750.2631542488916, 1701.7670902845105, 1089.7356268562332, 569.887558227738, 910.1475283414634, 2905.7975430362276, 525.2079126836137, 1590.5234159552815, 58.13464644073132, 40.11381963521212, 57.28037710849878, 68.83627428860775, 40.88892657542522, 22.094755344485, 38.495480517433926, 26.97223338992135, 16.359097558275593, 14.720840726823575, 23.758143712029405, 13.901712317790622, 13.901712439581939, 13.901709220886985, 13.08258390732444, 13.082583918282326, 13.082583918282326, 12.263455504396807, 12.26345547882574, 12.263455371660557, 42.69452568308409, 22.95123183410406, 10.625198681131453, 10.625198682426298, 10.625198671723409, 10.625198680625457, 10.625198722558705, 22.986983922068966, 9.80607026821267, 9.806070269778278, 470.53253692009116, 21.363660305139547, 37.28065978596239, 22.19529163591402, 18.03646131634892, 53.584066531028974, 32.11098869662002, 45.91707708564814, 42.488973654388246, 30.3001725094083, 1036.6160808989218, 109.39878223578307, 107.06481608612776, 99.4131189359389, 287.57351534877057, 239.91668026655896, 24.45134210247658, 362.5356835426371, 295.3964927086191, 213.45635075855634, 757.9594792936871, 732.1948408693539, 677.946027105977, 308.7422342703726, 137.82194248172638, 94.908380568831, 234.45056328989457, 678.8639616372768, 1553.8462459062407, 1679.798294999466, 2941.0196475784637, 1269.704056927676, 1171.439780780471, 1094.0386942598172, 773.0600772825117, 2157.2483993328196, 599.6551640379836, 1506.7123683361312, 7682.24162066765, 13284.008821502, 5304.070590563251, 6528.344030893211, 641.5451227945553, 542.9256660560555, 2592.901906800416, 938.236254197084, 1732.9438902224572, 3041.80206203198, 1864.1101846865784, 51.35322005192342, 36.48600793475638, 23.100464639397067, 21.61347753046958, 21.61347753046958, 17.152516159837578, 14.92638598066901, 14.178541895609774, 30.66358710796388, 12.691554772548718, 12.691554778414972, 11.204567632879225, 10.461074080682117, 10.461074086338563, 10.46107409454879, 10.461074101761973, 10.461074101221561, 10.461074235490225, 12.720970941465223, 9.717580523105266, 9.717580521863416, 9.717580532376244, 9.7175805346934, 8.97408695481225, 8.974086960157994, 8.230593420112529, 8.230594397715983, 8.236725103573395, 55.586803195938074, 7.4870998289857615, 19.59605967450949, 12.794198393543512, 357.494168567863, 14.271028953900526, 42.935944015561155, 56.22797331168222, 77.9244460957826, 52.36102716914865, 1051.4217099731138, 42.322108294115324, 216.47277733557831, 200.28345874013144, 41.1221032117964, 109.49342771585874, 43.13061014791044, 395.5371303847656, 88.83116941160968, 119.60971948134961, 265.0027878393494, 268.490785962432, 101.18984610493493, 49.46183504141373, 234.45056328989457, 451.5851908782211, 92.48881940960145, 5567.1895520800745, 679.7955869688928, 1553.8462459062407, 1679.798294999466, 1207.8633231032193, 281.86485203289016, 4281.972034476463, 355.47080127656534, 1522.7651454879176, 864.925191612384, 2297.942221765897, 2941.0196475784637, 6528.344030893211, 342.8519240943367, 3041.80206203198, 13284.008821502, 7682.24162066765, 677.946027105977, 773.0600772825117, 2066.0061159756597, 2157.2483993328196, 1269.704056927676, 1485.0533784997951, 1052.6891352308305, 19.21597691585083, 13.54818641489641, 12.839712598646022, 12.839712598646022, 12.131238784236661, 11.422764959644589, 11.422764959007557, 11.422764959007557, 11.422764959034085, 11.422764962664028, 11.422764962664028, 11.422764986789197, 10.71429114646602, 10.714291151518047, 10.714291153290883, 10.714291154109688, 10.714291167317201, 10.005817333129288, 10.005817336567098, 10.005817338330008, 10.005817440905695, 9.297343535323915, 9.297343541430058, 9.297343541430179, 18.66869337614086, 8.58886970667718, 8.588869709958994, 8.58886971457548, 8.588869715725991, 8.588869721068088, 15.823369383141692, 21.692624574805812, 11.303132926013852, 27.267857101068824, 12.312793132406982, 33.623201662291955, 27.413132825493697, 13.738714745400983, 28.02650421356063, 43.182587699353896, 434.7580052206839, 78.94004275910834, 44.74391410385593, 925.9055793717333, 357.15372842207535, 42.580156106329355, 174.05068896930837, 140.23941099814817, 1338.34707166881, 679.8982798611389, 725.1743728156059, 225.05874964635433, 457.90594247413594, 7682.24162066765, 126.16205789556491, 21.93892874934042, 292.27237476312143, 1701.7670902845105, 1607.8469306388442, 1750.2631542488916, 938.236254197084, 478.0654971540512, 1488.444887134925, 13284.008821502, 6528.344030893211, 1882.3855830228206, 302.808571734599, 208.92925512715905, 714.2457557097888, 762.7921141393742, 2905.7975430362276, 842.1465857073456, 188.5081435338115, 3041.80206203198, 2542.5372595123886, 1550.4072252924902, 1392.3297011161856, 840.7097573048325, 1650.6333315763259, 169.42367591798555, 87.55324915666867, 84.90494532896787, 72.29409412754954, 81.58771940081364, 49.73084736253488, 43.11798391135907, 32.537402737327525, 45.20878945983404, 83.21711610479537, 26.593773622021356, 336.3012613859547, 23.94638174261364, 22.618115905719645, 23.955812069244775, 19.99272955241341, 55.36573146564496, 17.327816423816724, 16.666530060834255, 15.343957367640828, 15.343957869280342, 88.40203682739144, 19.396082325261148, 13.360098331359897, 30.155755415358833, 12.698811989943264, 12.698811994276923, 12.03752564104613, 10.714952949917183, 10.71495295667197, 26.94595613282754, 30.342153284792445, 306.11699983116466, 27.498532125606857, 80.11384460865212, 29.80613701689698, 78.32154922774893, 23.649215527445037, 174.092932950079, 173.34789128855056, 79.22480683924428, 577.8764179096626, 416.9317913799311, 148.47155487080389, 86.21242811330116, 428.7630282743364, 284.25121809656997, 38.69391584132665, 743.5074888710421, 491.34692713198183, 228.1796834409087, 403.0013079841482, 925.9055793717333, 432.6863283063933, 740.0614343476552, 13284.008821502, 852.5535572918271, 7682.24162066765, 6528.344030893211, 1550.4072252924902, 1183.8666218051128, 2157.2483993328196, 207.6719805733047, 82.72103914480851, 39.106087966856045, 19.656177214933443, 18.477394750329804, 18.477394765467576, 17.298612282545296, 15.530438582402427, 15.530438589435473, 14.941047356408403, 14.941047358982807, 15.590282965840403, 11.994091189186483, 11.404699957654012, 11.404699978333845, 10.225917494750968, 9.636526257145432, 9.6365262612487, 9.636526283850655, 9.63652628464082, 9.047135033824347, 9.04713505356279, 8.457743796356835, 7.868352570646422, 7.27896133478424, 7.2789613481579165, 7.278961351906527, 7.278961351906527, 7.278961351906527, 7.278961415335371, 13.474594143949162, 12.871498903218047, 20.38115465384542, 12.387043906697583, 18.677701663617107, 33.68967393684034, 173.20214679910094, 109.4459190359484, 96.1362942693167, 233.05486447110877, 737.3296938429852, 60.686293891146896, 165.2328504932685, 1094.0386942598172, 29.050569819333685, 42.580156106329355, 819.5114927027577, 626.9101458126919, 90.9245848795604, 434.7580052206839, 267.6231003949894, 2542.5372595123886, 1882.3855830228206, 1679.798294999466, 1732.9438902224572, 517.9906943409585, 752.1683479478688, 13284.008821502, 183.41012851276088, 1124.8149308551478, 2905.7975430362276, 7682.24162066765, 98.43181427053484, 3041.80206203198, 11.487927928741813, 9.236923688650176, 9.23692370232637, 8.67417262035445, 7.548670494593029, 7.54867050285535, 7.548670604202971, 6.985919433125173, 6.985919473887373, 6.423168373075984, 6.423168377587682, 6.42316838006704, 6.423168399843966, 6.423168430675641, 5.8604173207835935, 5.860417328236789, 5.860417332312008, 11.790822133040953, 5.2976662599091, 5.29766627522262, 5.2976663165249995, 5.297666351961671, 5.297666402717185, 4.734915193635736, 4.734915200968797, 4.734915200760964, 4.734915200068338, 4.734915238787982, 9.593322467134616, 4.172164128240312, 25.38370149312086, 7.868255452508825, 7.167819979759178, 18.222597412292057, 6.034558197118376, 20.049013020291774, 14.504720942565932, 40.43275942089684, 94.71133388795465, 13.100514013190459, 19.0455829543587, 74.46750934524549, 29.78439249440965, 171.39770190360977, 233.05335589570473, 1171.439780780471, 831.4492392056159, 27.120268887821148, 812.1605328790245, 75.46939463615702, 7682.24162066765, 129.61685154916546, 6528.344030893211, 63.932941539503, 1522.7651454879176, 5304.070590563251, 100.03114157706243, 13284.008821502, 1590.5234159552815, 111.98785004377885, 2157.2483993328196, 359.1859389621777, 1506.7123683361312, 938.236254197084, 599.6551640379836, 5567.1895520800745, 513.4872830904856, 613.4891076120833, 1137.7722275073959, 2542.5372595123886, 580.6757062355316, 725.1743728156059, 676.7293705914972, 1089.7356268562332], \"Category\": [\"Default\", \"Default\", \"Default\", \"Default\", \"Default\", \"Default\", \"Default\", \"Default\", \"Default\", \"Default\", \"Default\", \"Default\", \"Default\", \"Default\", \"Default\", \"Default\", \"Default\", \"Default\", \"Default\", \"Default\", \"Default\", \"Default\", \"Default\", \"Default\", \"Default\", \"Default\", \"Default\", \"Default\", \"Default\", \"Default\", \"Topic1\", \"Topic1\", \"Topic1\", \"Topic1\", \"Topic1\", \"Topic1\", \"Topic1\", \"Topic1\", \"Topic1\", \"Topic1\", \"Topic1\", \"Topic1\", \"Topic1\", \"Topic1\", \"Topic1\", \"Topic1\", \"Topic1\", \"Topic1\", \"Topic1\", \"Topic1\", \"Topic1\", \"Topic1\", \"Topic1\", \"Topic1\", \"Topic1\", \"Topic1\", \"Topic1\", \"Topic1\", \"Topic1\", \"Topic1\", \"Topic1\", \"Topic1\", \"Topic1\", \"Topic1\", \"Topic1\", \"Topic1\", \"Topic1\", \"Topic1\", \"Topic1\", \"Topic1\", \"Topic1\", \"Topic1\", \"Topic1\", \"Topic1\", \"Topic1\", \"Topic1\", \"Topic1\", \"Topic1\", \"Topic1\", \"Topic1\", \"Topic1\", \"Topic1\", \"Topic1\", \"Topic1\", \"Topic1\", \"Topic1\", \"Topic1\", \"Topic1\", \"Topic1\", \"Topic1\", \"Topic1\", \"Topic1\", \"Topic1\", \"Topic1\", \"Topic1\", \"Topic1\", \"Topic1\", \"Topic1\", \"Topic1\", \"Topic1\", \"Topic1\", \"Topic1\", \"Topic1\", \"Topic1\", \"Topic1\", \"Topic1\", \"Topic1\", \"Topic1\", \"Topic1\", \"Topic1\", \"Topic2\", \"Topic2\", \"Topic2\", \"Topic2\", \"Topic2\", \"Topic2\", \"Topic2\", \"Topic2\", \"Topic2\", \"Topic2\", \"Topic2\", \"Topic2\", \"Topic2\", \"Topic2\", \"Topic2\", \"Topic2\", \"Topic2\", \"Topic2\", \"Topic2\", \"Topic2\", \"Topic2\", \"Topic2\", \"Topic2\", \"Topic2\", \"Topic2\", \"Topic2\", \"Topic2\", \"Topic2\", \"Topic2\", \"Topic2\", \"Topic2\", \"Topic2\", \"Topic2\", \"Topic2\", \"Topic2\", \"Topic2\", \"Topic2\", \"Topic2\", \"Topic2\", \"Topic2\", \"Topic2\", \"Topic2\", \"Topic2\", \"Topic2\", \"Topic2\", \"Topic2\", \"Topic2\", \"Topic2\", \"Topic2\", \"Topic2\", \"Topic2\", \"Topic2\", \"Topic2\", \"Topic2\", \"Topic2\", \"Topic2\", \"Topic2\", \"Topic2\", \"Topic2\", \"Topic2\", \"Topic2\", \"Topic2\", \"Topic2\", \"Topic2\", \"Topic2\", \"Topic2\", \"Topic2\", \"Topic2\", \"Topic2\", \"Topic2\", \"Topic2\", \"Topic2\", \"Topic2\", \"Topic2\", \"Topic2\", \"Topic2\", \"Topic2\", \"Topic2\", \"Topic2\", \"Topic2\", \"Topic2\", \"Topic2\", \"Topic2\", \"Topic2\", \"Topic2\", \"Topic2\", \"Topic3\", \"Topic3\", \"Topic3\", \"Topic3\", \"Topic3\", \"Topic3\", \"Topic3\", \"Topic3\", \"Topic3\", \"Topic3\", \"Topic3\", \"Topic3\", \"Topic3\", \"Topic3\", \"Topic3\", \"Topic3\", \"Topic3\", \"Topic3\", \"Topic3\", \"Topic3\", \"Topic3\", \"Topic3\", \"Topic3\", \"Topic3\", \"Topic3\", \"Topic3\", \"Topic3\", \"Topic3\", \"Topic3\", \"Topic3\", \"Topic3\", \"Topic3\", \"Topic3\", \"Topic3\", \"Topic3\", \"Topic3\", \"Topic3\", \"Topic3\", \"Topic3\", \"Topic3\", \"Topic3\", \"Topic3\", \"Topic3\", \"Topic3\", \"Topic3\", \"Topic3\", \"Topic3\", \"Topic3\", \"Topic3\", \"Topic3\", \"Topic3\", \"Topic3\", \"Topic3\", \"Topic3\", \"Topic3\", \"Topic3\", \"Topic3\", \"Topic3\", \"Topic3\", \"Topic3\", \"Topic3\", \"Topic3\", \"Topic3\", \"Topic3\", \"Topic4\", \"Topic4\", \"Topic4\", \"Topic4\", \"Topic4\", \"Topic4\", \"Topic4\", \"Topic4\", \"Topic4\", \"Topic4\", \"Topic4\", \"Topic4\", \"Topic4\", \"Topic4\", \"Topic4\", \"Topic4\", \"Topic4\", \"Topic4\", \"Topic4\", \"Topic4\", \"Topic4\", \"Topic4\", \"Topic4\", \"Topic4\", \"Topic4\", \"Topic4\", \"Topic4\", \"Topic4\", \"Topic4\", \"Topic4\", \"Topic4\", \"Topic4\", \"Topic4\", \"Topic4\", \"Topic4\", \"Topic4\", \"Topic4\", \"Topic4\", \"Topic4\", \"Topic4\", \"Topic4\", \"Topic4\", \"Topic4\", \"Topic4\", \"Topic4\", \"Topic4\", \"Topic4\", \"Topic4\", \"Topic4\", \"Topic4\", \"Topic4\", \"Topic4\", \"Topic4\", \"Topic4\", \"Topic4\", \"Topic4\", \"Topic4\", \"Topic4\", \"Topic4\", \"Topic4\", \"Topic4\", \"Topic4\", \"Topic4\", \"Topic4\", \"Topic4\", \"Topic4\", \"Topic4\", \"Topic4\", \"Topic4\", \"Topic4\", \"Topic4\", \"Topic5\", \"Topic5\", \"Topic5\", \"Topic5\", \"Topic5\", \"Topic5\", \"Topic5\", \"Topic5\", \"Topic5\", \"Topic5\", \"Topic5\", \"Topic5\", \"Topic5\", \"Topic5\", \"Topic5\", \"Topic5\", \"Topic5\", \"Topic5\", \"Topic5\", \"Topic5\", \"Topic5\", \"Topic5\", \"Topic5\", \"Topic5\", \"Topic5\", \"Topic5\", \"Topic5\", \"Topic5\", \"Topic5\", \"Topic5\", \"Topic5\", \"Topic5\", \"Topic5\", \"Topic5\", \"Topic5\", \"Topic5\", \"Topic5\", \"Topic5\", \"Topic5\", \"Topic5\", \"Topic5\", \"Topic5\", \"Topic5\", \"Topic5\", \"Topic5\", \"Topic5\", \"Topic5\", \"Topic5\", \"Topic5\", \"Topic5\", \"Topic5\", \"Topic5\", \"Topic5\", \"Topic5\", \"Topic5\", \"Topic5\", \"Topic5\", \"Topic5\", \"Topic5\", \"Topic5\", \"Topic5\", \"Topic5\", \"Topic5\", \"Topic5\", \"Topic5\", \"Topic5\", \"Topic5\", \"Topic5\", \"Topic5\", \"Topic5\", \"Topic5\", \"Topic5\", \"Topic5\", \"Topic5\", \"Topic5\", \"Topic5\", \"Topic6\", \"Topic6\", \"Topic6\", \"Topic6\", \"Topic6\", \"Topic6\", \"Topic6\", \"Topic6\", \"Topic6\", \"Topic6\", \"Topic6\", \"Topic6\", \"Topic6\", \"Topic6\", \"Topic6\", \"Topic6\", \"Topic6\", \"Topic6\", \"Topic6\", \"Topic6\", \"Topic6\", \"Topic6\", \"Topic6\", \"Topic6\", \"Topic6\", \"Topic6\", \"Topic6\", \"Topic6\", \"Topic6\", \"Topic6\", \"Topic6\", \"Topic6\", \"Topic6\", \"Topic6\", \"Topic6\", \"Topic6\", \"Topic6\", \"Topic6\", \"Topic6\", \"Topic6\", \"Topic6\", \"Topic6\", \"Topic6\", \"Topic6\", \"Topic6\", \"Topic6\", \"Topic6\", \"Topic6\", \"Topic6\", \"Topic6\", \"Topic6\", \"Topic6\", \"Topic6\", \"Topic6\", \"Topic6\", \"Topic6\", \"Topic6\", \"Topic6\", \"Topic6\", \"Topic6\", \"Topic6\", \"Topic6\", \"Topic6\", \"Topic6\", \"Topic6\", \"Topic6\", \"Topic6\", \"Topic6\", \"Topic6\", \"Topic6\", \"Topic6\", \"Topic6\", \"Topic6\", \"Topic6\", \"Topic6\", \"Topic6\", \"Topic6\", \"Topic6\", \"Topic7\", \"Topic7\", \"Topic7\", \"Topic7\", \"Topic7\", \"Topic7\", \"Topic7\", \"Topic7\", \"Topic7\", \"Topic7\", \"Topic7\", \"Topic7\", \"Topic7\", \"Topic7\", \"Topic7\", \"Topic7\", \"Topic7\", \"Topic7\", \"Topic7\", \"Topic7\", \"Topic7\", \"Topic7\", \"Topic7\", \"Topic7\", \"Topic7\", \"Topic7\", \"Topic7\", \"Topic7\", \"Topic7\", \"Topic7\", \"Topic7\", \"Topic7\", \"Topic7\", \"Topic7\", \"Topic7\", \"Topic7\", \"Topic7\", \"Topic7\", \"Topic7\", \"Topic7\", \"Topic7\", \"Topic7\", \"Topic7\", \"Topic7\", \"Topic7\", \"Topic7\", \"Topic7\", \"Topic7\", \"Topic7\", \"Topic7\", \"Topic7\", \"Topic7\", \"Topic7\", \"Topic7\", \"Topic7\", \"Topic7\", \"Topic7\", \"Topic7\", \"Topic7\", \"Topic7\", \"Topic7\", \"Topic7\", \"Topic7\", \"Topic7\", \"Topic7\", \"Topic7\", \"Topic7\", \"Topic7\", \"Topic7\", \"Topic7\", \"Topic7\", \"Topic7\", \"Topic7\", \"Topic7\", \"Topic7\", \"Topic7\", \"Topic7\", \"Topic7\", \"Topic7\", \"Topic7\", \"Topic7\", \"Topic7\", \"Topic8\", \"Topic8\", \"Topic8\", \"Topic8\", \"Topic8\", \"Topic8\", \"Topic8\", \"Topic8\", \"Topic8\", \"Topic8\", \"Topic8\", \"Topic8\", \"Topic8\", \"Topic8\", \"Topic8\", \"Topic8\", \"Topic8\", \"Topic8\", \"Topic8\", \"Topic8\", \"Topic8\", \"Topic8\", \"Topic8\", \"Topic8\", \"Topic8\", \"Topic8\", \"Topic8\", \"Topic8\", \"Topic8\", \"Topic8\", \"Topic8\", \"Topic8\", \"Topic8\", \"Topic8\", \"Topic8\", \"Topic8\", \"Topic8\", \"Topic8\", \"Topic8\", \"Topic8\", \"Topic8\", \"Topic8\", \"Topic8\", \"Topic8\", \"Topic8\", \"Topic8\", \"Topic8\", \"Topic8\", \"Topic8\", \"Topic8\", \"Topic8\", \"Topic8\", \"Topic8\", \"Topic8\", \"Topic8\", \"Topic8\", \"Topic8\", \"Topic8\", \"Topic8\", \"Topic8\", \"Topic8\", \"Topic8\", \"Topic8\", \"Topic8\", \"Topic8\", \"Topic8\", \"Topic8\", \"Topic8\", \"Topic8\", \"Topic8\", \"Topic8\", \"Topic8\", \"Topic8\", \"Topic8\", \"Topic8\", \"Topic8\", \"Topic8\", \"Topic8\", \"Topic8\", \"Topic8\", \"Topic9\", \"Topic9\", \"Topic9\", \"Topic9\", \"Topic9\", \"Topic9\", \"Topic9\", \"Topic9\", \"Topic9\", \"Topic9\", \"Topic9\", \"Topic9\", \"Topic9\", \"Topic9\", \"Topic9\", \"Topic9\", \"Topic9\", \"Topic9\", \"Topic9\", \"Topic9\", \"Topic9\", \"Topic9\", \"Topic9\", \"Topic9\", \"Topic9\", \"Topic9\", \"Topic9\", \"Topic9\", \"Topic9\", \"Topic9\", \"Topic9\", \"Topic9\", \"Topic9\", \"Topic9\", \"Topic9\", \"Topic9\", \"Topic9\", \"Topic9\", \"Topic9\", \"Topic9\", \"Topic9\", \"Topic9\", \"Topic9\", \"Topic9\", \"Topic9\", \"Topic9\", \"Topic9\", \"Topic9\", \"Topic9\", \"Topic9\", \"Topic9\", \"Topic9\", \"Topic9\", \"Topic9\", \"Topic9\", \"Topic9\", \"Topic9\", \"Topic9\", \"Topic9\", \"Topic10\", \"Topic10\", \"Topic10\", \"Topic10\", \"Topic10\", \"Topic10\", \"Topic10\", \"Topic10\", \"Topic10\", \"Topic10\", \"Topic10\", \"Topic10\", \"Topic10\", \"Topic10\", \"Topic10\", \"Topic10\", \"Topic10\", \"Topic10\", \"Topic10\", \"Topic10\", \"Topic10\", \"Topic10\", \"Topic10\", \"Topic10\", \"Topic10\", \"Topic10\", \"Topic10\", \"Topic10\", \"Topic10\", \"Topic10\", \"Topic10\", \"Topic10\", \"Topic10\", \"Topic10\", \"Topic10\", \"Topic10\", \"Topic10\", \"Topic10\", \"Topic10\", \"Topic10\", \"Topic10\", \"Topic10\", \"Topic10\", \"Topic10\", \"Topic10\", \"Topic10\", \"Topic10\", \"Topic10\", \"Topic10\", \"Topic10\", \"Topic10\", \"Topic10\", \"Topic10\", \"Topic10\", \"Topic10\", \"Topic10\", \"Topic10\", \"Topic10\", \"Topic10\", \"Topic10\", \"Topic10\", \"Topic10\", \"Topic10\", \"Topic10\", \"Topic10\", \"Topic10\", \"Topic10\", \"Topic10\", \"Topic10\", \"Topic10\", \"Topic10\", \"Topic10\", \"Topic10\", \"Topic10\", \"Topic10\", \"Topic10\", \"Topic10\", \"Topic10\", \"Topic10\", \"Topic11\", \"Topic11\", \"Topic11\", \"Topic11\", \"Topic11\", \"Topic11\", \"Topic11\", \"Topic11\", \"Topic11\", \"Topic11\", \"Topic11\", \"Topic11\", \"Topic11\", \"Topic11\", \"Topic11\", \"Topic11\", \"Topic11\", \"Topic11\", \"Topic11\", \"Topic11\", \"Topic11\", \"Topic11\", \"Topic11\", \"Topic11\", \"Topic11\", \"Topic11\", \"Topic11\", \"Topic11\", \"Topic11\", \"Topic11\", \"Topic11\", \"Topic11\", \"Topic11\", \"Topic11\", \"Topic11\", \"Topic11\", \"Topic11\", \"Topic11\", \"Topic11\", \"Topic11\", \"Topic11\", \"Topic11\", \"Topic11\", \"Topic11\", \"Topic11\", \"Topic11\", \"Topic11\", \"Topic11\", \"Topic11\", \"Topic11\", \"Topic11\", \"Topic11\", \"Topic11\", \"Topic11\", \"Topic11\", \"Topic11\", \"Topic11\", \"Topic11\", \"Topic11\", \"Topic11\", \"Topic11\", \"Topic11\", \"Topic11\", \"Topic11\", \"Topic11\", \"Topic11\", \"Topic11\", \"Topic11\", \"Topic11\", \"Topic11\", \"Topic11\", \"Topic11\", \"Topic11\", \"Topic11\", \"Topic11\", \"Topic11\", \"Topic11\", \"Topic11\", \"Topic11\", \"Topic12\", \"Topic12\", \"Topic12\", \"Topic12\", \"Topic12\", \"Topic12\", \"Topic12\", \"Topic12\", \"Topic12\", \"Topic12\", \"Topic12\", \"Topic12\", \"Topic12\", \"Topic12\", \"Topic12\", \"Topic12\", \"Topic12\", \"Topic12\", \"Topic12\", \"Topic12\", \"Topic12\", \"Topic12\", \"Topic12\", \"Topic12\", \"Topic12\", \"Topic12\", \"Topic12\", \"Topic12\", \"Topic12\", \"Topic12\", \"Topic12\", \"Topic12\", \"Topic12\", \"Topic12\", \"Topic12\", \"Topic12\", \"Topic12\", \"Topic12\", \"Topic12\", \"Topic12\", \"Topic12\", \"Topic12\", \"Topic12\", \"Topic12\", \"Topic12\", \"Topic12\", \"Topic12\", \"Topic12\", \"Topic12\", \"Topic12\", \"Topic12\", \"Topic12\", \"Topic12\", \"Topic12\", \"Topic12\", \"Topic12\", \"Topic12\", \"Topic12\", \"Topic12\", \"Topic12\", \"Topic12\", \"Topic12\", \"Topic12\", \"Topic12\", \"Topic12\", \"Topic12\", \"Topic12\", \"Topic12\", \"Topic12\", \"Topic12\", \"Topic12\", \"Topic12\", \"Topic12\", \"Topic12\", \"Topic12\", \"Topic12\", \"Topic12\", \"Topic12\", \"Topic12\", \"Topic13\", \"Topic13\", \"Topic13\", \"Topic13\", \"Topic13\", \"Topic13\", \"Topic13\", \"Topic13\", \"Topic13\", \"Topic13\", \"Topic13\", \"Topic13\", \"Topic13\", \"Topic13\", \"Topic13\", \"Topic13\", \"Topic13\", \"Topic13\", \"Topic13\", \"Topic13\", \"Topic13\", \"Topic13\", \"Topic13\", \"Topic13\", \"Topic13\", \"Topic13\", \"Topic13\", \"Topic13\", \"Topic13\", \"Topic13\", \"Topic13\", \"Topic13\", \"Topic13\", \"Topic13\", \"Topic13\", \"Topic13\", \"Topic13\", \"Topic13\", \"Topic13\", \"Topic13\", \"Topic13\", \"Topic13\", \"Topic13\", \"Topic13\", \"Topic13\", \"Topic13\", \"Topic13\", \"Topic13\", \"Topic13\", \"Topic13\", \"Topic13\", \"Topic13\", \"Topic13\", \"Topic13\", \"Topic13\", \"Topic13\", \"Topic13\", \"Topic13\", \"Topic13\", \"Topic13\", \"Topic13\", \"Topic13\", \"Topic14\", \"Topic14\", \"Topic14\", \"Topic14\", \"Topic14\", \"Topic14\", \"Topic14\", \"Topic14\", \"Topic14\", \"Topic14\", \"Topic14\", \"Topic14\", \"Topic14\", \"Topic14\", \"Topic14\", \"Topic14\", \"Topic14\", \"Topic14\", \"Topic14\", \"Topic14\", \"Topic14\", \"Topic14\", \"Topic14\", \"Topic14\", \"Topic14\", \"Topic14\", \"Topic14\", \"Topic14\", \"Topic14\", \"Topic14\", \"Topic14\", \"Topic14\", \"Topic14\", \"Topic14\", \"Topic14\", \"Topic14\", \"Topic14\", \"Topic14\", \"Topic14\", \"Topic14\", \"Topic14\", \"Topic14\", \"Topic14\", \"Topic14\", \"Topic14\", \"Topic14\", \"Topic14\", \"Topic14\", \"Topic14\", \"Topic14\", \"Topic14\", \"Topic14\", \"Topic14\", \"Topic14\", \"Topic14\", \"Topic14\", \"Topic14\", \"Topic14\", \"Topic14\", \"Topic14\", \"Topic14\", \"Topic14\", \"Topic14\", \"Topic14\", \"Topic15\", \"Topic15\", \"Topic15\", \"Topic15\", \"Topic15\", \"Topic15\", \"Topic15\", \"Topic15\", \"Topic15\", \"Topic15\", \"Topic15\", \"Topic15\", \"Topic15\", \"Topic15\", \"Topic15\", \"Topic15\", \"Topic15\", \"Topic15\", \"Topic15\", \"Topic15\", \"Topic15\", \"Topic15\", \"Topic15\", \"Topic15\", \"Topic15\", \"Topic15\", \"Topic15\", \"Topic15\", \"Topic15\", \"Topic15\", \"Topic15\", \"Topic15\", \"Topic15\", \"Topic15\", \"Topic15\", \"Topic15\", \"Topic15\", \"Topic15\", \"Topic15\", \"Topic15\", \"Topic15\", \"Topic15\", \"Topic15\", \"Topic15\", \"Topic15\", \"Topic15\", \"Topic15\", \"Topic15\", \"Topic15\", \"Topic15\", \"Topic15\", \"Topic15\", \"Topic15\", \"Topic15\", \"Topic15\", \"Topic15\", \"Topic15\", \"Topic15\", \"Topic15\", \"Topic15\", \"Topic15\", \"Topic15\", \"Topic15\", \"Topic15\", \"Topic15\", \"Topic15\", \"Topic15\", \"Topic15\", \"Topic15\", \"Topic15\", \"Topic15\", \"Topic15\", \"Topic15\", \"Topic15\"], \"logprob\": [30.0, 29.0, 28.0, 27.0, 26.0, 25.0, 24.0, 23.0, 22.0, 21.0, 20.0, 19.0, 18.0, 17.0, 16.0, 15.0, 14.0, 13.0, 12.0, 11.0, 10.0, 9.0, 8.0, 7.0, 6.0, 5.0, 4.0, 3.0, 2.0, 1.0, -6.3335, -6.6412, -5.0595, -7.0406, -7.1918, -7.1918, -7.2918, -7.307, -7.3146, -7.3538, -7.3781, -7.3864, -7.3946, -5.7909, -7.4114, -7.4114, -7.4636, -7.4816, -7.4907, -7.4907, -6.8305, -7.5092, -7.5769, -7.6387, -7.6387, -7.6822, -7.7046, -7.7511, -7.0754, -7.7874, -6.4167, -7.1454, -7.0243, -7.315, -7.1154, -6.8507, -4.7481, -5.607, -6.5812, -6.6998, -7.0134, -4.1002, -4.7536, -5.9212, -6.1233, -6.8402, -5.5933, -6.9661, -5.2473, -5.8265, -5.4229, -6.0286, -6.1197, -5.827, -6.4647, -5.2644, -6.6754, -5.4077, -5.7986, -5.9393, -5.4077, -5.7013, -6.2371, -5.9067, -4.6969, -6.1139, -5.9199, -4.582, -5.8467, -5.6007, -5.7726, -4.588, -5.3586, -5.6433, -5.7382, -5.5713, -5.6103, -5.5372, -5.7946, -5.8616, -7.6596, -7.7488, -7.9372, -8.123, -7.4772, -7.3562, -8.1479, -8.2694, -8.2694, -8.2961, -8.4102, -7.6326, -8.4409, -8.4726, -7.4854, -8.5053, -8.5053, -8.5053, -7.4613, -7.7661, -8.5391, -8.5391, -8.541, -8.6104, -8.6104, -8.6104, -8.6481, -8.6481, -8.6481, -7.7982, -7.9631, -5.0159, -7.7384, -6.6223, -8.0467, -8.1293, -7.7497, -7.888, -6.7904, -4.6979, -7.1143, -5.2732, -7.1402, -6.1903, -5.8661, -7.1054, -6.4066, -6.3256, -5.3489, -6.1537, -6.5227, -6.1274, -4.3016, -5.9962, -6.2657, -6.3442, -6.2397, -7.0945, -7.1531, -4.1534, -5.7351, -5.7716, -6.9803, -5.8943, -5.5472, -6.3808, -6.4129, -6.2381, -5.3448, -5.3777, -5.2707, -5.8134, -5.8551, -4.8183, -5.4498, -5.5974, -5.9176, -5.0754, -5.8748, -5.3403, -5.6367, -5.8663, -5.6368, -6.0845, -6.0145, -5.9964, -4.3901, -4.8195, -5.4314, -5.7124, -5.8268, -6.2295, -6.2791, -6.4053, -6.4802, -6.4906, -6.6676, -6.8155, -6.8907, -6.972, -7.0064, -7.0331, -7.0886, -7.1576, -7.1886, -7.2207, -7.2427, -6.5512, -7.3985, -7.4248, -7.4387, -7.4796, -7.5227, -7.5227, -7.5525, -7.599, -4.4119, -4.5415, -5.4629, -5.9275, -5.3847, -6.9659, -6.602, -6.698, -4.7327, -6.7967, -4.2093, -6.6299, -5.6455, -5.6791, -5.4868, -6.2381, -6.083, -5.1786, -5.887, -5.9503, -3.8572, -6.1056, -5.4687, -5.7852, -5.9402, -5.3875, -5.3901, -5.0612, -5.7082, -5.7183, -5.6365, -5.8703, -6.0682, -6.0233, -5.9922, -6.4851, -6.4851, -6.5167, -6.566, -6.6238, -6.7641, -6.1239, -6.9685, -7.0114, -7.0291, -7.0841, -7.1031, -7.1625, -7.2588, -6.9466, -7.3529, -7.3906, -7.4035, -7.2831, -7.4432, -7.5131, -7.2955, -7.5575, -7.5575, -7.6527, -7.6527, -7.7396, -7.7579, -7.815, -5.3734, -6.0329, -6.2237, -6.9397, -5.6852, -5.9648, -6.1234, -6.8104, -6.8686, -6.8196, -5.5165, -6.2201, -5.6208, -6.9825, -4.6626, -6.6907, -3.83, -6.2931, -6.3311, -6.1091, -5.4125, -5.8771, -5.9652, -5.1048, -5.7538, -5.6181, -4.3215, -5.4942, -5.523, -4.239, -5.5605, -5.7763, -4.9891, -5.9032, -5.3979, -5.7084, -5.6322, -5.6391, -5.8414, -5.9504, -5.9105, -6.0238, -6.0957, -6.7556, -6.7797, -6.5309, -6.8127, -6.8469, -7.2477, -7.2477, -6.0951, -7.0733, -7.3573, -7.3573, -7.4017, -6.3172, -7.417, -7.6022, -7.6022, -7.6022, -7.6208, -7.6398, -6.7496, -7.7623, -7.8296, -7.8531, -7.8533, -7.8772, -7.8772, -7.9018, -7.9271, -5.2584, -5.291, -6.1101, -5.7927, -6.8316, -7.173, -5.1792, -5.3726, -5.5297, -7.2491, -5.9536, -5.7625, -7.2502, -6.2196, -5.3997, -4.9708, -6.9497, -5.8394, -4.6025, -6.2077, -6.7738, -4.9306, -4.9122, -4.5654, -4.8398, -5.2739, -4.4618, -5.8605, -5.1606, -4.963, -5.9349, -5.7125, -5.5459, -4.459, -5.585, -5.3772, -4.3306, -4.8816, -5.4792, -5.2313, -5.6246, -5.6154, -5.4572, -5.6453, -5.5039, -5.637, -6.6194, -7.2487, -7.0549, -7.3358, -7.3666, -7.213, -7.3827, -6.7361, -7.6264, -7.3837, -7.688, -7.6675, -7.3726, -7.8244, -7.8244, -7.4844, -7.8491, -7.9002, -7.1696, -7.9269, -7.8292, -8.0718, -8.1034, -8.1362, -7.9324, -6.6711, -8.2051, -7.153, -7.6417, -8.3194, -4.622, -6.6265, -6.6588, -6.7219, -5.8126, -6.4444, -7.0474, -4.9231, -5.9253, -6.4253, -6.8246, -5.7496, -7.062, -4.3189, -6.1689, -6.8232, -5.132, -5.5432, -4.9343, -6.7148, -4.7603, -6.3091, -6.0455, -5.4105, -6.4512, -6.0759, -5.4858, -5.9703, -5.559, -5.5462, -5.3066, -4.7152, -3.8324, -5.0333, -5.4588, -4.5517, -5.6305, -5.4766, -6.0697, -5.5362, -6.032, -6.0032, -5.633, -5.8447, -5.4725, -5.7477, -5.8401, -5.9466, -7.4211, -7.545, -7.7538, -7.8772, -7.7591, -8.0804, -8.1469, -8.2182, -8.2559, -8.3357, -8.3357, -8.3781, -8.4225, -8.4688, -7.0795, -8.5175, -8.6225, -8.6225, -8.572, -8.6794, -8.7398, -8.7403, -8.8041, -8.8041, -8.8041, -8.8727, -8.8727, -8.8727, -8.8727, -8.8727, -7.2106, -8.6407, -8.75, -6.9283, -7.8517, -8.2191, -8.0203, -7.4102, -8.0557, -8.2766, -6.6385, -8.427, -6.9966, -7.2793, -8.1029, -5.2861, -6.792, -6.2179, -6.1108, -6.3016, -5.6173, -7.0634, -6.1391, -6.4924, -4.4071, -6.5451, -5.6576, -6.4177, -6.9658, -5.0561, -6.2091, -5.9208, -6.1602, -6.5644, -4.4128, -6.1881, -4.9801, -5.4881, -6.1952, -5.2079, -6.213, -6.0081, -6.1818, -6.1105, -6.0793, -5.8949, -6.1784, -6.1988, -6.273, -6.2469, -6.1864, -6.3619, -5.9835, -7.1052, -7.4094, -7.4457, -6.2277, -7.7469, -7.9076, -7.5919, -8.1014, -8.1014, -7.663, -8.2149, -8.2551, -7.2996, -8.3882, -8.4369, -8.488, -8.488, -8.5419, -8.5419, -7.4773, -8.5988, -8.5988, -8.4935, -8.4963, -8.6592, -8.6592, -8.6592, -8.6592, -7.9067, -8.0933, -7.6901, -6.1593, -5.7209, -7.4807, -6.2389, -6.1035, -7.6228, -6.2028, -8.1386, -6.8328, -5.6913, -6.4568, -6.7105, -7.1601, -7.8916, -6.8997, -7.1544, -7.3883, -4.8026, -6.4714, -4.8532, -5.7005, -5.7249, -4.8695, -4.9623, -5.4026, -6.5342, -6.5651, -6.631, -6.0116, -6.0603, -6.6847, -5.7867, -4.1818, -5.6392, -4.8221, -5.8533, -5.5306, -5.9335, -5.6588, -6.0227, -6.1523, -5.5942, -5.9821, -6.0208, -6.0676, -6.0922, -6.0983, -6.1188, -4.4118, -5.2443, -5.3759, -5.3759, -5.4101, -6.0008, -6.078, -6.3452, -6.4926, -6.5804, -6.6655, -6.6655, -6.7226, -6.7707, -6.7832, -5.7523, -6.9166, -6.9603, -7.1044, -7.1945, -7.3144, -7.3803, -5.6503, -7.4508, -7.4755, -7.4755, -6.2315, -7.5267, -7.5533, -7.5542, -5.8541, -6.5804, -5.8471, -6.3797, -5.4153, -5.2524, -6.2589, -6.5246, -5.6503, -4.4871, -4.6191, -4.4133, -4.0418, -5.2087, -5.9983, -3.8221, -6.0488, -3.8699, -6.2448, -5.7237, -5.4515, -5.4218, -5.4419, -5.7762, -5.9526, -5.8713, -5.7582, -5.9731, -5.9734, -6.8796, -7.2564, -6.9055, -6.7228, -7.2496, -7.8693, -7.3175, -7.676, -8.1811, -8.2919, -7.8133, -8.3523, -8.3523, -8.3523, -8.4165, -8.4165, -8.4165, -8.4852, -8.4852, -8.4852, -7.241, -7.8684, -8.6386, -8.6386, -8.6386, -8.6386, -8.6386, -7.8699, -8.7251, -8.7251, -4.8777, -7.9585, -7.4173, -7.9244, -8.13, -7.0925, -7.5835, -7.252, -7.331, -7.6539, -4.5176, -6.5345, -6.5793, -6.6654, -5.8048, -5.9717, -7.8856, -5.7362, -5.9864, -6.2526, -5.3876, -5.4132, -5.5369, -6.0846, -6.6422, -6.9228, -6.3497, -5.6966, -5.2537, -5.2357, -4.9408, -5.4215, -5.5473, -5.6905, -5.8663, -5.4121, -6.0063, -5.665, -5.0499, -4.9098, -5.2765, -5.2298, -6.0573, -6.1099, -5.8799, -6.086, -6.0272, -5.9872, -6.0802, -6.6447, -6.9931, -7.4618, -7.5306, -7.5306, -7.7711, -7.9192, -7.9711, -7.2004, -8.0885, -8.0885, -8.2214, -8.2951, -8.2951, -8.2951, -8.2951, -8.2951, -8.2951, -8.102, -8.3748, -8.3748, -8.3748, -8.3748, -8.4613, -8.4613, -8.556, -8.556, -8.5601, -6.6516, -8.6606, -7.703, -8.1402, -4.9933, -8.0412, -7.038, -6.7931, -6.5357, -6.8976, -4.4489, -7.1413, -5.9285, -6.057, -7.2699, -6.5488, -7.2534, -5.6379, -6.7473, -6.5853, -6.0734, -6.0854, -6.7305, -7.2144, -6.2776, -5.9651, -6.8855, -4.7625, -5.88, -5.4851, -5.4503, -5.6442, -6.3696, -5.1708, -6.311, -5.7225, -5.9648, -5.6261, -5.5631, -5.489, -6.3603, -5.8132, -5.4649, -5.6824, -6.241, -6.236, -6.0915, -6.1096, -6.2643, -6.2634, -6.3108, -7.5457, -7.9123, -7.9693, -7.9693, -8.0296, -8.0939, -8.0939, -8.0939, -8.0939, -8.0939, -8.0939, -8.0939, -8.1626, -8.1626, -8.1626, -8.1626, -8.1626, -8.2363, -8.2363, -8.2363, -8.2363, -8.3159, -8.3159, -8.3159, -7.6256, -8.4025, -8.4025, -8.4025, -8.4025, -8.4025, -7.8073, -7.5081, -8.1629, -7.403, -8.1049, -7.3955, -7.564, -8.0431, -7.5544, -7.3039, -5.8497, -6.9694, -7.3659, -5.7726, -6.3692, -7.4605, -6.7628, -6.8997, -5.8086, -6.1588, -6.1375, -6.7449, -6.4689, -5.2346, -7.0409, -7.8173, -6.7329, -6.0322, -6.0755, -6.0783, -6.3422, -6.6109, -6.3042, -5.5822, -5.8823, -6.2641, -6.8578, -6.9895, -6.7017, -6.7006, -6.4146, -6.7224, -7.0169, -6.5505, -6.5859, -6.6789, -6.7737, -6.8321, -6.8196, -4.9935, -5.6636, -5.6946, -5.8555, -5.7346, -6.2301, -6.3751, -6.6624, -6.3363, -5.7291, -6.8706, -4.3337, -6.9785, -7.0365, -6.9797, -7.1684, -6.1506, -7.3135, -7.3542, -7.441, -7.441, -5.6923, -7.2136, -7.5871, -6.7757, -7.641, -7.641, -7.6979, -7.8225, -7.8225, -6.9107, -6.7948, -4.5337, -6.8927, -5.9021, -6.8338, -5.9419, -7.0551, -5.4424, -5.4461, -6.1168, -4.795, -5.0736, -5.8117, -6.2051, -5.3628, -5.6405, -6.7416, -5.4496, -5.6286, -6.0597, -5.8884, -5.6397, -5.9095, -5.7541, -5.1724, -5.8257, -5.5622, -5.6444, -5.8501, -5.9444, -5.917, -4.5524, -5.4784, -6.2379, -6.9455, -7.0099, -7.0099, -7.0788, -7.1918, -7.1918, -7.2325, -7.2325, -7.1987, -7.4654, -7.5193, -7.5193, -7.6366, -7.7009, -7.7009, -7.7009, -7.7009, -7.7695, -7.7695, -7.8433, -7.9229, -8.0094, -8.0094, -8.0094, -8.0094, -8.0094, -8.0094, -7.4143, -7.4656, -7.0296, -7.5413, -7.1969, -6.7917, -5.6864, -6.0601, -6.3301, -5.8706, -5.217, -6.6787, -6.2003, -5.2899, -7.1443, -7.0061, -5.9045, -6.0073, -6.7691, -6.2512, -6.4739, -5.8566, -5.9436, -6.2869, -6.2958, -6.5296, -6.4672, -5.9903, -6.8779, -6.8408, -6.8197, -6.8573, -6.9907, -6.9853, -7.4179, -7.6533, -7.6533, -7.722, -7.8754, -7.8754, -7.8754, -7.9619, -7.9619, -8.0566, -8.0566, -8.0566, -8.0566, -8.0566, -8.1612, -8.1612, -8.1612, -7.4731, -8.2781, -8.2781, -8.2781, -8.2781, -8.2781, -8.4104, -8.4104, -8.4104, -8.4104, -8.4104, -7.7281, -8.563, -6.784, -7.9631, -8.0572, -7.3365, -8.2256, -7.3635, -7.6551, -6.9955, -6.4568, -7.7293, -7.5122, -6.8001, -7.315, -6.4171, -6.2854, -5.6082, -6.0164, -7.4731, -6.1275, -7.1006, -5.3847, -6.9149, -5.6199, -7.2473, -6.2441, -5.8635, -7.1293, -5.7703, -6.4842, -7.1486, -6.4981, -6.9037, -6.6424, -6.769, -6.8824, -6.506, -6.9555, -6.9392, -6.9221, -6.8887, -7.028, -7.0528, -7.0609, -7.0681], \"loglift\": [30.0, 29.0, 28.0, 27.0, 26.0, 25.0, 24.0, 23.0, 22.0, 21.0, 20.0, 19.0, 18.0, 17.0, 16.0, 15.0, 14.0, 13.0, 12.0, 11.0, 10.0, 9.0, 8.0, 7.0, 6.0, 5.0, 4.0, 3.0, 2.0, 1.0, 1.8235, 1.823, 1.822, 1.8215, 1.8208, 1.8208, 1.8202, 1.8201, 1.8201, 1.8198, 1.8197, 1.8196, 1.8196, 1.8195, 1.8195, 1.8195, 1.8191, 1.819, 1.8189, 1.8189, 1.8188, 1.8188, 1.8183, 1.8178, 1.8178, 1.8173, 1.8172, 1.8168, 1.8166, 1.8165, 1.8124, 1.8163, 1.8151, 1.8127, 1.8055, 1.7928, 1.6723, 1.6935, 1.7493, 1.7582, 1.7756, 1.4802, 1.4492, 1.6106, 1.6388, 1.7345, 1.5211, 1.7521, 1.4431, 1.5131, 1.423, 1.5498, 1.5369, 1.4515, 1.602, 1.207, 1.6519, 1.1911, 1.313, 1.3613, 1.1096, 1.235, 1.4676, 1.3, 0.6695, 1.4039, 1.2884, 0.4139, 1.1969, 0.97, 1.0934, -0.1397, 0.6095, 0.8769, 0.8761, 0.5108, 0.3121, -0.3786, 0.739, 0.7755, 2.1371, 2.1363, 2.1337, 2.1306, 2.1289, 2.1285, 2.1283, 2.1277, 2.1277, 2.127, 2.1245, 2.1243, 2.1237, 2.1229, 2.1227, 2.122, 2.122, 2.122, 2.122, 2.1219, 2.1211, 2.1211, 2.1194, 2.1191, 2.1191, 2.1191, 2.1179, 2.1179, 2.1179, 2.1173, 2.1171, 2.0848, 2.1072, 2.0742, 2.1063, 2.1069, 2.0944, 2.0968, 2.0494, 1.9415, 2.0556, 1.9462, 2.0398, 1.9712, 1.9306, 2.0189, 1.955, 1.9464, 1.831, 1.9133, 1.9505, 1.897, 1.6545, 1.8595, 1.879, 1.8833, 1.8118, 1.9721, 1.9801, 1.1645, 1.5768, 1.575, 1.9288, 1.5824, 1.4375, 1.6883, 1.6924, 1.6067, 1.1714, 1.1425, 1.0385, 1.2837, 1.2605, 0.3404, 0.8161, 0.8049, 1.1139, -0.6272, 0.9212, -0.3444, 0.2857, 0.73, -0.2705, 1.1116, 0.3976, -0.416, 2.3306, 2.3304, 2.3296, 2.3292, 2.3289, 2.3278, 2.3276, 2.3271, 2.3268, 2.3268, 2.3259, 2.3251, 2.3246, 2.3241, 2.3238, 2.3236, 2.3232, 2.3226, 2.3224, 2.3221, 2.3219, 2.3217, 2.3203, 2.32, 2.3194, 2.3194, 2.3189, 2.3189, 2.3185, 2.3179, 2.3153, 2.3124, 2.3092, 2.3138, 2.2902, 2.314, 2.3041, 2.2968, 2.2129, 2.2947, 2.0448, 2.2622, 2.0973, 2.0334, 1.9196, 2.0655, 1.9723, 1.5154, 1.8305, 1.8486, 0.5911, 1.9222, 1.4485, 1.6351, 1.6398, 0.7102, 0.7115, 0.0974, 1.1045, 1.0081, 0.4455, 1.0365, 1.6719, -0.0552, 2.3305, 2.3289, 2.3289, 2.3287, 2.3285, 2.3282, 2.3275, 2.3265, 2.3262, 2.3259, 2.3257, 2.3253, 2.3252, 2.3247, 2.3238, 2.3232, 2.3229, 2.3225, 2.3223, 2.3222, 2.3219, 2.3211, 2.3208, 2.3205, 2.3205, 2.3193, 2.3193, 2.318, 2.3177, 2.3168, 2.3134, 2.3154, 2.3161, 2.3139, 2.2988, 2.2864, 2.2909, 2.3003, 2.2989, 2.29, 2.1945, 2.2336, 2.15, 2.2767, 1.8734, 2.2128, 1.5363, 2.0995, 2.1051, 2.011, 1.7426, 1.9023, 1.8961, 1.4915, 1.7249, 1.5763, 0.6744, 1.3983, 1.3791, 0.2092, 1.3161, 1.3273, 0.1696, 1.3991, 0.5244, 0.8857, 0.4498, -0.0587, 0.4245, 0.793, 0.0576, 2.4792, 2.4782, 2.4758, 2.4756, 2.4756, 2.4754, 2.4752, 2.4716, 2.4716, 2.4712, 2.4704, 2.4703, 2.4703, 2.4698, 2.4697, 2.4696, 2.467, 2.467, 2.467, 2.4667, 2.4664, 2.4661, 2.4643, 2.4631, 2.4626, 2.4624, 2.4622, 2.4622, 2.4617, 2.4611, 2.4566, 2.4484, 2.4562, 2.4514, 2.4568, 2.4603, 2.4391, 2.4339, 2.4072, 2.4578, 2.4075, 2.397, 2.4561, 2.3983, 2.3324, 2.2733, 2.4349, 2.3373, 2.213, 2.37, 2.418, 2.2101, 2.1819, 2.1344, 2.0908, 2.1601, 1.9934, 2.2551, 2.069, 1.9833, 2.2394, 2.1221, 2.0432, 1.4749, 2.0364, 1.8769, 0.9873, 1.4276, 1.8061, 1.1807, 1.7765, 1.5527, 0.9969, 1.5507, -0.3453, 1.0534, 2.5314, 2.5306, 2.5284, 2.5282, 2.5272, 2.5268, 2.5264, 2.5264, 2.5256, 2.5254, 2.5248, 2.5246, 2.5236, 2.5222, 2.5222, 2.5221, 2.5216, 2.5206, 2.5204, 2.52, 2.5175, 2.5165, 2.5157, 2.5148, 2.5145, 2.5137, 2.5128, 2.5112, 2.5107, 2.508, 2.5063, 2.5002, 2.4964, 2.4959, 2.4732, 2.4766, 2.481, 2.341, 2.404, 2.4212, 2.4411, 2.3459, 2.456, 2.1366, 2.3447, 2.4147, 2.1449, 2.1792, 2.0487, 2.3909, 1.9661, 2.3036, 2.2406, 2.0807, 2.3154, 2.2081, 2.0021, 2.1373, 1.9701, 1.9555, 1.8216, 1.3864, 0.6159, 1.3787, 1.4862, 0.607, 1.5468, 1.225, 1.8707, 1.1729, 1.7565, 1.6697, 0.852, 1.0376, -0.4766, 0.1862, 0.2577, 0.9689, 2.5647, 2.5628, 2.5591, 2.5566, 2.5537, 2.5516, 2.5497, 2.5476, 2.5464, 2.5438, 2.5438, 2.5423, 2.5407, 2.5389, 2.5373, 2.5369, 2.5324, 2.5324, 2.5321, 2.5297, 2.5267, 2.5263, 2.5234, 2.5234, 2.5234, 2.5195, 2.5195, 2.5195, 2.5195, 2.5195, 2.5116, 2.5138, 2.5163, 2.4544, 2.4836, 2.4899, 2.4644, 2.4105, 2.4574, 2.4743, 2.2833, 2.4892, 2.2973, 2.3341, 2.4415, 1.9339, 2.1971, 2.0764, 1.9133, 1.8881, 1.6368, 2.1064, 1.7509, 1.8189, 0.9109, 1.8011, 1.2913, 1.6607, 1.9161, 0.912, 1.4965, 1.3203, 1.4276, 1.6229, 0.0355, 1.226, 0.0158, 0.4343, 1.1611, -0.0493, 1.1124, 0.8579, 0.9386, 0.6292, 0.441, 0.039, 0.2757, 0.2034, 0.263, -0.1649, -0.8201, 0.4289, 2.6259, 2.6251, 2.622, 2.6214, 2.6178, 2.6146, 2.6125, 2.6122, 2.6074, 2.6074, 2.6054, 2.6034, 2.6026, 2.6003, 2.5978, 2.5958, 2.5938, 2.5938, 2.5914, 2.5914, 2.5901, 2.5888, 2.5888, 2.5883, 2.5859, 2.5859, 2.5859, 2.5859, 2.5859, 2.5856, 2.5839, 2.5785, 2.5553, 2.5362, 2.5688, 2.5325, 2.525, 2.5635, 2.5165, 2.577, 2.5004, 2.4145, 2.4371, 2.4424, 2.4797, 2.5504, 2.3811, 2.4257, 2.4598, 1.9408, 2.2798, 1.8559, 2.0441, 2.0057, 1.7553, 1.7393, 1.8403, 2.2068, 2.181, 2.198, 1.8668, 1.8801, 2.1956, 1.6339, 0.2664, 1.278, 0.3365, 1.029, 0.5711, 0.9431, 0.2751, 0.9439, 1.0251, -0.5983, 0.0999, 0.2452, 0.1352, 0.3198, 0.3569, 0.3662, 3.0052, 3.0041, 3.0037, 3.0037, 3.0036, 3.0013, 3.0008, 2.999, 2.9979, 2.9971, 2.9963, 2.9963, 2.9957, 2.9951, 2.995, 2.9939, 2.9933, 2.9927, 2.9906, 2.9891, 2.9869, 2.9856, 2.9852, 2.9841, 2.9835, 2.9835, 2.9832, 2.9823, 2.9817, 2.9809, 2.9762, 2.9748, 2.9546, 2.9614, 2.9052, 2.897, 2.9247, 2.9234, 2.7931, 2.6247, 2.4659, 2.3417, 2.056, 2.3745, 2.6609, 1.1738, 2.5541, 0.5784, 2.61, 1.8927, 1.1084, 1.0532, 1.0613, 1.1727, 1.6445, 1.2577, 0.2099, 1.7057, 0.5974, 3.0002, 2.9944, 2.9892, 2.988, 2.9821, 2.9779, 2.9745, 2.9718, 2.9667, 2.9614, 2.9613, 2.9583, 2.9583, 2.9583, 2.9548, 2.9548, 2.9548, 2.9507, 2.9507, 2.9507, 2.9475, 2.9408, 2.9408, 2.9408, 2.9408, 2.9408, 2.9408, 2.9377, 2.9345, 2.9345, 2.911, 2.9223, 2.9068, 2.9183, 2.9202, 2.8688, 2.8899, 2.8637, 2.8623, 2.8775, 2.4813, 2.7131, 2.6898, 2.6779, 2.4763, 2.4906, 2.8603, 2.3133, 2.2679, 2.3265, 1.9244, 1.9334, 1.8866, 2.1255, 2.3744, 2.4669, 2.1356, 1.7256, 1.3404, 1.2804, 1.0152, 1.3745, 1.3293, 1.2544, 1.4259, 0.8539, 1.5399, 0.9599, -0.054, -0.4615, 0.0899, -0.0712, 1.4214, 1.5357, 0.2021, 1.0125, 0.4578, -0.0648, 0.3319, 3.3591, 3.3526, 3.3409, 3.3386, 3.3386, 3.3293, 3.3202, 3.3197, 3.3191, 3.3132, 3.3132, 3.3048, 3.2998, 3.2998, 3.2998, 3.2998, 3.2998, 3.2998, 3.2973, 3.2939, 3.2939, 3.2939, 3.2939, 3.287, 3.287, 3.2787, 3.2787, 3.2739, 3.273, 3.2688, 3.2642, 3.2533, 3.0702, 3.2431, 3.1448, 3.12, 3.0511, 3.0868, 2.5358, 3.056, 2.6366, 2.5858, 2.9561, 2.698, 2.9249, 2.3244, 2.7085, 2.5731, 2.2895, 2.2643, 2.5951, 2.827, 2.2077, 1.8647, 2.53, 0.5554, 1.5407, 1.109, 1.0658, 1.2018, 1.9315, 0.4096, 1.7582, 0.8918, 1.2151, 0.5767, 0.3929, -0.3303, 1.745, 0.1092, -1.0166, -0.6865, 1.1825, 1.0562, 0.2177, 0.1563, 0.5317, 0.376, 0.6726, 3.4411, 3.424, 3.4208, 3.4208, 3.4171, 3.4131, 3.4131, 3.4131, 3.4131, 3.4131, 3.4131, 3.4131, 3.4084, 3.4084, 3.4084, 3.4084, 3.4084, 3.4031, 3.4031, 3.4031, 3.4031, 3.3969, 3.3969, 3.3969, 3.3902, 3.3896, 3.3896, 3.3896, 3.3896, 3.3896, 3.3738, 3.3575, 3.3546, 3.2339, 3.327, 3.0319, 3.0675, 3.2793, 3.0551, 2.8732, 2.018, 2.6045, 2.7757, 1.3392, 1.6952, 2.7307, 2.0204, 2.0995, 0.9347, 1.2619, 1.2186, 1.7813, 1.347, -0.2387, 2.0641, 3.037, 1.532, 0.4709, 0.4845, 0.3967, 0.7563, 1.1619, 0.3329, -1.1339, -0.7236, 0.1382, 1.3717, 1.6111, 0.6697, 0.605, -0.4465, 0.4842, 1.6865, -0.6281, -0.4842, -0.0826, -0.0699, 0.3762, -0.2859, 3.8167, 3.8067, 3.8064, 3.8063, 3.8063, 3.8059, 3.8035, 3.7977, 3.795, 3.792, 3.7912, 3.7908, 3.7883, 3.7873, 3.7867, 3.7788, 3.778, 3.7768, 3.775, 3.7709, 3.7709, 3.7683, 3.7639, 3.7632, 3.7605, 3.7601, 3.7601, 3.7566, 3.7484, 3.7484, 3.738, 3.7352, 3.6849, 3.7357, 3.6571, 3.7141, 3.6399, 3.7241, 3.3406, 3.3412, 3.4535, 2.7882, 2.8361, 3.1305, 3.2807, 2.5188, 2.6522, 3.5453, 1.8816, 2.1168, 2.4528, 2.0552, 1.4721, 1.963, 1.5817, -0.7241, 1.3686, -0.5663, -0.4857, 0.7462, 0.9216, 0.349, 4.0542, 4.0487, 4.0384, 4.0187, 4.0161, 4.0161, 4.0132, 4.008, 4.008, 4.0059, 4.0059, 3.9972, 3.9928, 3.9893, 3.9893, 3.981, 3.9761, 3.9761, 3.9761, 3.9761, 3.9706, 3.9706, 3.9642, 3.9568, 3.9482, 3.9482, 3.9482, 3.9482, 3.9482, 3.9482, 3.9275, 3.922, 3.8983, 3.8846, 3.8183, 3.6337, 3.1017, 3.187, 3.0467, 2.6207, 2.1225, 3.1582, 2.6349, 1.655, 3.4293, 3.185, 1.3293, 1.4945, 2.6634, 1.6166, 1.8791, 0.2451, 0.4586, 0.2292, 0.1892, 1.163, 0.8524, -1.5421, 1.8529, 0.0764, -0.8516, -1.8613, 2.3625, -1.0629, 4.0834, 4.066, 4.066, 4.0602, 4.0458, 4.0458, 4.0458, 4.0368, 4.0368, 4.0261, 4.0261, 4.0261, 4.0261, 4.0261, 4.0132, 4.0132, 4.0132, 4.0021, 3.9972, 3.9972, 3.9972, 3.9972, 3.9972, 3.9772, 3.9772, 3.9772, 3.9772, 3.9772, 3.9534, 3.9511, 3.9245, 3.9166, 3.9158, 3.7034, 3.9194, 3.5809, 3.613, 3.2474, 2.935, 3.6406, 3.4835, 2.8322, 3.2335, 2.3814, 2.2059, 1.2684, 1.203, 3.1692, 1.1154, 2.5182, -0.3888, 2.1631, -0.4612, 2.5375, 0.3702, -0.4971, 2.2077, -1.3221, 0.0865, 2.0756, -0.2322, 1.155, -0.0175, 0.3295, 0.6638, -1.1881, 0.7458, 0.5842, -0.0163, -0.787, 0.5503, 0.3033, 0.3644, -0.1192]}, \"token.table\": {\"Topic\": [8, 15, 1, 2, 3, 4, 5, 6, 7, 8, 9, 10, 11, 12, 13, 14, 15, 1, 2, 3, 4, 5, 6, 7, 8, 9, 10, 11, 12, 13, 14, 15, 1, 2, 3, 10, 12, 14, 2, 6, 8, 6, 1, 2, 3, 4, 5, 6, 7, 8, 9, 10, 11, 12, 13, 14, 15, 7, 1, 2, 7, 7, 7, 1, 13, 11, 11, 1, 2, 3, 4, 5, 6, 7, 8, 9, 10, 11, 12, 13, 14, 15, 2, 14, 14, 14, 1, 2, 3, 5, 7, 11, 12, 14, 1, 12, 2, 3, 5, 11, 12, 2, 5, 1, 2, 4, 5, 7, 8, 9, 12, 4, 9, 13, 13, 13, 13, 1, 2, 8, 1, 2, 3, 4, 5, 6, 7, 8, 9, 10, 11, 12, 13, 15, 1, 2, 3, 5, 6, 7, 8, 9, 12, 13, 15, 1, 1, 1, 1, 2, 3, 4, 6, 7, 9, 10, 11, 12, 13, 5, 1, 2, 3, 4, 5, 6, 7, 8, 9, 10, 11, 12, 13, 14, 15, 11, 6, 8, 9, 14, 1, 12, 11, 15, 1, 2, 3, 4, 5, 6, 7, 8, 9, 10, 11, 12, 13, 14, 15, 12, 14, 7, 13, 7, 6, 15, 8, 14, 1, 2, 3, 4, 5, 6, 7, 8, 9, 10, 11, 12, 13, 10, 12, 1, 2, 3, 4, 5, 6, 7, 8, 9, 10, 11, 12, 13, 14, 15, 1, 2, 3, 4, 5, 7, 8, 10, 11, 9, 7, 8, 2, 5, 6, 7, 10, 11, 15, 5, 10, 7, 1, 2, 3, 4, 6, 7, 8, 9, 10, 11, 12, 13, 15, 9, 2, 1, 2, 3, 5, 6, 7, 9, 10, 11, 12, 13, 15, 9, 1, 3, 6, 7, 12, 1, 15, 14, 10, 11, 15, 5, 5, 4, 14, 7, 15, 1, 2, 3, 4, 5, 6, 7, 8, 9, 10, 11, 12, 13, 14, 15, 1, 2, 13, 1, 2, 13, 2, 3, 5, 6, 8, 14, 8, 8, 1, 2, 3, 5, 6, 7, 8, 9, 10, 11, 12, 14, 5, 9, 11, 12, 3, 7, 2, 6, 15, 6, 1, 2, 3, 5, 12, 14, 1, 2, 3, 4, 5, 6, 7, 8, 10, 12, 13, 14, 2, 4, 7, 12, 2, 3, 11, 12, 8, 1, 2, 3, 4, 5, 6, 7, 8, 9, 10, 11, 12, 13, 14, 15, 1, 2, 5, 6, 7, 8, 10, 1, 3, 6, 8, 10, 1, 3, 4, 6, 8, 9, 10, 12, 14, 6, 1, 2, 3, 6, 7, 8, 9, 12, 9, 9, 4, 10, 3, 4, 6, 7, 8, 15, 8, 8, 5, 5, 5, 3, 4, 5, 7, 9, 10, 12, 14, 5, 15, 1, 2, 3, 4, 5, 6, 7, 8, 9, 10, 11, 12, 13, 14, 1, 2, 3, 4, 5, 6, 7, 8, 9, 10, 11, 12, 13, 15, 2, 3, 7, 8, 9, 10, 14, 10, 1, 2, 3, 4, 5, 6, 7, 8, 11, 5, 5, 2, 11, 8, 2, 3, 4, 5, 6, 7, 8, 9, 11, 12, 13, 14, 15, 5, 7, 1, 2, 3, 4, 5, 6, 9, 10, 11, 12, 14, 15, 15, 1, 2, 3, 4, 5, 6, 7, 8, 9, 10, 11, 12, 13, 14, 15, 5, 7, 2, 11, 2, 1, 2, 4, 5, 6, 7, 8, 10, 11, 8, 15, 11, 1, 2, 3, 4, 5, 6, 7, 8, 11, 14, 5, 1, 2, 3, 4, 5, 7, 8, 11, 12, 13, 14, 15, 5, 7, 10, 11, 10, 11, 1, 2, 3, 4, 5, 6, 7, 8, 9, 10, 12, 13, 14, 15, 12, 1, 2, 4, 6, 8, 10, 11, 15, 1, 2, 4, 8, 10, 11, 1, 1, 4, 6, 8, 10, 14, 1, 2, 4, 8, 10, 11, 14, 15, 1, 4, 15, 1, 4, 1, 2, 3, 4, 5, 6, 7, 9, 12, 3, 4, 6, 7, 8, 10, 11, 12, 8, 8, 10, 1, 2, 3, 4, 5, 6, 7, 8, 9, 10, 11, 12, 13, 14, 15, 1, 13, 1, 2, 4, 2, 4, 4, 4, 4, 1, 2, 3, 4, 6, 7, 8, 10, 11, 12, 11, 4, 6, 7, 11, 12, 3, 4, 6, 7, 11, 12, 4, 11, 1, 2, 4, 5, 7, 8, 9, 11, 12, 14, 15, 2, 7, 8, 10, 11, 15, 1, 9, 11, 14, 9, 14, 1, 2, 3, 4, 5, 6, 7, 8, 9, 10, 11, 12, 13, 15, 1, 2, 4, 9, 1, 3, 4, 6, 7, 8, 9, 11, 12, 15, 7, 15, 2, 4, 11, 2, 7, 10, 11, 1, 2, 3, 7, 8, 9, 11, 12, 13, 15, 12, 2, 10, 1, 2, 3, 4, 5, 6, 8, 9, 11, 12, 14, 15, 12, 1, 3, 5, 7, 8, 9, 11, 12, 13, 2, 3, 4, 6, 7, 8, 9, 10, 11, 14, 15, 13, 1, 2, 3, 4, 6, 7, 8, 11, 13, 1, 4, 7, 1, 13, 1, 2, 4, 6, 7, 8, 10, 11, 15, 1, 2, 3, 4, 5, 6, 7, 8, 9, 10, 11, 12, 14, 15, 6, 8, 3, 4, 5, 6, 8, 3, 4, 5, 6, 7, 8, 9, 10, 11, 12, 14, 15, 1, 2, 3, 4, 5, 6, 7, 8, 10, 11, 12, 13, 14, 15, 2, 3, 4, 6, 8, 10, 6, 2, 3, 8, 9, 10, 9, 10, 10, 5, 8, 4, 6, 8, 10, 12, 3, 4, 6, 8, 10, 12, 15, 3, 4, 8, 10, 12, 15, 8, 8, 3, 8, 8, 1, 2, 3, 4, 5, 6, 7, 8, 9, 10, 11, 12, 14, 15, 1, 4, 9, 9, 9, 7, 12, 2, 3, 4, 5, 6, 7, 8, 10, 11, 12, 13, 14, 15, 5, 1, 2, 3, 4, 5, 6, 7, 8, 9, 10, 11, 12, 14, 15, 1, 2, 3, 4, 5, 6, 7, 8, 9, 10, 11, 12, 14, 15, 15, 7, 13, 13, 1, 2, 7, 10, 2, 10, 1, 2, 4, 6, 7, 8, 10, 11, 15, 11, 15, 8, 8, 15, 1, 2, 3, 7, 9, 12, 1, 2, 7, 11, 10, 1, 2, 7, 1, 2, 4, 7, 8, 10, 11, 1, 2, 3, 4, 5, 6, 11, 1, 2, 4, 5, 7, 8, 10, 11, 13, 2, 10, 11, 11, 6, 2, 13, 13, 13, 1, 2, 3, 4, 5, 6, 7, 8, 9, 10, 11, 12, 13, 14, 2, 4, 7, 9, 14, 3, 4, 6, 7, 8, 9, 10, 11, 13, 15, 1, 7, 15, 2, 3, 4, 5, 6, 7, 8, 10, 11, 12, 15, 1, 2, 3, 4, 5, 6, 7, 8, 9, 10, 11, 12, 13, 15, 3, 4, 5, 6, 8, 2, 11, 2, 10, 6, 1, 2, 3, 4, 6, 8, 9, 10, 11, 12, 13, 15, 1, 2, 7, 13, 2, 15, 11, 10, 1, 2, 3, 4, 5, 6, 7, 8, 9, 10, 11, 12, 1, 2, 3, 6, 7, 9, 10, 11, 12, 13, 15, 2, 7, 15, 2, 7, 15, 2, 15, 1, 2, 3, 4, 5, 6, 7, 8, 9, 10, 11, 12, 13, 1, 2, 3, 6, 11, 12, 15, 1, 2, 3, 4, 6, 7, 9, 10, 11, 14, 15, 2, 7, 11, 6, 1, 8, 10, 11, 4, 6, 7, 10, 11, 1, 2, 3, 4, 6, 7, 8, 10, 11, 12, 15, 2, 10, 11, 12, 15, 7, 2, 13, 13, 1, 2, 3, 4, 5, 6, 7, 8, 9, 10, 11, 12, 13, 14, 15, 7, 1, 3, 4, 6, 7, 8, 11, 12, 15, 1, 2, 3, 4, 5, 6, 7, 8, 9, 10, 11, 14, 15, 11, 11, 2, 4, 7, 10, 11, 15, 1, 2, 3, 4, 5, 6, 7, 8, 9, 10, 12, 13, 14, 15, 1, 3, 7, 9, 12, 1, 2, 3, 7, 8, 9, 11, 14, 15, 11, 2, 11, 15, 2, 7, 11, 1, 2, 7, 11, 4, 1, 2, 3, 4, 5, 7, 10, 12, 3, 1, 2, 4, 5, 7, 11, 12, 14, 15, 2, 5, 1, 2, 3, 4, 6, 7, 8, 9, 10, 12, 13, 14, 15, 1, 1, 2, 3, 4, 6, 7, 8, 11, 12, 14, 10, 3, 4, 6, 7, 8, 11, 12, 15, 15, 1, 2, 3, 4, 5, 6, 7, 8, 10, 11, 12, 13, 2, 3, 4, 6, 7, 8, 10, 11, 12, 1, 2, 3, 4, 6, 7, 8, 9, 10, 11, 12, 13, 10, 1, 3, 7, 12, 1, 2, 3, 4, 6, 7, 8, 10, 12, 13, 15, 3, 7, 3, 1, 2, 3, 4, 5, 6, 7, 8, 9, 10, 11, 12, 13, 14, 15, 5, 1, 7, 1, 2, 3, 4, 5, 6, 7, 8, 9, 10, 11, 12, 13, 14, 12, 1, 2, 3, 4, 5, 6, 7, 8, 9, 11, 12, 13, 1, 2, 13, 1, 2, 3, 4, 5, 6, 7, 8, 9, 10, 11, 12, 14, 1, 2, 3, 5, 6, 7, 11, 1, 2, 3, 4, 6, 7, 8, 9, 10, 12, 13, 14, 15, 2, 6, 8, 10, 7, 15, 1, 2, 3, 4, 5, 6, 7, 8, 9, 10, 11, 12, 14, 15, 9, 9, 14, 3, 9, 1, 2, 3, 4, 5, 6, 7, 8, 9, 10, 11, 12, 13, 14, 15, 2, 5, 14, 14, 1, 2, 3, 4, 5, 6, 7, 8, 9, 10, 11, 12, 15, 8, 12, 14, 1, 2, 4, 8, 9, 11, 12, 13, 7, 8, 10, 14, 15, 1, 2, 3, 4, 5, 6, 7, 11, 14, 5, 1, 2, 3, 4, 7, 8, 9, 12, 13, 14, 1, 2, 3, 4, 7, 9, 13, 11, 11, 12, 1, 2, 3, 4, 7, 9, 13, 12, 1, 2, 3, 4, 5, 6, 7, 8, 9, 10, 11, 12, 13, 14, 15, 1, 2, 3, 4, 5, 6, 7, 8, 9, 10, 11, 12, 13, 15, 2, 6, 10, 11, 7, 1, 2, 3, 4, 5, 6, 7, 8, 9, 10, 11, 12, 13, 1, 2, 3, 7, 13, 1, 2, 5, 6, 7, 8, 9, 11, 11, 15, 14, 1, 2, 3, 4, 5, 6, 7, 8, 9, 10, 11, 12, 13, 14, 15, 7, 2, 3, 4, 6, 7, 8, 10, 11, 12, 15, 1, 4, 7, 12, 14, 4, 4, 4, 4, 7, 11, 13, 1, 2, 3, 4, 5, 6, 7, 8, 9, 10, 11, 12, 13, 14, 15, 4, 1, 1, 7, 12, 1, 2, 3, 4, 7, 11, 13, 1, 2, 3, 4, 7, 10, 13, 2, 1, 2, 3, 4, 7, 9, 13, 1, 7, 1, 2, 9, 10, 11, 12, 13, 14, 1, 2, 4, 7, 10, 15, 4, 4, 9, 12, 5, 6, 12, 14, 1, 2, 4, 5, 6, 7, 8, 10, 11, 12, 13, 14, 15, 1, 4, 11, 1, 1, 1, 2, 7, 8, 10, 11, 2, 2, 4, 7, 8, 10, 11, 12, 2, 2, 10, 2, 2, 2, 3, 4, 5, 6, 7, 8, 9, 10, 11, 12, 13, 14, 3, 14, 2, 4, 6, 7, 10, 11, 2, 4, 6, 7, 10, 11, 12, 1, 2, 3, 4, 5, 6, 7, 8, 9, 10, 11, 12, 14, 15, 6, 14, 15, 2, 4, 10, 11, 15, 2, 15, 15, 2, 4, 6, 7, 10, 11, 12, 2, 11, 11, 1, 2, 5, 7, 9, 10, 13, 6, 8, 6, 6, 8, 4, 6, 8, 6, 11, 1, 2, 4, 5, 8, 9, 12, 1, 9, 13, 12, 12, 6, 13, 1, 14, 10, 1, 2, 3, 4, 5, 7, 10, 11, 12, 15, 3, 3, 3, 3, 3, 6, 8, 12, 14, 6, 1, 2, 3, 4, 5, 6, 7, 8, 9, 10, 11, 12, 13, 14, 15, 2, 13, 6, 1, 2, 3, 4, 5, 6, 7, 8, 9, 10, 11, 12, 14, 15, 3, 5, 7, 3, 4, 5, 8, 10, 11, 12, 3, 3, 3, 3, 1, 2, 3, 4, 5, 6, 7, 8, 9, 10, 11, 13, 15, 1, 12, 1, 1, 1, 1, 3, 8, 12, 7, 10, 1, 2, 3, 4, 7, 8, 9, 11, 13, 15, 1, 2, 3, 4, 5, 6, 7, 8, 9, 10, 11, 12, 13, 1, 2, 3, 4, 6, 7, 8, 9, 12, 13, 15, 13, 4, 4, 1, 2, 3, 4, 5, 6, 7, 8, 10, 11, 12, 14, 15, 1, 2, 3, 4, 5, 6, 7, 10, 11, 12, 15, 15, 2, 3, 4, 6, 7, 10, 11, 12, 15, 1, 2, 3, 4, 5, 6, 7, 10, 11, 12, 15, 5, 2, 4, 7, 10, 11, 15, 7, 9, 13, 7, 1, 2, 5, 9, 10, 12, 14, 1, 12, 1, 12, 14, 1, 2, 3, 5, 13, 14, 6, 12, 5, 15, 1, 2, 3, 4, 5, 6, 7, 8, 9, 10, 12, 13, 14, 15, 4, 2, 13, 1, 2, 3, 4, 6, 7, 9, 11, 12, 13, 14, 4, 6, 4, 11, 1, 2, 3, 12, 13, 3, 14, 14, 10, 1, 10, 1, 2, 3, 4, 5, 6, 7, 9, 11, 12, 13, 14, 2, 3, 4, 6, 7, 8, 10, 8, 3, 1, 2, 4, 7, 9, 10, 11, 13, 14, 15, 2, 11, 3, 12, 14, 1, 2, 3, 4, 5, 6, 7, 8, 10, 11, 12, 13, 2, 5, 7, 13, 2, 3, 4, 5, 7, 11, 8, 1, 2, 3, 4, 5, 6, 7, 8, 9, 10, 11, 12, 13, 15, 3, 8, 4, 5, 6, 9, 11, 12, 14, 4, 6, 12, 14, 6, 14, 1, 2, 5, 6, 7, 9, 14, 7, 9, 9, 9, 9, 9, 9, 15, 1, 2, 3, 4, 6, 7, 8, 9, 10, 11, 14, 2, 14, 7, 10, 10, 15, 15, 2, 2, 10, 2, 13, 13, 7, 2, 3, 13, 13, 2, 15, 2, 3, 5, 6, 7, 9, 10, 11, 12, 13, 3, 4, 6, 7, 8, 14, 14, 14, 14, 14, 14, 14, 14, 14, 12, 1, 2, 5, 6, 7, 9, 11, 13, 2, 1, 1, 2, 3, 4, 7, 8, 9, 12, 13, 2, 13, 13, 4, 2, 3, 4, 5, 6, 7, 8, 9, 12, 14, 6, 8, 6, 12, 1, 2, 3, 4, 5, 6, 7, 8, 9, 10, 11, 12, 14, 15, 1, 3, 5, 6, 7, 8, 9, 10, 12, 14, 1, 2, 3, 4, 5, 6, 7, 8, 9, 10, 11, 12, 14, 15, 3, 7, 12, 14, 1, 2, 3, 4, 5, 6, 7, 8, 9, 10, 11, 12, 13, 14, 15, 2, 9, 13, 1, 2, 3, 4, 6, 7, 8, 10, 11, 13, 15, 11, 1, 2, 3, 7, 8, 9, 11, 12, 13, 15, 7, 7, 7, 13, 6, 8, 10, 5, 2, 3, 4, 6, 7, 8, 10, 12, 14, 3, 3, 3, 1, 2, 3, 4, 5, 6, 7, 8, 9, 10, 11, 14, 12, 1, 2, 3, 4, 6, 7, 8, 9, 10, 11, 12, 13, 14, 1, 9, 12, 14, 1, 2, 3, 4, 5, 6, 7, 8, 9, 10, 11, 12, 13, 14, 15, 1, 3, 7, 9, 10, 11, 13, 1, 2, 3, 4, 5, 6, 7, 8, 9, 10, 11, 12, 13, 14, 15, 1, 2, 3, 4, 5, 6, 7, 8, 10, 11, 12, 14, 15, 4, 1, 4, 2, 7, 15, 1, 2, 3, 4, 7, 8, 10, 15, 1, 2, 3, 4, 5, 6, 7, 10, 15, 2, 4, 6, 7, 8, 10, 11, 12, 15, 2, 11, 2, 4, 6, 7, 10, 11, 2, 5, 7, 10, 11, 12, 15, 2, 7, 1, 2, 3, 4, 5, 6, 7, 8, 9, 10, 12, 13, 14, 15, 1, 3, 4, 5, 6, 7, 8, 10, 12, 14, 15, 6, 1, 2, 3, 4, 5, 6, 7, 8, 9, 10, 11, 12, 14, 15, 5, 6, 3, 5, 6, 8, 12, 6, 8, 12, 1, 2, 3, 4, 5, 6, 7, 8, 9, 14, 15, 6, 6, 14, 1, 6, 1, 2, 3, 4, 5, 6, 7, 8, 9, 10, 11, 12, 13, 14, 15, 1, 2, 3, 4, 5, 6, 7, 8, 9, 10, 11, 12, 13, 14, 15, 1, 2, 7, 11, 12, 13, 1, 2, 3, 4, 5, 6, 7, 8, 10, 11, 12, 13, 1, 2, 3, 4, 5, 6, 7, 8, 9, 10, 11, 12, 14, 15, 2, 3, 5, 7, 9, 10, 12, 14, 5, 2, 5, 1, 2, 3, 4, 5, 7, 8, 9, 10, 11, 12, 13, 14, 15, 7, 12, 1, 2, 3, 8, 9, 10, 12, 12, 15, 4, 8, 9, 12, 15, 7, 15, 9, 9, 1, 4, 5, 4, 1, 2, 3, 4, 5, 6, 7, 8, 9, 10, 11, 12, 14, 15, 12, 3, 4, 6, 7, 11, 12, 1, 2, 3, 4, 5, 6, 7, 8, 14, 5, 6, 1, 2, 3, 4, 5, 6, 7, 9, 11, 12, 14, 15, 6, 14, 1, 2, 3, 4, 5, 6, 7, 8, 9, 10, 11, 12, 13, 14, 15, 1, 3, 4, 9, 12, 2, 1, 2, 3, 4, 6, 7, 8, 10, 11, 12, 15, 1, 2, 3, 4, 5, 6, 7, 8, 9, 10, 11, 12, 13, 14, 15, 1, 2, 4, 1, 2, 3, 4, 5, 6, 7, 8, 9, 10, 11, 12, 13, 14, 15, 2, 6, 7, 8, 10, 11, 1, 2, 4, 7, 8, 10, 11, 15, 3, 7, 10, 15, 2, 7, 10, 11, 1, 2, 3, 4, 8, 2, 5, 7, 9, 11, 13, 1, 2, 3, 4, 5, 6, 7, 8, 9, 10, 11, 12, 13, 14, 15, 10, 1, 2, 3, 4, 5, 6, 7, 8, 9, 10, 11, 12, 13, 14, 15, 9, 3, 12, 1, 2, 3, 4, 5, 6, 7, 8, 11, 12, 13, 1, 3, 4, 15, 1, 4, 1, 4, 7, 4, 1, 2, 3, 4, 5, 6, 7, 8, 9, 10, 12, 13, 14, 15, 5, 1, 2, 4, 5, 6, 7, 8, 9, 10, 14, 5, 1, 2, 3, 4, 6, 7, 8, 9, 10, 11, 12, 15, 12, 1, 2, 3, 4, 6, 7, 8, 9, 10, 11, 12, 13, 14, 15, 1, 2, 3, 4, 5, 6, 7, 8, 9, 10, 11, 12, 13, 14, 15, 11, 3, 6, 10, 12, 3, 6, 7, 8, 9, 10, 12, 14, 14, 6, 13, 10, 1, 2, 3, 4, 5, 6, 7, 8, 9, 10, 11, 12, 13, 15, 2, 5, 11, 1, 2, 3, 4, 5, 6, 7, 8, 10, 11, 12, 13, 14, 15, 6, 8, 1, 3, 4, 6, 7, 8, 10, 12, 15, 4, 10, 2, 13, 2, 13, 12, 12, 11, 5, 7, 7, 2, 4, 5, 7, 8, 9, 10, 11, 13, 14, 4, 5, 7, 11, 13, 2, 1, 2, 3, 4, 5, 6, 7, 8, 9, 11, 15, 3, 5, 1, 2, 3, 4, 5, 6, 7, 8, 9, 10, 11, 12, 13, 14, 15, 14, 14, 1, 2, 3, 4, 5, 6, 7, 8, 9, 10, 11, 12, 13, 14, 11, 3, 4, 5, 8, 3, 3, 4, 5, 12, 3, 3, 3, 3, 10, 12, 3, 3, 2, 3, 4, 6, 8, 10, 12, 3, 4, 8, 4, 8, 1, 3, 4, 6, 8, 10, 15, 8, 10, 1, 2, 3, 4, 6, 7, 8, 9, 10, 11, 12, 14, 15, 1, 2, 3, 4, 5, 7, 8, 10, 12, 1, 2, 3, 4, 5, 7, 10, 12, 13, 1, 2, 3, 4, 5, 7, 8, 9, 10, 11, 12, 13, 2, 7, 12, 1, 2, 5, 6, 7, 9, 15, 5, 5, 2, 3, 4, 5, 6, 7, 8, 9, 10, 11, 12, 13, 15, 2, 3, 4, 5, 6, 7, 8, 9, 10, 11, 12, 15, 8, 10, 1, 2, 3, 4, 5, 6, 7, 8, 9, 10, 11, 12, 13, 14, 15, 7, 13, 1, 2, 3, 6, 7, 8, 9, 11, 12, 14, 2, 3, 4, 7, 8, 9, 10, 14, 15, 10, 10, 1, 2, 3, 4, 5, 6, 7, 8, 9, 10, 11, 12, 13, 14, 15, 14, 1, 2, 11, 1, 2, 3, 4, 5, 6, 7, 8, 9, 10, 11, 12, 13, 14, 9, 2, 3, 5, 7, 8, 9, 10, 11, 12, 15, 5, 15, 3, 10, 11, 10, 11, 10, 11, 2, 15, 1, 2, 3, 4, 5, 6, 7, 8, 9, 10, 11, 12, 13, 14, 15, 2, 5, 6, 7, 10, 11, 1, 2, 3, 4, 5, 6, 7, 8, 9, 10, 11, 12, 15, 2, 4, 7, 10, 2, 2, 11, 1, 2, 2, 10, 8, 12, 1, 3, 4, 5, 7, 8, 9, 10, 11, 3, 5, 7, 9, 11, 1, 2, 3, 4, 5, 6, 7, 8, 9, 10, 11, 12, 13, 14, 15, 6, 8, 2, 7, 11, 15, 6, 1, 2, 4, 13, 13, 2, 3, 4, 5, 6, 7, 8, 9, 10, 11, 12, 14, 15, 2, 4, 7, 10, 11, 15, 1, 2, 3, 4, 5, 6, 7, 8, 9, 10, 11, 12, 13, 14, 15, 7, 1, 2, 3, 4, 5, 6, 7, 8, 9, 10, 11, 12, 13, 14, 15, 5, 7, 8, 9, 10, 11, 7, 1, 2, 3, 4, 5, 6, 7, 8, 10, 11, 12, 13, 14, 6, 8, 10, 1, 2, 3, 4, 6, 7, 8, 9, 10, 11, 12, 13, 14, 15, 2, 11, 2, 11, 14, 1, 5, 9, 12, 14, 15, 14, 1, 2, 3, 4, 5, 6, 7, 8, 9, 10, 11, 12, 13, 14, 15, 1, 5, 9, 10, 12, 14, 15, 14, 1, 2, 3, 4, 5, 6, 7, 8, 9, 10, 11, 12, 13, 14, 15, 1, 2, 3, 4, 5, 6, 7, 8, 9, 10, 11, 12, 13, 14, 15, 1, 2, 3, 4, 5, 6, 7, 8, 9, 10, 11, 12, 13, 14, 15, 6, 10, 8, 3, 4, 6, 9, 14, 2, 3, 5, 6, 7, 8, 10, 15, 9, 9, 3, 6, 8, 1, 2, 3, 5, 6, 7, 8, 1, 3, 4, 15, 1, 2, 3, 4, 6, 7, 8, 12, 14, 3, 6, 14, 9, 1, 3, 5, 6, 7, 9, 13, 15, 5, 7, 8, 8, 3, 4, 6, 8, 4, 6, 8, 15, 2, 8, 9, 9, 2, 3, 4, 6, 7, 8, 10, 11, 15, 2, 7, 10, 1, 2, 3, 4, 6, 7, 9, 10, 11, 12, 13, 14, 15, 4, 4, 4, 4, 2, 3, 4, 6, 7, 8, 10, 11, 15, 1, 2, 3, 4, 5, 6, 7, 8, 9, 10, 11, 12, 13, 14, 15, 8, 8, 15, 10, 1, 2, 3, 4, 5, 6, 7, 8, 9, 10, 11, 12, 13, 3, 5, 6, 11, 12, 3, 5, 7, 8, 13, 1, 2, 3, 4, 5, 6, 7, 8, 9, 10, 11, 12, 13, 14, 15, 7, 7, 13, 11, 6, 10, 1, 2, 3, 4, 5, 6, 7, 8, 9, 14, 7, 1, 2, 4, 7, 8, 14, 6, 4, 1, 2, 3, 6, 8, 9, 12, 13, 13, 13, 1, 2, 3, 4, 5, 6, 7, 8, 9, 10, 11, 12, 13, 14, 15, 1, 4, 1, 2, 4, 5, 7, 10, 11, 1, 7, 9, 1, 4, 6, 7, 8, 9, 10, 15, 10, 10, 7, 10, 10, 13, 1, 2, 3, 4, 6, 7, 8, 10, 11, 14, 15, 4, 8, 10, 2, 4, 5, 6, 7, 8, 10, 11, 12, 15, 2, 3, 3, 3, 3, 1, 2, 3, 4, 6, 7, 8, 9, 10, 11, 12, 13, 14, 15, 3, 3, 1, 3, 10, 11, 1, 2, 3, 4, 5, 6, 7, 8, 9, 10, 11, 12, 13, 14, 15, 1, 2, 3, 4, 5, 6, 7, 8, 10, 12, 13, 14, 15, 9, 9, 6, 3, 4, 6, 8, 9, 1, 4, 4, 3, 4, 6, 8, 10, 12, 14, 3, 4, 6, 8, 10, 12, 14, 12, 12, 1, 2, 3, 4, 5, 6, 7, 8, 9, 10, 11, 12, 13, 14, 15, 11, 1, 2, 3, 4, 5, 6, 7, 8, 9, 10, 11, 12, 14, 15, 2, 5, 6, 7, 9, 10, 11, 1, 2, 4, 9, 4, 1, 2, 4, 5, 6, 7, 8, 10, 11, 15, 2, 11, 2, 4, 7, 10, 11, 15, 2, 2, 7, 10, 11, 1, 2, 4, 7, 10, 11, 2, 11, 1, 2, 3, 4, 5, 6, 7, 8, 9, 10, 11, 12, 13, 14, 15, 11, 1, 2, 3, 4, 7, 8, 9, 10, 11, 12, 13, 5, 9, 12, 12, 1, 2, 3, 7, 9, 10, 11, 12, 13, 14, 1, 2, 4, 7, 9, 1, 6, 7, 11, 12, 12, 7, 9, 13, 6, 8, 4, 14, 2, 11, 2, 4, 7, 10, 13, 7, 13, 4, 10, 14, 1, 2, 3, 4, 5, 6, 7, 8, 9, 10, 11, 12, 13, 15, 13, 2, 5, 2, 3, 4, 6, 7, 8, 9, 10, 11, 12, 14, 2, 7, 11, 1, 2, 3, 4, 5, 7, 8, 10, 11, 13, 11, 1, 2, 3, 4, 5, 6, 7, 8, 10, 11, 12, 13, 14, 2, 3, 4, 5, 6, 7, 8, 9, 10, 11, 12, 15, 8, 4, 8, 2, 3, 4, 5, 6, 7, 8, 10, 11, 12, 13, 14, 15, 3, 4, 8, 10, 12, 4, 7, 8, 10, 12, 1, 2, 3, 4, 7, 9, 13, 2, 13, 12, 12, 7, 8, 9, 10, 14, 1, 2, 3, 4, 6, 7, 8, 10, 11, 12, 15, 3, 4, 8, 8, 8, 2, 3, 6, 7, 8, 10, 11, 6, 11, 5, 1, 2, 3, 4, 5, 6, 7, 8, 9, 10, 11, 12, 13, 14, 15, 1, 2, 3, 4, 5, 6, 7, 8, 10, 11, 12, 14, 1, 2, 3, 4, 6, 7, 8, 9, 10, 11, 12, 14, 1, 2, 3, 4, 5, 6, 8, 10, 11, 12, 14, 15], \"Freq\": [0.9432588971599345, 0.8447880965601182, 0.19149412940358013, 0.021484707201377285, 0.10462118289366329, 0.044837649811569985, 0.06071765078650102, 0.1858894231771339, 0.05604706226446248, 0.18402118776831847, 0.02802353113223124, 0.053244709151239356, 0.020550589496969578, 0.013077647861707911, 0.013077647861707911, 0.013077647861707911, 0.010275294748484789, 0.04462260243147496, 0.0531221457517559, 0.0828705473727392, 0.038247944941264246, 0.10836917733358203, 0.4547255676350305, 0.04249771660140472, 0.014874200810491652, 0.0531221457517559, 0.03187328745105354, 0.008499543320280944, 0.008499543320280944, 0.014874200810491652, 0.03612305911119401, 0.008499543320280944, 0.9906828929770567, 0.006077809159368446, 0.05353977796678978, 0.05353977796678978, 0.05353977796678978, 0.8030966695018467, 0.024209832431705502, 0.9441834648365145, 0.024209832431705502, 0.9704842772551313, 0.05689453338225083, 0.15324817862638532, 0.040376765626113496, 0.03854145809765379, 0.13397744957755842, 0.0018353075284597044, 0.2762137830331855, 0.03395318927650453, 0.15967175497599428, 0.010094191406528374, 0.06331810973185979, 0.0027529612926895566, 0.011011845170758226, 0.0036706150569194088, 0.013764806463447783, 0.9510440377031288, 0.09153387236349259, 0.8390604966653487, 0.06865040427261944, 0.9634959696624985, 0.9739435420834724, 0.9914666492971657, 0.9138090607667472, 0.9716159729684993, 0.9716159729684993, 0.03166618153342512, 0.019791363458390696, 0.6056157218267554, 0.017812227112551628, 0.05145754499181581, 0.055415817683493955, 0.03166618153342512, 0.07520718114188465, 0.017812227112551628, 0.04354099960845954, 0.02177049980422977, 0.00791654538335628, 0.009895681729195348, 0.005937409037517209, 0.00395827269167814, 0.07421373804041848, 0.8905648564850218, 0.9171182565226179, 0.9339465004463956, 0.8751816130708103, 0.049563191202221746, 0.00260858901064325, 0.04825889669690012, 0.0052171780212865, 0.00260858901064325, 0.011738650547894625, 0.003912883515964875, 0.9940264623334398, 0.005334667955277852, 0.03584533514524289, 0.0017922667572621445, 0.9570704483779852, 0.003584533514524289, 0.0017922667572621445, 0.03236785068633161, 0.9669895392541569, 0.12182170946654775, 0.0040607236488849245, 0.7959018351814453, 0.0487286837866191, 0.008121447297769849, 0.008121447297769849, 0.008121447297769849, 0.0040607236488849245, 0.9966171930674821, 0.026761719426532833, 0.9693689481166337, 0.977583497542771, 0.9853039430998018, 0.9740715170343448, 0.9870552948132828, 0.006602376553935002, 0.003301188276967501, 0.5536705154456711, 0.13592565845638407, 0.0018123421127517877, 0.1168960662724903, 0.004530855281879469, 0.0009061710563758939, 0.07430602662282329, 0.009061710563758938, 0.0009061710563758939, 0.02084193429664556, 0.027185131691276815, 0.0018123421127517877, 0.04802706598792238, 0.0018123421127517877, 0.8573908446580105, 0.031915495163925944, 0.002163762383994979, 0.03516113873991841, 0.0037865841719912138, 0.023260445627946026, 0.005950346555986193, 0.014064455495967364, 0.0075731683439824275, 0.015146336687964855, 0.0037865841719912138, 0.9978659401334516, 0.9980702288559357, 0.9912738325137236, 0.5982257638011583, 0.07450826300050528, 0.03131506705818338, 0.05507132482646042, 0.00431931959423219, 0.11986111873994328, 0.0410335361452058, 0.007558809289906332, 0.005399149492790237, 0.007558809289906332, 0.053991494927902374, 0.9959483927914798, 0.24354870523291283, 0.08265816559214305, 0.0268150899401283, 0.1903090363712018, 0.017572995834550097, 0.04881387731819471, 0.07706084099299006, 0.03931144253358614, 0.1599793472641635, 0.046600981546436555, 0.01718248481600454, 0.024211683149824578, 0.012496352593457848, 0.002733577129818904, 0.010673967840245244, 0.9379363509781429, 0.009912509212376368, 0.004956254606188184, 0.9763821574190723, 0.004956254606188184, 0.9950186869487961, 0.0050253469037817985, 0.13951243234677296, 0.8370745940806379, 0.38679634988051637, 0.08471431092459526, 0.03020820389559211, 0.07749060999304064, 0.007223700931554635, 0.04793910618213531, 0.07946071024710098, 0.04859580626682209, 0.02495460321809783, 0.06961020897679922, 0.0834009107552217, 0.00394020050812071, 0.03152160406496568, 0.00131340016937357, 0.022984502964037475, 0.8758737300080751, 0.0921972347376921, 0.8749130502411137, 0.09721256113790151, 0.987769565418338, 0.9876907225243382, 0.922278164170671, 0.9432588973860638, 0.8842578288747414, 0.16359586458341963, 0.048764151943134694, 0.003146074318911916, 0.06606756069715024, 0.01415733443510362, 0.5820237489987045, 0.07393274649443002, 0.025168594551295328, 0.006292148637823832, 0.003146074318911916, 0.001573037159455958, 0.009438222956735748, 0.001573037159455958, 0.9177988483049587, 0.9680184409551976, 0.10575731602470781, 0.04988552642674897, 0.08380768439693827, 0.05587178959795884, 0.3651620534438024, 0.09478250021082303, 0.07881913175426337, 0.09411735985846638, 0.028601035151336076, 0.008979394756814814, 0.01995421057069959, 0.003658271937961591, 0.004323412290318244, 0.005321122818853223, 0.0013302807047133058, 0.16020274835448772, 0.006675114514770322, 0.006675114514770322, 0.004450076343180215, 0.6964369477077036, 0.04672580160339225, 0.05785099246134279, 0.0022250381715901075, 0.01780030537272086, 0.982316302512772, 0.03173607557901063, 0.9520822673703188, 0.816677206488748, 0.07925559387865487, 0.0034458953860284727, 0.010337686158085418, 0.06202611694851251, 0.017229476930142363, 0.0034458953860284727, 0.9897873671013501, 0.004625174612623131, 0.9565004594101782, 0.2776154412160537, 0.11647587912219287, 0.02802427166849753, 0.3853337354418411, 0.002627275468921644, 0.11297284516363068, 0.007006067917124383, 0.026272754689216436, 0.011384860365327123, 0.0035030339585621914, 0.004378792448202739, 0.02539699619957589, 0.0008757584896405479, 0.995829618241807, 0.9655943047955963, 0.11804848804200885, 0.12566451952859006, 0.020944086588098345, 0.4226897475052575, 0.001904007871645304, 0.00952003935822652, 0.2722731256452785, 0.003808015743290608, 0.003808015743290608, 0.00952003935822652, 0.007616031486581216, 0.001904007871645304, 0.9888951428587813, 0.8412395625532083, 0.1383857289048568, 0.007283459416045093, 0.01092518912406764, 0.0036417297080225466, 0.994761518477724, 0.9273156110539187, 0.9616756674539323, 0.1646307566437455, 0.109753837762497, 0.658523026574982, 0.9985242817717965, 0.9732994386672228, 0.9860214175670612, 0.8801166256836866, 0.9366984709505539, 0.9341184368060815, 0.247786138386206, 0.10916954502812555, 0.06535808287868042, 0.07325851047940003, 0.07972249669817062, 0.07756783462524709, 0.08259537946206867, 0.09336868982668632, 0.031601710402878444, 0.05530299320503728, 0.03591103454872551, 0.028728827638980405, 0.009336868982668632, 0.005745765527796081, 0.0035911034548725507, 0.26422669329828835, 0.10913711244929301, 0.6203583233959814, 0.2653623280794893, 0.10960617898935428, 0.6172558500979425, 0.030477950876275146, 0.010159316958758383, 0.05079658479379191, 0.7213115040718452, 0.010159316958758383, 0.1828677052576509, 0.9851425662349497, 0.9851425662349497, 0.5840303335767859, 0.036873605582241065, 0.015463124921584963, 0.0725577400166679, 0.1962627393893476, 0.005947355739071139, 0.0023789422956284555, 0.017842067217213417, 0.008326298034699595, 0.010705240330328051, 0.04519990361694066, 0.004757884591256911, 0.045581076971685064, 0.09116215394337013, 0.18232430788674026, 0.6381350776035909, 0.9914558049112208, 0.981615437736619, 0.13788614120322357, 0.27577228240644713, 0.5515445648128943, 0.986977716871106, 0.6817155867007958, 0.061652033308699825, 0.012046949037332149, 0.2395216926246039, 0.003543220305097691, 0.0014172881220390764, 0.24530477721673222, 0.1349711874642282, 0.017139198408155962, 0.36527916607382394, 0.0042847996020389904, 0.0042847996020389904, 0.13389998756371846, 0.024637597711724198, 0.020352798109685207, 0.03106479711478268, 0.016067998507646217, 0.0021423998010194952, 0.027126391006061797, 0.027126391006061797, 0.9222972942061011, 0.9314380424674951, 0.03203061150567365, 0.9352938559656705, 0.025624489204538917, 0.006406122301134729, 0.963973107214323, 0.056146978028290905, 0.32913745740722256, 0.037754002467299055, 0.08518851838775172, 0.3480144586408721, 0.03872205381261442, 0.02178115526959561, 0.010648564798468966, 0.0048402567265768024, 0.011132590471126646, 0.04259425919387586, 0.006776359417207523, 0.0004840256726576802, 0.0029041540359460816, 0.0029041540359460816, 0.04272731275588096, 0.07501017128254657, 0.036080841882743915, 0.6105258244895879, 0.04272731275588096, 0.10539403813117303, 0.08640412135078149, 0.03621153987594706, 0.009052884968986765, 0.8781298419917161, 0.03621153987594706, 0.03621153987594706, 0.004844629147444271, 0.11142647039121822, 0.029067774884665623, 0.7896745510334161, 0.02422314573722135, 0.014533887442332812, 0.009689258294888542, 0.009689258294888542, 0.009689258294888542, 0.982039912477223, 0.28645977297163483, 0.2758501517504632, 0.031828863663514985, 0.015914431831757492, 0.14322988648581741, 0.00530481061058583, 0.07426734854820163, 0.16444912892816074, 0.996136746443662, 0.9976957478046258, 0.04209083050093987, 0.968089101521617, 0.011071493781524349, 0.11625068470600566, 0.20482263495820047, 0.022142987563048697, 0.63661089243765, 0.005535746890762174, 0.9750510431831108, 0.9604209626900151, 0.9765466199856299, 0.9871213403255631, 0.9804801142685716, 0.0031252224471627257, 0.0031252224471627257, 0.7844308342378441, 0.059379226496091786, 0.05625400404892906, 0.009375667341488177, 0.02812700202446453, 0.05312878160176634, 0.9894270496992712, 0.8447880965971991, 0.15112344451888737, 0.42037859566873603, 0.03192748827863818, 0.19795042732755672, 0.006385497655727636, 0.01702799374860703, 0.07875447108730751, 0.006385497655727636, 0.038312985934365815, 0.011706745702167332, 0.0021284992185758786, 0.011706745702167332, 0.021284992185758786, 0.004256998437151757, 0.2494685995206795, 0.24402168686738956, 0.04684344881829353, 0.16449676212935635, 0.014161972898553858, 0.004357530122631957, 0.19391009045712207, 0.018519503021185813, 0.02396641567447576, 0.006536295183947934, 0.0054469126532899455, 0.01198320783723788, 0.014161972898553858, 0.0021787650613159784, 0.010401898758429307, 0.1560284813764396, 0.12482278510115169, 0.062411392550575845, 0.11442088634272238, 0.1664303801348689, 0.3640664565450258, 0.9785170358862012, 0.06164257707764561, 0.0505469132036694, 0.0012328515415529122, 0.008629960790870386, 0.8112163143418163, 0.016027070040187857, 0.035752694705034456, 0.003698554624658737, 0.009862812332423298, 0.9893227642393959, 0.9804801136006449, 0.9580755637659174, 0.024566040096561985, 0.9639731072947065, 0.04824974449855829, 0.037115188075814064, 0.03340366926823266, 0.30434454222167534, 0.03340366926823266, 0.46022833214009445, 0.06309581972888391, 0.0037115188075814067, 0.0037115188075814067, 0.0037115188075814067, 0.0037115188075814067, 0.0074230376151628134, 0.0037115188075814067, 0.48198515784303214, 0.5136947077011264, 0.07820694433261124, 0.1564138886652225, 0.0312827777330445, 0.04692416659956675, 0.14077249979870024, 0.01564138886652225, 0.0312827777330445, 0.1564138886652225, 0.04692416659956675, 0.07820694433261124, 0.01564138886652225, 0.20333805526478924, 0.8660892164595838, 0.04562445694077324, 0.3736176001449147, 0.0010777430773411, 0.03718213616826795, 0.22417056008694883, 0.0077238253876112176, 0.18860503853469252, 0.023530723855280686, 0.0057479630791525335, 0.015447650775222435, 0.05963511694620754, 0.004490596155587917, 0.007903449233834734, 0.00035924769244703334, 0.00484984384803495, 0.971296162694546, 0.019045022797932274, 0.4043521633043794, 0.5863106367913502, 0.9760732792777993, 0.013690221394685094, 0.25815846058549036, 0.03520342644347596, 0.27576017380722834, 0.03129193461642307, 0.3383440430400745, 0.01760171322173798, 0.015645967308211536, 0.011734475481158652, 0.1270929758236492, 0.7625578549418952, 0.9261564614787119, 0.03428705982516987, 0.02087038424140775, 0.03428705982516987, 0.014907417315291249, 0.7245004815231547, 0.0029814834630582498, 0.03428705982516987, 0.09540747081786399, 0.03726854328822812, 0.0014907417315291249, 0.9833264309137708, 0.07289729032341145, 0.015794412903405816, 0.06803747096851735, 0.04130846451659983, 0.6609354322655973, 0.0801870193557526, 0.04130846451659983, 0.013364503225958767, 0.0012149548387235243, 0.0012149548387235243, 0.0024299096774470486, 0.0012149548387235243, 0.9948525375397086, 0.03597976291153486, 0.03597976291153486, 0.8994940727883715, 0.07007203217303277, 0.9109364182494262, 0.011762501573402445, 0.058812507867012226, 0.4984360041729286, 0.0793968856204665, 0.13820939348747874, 0.03969844281023325, 0.02058437775345428, 0.07057500944041467, 0.0014703126966753056, 0.051460944383635694, 0.02058437775345428, 0.0014703126966753056, 0.007351563483376528, 0.0014703126966753056, 0.9629892621861067, 0.6858309948232263, 0.04351719510299659, 0.08137715484260362, 0.006527579265449488, 0.0818123267936336, 0.038295131690637, 0.06092407314419523, 0.0008703439020599318, 0.6681219510222987, 0.03808377911651269, 0.1291536856994778, 0.019869797799919663, 0.029804696699879497, 0.11425133734953806, 0.9967205755375284, 0.09914258080984584, 0.038555448092717826, 0.09363465965374329, 0.6499346964201005, 0.10465050196594838, 0.0055079211561025465, 0.7594600484648537, 0.020665579550064046, 0.1756574261755444, 0.001722131629172004, 0.003444263258344008, 0.00861065814586002, 0.001722131629172004, 0.027554106066752064, 0.8393767713484369, 0.026788620362184157, 0.12501356169019273, 0.9891637227720265, 0.008107899366983824, 0.006516234128244042, 0.8014967977740172, 0.05212987302595234, 0.02606493651297617, 0.03258117064122021, 0.019548702384732126, 0.019548702384732126, 0.019548702384732126, 0.013032468256488084, 0.03233788206227939, 0.0053896470103798975, 0.016168941031139694, 0.010779294020759795, 0.8839021097023032, 0.016168941031139694, 0.010779294020759795, 0.016168941031139694, 0.967321297391915, 0.9348134499492728, 0.04674067249746364, 0.5384721168975497, 0.14970207901062957, 0.010245769666126739, 0.0950579741246203, 0.03130651842427615, 0.00398446598127151, 0.07172038766288717, 0.00967656024023081, 0.020491539332253478, 0.01992232990635755, 0.01593786392508604, 0.00227683770358372, 0.01992232990635755, 0.0051228848330633694, 0.00626130368485523, 0.9920840881334556, 0.9449702858352528, 0.015354597352214765, 0.0019193246690268457, 0.9807749058727181, 0.00411903699617475, 0.9926879160781147, 0.9808109758276219, 0.9833627192447739, 0.9912661623822367, 0.005594496850150271, 0.016783490550450815, 0.011188993700300543, 0.09230919802747949, 0.08951194960240434, 0.022377987400601086, 0.008391745275225408, 0.011188993700300543, 0.7384735842198359, 0.0027972484250751357, 0.9866796078204705, 0.047256624979575744, 0.16539818742851511, 0.023628312489787872, 0.732477687183424, 0.023628312489787872, 0.024317822336313216, 0.1459069340178793, 0.12158911168156608, 0.024317822336313216, 0.6565812030804569, 0.024317822336313216, 0.07816042625262415, 0.8597646887788656, 0.6547935770087644, 0.10697122792717438, 0.029173971252865742, 0.12966209445718108, 0.05348561396358719, 0.003241552361429527, 0.0016207761807147635, 0.008103880903573817, 0.006483104722859054, 0.0016207761807147635, 0.00486232854214429, 0.1279721740396189, 0.009140869574258493, 0.009140869574258493, 0.7404104355149379, 0.09140869574258492, 0.009140869574258493, 0.006022021081114234, 0.9695453940593918, 0.006022021081114234, 0.018066063243342704, 0.9535127171303956, 0.04014790387917455, 0.037890071832591125, 0.09537845668203973, 0.010452433608990655, 0.3932728145382734, 0.01306554201123832, 0.1188964323022687, 0.023517975620228976, 0.13718819111800235, 0.0653277100561916, 0.014372096212362151, 0.03135730082697197, 0.022211421419105145, 0.023517975620228976, 0.011758987810114488, 0.02591709326705989, 0.0712720064844147, 0.8876604443968013, 0.012958546633529945, 0.04416608344466527, 0.02789436849136754, 0.05346420627512112, 0.11855106608831205, 0.14179637316445165, 0.46258161081517835, 0.020920776368525656, 0.11157747396547016, 0.011622653538069808, 0.006973592122841885, 0.9733503155938907, 0.8660892151772517, 0.09316203688336959, 0.09316203688336959, 0.7918773135086414, 0.7888003044440081, 0.016842711126918323, 0.028071185211530538, 0.16281287422687712, 0.8298923952349638, 0.031043356430235553, 0.002069557095349037, 0.07450405543256533, 0.002069557095349037, 0.004139114190698074, 0.010347785476745185, 0.002069557095349037, 0.04553025609767881, 0.002069557095349037, 0.9629892621324021, 0.04680845818164529, 0.9361691636329058, 0.42982404521944373, 0.005600313292761482, 0.012600704908713333, 0.005600313292761482, 0.10500587423927778, 0.17780994704517702, 0.05320297628123408, 0.1372076756726563, 0.008400469939142223, 0.06020336789718592, 0.0042002349695711115, 0.7190512903588253, 0.9333328583139433, 0.04714707814632385, 0.17511771882920288, 0.013470593756092528, 0.02020589063413879, 0.05388237502437011, 0.12797064068287903, 0.03367648439023132, 0.026941187512185057, 0.49841196897542356, 0.048658070978282626, 0.0034146014721601844, 0.36194775604897955, 0.13231580704620716, 0.010243804416480554, 0.1835348291286099, 0.0008536503680400461, 0.18609578023273005, 0.016219356992760878, 0.0008536503680400461, 0.056340924290643045, 0.9600078685604404, 0.20888459184311367, 0.041291140248057356, 0.006679449157773984, 0.6315115567349948, 0.004857781205653807, 0.0989772920651963, 0.0012144453014134517, 0.0006072226507067258, 0.006072226507067258, 0.03699468877294018, 0.9433645637099747, 0.009248672193235045, 0.9890945819578184, 0.006868712374707073, 0.09347845911802562, 0.29212018474383006, 0.30185752423529105, 0.05452910115218161, 0.025317082677798603, 0.015579743186337602, 0.11879554179582422, 0.0662139085419348, 0.0331069542709674, 0.04365717732737877, 0.053883182827485505, 0.19783387563668037, 0.054276490731335766, 0.06961549898149587, 0.31464632308020735, 0.04641033265433058, 0.12664514503978347, 0.016518931961710885, 0.012979160827058554, 0.014945700346309848, 0.01887877938481244, 0.022025242615614515, 0.007079542269304666, 0.9557786249606637, 0.03239927542239538, 0.011979115835585771, 0.011979115835585771, 0.03593734750675731, 0.9223919193401043, 0.011979115835585771, 0.3320522972306216, 0.015444292894447514, 0.013513756282641575, 0.3725935660785463, 0.048263415295148486, 0.05019395190695442, 0.06949931802501381, 0.007722146447223757, 0.02316643934167127, 0.0038610732236118786, 0.05598556174237224, 0.005791609835417818, 0.006611473377724115, 0.0014692163061609143, 0.26666275956820595, 0.042607272878666516, 0.004407648918482743, 0.5619752371065497, 0.0036730407654022856, 0.08301072129809166, 0.013957554908528687, 0.0007346081530804571, 0.007346081530804571, 0.0007346081530804571, 0.004407648918482743, 0.004407648918482743, 0.004387829662214138, 0.06142961527099794, 0.048266126284355525, 0.8205241468340438, 0.0570417856087838, 0.008775659324428276, 0.9750939590000505, 0.022338350944667153, 0.011169175472333577, 0.022338350944667153, 0.9158723887313532, 0.011169175472333577, 0.9823336050622026, 0.9639542867709041, 0.9411588715262824, 0.9812907462951954, 0.013442338990345143, 0.14119416362324635, 0.0064179165283293794, 0.8214933156261606, 0.012835833056658759, 0.012835833056658759, 0.024609204659230447, 0.049218409318460894, 0.004921840931846089, 0.8957750495959882, 0.014765522795538267, 0.004921840931846089, 0.004921840931846089, 0.0033949215493631955, 0.047528901691084736, 0.90304913213061, 0.010184764648089586, 0.03055429394426876, 0.0033949215493631955, 0.9789692538531252, 0.9753402409531414, 0.025370194098385757, 0.9640673757386587, 0.9746132129408065, 0.12091755934012302, 0.018926226679323605, 0.08621947709469642, 0.009463113339661803, 0.024183511868024605, 0.017874769641583403, 0.03785245335864721, 0.036800996320907005, 0.5825071989080709, 0.016823312603843205, 0.032595168169946204, 0.007360199264181401, 0.006308742226441202, 0.0021029140754804006, 0.008845131911372326, 0.008845131911372326, 0.9729645102509558, 0.9789137845545498, 0.9968330951953077, 0.08121634053674008, 0.8933797459041408, 0.008654124025172015, 0.06779063819718077, 0.05769416016781343, 0.4932850694348048, 0.10817655031465018, 0.03894355811327407, 0.16010129446568228, 0.03028943408810205, 0.01730824805034403, 0.004327062012586007, 0.008654124025172015, 0.004327062012586007, 0.0014423540041953358, 0.9899641454685523, 0.07722280612671269, 0.023442637574180636, 0.0827387208500493, 0.03585344570168803, 0.08411769953088345, 0.19167803663594754, 0.10480237974339579, 0.21374169552929403, 0.017926722850844016, 0.030337530978351412, 0.006894893404170775, 0.10480237974339579, 0.00275795736166831, 0.020684680212512324, 0.0408472977735424, 0.0035830962959247717, 0.018632100738808815, 0.06306249480827598, 0.06234587554909103, 0.26801560293517296, 0.09531036147159894, 0.40775635847623903, 0.013615765924514134, 0.0064495733326645896, 0.0035830962959247717, 0.01146590814695927, 0.0007166192591849544, 0.004299715555109726, 0.9438118134844139, 0.13730460763347294, 0.8487921199160146, 0.9775835295028774, 0.42808858254064097, 0.007255738687129508, 0.029022954748518032, 0.5296689241604541, 0.01452722434987301, 0.9733240314414917, 0.1154602005758872, 0.12290924577433153, 0.1378073361712202, 0.02979618079377734, 0.05214331638911034, 0.0037245225992221676, 0.20112422035799704, 0.3314825113307729, 0.0037245225992221676, 0.9559247838915209, 0.8447880978684591, 0.97276933492632, 0.9727693347152988, 0.9341184361499473, 0.033374253989091364, 0.764573818659184, 0.012136092359669587, 0.1668712699454568, 0.021238161629421777, 0.0030340230899173967, 0.0489164327562206, 0.8478848344411571, 0.10598560430514464, 0.9559247853009001, 0.950451800555544, 0.933820702069919, 0.004150314231421862, 0.05810439923990607, 0.8053945381998939, 0.0624591682685632, 0.03287324645713853, 0.0016436623228569265, 0.008218311614284633, 0.024654934842853898, 0.060815505945706276, 0.6995466039843218, 0.15241518187367906, 0.003908081586504591, 0.04689697903805509, 0.07425355014358723, 0.0019540407932522957, 0.02149444872577525, 0.7373635568009326, 0.13967679710326034, 0.027069146725438052, 0.06929701561712141, 0.001082765869017522, 0.002165531738035044, 0.007579361083122654, 0.005413829345087611, 0.008662126952140177, 0.15278539082429682, 0.07639269541214841, 0.7448287802684469, 0.9433242207074658, 0.9956235081176672, 0.045247826221585394, 0.9502043506532932, 0.9726716447870295, 0.9732620697373905, 0.04361809276767065, 0.17992463266664144, 0.08178392393938247, 0.07087940074746481, 0.04361809276767065, 0.054522615959588315, 0.0872361855353413, 0.11449749351513545, 0.07633166234342365, 0.0872361855353413, 0.005452261595958832, 0.010904523191917663, 0.03271356957575299, 0.10904523191917663, 0.0890480568504238, 0.11873074246723174, 0.05936537123361587, 0.05936537123361587, 0.6530190835697746, 0.04270465006800794, 0.014234883356002648, 0.20945614080975325, 0.012201328590859413, 0.55312689611896, 0.012201328590859413, 0.04270465006800794, 0.024402657181718825, 0.07727508107544294, 0.010167773825716176, 0.07633288273980199, 0.22899864821940596, 0.6106630619184159, 0.12412571242716756, 0.005516698330096336, 0.0606836816310597, 0.002758349165048168, 0.10757561743687856, 0.019308444155337178, 0.12412571242716756, 0.49650284970867026, 0.02758349165048168, 0.002758349165048168, 0.024825142485433514, 0.5913459823407275, 0.07480882909129687, 0.0011874417316078867, 0.01424930077929464, 0.07480882909129687, 0.016624184242510415, 0.06887162043325742, 0.015436742510902527, 0.009499533852863094, 0.00712465038964732, 0.05699720311717856, 0.04987255272753124, 0.008312092121255207, 0.01068697558447098, 0.06567865623870685, 0.043785770825804565, 0.003648814235483714, 0.8720666022806076, 0.014595256941934856, 0.9597703331336267, 0.9559247845506559, 0.04350287986411025, 0.9135604771463152, 0.9727890548873243, 0.194276382071782, 0.2374489114210669, 0.011992369263690248, 0.009593895410952197, 0.028781686232856592, 0.050367950907499036, 0.0023984738527380494, 0.0023984738527380494, 0.05516489861297514, 0.023984738527380495, 0.3741619210271357, 0.009593895410952197, 0.12622309096052559, 0.16409001824868324, 0.012622309096052558, 0.6942270002828907, 0.9808039739532629, 0.9273155986038812, 0.9455106340442606, 0.9177988484514918, 0.03153634908050089, 0.07568723779320213, 0.11172877959948886, 0.010812462541886019, 0.6757789088678762, 0.011713501087043186, 0.039645695986915405, 0.007208308361257346, 0.013515578177357523, 0.006307269816100178, 0.0018020770903143365, 0.014416616722514692, 0.033676138818470494, 0.8166463663479094, 0.006013596217584017, 0.0024054384870336068, 0.0360815773055041, 0.02525710411385287, 0.0024054384870336068, 0.01804078865275205, 0.0024054384870336068, 0.00360815773055041, 0.052919646714739345, 0.9786861386372461, 0.08481172803020577, 0.8481172803020577, 0.9134411212437646, 0.04228894079832244, 0.04228894079832244, 0.9668451699782615, 0.021018373260396992, 0.5326438823374182, 0.11601145164546041, 0.044386990194784856, 0.06658048529217728, 0.008070361853597247, 0.011096747548696214, 0.1049147040967642, 0.0020175904633993116, 0.03329024264608864, 0.006052771390197935, 0.01916710940229346, 0.005043976158498279, 0.05043976158498279, 0.003773545207404468, 0.5962201427699059, 0.011320635622213403, 0.022641271244426806, 0.3396190686664021, 0.026414816451831274, 0.003773545207404468, 0.012641038263932803, 0.4727748310710868, 0.05309236070851777, 0.007584622958359682, 0.0025282076527865607, 0.06826160662523714, 0.005056415305573121, 0.005056415305573121, 0.3488926560845454, 0.0025282076527865607, 0.020225661222292485, 0.5189816488782754, 0.043248470739856285, 0.4324847073985628, 0.9704657325168258, 0.9920718651930233, 0.08711355891706447, 0.8711355891706447, 0.04355677945853224, 0.02353551790010631, 0.02353551790010631, 0.02353551790010631, 0.8708141623039335, 0.04707103580021262, 0.04223359376114455, 0.06335039064171682, 0.15837597660429206, 0.010558398440286137, 0.03167519532085841, 0.03167519532085841, 0.05279199220143069, 0.14781757816400592, 0.1372591797237198, 0.03167519532085841, 0.29563515632801185, 0.19785936242247576, 0.12366210151404736, 0.1731269421196663, 0.07419726090842842, 0.3957187248449515, 0.965602405459591, 0.06591490001477267, 0.9228086002068173, 0.9332752133155462, 0.12056287036004151, 0.02862283972576525, 0.13877740473098304, 0.3929135271445957, 0.018214534370941525, 0.09107267185470762, 0.06591926724721694, 0.08413380161815846, 0.013010381693529659, 0.00867358779568644, 0.010408305354823727, 0.022551328268784743, 0.002602076338705932, 0.0017347175591372879, 0.0017347175591372879, 0.9749338648847629, 0.050539036994287134, 0.07775236460659558, 0.793074118987275, 0.019438091151648896, 0.019438091151648896, 0.015550472921319117, 0.0038876182303297794, 0.015550472921319117, 0.0038876182303297794, 0.062003804742903436, 0.006643264793882511, 0.008857686391843348, 0.026573059175530045, 0.0841480207225118, 0.055360539949020925, 0.2834459645389871, 0.14172298226949356, 0.03764516716533423, 0.05314611835106009, 0.2214421597960837, 0.002214421597960837, 0.015500951185725859, 0.850485456236313, 0.9931217545547041, 0.056286549339814626, 0.07880116907574047, 0.03377192960388878, 0.3152046763029619, 0.5178362539262945, 0.9341184284293897, 0.07869371855154239, 0.027371728191840833, 0.07869371855154239, 0.02395026216786073, 0.19160209734288583, 0.027371728191840833, 0.03763612626378114, 0.04105759228776125, 0.3216178062541298, 0.003421466023980104, 0.14370157300716438, 0.010264398071940312, 0.006842932047960208, 0.006842932047960208, 0.092629928244431, 0.02315748206110775, 0.02315748206110775, 0.30104726679440075, 0.555779569466586, 0.0009510931632042973, 0.4907640722134174, 0.009510931632042972, 0.05611449662905354, 0.0019021863264085945, 0.0019021863264085945, 0.43274738925795525, 0.0009510931632042973, 0.003804372652817189, 0.9523617963285352, 0.1778474202612305, 0.7825286491494142, 0.0355694840522461, 0.4203761836479368, 0.09700988853413926, 0.4804299241690706, 0.009882414476280452, 0.5237679672428639, 0.009882414476280452, 0.45459106590890075, 0.9930864888366016, 0.2949755458215911, 0.03105005745490432, 0.5002509256623474, 0.029325054262965194, 0.01725003191939129, 0.0897001659808347, 0.006900012767756516, 0.027600051071026064, 0.9920083146706982, 0.006157993569208858, 0.036947961415253146, 0.018473980707626573, 0.9175410418121198, 0.003078996784604429, 0.006157993569208858, 0.003078996784604429, 0.003078996784604429, 0.003078996784604429, 0.011532925573015659, 0.9860651364928388, 0.48062846736265896, 0.14106318813631644, 0.033787589972770406, 0.012670346239788901, 0.03463227972208966, 0.17907422685568314, 0.02027255398366224, 0.02027255398366224, 0.004223448746596301, 0.014359725738427422, 0.0549048337057519, 0.00253406924795778, 0.0016893794986385202, 0.9961724965807824, 0.005907917269027439, 0.04726333815221951, 0.7424282701411148, 0.061048478446616865, 0.017723751807082317, 0.07483361874101423, 0.021662363319767276, 0.005907917269027439, 0.019693057563424796, 0.0019693057563424797, 0.9172499924292888, 0.17457277830697326, 0.14771542779820815, 0.04028602576314767, 0.1611441030525907, 0.14771542779820815, 0.04028602576314767, 0.013428675254382558, 0.26857350508765115, 0.8285610705333161, 0.029721747797444062, 0.052838662751011664, 0.003302416421938229, 0.3302416421938229, 0.003302416421938229, 0.03302416421938229, 0.1387014897214056, 0.1453063225652821, 0.11558457476783801, 0.023116914953567602, 0.12218940761171447, 0.003302416421938229, 0.05743570948308091, 0.0047863091235900755, 0.2967511656625847, 0.019145236494360302, 0.14837558283129235, 0.2153839105615534, 0.10051249159539159, 0.0047863091235900755, 0.15316189195488242, 0.06999116522901057, 0.03131183707613631, 0.03131183707613631, 0.162084803688235, 0.025786218768582843, 0.0976192567667779, 0.06630741969064159, 0.1952385135335558, 0.2283922233788766, 0.018418727691844886, 0.06262367415227262, 0.007367491076737955, 0.9611517898378578, 0.14591546414863155, 0.10943659811147366, 0.07295773207431577, 0.656619588668842, 0.017783094229188754, 0.010669856537513253, 0.7682296707009542, 0.02845295076670201, 0.02845295076670201, 0.010669856537513253, 0.07824561460843052, 0.024896331920864257, 0.021339713075026506, 0.007113237691675502, 0.003556618845837751, 0.9818455211850065, 0.0094408223190866, 0.9919847143448487, 0.5302010353096495, 0.13901612511167638, 0.030389571536040886, 0.0678915959847722, 0.055606450044670554, 0.019397598852792054, 0.09246188786497546, 0.018751012224365652, 0.004526106398984812, 0.017457838967512847, 0.004526106398984812, 0.00711245291269042, 0.009052212797969625, 0.0019397598852792055, 0.0012931732568528037, 0.9724159997710381, 0.9920840882194208, 0.9519780186182226, 0.05899379289044116, 0.05374990018906862, 0.09045714909867646, 0.18353624454803918, 0.33167621336181363, 0.04195114161098038, 0.07865839052058822, 0.05374990018906862, 0.001310973175343137, 0.001310973175343137, 0.01704265127946078, 0.05637184653975489, 0.01704265127946078, 0.015731678104117644, 0.933332860130311, 0.23089677390900554, 0.2029092861624594, 0.05364268484754674, 0.027987487746546125, 0.04664581291091021, 0.10961766034063898, 0.01865832516436408, 0.020990615809909595, 0.00233229064554551, 0.00233229064554551, 0.011661453227727553, 0.2728780055288247, 0.1149109036879386, 0.05107151275019494, 0.8299120821906677, 0.13576630140329635, 0.04351484019336421, 0.0330712785469568, 0.0017405936077345685, 0.6440196348617904, 0.013924748861876548, 0.07832671234805559, 0.003481187215469137, 0.003481187215469137, 0.008702968038672843, 0.019146529685080255, 0.0017405936077345685, 0.008702968038672843, 0.05599140826803799, 0.02062841357243505, 0.03830991092023652, 0.7956673806510661, 0.002946916224633578, 0.058938324492671564, 0.023575329797068625, 0.21743078641109673, 0.16506990315291425, 0.03727384909904515, 0.12424616366348384, 0.20766858783753728, 0.12424616366348384, 0.0337239587086599, 0.018636924549522576, 0.0062123081831741925, 0.013312088963944698, 0.03904879429423778, 0.009762198573559444, 0.0017749451951926264, 0.9762687289245554, 0.0661466905307034, 0.774861231931097, 0.15119243549875064, 0.15758143078872971, 0.7879071539436486, 0.03552680662140513, 0.018141348061994106, 0.17612225410185947, 0.02343257458007572, 0.0015117790051661756, 0.10053330384355068, 0.025700243087824984, 0.040062143636903656, 0.5140048617564997, 0.019653127067160284, 0.012850121543912492, 0.01662956905682793, 0.010582453036163229, 0.0060471160206647025, 0.9605734265874453, 0.9855213669135854, 0.011073273785545902, 0.1005875326078544, 0.896143472324521, 0.01997923228984038, 0.14984424217380285, 0.13339075675864018, 0.06581394166065066, 0.14573087082001218, 0.0875560473878299, 0.06698919061887657, 0.07874168020113562, 0.14279274842444742, 0.05582432551573047, 0.001762873437338857, 0.049360456245487995, 0.0005876244791129524, 0.0011752489582259047, 0.0005876244791129524, 0.0605135022782295, 0.9336368922926837, 0.9616756651917845, 0.9616756651917845, 0.004010604614006815, 0.12232344072720787, 0.01604241845602726, 0.03409013921905793, 0.05815376690309883, 0.03208483691205452, 0.06015906921010223, 0.5314051113559031, 0.0060159069210102235, 0.0762014876661295, 0.012031813842020447, 0.030079534605051115, 0.012031813842020447, 0.978277227849761, 0.012228465348122011, 0.8842578308039569, 0.031148528374130468, 0.012113316589939626, 0.020765685582753646, 0.01903521178419084, 0.5312554561587808, 0.02768758077700486, 0.0017304737985628037, 0.35647760250393756, 0.11061837227385327, 0.11061837227385327, 0.18436395378975542, 0.22123674454770653, 0.36872790757951085, 0.20797600890673318, 0.01591653129388264, 0.021222041725176853, 0.005305510431294213, 0.7406492562086722, 0.0010611020862588427, 0.006366612517553057, 0.0010611020862588427, 0.0010611020862588427, 0.9923618271428661, 0.6101417648977729, 0.10631258024733922, 0.0023111430488552, 0.08551229280764241, 0.0184891443908416, 0.006933429146565601, 0.006933429146565601, 0.0046222860977104, 0.15484658427329842, 0.0046222860977104, 0.6228267626612094, 0.10421802403095934, 0.002481381524546651, 0.08932973488367943, 0.009925526098186603, 0.002481381524546651, 0.1712153251937189, 0.926156462362304, 0.8914555915846792, 0.8994767441045266, 0.37726110944391394, 0.17906863720148913, 0.041724730998405235, 0.005215591374800654, 0.31641254340457303, 0.0017385304582668846, 0.07823387062200982, 0.9067499367247973, 0.2640633680206016, 0.06520083161002507, 0.06357081081977445, 0.11247143452729326, 0.11899151768829577, 0.02608033264401003, 0.07009089398077696, 0.03749047817576442, 0.12877164242979952, 0.009780124741503762, 0.003260041580501254, 0.058680748449022574, 0.004890062370751881, 0.008150103951253134, 0.02771035343426066, 0.3374462331183357, 0.04361962079806135, 0.04543710499798057, 0.15933278152625188, 0.015145701665993523, 0.12419475366114689, 0.06179446279725358, 0.0799693047964458, 0.04725458919789979, 0.021809810399030675, 0.015145701665993523, 0.023021466532310155, 0.01999232619911145, 0.004846624533117928, 0.03849882996040141, 0.15399531984160564, 0.07699765992080282, 0.718644825927493, 0.9849854739895326, 0.4220210597274498, 0.16274014721516036, 0.03309969095901567, 0.020687306849384794, 0.042753767488728577, 0.0013791537899589862, 0.24273106703278158, 0.008274922739753917, 0.0013791537899589862, 0.0013791537899589862, 0.004137461369876958, 0.0027583075799179724, 0.05654530538831844, 0.3094777228465795, 0.16751546466007514, 0.011356980654920348, 0.4003335680859423, 0.1107305613854734, 0.09318529092030021, 0.05376074476171166, 0.32614851822105073, 0.017920248253903887, 0.46592645460150106, 0.007168099301561554, 0.028672397206246217, 0.007168099301561554, 0.9349414539525719, 0.853181561365574, 0.9616756656870402, 0.3128921513402698, 0.16084062835749824, 0.07294957461023144, 0.05537136386077808, 0.09052778535968481, 0.03076186881154338, 0.08173867998495812, 0.056250274398250755, 0.031640779349016046, 0.02636731612418004, 0.011425836987144684, 0.018457121286926028, 0.023730584511762035, 0.01318365806209002, 0.015820389674508023, 0.9636781577385289, 0.047598551120009096, 0.016799488630591445, 0.3079906248941765, 0.008399744315295722, 0.11479650564237488, 0.2239931817412193, 0.09799701701178344, 0.013999573858826206, 0.16799488630591447, 0.9273156120689026, 0.01550179466517979, 0.9662785341295403, 0.005167264888393264, 0.005167264888393264, 0.005167264888393264, 0.9954055016434091, 0.986324134019709, 0.973793938763389, 0.9808109756190059, 0.9066147516686252, 0.03941803268124457, 0.03941803268124457, 0.21993541537449537, 0.15517117497273814, 0.059504200572172886, 0.1637187396958127, 0.07594182503962396, 0.02465643670117661, 0.11703588620825164, 0.0351765163603453, 0.019396396871592267, 0.04602534850886301, 0.03813528876448649, 0.016437624467451072, 0.018410139403545203, 0.005917544808282387, 0.004273782361537279, 0.9935443191080116, 0.9906681855829417, 0.048495209866504026, 0.9214089874635765, 0.9314380440281473, 0.6877183733307467, 0.1339711116878078, 0.0012759153494076932, 0.008931407445853853, 0.13907477308543856, 0.0012759153494076932, 0.026794222337561558, 0.41053241796676043, 0.19666223615174153, 0.027041057470864462, 0.013520528735432231, 0.28393110344407685, 0.0012291389759483847, 0.06637350470121277, 0.9716187422046674, 0.31344218261104523, 0.18679887650557242, 0.028494743873731385, 0.006332165305273641, 0.38309600096905533, 0.0031660826526368206, 0.0759859836632837, 0.3911019612582697, 0.6060318678956972, 0.08589622200211439, 0.004090296285814971, 0.8057883683055492, 0.01227088885744491, 0.02454177771488982, 0.036812666572334736, 0.004090296285814971, 0.02454177771488982, 0.12525939073451278, 0.01670125209793504, 0.83297494838451, 0.020876565122418797, 0.00208765651224188, 0.00208765651224188, 0.9932082911892073, 0.9965693942551395, 0.14557402472232692, 0.800657135972798, 0.9911887613912543, 0.05356561275348972, 0.9106154168093252, 0.8896398499114176, 0.7076178862458321, 0.07683375728543854, 0.09154660442520336, 0.00023353725618674328, 0.0028024470742409194, 0.010042102016029961, 0.02919215702334291, 0.02148542756918038, 0.05161173361727026, 0.0021018353056806893, 0.005137819636108352, 0.00046707451237348657, 0.0011676862809337164, 0.9534702296783302, 0.03467164471557564, 0.011557214905191881, 0.9878811795654683, 0.9947718570653705, 0.9912738322298997, 0.8808077323494972, 0.02424241465182102, 0.0404040244197017, 0.04848482930364204, 0.00808080488394034, 0.9857228118115927, 0.8216907116211288, 0.08848976894381388, 0.008427597042267988, 0.03371038816907195, 0.03371038816907195, 0.008427597042267988, 0.008427597042267988, 0.9773241113988442, 0.9718517041226673, 0.012787522422666675, 0.9602103747546803, 0.9814704683820994, 0.002699280270764286, 0.6640229466080143, 0.029692082978407145, 0.07288056731063572, 0.048587044873757146, 0.01889496189535, 0.056684885686050006, 0.040489204061464286, 0.002699280270764286, 0.024293522436878573, 0.016195681624585716, 0.005398560541528572, 0.016195681624585716, 0.9929321217602709, 0.006284380517470069, 0.5646739854732559, 0.005277326967039774, 0.006596658708799718, 0.013193317417599435, 0.3364295941487856, 0.07256324579679689, 0.5626917549853557, 0.0054630267474306375, 0.006828783434288297, 0.010926053494861275, 0.3400734150275572, 0.0737508610903136, 0.9333328595357903, 0.04844435601599784, 0.12156791226656062, 0.03564773367214936, 0.012796622343848487, 0.011882577890716452, 0.3473368921901732, 0.056670756094186155, 0.010968533437584417, 0.03747582257841343, 0.17184035718882254, 0.042960089297205635, 0.009140444531320348, 0.09049040086007144, 0.0009140444531320347, 0.7368744117858648, 0.2529568876279834, 0.9341184329132262, 0.4107625369125202, 0.02650080883306582, 0.06625202208266455, 0.29150889716372397, 0.19875606624799363, 0.10423917296910017, 0.8339133837528013, 0.8447880967207753, 0.42939142623647886, 0.024964617804446445, 0.009985847121778578, 0.014978770682667866, 0.04992923560889289, 0.4543560440409253, 0.009985847121778578, 0.05103066721626683, 0.9185520098928031, 0.8498523274697054, 0.2936282450288826, 0.0701201779173451, 0.03067757783883848, 0.03067757783883848, 0.24542062271070783, 0.06573766679751103, 0.254185644950376, 0.9640294470676056, 0.03513546959699702, 0.991951972808778, 0.9584639386386675, 0.041672345158202936, 0.006988016809044632, 0.9329002440074584, 0.059398142876879376, 0.976884133448199, 0.9455106336072294, 0.9141283523524553, 0.004663920165063547, 0.004663920165063547, 0.004663920165063547, 0.023319600825317737, 0.004663920165063547, 0.041975281485571926, 0.9972550469495537, 0.07273115491635947, 0.9091394364544934, 0.9629892598439924, 0.968018440955185, 0.9876031658355909, 0.9601010365884496, 0.9978659400958825, 0.9458787346391353, 0.9172499931975715, 0.03889339397053534, 0.567843551969816, 0.0031114715176428272, 0.024891772141142618, 0.32670450935249684, 0.0062229430352856545, 0.015557357588214136, 0.0031114715176428272, 0.010890150311749894, 0.004667207276464241, 0.9996394588638329, 0.992654882001794, 0.991076717190806, 0.9882669187502077, 0.007932249155919188, 0.8566829088392722, 0.10311923902694943, 0.015864498311838376, 0.007932249155919188, 0.9714405679291309, 0.25176870006750296, 0.16784580004500196, 0.01958201000525023, 0.07273318001950085, 0.22659183006075265, 0.07385215201980086, 0.10014799402685118, 0.02741481400735032, 0.0016784580004500197, 0.009511262002550112, 0.02126046800570025, 0.009511262002550112, 0.015665608004200183, 0.002797430000750033, 0.0005594860001500065, 0.04228470068444743, 0.887978714373396, 0.9761506643138015, 0.07940290392882365, 0.03075968350395871, 0.0393437812259937, 0.0028613659073449963, 0.7060420376373778, 0.0014306829536724981, 0.0786875624519874, 0.017883536920906228, 0.004292048861017495, 0.0035767073841812456, 0.03219036645763121, 0.0007153414768362491, 0.0007153414768362491, 0.0014306829536724981, 0.009249901203820285, 0.9758645770030401, 0.009249901203820285, 0.9844315407176378, 0.0014703981190704075, 0.0022055971786056113, 0.003675995297676019, 0.006616791535816834, 0.0007351990595352038, 0.0007351990595352038, 0.9946728305227276, 0.993816255994102, 0.9890055289380741, 0.9912568318862273, 0.6288070070670505, 0.06914267920031883, 0.030005313615232704, 0.06653352149464643, 0.07697015231733606, 0.016959525086870656, 0.06522894264181023, 0.005218315411344818, 0.010436630822689636, 0.007827473117017227, 0.013045788528362044, 0.003913736558508614, 0.005218315411344818, 0.9959221333597373, 0.003431256273418561, 0.9927728799130975, 0.9933014531979195, 0.9982789844907606, 0.002029977936022091, 0.7916913950486155, 0.19690785979414285, 0.008119911744088364, 0.05544324812171237, 0.8870919699473979, 0.5349301538324441, 0.12437126076604325, 0.004011976153743331, 0.03477045999910887, 0.23135729153253207, 0.009361277692067772, 0.03209580922994665, 0.0026746507691622207, 0.024071856922459986, 0.0026746507691622207, 0.06836913442531377, 0.2418719378254025, 0.04643941206247728, 0.430854545246317, 0.00193497550260322, 0.012899836684021466, 0.039344501886265475, 0.01547980402082576, 0.06320919975170519, 0.0032249591710053664, 0.0006449918342010734, 0.028379640704847227, 0.04643941206247728, 0.18495986450255972, 0.06315702690331307, 0.010150236466603887, 0.5537517894558343, 0.005639020259224381, 0.025939493192432155, 0.015789256725828267, 0.06428483095515795, 0.03721753371088092, 0.03834533776272579, 0.0011278040518448763, 0.9503454718471108, 0.9971900378018, 0.9880038968976895, 0.00213165926071738, 0.22915337052711837, 0.00106582963035869, 0.07354224449474961, 0.2771157038932594, 0.09485883710192342, 0.03836986669291284, 0.04796233336614105, 0.13536036305555363, 0.00959246667322821, 0.06608143708223878, 0.00532914815179345, 0.02238242223753249, 0.0016676250951732946, 0.2568142646566874, 0.006670500380693179, 0.23346751332426124, 0.06670500380693178, 0.11173088137661075, 0.0316848768082926, 0.22846463803874137, 0.011673375666213062, 0.015008625856559652, 0.030017251713119305, 0.8531815602805098, 0.0155873681284338, 0.00467621043853014, 0.5439991476823397, 0.17925473347698873, 0.026498525818337462, 0.2041945224824828, 0.010911157689903661, 0.00311747362568676, 0.010911157689903661, 0.0008030572377526277, 0.1686420199280518, 0.0008030572377526277, 0.006424457902021022, 0.7637074331027489, 0.012848915804042044, 0.02007643094381569, 0.009636686853031533, 0.003212228951010511, 0.01043974409078416, 0.002409171713257883, 0.9973343277028379, 0.009340136531832782, 0.19614286716848842, 0.009340136531832782, 0.7191905129511242, 0.04670068265916391, 0.009340136531832782, 0.9366984709505539, 0.9789085056277158, 0.9730467304634544, 0.9510440365171844, 0.731016266537043, 0.0040687361773861395, 0.07459349658541256, 0.027124907849240928, 0.002712490784924093, 0.016274944709544558, 0.14376201160097693, 0.9824449358490149, 0.013187180346966644, 0.9692417105960742, 0.029976547750394048, 0.9370159712394743, 0.6838833782910715, 0.012104130589222504, 0.006052065294611252, 0.04236445706227877, 0.006052065294611252, 0.2420826117844501, 0.18336607755671472, 0.7701375257382018, 0.9842302618784369, 0.8447880898125429, 0.012902415227662613, 0.20409274996484497, 0.03166956464971732, 0.46917873555136774, 0.0023458936777568384, 0.05864734194392097, 0.05864734194392097, 0.05512850142728571, 0.004691787355513677, 0.0011729468388784192, 0.010556521549905775, 0.08562511923812462, 0.003518840516635258, 0.0011729468388784192, 0.9900433770802248, 0.03711131997211733, 0.9277829993029332, 0.558188707665513, 0.05844907933670293, 0.0014612269834175732, 0.0657552142537908, 0.0014612269834175732, 0.2586371760649105, 0.0014612269834175732, 0.0014612269834175732, 0.0014612269834175732, 0.049681717436197495, 0.0029224539668351464, 0.9819098015136994, 0.014877421235056051, 0.9954055016505458, 0.8924931624006192, 0.10704153386880298, 0.14272204515840398, 0.07136102257920199, 0.642249203212818, 0.035680511289600994, 0.07769102942237649, 0.8546013236461414, 0.9616756651917845, 0.9411588713667676, 0.9972550469337924, 0.9780490606528637, 0.08795037068761702, 0.3236573641304306, 0.003518014827504681, 0.028144118620037448, 0.028144118620037448, 0.003518014827504681, 0.028144118620037448, 0.09498640034262638, 0.03869816310255149, 0.03869816310255149, 0.3095853048204119, 0.010554044482514043, 0.9894024001870577, 0.02838995099618143, 0.034067941195417714, 0.011355980398472573, 0.017033970597708857, 0.9028004416785694, 0.005677990199236286, 0.9807242644394826, 0.9934141352181685, 0.003295865864503929, 0.7679367464294156, 0.013183463458015717, 0.009887597593511788, 0.006591731729007858, 0.04614212210305501, 0.1252429028511493, 0.013183463458015717, 0.003295865864503929, 0.013183463458015717, 0.9699943112097149, 0.013108031232563714, 0.034422732711235214, 0.41307279253482254, 0.5163409906685281, 0.011202292555056208, 0.1400286569382026, 0.01288263643831464, 0.030806304526404572, 0.6133255173893274, 0.007841604788539345, 0.044809170220224834, 0.1025009768787643, 0.01512309494932588, 0.006721375533033725, 0.007281490160786535, 0.007841604788539345, 0.02369229977285521, 0.9753330073158729, 0.8430919467072583, 0.14591976000702547, 0.015068798716813272, 0.011301599037609954, 0.003767199679203318, 0.9267311210840162, 0.003767199679203318, 0.03767199679203318, 0.9924065988850991, 0.11771400784255533, 0.04786173945246755, 0.04268749734949808, 0.08925567627622327, 0.0038806815772270986, 0.059503784184148846, 0.08925567627622327, 0.19274051833561257, 0.007761363154454197, 0.20438256306729385, 0.09831059995641983, 0.01681628683465076, 0.02716477104058969, 0.0038806815772270986, 0.017550376131309945, 0.965270687222047, 0.016478185367419233, 0.016478185367419233, 0.18126003904161156, 0.016478185367419233, 0.03295637073483847, 0.3295637073483847, 0.41195463418548084, 0.023485118220394556, 0.07045535466118366, 0.4697023644078911, 0.42273212796710197, 0.9762277624515827, 0.9339465031111754, 0.02878557750448227, 0.01919038500298818, 0.004797596250747045, 0.014392788752241136, 0.2878557750448227, 0.638080301349357, 0.004797596250747045, 0.9814381264028579, 0.9979412791359004, 0.9927076595012115, 0.9951847146176949, 0.9812862594790227, 0.9940290984572909, 0.9958289332145173, 0.9438117880422762, 0.055278054980684936, 0.7130869092508357, 0.04145854123551371, 0.060805860478753436, 0.033166832988410964, 0.04422244398454795, 0.002763902749034247, 0.013819513745171234, 0.013819513745171234, 0.011055610996136988, 0.008291708247102741, 0.9852379814051683, 0.9339465005229762, 0.9636946114028005, 0.951032638678707, 0.941158867811919, 0.9575268985174377, 0.9341184357893755, 0.9597703325504244, 0.9552837316991434, 0.03821134926796574, 0.024033517305278865, 0.9733574508637941, 0.9820995872046429, 0.9366984709129116, 0.03355013765900305, 0.03355013765900305, 0.9058537167930822, 0.9604791340593426, 0.3990221359975742, 0.5486554369966645, 0.020118069138226974, 0.050295172845567435, 0.04023613827645395, 0.020118069138226974, 0.010059034569113487, 0.020118069138226974, 0.7141914544070576, 0.07041324198379441, 0.03017710370734046, 0.010059034569113487, 0.17901523861867077, 0.043759280551230635, 0.6961703724059419, 0.00795623282749648, 0.04574833875810476, 0.02784681489623768, 0.9967642212904716, 0.9658452284146394, 0.9912834854075481, 0.9717157091296501, 0.9666172517800193, 0.9339465027134976, 0.9741633075697566, 0.9658452279772509, 0.9595380224253726, 0.01851280471029039, 0.8361616794147827, 0.0617093490343013, 0.0030854674517150652, 0.009256402355145195, 0.009256402355145195, 0.055538414130871176, 0.0061709349034301305, 0.9749089967810499, 0.9958645794965522, 0.40080295687739426, 0.07666365282554186, 0.01210478728824345, 0.3335541386093751, 0.02017464548040575, 0.005379905461441533, 0.0013449763653603833, 0.005379905461441533, 0.14391247109356103, 0.03316116562912177, 0.9285126376154096, 0.9834835391851665, 0.981558764500871, 0.04892590090012689, 0.03145236486436729, 0.024462950450063446, 0.0034947072071519207, 0.7408779279162072, 0.05591531531443073, 0.03145236486436729, 0.04193648648582305, 0.0069894144143038415, 0.013978828828607683, 0.9817146906343918, 0.014227749139628865, 0.9781689925810637, 0.9680184415909554, 0.3620354171799239, 0.0295539116065244, 0.02364312928521952, 0.16697960057686287, 0.10639408178348785, 0.05763012763272258, 0.00591078232130488, 0.0664963011146799, 0.00147769558032622, 0.12117103758675003, 0.02659852044587196, 0.0073884779016311, 0.00295539116065244, 0.022165433704893298, 0.05231237505034941, 0.026156187525174707, 0.40355260753126687, 0.18682991089410503, 0.018682991089410503, 0.033629383960938904, 0.10836134831858092, 0.04483917861458521, 0.011209794653646302, 0.11209794653646302, 0.0704041317533564, 0.06684836752338891, 0.4423370702079563, 0.11022869112899233, 0.1393859578147258, 0.04551378214358393, 0.020623432533811468, 0.02560150245576596, 0.02133458537980497, 0.023468043917785467, 0.007822681305928489, 0.015645362611856978, 0.007111528459934989, 0.002133458537980497, 0.981875240241502, 0.9230852576024082, 0.88471046615627, 0.088471046615627, 0.4250173202222168, 0.08676389081459455, 0.03206491617061103, 0.1471213800769212, 0.046525564639710124, 0.018232991547994508, 0.05972876541584408, 0.019490439240959646, 0.0899075100470074, 0.013203200776133954, 0.006915962311308262, 0.010059581543721108, 0.026406401552267908, 0.0012574476929651385, 0.01697554385502937, 0.018061713871160734, 0.018061713871160734, 0.957270835171519, 0.9977921642231783, 0.018265936519862233, 0.04566484129965559, 0.08219671433938006, 0.054797809559586706, 0.08219671433938006, 0.018265936519862233, 0.036531873039724466, 0.5114462225561426, 0.08219671433938006, 0.07306374607944893, 0.9328077496562177, 0.04720850154721366, 0.5822381857489686, 0.020232214948805855, 0.09891305086082863, 0.0022480238832006507, 0.20906622113766052, 0.011240119416003252, 0.008992095532802603, 0.0022480238832006507, 0.013488143299203904, 0.9596123090915913, 0.9366984709796439, 0.8819549192320627, 0.094495169917721, 0.013530857371261756, 0.8524440143894906, 0.1217777163413558, 0.9878095932306576, 0.0018292515580182306, 0.8881016314178509, 0.01920714135919142, 0.021951018696218766, 0.01554863824315496, 0.03841428271838284, 0.0036585031160364613, 0.0073170062320729225, 0.0027438773370273457, 0.9873510019069923, 0.9928214999137412, 0.9900063568930753, 0.20433468574155467, 0.04807874958624816, 0.006868392798035451, 0.08413781177593428, 0.20090048934253696, 0.22236421683639773, 0.017170981995088628, 0.20004194024278252, 0.0017170981995088628, 0.004292745498772157, 0.004292745498772157, 0.005151294598526588, 0.899476734724969, 0.10919273012672066, 0.06988334728110122, 0.024022400627878544, 0.04149323744815385, 0.12666356694699596, 0.1485021129723401, 0.12666356694699596, 0.08953803870391094, 0.04804480125575709, 0.04586094665322268, 0.1179281485368583, 0.02183854602534413, 0.02839010983294737, 0.44337447481255127, 0.012667842137501465, 0.41803879053754833, 0.12667842137501464, 0.08453784989460743, 0.08343995574013201, 0.030741036325311794, 0.1339430868460014, 0.021957883089508422, 0.4863671104326116, 0.07026522588642696, 0.05599260187824648, 0.004391576617901685, 0.0032936824634262635, 0.010978941544754211, 0.005489470772377106, 0.0010978941544754213, 0.0032936824634262635, 0.0032936824634262635, 0.7997861021584022, 0.03367520430140641, 0.14031335125586003, 0.0028062670251172003, 0.005612534050234401, 0.011225068100468801, 0.005612534050234401, 0.35002975555437693, 0.10816658472985545, 0.05912210842377193, 0.16930421957716504, 0.017467895670659886, 0.03493579134131977, 0.04904447630608353, 0.08330842550622407, 0.010749474258867622, 0.05173184487080043, 0.01679605352948066, 0.04299789703547049, 0.0006718421411792264, 0.0006718421411792264, 0.004702894988254585, 0.31447545267735044, 0.08898825759215193, 0.021869995509935642, 0.4507858557263459, 0.014705686635991208, 0.0013197411083581854, 0.033370596597056976, 0.006787239985842096, 0.05373231655458326, 0.0013197411083581854, 0.0022624133286140323, 0.0005656033321535081, 0.009615256646609636, 0.9873263254892022, 0.02531300286903698, 0.9703317766464176, 0.262528062910026, 0.1575168377460156, 0.525056125820052, 0.19425185660309166, 0.050276951120800197, 0.006855947880109118, 0.6467444166902934, 0.01828252768029098, 0.0022853159600363725, 0.0754154266812003, 0.004570631920072745, 0.18948888240825434, 0.016843456214067052, 0.04631950458868439, 0.6505784962683399, 0.012632592160550288, 0.0021054320267583815, 0.025265184321100576, 0.05263580066895954, 0.0021054320267583815, 0.8034122012026708, 0.04499108326734956, 0.017139460292323643, 0.036421353121187744, 0.006427297609621367, 0.04284865073080911, 0.034278920584647286, 0.008569730146161822, 0.006427297609621367, 0.9812703079577461, 0.013083604106103281, 0.13911233760486655, 0.11592694800405545, 0.023185389600811093, 0.046370779201622185, 0.023185389600811093, 0.6491909088227106, 0.777471447535754, 0.005380425242461966, 0.04842382718215769, 0.056494465045850636, 0.10222807960677735, 0.002690212621230983, 0.010760850484923931, 0.9735053138744885, 0.015211020529288882, 0.06751705068657632, 0.014012972784006405, 0.06624314406984846, 0.03439547865165209, 0.0038217198501835654, 0.6713487870155797, 0.054777984519297766, 0.04713454481893064, 0.0038217198501835654, 0.0038217198501835654, 0.01273906616727855, 0.00254781323345571, 0.015286879400734261, 0.00254781323345571, 0.08207804663609604, 0.08839174253118035, 0.048931143186903406, 0.09470543842626467, 0.62979116553466, 0.004735271921313233, 0.018941087685252933, 0.0015784239737710777, 0.0031568479475421554, 0.025254783580337243, 0.0015784239737710777, 0.9670610694176711, 0.0823602877163957, 0.010084933189762738, 0.014006851652448247, 0.023531510776113054, 0.08011919145200398, 0.6661658645904387, 0.020730140445623407, 0.06275069540296815, 0.009524659123664809, 0.00392191846268551, 0.00392191846268551, 0.016247947916839967, 0.005602740660979299, 0.0011205481321958598, 0.953962673742531, 0.04193242521945191, 0.009308544634075273, 0.018617089268150547, 0.9029288295053016, 0.046542723170376374, 0.009308544634075273, 0.8875206042607531, 0.1040541398098814, 0.006120831753522436, 0.04527610148121962, 0.02263805074060981, 0.03395707611091471, 0.023895720226199242, 0.0025153389711788676, 0.817485165633132, 0.013834364341483772, 0.02012271176943094, 0.00628834742794717, 0.011319025370304905, 0.0012576694855894338, 0.9836368135097185, 0.987398693855091, 0.008297468015589, 0.9908349709368297, 0.9937000387833561, 0.03340888018799533, 0.0779540537719891, 0.07238590707398988, 0.1781806943359751, 0.14477181414797977, 0.0250566601409965, 0.07238590707398988, 0.06124961367799144, 0.011136293395998444, 0.06681776037599066, 0.12249922735598288, 0.05846554032899183, 0.008352220046998832, 0.013920366744998055, 0.050113320281993, 0.14188011309163104, 0.18106604908836724, 0.052698327719748674, 0.22971065929121215, 0.03242974013522995, 0.04999584937514617, 0.056752045236652414, 0.048644610202844926, 0.0027024783446024958, 0.014863630895313727, 0.06215700192585741, 0.01351239172301248, 0.1067478946117986, 0.0013512391723012479, 0.004053717516903744, 0.12759181292914867, 0.23198511441663397, 0.0115992557208317, 0.0231985114416634, 0.0231985114416634, 0.5799627860415849, 0.014191198268073699, 0.11352958614458959, 0.09579058830949747, 0.08159939004142376, 0.0070955991340368495, 0.10998178657757116, 0.11352958614458959, 0.1277207844126633, 0.04612139437123952, 0.23770257099023445, 0.010643398701055273, 0.04612139437123952, 0.004445175702103028, 0.014224562246729687, 0.41340134029558157, 0.12446491965888476, 0.0008890351404206054, 0.0666776355315454, 0.023114913650935744, 0.256931155581555, 0.004445175702103028, 0.02756008935303877, 0.03467237047640361, 0.00977938654462666, 0.018669737948832716, 0.0008890351404206054, 0.01947050358993326, 0.008653557151081449, 0.9518912866189593, 0.006490167863311086, 0.002163389287770362, 0.002163389287770362, 0.004326778575540724, 0.002163389287770362, 0.9959483927716172, 0.014461082916790942, 0.9688925554249931, 0.3873426714913566, 0.36522588315002913, 0.014943775906302336, 0.014346024870050243, 0.0047820082900167475, 0.11775695414166241, 0.0017932531087562803, 0.03765831528388189, 0.019725784196319086, 0.0011955020725041869, 0.012552771761293963, 0.01554152694255443, 0.002988755181260467, 0.0041842572537646545, 0.9812444909811047, 0.93143804304683, 0.028522652594803174, 0.15687458927141745, 0.028522652594803174, 0.02139198944610238, 0.44923177836815004, 0.06417596833830715, 0.24957321020452777, 0.9629892621838703, 0.8588704833253253, 0.03357463141770287, 0.33574631417702877, 0.06714926283540575, 0.1342985256708115, 0.4028955770124345, 0.9849854755731063, 0.9438118107562161, 0.9916390059738273, 0.9823163025229449, 0.009008170376124178, 0.9818905709975355, 0.004504085188062089, 0.9953762198752151, 0.007715046215427368, 0.20830624781653895, 0.13115578566226527, 0.07715046215427368, 0.030860184861709473, 0.015430092430854737, 0.18516110917025683, 0.015430092430854737, 0.06172036972341895, 0.04629027729256421, 0.023145138646282103, 0.03857523107713684, 0.023145138646282103, 0.13887083187769264, 0.9629892621861067, 0.9597122560228489, 0.005689993612783689, 0.009483322687972815, 0.003793329075189126, 0.015173316300756504, 0.003793329075189126, 0.00757133527108742, 0.01514267054217484, 0.017035504359946694, 0.039749510173208956, 0.3956022679143177, 0.41831627372757996, 0.01514267054217484, 0.08707035561750533, 0.00378566763554371, 0.9962327973282816, 0.9873233545206663, 0.11156171341458164, 0.025745010787980378, 0.021454175656650313, 0.008581670262660126, 0.20596008630384302, 0.22741426196049333, 0.012872505393990189, 0.05578085670729082, 0.08581670262660125, 0.004290835131330063, 0.23599593222315346, 0.004290835131330063, 0.09812986722136713, 0.8341038713816207, 0.25544863799904577, 0.0720701486517684, 0.29308527118385813, 0.09849586982408348, 0.02882805946070736, 0.05605456006248653, 0.028027280031243267, 0.07527326636962477, 0.00240233828839228, 0.035234294896420104, 0.018417926877674146, 0.004003897147320467, 0.012812470871425494, 0.0120116914419614, 0.008007794294640934, 0.9860630709040347, 0.9655363972329631, 0.014199064665190634, 0.014199064665190634, 0.8994767439460492, 0.9808039597368255, 0.003610040842513625, 0.030324343077114447, 0.007942089853529975, 0.1126332742864251, 0.2541468753129592, 0.034656392088130795, 0.45775317883072764, 0.07436684135578067, 0.01588417970705995, 0.0043320490110163494, 0.003610040842513625, 0.0013273933645401798, 0.08030729855468088, 0.010619146916321438, 0.13473042650082825, 0.017256113739022336, 0.13273933645401798, 0.019910900468102698, 0.4141467297365361, 0.0013273933645401798, 0.12809345967812735, 0.01858350710356252, 0.024556777243993327, 0.0006636966822700899, 0.0006636966822700899, 0.015265023692212068, 0.010125267976524922, 0.03375089325508307, 0.955150279118851, 0.031551407188454644, 0.37623564798308173, 0.060721576098535346, 0.014287429670243611, 0.06726998136406367, 0.02500300192292632, 0.041671669871543866, 0.002976547847967419, 0.07739024404715289, 0.17680694216926468, 0.09941669812211179, 0.0023812382783739354, 0.0017859287087804514, 0.0220264540749589, 0.0011906191391869677, 0.4197747876523177, 0.013541122182332829, 0.003385280545583207, 0.003385280545583207, 0.473939276381649, 0.08124673309399696, 0.03501557637782053, 0.8127653978467189, 0.024241552876952677, 0.010100647032063615, 0.006060388219238169, 0.06060388219238169, 0.04982985869151384, 0.001346752937608482, 0.040897550564257736, 0.040897550564257736, 0.8588485618494125, 0.040897550564257736, 0.9377484487031141, 0.0010680506249465993, 0.021361012498931985, 0.039517873123024176, 0.924331557265858, 0.018267422080352924, 0.018267422080352924, 0.025574390912494097, 0.00730696883214117, 0.025372431587738373, 0.06765981756730233, 0.6258533124975465, 0.025372431587738373, 0.06765981756730233, 0.1860644983100814, 0.07807160638219057, 0.055975868726853624, 0.10458649156859492, 0.1384666226401116, 0.0044191475310673915, 0.10164039321455, 0.032407081894494205, 0.12373613086988695, 0.0044191475310673915, 0.2754601961032007, 0.032407081894494205, 0.01914963930129203, 0.0014730491770224637, 0.013257442593202174, 0.01178439341617971, 0.9722335183898967, 0.2684251178861019, 0.05592189955960456, 0.1515676312201696, 0.15195329949299446, 0.002314009636949154, 0.06286392847045202, 0.06440660156175146, 0.0790619959290961, 0.04936553892158196, 0.060164250560678006, 0.0169694040042938, 0.011184379911920912, 0.015426730912994362, 0.006556360638022603, 0.0034710144554237314, 0.9681465298617402, 0.9958075533088468, 0.9333328596902238, 0.748661945272742, 0.06704435330800675, 0.026072804064224846, 0.05400795127589433, 0.044696235538671164, 0.0018623431474446318, 0.02048577462189095, 0.026072804064224846, 0.0037246862948892637, 0.0018623431474446318, 0.0055870294423338955, 0.9260537472551709, 0.016152100242822747, 0.048456300728468245, 0.005384033414274249, 0.9901928389470628, 0.996991715797166, 0.009195298886763733, 0.9838969808837195, 0.009195298886763733, 0.9958873188934275, 0.001153159644247118, 0.004612638576988472, 0.009225277153976945, 0.02882899110617795, 0.3009746671484978, 0.3690110861590778, 0.01729739466370677, 0.19949661845475142, 0.05189218399112031, 0.002306319288494236, 0.003459478932741354, 0.006918957865482708, 0.0057657982212355905, 0.001153159644247118, 0.9770028786096203, 0.16566780741308654, 0.010068209290298077, 0.014644668058615385, 0.606838432678875, 0.0054917505219807695, 0.03386579488554808, 0.054002213466144235, 0.001830583507326923, 0.1025126764103077, 0.003661167014653846, 0.9739534476110461, 0.12132228814937916, 0.012550581532694395, 0.016734108710259196, 0.26147044859779994, 0.03346821742051839, 0.06693643484103678, 0.22800223117728152, 0.03346821742051839, 0.08994583431764318, 0.018825872299041594, 0.09831288867277277, 0.016734108710259196, 0.8994767444135698, 0.2808362006109082, 0.05545173387858697, 0.060818030705547, 0.06260679631453367, 0.026831484134800146, 0.06439556192352035, 0.02862024974378682, 0.32913287205354846, 0.02862024974378682, 0.03577531217973353, 0.01967642169885344, 0.0035775312179733526, 0.0017887656089866763, 0.005366296826960029, 0.2508873692761262, 0.05434652212806294, 0.06849150733947658, 0.09454805904471224, 0.041690482728377054, 0.10869304425612589, 0.1421943250200003, 0.07146939896293208, 0.02605655170523566, 0.06551361571602109, 0.030523389140418914, 0.0215897142700524, 0.012656039399685891, 0.009678147776230387, 0.0014889458117277518, 0.92615646125787, 0.017745124752823263, 0.9582367366524562, 0.017745124752823263, 0.008872562376411632, 0.34614210895995806, 0.5566985992028819, 0.004785374778248268, 0.0063804997043310245, 0.0031902498521655122, 0.0015951249260827561, 0.0015951249260827561, 0.07656599645197229, 0.9827377897331914, 0.9839242856796336, 0.9280224582547315, 0.9172499924292888, 0.21481762878889576, 0.13254704755059526, 0.03427940884929188, 0.029708821002719626, 0.3942132017668566, 0.023995586194504315, 0.05027646631229476, 0.03884999669586413, 0.0022852939232861254, 0.023995586194504315, 0.0274235270794335, 0.006855881769858375, 0.01713970442464594, 0.0034279408849291876, 0.02010650242321709, 0.9684632000516231, 0.006702167474405696, 0.06721368690910814, 0.026229731476725127, 0.08196791086476603, 0.026229731476725127, 0.02786908969402045, 0.5639392267495903, 0.014754223955657885, 0.12131250807985372, 0.02295101504213449, 0.003278716434590641, 0.021311656824839167, 0.014754223955657885, 0.003278716434590641, 0.003278716434590641, 0.9700800335718285, 0.025754337174473323, 0.1006454622420279, 0.005920321308354582, 0.7252393602734363, 0.041442249158482075, 0.005920321308354582, 0.020721124579241038, 0.09472514093367332, 0.002960160654177291, 0.005920321308354582, 0.9574019550003967, 0.03972622219918659, 0.011421620666648131, 0.9822593773317393, 0.011777876967300985, 0.9893416652532827, 0.9333328594644633, 0.9314380431715995, 0.9261564624806613, 0.9770028786134053, 0.9944581942371856, 0.9939040788186347, 0.17137685158258034, 0.012694581598709655, 0.12059852518774172, 0.5014359731490313, 0.012694581598709655, 0.0031736453996774137, 0.01586822699838707, 0.1174248797880643, 0.041257390195806376, 0.0031736453996774137, 0.007058749245965718, 0.05646999396772574, 0.6846986768586746, 0.18352748039510866, 0.07058749245965718, 0.9810377490882253, 0.10561637412413251, 0.004447005226279264, 0.03779954442337374, 0.007782259145988711, 0.7615496450003238, 0.001111751306569816, 0.04558180356936245, 0.01889977221168687, 0.001111751306569816, 0.012229264372267975, 0.0033352539197094478, 0.008854267420208279, 0.9828236836431189, 0.289196676447296, 0.18059539288691903, 0.023184543681428794, 0.1134822401248883, 0.06345243533864722, 0.014642869693533976, 0.04026789165721843, 0.03416669595157928, 0.004880956564511325, 0.11226200098376048, 0.029285739387067952, 0.012202391411278313, 0.012202391411278313, 0.0658929136209029, 0.0024404782822556627, 0.9741633083678486, 0.9645146317656162, 0.43507621069877495, 0.13204278010290332, 0.021848805340768173, 0.09784465000430964, 0.13109283204460903, 0.002849844174882805, 0.06459646796401025, 0.006649636408059879, 0.002849844174882805, 0.014249220874414026, 0.06744631213889306, 0.004749740291471342, 0.015199168932708295, 0.002849844174882805, 0.8914555921157074, 0.9782833005356003, 0.004180697865536753, 0.01254209359661026, 0.0020903489327683765, 0.9943487995856173, 0.9814088942626713, 0.0008345313726723395, 0.014187033335429772, 0.0025035941180170185, 0.9970014999196783, 0.9837010794435148, 0.9984536524350454, 0.9824534131791544, 0.013366713104478291, 0.003341678276119573, 0.9946459958291182, 0.9928825360714997, 0.011129267882968998, 0.08346950912226749, 0.07234024123929848, 0.05564633941484499, 0.7011438766270468, 0.05008170547336049, 0.022258535765937996, 0.020383433401142972, 0.040766866802285945, 0.9376379364525768, 0.05074959428993224, 0.9388674943637464, 0.01663012409999352, 0.049890372299980563, 0.024945186149990282, 0.00831506204999676, 0.8231911429496793, 0.058205434349977325, 0.00831506204999676, 0.9546183465907085, 0.03818473386362834, 0.018043863171852983, 0.02405848422913731, 0.04811696845827462, 0.10224855797383357, 0.042102347400990295, 0.018043863171852983, 0.643564453129423, 0.012029242114568656, 0.03007310528642164, 0.006014621057284328, 0.03608772634370597, 0.006014621057284328, 0.006014621057284328, 0.03447271616981662, 0.14938177006920536, 0.028727263474847185, 0.11490905389938874, 0.022981810779877748, 0.3791998778679828, 0.022981810779877748, 0.01723635808490831, 0.22981810779877748, 0.015852626640376857, 0.06341050656150743, 0.04755787992113058, 0.12682101312301486, 0.02377893996056529, 0.4597261725709289, 0.015852626640376857, 0.24571571292584132, 0.007926313320188429, 0.008886568521075926, 0.1066388222529111, 0.026659705563227776, 0.15107166485829074, 0.035546274084303706, 0.36434930936411297, 0.017773137042151853, 0.008886568521075926, 0.013329852781613888, 0.013329852781613888, 0.18217465468205649, 0.06220597964753148, 0.9655943047955963, 0.06319766516134077, 0.8847673122587708, 0.004869878183615076, 0.024349390918075378, 0.9204069767032493, 0.004869878183615076, 0.024349390918075378, 0.009739756367230151, 0.009739756367230151, 0.9770028787265242, 0.9962327975041404, 0.1630527904391372, 0.05149035487551701, 0.038617766156637756, 0.05149035487551701, 0.012872588718879252, 0.08581725812586168, 0.20167055659577493, 0.07723553231327551, 0.06007208068810317, 0.07294466940698242, 0.034326903250344674, 0.004290862906293084, 0.14159847590767177, 0.1925346701472022, 0.040840687606982284, 0.040840687606982284, 0.0466750715508369, 0.011668767887709226, 0.10501891098938303, 0.20420343803491145, 0.040840687606982284, 0.05250945549469151, 0.07584699127010996, 0.017503151831563837, 0.16919713437178377, 0.9054094342289756, 0.06036062894859837, 0.48871057467798934, 0.042911172410750285, 0.05065902298491353, 0.03873925287081623, 0.17104870113729628, 0.041719195399340554, 0.061386816087601104, 0.03397134482517731, 0.010131804596982706, 0.010727793102687571, 0.017283666665441087, 0.021455586205375143, 0.004171919539934055, 0.0011919770114097302, 0.005363896551343786, 0.904350937568995, 0.08221372159718136, 0.14194646896573956, 0.03702951364323641, 0.03702951364323641, 0.006171585607206069, 0.006171585607206069, 0.03085792803603034, 0.6727028311854615, 0.006171585607206069, 0.018514756821618204, 0.04320109925044248, 0.08997198130610697, 0.009996886811789663, 0.12995952855326562, 0.05998132087073798, 0.09996886811789663, 0.05998132087073798, 0.38987858565979683, 0.019993773623579326, 0.1399564153650553, 0.9351368089664694, 0.9785170252950034, 0.16574712578226197, 0.26083922679195715, 0.08340480367889465, 0.09190465628311321, 0.09827954573627713, 0.02496831702489203, 0.09296713785864054, 0.04143678144556549, 0.020187149935019088, 0.03718685514345622, 0.012218538118564184, 0.03559313278016523, 0.004249926302109281, 0.02709328017594667, 0.0037186855143456214, 0.9645146335145445, 0.016597889113599447, 0.9460796794751686, 0.033195778227198894, 0.47135215626169397, 0.067022101473108, 0.013184675699627803, 0.04834381089863528, 0.10987229749689836, 0.0021974459499379674, 0.045047641973728327, 0.02197445949937967, 0.17359823004509942, 0.007691060824782886, 0.005493614874844918, 0.006592337849813902, 0.023073182474348655, 0.003296168924906951, 0.9960904744634457, 0.01566309952396128, 0.018795719428753535, 0.8646030937226626, 0.018795719428753535, 0.025060959238338048, 0.003132619904792256, 0.009397859714376768, 0.03445881895271481, 0.006265239809584512, 0.003132619904792256, 0.9945868694830339, 0.8588704783138947, 0.06600622486155792, 0.858080923200253, 0.03300311243077896, 0.9776471948487083, 0.01745798562229836, 0.9782599679210099, 0.024456499198025245, 0.9655943047955963, 0.8531815596872241, 0.031503404105669056, 0.2929816581827222, 0.1590921907336287, 0.037804084926802865, 0.0149641169501928, 0.10159847824078269, 0.052768201876995664, 0.031503404105669056, 0.006300680821133811, 0.1945335203525064, 0.058281297595487745, 0.005513095718492084, 0.0031503404105669053, 0.0015751702052834526, 0.00866343612905899, 0.2000694572243568, 0.008336227384348199, 0.008336227384348199, 0.0125043410765223, 0.5918721442887221, 0.17506077507131218, 0.09078484063166282, 0.609652506563938, 0.014960797707090504, 0.019721051522982935, 0.015640833966503707, 0.01768094274474332, 0.030601631673594212, 0.0047602538158924325, 0.001020054389119807, 0.13566723375293432, 0.05066270132628375, 0.006120326334718843, 0.0023801269079462162, 0.031141987232092275, 0.031141987232092275, 0.031141987232092275, 0.8719756424985837, 0.981037749459547, 0.9711470425102859, 0.01734191147339796, 0.017827760235185397, 0.9626990527000114, 0.04505460060645962, 0.9010920121291924, 0.952268458074693, 0.03967785241977887, 0.0140580573228964, 0.030124408549063713, 0.010041469516354571, 0.8615580845032221, 0.038157584162147366, 0.002008293903270914, 0.036149290258876456, 0.004016587806541828, 0.004016587806541828, 0.019716856502656113, 0.9266922556248373, 0.04436292713097625, 0.004929214125664028, 0.002464607062832014, 0.11028830536393917, 0.16390067602696515, 0.10707156312415761, 0.11488365142076996, 0.05912678593122294, 0.14429386618448709, 0.07214693309224354, 0.10017854403891141, 0.016696424006485234, 0.045800282366413626, 0.02466169050499195, 0.014858285583752916, 0.013479681766703677, 0.002604029432204119, 0.009956583123133397, 0.9835422436127769, 0.009278700411441292, 0.37622360620130635, 0.1588499670627738, 0.4514683274415676, 0.008360524582251252, 0.9742046468303367, 0.051687712564462654, 0.025843856282231327, 0.12921928141115663, 0.7494718321847085, 0.9810814925667064, 0.41091307635539254, 0.0227682707215389, 0.023852474089231232, 0.32742941704308326, 0.10191511656307889, 0.004336813470769314, 0.04878915154615479, 0.008673626941538629, 0.010842033676923287, 0.002168406735384657, 0.018431457250769587, 0.009757830309230957, 0.009757830309230957, 0.6301502097938061, 0.05626341158873269, 0.011252682317746537, 0.0984609702802822, 0.19973511114000103, 0.005626341158873269, 0.29630419437286504, 0.04267331022326976, 0.09188527281945989, 0.10289773997385208, 0.03441395985747561, 0.06951619891210074, 0.18893263961754111, 0.04267331022326976, 0.06091270894773183, 0.014798002738714514, 0.01686284033016305, 0.019615957118761098, 0.006538652372920366, 0.007226931570069878, 0.0044738147814718295, 0.9816154394605451, 0.0818323521830616, 0.0024068338877371058, 0.010830752494816976, 0.0036102508316056586, 0.06979818274437607, 0.007220501663211317, 0.524689787526689, 0.09145968773401002, 0.09627335550948424, 0.022864921933502504, 0.05776401330569054, 0.0048136677754742115, 0.022864921933502504, 0.0012034169438685529, 0.0024068338877371058, 0.06599359982019498, 0.7457276779682033, 0.09239103974827298, 0.019798079946058495, 0.019798079946058495, 0.05939423983817549, 0.9465286421144983, 0.03862432628257202, 0.17327301929542727, 0.0005364489761468336, 0.0032186938568810023, 0.27197963090644467, 0.3122133041174572, 0.016629918260551844, 0.0987066116110174, 0.0686654689467947, 0.010728979522936674, 0.0026822448807341686, 0.0005364489761468336, 0.0010728979522936673, 0.033330778149778605, 0.8332694537444651, 0.11665772352422511, 0.05481330291411343, 0.3547915606804433, 0.015945688120469363, 0.14450779859175358, 0.08371486263246415, 0.0169422936279987, 0.13753156003904826, 0.006976238552705346, 0.10663678930563886, 0.039864220301173404, 0.015945688120469363, 0.005979633045176011, 0.013952477105410692, 0.0009966055075293352, 0.9641802441199653, 0.03324759462482639, 0.9058984593734901, 0.09119783148055269, 0.961675656811746, 0.19630241673295754, 0.19052881624081172, 0.02309440196858324, 0.1674344142722285, 0.38683123297376926, 0.034641602952874856, 0.9621377644566322, 0.009653464774599779, 0.1029702909290643, 0.03990098773501242, 0.23490097618192796, 0.01029702909290643, 0.13193068525286364, 0.029603958642105986, 0.09846534070091774, 0.024455444095652774, 0.18792078094554235, 0.10361385524737096, 0.012871286366133038, 0.0025742572732266075, 0.0006435643183066519, 0.009653464774599779, 0.05482159639071833, 0.009136932731786389, 0.35634037653966916, 0.018273865463572778, 0.08223239458607749, 0.42029890566217387, 0.05482159639071833, 0.9370159710780226, 0.021711020944337557, 0.1199819578502865, 0.13997895082533424, 0.07256051736660184, 0.13083746832245527, 0.1136971886295572, 0.06456172017658274, 0.08341602783877061, 0.14169297879462406, 0.05884829361228337, 0.0028567132821496785, 0.045707412514394856, 0.0005713426564299357, 0.0011426853128598713, 0.0011426853128598713, 0.021768241325120098, 0.1306094479507206, 0.1405606439850612, 0.0702803219925306, 0.14367039274579266, 0.08520711604404153, 0.06654862347965287, 0.07898761852257864, 0.14988989026725555, 0.058463276701751124, 0.0018658492564388657, 0.04975598017170309, 0.0006219497521462886, 0.0012438995042925772, 0.0006219497521462886, 0.14001797386564013, 0.062255303433808806, 0.1754741382154877, 0.11954222714980459, 0.024992455550211033, 0.14558858142803657, 0.0785907337181335, 0.09342059439099967, 0.08822637923146787, 0.030939455515472093, 0.012420949294532592, 0.009936759435626073, 0.010614265760782397, 0.003688645548073315, 0.004215594912083789, 0.9791930035808585, 0.935136592452127, 0.9808156954890835, 0.02341001050530014, 0.005852502626325035, 0.005852502626325035, 0.9481054254646556, 0.01170500525265007, 0.01274650545527732, 0.02549301091055464, 0.02549301091055464, 0.05098602182110928, 0.038239516365831956, 0.8157763491377484, 0.01274650545527732, 0.01274650545527732, 0.9944609641852841, 0.9965819336336204, 0.9618026685770582, 0.007819533890870391, 0.023458601672611174, 0.10171151483040518, 0.02825319856400144, 0.005650639712800288, 0.005650639712800288, 0.7967401995048407, 0.022602558851201153, 0.039554477989602016, 0.007971467961578067, 0.007971467961578067, 0.9645476233509461, 0.007971467961578067, 0.011553141862350482, 0.011553141862350482, 0.07220713663969051, 0.014441427327938102, 0.8202730722268842, 0.025994569190288586, 0.040435996518226686, 0.0028882854655876205, 0.0028882854655876205, 0.052750309860351924, 0.9363180000212467, 0.0065937887325439905, 0.9905807671482899, 0.018677535025758203, 0.002490338003434427, 0.5453840227521396, 0.0012451690017172136, 0.38973789753748783, 0.019922704027475417, 0.018677535025758203, 0.9438117970846828, 0.9694199304209256, 0.01446895418538695, 0.9541944082657158, 0.9359550568119749, 0.0024733537577868382, 0.017313476304507868, 0.5095108741040887, 0.4699372139794993, 0.03165752775480503, 0.3039122664461283, 0.6458135661980227, 0.012663011101922013, 0.012433656516210222, 0.012433656516210222, 0.9698252082643972, 0.9809757274099068, 0.17460659094063283, 0.002894031894043638, 0.1215493395498328, 0.023152255152349106, 0.001929354596029092, 0.05112789679477094, 0.5874884744908585, 0.02894031894043638, 0.006752741086101822, 0.037324528156926245, 0.0933113203923156, 0.8584641476093036, 0.01966451732677771, 0.01769806559409994, 0.027530324257488793, 0.8711381175762525, 0.003932903465355542, 0.007865806930711084, 0.013765162128744396, 0.005899355198033312, 0.003932903465355542, 0.015731613861422168, 0.005899355198033312, 0.001966451732677771, 0.005899355198033312, 0.9898329621549892, 0.988673424995786, 0.9907706733005945, 0.9958873187527054, 0.04961287005132598, 0.02042882884466364, 0.052531274171992215, 0.017510424723997404, 0.017510424723997404, 0.7996427290625482, 0.02042882884466364, 0.01459202060333117, 0.0029184041206662343, 0.005264196343098865, 0.0017547321143662883, 0.033339910172959474, 0.07720821303211668, 0.01930205325802917, 0.2105678537239546, 0.057906159774087515, 0.2667192813836758, 0.2561908886974781, 0.01754732114366288, 0.0035094642287325766, 0.014037856914930306, 0.007018928457465153, 0.01754732114366288, 0.012283124800564017, 0.9432588972909463, 0.9432588972909463, 0.9438118033979435, 0.9411588714814624, 0.05010008016022204, 0.05266931504023343, 0.059092402240261896, 0.0025692348800113868, 0.5087085062422546, 0.04881546272021635, 0.1310309788805807, 0.012846174400056934, 0.06551548944029036, 0.0012846174400056934, 0.04496161040019927, 0.00770770464003416, 0.01541540928006832, 0.046780998153854544, 0.8935170647386218, 0.014034299446156364, 0.037424798523083634, 0.004678099815385454, 0.013177978685344774, 0.14495776553879253, 0.7775007424353417, 0.013177978685344774, 0.026355957370689548, 0.024203800250023874, 0.021514489111132334, 0.0026893111388915417, 0.021514489111132334, 0.01882517797224079, 0.06723277847228853, 0.5136584275282844, 0.03496104480559004, 0.0322717336666985, 0.045718289361156204, 0.08336864530563778, 0.040339667083373124, 0.07530071188896316, 0.013446555694457707, 0.0026893111388915417, 0.9853671466082221, 0.8692787730182548, 0.10030139688672171, 0.9559247858177816, 0.9846958581013564, 0.9411588723148081, 0.03998084682511099, 0.0023518145191241758, 0.0023518145191241758, 0.0023518145191241758, 0.5032883070925737, 0.007055443557372527, 0.4374375005570967, 0.0023518145191241758, 0.0023518145191241758, 0.0023518145191241758, 0.9510440375699594, 0.06702502710276048, 0.03830001548729171, 0.009575003871822927, 0.7564253058740111, 0.07660003097458341, 0.03830001548729171, 0.9876031658355909, 0.9964674922630051, 0.026133798529360697, 0.013066899264680349, 0.003266724816170087, 0.016333624080850435, 0.04573414742638122, 0.009800174448510262, 0.009800174448510262, 0.8722155259174132, 0.9974993110278717, 0.9776724570773336, 0.1715931866937228, 0.13398372111701645, 0.12301429365714375, 0.07130127848917249, 0.14260255697834498, 0.09872484713885422, 0.11674604939435936, 0.0587647899636037, 0.018021202255505134, 0.02193885491974538, 0.008618835861328543, 0.01332001905841684, 0.01410354959126489, 0.0047011831970882965, 0.003917652664240247, 0.9929063079286613, 0.006405847147926847, 0.20797592151058883, 0.35485157229490294, 0.007050031237647079, 0.3936267441019619, 0.017625078094117695, 0.0023500104125490262, 0.015275067681568671, 0.9941138416513966, 0.936260110684964, 0.960502332520422, 0.002125251542742572, 0.012751509256455433, 0.023377766970168294, 0.006375754628227716, 0.04037977931210887, 0.006375754628227716, 0.9032319056655932, 0.006375754628227716, 0.9785170273353521, 0.9804824401591897, 0.04357064610859205, 0.914983568280433, 0.9351366006447521, 0.9332752127272025, 0.014054395614555149, 0.20144633714195714, 0.0093695970763701, 0.14522875468373656, 0.00468479853818505, 0.00468479853818505, 0.056217582458220595, 0.5012734435858003, 0.02342399269092525, 0.00468479853818505, 0.0374783883054804, 0.023422206570998586, 0.023422206570998586, 0.9368882628399434, 0.24616003761067906, 0.09716843589895226, 0.01943368717979045, 0.03562842649628249, 0.009716843589895226, 0.03562842649628249, 0.4113463786388979, 0.11984107094204112, 0.0064778957265968174, 0.012955791453193635, 0.9597703330039477, 0.9992587588695152, 0.9934141352405449, 0.9968694797496328, 0.9988496701885072, 0.01923925304870252, 0.041685048272188795, 0.7507889463529388, 0.03114926684075646, 0.016032710873918766, 0.027026569758891634, 0.018781175595161983, 0.03893658355094558, 0.02611041485181056, 0.01557463342037823, 0.006413084349567506, 0.0009161549070810723, 0.00595500689602697, 0.0013742323606216085, 0.9939488946252345, 0.988914538081981, 0.006496763414273637, 0.9745145121410456, 0.006496763414273637, 0.012993526828547274, 0.08893146170675599, 0.027815567317972138, 0.19784311965599902, 0.04818753211423342, 0.03800154971610278, 0.10185982398130641, 0.013320130828324686, 0.04466161513026512, 0.38667556257519015, 0.03094971574816618, 0.001567074215097022, 0.012144825167001919, 0.000783537107548511, 0.005876528306613832, 0.001567074215097022, 0.020243609956382153, 0.06477955186042289, 0.5162120538877448, 0.07895007882989039, 0.14372963069031328, 0.030365414934573228, 0.016194887965105723, 0.04656030289967895, 0.060730829869146456, 0.012146165973829292, 0.0020243609956382153, 0.008097443982552861, 0.0020243609956382153, 0.9976957478290909, 0.9701702387370623, 0.9544160094847854, 0.03255331704777326, 0.007234070455060726, 0.03255331704777326, 0.02531924659271254, 0.9042588068825906, 0.03981587463875285, 0.9555809913300685, 0.9958627658608706, 0.22218673129591468, 0.03215860584546134, 0.6665601938877441, 0.046776153957034675, 0.011694038489258669, 0.002923509622314667, 0.014617548111573335, 0.19530184492725614, 0.038362862396425314, 0.7149442537515627, 0.03138779650616617, 0.010462598835388722, 0.0034875329451295738, 0.0034875329451295738, 0.9346003586766753, 0.9346003586766753, 0.12291223114711307, 0.06116758920936143, 0.12291223114711307, 0.08021032924623811, 0.04847242918477699, 0.1846568730848647, 0.07328569650555568, 0.1032924383818462, 0.05424295646867901, 0.0779021183326773, 0.029429689147900312, 0.010964001839413842, 0.006924632740682427, 0.02077389822204728, 0.0040393690987314155, 0.9559247839409033, 0.008850262056424849, 0.11947853776173545, 0.008850262056424849, 0.03097591719748697, 0.005900174704283232, 0.08112740218389444, 0.04572635395819505, 0.16963002274814293, 0.04425131028212424, 0.32450960873557777, 0.1121033193813814, 0.038351135577841006, 0.004425131028212424, 0.004425131028212424, 0.187778071059529, 0.0034773716862875744, 0.017386858431437873, 0.013909486745150298, 0.0034773716862875744, 0.5841984432963125, 0.187778071059529, 0.02066284163251611, 0.04959081991803867, 0.9050324635042056, 0.02066284163251611, 0.9967052956719084, 0.012717862893430033, 0.7272305236334083, 0.04162209674213466, 0.006937016123689109, 0.0011561693539481849, 0.005780846769740925, 0.005780846769740925, 0.07746334671452838, 0.11561693539481849, 0.004624677415792739, 0.9272452712231972, 0.06848970753353162, 0.6329263006856914, 0.05833422126135405, 0.01166684425227081, 0.09333475401816647, 0.19541964122553607, 0.005833422126135405, 0.9760732787383702, 0.8253773929248354, 0.04522615851642933, 0.09045231703285866, 0.03768846543035778, 0.0022725065751188485, 0.7476546632141012, 0.006817519725356546, 0.0840827432793974, 0.05226765122773352, 0.10226279588034819, 0.8970527997120146, 0.0939769599698301, 0.03456672973668124, 0.01861285447359759, 0.014624385657826679, 0.009306427236798795, 0.3775750478929797, 0.29115822355127663, 0.0771103971049043, 0.054509073815535804, 0.0013294896052569707, 0.03456672973668124, 0.027919281710396388, 0.0013294896052569707, 0.013294896052569708, 0.039884688157709125, 0.003988468815770913, 0.9168784841003506, 0.042120925576950484, 0.016200355991134802, 0.005400118663711601, 0.004320094930969281, 0.016200355991134802, 0.004320094930969281, 0.6825749990931463, 0.0010800237327423202, 0.014040308525650162, 0.11772258686891289, 0.09504208848132417, 0.13409644909636848, 0.3575905309236493, 0.49168698002001776, 0.9314380436722441, 0.3657206953999417, 0.03680208255596897, 0.0023001301597480608, 0.016100911118236427, 0.23231314613455414, 0.013800780958488365, 0.0023001301597480608, 0.23231314613455414, 0.009200520638992243, 0.08740494607042631, 0.2233027526613359, 0.040600500483879254, 0.020300250241939627, 0.005075062560484907, 0.705433695907402, 0.2081895730902516, 0.059482735168643316, 0.059482735168643316, 0.029741367584321658, 0.6245687192707549, 0.9367205257804094, 0.9403726169813678, 0.044079966421001614, 0.014693322140333871, 0.9705760063448172, 0.02773074303842335, 0.0807295112160947, 0.807295112160947, 0.9494328839850313, 0.02260554485678646, 0.05231807221133573, 0.031390843326801435, 0.8789436131504402, 0.010463614442267144, 0.02092722888453429, 0.9653211091880413, 0.026447153676384692, 0.05364711921630414, 0.9120010266771703, 0.02682355960815207, 0.13813893666216814, 0.2637619293985694, 0.06350682658629878, 0.14833711319427453, 0.03105808307505123, 0.025495441330265933, 0.03337585046871177, 0.09132003531022526, 0.0018542139149284316, 0.11542481620429486, 0.03986559917096128, 0.004171981308588971, 0.03105808307505123, 0.012515943925766913, 0.9449702861577379, 0.9848861266638922, 0.011586895607810496, 0.0632188639616349, 0.010536477326939148, 0.11590125059633063, 0.10536477326939149, 0.03160943198081745, 0.052682386634695745, 0.010536477326939148, 0.5795062529816531, 0.010536477326939148, 0.010536477326939148, 0.010536477326939148, 0.9808039891579098, 0.9366984708210819, 0.8504853552183939, 0.07730752413119281, 0.1474236506687863, 0.01977634338239816, 0.0017978493983998329, 0.6400343858303404, 0.08449892172479215, 0.0017978493983998329, 0.0035956987967996658, 0.01258494578879883, 0.008989246991999164, 0.9559247716715378, 0.0014708082512052214, 0.011766466009641771, 0.02941616502410443, 0.21767962117837278, 0.002941616502410443, 0.011766466009641771, 0.17355537364221613, 0.36623125455010014, 0.054419905294593195, 0.014708082512052216, 0.10883981058918639, 0.0044124247536156645, 0.002941616502410443, 0.05787033240015973, 0.030782091702212622, 0.04802006305545169, 0.08865242410237235, 0.020931822357504584, 0.08003343842575282, 0.45064982252039276, 0.033244659038389635, 0.05417648139589421, 0.049251346723540194, 0.036938510042655144, 0.04802006305545169, 0.9732175685753246, 0.041502461542489766, 0.9545566154772647, 0.023162900458507763, 0.04109546855541699, 0.2144436268255396, 0.0014943806747424362, 0.004483142024227308, 0.06575274968866719, 0.4983759550266025, 0.06649994002603841, 0.0029887613494848724, 0.0784549854239779, 0.0007471903373712181, 0.0007471903373712181, 0.0014943806747424362, 0.0160926296934556, 0.042913679182548264, 0.9226441024247878, 0.0160926296934556, 0.005364209897818533, 0.06970627481128767, 0.019916078517510764, 0.8763074547704736, 0.019916078517510764, 0.009958039258755382, 0.5800382260728895, 0.0976906486017498, 0.0020352218458697872, 0.12618375444392682, 0.008140887383479149, 0.0020352218458697872, 0.18113474428241108, 0.012256746570979988, 0.980539725678399, 0.9629892618778502, 0.9629892618778502, 0.008573902256807948, 0.017147804513615895, 0.9174075414784505, 0.017147804513615895, 0.03429560902723179, 0.010297213065492167, 0.05589915664124319, 0.10591419153077657, 0.0926749175894295, 0.22948074831668258, 0.058841217517098095, 0.1765236525512943, 0.07208049145844517, 0.1603423177340923, 0.03824679138611376, 0.0014710304379274525, 0.00482883416051547, 0.00482883416051547, 0.9899110029056714, 0.9728133446472885, 0.9541944074476122, 0.09810170501301312, 0.004265291522304918, 0.06824466435687869, 0.004265291522304918, 0.0938364134907082, 0.41373327766357704, 0.31136628112825904, 0.03261197055905707, 0.945747146212655, 0.9842266413543475, 0.16628560170652218, 0.08358270985248469, 0.2736233975170815, 0.14253051574844758, 0.04311108192391316, 0.040471627928571535, 0.024634903956521802, 0.05806798789751568, 0.007918361986024865, 0.058947805895962886, 0.05014962591149082, 0.020235813964285768, 0.018476177967391354, 0.005278907990683244, 0.005278907990683244, 0.03864918655716821, 0.03220765546430684, 0.6162398078837376, 0.11165320560959704, 0.09018143530005915, 0.03650200952621442, 0.002147177030953789, 0.021471770309537893, 0.006441531092861368, 0.021471770309537893, 0.015030239216676525, 0.004294354061907578, 0.002900104634706861, 0.010150366221474014, 0.6626739090305177, 0.08120292977179211, 0.0855530867238524, 0.011600418538827444, 0.0855530867238524, 0.023200837077654888, 0.017400627808241167, 0.002900104634706861, 0.007250261586767152, 0.007250261586767152, 0.03051927328448775, 0.08600886107446547, 0.6991688061537193, 0.05271510840047884, 0.02219583511599109, 0.024970314505489977, 0.0416171908424833, 0.005548958778997772, 0.002774479389498886, 0.008323438168496658, 0.024970314505489977, 0.002774479389498886], \"Term\": [\"aastrom\", \"ability enter\", \"accordance\", \"accordance\", \"accordance\", \"accordance\", \"accordance\", \"accordance\", \"accordance\", \"accordance\", \"accordance\", \"accordance\", \"accordance\", \"accordance\", \"accordance\", \"accordance\", \"accordance\", \"account\", \"account\", \"account\", \"account\", \"account\", \"account\", \"account\", \"account\", \"account\", \"account\", \"account\", \"account\", \"account\", \"account\", \"account\", \"accountants\", \"accountants\", \"accrual\", \"accrual\", \"accrual\", \"accrual\", \"accrue\", \"accrue\", \"accrue\", \"accrue interest\", \"act\", \"act\", \"act\", \"act\", \"act\", \"act\", \"act\", \"act\", \"act\", \"act\", \"act\", \"act\", \"act\", \"act\", \"act\", \"act section\", \"action suit\", \"action suit\", \"action suit\", \"action suits\", \"actions causes\", \"actions judgments\", \"acts performed\", \"adcs\", \"adcs group\", \"additional\", \"additional\", \"additional\", \"additional\", \"additional\", \"additional\", \"additional\", \"additional\", \"additional\", \"additional\", \"additional\", \"additional\", \"additional\", \"additional\", \"additional\", \"adjustable\", \"adjustable\", \"adjustable rate\", \"adjustment date\", \"administrative\", \"administrative\", \"administrative\", \"administrative\", \"administrative\", \"administrative\", \"administrative\", \"administrative\", \"administrative agent\", \"administrative agent\", \"adverse\", \"adverse\", \"adverse\", \"adverse\", \"adverse\", \"adverse effect\", \"adverse effect\", \"advised\", \"advised\", \"advised\", \"advised\", \"advised\", \"advised\", \"advised\", \"advised\", \"advised possibility\", \"adviser\", \"adviser\", \"adviser agrees\", \"adviser s\", \"adviser shall\", \"advisors\", \"advisors\", \"advisors\", \"affiliates\", \"affiliates\", \"affiliates\", \"affiliates\", \"affiliates\", \"affiliates\", \"affiliates\", \"affiliates\", \"affiliates\", \"affiliates\", \"affiliates\", \"affiliates\", \"affiliates\", \"affiliates\", \"agent\", \"agent\", \"agent\", \"agent\", \"agent\", \"agent\", \"agent\", \"agent\", \"agent\", \"agent\", \"agent\", \"agent issuing\", \"agent lender\", \"agent lenders\", \"agents\", \"agents\", \"agents\", \"agents\", \"agents\", \"agents\", \"agents\", \"agents\", \"agents\", \"agents\", \"agents\", \"aggregate reasonably\", \"agreement\", \"agreement\", \"agreement\", \"agreement\", \"agreement\", \"agreement\", \"agreement\", \"agreement\", \"agreement\", \"agreement\", \"agreement\", \"agreement\", \"agreement\", \"agreement\", \"agreement\", \"agreement consultant\", \"agreement following\", \"agreement following\", \"agreement following\", \"agreement following\", \"agreement loan\", \"agreement loan\", \"agreement perform\", \"agreement perform\", \"agrees\", \"agrees\", \"agrees\", \"agrees\", \"agrees\", \"agrees\", \"agrees\", \"agrees\", \"agrees\", \"agrees\", \"agrees\", \"agrees\", \"agrees\", \"agrees\", \"agrees\", \"airline\", \"airline\", \"alleged omission\", \"alleged omission\", \"alleged untrue\", \"allowed law\", \"amadeus\", \"ambix\", \"amortize\", \"amounts\", \"amounts\", \"amounts\", \"amounts\", \"amounts\", \"amounts\", \"amounts\", \"amounts\", \"amounts\", \"amounts\", \"amounts\", \"amounts\", \"amounts\", \"annuncio\", \"apl\", \"applicable\", \"applicable\", \"applicable\", \"applicable\", \"applicable\", \"applicable\", \"applicable\", \"applicable\", \"applicable\", \"applicable\", \"applicable\", \"applicable\", \"applicable\", \"applicable\", \"applicable\", \"applicable laws\", \"applicable laws\", \"applicable laws\", \"applicable laws\", \"applicable laws\", \"applicable laws\", \"applicable laws\", \"applicable laws\", \"applicable laws\", \"applicable singular\", \"applicable specifications\", \"applicable specifications\", \"applications\", \"applications\", \"applications\", \"applications\", \"applications\", \"applications\", \"applications\", \"approvals\", \"approvals\", \"arise based\", \"arising\", \"arising\", \"arising\", \"arising\", \"arising\", \"arising\", \"arising\", \"arising\", \"arising\", \"arising\", \"arising\", \"arising\", \"arising\", \"ascribed\", \"asset representations\", \"assets\", \"assets\", \"assets\", \"assets\", \"assets\", \"assets\", \"assets\", \"assets\", \"assets\", \"assets\", \"assets\", \"assets\", \"assets property\", \"assignee\", \"assignee\", \"assignee\", \"assignee\", \"assignee\", \"assignee participant\", \"assignment confidentiality\", \"assignment mortgage\", \"authority enter\", \"authority enter\", \"authority enter\", \"authorizations\", \"authorizations approvals\", \"automatically renew\", \"avanex\", \"avif\", \"aws\", \"b\", \"b\", \"b\", \"b\", \"b\", \"b\", \"b\", \"b\", \"b\", \"b\", \"b\", \"b\", \"b\", \"b\", \"b\", \"bad\", \"bad\", \"bad\", \"bad faith\", \"bad faith\", \"bad faith\", \"balance\", \"balance\", \"balance\", \"balance\", \"balance\", \"balance\", \"bamboo\", \"bamboo com\", \"bank\", \"bank\", \"bank\", \"bank\", \"bank\", \"bank\", \"bank\", \"bank\", \"bank\", \"bank\", \"bank\", \"bank\", \"bank trust\", \"bank trust\", \"bank trust\", \"bank trust\", \"base rent\", \"based untrue\", \"bea\", \"bea\", \"bea\", \"bear interest\", \"borrower\", \"borrower\", \"borrower\", \"borrower\", \"borrower\", \"borrower\", \"breach\", \"breach\", \"breach\", \"breach\", \"breach\", \"breach\", \"breach\", \"breach\", \"breach\", \"breach\", \"breach\", \"breach\", \"breach representation\", \"breach representation\", \"breach representation\", \"bronson\", \"building\", \"building\", \"building\", \"building\", \"bulk product\", \"business\", \"business\", \"business\", \"business\", \"business\", \"business\", \"business\", \"business\", \"business\", \"business\", \"business\", \"business\", \"business\", \"business\", \"business\", \"buyer\", \"buyer\", \"buyer\", \"buyer\", \"buyer\", \"buyer\", \"buyer\", \"buyer shall\", \"buyer shall\", \"buyer shall\", \"buyer shall\", \"buyer shall\", \"calendar\", \"calendar\", \"calendar\", \"calendar\", \"calendar\", \"calendar\", \"calendar\", \"calendar\", \"calendar\", \"calendar quarter\", \"capacity\", \"capacity\", \"capacity\", \"capacity\", \"capacity\", \"capacity\", \"capacity\", \"capacity\", \"capitalized\", \"capitalized terms\", \"cardinal health\", \"cardinal health\", \"carrier\", \"carrier\", \"carrier\", \"carrier\", \"carrier\", \"carrier\", \"catalent\", \"catalent shall\", \"cause subsidiaries\", \"certificate certificates\", \"certificate representing\", \"certificates\", \"certificates\", \"certificates\", \"certificates\", \"certificates\", \"certificates\", \"certificates\", \"certificates\", \"certificates representing\", \"chemins\", \"claim\", \"claim\", \"claim\", \"claim\", \"claim\", \"claim\", \"claim\", \"claim\", \"claim\", \"claim\", \"claim\", \"claim\", \"claim\", \"claim\", \"claims\", \"claims\", \"claims\", \"claims\", \"claims\", \"claims\", \"claims\", \"claims\", \"claims\", \"claims\", \"claims\", \"claims\", \"claims\", \"claims\", \"class\", \"class\", \"class\", \"class\", \"class\", \"class\", \"class\", \"class class\", \"closing\", \"closing\", \"closing\", \"closing\", \"closing\", \"closing\", \"closing\", \"closing\", \"closing\", \"closing company\", \"closing subject\", \"collectively proprietary\", \"collectively proprietary\", \"com java\", \"common\", \"common\", \"common\", \"common\", \"common\", \"common\", \"common\", \"common\", \"common\", \"common\", \"common\", \"common\", \"common\", \"common stock\", \"common stock\", \"communication\", \"communication\", \"communication\", \"communication\", \"communication\", \"communication\", \"communication\", \"communication\", \"communication\", \"communication\", \"communication\", \"communication\", \"communication document\", \"company\", \"company\", \"company\", \"company\", \"company\", \"company\", \"company\", \"company\", \"company\", \"company\", \"company\", \"company\", \"company\", \"company\", \"company\", \"company deliver\", \"company deliver\", \"company executive\", \"company executive\", \"company member\", \"company shall\", \"company shall\", \"company shall\", \"company shall\", \"company shall\", \"company shall\", \"company shall\", \"company shall\", \"company shall\", \"company substantially\", \"company substantially\", \"company termination\", \"compliance\", \"compliance\", \"compliance\", \"compliance\", \"compliance\", \"compliance\", \"compliance\", \"compliance\", \"compliance\", \"compliance\", \"compliance material\", \"comply\", \"comply\", \"comply\", \"comply\", \"comply\", \"comply\", \"comply\", \"comply\", \"comply\", \"comply\", \"comply\", \"comply\", \"comply material\", \"conceived\", \"conceived\", \"conceived\", \"conceived developed\", \"conceived developed\", \"conditions\", \"conditions\", \"conditions\", \"conditions\", \"conditions\", \"conditions\", \"conditions\", \"conditions\", \"conditions\", \"conditions\", \"conditions\", \"conditions\", \"conditions\", \"conditions\", \"conferred vested\", \"confidential\", \"confidential\", \"confidential\", \"confidential\", \"confidential\", \"confidential\", \"confidential\", \"confidential\", \"confidential information\", \"confidential information\", \"confidential information\", \"confidential information\", \"confidential information\", \"confidential information\", \"confidential nature\", \"confidential treatment\", \"confidential treatment\", \"confidential treatment\", \"confidential treatment\", \"confidential treatment\", \"confidential treatment\", \"confidentiality\", \"confidentiality\", \"confidentiality\", \"confidentiality\", \"confidentiality\", \"confidentiality\", \"confidentiality\", \"confidentiality\", \"confidentiality agreement\", \"confidentiality agreement\", \"confidentiality agreement\", \"confidentiality information\", \"confidentiality information\", \"conflict\", \"conflict\", \"conflict\", \"conflict\", \"conflict\", \"conflict\", \"conflict\", \"conflict\", \"conflict\", \"conform\", \"conform\", \"conform\", \"conform\", \"conform\", \"conform\", \"conform\", \"conform\", \"conform applicable\", \"conform specifications\", \"conform specifications\", \"connection\", \"connection\", \"connection\", \"connection\", \"connection\", \"connection\", \"connection\", \"connection\", \"connection\", \"connection\", \"connection\", \"connection\", \"connection\", \"connection\", \"connection\", \"connection exercise\", \"consent sub\", \"consequential\", \"consequential\", \"consequential\", \"consequential damages\", \"consequential damages\", \"consequential incidental\", \"consequential indirect\", \"consequential punitive\", \"consultant\", \"consultant\", \"consultant\", \"consultant\", \"consultant\", \"consultant\", \"consultant\", \"consultant\", \"consultant\", \"consultant\", \"consultant agrees\", \"consultant s\", \"consultant s\", \"consultant s\", \"consultant s\", \"consultant s\", \"consultant shall\", \"consultant shall\", \"consultant shall\", \"consultant shall\", \"consultant shall\", \"consultant shall\", \"consultant warrants\", \"consultant warrants\", \"contemplated\", \"contemplated\", \"contemplated\", \"contemplated\", \"contemplated\", \"contemplated\", \"contemplated\", \"contemplated\", \"contemplated\", \"contemplated\", \"contemplated\", \"content\", \"content\", \"content\", \"content\", \"content\", \"content\", \"context\", \"context\", \"context\", \"context\", \"context requires\", \"context requires\", \"contract\", \"contract\", \"contract\", \"contract\", \"contract\", \"contract\", \"contract\", \"contract\", \"contract\", \"contract\", \"contract\", \"contract\", \"contract\", \"contract\", \"contract tort\", \"contract tort\", \"contract tort\", \"contract tort\", \"contractor\", \"contractor\", \"contractor\", \"contractor\", \"contractor\", \"contractor\", \"contractor\", \"contractor\", \"contractor\", \"contractor\", \"controlling person\", \"converge\", \"copyrightable\", \"copyrightable\", \"copyrightable\", \"copyrights\", \"copyrights\", \"copyrights\", \"copyrights\", \"counsel\", \"counsel\", \"counsel\", \"counsel\", \"counsel\", \"counsel\", \"counsel\", \"counsel\", \"counsel\", \"counsel\", \"covenant undertaken\", \"create derivative\", \"create derivative\", \"credit\", \"credit\", \"credit\", \"credit\", \"credit\", \"credit\", \"credit\", \"credit\", \"credit\", \"credit\", \"credit\", \"crxx\", \"currency agent\", \"custodian\", \"custodian\", \"custodian\", \"custodian\", \"custodian\", \"custodian\", \"custodian\", \"custodian\", \"custodian\", \"customer\", \"customer\", \"customer\", \"customer\", \"customer\", \"customer\", \"customer\", \"customer\", \"customer\", \"customer\", \"customer\", \"daa\", \"damages\", \"damages\", \"damages\", \"damages\", \"damages\", \"damages\", \"damages\", \"damages\", \"damages\", \"damages arising\", \"damages arising\", \"damages arising\", \"damages penalties\", \"damages penalties\", \"data\", \"data\", \"data\", \"data\", \"data\", \"data\", \"data\", \"data\", \"data\", \"date\", \"date\", \"date\", \"date\", \"date\", \"date\", \"date\", \"date\", \"date\", \"date\", \"date\", \"date\", \"date\", \"date\", \"date invoice\", \"date invoice\", \"date payment\", \"date payment\", \"date payment\", \"date payment\", \"date payment\", \"day\", \"day\", \"day\", \"day\", \"day\", \"day\", \"day\", \"day\", \"day\", \"day\", \"day\", \"day\", \"days\", \"days\", \"days\", \"days\", \"days\", \"days\", \"days\", \"days\", \"days\", \"days\", \"days\", \"days\", \"days\", \"days\", \"days date\", \"days date\", \"days date\", \"days date\", \"days date\", \"days date\", \"days invoice\", \"declaration\", \"declaration\", \"declaration\", \"declaration\", \"declaration\", \"declaration trust\", \"decompile\", \"decompile disassemble\", \"decrees\", \"decrees\", \"defect\", \"defect\", \"defect\", \"defect\", \"defect\", \"defective\", \"defective\", \"defective\", \"defective\", \"defective\", \"defective\", \"defective\", \"defects\", \"defects\", \"defects\", \"defects\", \"defects\", \"defects\", \"defects design\", \"defects material\", \"defects materials\", \"defects materials\", \"defects workmanship\", \"defined\", \"defined\", \"defined\", \"defined\", \"defined\", \"defined\", \"defined\", \"defined\", \"defined\", \"defined\", \"defined\", \"defined\", \"defined\", \"defined\", \"defined shall\", \"defined shall\", \"defined shall\", \"defined terms\", \"definitions\", \"delaware trustee\", \"delaware trustee\", \"deliver\", \"deliver\", \"deliver\", \"deliver\", \"deliver\", \"deliver\", \"deliver\", \"deliver\", \"deliver\", \"deliver\", \"deliver\", \"deliver\", \"deliver\", \"deliver purchaser\", \"delivered\", \"delivered\", \"delivered\", \"delivered\", \"delivered\", \"delivered\", \"delivered\", \"delivered\", \"delivered\", \"delivered\", \"delivered\", \"delivered\", \"delivered\", \"delivered\", \"delivery\", \"delivery\", \"delivery\", \"delivery\", \"delivery\", \"delivery\", \"delivery\", \"delivery\", \"delivery\", \"delivery\", \"delivery\", \"delivery\", \"delivery\", \"delivery\", \"department officer\", \"depositary\", \"depositary\", \"depositary custodian\", \"derivative\", \"derivative\", \"derivative\", \"derivative\", \"derivative works\", \"derivative works\", \"developed\", \"developed\", \"developed\", \"developed\", \"developed\", \"developed\", \"developed\", \"developed\", \"developed\", \"developed created\", \"development pack\", \"diamond\", \"diasys\", \"dir\", \"director\", \"director\", \"director\", \"director\", \"director\", \"director\", \"director officer\", \"director officer\", \"director officer\", \"directv\", \"disassemble\", \"disbursements\", \"disbursements\", \"disbursements\", \"disclose\", \"disclose\", \"disclose\", \"disclose\", \"disclose\", \"disclose\", \"disclose\", \"disclosed\", \"disclosed\", \"disclosed\", \"disclosed\", \"disclosed\", \"disclosed\", \"disclosed\", \"disclosure\", \"disclosure\", \"disclosure\", \"disclosure\", \"disclosure\", \"disclosure\", \"disclosure\", \"disclosure\", \"disclosure\", \"discoveries\", \"discoveries\", \"discoveries\", \"discoveries improvements\", \"disputed\", \"disregard\", \"disregard\", \"disregard duties\", \"disregard obligations\", \"distribution\", \"distribution\", \"distribution\", \"distribution\", \"distribution\", \"distribution\", \"distribution\", \"distribution\", \"distribution\", \"distribution\", \"distribution\", \"distribution\", \"distribution\", \"distribution\", \"distribution date\", \"distribution date\", \"distribution date\", \"distribution date\", \"distribution date\", \"distributor\", \"distributor\", \"distributor\", \"distributor\", \"distributor\", \"distributor\", \"distributor\", \"distributor\", \"distributor\", \"distributor\", \"document delivered\", \"document delivered\", \"document delivered\", \"documentation\", \"documentation\", \"documentation\", \"documentation\", \"documentation\", \"documentation\", \"documentation\", \"documentation\", \"documentation\", \"documentation\", \"documentation\", \"documents\", \"documents\", \"documents\", \"documents\", \"documents\", \"documents\", \"documents\", \"documents\", \"documents\", \"documents\", \"documents\", \"documents\", \"documents\", \"documents\", \"dollars\", \"dollars\", \"dollars\", \"dollars\", \"dollars\", \"domain names\", \"dovatron\", \"dst\", \"dst\", \"duska\", \"duties\", \"duties\", \"duties\", \"duties\", \"duties\", \"duties\", \"duties\", \"duties\", \"duties\", \"duties\", \"duties\", \"duties\", \"duties agreement\", \"duties agreement\", \"duties agreement\", \"duties agreement\", \"duties reckless\", \"ea\", \"eas\", \"ec\", \"effect\", \"effect\", \"effect\", \"effect\", \"effect\", \"effect\", \"effect\", \"effect\", \"effect\", \"effect\", \"effect\", \"effect\", \"employee\", \"employee\", \"employee\", \"employee\", \"employee\", \"employee\", \"employee\", \"employee\", \"employee\", \"employee\", \"employee\", \"employee company\", \"employee invention\", \"employee invention\", \"employee s\", \"employee s\", \"employee s\", \"employee shall\", \"employee shall\", \"employees\", \"employees\", \"employees\", \"employees\", \"employees\", \"employees\", \"employees\", \"employees\", \"employees\", \"employees\", \"employees\", \"employees\", \"employees\", \"employer\", \"employer\", \"employer\", \"employer\", \"employer\", \"employer\", \"employer\", \"employment\", \"employment\", \"employment\", \"employment\", \"employment\", \"employment\", \"employment\", \"employment\", \"employment\", \"employment\", \"employment\", \"employment company\", \"employment company\", \"employment company\", \"end calendar\", \"enforcement rights\", \"engineer\", \"engineer\", \"engineer\", \"enhancements\", \"enhancements\", \"enhancements\", \"enhancements\", \"enhancements\", \"enter\", \"enter\", \"enter\", \"enter\", \"enter\", \"enter\", \"enter\", \"enter\", \"enter\", \"enter\", \"enter\", \"enter agreement\", \"enter agreement\", \"enter agreement\", \"enter agreement\", \"enter agreement\", \"er\", \"error judgment\", \"error judgment\", \"esc\", \"event\", \"event\", \"event\", \"event\", \"event\", \"event\", \"event\", \"event\", \"event\", \"event\", \"event\", \"event\", \"event\", \"event\", \"event\", \"event registrable\", \"event shall\", \"event shall\", \"event shall\", \"event shall\", \"event shall\", \"event shall\", \"event shall\", \"event shall\", \"event shall\", \"exchange\", \"exchange\", \"exchange\", \"exchange\", \"exchange\", \"exchange\", \"exchange\", \"exchange\", \"exchange\", \"exchange\", \"exchange\", \"exchange\", \"exchange\", \"exchange notes\", \"exchange offer\", \"exclusive property\", \"exclusive property\", \"exclusive property\", \"exclusive property\", \"exclusive property\", \"execute employee\", \"executed\", \"executed\", \"executed\", \"executed\", \"executed\", \"executed\", \"executed\", \"executed\", \"executed\", \"executed\", \"executed\", \"executed\", \"executed\", \"executed\", \"executed delivered\", \"executed delivered\", \"executed delivered\", \"executed delivered\", \"executed delivered\", \"executive\", \"executive\", \"executive\", \"executive\", \"executive\", \"executive\", \"executive\", \"executive\", \"executive\", \"executive acknowledges\", \"executive agrees\", \"executive agrees\", \"executive agrees\", \"executive s\", \"executive s\", \"executive s\", \"executive shall\", \"executive shall\", \"executive shall\", \"executive shall\", \"exemplary\", \"exercise\", \"exercise\", \"exercise\", \"exercise\", \"exercise\", \"exercise\", \"exercise\", \"exercise\", \"exercise renewal\", \"expected\", \"expected\", \"expected\", \"expected\", \"expected\", \"expected\", \"expected\", \"expected\", \"expected\", \"expected material\", \"expected material\", \"expenses\", \"expenses\", \"expenses\", \"expenses\", \"expenses\", \"expenses\", \"expenses\", \"expenses\", \"expenses\", \"expenses\", \"expenses\", \"expenses\", \"expenses\", \"expenses disbursements\", \"expiration\", \"expiration\", \"expiration\", \"expiration\", \"expiration\", \"expiration\", \"expiration\", \"expiration\", \"expiration\", \"expiration\", \"explanation supporting\", \"export\", \"export\", \"export\", \"export\", \"export\", \"export\", \"export\", \"export\", \"export administration\", \"express\", \"express\", \"express\", \"express\", \"express\", \"express\", \"express\", \"express\", \"express\", \"express\", \"express\", \"express\", \"express implied\", \"express implied\", \"express implied\", \"express implied\", \"express implied\", \"express implied\", \"express implied\", \"express implied\", \"express implied\", \"expressly\", \"expressly\", \"expressly\", \"expressly\", \"expressly\", \"expressly\", \"expressly\", \"expressly\", \"expressly\", \"expressly\", \"expressly\", \"expressly\", \"expressly granted\", \"expressly understood\", \"expressly understood\", \"expressly understood\", \"expressly understood\", \"extend\", \"extend\", \"extend\", \"extend\", \"extend\", \"extend\", \"extend\", \"extend\", \"extend\", \"extend\", \"extend\", \"extend term\", \"extend term\", \"extended term\", \"extent\", \"extent\", \"extent\", \"extent\", \"extent\", \"extent\", \"extent\", \"extent\", \"extent\", \"extent\", \"extent\", \"extent\", \"extent\", \"extent\", \"extent\", \"extent failure\", \"extent information\", \"fact required\", \"failure\", \"failure\", \"failure\", \"failure\", \"failure\", \"failure\", \"failure\", \"failure\", \"failure\", \"failure\", \"failure\", \"failure\", \"failure\", \"failure\", \"failure obligation\", \"faith\", \"faith\", \"faith\", \"faith\", \"faith\", \"faith\", \"faith\", \"faith\", \"faith\", \"faith\", \"faith\", \"faith\", \"faith gross\", \"faith gross\", \"faith gross\", \"federal\", \"federal\", \"federal\", \"federal\", \"federal\", \"federal\", \"federal\", \"federal\", \"federal\", \"federal\", \"federal\", \"federal\", \"federal\", \"federal state\", \"federal state\", \"federal state\", \"federal state\", \"federal state\", \"federal state\", \"federal state\", \"fees\", \"fees\", \"fees\", \"fees\", \"fees\", \"fees\", \"fees\", \"fees\", \"fees\", \"fees\", \"fees\", \"fees\", \"fees\", \"fiduciary duty\", \"filed separately\", \"filed separately\", \"filed separately\", \"flextronics\", \"flextronics\", \"following\", \"following\", \"following\", \"following\", \"following\", \"following\", \"following\", \"following\", \"following\", \"following\", \"following\", \"following\", \"following\", \"following\", \"following definitions\", \"following meanings\", \"following meanings\", \"following terms\", \"following terms\", \"forth\", \"forth\", \"forth\", \"forth\", \"forth\", \"forth\", \"forth\", \"forth\", \"forth\", \"forth\", \"forth\", \"forth\", \"forth\", \"forth\", \"forth\", \"franchises\", \"franchises\", \"freddie\", \"freddie mac\", \"free\", \"free\", \"free\", \"free\", \"free\", \"free\", \"free\", \"free\", \"free\", \"free\", \"free\", \"free\", \"free\", \"free defects\", \"free defects\", \"friedrich\", \"fund\", \"fund\", \"fund\", \"fund\", \"fund\", \"fund\", \"fund\", \"fund\", \"google\", \"google\", \"google\", \"google\", \"google\", \"governmental\", \"governmental\", \"governmental\", \"governmental\", \"governmental\", \"governmental\", \"governmental\", \"governmental\", \"governmental\", \"governmental authorizations\", \"gross\", \"gross\", \"gross\", \"gross\", \"gross\", \"gross\", \"gross\", \"gross\", \"gross\", \"gross\", \"gross negligence\", \"gross negligence\", \"gross negligence\", \"gross negligence\", \"gross negligence\", \"gross negligence\", \"gross negligence\", \"group adcs\", \"group subsidiary\", \"gtm\", \"harmless\", \"harmless\", \"harmless\", \"harmless\", \"harmless\", \"harmless\", \"harmless\", \"head\", \"hereto\", \"hereto\", \"hereto\", \"hereto\", \"hereto\", \"hereto\", \"hereto\", \"hereto\", \"hereto\", \"hereto\", \"hereto\", \"hereto\", \"hereto\", \"hereto\", \"hereto\", \"hereunder\", \"hereunder\", \"hereunder\", \"hereunder\", \"hereunder\", \"hereunder\", \"hereunder\", \"hereunder\", \"hereunder\", \"hereunder\", \"hereunder\", \"hereunder\", \"hereunder\", \"hereunder\", \"hire\", \"hire\", \"hire\", \"hire\", \"hmi\", \"hold\", \"hold\", \"hold\", \"hold\", \"hold\", \"hold\", \"hold\", \"hold\", \"hold\", \"hold\", \"hold\", \"hold\", \"hold\", \"hold harmless\", \"hold harmless\", \"hold harmless\", \"hold harmless\", \"hold harmless\", \"holder\", \"holder\", \"holder\", \"holder\", \"holder\", \"holder\", \"holder\", \"holder\", \"holders exchange\", \"holding co\", \"ibg\", \"ii\", \"ii\", \"ii\", \"ii\", \"ii\", \"ii\", \"ii\", \"ii\", \"ii\", \"ii\", \"ii\", \"ii\", \"ii\", \"ii\", \"ii\", \"ii breach\", \"implied\", \"implied\", \"implied\", \"implied\", \"implied\", \"implied\", \"implied\", \"implied\", \"implied\", \"impresse\", \"incidental\", \"incidental\", \"incidental\", \"incidental\", \"incidental\", \"incidental consequential\", \"incidental indirect\", \"incidental punitive\", \"incidental special\", \"included registration\", \"included registration\", \"included registration\", \"including\", \"including\", \"including\", \"including\", \"including\", \"including\", \"including\", \"including\", \"including\", \"including\", \"including\", \"including\", \"including\", \"including\", \"including\", \"including negligence\", \"incurred asserted\", \"incurred indemnitee\", \"incurred indemnitee\", \"indebtedness expenses\", \"indemnified\", \"indemnified\", \"indemnified\", \"indemnified\", \"indemnified\", \"indemnified\", \"indemnified\", \"indemnify\", \"indemnify\", \"indemnify\", \"indemnify\", \"indemnify\", \"indemnify\", \"indemnify\", \"indemnify executive\", \"indemnify hold\", \"indemnify hold\", \"indemnify hold\", \"indemnify hold\", \"indemnify hold\", \"indemnify hold\", \"indemnify hold\", \"indemnitee\", \"indemnitee\", \"indenture\", \"indenture\", \"indenture\", \"indenture\", \"indenture\", \"indenture\", \"indenture\", \"indenture\", \"indirect\", \"indirect\", \"indirect\", \"indirect\", \"indirect\", \"indirect\", \"indirect incidental\", \"indirect special\", \"individual capacity\", \"individual capacity\", \"individually aggregate\", \"individually personally\", \"individually personally\", \"informatica\", \"information\", \"information\", \"information\", \"information\", \"information\", \"information\", \"information\", \"information\", \"information\", \"information\", \"information\", \"information\", \"information\", \"information confidential\", \"information confidential\", \"information confidential\", \"information publicly\", \"information received\", \"informed confidential\", \"infringe\", \"infringe\", \"infringe\", \"infringe\", \"infringe\", \"infringed\", \"infringement\", \"infringement\", \"infringement\", \"infringement\", \"infringement\", \"infringement\", \"infringement\", \"infringement misappropriation\", \"infringes\", \"infringes\", \"infringes conflicts\", \"infringing\", \"initial\", \"initial\", \"initial\", \"initial\", \"initial\", \"initial\", \"initial\", \"initial\", \"initial\", \"initial\", \"initial\", \"initial\", \"initial\", \"initial term\", \"initial term\", \"intellectual\", \"intellectual\", \"intellectual\", \"intellectual\", \"intellectual\", \"intellectual\", \"intellectual property\", \"intellectual property\", \"intellectual property\", \"intellectual property\", \"intellectual property\", \"intellectual property\", \"intended personal\", \"interest\", \"interest\", \"interest\", \"interest\", \"interest\", \"interest\", \"interest\", \"interest\", \"interest\", \"interest\", \"interest\", \"interest\", \"interest\", \"interest\", \"interest rate\", \"interest rate\", \"interplay\", \"invention\", \"invention\", \"invention\", \"invention\", \"invention\", \"invention assignment\", \"invention assignment\", \"invention confidentiality\", \"inventions\", \"inventions\", \"inventions\", \"inventions\", \"inventions\", \"inventions\", \"inventions\", \"inventions discoveries\", \"inventions discoveries\", \"inventions processes\", \"investment\", \"investment\", \"investment\", \"investment\", \"investment\", \"investment\", \"investment\", \"invoice\", \"invoice\", \"invoice date\", \"invoiced\", \"invoiced\", \"invoices\", \"invoices\", \"invoices\", \"invoices shall\", \"ips\", \"issuing\", \"issuing\", \"issuing\", \"issuing\", \"issuing\", \"issuing\", \"issuing\", \"issuing bank\", \"janus\", \"janus\", \"japan local\", \"jhu apl\", \"journal\", \"judgment mistake\", \"judgments suits\", \"jurisdiction related\", \"jutvision\", \"knowledge\", \"knowledge\", \"knowledge\", \"knowledge\", \"knowledge\", \"knowledge\", \"knowledge\", \"knowledge\", \"knowledge\", \"knowledge\", \"landlord\", \"landlord s\", \"landlord shall\", \"landlord tenant\", \"late\", \"late\", \"late\", \"late\", \"late\", \"late payments\", \"law\", \"law\", \"law\", \"law\", \"law\", \"law\", \"law\", \"law\", \"law\", \"law\", \"law\", \"law\", \"law\", \"law\", \"law\", \"law loss\", \"law loss\", \"law whichever\", \"laws\", \"laws\", \"laws\", \"laws\", \"laws\", \"laws\", \"laws\", \"laws\", \"laws\", \"laws\", \"laws\", \"laws\", \"laws\", \"laws\", \"laws rules\", \"laws rules\", \"laws rules\", \"lease\", \"lease\", \"lease\", \"lease\", \"lease\", \"lease\", \"lease\", \"lease additional\", \"lease shall\", \"lease tenant\", \"lease term\", \"legal\", \"legal\", \"legal\", \"legal\", \"legal\", \"legal\", \"legal\", \"legal\", \"legal\", \"legal\", \"legal\", \"legal\", \"legal\", \"lender\", \"lender\", \"lender s\", \"lender shall\", \"lenders\", \"lessee\", \"lessee\", \"lessee\", \"lessee\", \"level support\", \"level support\", \"liabilities\", \"liabilities\", \"liabilities\", \"liabilities\", \"liabilities\", \"liabilities\", \"liabilities\", \"liabilities\", \"liabilities\", \"liabilities\", \"liability\", \"liability\", \"liability\", \"liability\", \"liability\", \"liability\", \"liability\", \"liability\", \"liability\", \"liability\", \"liability\", \"liability\", \"liability\", \"liable\", \"liable\", \"liable\", \"liable\", \"liable\", \"liable\", \"liable\", \"liable\", \"liable\", \"liable\", \"liable\", \"liable error\", \"liable party\", \"liable special\", \"license\", \"license\", \"license\", \"license\", \"license\", \"license\", \"license\", \"license\", \"license\", \"license\", \"license\", \"license\", \"license\", \"licensed\", \"licensed\", \"licensed\", \"licensed\", \"licensed\", \"licensed\", \"licensed\", \"licensed\", \"licensed\", \"licensed\", \"licensed\", \"licensed game\", \"licensee\", \"licensee\", \"licensee\", \"licensee\", \"licensee\", \"licensee\", \"licensee\", \"licensee\", \"licensee\", \"licenses\", \"licenses\", \"licenses\", \"licenses\", \"licenses\", \"licenses\", \"licenses\", \"licenses\", \"licenses\", \"licenses\", \"licenses\", \"licenses permits\", \"licensors\", \"licensors\", \"licensors\", \"licensors\", \"licensors\", \"licensors\", \"life company\", \"limited partner\", \"literature materials\", \"live earth\", \"loan\", \"loan\", \"loan\", \"loan\", \"loan\", \"loan\", \"loan\", \"loan document\", \"loan document\", \"loan documents\", \"loan documents\", \"loan mortgage\", \"loans\", \"loans\", \"loans\", \"loans\", \"loans\", \"loans\", \"local currency\", \"local currency\", \"local foreign\", \"lockwell\", \"loss\", \"loss\", \"loss\", \"loss\", \"loss\", \"loss\", \"loss\", \"loss\", \"loss\", \"loss\", \"loss\", \"loss\", \"loss\", \"loss\", \"loss profits\", \"loss resulting\", \"loss resulting\", \"losses\", \"losses\", \"losses\", \"losses\", \"losses\", \"losses\", \"losses\", \"losses\", \"losses\", \"losses\", \"losses\", \"lost\", \"lost\", \"lost profits\", \"lotus\", \"lp\", \"lp\", \"lp\", \"lp\", \"lp\", \"lucent\", \"lucent\", \"mac\", \"macrogenics\", \"maintain confidentiality\", \"maintenance support\", \"manager\", \"manager\", \"manager\", \"manager\", \"manager\", \"manager\", \"manager\", \"manager\", \"manager\", \"manager\", \"manager\", \"manager\", \"manager officer\", \"manufacturer\", \"manufacturer\", \"manufacturer\", \"manufacturer\", \"manufacturer\", \"manufacturer\", \"manufacturer shall\", \"market rental\", \"marks\", \"marks\", \"marks\", \"marks\", \"marks\", \"marks\", \"marks\", \"marks\", \"marks\", \"marks\", \"marks trade\", \"marks trade\", \"master servicer\", \"master servicer\", \"master servicer\", \"material\", \"material\", \"material\", \"material\", \"material\", \"material\", \"material\", \"material\", \"material\", \"material\", \"material\", \"material\", \"material adverse\", \"material adverse\", \"material fact\", \"material fact\", \"material respects\", \"material respects\", \"material respects\", \"material respects\", \"material respects\", \"material respects\", \"material workmanship\", \"materials\", \"materials\", \"materials\", \"materials\", \"materials\", \"materials\", \"materials\", \"materials\", \"materials\", \"materials\", \"materials\", \"materials\", \"materials\", \"materials\", \"materials workmanship\", \"materials workmanship\", \"maturity\", \"maturity\", \"maturity\", \"maturity\", \"maturity\", \"maturity\", \"maturity\", \"maturity date\", \"maturity date\", \"maturity date\", \"maturity date\", \"maximum rate\", \"mbusa\", \"meaning\", \"meaning\", \"meaning\", \"meaning\", \"meaning\", \"meaning\", \"meaning\", \"meaning section\", \"meanings\", \"meanings ascribed\", \"meanings assigned\", \"meanings given\", \"meanings set\", \"meanings specified\", \"medecision\", \"member\", \"member\", \"member\", \"member\", \"member\", \"member\", \"member\", \"member\", \"member\", \"member\", \"member\", \"member manager\", \"memsic\", \"merger consideration\", \"metlife\", \"micro\", \"microstrategy\", \"microstrategy software\", \"misappropriated\", \"misappropriation\", \"misappropriation\", \"misfeasance\", \"misfeasance\", \"misfeasance bad\", \"misrepresentation breach\", \"mistake\", \"mistake\", \"mistake\", \"mistake law\", \"mobilemail\", \"mobilemail\", \"modifications\", \"modifications\", \"modifications\", \"modifications\", \"modifications\", \"modifications\", \"modifications\", \"modifications\", \"modifications\", \"modifications\", \"month\", \"month\", \"month\", \"month\", \"month\", \"month\", \"mortgage\", \"mortgage interest\", \"mortgage loan\", \"mortgage loans\", \"mortgage note\", \"mortgage servicing\", \"mortgaged\", \"mortgaged property\", \"msv\", \"names\", \"names\", \"names\", \"names\", \"names\", \"names\", \"names\", \"names\", \"names copyrights\", \"nature information\", \"negligence\", \"negligence\", \"negligence\", \"negligence\", \"negligence\", \"negligence\", \"negligence\", \"negligence\", \"negligence\", \"negligence performance\", \"negligence performance\", \"negligence reckless\", \"negligence strict\", \"net\", \"net\", \"net\", \"net\", \"net\", \"net\", \"net\", \"net\", \"net\", \"net\", \"net days\", \"net days\", \"net thirty\", \"newco lp\", \"non\", \"non\", \"non\", \"non\", \"non\", \"non\", \"non\", \"non\", \"non\", \"non\", \"non\", \"non\", \"non\", \"non\", \"note\", \"note\", \"note\", \"note\", \"note\", \"note\", \"note\", \"note\", \"note\", \"note\", \"notice\", \"notice\", \"notice\", \"notice\", \"notice\", \"notice\", \"notice\", \"notice\", \"notice\", \"notice\", \"notice\", \"notice\", \"notice\", \"notice\", \"notice landlord\", \"obligated issue\", \"obligation representation\", \"obligation representation\", \"obligations\", \"obligations\", \"obligations\", \"obligations\", \"obligations\", \"obligations\", \"obligations\", \"obligations\", \"obligations\", \"obligations\", \"obligations\", \"obligations\", \"obligations\", \"obligations\", \"obligations\", \"obligations duties\", \"obligations duties\", \"obligations duties\", \"obligations losses\", \"offer\", \"offer\", \"offer\", \"offer\", \"offer\", \"offer\", \"offer\", \"offer\", \"offer\", \"offer\", \"offer registration\", \"officer\", \"officer\", \"officer\", \"officer\", \"officer\", \"officer\", \"officer\", \"officer\", \"officer\", \"officer\", \"olympic\", \"om\", \"omission alleged\", \"omission alleged\", \"omitted filed\", \"omitted filed\", \"omitted filed\", \"opposite\", \"option\", \"option\", \"option\", \"option\", \"option\", \"option\", \"option\", \"option\", \"option\", \"option extend\", \"option renew\", \"option shall\", \"order\", \"order\", \"order\", \"order\", \"order\", \"order\", \"order\", \"order\", \"order\", \"order\", \"order\", \"order\", \"original indenture\", \"owner\", \"owner\", \"owner\", \"owner\", \"owner\", \"owner\", \"owner\", \"owner\", \"owner\", \"owner\", \"owner\", \"owner\", \"owner\", \"owner trustee\", \"owner trustee\", \"owner trustee\", \"owner trustee\", \"paid\", \"paid\", \"paid\", \"paid\", \"paid\", \"paid\", \"paid\", \"paid\", \"paid\", \"paid\", \"paid\", \"paid\", \"paid\", \"paid\", \"paid\", \"participant\", \"participant\", \"participant\", \"participant\", \"participant\", \"participant\", \"participant\", \"parties\", \"parties\", \"parties\", \"parties\", \"parties\", \"parties\", \"parties\", \"parties\", \"parties\", \"parties\", \"parties\", \"parties\", \"parties\", \"parties\", \"parties\", \"party\", \"party\", \"party\", \"party\", \"party\", \"party\", \"party\", \"party\", \"party\", \"party\", \"party\", \"party\", \"party\", \"party advised\", \"party liable\", \"party liable\", \"party represents\", \"party represents\", \"party represents\", \"party s\", \"party s\", \"party s\", \"party s\", \"party s\", \"party s\", \"party s\", \"party s\", \"party shall\", \"party shall\", \"party shall\", \"party shall\", \"party shall\", \"party shall\", \"party shall\", \"party shall\", \"party shall\", \"patent\", \"patent\", \"patent\", \"patent\", \"patent\", \"patent\", \"patent\", \"patent\", \"patent\", \"patent applications\", \"patent applications\", \"patentable\", \"patentable\", \"patentable\", \"patentable\", \"patentable\", \"patentable\", \"patents\", \"patents\", \"patents\", \"patents\", \"patents\", \"patents\", \"patents\", \"patents patent\", \"patents patent\", \"pay\", \"pay\", \"pay\", \"pay\", \"pay\", \"pay\", \"pay\", \"pay\", \"pay\", \"pay\", \"pay\", \"pay\", \"pay\", \"pay\", \"payable\", \"payable\", \"payable\", \"payable\", \"payable\", \"payable\", \"payable\", \"payable\", \"payable\", \"payable\", \"payable\", \"payable thirty\", \"payment\", \"payment\", \"payment\", \"payment\", \"payment\", \"payment\", \"payment\", \"payment\", \"payment\", \"payment\", \"payment\", \"payment\", \"payment\", \"payment\", \"payment purchase\", \"payment purchase\", \"payment shall\", \"payment shall\", \"payment shall\", \"payment shall\", \"payment shall\", \"payment terms\", \"payment terms\", \"payment terms\", \"payments\", \"payments\", \"payments\", \"payments\", \"payments\", \"payments\", \"payments\", \"payments\", \"payments\", \"payments\", \"payments\", \"payments agreement\", \"payments shall\", \"payments shall\", \"penalties actions\", \"percent month\", \"perform\", \"perform\", \"perform\", \"perform\", \"perform\", \"perform\", \"perform\", \"perform\", \"perform\", \"perform\", \"perform\", \"perform\", \"perform\", \"perform\", \"perform\", \"performance\", \"performance\", \"performance\", \"performance\", \"performance\", \"performance\", \"performance\", \"performance\", \"performance\", \"performance\", \"performance\", \"performance\", \"performance\", \"performance\", \"performance\", \"performance duties\", \"performance duties\", \"performance duties\", \"performance duties\", \"performance duties\", \"performance duties\", \"performed\", \"performed\", \"performed\", \"performed\", \"performed\", \"performed\", \"performed\", \"performed\", \"performed\", \"performed\", \"performed\", \"performed\", \"period\", \"period\", \"period\", \"period\", \"period\", \"period\", \"period\", \"period\", \"period\", \"period\", \"period\", \"period\", \"period\", \"period\", \"permits\", \"permits\", \"permits\", \"permits\", \"permits\", \"permits\", \"permits\", \"permits\", \"permits authorizations\", \"permits licenses\", \"permits licenses\", \"person\", \"person\", \"person\", \"person\", \"person\", \"person\", \"person\", \"person\", \"person\", \"person\", \"person\", \"person\", \"person\", \"person\", \"person controls\", \"personal representations\", \"personally\", \"personally\", \"personally\", \"personally\", \"personally\", \"personally\", \"personally\", \"personally solely\", \"pgx\", \"phoenix\", \"phoenix\", \"phoenix\", \"phoenix\", \"phoenix\", \"planetrx\", \"platforms\", \"plural\", \"plural forms\", \"possibility\", \"possibility\", \"possibility\", \"possibility damages\", \"power\", \"power\", \"power\", \"power\", \"power\", \"power\", \"power\", \"power\", \"power\", \"power\", \"power\", \"power\", \"power\", \"power\", \"powers authority\", \"premises\", \"premises\", \"premises\", \"premises\", \"premises\", \"premises\", \"price\", \"price\", \"price\", \"price\", \"price\", \"price\", \"price\", \"price\", \"price\", \"price therefor\", \"prime rate\", \"principal\", \"principal\", \"principal\", \"principal\", \"principal\", \"principal\", \"principal\", \"principal\", \"principal\", \"principal\", \"principal\", \"principal\", \"principal balance\", \"principal balance\", \"prior\", \"prior\", \"prior\", \"prior\", \"prior\", \"prior\", \"prior\", \"prior\", \"prior\", \"prior\", \"prior\", \"prior\", \"prior\", \"prior\", \"prior\", \"prior disclosure\", \"prior expiration\", \"prior expiration\", \"prior expiration\", \"priveco\", \"proceeding civil\", \"product\", \"product\", \"product\", \"product\", \"product\", \"product\", \"product\", \"product\", \"product\", \"product\", \"product\", \"products\", \"products\", \"products\", \"products\", \"products\", \"products\", \"products\", \"products\", \"products\", \"products\", \"products\", \"products\", \"products\", \"products\", \"products\", \"profits\", \"profits\", \"profits\", \"property\", \"property\", \"property\", \"property\", \"property\", \"property\", \"property\", \"property\", \"property\", \"property\", \"property\", \"property\", \"property\", \"property\", \"property\", \"property rights\", \"property rights\", \"property rights\", \"property rights\", \"property rights\", \"property rights\", \"proprietary\", \"proprietary\", \"proprietary\", \"proprietary\", \"proprietary\", \"proprietary\", \"proprietary\", \"proprietary\", \"proprietary materials\", \"proprietary materials\", \"proprietary materials\", \"proprietary materials\", \"proprietary rights\", \"proprietary rights\", \"proprietary rights\", \"proprietary rights\", \"prospective\", \"prospective\", \"prospective\", \"prospective\", \"prospective\", \"prospectus\", \"prospectus\", \"prospectus\", \"prospectus\", \"prospectus\", \"prospectus\", \"provide\", \"provide\", \"provide\", \"provide\", \"provide\", \"provide\", \"provide\", \"provide\", \"provide\", \"provide\", \"provide\", \"provide\", \"provide\", \"provide\", \"provide\", \"provide support\", \"provided\", \"provided\", \"provided\", \"provided\", \"provided\", \"provided\", \"provided\", \"provided\", \"provided\", \"provided\", \"provided\", \"provided\", \"provided\", \"provided\", \"provided\", \"provided context\", \"provided tenant\", \"pubco\", \"public\", \"public\", \"public\", \"public\", \"public\", \"public\", \"public\", \"public\", \"public\", \"public\", \"public\", \"publicly\", \"publicly\", \"publicly\", \"publicly\", \"publicly available\", \"punitive\", \"punitive damages\", \"punitive damages\", \"punitive damages\", \"punitive exemplary\", \"purchase\", \"purchase\", \"purchase\", \"purchase\", \"purchase\", \"purchase\", \"purchase\", \"purchase\", \"purchase\", \"purchase\", \"purchase\", \"purchase\", \"purchase\", \"purchase\", \"purchased purchaser\", \"purchaser\", \"purchaser\", \"purchaser\", \"purchaser\", \"purchaser\", \"purchaser\", \"purchaser\", \"purchaser\", \"purchaser\", \"purchaser\", \"purchaser certificate\", \"purpose\", \"purpose\", \"purpose\", \"purpose\", \"purpose\", \"purpose\", \"purpose\", \"purpose\", \"purpose\", \"purpose\", \"purpose\", \"purpose\", \"purpose binding\", \"purposes\", \"purposes\", \"purposes\", \"purposes\", \"purposes\", \"purposes\", \"purposes\", \"purposes\", \"purposes\", \"purposes\", \"purposes\", \"purposes\", \"purposes\", \"purposes\", \"pursuant\", \"pursuant\", \"pursuant\", \"pursuant\", \"pursuant\", \"pursuant\", \"pursuant\", \"pursuant\", \"pursuant\", \"pursuant\", \"pursuant\", \"pursuant\", \"pursuant\", \"pursuant\", \"pursuant\", \"qiu\", \"quarter\", \"quarter\", \"quarter\", \"quarter\", \"rate\", \"rate\", \"rate\", \"rate\", \"rate\", \"rate\", \"rate\", \"rate\", \"rate mortgage\", \"rate permitted\", \"reason reckless\", \"reasonable explanation\", \"reasonably\", \"reasonably\", \"reasonably\", \"reasonably\", \"reasonably\", \"reasonably\", \"reasonably\", \"reasonably\", \"reasonably\", \"reasonably\", \"reasonably\", \"reasonably\", \"reasonably\", \"reasonably\", \"reasonably expected\", \"reasonably expected\", \"reasonably expected\", \"receipt\", \"receipt\", \"receipt\", \"receipt\", \"receipt\", \"receipt\", \"receipt\", \"receipt\", \"receipt\", \"receipt\", \"receipt\", \"receipt\", \"receipt\", \"receipt\", \"receipt invoice\", \"receipt invoice\", \"receiving\", \"receiving\", \"receiving\", \"receiving\", \"receiving\", \"receiving\", \"receiving\", \"receiving\", \"receiving\", \"receiving party\", \"receiving party\", \"reckless\", \"reckless\", \"reckless disregard\", \"reckless disregard\", \"regent\", \"regent s\", \"registered exchange\", \"registered purchaser\", \"registrable\", \"registrable securities\", \"registration\", \"registration\", \"registration\", \"registration\", \"registration\", \"registration\", \"registration\", \"registration\", \"registration\", \"registration\", \"registration statement\", \"registration statement\", \"registration statement\", \"registration statement\", \"registration statement\", \"registrations applications\", \"regulations\", \"regulations\", \"regulations\", \"regulations\", \"regulations\", \"regulations\", \"regulations\", \"regulations\", \"regulations\", \"regulations\", \"regulations\", \"regulations orders\", \"regulations orders\", \"related\", \"related\", \"related\", \"related\", \"related\", \"related\", \"related\", \"related\", \"related\", \"related\", \"related\", \"related\", \"related\", \"related\", \"related\", \"related mortgage\", \"related mortgaged\", \"relating\", \"relating\", \"relating\", \"relating\", \"relating\", \"relating\", \"relating\", \"relating\", \"relating\", \"relating\", \"relating\", \"relating\", \"relating\", \"relating\", \"relating exchange\", \"renew\", \"renew\", \"renew\", \"renew\", \"renew lease\", \"renewal\", \"renewal\", \"renewal\", \"renewal\", \"renewal option\", \"renewal period\", \"renewal term\", \"rent\", \"rent\", \"rent\", \"rental\", \"rental rate\", \"repair\", \"repair\", \"repair\", \"repair\", \"repair\", \"repair\", \"repair\", \"repair replace\", \"repair replace\", \"repair replace\", \"repair replacement\", \"repair replacement\", \"replace\", \"replace\", \"replace\", \"replace\", \"replace\", \"replace\", \"replace\", \"replace defective\", \"replace defective\", \"replacement\", \"replacement\", \"replacement\", \"replacement\", \"replacement\", \"replacement\", \"replacement\", \"replacement\", \"replacement\", \"replacement\", \"replacement\", \"replacement\", \"replacement\", \"representation\", \"representation\", \"representation\", \"representation\", \"representation\", \"representation\", \"representation\", \"representation\", \"representation\", \"representation warranty\", \"representation warranty\", \"representation warranty\", \"representation warranty\", \"representation warranty\", \"representation warranty\", \"representation warranty\", \"representation warranty\", \"representation warranty\", \"representations\", \"representations\", \"representations\", \"representations\", \"representations\", \"representations\", \"representations\", \"representations\", \"representations\", \"representations\", \"representations\", \"representations\", \"representations reviewer\", \"representations undertakings\", \"representations undertakings\", \"representing\", \"representing\", \"representing\", \"representing\", \"representing\", \"representing\", \"representing\", \"representing number\", \"representing shares\", \"represents\", \"represents\", \"represents\", \"represents\", \"represents\", \"represents\", \"represents\", \"represents\", \"represents\", \"represents\", \"represents\", \"represents\", \"represents\", \"represents warrants\", \"represents warrants\", \"represents warrants\", \"represents warrants\", \"represents warrants\", \"represents warrants\", \"represents warrants\", \"represents warrants\", \"represents warrants\", \"represents warrants\", \"represents warrants\", \"represents warrants\", \"requested respect\", \"requested respect\", \"required\", \"required\", \"required\", \"required\", \"required\", \"required\", \"required\", \"required\", \"required\", \"required\", \"required\", \"required\", \"required\", \"required\", \"required\", \"required stated\", \"required stated\", \"requires\", \"requires\", \"requires\", \"requires\", \"requires\", \"requires\", \"requires\", \"requires\", \"requires\", \"requires\", \"reseller\", \"reseller\", \"reseller\", \"reseller\", \"reseller\", \"reseller\", \"reseller\", \"reseller\", \"reseller\", \"reselling\", \"reselling purchaser\", \"respect\", \"respect\", \"respect\", \"respect\", \"respect\", \"respect\", \"respect\", \"respect\", \"respect\", \"respect\", \"respect\", \"respect\", \"respect\", \"respect\", \"respect\", \"respect mortgage\", \"respect proprietary\", \"respect proprietary\", \"respect proprietary\", \"respective\", \"respective\", \"respective\", \"respective\", \"respective\", \"respective\", \"respective\", \"respective\", \"respective\", \"respective\", \"respective\", \"respective\", \"respective\", \"respective\", \"respective meanings\", \"respects\", \"respects\", \"respects\", \"respects\", \"respects\", \"respects\", \"respects\", \"respects\", \"respects\", \"respects\", \"respects applicable\", \"restricted shareholder\", \"retain right\", \"retain right\", \"retain right\", \"reverse\", \"reverse\", \"reverse engineer\", \"reverse engineer\", \"reviewer\", \"rheogenx\", \"right\", \"right\", \"right\", \"right\", \"right\", \"right\", \"right\", \"right\", \"right\", \"right\", \"right\", \"right\", \"right\", \"right\", \"right\", \"right title\", \"right title\", \"right title\", \"right title\", \"right title\", \"right title\", \"rights\", \"rights\", \"rights\", \"rights\", \"rights\", \"rights\", \"rights\", \"rights\", \"rights\", \"rights\", \"rights\", \"rights\", \"rights\", \"rights expressly\", \"rights expressly\", \"rights expressly\", \"rights expressly\", \"rights listed\", \"rights owned\", \"rights owned\", \"rights person\", \"rights person\", \"rights software\", \"rights software\", \"roka\", \"roka\", \"rules\", \"rules\", \"rules\", \"rules\", \"rules\", \"rules\", \"rules\", \"rules\", \"rules\", \"rules regulations\", \"rules regulations\", \"rules regulations\", \"rules regulations\", \"rules regulations\", \"s\", \"s\", \"s\", \"s\", \"s\", \"s\", \"s\", \"s\", \"s\", \"s\", \"s\", \"s\", \"s\", \"s\", \"s\", \"s dollars\", \"s dollars\", \"s employment\", \"s employment\", \"s employment\", \"s employment\", \"s invoice\", \"s willful\", \"s willful\", \"s willful\", \"s willful\", \"sales literature\", \"schedule\", \"schedule\", \"schedule\", \"schedule\", \"schedule\", \"schedule\", \"schedule\", \"schedule\", \"schedule\", \"schedule\", \"schedule\", \"schedule\", \"schedule\", \"secrets\", \"secrets\", \"secrets\", \"secrets\", \"secrets\", \"secrets\", \"section\", \"section\", \"section\", \"section\", \"section\", \"section\", \"section\", \"section\", \"section\", \"section\", \"section\", \"section\", \"section\", \"section\", \"section\", \"section securities\", \"securities\", \"securities\", \"securities\", \"securities\", \"securities\", \"securities\", \"securities\", \"securities\", \"securities\", \"securities\", \"securities\", \"securities\", \"securities\", \"securities\", \"securities\", \"securities act\", \"securities act\", \"securities act\", \"securities act\", \"securities act\", \"securities act\", \"securities included\", \"seller\", \"seller\", \"seller\", \"seller\", \"seller\", \"seller\", \"seller\", \"seller\", \"seller\", \"seller\", \"seller\", \"seller\", \"seller\", \"separately securities\", \"separately securities\", \"separately securities\", \"service\", \"service\", \"service\", \"service\", \"service\", \"service\", \"service\", \"service\", \"service\", \"service\", \"service\", \"service\", \"service\", \"service\", \"service mark\", \"service mark\", \"service marks\", \"service marks\", \"service mortgage\", \"servicer\", \"servicer\", \"servicer\", \"servicer\", \"servicer\", \"servicer\", \"servicer shall\", \"services\", \"services\", \"services\", \"services\", \"services\", \"services\", \"services\", \"services\", \"services\", \"services\", \"services\", \"services\", \"services\", \"services\", \"services\", \"servicing\", \"servicing\", \"servicing\", \"servicing\", \"servicing\", \"servicing\", \"servicing\", \"servicing practices\", \"set\", \"set\", \"set\", \"set\", \"set\", \"set\", \"set\", \"set\", \"set\", \"set\", \"set\", \"set\", \"set\", \"set\", \"set\", \"set forth\", \"set forth\", \"set forth\", \"set forth\", \"set forth\", \"set forth\", \"set forth\", \"set forth\", \"set forth\", \"set forth\", \"set forth\", \"set forth\", \"set forth\", \"set forth\", \"set forth\", \"shall\", \"shall\", \"shall\", \"shall\", \"shall\", \"shall\", \"shall\", \"shall\", \"shall\", \"shall\", \"shall\", \"shall\", \"shall\", \"shall\", \"shall\", \"shall accrue\", \"shall bill\", \"shall conform\", \"shall following\", \"shall following\", \"shall following\", \"shall following\", \"shall following\", \"shall free\", \"shall free\", \"shall free\", \"shall free\", \"shall free\", \"shall free\", \"shall free\", \"shall free\", \"shall meaning\", \"shall meanings\", \"shall option\", \"shall option\", \"shall option\", \"shall paid\", \"shall paid\", \"shall paid\", \"shall paid\", \"shall paid\", \"shall paid\", \"shall paid\", \"shall party\", \"shall party\", \"shall party\", \"shall party\", \"shall pay\", \"shall pay\", \"shall pay\", \"shall pay\", \"shall pay\", \"shall pay\", \"shall pay\", \"shall pay\", \"shall pay\", \"shall payable\", \"shall payable\", \"shall payable\", \"shall respective\", \"shares\", \"shares\", \"shares\", \"shares\", \"shares\", \"shares\", \"shares\", \"shares beneficial\", \"shares purchased\", \"shares purchased\", \"shelf life\", \"ship product\", \"shipment\", \"shipment\", \"shipment\", \"shipment\", \"shipping\", \"shipping\", \"shipping\", \"shipping\", \"singular\", \"singular\", \"singular\", \"singular plural\", \"software\", \"software\", \"software\", \"software\", \"software\", \"software\", \"software\", \"software\", \"software\", \"software documentation\", \"software documentation\", \"software documentation\", \"special\", \"special\", \"special\", \"special\", \"special\", \"special\", \"special\", \"special\", \"special\", \"special\", \"special\", \"special\", \"special\", \"special consequential\", \"special incidental\", \"special indirect\", \"special punitive\", \"specifications\", \"specifications\", \"specifications\", \"specifications\", \"specifications\", \"specifications\", \"specifications\", \"specifications\", \"specifications\", \"specified\", \"specified\", \"specified\", \"specified\", \"specified\", \"specified\", \"specified\", \"specified\", \"specified\", \"specified\", \"specified\", \"specified\", \"specified\", \"specified\", \"specified\", \"ssa\", \"ssa gt\", \"standby purchaser\", \"starfield\", \"state\", \"state\", \"state\", \"state\", \"state\", \"state\", \"state\", \"state\", \"state\", \"state\", \"state\", \"state\", \"state\", \"state local\", \"state local\", \"state local\", \"state local\", \"state local\", \"state securities\", \"state securities\", \"state securities\", \"state securities\", \"state securities\", \"statement\", \"statement\", \"statement\", \"statement\", \"statement\", \"statement\", \"statement\", \"statement\", \"statement\", \"statement\", \"statement\", \"statement\", \"statement\", \"statement\", \"statement\", \"statement alleged\", \"statement material\", \"statement material\", \"statement relating\", \"states dollars\", \"sterling commerce\", \"stock\", \"stock\", \"stock\", \"stock\", \"stock\", \"stock\", \"stock\", \"stock\", \"stock\", \"stock\", \"stock listed\", \"stockholder\", \"stockholder\", \"stockholder\", \"stockholder\", \"stockholder\", \"stockholder\", \"street journal\", \"strict liability\", \"sub\", \"sub\", \"sub\", \"sub\", \"sub\", \"sub\", \"sub\", \"sub\", \"sub adviser\", \"sub advisor\", \"subject\", \"subject\", \"subject\", \"subject\", \"subject\", \"subject\", \"subject\", \"subject\", \"subject\", \"subject\", \"subject\", \"subject\", \"subject\", \"subject\", \"subject\", \"subpoena\", \"subpoena\", \"subsidiaries\", \"subsidiaries\", \"subsidiaries\", \"subsidiaries\", \"subsidiaries\", \"subsidiaries\", \"subsidiaries\", \"suits costs\", \"supplement thereto\", \"supplemental indenture\", \"support\", \"support\", \"support\", \"support\", \"support\", \"support\", \"support\", \"support\", \"support provided\", \"support services\", \"support shall\", \"support shall\", \"support terms\", \"tamic\", \"technical\", \"technical\", \"technical\", \"technical\", \"technical\", \"technical\", \"technical\", \"technical\", \"technical\", \"technical\", \"technical\", \"technical support\", \"technical support\", \"technical support\", \"technology\", \"technology\", \"technology\", \"technology\", \"technology\", \"technology\", \"technology\", \"technology\", \"technology\", \"technology\", \"technology know\", \"tenant\", \"tenant default\", \"tenant s\", \"tenant shall\", \"term\", \"term\", \"term\", \"term\", \"term\", \"term\", \"term\", \"term\", \"term\", \"term\", \"term\", \"term\", \"term\", \"term\", \"term lease\", \"term renewal\", \"term shall\", \"term shall\", \"term shall\", \"term shall\", \"terms\", \"terms\", \"terms\", \"terms\", \"terms\", \"terms\", \"terms\", \"terms\", \"terms\", \"terms\", \"terms\", \"terms\", \"terms\", \"terms\", \"terms\", \"terms conditions\", \"terms conditions\", \"terms conditions\", \"terms conditions\", \"terms conditions\", \"terms conditions\", \"terms conditions\", \"terms conditions\", \"terms conditions\", \"terms conditions\", \"terms conditions\", \"terms conditions\", \"terms conditions\", \"terms defined\", \"terms meanings\", \"terms net\", \"terms shall\", \"terms shall\", \"terms shall\", \"terms shall\", \"terms shall\", \"theory\", \"theory\", \"theory liability\", \"thirty\", \"thirty\", \"thirty\", \"thirty\", \"thirty\", \"thirty\", \"thirty\", \"thirty days\", \"thirty days\", \"thirty days\", \"thirty days\", \"thirty days\", \"thirty days\", \"thirty days\", \"tiger\", \"tiger fair\", \"time\", \"time\", \"time\", \"time\", \"time\", \"time\", \"time\", \"time\", \"time\", \"time\", \"time\", \"time\", \"time\", \"time\", \"time\", \"time originated\", \"title\", \"title\", \"title\", \"title\", \"title\", \"title\", \"title\", \"title\", \"title\", \"title\", \"title\", \"title\", \"title\", \"title\", \"title interest\", \"title interest\", \"title interest\", \"title interest\", \"title interest\", \"title interest\", \"title interest\", \"tort\", \"tort\", \"tort\", \"tort\", \"tort including\", \"trade\", \"trade\", \"trade\", \"trade\", \"trade\", \"trade\", \"trade\", \"trade\", \"trade\", \"trade\", \"trade names\", \"trade names\", \"trade secrets\", \"trade secrets\", \"trade secrets\", \"trade secrets\", \"trade secrets\", \"trade secrets\", \"trade service\", \"trademark\", \"trademark\", \"trademark\", \"trademark\", \"trademarks\", \"trademarks\", \"trademarks\", \"trademarks\", \"trademarks\", \"trademarks\", \"trademarks service\", \"trademarks service\", \"transfer\", \"transfer\", \"transfer\", \"transfer\", \"transfer\", \"transfer\", \"transfer\", \"transfer\", \"transfer\", \"transfer\", \"transfer\", \"transfer\", \"transfer\", \"transfer\", \"transfer\", \"transfer restricted\", \"trust\", \"trust\", \"trust\", \"trust\", \"trust\", \"trust\", \"trust\", \"trust\", \"trust\", \"trust\", \"trust\", \"trust company\", \"trust company\", \"trust company\", \"trust national\", \"trustee\", \"trustee\", \"trustee\", \"trustee\", \"trustee\", \"trustee\", \"trustee\", \"trustee\", \"trustee\", \"trustee\", \"trustees\", \"trustees\", \"trustees\", \"trustees\", \"trustees\", \"undertakings\", \"undertakings\", \"undertakings\", \"undertakings\", \"undertakings\", \"undertakings agreements\", \"underwriter\", \"underwriter\", \"underwriter\", \"undisputed\", \"undisputed\", \"unpaid interest\", \"unpaid interest\", \"unregistered\", \"unregistered\", \"untrue\", \"untrue\", \"untrue\", \"untrue\", \"untrue\", \"untrue statement\", \"untrue statement\", \"updates\", \"updates\", \"updates\", \"use\", \"use\", \"use\", \"use\", \"use\", \"use\", \"use\", \"use\", \"use\", \"use\", \"use\", \"use\", \"use\", \"use\", \"use designation\", \"use proprietary\", \"use proprietary\", \"users\", \"users\", \"users\", \"users\", \"users\", \"users\", \"users\", \"users\", \"users\", \"users\", \"users\", \"valid enforceable\", \"veraz\", \"vest company\", \"violation\", \"violation\", \"violation\", \"violation\", \"violation\", \"violation\", \"violation\", \"violation\", \"violation\", \"violation\", \"walnut\", \"warranties\", \"warranties\", \"warranties\", \"warranties\", \"warranties\", \"warranties\", \"warranties\", \"warranties\", \"warranties\", \"warranties\", \"warranties\", \"warranties\", \"warranties\", \"warrants\", \"warrants\", \"warrants\", \"warrants\", \"warrants\", \"warrants\", \"warrants\", \"warrants\", \"warrants\", \"warrants\", \"warrants\", \"warrants\", \"warrants product\", \"warrants products\", \"warrants products\", \"warranty\", \"warranty\", \"warranty\", \"warranty\", \"warranty\", \"warranty\", \"warranty\", \"warranty\", \"warranty\", \"warranty\", \"warranty\", \"warranty\", \"warranty\", \"warranty period\", \"warranty period\", \"warranty period\", \"warranty period\", \"warranty period\", \"warranty shall\", \"warranty shall\", \"warranty shall\", \"warranty shall\", \"warranty shall\", \"willful\", \"willful\", \"willful\", \"willful\", \"willful\", \"willful\", \"willful\", \"willful misfeasance\", \"willful misfeasance\", \"wilmington\", \"wilmington trust\", \"words\", \"words\", \"words\", \"words\", \"words\", \"work\", \"work\", \"work\", \"work\", \"work\", \"work\", \"work\", \"work\", \"work\", \"work\", \"work\", \"workmanship\", \"workmanship\", \"workmanship\", \"workmanship material\", \"workmanship shall\", \"works\", \"works\", \"works\", \"works\", \"works\", \"works\", \"works\", \"works hire\", \"works hire\", \"writ\", \"written\", \"written\", \"written\", \"written\", \"written\", \"written\", \"written\", \"written\", \"written\", \"written\", \"written\", \"written\", \"written\", \"written\", \"written\", \"written notice\", \"written notice\", \"written notice\", \"written notice\", \"written notice\", \"written notice\", \"written notice\", \"written notice\", \"written notice\", \"written notice\", \"written notice\", \"written notice\", \"year\", \"year\", \"year\", \"year\", \"year\", \"year\", \"year\", \"year\", \"year\", \"year\", \"year\", \"year\", \"years\", \"years\", \"years\", \"years\", \"years\", \"years\", \"years\", \"years\", \"years\", \"years\", \"years\", \"years\"]}, \"R\": 30, \"lambda.step\": 0.01, \"plot.opts\": {\"xlab\": \"PC1\", \"ylab\": \"PC2\"}, \"topic.order\": [15, 13, 7, 14, 5, 3, 1, 8, 4, 10, 9, 6, 11, 12, 2]};\n",
       "\n",
       "function LDAvis_load_lib(url, callback){\n",
       "  var s = document.createElement('script');\n",
       "  s.src = url;\n",
       "  s.async = true;\n",
       "  s.onreadystatechange = s.onload = callback;\n",
       "  s.onerror = function(){console.warn(\"failed to load library \" + url);};\n",
       "  document.getElementsByTagName(\"head\")[0].appendChild(s);\n",
       "}\n",
       "\n",
       "if(typeof(LDAvis) !== \"undefined\"){\n",
       "   // already loaded: just create the visualization\n",
       "   !function(LDAvis){\n",
       "       new LDAvis(\"#\" + \"ldavis_el730621401813245332003148221425\", ldavis_el730621401813245332003148221425_data);\n",
       "   }(LDAvis);\n",
       "}else if(typeof define === \"function\" && define.amd){\n",
       "   // require.js is available: use it to load d3/LDAvis\n",
       "   require.config({paths: {d3: \"https://cdnjs.cloudflare.com/ajax/libs/d3/3.5.5/d3.min\"}});\n",
       "   require([\"d3\"], function(d3){\n",
       "      window.d3 = d3;\n",
       "      LDAvis_load_lib(\"https://cdn.rawgit.com/bmabey/pyLDAvis/files/ldavis.v1.0.0.js\", function(){\n",
       "        new LDAvis(\"#\" + \"ldavis_el730621401813245332003148221425\", ldavis_el730621401813245332003148221425_data);\n",
       "      });\n",
       "    });\n",
       "}else{\n",
       "    // require.js not available: dynamically load d3 & LDAvis\n",
       "    LDAvis_load_lib(\"https://cdnjs.cloudflare.com/ajax/libs/d3/3.5.5/d3.min.js\", function(){\n",
       "         LDAvis_load_lib(\"https://cdn.rawgit.com/bmabey/pyLDAvis/files/ldavis.v1.0.0.js\", function(){\n",
       "                 new LDAvis(\"#\" + \"ldavis_el730621401813245332003148221425\", ldavis_el730621401813245332003148221425_data);\n",
       "            })\n",
       "         });\n",
       "}\n",
       "</script>"
      ],
      "text/plain": [
       "<IPython.core.display.HTML object>"
      ]
     },
     "execution_count": 25,
     "metadata": {},
     "output_type": "execute_result"
    }
   ],
   "source": [
    "#what distinct topical clusters has LDA found for us?\n",
    "viz"
   ]
  },
  {
   "cell_type": "markdown",
   "metadata": {},
   "source": [
    "### Interpretation"
   ]
  },
  {
   "cell_type": "markdown",
   "metadata": {},
   "source": [
    "Unlike simply ranking top word vectors, LDA has clustered what it sees as specific topics for us to analyze. By mousing over each circle, we see the top 30 words in it - with red bars signifying a particular term's frequency within that topic.\n"
   ]
  },
  {
   "cell_type": "markdown",
   "metadata": {},
   "source": [
    "* **Distinct topic clusters:** The LDA model has classified Topics 13 and 6 to be distinct clusters. For example, if we mouse over topic 6, we see that the top words include \"warranty\" and \"defect\". It's almost certain that this cluster of words has to do with warranty clauses, which commonly involves suppliers of goods guaranteeing that their products are fit for their purpose e.g. laptops are fit for being used by computer users and actually work. \n",
    "\n",
    "That's a pretty good representation of the fact that some clauses are highly specialized in providing specific protections to parties in it.\n",
    "\n",
    "* **Overlapping topic clusters:** The rest of the topics, however, involve some form of overlap. This is what sets LDA apart from traditional clustering models - k-means clustering, for example, aims to define very distinct, non-overlapping clusters, unlike LDA, which is \"softer\".\n",
    "\n",
    "For example, Topic 4 has the most frequently utilized usage of the words \"tenant, \"renewal\" and \"renewal option\", and it has a small overlap with Topic 9, which has keywords like \"loan\" and \"mortgage\". \n",
    "\n",
    "What we can possibly infer from this is this is that Topic 4 is mostly about the renewal of tenancy agreements; whilst Topic 9 is about credit agreements. They're distinct topics, but they overlap in that both concern the lending of something (lending or leasing property to renters, or money to borrowers). \n",
    "\n",
    "This reflects the fact that sometimes, clauses may be talking about different subjects, but have common elements."
   ]
  },
  {
   "cell_type": "markdown",
   "metadata": {},
   "source": [
    "## Dependency Parsing EDA: What \"Bag-of-Words\" Models don't account for"
   ]
  },
  {
   "cell_type": "markdown",
   "metadata": {},
   "source": [
    "**If we conclude that the majority of topics/subjects in a contract tend to overlap, it means that a Bag of Words approach may not be ideal,** because even distinctly labelled subjects can have a high degree of similarity that could confuse a machine learning model that is attempting to pick apart renewal option/automatic renewal clauses from each other, or from other clauses.\n",
    "\n",
    "This is reflective of the reality that people don't classify language by seeing frequently used words in a corpus. We read things from left to right, our brains comprehend the language and we take in the syntax and relationships that each word has with each other.\n",
    "\n",
    "This also means that `Lemmatization` and `Stopword Removal` actually cause a loss in meaning, and while their usage may be necessary for conventional Word Vectorization models, the process isn't organic."
   ]
  },
  {
   "cell_type": "markdown",
   "metadata": {},
   "source": [
    "**Can we visualize the dependency of tokens with each other that we lost in a Bag of Words?**"
   ]
  },
  {
   "cell_type": "markdown",
   "metadata": {},
   "source": [
    "For the final part of our EDA, we will visualize the relationship between tokens in our sample clause sentences. spaCy actually has a way of understanding and displaying the dependency that words have on each other to form meaning. It does this through `dependency parsing`.\n",
    "\n",
    "Blackstone summarizes the process as such:\n",
    "\n",
    "\"Dependency parsing is a complex and fine-grained area of study, but it essentially boils down to modelling the relationships between tokens.\" "
   ]
  },
  {
   "cell_type": "code",
   "execution_count": 49,
   "metadata": {},
   "outputs": [
    {
     "data": {
      "text/html": [
       "<span class=\"tex2jax_ignore\"><svg xmlns=\"http://www.w3.org/2000/svg\" xmlns:xlink=\"http://www.w3.org/1999/xlink\" xml:lang=\"en\" id=\"2bb8ac2446c84da180c20881c0af9be4-0\" class=\"displacy\" width=\"23500\" height=\"1187.0\" direction=\"ltr\" style=\"max-width: none; height: 1187.0px; color: #000000; background: #ffffff; font-family: Arial; direction: ltr\">\n",
       "<text class=\"displacy-token\" fill=\"currentColor\" text-anchor=\"middle\" y=\"1097.0\">\n",
       "    <tspan class=\"displacy-word\" fill=\"currentColor\" x=\"50\">Mercury</tspan>\n",
       "    <tspan class=\"displacy-tag\" dy=\"2em\" fill=\"currentColor\" x=\"50\">PROPN</tspan>\n",
       "</text>\n",
       "\n",
       "<text class=\"displacy-token\" fill=\"currentColor\" text-anchor=\"middle\" y=\"1097.0\">\n",
       "    <tspan class=\"displacy-word\" fill=\"currentColor\" x=\"225\">represents</tspan>\n",
       "    <tspan class=\"displacy-tag\" dy=\"2em\" fill=\"currentColor\" x=\"225\">VERB</tspan>\n",
       "</text>\n",
       "\n",
       "<text class=\"displacy-token\" fill=\"currentColor\" text-anchor=\"middle\" y=\"1097.0\">\n",
       "    <tspan class=\"displacy-word\" fill=\"currentColor\" x=\"400\">and</tspan>\n",
       "    <tspan class=\"displacy-tag\" dy=\"2em\" fill=\"currentColor\" x=\"400\">CCONJ</tspan>\n",
       "</text>\n",
       "\n",
       "<text class=\"displacy-token\" fill=\"currentColor\" text-anchor=\"middle\" y=\"1097.0\">\n",
       "    <tspan class=\"displacy-word\" fill=\"currentColor\" x=\"575\">warrants</tspan>\n",
       "    <tspan class=\"displacy-tag\" dy=\"2em\" fill=\"currentColor\" x=\"575\">NOUN</tspan>\n",
       "</text>\n",
       "\n",
       "<text class=\"displacy-token\" fill=\"currentColor\" text-anchor=\"middle\" y=\"1097.0\">\n",
       "    <tspan class=\"displacy-word\" fill=\"currentColor\" x=\"750\">that</tspan>\n",
       "    <tspan class=\"displacy-tag\" dy=\"2em\" fill=\"currentColor\" x=\"750\">SCONJ</tspan>\n",
       "</text>\n",
       "\n",
       "<text class=\"displacy-token\" fill=\"currentColor\" text-anchor=\"middle\" y=\"1097.0\">\n",
       "    <tspan class=\"displacy-word\" fill=\"currentColor\" x=\"925\">it</tspan>\n",
       "    <tspan class=\"displacy-tag\" dy=\"2em\" fill=\"currentColor\" x=\"925\">PRON</tspan>\n",
       "</text>\n",
       "\n",
       "<text class=\"displacy-token\" fill=\"currentColor\" text-anchor=\"middle\" y=\"1097.0\">\n",
       "    <tspan class=\"displacy-word\" fill=\"currentColor\" x=\"1100\">has</tspan>\n",
       "    <tspan class=\"displacy-tag\" dy=\"2em\" fill=\"currentColor\" x=\"1100\">AUX</tspan>\n",
       "</text>\n",
       "\n",
       "<text class=\"displacy-token\" fill=\"currentColor\" text-anchor=\"middle\" y=\"1097.0\">\n",
       "    <tspan class=\"displacy-word\" fill=\"currentColor\" x=\"1275\">the</tspan>\n",
       "    <tspan class=\"displacy-tag\" dy=\"2em\" fill=\"currentColor\" x=\"1275\">DET</tspan>\n",
       "</text>\n",
       "\n",
       "<text class=\"displacy-token\" fill=\"currentColor\" text-anchor=\"middle\" y=\"1097.0\">\n",
       "    <tspan class=\"displacy-word\" fill=\"currentColor\" x=\"1450\">full</tspan>\n",
       "    <tspan class=\"displacy-tag\" dy=\"2em\" fill=\"currentColor\" x=\"1450\">ADJ</tspan>\n",
       "</text>\n",
       "\n",
       "<text class=\"displacy-token\" fill=\"currentColor\" text-anchor=\"middle\" y=\"1097.0\">\n",
       "    <tspan class=\"displacy-word\" fill=\"currentColor\" x=\"1625\">right</tspan>\n",
       "    <tspan class=\"displacy-tag\" dy=\"2em\" fill=\"currentColor\" x=\"1625\">NOUN</tspan>\n",
       "</text>\n",
       "\n",
       "<text class=\"displacy-token\" fill=\"currentColor\" text-anchor=\"middle\" y=\"1097.0\">\n",
       "    <tspan class=\"displacy-word\" fill=\"currentColor\" x=\"1800\">and</tspan>\n",
       "    <tspan class=\"displacy-tag\" dy=\"2em\" fill=\"currentColor\" x=\"1800\">CCONJ</tspan>\n",
       "</text>\n",
       "\n",
       "<text class=\"displacy-token\" fill=\"currentColor\" text-anchor=\"middle\" y=\"1097.0\">\n",
       "    <tspan class=\"displacy-word\" fill=\"currentColor\" x=\"1975\">power</tspan>\n",
       "    <tspan class=\"displacy-tag\" dy=\"2em\" fill=\"currentColor\" x=\"1975\">NOUN</tspan>\n",
       "</text>\n",
       "\n",
       "<text class=\"displacy-token\" fill=\"currentColor\" text-anchor=\"middle\" y=\"1097.0\">\n",
       "    <tspan class=\"displacy-word\" fill=\"currentColor\" x=\"2150\">to</tspan>\n",
       "    <tspan class=\"displacy-tag\" dy=\"2em\" fill=\"currentColor\" x=\"2150\">PART</tspan>\n",
       "</text>\n",
       "\n",
       "<text class=\"displacy-token\" fill=\"currentColor\" text-anchor=\"middle\" y=\"1097.0\">\n",
       "    <tspan class=\"displacy-word\" fill=\"currentColor\" x=\"2325\">grant</tspan>\n",
       "    <tspan class=\"displacy-tag\" dy=\"2em\" fill=\"currentColor\" x=\"2325\">VERB</tspan>\n",
       "</text>\n",
       "\n",
       "<text class=\"displacy-token\" fill=\"currentColor\" text-anchor=\"middle\" y=\"1097.0\">\n",
       "    <tspan class=\"displacy-word\" fill=\"currentColor\" x=\"2500\">the</tspan>\n",
       "    <tspan class=\"displacy-tag\" dy=\"2em\" fill=\"currentColor\" x=\"2500\">DET</tspan>\n",
       "</text>\n",
       "\n",
       "<text class=\"displacy-token\" fill=\"currentColor\" text-anchor=\"middle\" y=\"1097.0\">\n",
       "    <tspan class=\"displacy-word\" fill=\"currentColor\" x=\"2675\">license</tspan>\n",
       "    <tspan class=\"displacy-tag\" dy=\"2em\" fill=\"currentColor\" x=\"2675\">NOUN</tspan>\n",
       "</text>\n",
       "\n",
       "<text class=\"displacy-token\" fill=\"currentColor\" text-anchor=\"middle\" y=\"1097.0\">\n",
       "    <tspan class=\"displacy-word\" fill=\"currentColor\" x=\"2850\">and</tspan>\n",
       "    <tspan class=\"displacy-tag\" dy=\"2em\" fill=\"currentColor\" x=\"2850\">CCONJ</tspan>\n",
       "</text>\n",
       "\n",
       "<text class=\"displacy-token\" fill=\"currentColor\" text-anchor=\"middle\" y=\"1097.0\">\n",
       "    <tspan class=\"displacy-word\" fill=\"currentColor\" x=\"3025\">release</tspan>\n",
       "    <tspan class=\"displacy-tag\" dy=\"2em\" fill=\"currentColor\" x=\"3025\">NOUN</tspan>\n",
       "</text>\n",
       "\n",
       "<text class=\"displacy-token\" fill=\"currentColor\" text-anchor=\"middle\" y=\"1097.0\">\n",
       "    <tspan class=\"displacy-word\" fill=\"currentColor\" x=\"3200\">set</tspan>\n",
       "    <tspan class=\"displacy-tag\" dy=\"2em\" fill=\"currentColor\" x=\"3200\">VERB</tspan>\n",
       "</text>\n",
       "\n",
       "<text class=\"displacy-token\" fill=\"currentColor\" text-anchor=\"middle\" y=\"1097.0\">\n",
       "    <tspan class=\"displacy-word\" fill=\"currentColor\" x=\"3375\">forth</tspan>\n",
       "    <tspan class=\"displacy-tag\" dy=\"2em\" fill=\"currentColor\" x=\"3375\">ADP</tspan>\n",
       "</text>\n",
       "\n",
       "<text class=\"displacy-token\" fill=\"currentColor\" text-anchor=\"middle\" y=\"1097.0\">\n",
       "    <tspan class=\"displacy-word\" fill=\"currentColor\" x=\"3550\">in</tspan>\n",
       "    <tspan class=\"displacy-tag\" dy=\"2em\" fill=\"currentColor\" x=\"3550\">ADP</tspan>\n",
       "</text>\n",
       "\n",
       "<text class=\"displacy-token\" fill=\"currentColor\" text-anchor=\"middle\" y=\"1097.0\">\n",
       "    <tspan class=\"displacy-word\" fill=\"currentColor\" x=\"3725\">Sections</tspan>\n",
       "    <tspan class=\"displacy-tag\" dy=\"2em\" fill=\"currentColor\" x=\"3725\">NOUN</tspan>\n",
       "</text>\n",
       "\n",
       "<text class=\"displacy-token\" fill=\"currentColor\" text-anchor=\"middle\" y=\"1097.0\">\n",
       "    <tspan class=\"displacy-word\" fill=\"currentColor\" x=\"3900\">1</tspan>\n",
       "    <tspan class=\"displacy-tag\" dy=\"2em\" fill=\"currentColor\" x=\"3900\">NUM</tspan>\n",
       "</text>\n",
       "\n",
       "<text class=\"displacy-token\" fill=\"currentColor\" text-anchor=\"middle\" y=\"1097.0\">\n",
       "    <tspan class=\"displacy-word\" fill=\"currentColor\" x=\"4075\">and</tspan>\n",
       "    <tspan class=\"displacy-tag\" dy=\"2em\" fill=\"currentColor\" x=\"4075\">CCONJ</tspan>\n",
       "</text>\n",
       "\n",
       "<text class=\"displacy-token\" fill=\"currentColor\" text-anchor=\"middle\" y=\"1097.0\">\n",
       "    <tspan class=\"displacy-word\" fill=\"currentColor\" x=\"4250\">4,</tspan>\n",
       "    <tspan class=\"displacy-tag\" dy=\"2em\" fill=\"currentColor\" x=\"4250\">NUM</tspan>\n",
       "</text>\n",
       "\n",
       "<text class=\"displacy-token\" fill=\"currentColor\" text-anchor=\"middle\" y=\"1097.0\">\n",
       "    <tspan class=\"displacy-word\" fill=\"currentColor\" x=\"4425\">respectively,</tspan>\n",
       "    <tspan class=\"displacy-tag\" dy=\"2em\" fill=\"currentColor\" x=\"4425\">ADV</tspan>\n",
       "</text>\n",
       "\n",
       "<text class=\"displacy-token\" fill=\"currentColor\" text-anchor=\"middle\" y=\"1097.0\">\n",
       "    <tspan class=\"displacy-word\" fill=\"currentColor\" x=\"4600\">and</tspan>\n",
       "    <tspan class=\"displacy-tag\" dy=\"2em\" fill=\"currentColor\" x=\"4600\">CCONJ</tspan>\n",
       "</text>\n",
       "\n",
       "<text class=\"displacy-token\" fill=\"currentColor\" text-anchor=\"middle\" y=\"1097.0\">\n",
       "    <tspan class=\"displacy-word\" fill=\"currentColor\" x=\"4775\">that</tspan>\n",
       "    <tspan class=\"displacy-tag\" dy=\"2em\" fill=\"currentColor\" x=\"4775\">SCONJ</tspan>\n",
       "</text>\n",
       "\n",
       "<text class=\"displacy-token\" fill=\"currentColor\" text-anchor=\"middle\" y=\"1097.0\">\n",
       "    <tspan class=\"displacy-word\" fill=\"currentColor\" x=\"4950\">there</tspan>\n",
       "    <tspan class=\"displacy-tag\" dy=\"2em\" fill=\"currentColor\" x=\"4950\">PRON</tspan>\n",
       "</text>\n",
       "\n",
       "<text class=\"displacy-token\" fill=\"currentColor\" text-anchor=\"middle\" y=\"1097.0\">\n",
       "    <tspan class=\"displacy-word\" fill=\"currentColor\" x=\"5125\">are</tspan>\n",
       "    <tspan class=\"displacy-tag\" dy=\"2em\" fill=\"currentColor\" x=\"5125\">AUX</tspan>\n",
       "</text>\n",
       "\n",
       "<text class=\"displacy-token\" fill=\"currentColor\" text-anchor=\"middle\" y=\"1097.0\">\n",
       "    <tspan class=\"displacy-word\" fill=\"currentColor\" x=\"5300\">no</tspan>\n",
       "    <tspan class=\"displacy-tag\" dy=\"2em\" fill=\"currentColor\" x=\"5300\">DET</tspan>\n",
       "</text>\n",
       "\n",
       "<text class=\"displacy-token\" fill=\"currentColor\" text-anchor=\"middle\" y=\"1097.0\">\n",
       "    <tspan class=\"displacy-word\" fill=\"currentColor\" x=\"5475\">outstanding</tspan>\n",
       "    <tspan class=\"displacy-tag\" dy=\"2em\" fill=\"currentColor\" x=\"5475\">ADJ</tspan>\n",
       "</text>\n",
       "\n",
       "<text class=\"displacy-token\" fill=\"currentColor\" text-anchor=\"middle\" y=\"1097.0\">\n",
       "    <tspan class=\"displacy-word\" fill=\"currentColor\" x=\"5650\">agreements,</tspan>\n",
       "    <tspan class=\"displacy-tag\" dy=\"2em\" fill=\"currentColor\" x=\"5650\">NOUN</tspan>\n",
       "</text>\n",
       "\n",
       "<text class=\"displacy-token\" fill=\"currentColor\" text-anchor=\"middle\" y=\"1097.0\">\n",
       "    <tspan class=\"displacy-word\" fill=\"currentColor\" x=\"5825\">assignments,</tspan>\n",
       "    <tspan class=\"displacy-tag\" dy=\"2em\" fill=\"currentColor\" x=\"5825\">NOUN</tspan>\n",
       "</text>\n",
       "\n",
       "<text class=\"displacy-token\" fill=\"currentColor\" text-anchor=\"middle\" y=\"1097.0\">\n",
       "    <tspan class=\"displacy-word\" fill=\"currentColor\" x=\"6000\">or</tspan>\n",
       "    <tspan class=\"displacy-tag\" dy=\"2em\" fill=\"currentColor\" x=\"6000\">CCONJ</tspan>\n",
       "</text>\n",
       "\n",
       "<text class=\"displacy-token\" fill=\"currentColor\" text-anchor=\"middle\" y=\"1097.0\">\n",
       "    <tspan class=\"displacy-word\" fill=\"currentColor\" x=\"6175\">encumbrances</tspan>\n",
       "    <tspan class=\"displacy-tag\" dy=\"2em\" fill=\"currentColor\" x=\"6175\">NOUN</tspan>\n",
       "</text>\n",
       "\n",
       "<text class=\"displacy-token\" fill=\"currentColor\" text-anchor=\"middle\" y=\"1097.0\">\n",
       "    <tspan class=\"displacy-word\" fill=\"currentColor\" x=\"6350\">inconsistent</tspan>\n",
       "    <tspan class=\"displacy-tag\" dy=\"2em\" fill=\"currentColor\" x=\"6350\">ADJ</tspan>\n",
       "</text>\n",
       "\n",
       "<text class=\"displacy-token\" fill=\"currentColor\" text-anchor=\"middle\" y=\"1097.0\">\n",
       "    <tspan class=\"displacy-word\" fill=\"currentColor\" x=\"6525\">therewith.</tspan>\n",
       "    <tspan class=\"displacy-tag\" dy=\"2em\" fill=\"currentColor\" x=\"6525\">NOUN</tspan>\n",
       "</text>\n",
       "\n",
       "<text class=\"displacy-token\" fill=\"currentColor\" text-anchor=\"middle\" y=\"1097.0\">\n",
       "    <tspan class=\"displacy-word\" fill=\"currentColor\" x=\"6700\">Mercury</tspan>\n",
       "    <tspan class=\"displacy-tag\" dy=\"2em\" fill=\"currentColor\" x=\"6700\">PROPN</tspan>\n",
       "</text>\n",
       "\n",
       "<text class=\"displacy-token\" fill=\"currentColor\" text-anchor=\"middle\" y=\"1097.0\">\n",
       "    <tspan class=\"displacy-word\" fill=\"currentColor\" x=\"6875\">makes</tspan>\n",
       "    <tspan class=\"displacy-tag\" dy=\"2em\" fill=\"currentColor\" x=\"6875\">VERB</tspan>\n",
       "</text>\n",
       "\n",
       "<text class=\"displacy-token\" fill=\"currentColor\" text-anchor=\"middle\" y=\"1097.0\">\n",
       "    <tspan class=\"displacy-word\" fill=\"currentColor\" x=\"7050\">no</tspan>\n",
       "    <tspan class=\"displacy-tag\" dy=\"2em\" fill=\"currentColor\" x=\"7050\">DET</tspan>\n",
       "</text>\n",
       "\n",
       "<text class=\"displacy-token\" fill=\"currentColor\" text-anchor=\"middle\" y=\"1097.0\">\n",
       "    <tspan class=\"displacy-word\" fill=\"currentColor\" x=\"7225\">other</tspan>\n",
       "    <tspan class=\"displacy-tag\" dy=\"2em\" fill=\"currentColor\" x=\"7225\">ADJ</tspan>\n",
       "</text>\n",
       "\n",
       "<text class=\"displacy-token\" fill=\"currentColor\" text-anchor=\"middle\" y=\"1097.0\">\n",
       "    <tspan class=\"displacy-word\" fill=\"currentColor\" x=\"7400\">representations</tspan>\n",
       "    <tspan class=\"displacy-tag\" dy=\"2em\" fill=\"currentColor\" x=\"7400\">NOUN</tspan>\n",
       "</text>\n",
       "\n",
       "<text class=\"displacy-token\" fill=\"currentColor\" text-anchor=\"middle\" y=\"1097.0\">\n",
       "    <tspan class=\"displacy-word\" fill=\"currentColor\" x=\"7575\">or</tspan>\n",
       "    <tspan class=\"displacy-tag\" dy=\"2em\" fill=\"currentColor\" x=\"7575\">CCONJ</tspan>\n",
       "</text>\n",
       "\n",
       "<text class=\"displacy-token\" fill=\"currentColor\" text-anchor=\"middle\" y=\"1097.0\">\n",
       "    <tspan class=\"displacy-word\" fill=\"currentColor\" x=\"7750\">warranties,</tspan>\n",
       "    <tspan class=\"displacy-tag\" dy=\"2em\" fill=\"currentColor\" x=\"7750\">NOUN</tspan>\n",
       "</text>\n",
       "\n",
       "<text class=\"displacy-token\" fill=\"currentColor\" text-anchor=\"middle\" y=\"1097.0\">\n",
       "    <tspan class=\"displacy-word\" fill=\"currentColor\" x=\"7925\">express</tspan>\n",
       "    <tspan class=\"displacy-tag\" dy=\"2em\" fill=\"currentColor\" x=\"7925\">ADJ</tspan>\n",
       "</text>\n",
       "\n",
       "<text class=\"displacy-token\" fill=\"currentColor\" text-anchor=\"middle\" y=\"1097.0\">\n",
       "    <tspan class=\"displacy-word\" fill=\"currentColor\" x=\"8100\">or</tspan>\n",
       "    <tspan class=\"displacy-tag\" dy=\"2em\" fill=\"currentColor\" x=\"8100\">CCONJ</tspan>\n",
       "</text>\n",
       "\n",
       "<text class=\"displacy-token\" fill=\"currentColor\" text-anchor=\"middle\" y=\"1097.0\">\n",
       "    <tspan class=\"displacy-word\" fill=\"currentColor\" x=\"8275\">implied,</tspan>\n",
       "    <tspan class=\"displacy-tag\" dy=\"2em\" fill=\"currentColor\" x=\"8275\">VERB</tspan>\n",
       "</text>\n",
       "\n",
       "<text class=\"displacy-token\" fill=\"currentColor\" text-anchor=\"middle\" y=\"1097.0\">\n",
       "    <tspan class=\"displacy-word\" fill=\"currentColor\" x=\"8450\">nor</tspan>\n",
       "    <tspan class=\"displacy-tag\" dy=\"2em\" fill=\"currentColor\" x=\"8450\">CCONJ</tspan>\n",
       "</text>\n",
       "\n",
       "<text class=\"displacy-token\" fill=\"currentColor\" text-anchor=\"middle\" y=\"1097.0\">\n",
       "    <tspan class=\"displacy-word\" fill=\"currentColor\" x=\"8625\">shall</tspan>\n",
       "    <tspan class=\"displacy-tag\" dy=\"2em\" fill=\"currentColor\" x=\"8625\">VERB</tspan>\n",
       "</text>\n",
       "\n",
       "<text class=\"displacy-token\" fill=\"currentColor\" text-anchor=\"middle\" y=\"1097.0\">\n",
       "    <tspan class=\"displacy-word\" fill=\"currentColor\" x=\"8800\">Mercury</tspan>\n",
       "    <tspan class=\"displacy-tag\" dy=\"2em\" fill=\"currentColor\" x=\"8800\">PROPN</tspan>\n",
       "</text>\n",
       "\n",
       "<text class=\"displacy-token\" fill=\"currentColor\" text-anchor=\"middle\" y=\"1097.0\">\n",
       "    <tspan class=\"displacy-word\" fill=\"currentColor\" x=\"8975\">have</tspan>\n",
       "    <tspan class=\"displacy-tag\" dy=\"2em\" fill=\"currentColor\" x=\"8975\">AUX</tspan>\n",
       "</text>\n",
       "\n",
       "<text class=\"displacy-token\" fill=\"currentColor\" text-anchor=\"middle\" y=\"1097.0\">\n",
       "    <tspan class=\"displacy-word\" fill=\"currentColor\" x=\"9150\">any</tspan>\n",
       "    <tspan class=\"displacy-tag\" dy=\"2em\" fill=\"currentColor\" x=\"9150\">DET</tspan>\n",
       "</text>\n",
       "\n",
       "<text class=\"displacy-token\" fill=\"currentColor\" text-anchor=\"middle\" y=\"1097.0\">\n",
       "    <tspan class=\"displacy-word\" fill=\"currentColor\" x=\"9325\">liability</tspan>\n",
       "    <tspan class=\"displacy-tag\" dy=\"2em\" fill=\"currentColor\" x=\"9325\">NOUN</tspan>\n",
       "</text>\n",
       "\n",
       "<text class=\"displacy-token\" fill=\"currentColor\" text-anchor=\"middle\" y=\"1097.0\">\n",
       "    <tspan class=\"displacy-word\" fill=\"currentColor\" x=\"9500\">in</tspan>\n",
       "    <tspan class=\"displacy-tag\" dy=\"2em\" fill=\"currentColor\" x=\"9500\">ADP</tspan>\n",
       "</text>\n",
       "\n",
       "<text class=\"displacy-token\" fill=\"currentColor\" text-anchor=\"middle\" y=\"1097.0\">\n",
       "    <tspan class=\"displacy-word\" fill=\"currentColor\" x=\"9675\">respect</tspan>\n",
       "    <tspan class=\"displacy-tag\" dy=\"2em\" fill=\"currentColor\" x=\"9675\">NOUN</tspan>\n",
       "</text>\n",
       "\n",
       "<text class=\"displacy-token\" fill=\"currentColor\" text-anchor=\"middle\" y=\"1097.0\">\n",
       "    <tspan class=\"displacy-word\" fill=\"currentColor\" x=\"9850\">of</tspan>\n",
       "    <tspan class=\"displacy-tag\" dy=\"2em\" fill=\"currentColor\" x=\"9850\">ADP</tspan>\n",
       "</text>\n",
       "\n",
       "<text class=\"displacy-token\" fill=\"currentColor\" text-anchor=\"middle\" y=\"1097.0\">\n",
       "    <tspan class=\"displacy-word\" fill=\"currentColor\" x=\"10025\">any</tspan>\n",
       "    <tspan class=\"displacy-tag\" dy=\"2em\" fill=\"currentColor\" x=\"10025\">DET</tspan>\n",
       "</text>\n",
       "\n",
       "<text class=\"displacy-token\" fill=\"currentColor\" text-anchor=\"middle\" y=\"1097.0\">\n",
       "    <tspan class=\"displacy-word\" fill=\"currentColor\" x=\"10200\">infringement</tspan>\n",
       "    <tspan class=\"displacy-tag\" dy=\"2em\" fill=\"currentColor\" x=\"10200\">NOUN</tspan>\n",
       "</text>\n",
       "\n",
       "<text class=\"displacy-token\" fill=\"currentColor\" text-anchor=\"middle\" y=\"1097.0\">\n",
       "    <tspan class=\"displacy-word\" fill=\"currentColor\" x=\"10375\">of</tspan>\n",
       "    <tspan class=\"displacy-tag\" dy=\"2em\" fill=\"currentColor\" x=\"10375\">ADP</tspan>\n",
       "</text>\n",
       "\n",
       "<text class=\"displacy-token\" fill=\"currentColor\" text-anchor=\"middle\" y=\"1097.0\">\n",
       "    <tspan class=\"displacy-word\" fill=\"currentColor\" x=\"10550\">patents</tspan>\n",
       "    <tspan class=\"displacy-tag\" dy=\"2em\" fill=\"currentColor\" x=\"10550\">NOUN</tspan>\n",
       "</text>\n",
       "\n",
       "<text class=\"displacy-token\" fill=\"currentColor\" text-anchor=\"middle\" y=\"1097.0\">\n",
       "    <tspan class=\"displacy-word\" fill=\"currentColor\" x=\"10725\">or</tspan>\n",
       "    <tspan class=\"displacy-tag\" dy=\"2em\" fill=\"currentColor\" x=\"10725\">CCONJ</tspan>\n",
       "</text>\n",
       "\n",
       "<text class=\"displacy-token\" fill=\"currentColor\" text-anchor=\"middle\" y=\"1097.0\">\n",
       "    <tspan class=\"displacy-word\" fill=\"currentColor\" x=\"10900\">other</tspan>\n",
       "    <tspan class=\"displacy-tag\" dy=\"2em\" fill=\"currentColor\" x=\"10900\">ADJ</tspan>\n",
       "</text>\n",
       "\n",
       "<text class=\"displacy-token\" fill=\"currentColor\" text-anchor=\"middle\" y=\"1097.0\">\n",
       "    <tspan class=\"displacy-word\" fill=\"currentColor\" x=\"11075\">rights</tspan>\n",
       "    <tspan class=\"displacy-tag\" dy=\"2em\" fill=\"currentColor\" x=\"11075\">NOUN</tspan>\n",
       "</text>\n",
       "\n",
       "<text class=\"displacy-token\" fill=\"currentColor\" text-anchor=\"middle\" y=\"1097.0\">\n",
       "    <tspan class=\"displacy-word\" fill=\"currentColor\" x=\"11250\">of</tspan>\n",
       "    <tspan class=\"displacy-tag\" dy=\"2em\" fill=\"currentColor\" x=\"11250\">ADP</tspan>\n",
       "</text>\n",
       "\n",
       "<text class=\"displacy-token\" fill=\"currentColor\" text-anchor=\"middle\" y=\"1097.0\">\n",
       "    <tspan class=\"displacy-word\" fill=\"currentColor\" x=\"11425\">third</tspan>\n",
       "    <tspan class=\"displacy-tag\" dy=\"2em\" fill=\"currentColor\" x=\"11425\">ADJ</tspan>\n",
       "</text>\n",
       "\n",
       "<text class=\"displacy-token\" fill=\"currentColor\" text-anchor=\"middle\" y=\"1097.0\">\n",
       "    <tspan class=\"displacy-word\" fill=\"currentColor\" x=\"11600\">parties</tspan>\n",
       "    <tspan class=\"displacy-tag\" dy=\"2em\" fill=\"currentColor\" x=\"11600\">NOUN</tspan>\n",
       "</text>\n",
       "\n",
       "<text class=\"displacy-token\" fill=\"currentColor\" text-anchor=\"middle\" y=\"1097.0\">\n",
       "    <tspan class=\"displacy-word\" fill=\"currentColor\" x=\"11775\">due</tspan>\n",
       "    <tspan class=\"displacy-tag\" dy=\"2em\" fill=\"currentColor\" x=\"11775\">ADJ</tspan>\n",
       "</text>\n",
       "\n",
       "<text class=\"displacy-token\" fill=\"currentColor\" text-anchor=\"middle\" y=\"1097.0\">\n",
       "    <tspan class=\"displacy-word\" fill=\"currentColor\" x=\"11950\">to</tspan>\n",
       "    <tspan class=\"displacy-tag\" dy=\"2em\" fill=\"currentColor\" x=\"11950\">ADP</tspan>\n",
       "</text>\n",
       "\n",
       "<text class=\"displacy-token\" fill=\"currentColor\" text-anchor=\"middle\" y=\"1097.0\">\n",
       "    <tspan class=\"displacy-word\" fill=\"currentColor\" x=\"12125\">Licensee</tspan>\n",
       "    <tspan class=\"displacy-tag\" dy=\"2em\" fill=\"currentColor\" x=\"12125\">PROPN</tspan>\n",
       "</text>\n",
       "\n",
       "<text class=\"displacy-token\" fill=\"currentColor\" text-anchor=\"middle\" y=\"1097.0\">\n",
       "    <tspan class=\"displacy-word\" fill=\"currentColor\" x=\"12300\">'s</tspan>\n",
       "    <tspan class=\"displacy-tag\" dy=\"2em\" fill=\"currentColor\" x=\"12300\">PART</tspan>\n",
       "</text>\n",
       "\n",
       "<text class=\"displacy-token\" fill=\"currentColor\" text-anchor=\"middle\" y=\"1097.0\">\n",
       "    <tspan class=\"displacy-word\" fill=\"currentColor\" x=\"12475\">operation</tspan>\n",
       "    <tspan class=\"displacy-tag\" dy=\"2em\" fill=\"currentColor\" x=\"12475\">NOUN</tspan>\n",
       "</text>\n",
       "\n",
       "<text class=\"displacy-token\" fill=\"currentColor\" text-anchor=\"middle\" y=\"1097.0\">\n",
       "    <tspan class=\"displacy-word\" fill=\"currentColor\" x=\"12650\">under</tspan>\n",
       "    <tspan class=\"displacy-tag\" dy=\"2em\" fill=\"currentColor\" x=\"12650\">ADP</tspan>\n",
       "</text>\n",
       "\n",
       "<text class=\"displacy-token\" fill=\"currentColor\" text-anchor=\"middle\" y=\"1097.0\">\n",
       "    <tspan class=\"displacy-word\" fill=\"currentColor\" x=\"12825\">the</tspan>\n",
       "    <tspan class=\"displacy-tag\" dy=\"2em\" fill=\"currentColor\" x=\"12825\">DET</tspan>\n",
       "</text>\n",
       "\n",
       "<text class=\"displacy-token\" fill=\"currentColor\" text-anchor=\"middle\" y=\"1097.0\">\n",
       "    <tspan class=\"displacy-word\" fill=\"currentColor\" x=\"13000\">license</tspan>\n",
       "    <tspan class=\"displacy-tag\" dy=\"2em\" fill=\"currentColor\" x=\"13000\">NOUN</tspan>\n",
       "</text>\n",
       "\n",
       "<text class=\"displacy-token\" fill=\"currentColor\" text-anchor=\"middle\" y=\"1097.0\">\n",
       "    <tspan class=\"displacy-word\" fill=\"currentColor\" x=\"13175\">herein</tspan>\n",
       "    <tspan class=\"displacy-tag\" dy=\"2em\" fill=\"currentColor\" x=\"13175\">PROPN</tspan>\n",
       "</text>\n",
       "\n",
       "<text class=\"displacy-token\" fill=\"currentColor\" text-anchor=\"middle\" y=\"1097.0\">\n",
       "    <tspan class=\"displacy-word\" fill=\"currentColor\" x=\"13350\">granted.</tspan>\n",
       "    <tspan class=\"displacy-tag\" dy=\"2em\" fill=\"currentColor\" x=\"13350\">VERB</tspan>\n",
       "</text>\n",
       "\n",
       "<text class=\"displacy-token\" fill=\"currentColor\" text-anchor=\"middle\" y=\"1097.0\">\n",
       "    <tspan class=\"displacy-word\" fill=\"currentColor\" x=\"13525\">Mercury</tspan>\n",
       "    <tspan class=\"displacy-tag\" dy=\"2em\" fill=\"currentColor\" x=\"13525\">NOUN</tspan>\n",
       "</text>\n",
       "\n",
       "<text class=\"displacy-token\" fill=\"currentColor\" text-anchor=\"middle\" y=\"1097.0\">\n",
       "    <tspan class=\"displacy-word\" fill=\"currentColor\" x=\"13700\">neither</tspan>\n",
       "    <tspan class=\"displacy-tag\" dy=\"2em\" fill=\"currentColor\" x=\"13700\">CCONJ</tspan>\n",
       "</text>\n",
       "\n",
       "<text class=\"displacy-token\" fill=\"currentColor\" text-anchor=\"middle\" y=\"1097.0\">\n",
       "    <tspan class=\"displacy-word\" fill=\"currentColor\" x=\"13875\">warrants</tspan>\n",
       "    <tspan class=\"displacy-tag\" dy=\"2em\" fill=\"currentColor\" x=\"13875\">NOUN</tspan>\n",
       "</text>\n",
       "\n",
       "<text class=\"displacy-token\" fill=\"currentColor\" text-anchor=\"middle\" y=\"1097.0\">\n",
       "    <tspan class=\"displacy-word\" fill=\"currentColor\" x=\"14050\">nor</tspan>\n",
       "    <tspan class=\"displacy-tag\" dy=\"2em\" fill=\"currentColor\" x=\"14050\">CCONJ</tspan>\n",
       "</text>\n",
       "\n",
       "<text class=\"displacy-token\" fill=\"currentColor\" text-anchor=\"middle\" y=\"1097.0\">\n",
       "    <tspan class=\"displacy-word\" fill=\"currentColor\" x=\"14225\">represents</tspan>\n",
       "    <tspan class=\"displacy-tag\" dy=\"2em\" fill=\"currentColor\" x=\"14225\">VERB</tspan>\n",
       "</text>\n",
       "\n",
       "<text class=\"displacy-token\" fill=\"currentColor\" text-anchor=\"middle\" y=\"1097.0\">\n",
       "    <tspan class=\"displacy-word\" fill=\"currentColor\" x=\"14400\">that</tspan>\n",
       "    <tspan class=\"displacy-tag\" dy=\"2em\" fill=\"currentColor\" x=\"14400\">SCONJ</tspan>\n",
       "</text>\n",
       "\n",
       "<text class=\"displacy-token\" fill=\"currentColor\" text-anchor=\"middle\" y=\"1097.0\">\n",
       "    <tspan class=\"displacy-word\" fill=\"currentColor\" x=\"14575\">Licensee</tspan>\n",
       "    <tspan class=\"displacy-tag\" dy=\"2em\" fill=\"currentColor\" x=\"14575\">PROPN</tspan>\n",
       "</text>\n",
       "\n",
       "<text class=\"displacy-token\" fill=\"currentColor\" text-anchor=\"middle\" y=\"1097.0\">\n",
       "    <tspan class=\"displacy-word\" fill=\"currentColor\" x=\"14750\">will</tspan>\n",
       "    <tspan class=\"displacy-tag\" dy=\"2em\" fill=\"currentColor\" x=\"14750\">VERB</tspan>\n",
       "</text>\n",
       "\n",
       "<text class=\"displacy-token\" fill=\"currentColor\" text-anchor=\"middle\" y=\"1097.0\">\n",
       "    <tspan class=\"displacy-word\" fill=\"currentColor\" x=\"14925\">not</tspan>\n",
       "    <tspan class=\"displacy-tag\" dy=\"2em\" fill=\"currentColor\" x=\"14925\">PART</tspan>\n",
       "</text>\n",
       "\n",
       "<text class=\"displacy-token\" fill=\"currentColor\" text-anchor=\"middle\" y=\"1097.0\">\n",
       "    <tspan class=\"displacy-word\" fill=\"currentColor\" x=\"15100\">require</tspan>\n",
       "    <tspan class=\"displacy-tag\" dy=\"2em\" fill=\"currentColor\" x=\"15100\">VERB</tspan>\n",
       "</text>\n",
       "\n",
       "<text class=\"displacy-token\" fill=\"currentColor\" text-anchor=\"middle\" y=\"1097.0\">\n",
       "    <tspan class=\"displacy-word\" fill=\"currentColor\" x=\"15275\">a</tspan>\n",
       "    <tspan class=\"displacy-tag\" dy=\"2em\" fill=\"currentColor\" x=\"15275\">DET</tspan>\n",
       "</text>\n",
       "\n",
       "<text class=\"displacy-token\" fill=\"currentColor\" text-anchor=\"middle\" y=\"1097.0\">\n",
       "    <tspan class=\"displacy-word\" fill=\"currentColor\" x=\"15450\">license</tspan>\n",
       "    <tspan class=\"displacy-tag\" dy=\"2em\" fill=\"currentColor\" x=\"15450\">NOUN</tspan>\n",
       "</text>\n",
       "\n",
       "<text class=\"displacy-token\" fill=\"currentColor\" text-anchor=\"middle\" y=\"1097.0\">\n",
       "    <tspan class=\"displacy-word\" fill=\"currentColor\" x=\"15625\">under</tspan>\n",
       "    <tspan class=\"displacy-tag\" dy=\"2em\" fill=\"currentColor\" x=\"15625\">ADP</tspan>\n",
       "</text>\n",
       "\n",
       "<text class=\"displacy-token\" fill=\"currentColor\" text-anchor=\"middle\" y=\"1097.0\">\n",
       "    <tspan class=\"displacy-word\" fill=\"currentColor\" x=\"15800\">other</tspan>\n",
       "    <tspan class=\"displacy-tag\" dy=\"2em\" fill=\"currentColor\" x=\"15800\">ADJ</tspan>\n",
       "</text>\n",
       "\n",
       "<text class=\"displacy-token\" fill=\"currentColor\" text-anchor=\"middle\" y=\"1097.0\">\n",
       "    <tspan class=\"displacy-word\" fill=\"currentColor\" x=\"15975\">patents (</tspan>\n",
       "    <tspan class=\"displacy-tag\" dy=\"2em\" fill=\"currentColor\" x=\"15975\">NOUN</tspan>\n",
       "</text>\n",
       "\n",
       "<text class=\"displacy-token\" fill=\"currentColor\" text-anchor=\"middle\" y=\"1097.0\">\n",
       "    <tspan class=\"displacy-word\" fill=\"currentColor\" x=\"16150\">owned</tspan>\n",
       "    <tspan class=\"displacy-tag\" dy=\"2em\" fill=\"currentColor\" x=\"16150\">VERB</tspan>\n",
       "</text>\n",
       "\n",
       "<text class=\"displacy-token\" fill=\"currentColor\" text-anchor=\"middle\" y=\"1097.0\">\n",
       "    <tspan class=\"displacy-word\" fill=\"currentColor\" x=\"16325\">by</tspan>\n",
       "    <tspan class=\"displacy-tag\" dy=\"2em\" fill=\"currentColor\" x=\"16325\">ADP</tspan>\n",
       "</text>\n",
       "\n",
       "<text class=\"displacy-token\" fill=\"currentColor\" text-anchor=\"middle\" y=\"1097.0\">\n",
       "    <tspan class=\"displacy-word\" fill=\"currentColor\" x=\"16500\">Mercury</tspan>\n",
       "    <tspan class=\"displacy-tag\" dy=\"2em\" fill=\"currentColor\" x=\"16500\">PROPN</tspan>\n",
       "</text>\n",
       "\n",
       "<text class=\"displacy-token\" fill=\"currentColor\" text-anchor=\"middle\" y=\"1097.0\">\n",
       "    <tspan class=\"displacy-word\" fill=\"currentColor\" x=\"16675\">or</tspan>\n",
       "    <tspan class=\"displacy-tag\" dy=\"2em\" fill=\"currentColor\" x=\"16675\">CCONJ</tspan>\n",
       "</text>\n",
       "\n",
       "<text class=\"displacy-token\" fill=\"currentColor\" text-anchor=\"middle\" y=\"1097.0\">\n",
       "    <tspan class=\"displacy-word\" fill=\"currentColor\" x=\"16850\">by</tspan>\n",
       "    <tspan class=\"displacy-tag\" dy=\"2em\" fill=\"currentColor\" x=\"16850\">ADP</tspan>\n",
       "</text>\n",
       "\n",
       "<text class=\"displacy-token\" fill=\"currentColor\" text-anchor=\"middle\" y=\"1097.0\">\n",
       "    <tspan class=\"displacy-word\" fill=\"currentColor\" x=\"17025\">third</tspan>\n",
       "    <tspan class=\"displacy-tag\" dy=\"2em\" fill=\"currentColor\" x=\"17025\">ADJ</tspan>\n",
       "</text>\n",
       "\n",
       "<text class=\"displacy-token\" fill=\"currentColor\" text-anchor=\"middle\" y=\"1097.0\">\n",
       "    <tspan class=\"displacy-word\" fill=\"currentColor\" x=\"17200\">parties)</tspan>\n",
       "    <tspan class=\"displacy-tag\" dy=\"2em\" fill=\"currentColor\" x=\"17200\">NOUN</tspan>\n",
       "</text>\n",
       "\n",
       "<text class=\"displacy-token\" fill=\"currentColor\" text-anchor=\"middle\" y=\"1097.0\">\n",
       "    <tspan class=\"displacy-word\" fill=\"currentColor\" x=\"17375\">to</tspan>\n",
       "    <tspan class=\"displacy-tag\" dy=\"2em\" fill=\"currentColor\" x=\"17375\">PART</tspan>\n",
       "</text>\n",
       "\n",
       "<text class=\"displacy-token\" fill=\"currentColor\" text-anchor=\"middle\" y=\"1097.0\">\n",
       "    <tspan class=\"displacy-word\" fill=\"currentColor\" x=\"17550\">make,</tspan>\n",
       "    <tspan class=\"displacy-tag\" dy=\"2em\" fill=\"currentColor\" x=\"17550\">VERB</tspan>\n",
       "</text>\n",
       "\n",
       "<text class=\"displacy-token\" fill=\"currentColor\" text-anchor=\"middle\" y=\"1097.0\">\n",
       "    <tspan class=\"displacy-word\" fill=\"currentColor\" x=\"17725\">use,</tspan>\n",
       "    <tspan class=\"displacy-tag\" dy=\"2em\" fill=\"currentColor\" x=\"17725\">VERB</tspan>\n",
       "</text>\n",
       "\n",
       "<text class=\"displacy-token\" fill=\"currentColor\" text-anchor=\"middle\" y=\"1097.0\">\n",
       "    <tspan class=\"displacy-word\" fill=\"currentColor\" x=\"17900\">import,</tspan>\n",
       "    <tspan class=\"displacy-tag\" dy=\"2em\" fill=\"currentColor\" x=\"17900\">NOUN</tspan>\n",
       "</text>\n",
       "\n",
       "<text class=\"displacy-token\" fill=\"currentColor\" text-anchor=\"middle\" y=\"1097.0\">\n",
       "    <tspan class=\"displacy-word\" fill=\"currentColor\" x=\"18075\">or</tspan>\n",
       "    <tspan class=\"displacy-tag\" dy=\"2em\" fill=\"currentColor\" x=\"18075\">CCONJ</tspan>\n",
       "</text>\n",
       "\n",
       "<text class=\"displacy-token\" fill=\"currentColor\" text-anchor=\"middle\" y=\"1097.0\">\n",
       "    <tspan class=\"displacy-word\" fill=\"currentColor\" x=\"18250\">lease,</tspan>\n",
       "    <tspan class=\"displacy-tag\" dy=\"2em\" fill=\"currentColor\" x=\"18250\">NOUN</tspan>\n",
       "</text>\n",
       "\n",
       "<text class=\"displacy-token\" fill=\"currentColor\" text-anchor=\"middle\" y=\"1097.0\">\n",
       "    <tspan class=\"displacy-word\" fill=\"currentColor\" x=\"18425\">sell</tspan>\n",
       "    <tspan class=\"displacy-tag\" dy=\"2em\" fill=\"currentColor\" x=\"18425\">VERB</tspan>\n",
       "</text>\n",
       "\n",
       "<text class=\"displacy-token\" fill=\"currentColor\" text-anchor=\"middle\" y=\"1097.0\">\n",
       "    <tspan class=\"displacy-word\" fill=\"currentColor\" x=\"18600\">or</tspan>\n",
       "    <tspan class=\"displacy-tag\" dy=\"2em\" fill=\"currentColor\" x=\"18600\">CCONJ</tspan>\n",
       "</text>\n",
       "\n",
       "<text class=\"displacy-token\" fill=\"currentColor\" text-anchor=\"middle\" y=\"1097.0\">\n",
       "    <tspan class=\"displacy-word\" fill=\"currentColor\" x=\"18775\">otherwise</tspan>\n",
       "    <tspan class=\"displacy-tag\" dy=\"2em\" fill=\"currentColor\" x=\"18775\">ADV</tspan>\n",
       "</text>\n",
       "\n",
       "<text class=\"displacy-token\" fill=\"currentColor\" text-anchor=\"middle\" y=\"1097.0\">\n",
       "    <tspan class=\"displacy-word\" fill=\"currentColor\" x=\"18950\">transfer</tspan>\n",
       "    <tspan class=\"displacy-tag\" dy=\"2em\" fill=\"currentColor\" x=\"18950\">NOUN</tspan>\n",
       "</text>\n",
       "\n",
       "<text class=\"displacy-token\" fill=\"currentColor\" text-anchor=\"middle\" y=\"1097.0\">\n",
       "    <tspan class=\"displacy-word\" fill=\"currentColor\" x=\"19125\">Licensed</tspan>\n",
       "    <tspan class=\"displacy-tag\" dy=\"2em\" fill=\"currentColor\" x=\"19125\">PROPN</tspan>\n",
       "</text>\n",
       "\n",
       "<text class=\"displacy-token\" fill=\"currentColor\" text-anchor=\"middle\" y=\"1097.0\">\n",
       "    <tspan class=\"displacy-word\" fill=\"currentColor\" x=\"19300\">Products.</tspan>\n",
       "    <tspan class=\"displacy-tag\" dy=\"2em\" fill=\"currentColor\" x=\"19300\">PROPN</tspan>\n",
       "</text>\n",
       "\n",
       "<text class=\"displacy-token\" fill=\"currentColor\" text-anchor=\"middle\" y=\"1097.0\">\n",
       "    <tspan class=\"displacy-word\" fill=\"currentColor\" x=\"19475\">Licensee</tspan>\n",
       "    <tspan class=\"displacy-tag\" dy=\"2em\" fill=\"currentColor\" x=\"19475\">PROPN</tspan>\n",
       "</text>\n",
       "\n",
       "<text class=\"displacy-token\" fill=\"currentColor\" text-anchor=\"middle\" y=\"1097.0\">\n",
       "    <tspan class=\"displacy-word\" fill=\"currentColor\" x=\"19650\">represents</tspan>\n",
       "    <tspan class=\"displacy-tag\" dy=\"2em\" fill=\"currentColor\" x=\"19650\">VERB</tspan>\n",
       "</text>\n",
       "\n",
       "<text class=\"displacy-token\" fill=\"currentColor\" text-anchor=\"middle\" y=\"1097.0\">\n",
       "    <tspan class=\"displacy-word\" fill=\"currentColor\" x=\"19825\">and</tspan>\n",
       "    <tspan class=\"displacy-tag\" dy=\"2em\" fill=\"currentColor\" x=\"19825\">CCONJ</tspan>\n",
       "</text>\n",
       "\n",
       "<text class=\"displacy-token\" fill=\"currentColor\" text-anchor=\"middle\" y=\"1097.0\">\n",
       "    <tspan class=\"displacy-word\" fill=\"currentColor\" x=\"20000\">warrants</tspan>\n",
       "    <tspan class=\"displacy-tag\" dy=\"2em\" fill=\"currentColor\" x=\"20000\">NOUN</tspan>\n",
       "</text>\n",
       "\n",
       "<text class=\"displacy-token\" fill=\"currentColor\" text-anchor=\"middle\" y=\"1097.0\">\n",
       "    <tspan class=\"displacy-word\" fill=\"currentColor\" x=\"20175\">that</tspan>\n",
       "    <tspan class=\"displacy-tag\" dy=\"2em\" fill=\"currentColor\" x=\"20175\">SCONJ</tspan>\n",
       "</text>\n",
       "\n",
       "<text class=\"displacy-token\" fill=\"currentColor\" text-anchor=\"middle\" y=\"1097.0\">\n",
       "    <tspan class=\"displacy-word\" fill=\"currentColor\" x=\"20350\">it</tspan>\n",
       "    <tspan class=\"displacy-tag\" dy=\"2em\" fill=\"currentColor\" x=\"20350\">PRON</tspan>\n",
       "</text>\n",
       "\n",
       "<text class=\"displacy-token\" fill=\"currentColor\" text-anchor=\"middle\" y=\"1097.0\">\n",
       "    <tspan class=\"displacy-word\" fill=\"currentColor\" x=\"20525\">has</tspan>\n",
       "    <tspan class=\"displacy-tag\" dy=\"2em\" fill=\"currentColor\" x=\"20525\">AUX</tspan>\n",
       "</text>\n",
       "\n",
       "<text class=\"displacy-token\" fill=\"currentColor\" text-anchor=\"middle\" y=\"1097.0\">\n",
       "    <tspan class=\"displacy-word\" fill=\"currentColor\" x=\"20700\">the</tspan>\n",
       "    <tspan class=\"displacy-tag\" dy=\"2em\" fill=\"currentColor\" x=\"20700\">DET</tspan>\n",
       "</text>\n",
       "\n",
       "<text class=\"displacy-token\" fill=\"currentColor\" text-anchor=\"middle\" y=\"1097.0\">\n",
       "    <tspan class=\"displacy-word\" fill=\"currentColor\" x=\"20875\">full</tspan>\n",
       "    <tspan class=\"displacy-tag\" dy=\"2em\" fill=\"currentColor\" x=\"20875\">ADJ</tspan>\n",
       "</text>\n",
       "\n",
       "<text class=\"displacy-token\" fill=\"currentColor\" text-anchor=\"middle\" y=\"1097.0\">\n",
       "    <tspan class=\"displacy-word\" fill=\"currentColor\" x=\"21050\">right</tspan>\n",
       "    <tspan class=\"displacy-tag\" dy=\"2em\" fill=\"currentColor\" x=\"21050\">NOUN</tspan>\n",
       "</text>\n",
       "\n",
       "<text class=\"displacy-token\" fill=\"currentColor\" text-anchor=\"middle\" y=\"1097.0\">\n",
       "    <tspan class=\"displacy-word\" fill=\"currentColor\" x=\"21225\">and</tspan>\n",
       "    <tspan class=\"displacy-tag\" dy=\"2em\" fill=\"currentColor\" x=\"21225\">CCONJ</tspan>\n",
       "</text>\n",
       "\n",
       "<text class=\"displacy-token\" fill=\"currentColor\" text-anchor=\"middle\" y=\"1097.0\">\n",
       "    <tspan class=\"displacy-word\" fill=\"currentColor\" x=\"21400\">power</tspan>\n",
       "    <tspan class=\"displacy-tag\" dy=\"2em\" fill=\"currentColor\" x=\"21400\">NOUN</tspan>\n",
       "</text>\n",
       "\n",
       "<text class=\"displacy-token\" fill=\"currentColor\" text-anchor=\"middle\" y=\"1097.0\">\n",
       "    <tspan class=\"displacy-word\" fill=\"currentColor\" x=\"21575\">to</tspan>\n",
       "    <tspan class=\"displacy-tag\" dy=\"2em\" fill=\"currentColor\" x=\"21575\">PART</tspan>\n",
       "</text>\n",
       "\n",
       "<text class=\"displacy-token\" fill=\"currentColor\" text-anchor=\"middle\" y=\"1097.0\">\n",
       "    <tspan class=\"displacy-word\" fill=\"currentColor\" x=\"21750\">grant</tspan>\n",
       "    <tspan class=\"displacy-tag\" dy=\"2em\" fill=\"currentColor\" x=\"21750\">VERB</tspan>\n",
       "</text>\n",
       "\n",
       "<text class=\"displacy-token\" fill=\"currentColor\" text-anchor=\"middle\" y=\"1097.0\">\n",
       "    <tspan class=\"displacy-word\" fill=\"currentColor\" x=\"21925\">to</tspan>\n",
       "    <tspan class=\"displacy-tag\" dy=\"2em\" fill=\"currentColor\" x=\"21925\">ADP</tspan>\n",
       "</text>\n",
       "\n",
       "<text class=\"displacy-token\" fill=\"currentColor\" text-anchor=\"middle\" y=\"1097.0\">\n",
       "    <tspan class=\"displacy-word\" fill=\"currentColor\" x=\"22100\">Mercury</tspan>\n",
       "    <tspan class=\"displacy-tag\" dy=\"2em\" fill=\"currentColor\" x=\"22100\">PROPN</tspan>\n",
       "</text>\n",
       "\n",
       "<text class=\"displacy-token\" fill=\"currentColor\" text-anchor=\"middle\" y=\"1097.0\">\n",
       "    <tspan class=\"displacy-word\" fill=\"currentColor\" x=\"22275\">the</tspan>\n",
       "    <tspan class=\"displacy-tag\" dy=\"2em\" fill=\"currentColor\" x=\"22275\">DET</tspan>\n",
       "</text>\n",
       "\n",
       "<text class=\"displacy-token\" fill=\"currentColor\" text-anchor=\"middle\" y=\"1097.0\">\n",
       "    <tspan class=\"displacy-word\" fill=\"currentColor\" x=\"22450\">right</tspan>\n",
       "    <tspan class=\"displacy-tag\" dy=\"2em\" fill=\"currentColor\" x=\"22450\">NOUN</tspan>\n",
       "</text>\n",
       "\n",
       "<text class=\"displacy-token\" fill=\"currentColor\" text-anchor=\"middle\" y=\"1097.0\">\n",
       "    <tspan class=\"displacy-word\" fill=\"currentColor\" x=\"22625\">so</tspan>\n",
       "    <tspan class=\"displacy-tag\" dy=\"2em\" fill=\"currentColor\" x=\"22625\">ADV</tspan>\n",
       "</text>\n",
       "\n",
       "<text class=\"displacy-token\" fill=\"currentColor\" text-anchor=\"middle\" y=\"1097.0\">\n",
       "    <tspan class=\"displacy-word\" fill=\"currentColor\" x=\"22800\">specified</tspan>\n",
       "    <tspan class=\"displacy-tag\" dy=\"2em\" fill=\"currentColor\" x=\"22800\">VERB</tspan>\n",
       "</text>\n",
       "\n",
       "<text class=\"displacy-token\" fill=\"currentColor\" text-anchor=\"middle\" y=\"1097.0\">\n",
       "    <tspan class=\"displacy-word\" fill=\"currentColor\" x=\"22975\">in</tspan>\n",
       "    <tspan class=\"displacy-tag\" dy=\"2em\" fill=\"currentColor\" x=\"22975\">ADP</tspan>\n",
       "</text>\n",
       "\n",
       "<text class=\"displacy-token\" fill=\"currentColor\" text-anchor=\"middle\" y=\"1097.0\">\n",
       "    <tspan class=\"displacy-word\" fill=\"currentColor\" x=\"23150\">Section</tspan>\n",
       "    <tspan class=\"displacy-tag\" dy=\"2em\" fill=\"currentColor\" x=\"23150\">NOUN</tspan>\n",
       "</text>\n",
       "\n",
       "<text class=\"displacy-token\" fill=\"currentColor\" text-anchor=\"middle\" y=\"1097.0\">\n",
       "    <tspan class=\"displacy-word\" fill=\"currentColor\" x=\"23325\">6.</tspan>\n",
       "    <tspan class=\"displacy-tag\" dy=\"2em\" fill=\"currentColor\" x=\"23325\">NUM</tspan>\n",
       "</text>\n",
       "\n",
       "<g class=\"displacy-arrow\">\n",
       "    <path class=\"displacy-arc\" id=\"arrow-2bb8ac2446c84da180c20881c0af9be4-0-0\" stroke-width=\"2px\" d=\"M70,1052.0 C70,964.5 170.0,964.5 170.0,1052.0\" fill=\"none\" stroke=\"currentColor\"/>\n",
       "    <text dy=\"1.25em\" style=\"font-size: 0.8em; letter-spacing: 1px\">\n",
       "        <textPath xlink:href=\"#arrow-2bb8ac2446c84da180c20881c0af9be4-0-0\" class=\"displacy-label\" startOffset=\"50%\" side=\"left\" fill=\"currentColor\" text-anchor=\"middle\">nsubj</textPath>\n",
       "    </text>\n",
       "    <path class=\"displacy-arrowhead\" d=\"M70,1054.0 L62,1042.0 78,1042.0\" fill=\"currentColor\"/>\n",
       "</g>\n",
       "\n",
       "<g class=\"displacy-arrow\">\n",
       "    <path class=\"displacy-arc\" id=\"arrow-2bb8ac2446c84da180c20881c0af9be4-0-1\" stroke-width=\"2px\" d=\"M245,1052.0 C245,964.5 345.0,964.5 345.0,1052.0\" fill=\"none\" stroke=\"currentColor\"/>\n",
       "    <text dy=\"1.25em\" style=\"font-size: 0.8em; letter-spacing: 1px\">\n",
       "        <textPath xlink:href=\"#arrow-2bb8ac2446c84da180c20881c0af9be4-0-1\" class=\"displacy-label\" startOffset=\"50%\" side=\"left\" fill=\"currentColor\" text-anchor=\"middle\">cc</textPath>\n",
       "    </text>\n",
       "    <path class=\"displacy-arrowhead\" d=\"M345.0,1054.0 L353.0,1042.0 337.0,1042.0\" fill=\"currentColor\"/>\n",
       "</g>\n",
       "\n",
       "<g class=\"displacy-arrow\">\n",
       "    <path class=\"displacy-arc\" id=\"arrow-2bb8ac2446c84da180c20881c0af9be4-0-2\" stroke-width=\"2px\" d=\"M245,1052.0 C245,877.0 525.0,877.0 525.0,1052.0\" fill=\"none\" stroke=\"currentColor\"/>\n",
       "    <text dy=\"1.25em\" style=\"font-size: 0.8em; letter-spacing: 1px\">\n",
       "        <textPath xlink:href=\"#arrow-2bb8ac2446c84da180c20881c0af9be4-0-2\" class=\"displacy-label\" startOffset=\"50%\" side=\"left\" fill=\"currentColor\" text-anchor=\"middle\">conj</textPath>\n",
       "    </text>\n",
       "    <path class=\"displacy-arrowhead\" d=\"M525.0,1054.0 L533.0,1042.0 517.0,1042.0\" fill=\"currentColor\"/>\n",
       "</g>\n",
       "\n",
       "<g class=\"displacy-arrow\">\n",
       "    <path class=\"displacy-arc\" id=\"arrow-2bb8ac2446c84da180c20881c0af9be4-0-3\" stroke-width=\"2px\" d=\"M770,1052.0 C770,877.0 1050.0,877.0 1050.0,1052.0\" fill=\"none\" stroke=\"currentColor\"/>\n",
       "    <text dy=\"1.25em\" style=\"font-size: 0.8em; letter-spacing: 1px\">\n",
       "        <textPath xlink:href=\"#arrow-2bb8ac2446c84da180c20881c0af9be4-0-3\" class=\"displacy-label\" startOffset=\"50%\" side=\"left\" fill=\"currentColor\" text-anchor=\"middle\">mark</textPath>\n",
       "    </text>\n",
       "    <path class=\"displacy-arrowhead\" d=\"M770,1054.0 L762,1042.0 778,1042.0\" fill=\"currentColor\"/>\n",
       "</g>\n",
       "\n",
       "<g class=\"displacy-arrow\">\n",
       "    <path class=\"displacy-arc\" id=\"arrow-2bb8ac2446c84da180c20881c0af9be4-0-4\" stroke-width=\"2px\" d=\"M945,1052.0 C945,964.5 1045.0,964.5 1045.0,1052.0\" fill=\"none\" stroke=\"currentColor\"/>\n",
       "    <text dy=\"1.25em\" style=\"font-size: 0.8em; letter-spacing: 1px\">\n",
       "        <textPath xlink:href=\"#arrow-2bb8ac2446c84da180c20881c0af9be4-0-4\" class=\"displacy-label\" startOffset=\"50%\" side=\"left\" fill=\"currentColor\" text-anchor=\"middle\">nsubj</textPath>\n",
       "    </text>\n",
       "    <path class=\"displacy-arrowhead\" d=\"M945,1054.0 L937,1042.0 953,1042.0\" fill=\"currentColor\"/>\n",
       "</g>\n",
       "\n",
       "<g class=\"displacy-arrow\">\n",
       "    <path class=\"displacy-arc\" id=\"arrow-2bb8ac2446c84da180c20881c0af9be4-0-5\" stroke-width=\"2px\" d=\"M245,1052.0 C245,614.5 1065.0,614.5 1065.0,1052.0\" fill=\"none\" stroke=\"currentColor\"/>\n",
       "    <text dy=\"1.25em\" style=\"font-size: 0.8em; letter-spacing: 1px\">\n",
       "        <textPath xlink:href=\"#arrow-2bb8ac2446c84da180c20881c0af9be4-0-5\" class=\"displacy-label\" startOffset=\"50%\" side=\"left\" fill=\"currentColor\" text-anchor=\"middle\">ccomp</textPath>\n",
       "    </text>\n",
       "    <path class=\"displacy-arrowhead\" d=\"M1065.0,1054.0 L1073.0,1042.0 1057.0,1042.0\" fill=\"currentColor\"/>\n",
       "</g>\n",
       "\n",
       "<g class=\"displacy-arrow\">\n",
       "    <path class=\"displacy-arc\" id=\"arrow-2bb8ac2446c84da180c20881c0af9be4-0-6\" stroke-width=\"2px\" d=\"M1295,1052.0 C1295,877.0 1575.0,877.0 1575.0,1052.0\" fill=\"none\" stroke=\"currentColor\"/>\n",
       "    <text dy=\"1.25em\" style=\"font-size: 0.8em; letter-spacing: 1px\">\n",
       "        <textPath xlink:href=\"#arrow-2bb8ac2446c84da180c20881c0af9be4-0-6\" class=\"displacy-label\" startOffset=\"50%\" side=\"left\" fill=\"currentColor\" text-anchor=\"middle\">det</textPath>\n",
       "    </text>\n",
       "    <path class=\"displacy-arrowhead\" d=\"M1295,1054.0 L1287,1042.0 1303,1042.0\" fill=\"currentColor\"/>\n",
       "</g>\n",
       "\n",
       "<g class=\"displacy-arrow\">\n",
       "    <path class=\"displacy-arc\" id=\"arrow-2bb8ac2446c84da180c20881c0af9be4-0-7\" stroke-width=\"2px\" d=\"M1470,1052.0 C1470,964.5 1570.0,964.5 1570.0,1052.0\" fill=\"none\" stroke=\"currentColor\"/>\n",
       "    <text dy=\"1.25em\" style=\"font-size: 0.8em; letter-spacing: 1px\">\n",
       "        <textPath xlink:href=\"#arrow-2bb8ac2446c84da180c20881c0af9be4-0-7\" class=\"displacy-label\" startOffset=\"50%\" side=\"left\" fill=\"currentColor\" text-anchor=\"middle\">amod</textPath>\n",
       "    </text>\n",
       "    <path class=\"displacy-arrowhead\" d=\"M1470,1054.0 L1462,1042.0 1478,1042.0\" fill=\"currentColor\"/>\n",
       "</g>\n",
       "\n",
       "<g class=\"displacy-arrow\">\n",
       "    <path class=\"displacy-arc\" id=\"arrow-2bb8ac2446c84da180c20881c0af9be4-0-8\" stroke-width=\"2px\" d=\"M1120,1052.0 C1120,789.5 1580.0,789.5 1580.0,1052.0\" fill=\"none\" stroke=\"currentColor\"/>\n",
       "    <text dy=\"1.25em\" style=\"font-size: 0.8em; letter-spacing: 1px\">\n",
       "        <textPath xlink:href=\"#arrow-2bb8ac2446c84da180c20881c0af9be4-0-8\" class=\"displacy-label\" startOffset=\"50%\" side=\"left\" fill=\"currentColor\" text-anchor=\"middle\">dobj</textPath>\n",
       "    </text>\n",
       "    <path class=\"displacy-arrowhead\" d=\"M1580.0,1054.0 L1588.0,1042.0 1572.0,1042.0\" fill=\"currentColor\"/>\n",
       "</g>\n",
       "\n",
       "<g class=\"displacy-arrow\">\n",
       "    <path class=\"displacy-arc\" id=\"arrow-2bb8ac2446c84da180c20881c0af9be4-0-9\" stroke-width=\"2px\" d=\"M1645,1052.0 C1645,964.5 1745.0,964.5 1745.0,1052.0\" fill=\"none\" stroke=\"currentColor\"/>\n",
       "    <text dy=\"1.25em\" style=\"font-size: 0.8em; letter-spacing: 1px\">\n",
       "        <textPath xlink:href=\"#arrow-2bb8ac2446c84da180c20881c0af9be4-0-9\" class=\"displacy-label\" startOffset=\"50%\" side=\"left\" fill=\"currentColor\" text-anchor=\"middle\">cc</textPath>\n",
       "    </text>\n",
       "    <path class=\"displacy-arrowhead\" d=\"M1745.0,1054.0 L1753.0,1042.0 1737.0,1042.0\" fill=\"currentColor\"/>\n",
       "</g>\n",
       "\n",
       "<g class=\"displacy-arrow\">\n",
       "    <path class=\"displacy-arc\" id=\"arrow-2bb8ac2446c84da180c20881c0af9be4-0-10\" stroke-width=\"2px\" d=\"M1645,1052.0 C1645,877.0 1925.0,877.0 1925.0,1052.0\" fill=\"none\" stroke=\"currentColor\"/>\n",
       "    <text dy=\"1.25em\" style=\"font-size: 0.8em; letter-spacing: 1px\">\n",
       "        <textPath xlink:href=\"#arrow-2bb8ac2446c84da180c20881c0af9be4-0-10\" class=\"displacy-label\" startOffset=\"50%\" side=\"left\" fill=\"currentColor\" text-anchor=\"middle\">conj</textPath>\n",
       "    </text>\n",
       "    <path class=\"displacy-arrowhead\" d=\"M1925.0,1054.0 L1933.0,1042.0 1917.0,1042.0\" fill=\"currentColor\"/>\n",
       "</g>\n",
       "\n",
       "<g class=\"displacy-arrow\">\n",
       "    <path class=\"displacy-arc\" id=\"arrow-2bb8ac2446c84da180c20881c0af9be4-0-11\" stroke-width=\"2px\" d=\"M2170,1052.0 C2170,964.5 2270.0,964.5 2270.0,1052.0\" fill=\"none\" stroke=\"currentColor\"/>\n",
       "    <text dy=\"1.25em\" style=\"font-size: 0.8em; letter-spacing: 1px\">\n",
       "        <textPath xlink:href=\"#arrow-2bb8ac2446c84da180c20881c0af9be4-0-11\" class=\"displacy-label\" startOffset=\"50%\" side=\"left\" fill=\"currentColor\" text-anchor=\"middle\">aux</textPath>\n",
       "    </text>\n",
       "    <path class=\"displacy-arrowhead\" d=\"M2170,1054.0 L2162,1042.0 2178,1042.0\" fill=\"currentColor\"/>\n",
       "</g>\n",
       "\n",
       "<g class=\"displacy-arrow\">\n",
       "    <path class=\"displacy-arc\" id=\"arrow-2bb8ac2446c84da180c20881c0af9be4-0-12\" stroke-width=\"2px\" d=\"M1645,1052.0 C1645,702.0 2285.0,702.0 2285.0,1052.0\" fill=\"none\" stroke=\"currentColor\"/>\n",
       "    <text dy=\"1.25em\" style=\"font-size: 0.8em; letter-spacing: 1px\">\n",
       "        <textPath xlink:href=\"#arrow-2bb8ac2446c84da180c20881c0af9be4-0-12\" class=\"displacy-label\" startOffset=\"50%\" side=\"left\" fill=\"currentColor\" text-anchor=\"middle\">relcl</textPath>\n",
       "    </text>\n",
       "    <path class=\"displacy-arrowhead\" d=\"M2285.0,1054.0 L2293.0,1042.0 2277.0,1042.0\" fill=\"currentColor\"/>\n",
       "</g>\n",
       "\n",
       "<g class=\"displacy-arrow\">\n",
       "    <path class=\"displacy-arc\" id=\"arrow-2bb8ac2446c84da180c20881c0af9be4-0-13\" stroke-width=\"2px\" d=\"M2520,1052.0 C2520,964.5 2620.0,964.5 2620.0,1052.0\" fill=\"none\" stroke=\"currentColor\"/>\n",
       "    <text dy=\"1.25em\" style=\"font-size: 0.8em; letter-spacing: 1px\">\n",
       "        <textPath xlink:href=\"#arrow-2bb8ac2446c84da180c20881c0af9be4-0-13\" class=\"displacy-label\" startOffset=\"50%\" side=\"left\" fill=\"currentColor\" text-anchor=\"middle\">det</textPath>\n",
       "    </text>\n",
       "    <path class=\"displacy-arrowhead\" d=\"M2520,1054.0 L2512,1042.0 2528,1042.0\" fill=\"currentColor\"/>\n",
       "</g>\n",
       "\n",
       "<g class=\"displacy-arrow\">\n",
       "    <path class=\"displacy-arc\" id=\"arrow-2bb8ac2446c84da180c20881c0af9be4-0-14\" stroke-width=\"2px\" d=\"M2345,1052.0 C2345,877.0 2625.0,877.0 2625.0,1052.0\" fill=\"none\" stroke=\"currentColor\"/>\n",
       "    <text dy=\"1.25em\" style=\"font-size: 0.8em; letter-spacing: 1px\">\n",
       "        <textPath xlink:href=\"#arrow-2bb8ac2446c84da180c20881c0af9be4-0-14\" class=\"displacy-label\" startOffset=\"50%\" side=\"left\" fill=\"currentColor\" text-anchor=\"middle\">dobj</textPath>\n",
       "    </text>\n",
       "    <path class=\"displacy-arrowhead\" d=\"M2625.0,1054.0 L2633.0,1042.0 2617.0,1042.0\" fill=\"currentColor\"/>\n",
       "</g>\n",
       "\n",
       "<g class=\"displacy-arrow\">\n",
       "    <path class=\"displacy-arc\" id=\"arrow-2bb8ac2446c84da180c20881c0af9be4-0-15\" stroke-width=\"2px\" d=\"M2695,1052.0 C2695,964.5 2795.0,964.5 2795.0,1052.0\" fill=\"none\" stroke=\"currentColor\"/>\n",
       "    <text dy=\"1.25em\" style=\"font-size: 0.8em; letter-spacing: 1px\">\n",
       "        <textPath xlink:href=\"#arrow-2bb8ac2446c84da180c20881c0af9be4-0-15\" class=\"displacy-label\" startOffset=\"50%\" side=\"left\" fill=\"currentColor\" text-anchor=\"middle\">cc</textPath>\n",
       "    </text>\n",
       "    <path class=\"displacy-arrowhead\" d=\"M2795.0,1054.0 L2803.0,1042.0 2787.0,1042.0\" fill=\"currentColor\"/>\n",
       "</g>\n",
       "\n",
       "<g class=\"displacy-arrow\">\n",
       "    <path class=\"displacy-arc\" id=\"arrow-2bb8ac2446c84da180c20881c0af9be4-0-16\" stroke-width=\"2px\" d=\"M2695,1052.0 C2695,877.0 2975.0,877.0 2975.0,1052.0\" fill=\"none\" stroke=\"currentColor\"/>\n",
       "    <text dy=\"1.25em\" style=\"font-size: 0.8em; letter-spacing: 1px\">\n",
       "        <textPath xlink:href=\"#arrow-2bb8ac2446c84da180c20881c0af9be4-0-16\" class=\"displacy-label\" startOffset=\"50%\" side=\"left\" fill=\"currentColor\" text-anchor=\"middle\">conj</textPath>\n",
       "    </text>\n",
       "    <path class=\"displacy-arrowhead\" d=\"M2975.0,1054.0 L2983.0,1042.0 2967.0,1042.0\" fill=\"currentColor\"/>\n",
       "</g>\n",
       "\n",
       "<g class=\"displacy-arrow\">\n",
       "    <path class=\"displacy-arc\" id=\"arrow-2bb8ac2446c84da180c20881c0af9be4-0-17\" stroke-width=\"2px\" d=\"M2695,1052.0 C2695,789.5 3155.0,789.5 3155.0,1052.0\" fill=\"none\" stroke=\"currentColor\"/>\n",
       "    <text dy=\"1.25em\" style=\"font-size: 0.8em; letter-spacing: 1px\">\n",
       "        <textPath xlink:href=\"#arrow-2bb8ac2446c84da180c20881c0af9be4-0-17\" class=\"displacy-label\" startOffset=\"50%\" side=\"left\" fill=\"currentColor\" text-anchor=\"middle\">acl</textPath>\n",
       "    </text>\n",
       "    <path class=\"displacy-arrowhead\" d=\"M3155.0,1054.0 L3163.0,1042.0 3147.0,1042.0\" fill=\"currentColor\"/>\n",
       "</g>\n",
       "\n",
       "<g class=\"displacy-arrow\">\n",
       "    <path class=\"displacy-arc\" id=\"arrow-2bb8ac2446c84da180c20881c0af9be4-0-18\" stroke-width=\"2px\" d=\"M3220,1052.0 C3220,964.5 3320.0,964.5 3320.0,1052.0\" fill=\"none\" stroke=\"currentColor\"/>\n",
       "    <text dy=\"1.25em\" style=\"font-size: 0.8em; letter-spacing: 1px\">\n",
       "        <textPath xlink:href=\"#arrow-2bb8ac2446c84da180c20881c0af9be4-0-18\" class=\"displacy-label\" startOffset=\"50%\" side=\"left\" fill=\"currentColor\" text-anchor=\"middle\">prt</textPath>\n",
       "    </text>\n",
       "    <path class=\"displacy-arrowhead\" d=\"M3320.0,1054.0 L3328.0,1042.0 3312.0,1042.0\" fill=\"currentColor\"/>\n",
       "</g>\n",
       "\n",
       "<g class=\"displacy-arrow\">\n",
       "    <path class=\"displacy-arc\" id=\"arrow-2bb8ac2446c84da180c20881c0af9be4-0-19\" stroke-width=\"2px\" d=\"M3220,1052.0 C3220,877.0 3500.0,877.0 3500.0,1052.0\" fill=\"none\" stroke=\"currentColor\"/>\n",
       "    <text dy=\"1.25em\" style=\"font-size: 0.8em; letter-spacing: 1px\">\n",
       "        <textPath xlink:href=\"#arrow-2bb8ac2446c84da180c20881c0af9be4-0-19\" class=\"displacy-label\" startOffset=\"50%\" side=\"left\" fill=\"currentColor\" text-anchor=\"middle\">prep</textPath>\n",
       "    </text>\n",
       "    <path class=\"displacy-arrowhead\" d=\"M3500.0,1054.0 L3508.0,1042.0 3492.0,1042.0\" fill=\"currentColor\"/>\n",
       "</g>\n",
       "\n",
       "<g class=\"displacy-arrow\">\n",
       "    <path class=\"displacy-arc\" id=\"arrow-2bb8ac2446c84da180c20881c0af9be4-0-20\" stroke-width=\"2px\" d=\"M3570,1052.0 C3570,964.5 3670.0,964.5 3670.0,1052.0\" fill=\"none\" stroke=\"currentColor\"/>\n",
       "    <text dy=\"1.25em\" style=\"font-size: 0.8em; letter-spacing: 1px\">\n",
       "        <textPath xlink:href=\"#arrow-2bb8ac2446c84da180c20881c0af9be4-0-20\" class=\"displacy-label\" startOffset=\"50%\" side=\"left\" fill=\"currentColor\" text-anchor=\"middle\">pobj</textPath>\n",
       "    </text>\n",
       "    <path class=\"displacy-arrowhead\" d=\"M3670.0,1054.0 L3678.0,1042.0 3662.0,1042.0\" fill=\"currentColor\"/>\n",
       "</g>\n",
       "\n",
       "<g class=\"displacy-arrow\">\n",
       "    <path class=\"displacy-arc\" id=\"arrow-2bb8ac2446c84da180c20881c0af9be4-0-21\" stroke-width=\"2px\" d=\"M3745,1052.0 C3745,964.5 3845.0,964.5 3845.0,1052.0\" fill=\"none\" stroke=\"currentColor\"/>\n",
       "    <text dy=\"1.25em\" style=\"font-size: 0.8em; letter-spacing: 1px\">\n",
       "        <textPath xlink:href=\"#arrow-2bb8ac2446c84da180c20881c0af9be4-0-21\" class=\"displacy-label\" startOffset=\"50%\" side=\"left\" fill=\"currentColor\" text-anchor=\"middle\">nummod</textPath>\n",
       "    </text>\n",
       "    <path class=\"displacy-arrowhead\" d=\"M3845.0,1054.0 L3853.0,1042.0 3837.0,1042.0\" fill=\"currentColor\"/>\n",
       "</g>\n",
       "\n",
       "<g class=\"displacy-arrow\">\n",
       "    <path class=\"displacy-arc\" id=\"arrow-2bb8ac2446c84da180c20881c0af9be4-0-22\" stroke-width=\"2px\" d=\"M3745,1052.0 C3745,877.0 4025.0,877.0 4025.0,1052.0\" fill=\"none\" stroke=\"currentColor\"/>\n",
       "    <text dy=\"1.25em\" style=\"font-size: 0.8em; letter-spacing: 1px\">\n",
       "        <textPath xlink:href=\"#arrow-2bb8ac2446c84da180c20881c0af9be4-0-22\" class=\"displacy-label\" startOffset=\"50%\" side=\"left\" fill=\"currentColor\" text-anchor=\"middle\">cc</textPath>\n",
       "    </text>\n",
       "    <path class=\"displacy-arrowhead\" d=\"M4025.0,1054.0 L4033.0,1042.0 4017.0,1042.0\" fill=\"currentColor\"/>\n",
       "</g>\n",
       "\n",
       "<g class=\"displacy-arrow\">\n",
       "    <path class=\"displacy-arc\" id=\"arrow-2bb8ac2446c84da180c20881c0af9be4-0-23\" stroke-width=\"2px\" d=\"M3745,1052.0 C3745,789.5 4205.0,789.5 4205.0,1052.0\" fill=\"none\" stroke=\"currentColor\"/>\n",
       "    <text dy=\"1.25em\" style=\"font-size: 0.8em; letter-spacing: 1px\">\n",
       "        <textPath xlink:href=\"#arrow-2bb8ac2446c84da180c20881c0af9be4-0-23\" class=\"displacy-label\" startOffset=\"50%\" side=\"left\" fill=\"currentColor\" text-anchor=\"middle\">conj</textPath>\n",
       "    </text>\n",
       "    <path class=\"displacy-arrowhead\" d=\"M4205.0,1054.0 L4213.0,1042.0 4197.0,1042.0\" fill=\"currentColor\"/>\n",
       "</g>\n",
       "\n",
       "<g class=\"displacy-arrow\">\n",
       "    <path class=\"displacy-arc\" id=\"arrow-2bb8ac2446c84da180c20881c0af9be4-0-24\" stroke-width=\"2px\" d=\"M2345,1052.0 C2345,439.5 4400.0,439.5 4400.0,1052.0\" fill=\"none\" stroke=\"currentColor\"/>\n",
       "    <text dy=\"1.25em\" style=\"font-size: 0.8em; letter-spacing: 1px\">\n",
       "        <textPath xlink:href=\"#arrow-2bb8ac2446c84da180c20881c0af9be4-0-24\" class=\"displacy-label\" startOffset=\"50%\" side=\"left\" fill=\"currentColor\" text-anchor=\"middle\">advmod</textPath>\n",
       "    </text>\n",
       "    <path class=\"displacy-arrowhead\" d=\"M4400.0,1054.0 L4408.0,1042.0 4392.0,1042.0\" fill=\"currentColor\"/>\n",
       "</g>\n",
       "\n",
       "<g class=\"displacy-arrow\">\n",
       "    <path class=\"displacy-arc\" id=\"arrow-2bb8ac2446c84da180c20881c0af9be4-0-25\" stroke-width=\"2px\" d=\"M1120,1052.0 C1120,177.0 4590.0,177.0 4590.0,1052.0\" fill=\"none\" stroke=\"currentColor\"/>\n",
       "    <text dy=\"1.25em\" style=\"font-size: 0.8em; letter-spacing: 1px\">\n",
       "        <textPath xlink:href=\"#arrow-2bb8ac2446c84da180c20881c0af9be4-0-25\" class=\"displacy-label\" startOffset=\"50%\" side=\"left\" fill=\"currentColor\" text-anchor=\"middle\">cc</textPath>\n",
       "    </text>\n",
       "    <path class=\"displacy-arrowhead\" d=\"M4590.0,1054.0 L4598.0,1042.0 4582.0,1042.0\" fill=\"currentColor\"/>\n",
       "</g>\n",
       "\n",
       "<g class=\"displacy-arrow\">\n",
       "    <path class=\"displacy-arc\" id=\"arrow-2bb8ac2446c84da180c20881c0af9be4-0-26\" stroke-width=\"2px\" d=\"M4795,1052.0 C4795,877.0 5075.0,877.0 5075.0,1052.0\" fill=\"none\" stroke=\"currentColor\"/>\n",
       "    <text dy=\"1.25em\" style=\"font-size: 0.8em; letter-spacing: 1px\">\n",
       "        <textPath xlink:href=\"#arrow-2bb8ac2446c84da180c20881c0af9be4-0-26\" class=\"displacy-label\" startOffset=\"50%\" side=\"left\" fill=\"currentColor\" text-anchor=\"middle\">mark</textPath>\n",
       "    </text>\n",
       "    <path class=\"displacy-arrowhead\" d=\"M4795,1054.0 L4787,1042.0 4803,1042.0\" fill=\"currentColor\"/>\n",
       "</g>\n",
       "\n",
       "<g class=\"displacy-arrow\">\n",
       "    <path class=\"displacy-arc\" id=\"arrow-2bb8ac2446c84da180c20881c0af9be4-0-27\" stroke-width=\"2px\" d=\"M4970,1052.0 C4970,964.5 5070.0,964.5 5070.0,1052.0\" fill=\"none\" stroke=\"currentColor\"/>\n",
       "    <text dy=\"1.25em\" style=\"font-size: 0.8em; letter-spacing: 1px\">\n",
       "        <textPath xlink:href=\"#arrow-2bb8ac2446c84da180c20881c0af9be4-0-27\" class=\"displacy-label\" startOffset=\"50%\" side=\"left\" fill=\"currentColor\" text-anchor=\"middle\">expl</textPath>\n",
       "    </text>\n",
       "    <path class=\"displacy-arrowhead\" d=\"M4970,1054.0 L4962,1042.0 4978,1042.0\" fill=\"currentColor\"/>\n",
       "</g>\n",
       "\n",
       "<g class=\"displacy-arrow\">\n",
       "    <path class=\"displacy-arc\" id=\"arrow-2bb8ac2446c84da180c20881c0af9be4-0-28\" stroke-width=\"2px\" d=\"M1120,1052.0 C1120,89.5 5120.0,89.5 5120.0,1052.0\" fill=\"none\" stroke=\"currentColor\"/>\n",
       "    <text dy=\"1.25em\" style=\"font-size: 0.8em; letter-spacing: 1px\">\n",
       "        <textPath xlink:href=\"#arrow-2bb8ac2446c84da180c20881c0af9be4-0-28\" class=\"displacy-label\" startOffset=\"50%\" side=\"left\" fill=\"currentColor\" text-anchor=\"middle\">conj</textPath>\n",
       "    </text>\n",
       "    <path class=\"displacy-arrowhead\" d=\"M5120.0,1054.0 L5128.0,1042.0 5112.0,1042.0\" fill=\"currentColor\"/>\n",
       "</g>\n",
       "\n",
       "<g class=\"displacy-arrow\">\n",
       "    <path class=\"displacy-arc\" id=\"arrow-2bb8ac2446c84da180c20881c0af9be4-0-29\" stroke-width=\"2px\" d=\"M5320,1052.0 C5320,877.0 5600.0,877.0 5600.0,1052.0\" fill=\"none\" stroke=\"currentColor\"/>\n",
       "    <text dy=\"1.25em\" style=\"font-size: 0.8em; letter-spacing: 1px\">\n",
       "        <textPath xlink:href=\"#arrow-2bb8ac2446c84da180c20881c0af9be4-0-29\" class=\"displacy-label\" startOffset=\"50%\" side=\"left\" fill=\"currentColor\" text-anchor=\"middle\">det</textPath>\n",
       "    </text>\n",
       "    <path class=\"displacy-arrowhead\" d=\"M5320,1054.0 L5312,1042.0 5328,1042.0\" fill=\"currentColor\"/>\n",
       "</g>\n",
       "\n",
       "<g class=\"displacy-arrow\">\n",
       "    <path class=\"displacy-arc\" id=\"arrow-2bb8ac2446c84da180c20881c0af9be4-0-30\" stroke-width=\"2px\" d=\"M5495,1052.0 C5495,964.5 5595.0,964.5 5595.0,1052.0\" fill=\"none\" stroke=\"currentColor\"/>\n",
       "    <text dy=\"1.25em\" style=\"font-size: 0.8em; letter-spacing: 1px\">\n",
       "        <textPath xlink:href=\"#arrow-2bb8ac2446c84da180c20881c0af9be4-0-30\" class=\"displacy-label\" startOffset=\"50%\" side=\"left\" fill=\"currentColor\" text-anchor=\"middle\">amod</textPath>\n",
       "    </text>\n",
       "    <path class=\"displacy-arrowhead\" d=\"M5495,1054.0 L5487,1042.0 5503,1042.0\" fill=\"currentColor\"/>\n",
       "</g>\n",
       "\n",
       "<g class=\"displacy-arrow\">\n",
       "    <path class=\"displacy-arc\" id=\"arrow-2bb8ac2446c84da180c20881c0af9be4-0-31\" stroke-width=\"2px\" d=\"M5145,1052.0 C5145,789.5 5605.0,789.5 5605.0,1052.0\" fill=\"none\" stroke=\"currentColor\"/>\n",
       "    <text dy=\"1.25em\" style=\"font-size: 0.8em; letter-spacing: 1px\">\n",
       "        <textPath xlink:href=\"#arrow-2bb8ac2446c84da180c20881c0af9be4-0-31\" class=\"displacy-label\" startOffset=\"50%\" side=\"left\" fill=\"currentColor\" text-anchor=\"middle\">attr</textPath>\n",
       "    </text>\n",
       "    <path class=\"displacy-arrowhead\" d=\"M5605.0,1054.0 L5613.0,1042.0 5597.0,1042.0\" fill=\"currentColor\"/>\n",
       "</g>\n",
       "\n",
       "<g class=\"displacy-arrow\">\n",
       "    <path class=\"displacy-arc\" id=\"arrow-2bb8ac2446c84da180c20881c0af9be4-0-32\" stroke-width=\"2px\" d=\"M5670,1052.0 C5670,964.5 5770.0,964.5 5770.0,1052.0\" fill=\"none\" stroke=\"currentColor\"/>\n",
       "    <text dy=\"1.25em\" style=\"font-size: 0.8em; letter-spacing: 1px\">\n",
       "        <textPath xlink:href=\"#arrow-2bb8ac2446c84da180c20881c0af9be4-0-32\" class=\"displacy-label\" startOffset=\"50%\" side=\"left\" fill=\"currentColor\" text-anchor=\"middle\">conj</textPath>\n",
       "    </text>\n",
       "    <path class=\"displacy-arrowhead\" d=\"M5770.0,1054.0 L5778.0,1042.0 5762.0,1042.0\" fill=\"currentColor\"/>\n",
       "</g>\n",
       "\n",
       "<g class=\"displacy-arrow\">\n",
       "    <path class=\"displacy-arc\" id=\"arrow-2bb8ac2446c84da180c20881c0af9be4-0-33\" stroke-width=\"2px\" d=\"M5845,1052.0 C5845,964.5 5945.0,964.5 5945.0,1052.0\" fill=\"none\" stroke=\"currentColor\"/>\n",
       "    <text dy=\"1.25em\" style=\"font-size: 0.8em; letter-spacing: 1px\">\n",
       "        <textPath xlink:href=\"#arrow-2bb8ac2446c84da180c20881c0af9be4-0-33\" class=\"displacy-label\" startOffset=\"50%\" side=\"left\" fill=\"currentColor\" text-anchor=\"middle\">cc</textPath>\n",
       "    </text>\n",
       "    <path class=\"displacy-arrowhead\" d=\"M5945.0,1054.0 L5953.0,1042.0 5937.0,1042.0\" fill=\"currentColor\"/>\n",
       "</g>\n",
       "\n",
       "<g class=\"displacy-arrow\">\n",
       "    <path class=\"displacy-arc\" id=\"arrow-2bb8ac2446c84da180c20881c0af9be4-0-34\" stroke-width=\"2px\" d=\"M6195,1052.0 C6195,964.5 6295.0,964.5 6295.0,1052.0\" fill=\"none\" stroke=\"currentColor\"/>\n",
       "    <text dy=\"1.25em\" style=\"font-size: 0.8em; letter-spacing: 1px\">\n",
       "        <textPath xlink:href=\"#arrow-2bb8ac2446c84da180c20881c0af9be4-0-34\" class=\"displacy-label\" startOffset=\"50%\" side=\"left\" fill=\"currentColor\" text-anchor=\"middle\">compound</textPath>\n",
       "    </text>\n",
       "    <path class=\"displacy-arrowhead\" d=\"M6195,1054.0 L6187,1042.0 6203,1042.0\" fill=\"currentColor\"/>\n",
       "</g>\n",
       "\n",
       "<g class=\"displacy-arrow\">\n",
       "    <path class=\"displacy-arc\" id=\"arrow-2bb8ac2446c84da180c20881c0af9be4-0-35\" stroke-width=\"2px\" d=\"M5845,1052.0 C5845,789.5 6305.0,789.5 6305.0,1052.0\" fill=\"none\" stroke=\"currentColor\"/>\n",
       "    <text dy=\"1.25em\" style=\"font-size: 0.8em; letter-spacing: 1px\">\n",
       "        <textPath xlink:href=\"#arrow-2bb8ac2446c84da180c20881c0af9be4-0-35\" class=\"displacy-label\" startOffset=\"50%\" side=\"left\" fill=\"currentColor\" text-anchor=\"middle\">conj</textPath>\n",
       "    </text>\n",
       "    <path class=\"displacy-arrowhead\" d=\"M6305.0,1054.0 L6313.0,1042.0 6297.0,1042.0\" fill=\"currentColor\"/>\n",
       "</g>\n",
       "\n",
       "<g class=\"displacy-arrow\">\n",
       "    <path class=\"displacy-arc\" id=\"arrow-2bb8ac2446c84da180c20881c0af9be4-0-36\" stroke-width=\"2px\" d=\"M6370,1052.0 C6370,964.5 6470.0,964.5 6470.0,1052.0\" fill=\"none\" stroke=\"currentColor\"/>\n",
       "    <text dy=\"1.25em\" style=\"font-size: 0.8em; letter-spacing: 1px\">\n",
       "        <textPath xlink:href=\"#arrow-2bb8ac2446c84da180c20881c0af9be4-0-36\" class=\"displacy-label\" startOffset=\"50%\" side=\"left\" fill=\"currentColor\" text-anchor=\"middle\">prep</textPath>\n",
       "    </text>\n",
       "    <path class=\"displacy-arrowhead\" d=\"M6470.0,1054.0 L6478.0,1042.0 6462.0,1042.0\" fill=\"currentColor\"/>\n",
       "</g>\n",
       "\n",
       "<g class=\"displacy-arrow\">\n",
       "    <path class=\"displacy-arc\" id=\"arrow-2bb8ac2446c84da180c20881c0af9be4-0-37\" stroke-width=\"2px\" d=\"M6720,1052.0 C6720,964.5 6820.0,964.5 6820.0,1052.0\" fill=\"none\" stroke=\"currentColor\"/>\n",
       "    <text dy=\"1.25em\" style=\"font-size: 0.8em; letter-spacing: 1px\">\n",
       "        <textPath xlink:href=\"#arrow-2bb8ac2446c84da180c20881c0af9be4-0-37\" class=\"displacy-label\" startOffset=\"50%\" side=\"left\" fill=\"currentColor\" text-anchor=\"middle\">nsubj</textPath>\n",
       "    </text>\n",
       "    <path class=\"displacy-arrowhead\" d=\"M6720,1054.0 L6712,1042.0 6728,1042.0\" fill=\"currentColor\"/>\n",
       "</g>\n",
       "\n",
       "<g class=\"displacy-arrow\">\n",
       "    <path class=\"displacy-arc\" id=\"arrow-2bb8ac2446c84da180c20881c0af9be4-0-38\" stroke-width=\"2px\" d=\"M7070,1052.0 C7070,877.0 7350.0,877.0 7350.0,1052.0\" fill=\"none\" stroke=\"currentColor\"/>\n",
       "    <text dy=\"1.25em\" style=\"font-size: 0.8em; letter-spacing: 1px\">\n",
       "        <textPath xlink:href=\"#arrow-2bb8ac2446c84da180c20881c0af9be4-0-38\" class=\"displacy-label\" startOffset=\"50%\" side=\"left\" fill=\"currentColor\" text-anchor=\"middle\">det</textPath>\n",
       "    </text>\n",
       "    <path class=\"displacy-arrowhead\" d=\"M7070,1054.0 L7062,1042.0 7078,1042.0\" fill=\"currentColor\"/>\n",
       "</g>\n",
       "\n",
       "<g class=\"displacy-arrow\">\n",
       "    <path class=\"displacy-arc\" id=\"arrow-2bb8ac2446c84da180c20881c0af9be4-0-39\" stroke-width=\"2px\" d=\"M7245,1052.0 C7245,964.5 7345.0,964.5 7345.0,1052.0\" fill=\"none\" stroke=\"currentColor\"/>\n",
       "    <text dy=\"1.25em\" style=\"font-size: 0.8em; letter-spacing: 1px\">\n",
       "        <textPath xlink:href=\"#arrow-2bb8ac2446c84da180c20881c0af9be4-0-39\" class=\"displacy-label\" startOffset=\"50%\" side=\"left\" fill=\"currentColor\" text-anchor=\"middle\">amod</textPath>\n",
       "    </text>\n",
       "    <path class=\"displacy-arrowhead\" d=\"M7245,1054.0 L7237,1042.0 7253,1042.0\" fill=\"currentColor\"/>\n",
       "</g>\n",
       "\n",
       "<g class=\"displacy-arrow\">\n",
       "    <path class=\"displacy-arc\" id=\"arrow-2bb8ac2446c84da180c20881c0af9be4-0-40\" stroke-width=\"2px\" d=\"M6895,1052.0 C6895,789.5 7355.0,789.5 7355.0,1052.0\" fill=\"none\" stroke=\"currentColor\"/>\n",
       "    <text dy=\"1.25em\" style=\"font-size: 0.8em; letter-spacing: 1px\">\n",
       "        <textPath xlink:href=\"#arrow-2bb8ac2446c84da180c20881c0af9be4-0-40\" class=\"displacy-label\" startOffset=\"50%\" side=\"left\" fill=\"currentColor\" text-anchor=\"middle\">dobj</textPath>\n",
       "    </text>\n",
       "    <path class=\"displacy-arrowhead\" d=\"M7355.0,1054.0 L7363.0,1042.0 7347.0,1042.0\" fill=\"currentColor\"/>\n",
       "</g>\n",
       "\n",
       "<g class=\"displacy-arrow\">\n",
       "    <path class=\"displacy-arc\" id=\"arrow-2bb8ac2446c84da180c20881c0af9be4-0-41\" stroke-width=\"2px\" d=\"M7420,1052.0 C7420,964.5 7520.0,964.5 7520.0,1052.0\" fill=\"none\" stroke=\"currentColor\"/>\n",
       "    <text dy=\"1.25em\" style=\"font-size: 0.8em; letter-spacing: 1px\">\n",
       "        <textPath xlink:href=\"#arrow-2bb8ac2446c84da180c20881c0af9be4-0-41\" class=\"displacy-label\" startOffset=\"50%\" side=\"left\" fill=\"currentColor\" text-anchor=\"middle\">cc</textPath>\n",
       "    </text>\n",
       "    <path class=\"displacy-arrowhead\" d=\"M7520.0,1054.0 L7528.0,1042.0 7512.0,1042.0\" fill=\"currentColor\"/>\n",
       "</g>\n",
       "\n",
       "<g class=\"displacy-arrow\">\n",
       "    <path class=\"displacy-arc\" id=\"arrow-2bb8ac2446c84da180c20881c0af9be4-0-42\" stroke-width=\"2px\" d=\"M7420,1052.0 C7420,877.0 7700.0,877.0 7700.0,1052.0\" fill=\"none\" stroke=\"currentColor\"/>\n",
       "    <text dy=\"1.25em\" style=\"font-size: 0.8em; letter-spacing: 1px\">\n",
       "        <textPath xlink:href=\"#arrow-2bb8ac2446c84da180c20881c0af9be4-0-42\" class=\"displacy-label\" startOffset=\"50%\" side=\"left\" fill=\"currentColor\" text-anchor=\"middle\">conj</textPath>\n",
       "    </text>\n",
       "    <path class=\"displacy-arrowhead\" d=\"M7700.0,1054.0 L7708.0,1042.0 7692.0,1042.0\" fill=\"currentColor\"/>\n",
       "</g>\n",
       "\n",
       "<g class=\"displacy-arrow\">\n",
       "    <path class=\"displacy-arc\" id=\"arrow-2bb8ac2446c84da180c20881c0af9be4-0-43\" stroke-width=\"2px\" d=\"M7420,1052.0 C7420,789.5 7880.0,789.5 7880.0,1052.0\" fill=\"none\" stroke=\"currentColor\"/>\n",
       "    <text dy=\"1.25em\" style=\"font-size: 0.8em; letter-spacing: 1px\">\n",
       "        <textPath xlink:href=\"#arrow-2bb8ac2446c84da180c20881c0af9be4-0-43\" class=\"displacy-label\" startOffset=\"50%\" side=\"left\" fill=\"currentColor\" text-anchor=\"middle\">conj</textPath>\n",
       "    </text>\n",
       "    <path class=\"displacy-arrowhead\" d=\"M7880.0,1054.0 L7888.0,1042.0 7872.0,1042.0\" fill=\"currentColor\"/>\n",
       "</g>\n",
       "\n",
       "<g class=\"displacy-arrow\">\n",
       "    <path class=\"displacy-arc\" id=\"arrow-2bb8ac2446c84da180c20881c0af9be4-0-44\" stroke-width=\"2px\" d=\"M7945,1052.0 C7945,964.5 8045.0,964.5 8045.0,1052.0\" fill=\"none\" stroke=\"currentColor\"/>\n",
       "    <text dy=\"1.25em\" style=\"font-size: 0.8em; letter-spacing: 1px\">\n",
       "        <textPath xlink:href=\"#arrow-2bb8ac2446c84da180c20881c0af9be4-0-44\" class=\"displacy-label\" startOffset=\"50%\" side=\"left\" fill=\"currentColor\" text-anchor=\"middle\">cc</textPath>\n",
       "    </text>\n",
       "    <path class=\"displacy-arrowhead\" d=\"M8045.0,1054.0 L8053.0,1042.0 8037.0,1042.0\" fill=\"currentColor\"/>\n",
       "</g>\n",
       "\n",
       "<g class=\"displacy-arrow\">\n",
       "    <path class=\"displacy-arc\" id=\"arrow-2bb8ac2446c84da180c20881c0af9be4-0-45\" stroke-width=\"2px\" d=\"M7945,1052.0 C7945,877.0 8225.0,877.0 8225.0,1052.0\" fill=\"none\" stroke=\"currentColor\"/>\n",
       "    <text dy=\"1.25em\" style=\"font-size: 0.8em; letter-spacing: 1px\">\n",
       "        <textPath xlink:href=\"#arrow-2bb8ac2446c84da180c20881c0af9be4-0-45\" class=\"displacy-label\" startOffset=\"50%\" side=\"left\" fill=\"currentColor\" text-anchor=\"middle\">conj</textPath>\n",
       "    </text>\n",
       "    <path class=\"displacy-arrowhead\" d=\"M8225.0,1054.0 L8233.0,1042.0 8217.0,1042.0\" fill=\"currentColor\"/>\n",
       "</g>\n",
       "\n",
       "<g class=\"displacy-arrow\">\n",
       "    <path class=\"displacy-arc\" id=\"arrow-2bb8ac2446c84da180c20881c0af9be4-0-46\" stroke-width=\"2px\" d=\"M6895,1052.0 C6895,527.0 8420.0,527.0 8420.0,1052.0\" fill=\"none\" stroke=\"currentColor\"/>\n",
       "    <text dy=\"1.25em\" style=\"font-size: 0.8em; letter-spacing: 1px\">\n",
       "        <textPath xlink:href=\"#arrow-2bb8ac2446c84da180c20881c0af9be4-0-46\" class=\"displacy-label\" startOffset=\"50%\" side=\"left\" fill=\"currentColor\" text-anchor=\"middle\">cc</textPath>\n",
       "    </text>\n",
       "    <path class=\"displacy-arrowhead\" d=\"M8420.0,1054.0 L8428.0,1042.0 8412.0,1042.0\" fill=\"currentColor\"/>\n",
       "</g>\n",
       "\n",
       "<g class=\"displacy-arrow\">\n",
       "    <path class=\"displacy-arc\" id=\"arrow-2bb8ac2446c84da180c20881c0af9be4-0-47\" stroke-width=\"2px\" d=\"M8645,1052.0 C8645,877.0 8925.0,877.0 8925.0,1052.0\" fill=\"none\" stroke=\"currentColor\"/>\n",
       "    <text dy=\"1.25em\" style=\"font-size: 0.8em; letter-spacing: 1px\">\n",
       "        <textPath xlink:href=\"#arrow-2bb8ac2446c84da180c20881c0af9be4-0-47\" class=\"displacy-label\" startOffset=\"50%\" side=\"left\" fill=\"currentColor\" text-anchor=\"middle\">aux</textPath>\n",
       "    </text>\n",
       "    <path class=\"displacy-arrowhead\" d=\"M8645,1054.0 L8637,1042.0 8653,1042.0\" fill=\"currentColor\"/>\n",
       "</g>\n",
       "\n",
       "<g class=\"displacy-arrow\">\n",
       "    <path class=\"displacy-arc\" id=\"arrow-2bb8ac2446c84da180c20881c0af9be4-0-48\" stroke-width=\"2px\" d=\"M8820,1052.0 C8820,964.5 8920.0,964.5 8920.0,1052.0\" fill=\"none\" stroke=\"currentColor\"/>\n",
       "    <text dy=\"1.25em\" style=\"font-size: 0.8em; letter-spacing: 1px\">\n",
       "        <textPath xlink:href=\"#arrow-2bb8ac2446c84da180c20881c0af9be4-0-48\" class=\"displacy-label\" startOffset=\"50%\" side=\"left\" fill=\"currentColor\" text-anchor=\"middle\">nsubj</textPath>\n",
       "    </text>\n",
       "    <path class=\"displacy-arrowhead\" d=\"M8820,1054.0 L8812,1042.0 8828,1042.0\" fill=\"currentColor\"/>\n",
       "</g>\n",
       "\n",
       "<g class=\"displacy-arrow\">\n",
       "    <path class=\"displacy-arc\" id=\"arrow-2bb8ac2446c84da180c20881c0af9be4-0-49\" stroke-width=\"2px\" d=\"M6895,1052.0 C6895,439.5 8950.0,439.5 8950.0,1052.0\" fill=\"none\" stroke=\"currentColor\"/>\n",
       "    <text dy=\"1.25em\" style=\"font-size: 0.8em; letter-spacing: 1px\">\n",
       "        <textPath xlink:href=\"#arrow-2bb8ac2446c84da180c20881c0af9be4-0-49\" class=\"displacy-label\" startOffset=\"50%\" side=\"left\" fill=\"currentColor\" text-anchor=\"middle\">conj</textPath>\n",
       "    </text>\n",
       "    <path class=\"displacy-arrowhead\" d=\"M8950.0,1054.0 L8958.0,1042.0 8942.0,1042.0\" fill=\"currentColor\"/>\n",
       "</g>\n",
       "\n",
       "<g class=\"displacy-arrow\">\n",
       "    <path class=\"displacy-arc\" id=\"arrow-2bb8ac2446c84da180c20881c0af9be4-0-50\" stroke-width=\"2px\" d=\"M9170,1052.0 C9170,964.5 9270.0,964.5 9270.0,1052.0\" fill=\"none\" stroke=\"currentColor\"/>\n",
       "    <text dy=\"1.25em\" style=\"font-size: 0.8em; letter-spacing: 1px\">\n",
       "        <textPath xlink:href=\"#arrow-2bb8ac2446c84da180c20881c0af9be4-0-50\" class=\"displacy-label\" startOffset=\"50%\" side=\"left\" fill=\"currentColor\" text-anchor=\"middle\">det</textPath>\n",
       "    </text>\n",
       "    <path class=\"displacy-arrowhead\" d=\"M9170,1054.0 L9162,1042.0 9178,1042.0\" fill=\"currentColor\"/>\n",
       "</g>\n",
       "\n",
       "<g class=\"displacy-arrow\">\n",
       "    <path class=\"displacy-arc\" id=\"arrow-2bb8ac2446c84da180c20881c0af9be4-0-51\" stroke-width=\"2px\" d=\"M8995,1052.0 C8995,877.0 9275.0,877.0 9275.0,1052.0\" fill=\"none\" stroke=\"currentColor\"/>\n",
       "    <text dy=\"1.25em\" style=\"font-size: 0.8em; letter-spacing: 1px\">\n",
       "        <textPath xlink:href=\"#arrow-2bb8ac2446c84da180c20881c0af9be4-0-51\" class=\"displacy-label\" startOffset=\"50%\" side=\"left\" fill=\"currentColor\" text-anchor=\"middle\">dobj</textPath>\n",
       "    </text>\n",
       "    <path class=\"displacy-arrowhead\" d=\"M9275.0,1054.0 L9283.0,1042.0 9267.0,1042.0\" fill=\"currentColor\"/>\n",
       "</g>\n",
       "\n",
       "<g class=\"displacy-arrow\">\n",
       "    <path class=\"displacy-arc\" id=\"arrow-2bb8ac2446c84da180c20881c0af9be4-0-52\" stroke-width=\"2px\" d=\"M9345,1052.0 C9345,964.5 9445.0,964.5 9445.0,1052.0\" fill=\"none\" stroke=\"currentColor\"/>\n",
       "    <text dy=\"1.25em\" style=\"font-size: 0.8em; letter-spacing: 1px\">\n",
       "        <textPath xlink:href=\"#arrow-2bb8ac2446c84da180c20881c0af9be4-0-52\" class=\"displacy-label\" startOffset=\"50%\" side=\"left\" fill=\"currentColor\" text-anchor=\"middle\">prep</textPath>\n",
       "    </text>\n",
       "    <path class=\"displacy-arrowhead\" d=\"M9445.0,1054.0 L9453.0,1042.0 9437.0,1042.0\" fill=\"currentColor\"/>\n",
       "</g>\n",
       "\n",
       "<g class=\"displacy-arrow\">\n",
       "    <path class=\"displacy-arc\" id=\"arrow-2bb8ac2446c84da180c20881c0af9be4-0-53\" stroke-width=\"2px\" d=\"M9520,1052.0 C9520,964.5 9620.0,964.5 9620.0,1052.0\" fill=\"none\" stroke=\"currentColor\"/>\n",
       "    <text dy=\"1.25em\" style=\"font-size: 0.8em; letter-spacing: 1px\">\n",
       "        <textPath xlink:href=\"#arrow-2bb8ac2446c84da180c20881c0af9be4-0-53\" class=\"displacy-label\" startOffset=\"50%\" side=\"left\" fill=\"currentColor\" text-anchor=\"middle\">pobj</textPath>\n",
       "    </text>\n",
       "    <path class=\"displacy-arrowhead\" d=\"M9620.0,1054.0 L9628.0,1042.0 9612.0,1042.0\" fill=\"currentColor\"/>\n",
       "</g>\n",
       "\n",
       "<g class=\"displacy-arrow\">\n",
       "    <path class=\"displacy-arc\" id=\"arrow-2bb8ac2446c84da180c20881c0af9be4-0-54\" stroke-width=\"2px\" d=\"M9695,1052.0 C9695,964.5 9795.0,964.5 9795.0,1052.0\" fill=\"none\" stroke=\"currentColor\"/>\n",
       "    <text dy=\"1.25em\" style=\"font-size: 0.8em; letter-spacing: 1px\">\n",
       "        <textPath xlink:href=\"#arrow-2bb8ac2446c84da180c20881c0af9be4-0-54\" class=\"displacy-label\" startOffset=\"50%\" side=\"left\" fill=\"currentColor\" text-anchor=\"middle\">prep</textPath>\n",
       "    </text>\n",
       "    <path class=\"displacy-arrowhead\" d=\"M9795.0,1054.0 L9803.0,1042.0 9787.0,1042.0\" fill=\"currentColor\"/>\n",
       "</g>\n",
       "\n",
       "<g class=\"displacy-arrow\">\n",
       "    <path class=\"displacy-arc\" id=\"arrow-2bb8ac2446c84da180c20881c0af9be4-0-55\" stroke-width=\"2px\" d=\"M10045,1052.0 C10045,964.5 10145.0,964.5 10145.0,1052.0\" fill=\"none\" stroke=\"currentColor\"/>\n",
       "    <text dy=\"1.25em\" style=\"font-size: 0.8em; letter-spacing: 1px\">\n",
       "        <textPath xlink:href=\"#arrow-2bb8ac2446c84da180c20881c0af9be4-0-55\" class=\"displacy-label\" startOffset=\"50%\" side=\"left\" fill=\"currentColor\" text-anchor=\"middle\">det</textPath>\n",
       "    </text>\n",
       "    <path class=\"displacy-arrowhead\" d=\"M10045,1054.0 L10037,1042.0 10053,1042.0\" fill=\"currentColor\"/>\n",
       "</g>\n",
       "\n",
       "<g class=\"displacy-arrow\">\n",
       "    <path class=\"displacy-arc\" id=\"arrow-2bb8ac2446c84da180c20881c0af9be4-0-56\" stroke-width=\"2px\" d=\"M9870,1052.0 C9870,877.0 10150.0,877.0 10150.0,1052.0\" fill=\"none\" stroke=\"currentColor\"/>\n",
       "    <text dy=\"1.25em\" style=\"font-size: 0.8em; letter-spacing: 1px\">\n",
       "        <textPath xlink:href=\"#arrow-2bb8ac2446c84da180c20881c0af9be4-0-56\" class=\"displacy-label\" startOffset=\"50%\" side=\"left\" fill=\"currentColor\" text-anchor=\"middle\">pobj</textPath>\n",
       "    </text>\n",
       "    <path class=\"displacy-arrowhead\" d=\"M10150.0,1054.0 L10158.0,1042.0 10142.0,1042.0\" fill=\"currentColor\"/>\n",
       "</g>\n",
       "\n",
       "<g class=\"displacy-arrow\">\n",
       "    <path class=\"displacy-arc\" id=\"arrow-2bb8ac2446c84da180c20881c0af9be4-0-57\" stroke-width=\"2px\" d=\"M10220,1052.0 C10220,964.5 10320.0,964.5 10320.0,1052.0\" fill=\"none\" stroke=\"currentColor\"/>\n",
       "    <text dy=\"1.25em\" style=\"font-size: 0.8em; letter-spacing: 1px\">\n",
       "        <textPath xlink:href=\"#arrow-2bb8ac2446c84da180c20881c0af9be4-0-57\" class=\"displacy-label\" startOffset=\"50%\" side=\"left\" fill=\"currentColor\" text-anchor=\"middle\">prep</textPath>\n",
       "    </text>\n",
       "    <path class=\"displacy-arrowhead\" d=\"M10320.0,1054.0 L10328.0,1042.0 10312.0,1042.0\" fill=\"currentColor\"/>\n",
       "</g>\n",
       "\n",
       "<g class=\"displacy-arrow\">\n",
       "    <path class=\"displacy-arc\" id=\"arrow-2bb8ac2446c84da180c20881c0af9be4-0-58\" stroke-width=\"2px\" d=\"M10395,1052.0 C10395,964.5 10495.0,964.5 10495.0,1052.0\" fill=\"none\" stroke=\"currentColor\"/>\n",
       "    <text dy=\"1.25em\" style=\"font-size: 0.8em; letter-spacing: 1px\">\n",
       "        <textPath xlink:href=\"#arrow-2bb8ac2446c84da180c20881c0af9be4-0-58\" class=\"displacy-label\" startOffset=\"50%\" side=\"left\" fill=\"currentColor\" text-anchor=\"middle\">pobj</textPath>\n",
       "    </text>\n",
       "    <path class=\"displacy-arrowhead\" d=\"M10495.0,1054.0 L10503.0,1042.0 10487.0,1042.0\" fill=\"currentColor\"/>\n",
       "</g>\n",
       "\n",
       "<g class=\"displacy-arrow\">\n",
       "    <path class=\"displacy-arc\" id=\"arrow-2bb8ac2446c84da180c20881c0af9be4-0-59\" stroke-width=\"2px\" d=\"M10570,1052.0 C10570,964.5 10670.0,964.5 10670.0,1052.0\" fill=\"none\" stroke=\"currentColor\"/>\n",
       "    <text dy=\"1.25em\" style=\"font-size: 0.8em; letter-spacing: 1px\">\n",
       "        <textPath xlink:href=\"#arrow-2bb8ac2446c84da180c20881c0af9be4-0-59\" class=\"displacy-label\" startOffset=\"50%\" side=\"left\" fill=\"currentColor\" text-anchor=\"middle\">cc</textPath>\n",
       "    </text>\n",
       "    <path class=\"displacy-arrowhead\" d=\"M10670.0,1054.0 L10678.0,1042.0 10662.0,1042.0\" fill=\"currentColor\"/>\n",
       "</g>\n",
       "\n",
       "<g class=\"displacy-arrow\">\n",
       "    <path class=\"displacy-arc\" id=\"arrow-2bb8ac2446c84da180c20881c0af9be4-0-60\" stroke-width=\"2px\" d=\"M10920,1052.0 C10920,964.5 11020.0,964.5 11020.0,1052.0\" fill=\"none\" stroke=\"currentColor\"/>\n",
       "    <text dy=\"1.25em\" style=\"font-size: 0.8em; letter-spacing: 1px\">\n",
       "        <textPath xlink:href=\"#arrow-2bb8ac2446c84da180c20881c0af9be4-0-60\" class=\"displacy-label\" startOffset=\"50%\" side=\"left\" fill=\"currentColor\" text-anchor=\"middle\">amod</textPath>\n",
       "    </text>\n",
       "    <path class=\"displacy-arrowhead\" d=\"M10920,1054.0 L10912,1042.0 10928,1042.0\" fill=\"currentColor\"/>\n",
       "</g>\n",
       "\n",
       "<g class=\"displacy-arrow\">\n",
       "    <path class=\"displacy-arc\" id=\"arrow-2bb8ac2446c84da180c20881c0af9be4-0-61\" stroke-width=\"2px\" d=\"M10570,1052.0 C10570,789.5 11030.0,789.5 11030.0,1052.0\" fill=\"none\" stroke=\"currentColor\"/>\n",
       "    <text dy=\"1.25em\" style=\"font-size: 0.8em; letter-spacing: 1px\">\n",
       "        <textPath xlink:href=\"#arrow-2bb8ac2446c84da180c20881c0af9be4-0-61\" class=\"displacy-label\" startOffset=\"50%\" side=\"left\" fill=\"currentColor\" text-anchor=\"middle\">conj</textPath>\n",
       "    </text>\n",
       "    <path class=\"displacy-arrowhead\" d=\"M11030.0,1054.0 L11038.0,1042.0 11022.0,1042.0\" fill=\"currentColor\"/>\n",
       "</g>\n",
       "\n",
       "<g class=\"displacy-arrow\">\n",
       "    <path class=\"displacy-arc\" id=\"arrow-2bb8ac2446c84da180c20881c0af9be4-0-62\" stroke-width=\"2px\" d=\"M11095,1052.0 C11095,964.5 11195.0,964.5 11195.0,1052.0\" fill=\"none\" stroke=\"currentColor\"/>\n",
       "    <text dy=\"1.25em\" style=\"font-size: 0.8em; letter-spacing: 1px\">\n",
       "        <textPath xlink:href=\"#arrow-2bb8ac2446c84da180c20881c0af9be4-0-62\" class=\"displacy-label\" startOffset=\"50%\" side=\"left\" fill=\"currentColor\" text-anchor=\"middle\">prep</textPath>\n",
       "    </text>\n",
       "    <path class=\"displacy-arrowhead\" d=\"M11195.0,1054.0 L11203.0,1042.0 11187.0,1042.0\" fill=\"currentColor\"/>\n",
       "</g>\n",
       "\n",
       "<g class=\"displacy-arrow\">\n",
       "    <path class=\"displacy-arc\" id=\"arrow-2bb8ac2446c84da180c20881c0af9be4-0-63\" stroke-width=\"2px\" d=\"M11445,1052.0 C11445,964.5 11545.0,964.5 11545.0,1052.0\" fill=\"none\" stroke=\"currentColor\"/>\n",
       "    <text dy=\"1.25em\" style=\"font-size: 0.8em; letter-spacing: 1px\">\n",
       "        <textPath xlink:href=\"#arrow-2bb8ac2446c84da180c20881c0af9be4-0-63\" class=\"displacy-label\" startOffset=\"50%\" side=\"left\" fill=\"currentColor\" text-anchor=\"middle\">amod</textPath>\n",
       "    </text>\n",
       "    <path class=\"displacy-arrowhead\" d=\"M11445,1054.0 L11437,1042.0 11453,1042.0\" fill=\"currentColor\"/>\n",
       "</g>\n",
       "\n",
       "<g class=\"displacy-arrow\">\n",
       "    <path class=\"displacy-arc\" id=\"arrow-2bb8ac2446c84da180c20881c0af9be4-0-64\" stroke-width=\"2px\" d=\"M11270,1052.0 C11270,877.0 11550.0,877.0 11550.0,1052.0\" fill=\"none\" stroke=\"currentColor\"/>\n",
       "    <text dy=\"1.25em\" style=\"font-size: 0.8em; letter-spacing: 1px\">\n",
       "        <textPath xlink:href=\"#arrow-2bb8ac2446c84da180c20881c0af9be4-0-64\" class=\"displacy-label\" startOffset=\"50%\" side=\"left\" fill=\"currentColor\" text-anchor=\"middle\">pobj</textPath>\n",
       "    </text>\n",
       "    <path class=\"displacy-arrowhead\" d=\"M11550.0,1054.0 L11558.0,1042.0 11542.0,1042.0\" fill=\"currentColor\"/>\n",
       "</g>\n",
       "\n",
       "<g class=\"displacy-arrow\">\n",
       "    <path class=\"displacy-arc\" id=\"arrow-2bb8ac2446c84da180c20881c0af9be4-0-65\" stroke-width=\"2px\" d=\"M8995,1052.0 C8995,264.5 11760.0,264.5 11760.0,1052.0\" fill=\"none\" stroke=\"currentColor\"/>\n",
       "    <text dy=\"1.25em\" style=\"font-size: 0.8em; letter-spacing: 1px\">\n",
       "        <textPath xlink:href=\"#arrow-2bb8ac2446c84da180c20881c0af9be4-0-65\" class=\"displacy-label\" startOffset=\"50%\" side=\"left\" fill=\"currentColor\" text-anchor=\"middle\">prep</textPath>\n",
       "    </text>\n",
       "    <path class=\"displacy-arrowhead\" d=\"M11760.0,1054.0 L11768.0,1042.0 11752.0,1042.0\" fill=\"currentColor\"/>\n",
       "</g>\n",
       "\n",
       "<g class=\"displacy-arrow\">\n",
       "    <path class=\"displacy-arc\" id=\"arrow-2bb8ac2446c84da180c20881c0af9be4-0-66\" stroke-width=\"2px\" d=\"M11795,1052.0 C11795,964.5 11895.0,964.5 11895.0,1052.0\" fill=\"none\" stroke=\"currentColor\"/>\n",
       "    <text dy=\"1.25em\" style=\"font-size: 0.8em; letter-spacing: 1px\">\n",
       "        <textPath xlink:href=\"#arrow-2bb8ac2446c84da180c20881c0af9be4-0-66\" class=\"displacy-label\" startOffset=\"50%\" side=\"left\" fill=\"currentColor\" text-anchor=\"middle\">pcomp</textPath>\n",
       "    </text>\n",
       "    <path class=\"displacy-arrowhead\" d=\"M11895.0,1054.0 L11903.0,1042.0 11887.0,1042.0\" fill=\"currentColor\"/>\n",
       "</g>\n",
       "\n",
       "<g class=\"displacy-arrow\">\n",
       "    <path class=\"displacy-arc\" id=\"arrow-2bb8ac2446c84da180c20881c0af9be4-0-67\" stroke-width=\"2px\" d=\"M12145,1052.0 C12145,877.0 12425.0,877.0 12425.0,1052.0\" fill=\"none\" stroke=\"currentColor\"/>\n",
       "    <text dy=\"1.25em\" style=\"font-size: 0.8em; letter-spacing: 1px\">\n",
       "        <textPath xlink:href=\"#arrow-2bb8ac2446c84da180c20881c0af9be4-0-67\" class=\"displacy-label\" startOffset=\"50%\" side=\"left\" fill=\"currentColor\" text-anchor=\"middle\">poss</textPath>\n",
       "    </text>\n",
       "    <path class=\"displacy-arrowhead\" d=\"M12145,1054.0 L12137,1042.0 12153,1042.0\" fill=\"currentColor\"/>\n",
       "</g>\n",
       "\n",
       "<g class=\"displacy-arrow\">\n",
       "    <path class=\"displacy-arc\" id=\"arrow-2bb8ac2446c84da180c20881c0af9be4-0-68\" stroke-width=\"2px\" d=\"M12145,1052.0 C12145,964.5 12245.0,964.5 12245.0,1052.0\" fill=\"none\" stroke=\"currentColor\"/>\n",
       "    <text dy=\"1.25em\" style=\"font-size: 0.8em; letter-spacing: 1px\">\n",
       "        <textPath xlink:href=\"#arrow-2bb8ac2446c84da180c20881c0af9be4-0-68\" class=\"displacy-label\" startOffset=\"50%\" side=\"left\" fill=\"currentColor\" text-anchor=\"middle\">case</textPath>\n",
       "    </text>\n",
       "    <path class=\"displacy-arrowhead\" d=\"M12245.0,1054.0 L12253.0,1042.0 12237.0,1042.0\" fill=\"currentColor\"/>\n",
       "</g>\n",
       "\n",
       "<g class=\"displacy-arrow\">\n",
       "    <path class=\"displacy-arc\" id=\"arrow-2bb8ac2446c84da180c20881c0af9be4-0-69\" stroke-width=\"2px\" d=\"M11795,1052.0 C11795,702.0 12435.0,702.0 12435.0,1052.0\" fill=\"none\" stroke=\"currentColor\"/>\n",
       "    <text dy=\"1.25em\" style=\"font-size: 0.8em; letter-spacing: 1px\">\n",
       "        <textPath xlink:href=\"#arrow-2bb8ac2446c84da180c20881c0af9be4-0-69\" class=\"displacy-label\" startOffset=\"50%\" side=\"left\" fill=\"currentColor\" text-anchor=\"middle\">pobj</textPath>\n",
       "    </text>\n",
       "    <path class=\"displacy-arrowhead\" d=\"M12435.0,1054.0 L12443.0,1042.0 12427.0,1042.0\" fill=\"currentColor\"/>\n",
       "</g>\n",
       "\n",
       "<g class=\"displacy-arrow\">\n",
       "    <path class=\"displacy-arc\" id=\"arrow-2bb8ac2446c84da180c20881c0af9be4-0-70\" stroke-width=\"2px\" d=\"M12495,1052.0 C12495,964.5 12595.0,964.5 12595.0,1052.0\" fill=\"none\" stroke=\"currentColor\"/>\n",
       "    <text dy=\"1.25em\" style=\"font-size: 0.8em; letter-spacing: 1px\">\n",
       "        <textPath xlink:href=\"#arrow-2bb8ac2446c84da180c20881c0af9be4-0-70\" class=\"displacy-label\" startOffset=\"50%\" side=\"left\" fill=\"currentColor\" text-anchor=\"middle\">prep</textPath>\n",
       "    </text>\n",
       "    <path class=\"displacy-arrowhead\" d=\"M12595.0,1054.0 L12603.0,1042.0 12587.0,1042.0\" fill=\"currentColor\"/>\n",
       "</g>\n",
       "\n",
       "<g class=\"displacy-arrow\">\n",
       "    <path class=\"displacy-arc\" id=\"arrow-2bb8ac2446c84da180c20881c0af9be4-0-71\" stroke-width=\"2px\" d=\"M12845,1052.0 C12845,877.0 13125.0,877.0 13125.0,1052.0\" fill=\"none\" stroke=\"currentColor\"/>\n",
       "    <text dy=\"1.25em\" style=\"font-size: 0.8em; letter-spacing: 1px\">\n",
       "        <textPath xlink:href=\"#arrow-2bb8ac2446c84da180c20881c0af9be4-0-71\" class=\"displacy-label\" startOffset=\"50%\" side=\"left\" fill=\"currentColor\" text-anchor=\"middle\">det</textPath>\n",
       "    </text>\n",
       "    <path class=\"displacy-arrowhead\" d=\"M12845,1054.0 L12837,1042.0 12853,1042.0\" fill=\"currentColor\"/>\n",
       "</g>\n",
       "\n",
       "<g class=\"displacy-arrow\">\n",
       "    <path class=\"displacy-arc\" id=\"arrow-2bb8ac2446c84da180c20881c0af9be4-0-72\" stroke-width=\"2px\" d=\"M13020,1052.0 C13020,964.5 13120.0,964.5 13120.0,1052.0\" fill=\"none\" stroke=\"currentColor\"/>\n",
       "    <text dy=\"1.25em\" style=\"font-size: 0.8em; letter-spacing: 1px\">\n",
       "        <textPath xlink:href=\"#arrow-2bb8ac2446c84da180c20881c0af9be4-0-72\" class=\"displacy-label\" startOffset=\"50%\" side=\"left\" fill=\"currentColor\" text-anchor=\"middle\">compound</textPath>\n",
       "    </text>\n",
       "    <path class=\"displacy-arrowhead\" d=\"M13020,1054.0 L13012,1042.0 13028,1042.0\" fill=\"currentColor\"/>\n",
       "</g>\n",
       "\n",
       "<g class=\"displacy-arrow\">\n",
       "    <path class=\"displacy-arc\" id=\"arrow-2bb8ac2446c84da180c20881c0af9be4-0-73\" stroke-width=\"2px\" d=\"M12670,1052.0 C12670,789.5 13130.0,789.5 13130.0,1052.0\" fill=\"none\" stroke=\"currentColor\"/>\n",
       "    <text dy=\"1.25em\" style=\"font-size: 0.8em; letter-spacing: 1px\">\n",
       "        <textPath xlink:href=\"#arrow-2bb8ac2446c84da180c20881c0af9be4-0-73\" class=\"displacy-label\" startOffset=\"50%\" side=\"left\" fill=\"currentColor\" text-anchor=\"middle\">pobj</textPath>\n",
       "    </text>\n",
       "    <path class=\"displacy-arrowhead\" d=\"M13130.0,1054.0 L13138.0,1042.0 13122.0,1042.0\" fill=\"currentColor\"/>\n",
       "</g>\n",
       "\n",
       "<g class=\"displacy-arrow\">\n",
       "    <path class=\"displacy-arc\" id=\"arrow-2bb8ac2446c84da180c20881c0af9be4-0-74\" stroke-width=\"2px\" d=\"M8995,1052.0 C8995,2.0 13350.0,2.0 13350.0,1052.0\" fill=\"none\" stroke=\"currentColor\"/>\n",
       "    <text dy=\"1.25em\" style=\"font-size: 0.8em; letter-spacing: 1px\">\n",
       "        <textPath xlink:href=\"#arrow-2bb8ac2446c84da180c20881c0af9be4-0-74\" class=\"displacy-label\" startOffset=\"50%\" side=\"left\" fill=\"currentColor\" text-anchor=\"middle\">advcl</textPath>\n",
       "    </text>\n",
       "    <path class=\"displacy-arrowhead\" d=\"M13350.0,1054.0 L13358.0,1042.0 13342.0,1042.0\" fill=\"currentColor\"/>\n",
       "</g>\n",
       "\n",
       "<g class=\"displacy-arrow\">\n",
       "    <path class=\"displacy-arc\" id=\"arrow-2bb8ac2446c84da180c20881c0af9be4-0-75\" stroke-width=\"2px\" d=\"M13720,1052.0 C13720,964.5 13820.0,964.5 13820.0,1052.0\" fill=\"none\" stroke=\"currentColor\"/>\n",
       "    <text dy=\"1.25em\" style=\"font-size: 0.8em; letter-spacing: 1px\">\n",
       "        <textPath xlink:href=\"#arrow-2bb8ac2446c84da180c20881c0af9be4-0-75\" class=\"displacy-label\" startOffset=\"50%\" side=\"left\" fill=\"currentColor\" text-anchor=\"middle\">preconj</textPath>\n",
       "    </text>\n",
       "    <path class=\"displacy-arrowhead\" d=\"M13720,1054.0 L13712,1042.0 13728,1042.0\" fill=\"currentColor\"/>\n",
       "</g>\n",
       "\n",
       "<g class=\"displacy-arrow\">\n",
       "    <path class=\"displacy-arc\" id=\"arrow-2bb8ac2446c84da180c20881c0af9be4-0-76\" stroke-width=\"2px\" d=\"M13545,1052.0 C13545,877.0 13825.0,877.0 13825.0,1052.0\" fill=\"none\" stroke=\"currentColor\"/>\n",
       "    <text dy=\"1.25em\" style=\"font-size: 0.8em; letter-spacing: 1px\">\n",
       "        <textPath xlink:href=\"#arrow-2bb8ac2446c84da180c20881c0af9be4-0-76\" class=\"displacy-label\" startOffset=\"50%\" side=\"left\" fill=\"currentColor\" text-anchor=\"middle\">dobj</textPath>\n",
       "    </text>\n",
       "    <path class=\"displacy-arrowhead\" d=\"M13825.0,1054.0 L13833.0,1042.0 13817.0,1042.0\" fill=\"currentColor\"/>\n",
       "</g>\n",
       "\n",
       "<g class=\"displacy-arrow\">\n",
       "    <path class=\"displacy-arc\" id=\"arrow-2bb8ac2446c84da180c20881c0af9be4-0-77\" stroke-width=\"2px\" d=\"M13895,1052.0 C13895,964.5 13995.0,964.5 13995.0,1052.0\" fill=\"none\" stroke=\"currentColor\"/>\n",
       "    <text dy=\"1.25em\" style=\"font-size: 0.8em; letter-spacing: 1px\">\n",
       "        <textPath xlink:href=\"#arrow-2bb8ac2446c84da180c20881c0af9be4-0-77\" class=\"displacy-label\" startOffset=\"50%\" side=\"left\" fill=\"currentColor\" text-anchor=\"middle\">cc</textPath>\n",
       "    </text>\n",
       "    <path class=\"displacy-arrowhead\" d=\"M13995.0,1054.0 L14003.0,1042.0 13987.0,1042.0\" fill=\"currentColor\"/>\n",
       "</g>\n",
       "\n",
       "<g class=\"displacy-arrow\">\n",
       "    <path class=\"displacy-arc\" id=\"arrow-2bb8ac2446c84da180c20881c0af9be4-0-78\" stroke-width=\"2px\" d=\"M13895,1052.0 C13895,877.0 14175.0,877.0 14175.0,1052.0\" fill=\"none\" stroke=\"currentColor\"/>\n",
       "    <text dy=\"1.25em\" style=\"font-size: 0.8em; letter-spacing: 1px\">\n",
       "        <textPath xlink:href=\"#arrow-2bb8ac2446c84da180c20881c0af9be4-0-78\" class=\"displacy-label\" startOffset=\"50%\" side=\"left\" fill=\"currentColor\" text-anchor=\"middle\">conj</textPath>\n",
       "    </text>\n",
       "    <path class=\"displacy-arrowhead\" d=\"M14175.0,1054.0 L14183.0,1042.0 14167.0,1042.0\" fill=\"currentColor\"/>\n",
       "</g>\n",
       "\n",
       "<g class=\"displacy-arrow\">\n",
       "    <path class=\"displacy-arc\" id=\"arrow-2bb8ac2446c84da180c20881c0af9be4-0-79\" stroke-width=\"2px\" d=\"M14420,1052.0 C14420,702.0 15060.0,702.0 15060.0,1052.0\" fill=\"none\" stroke=\"currentColor\"/>\n",
       "    <text dy=\"1.25em\" style=\"font-size: 0.8em; letter-spacing: 1px\">\n",
       "        <textPath xlink:href=\"#arrow-2bb8ac2446c84da180c20881c0af9be4-0-79\" class=\"displacy-label\" startOffset=\"50%\" side=\"left\" fill=\"currentColor\" text-anchor=\"middle\">mark</textPath>\n",
       "    </text>\n",
       "    <path class=\"displacy-arrowhead\" d=\"M14420,1054.0 L14412,1042.0 14428,1042.0\" fill=\"currentColor\"/>\n",
       "</g>\n",
       "\n",
       "<g class=\"displacy-arrow\">\n",
       "    <path class=\"displacy-arc\" id=\"arrow-2bb8ac2446c84da180c20881c0af9be4-0-80\" stroke-width=\"2px\" d=\"M14595,1052.0 C14595,789.5 15055.0,789.5 15055.0,1052.0\" fill=\"none\" stroke=\"currentColor\"/>\n",
       "    <text dy=\"1.25em\" style=\"font-size: 0.8em; letter-spacing: 1px\">\n",
       "        <textPath xlink:href=\"#arrow-2bb8ac2446c84da180c20881c0af9be4-0-80\" class=\"displacy-label\" startOffset=\"50%\" side=\"left\" fill=\"currentColor\" text-anchor=\"middle\">nsubj</textPath>\n",
       "    </text>\n",
       "    <path class=\"displacy-arrowhead\" d=\"M14595,1054.0 L14587,1042.0 14603,1042.0\" fill=\"currentColor\"/>\n",
       "</g>\n",
       "\n",
       "<g class=\"displacy-arrow\">\n",
       "    <path class=\"displacy-arc\" id=\"arrow-2bb8ac2446c84da180c20881c0af9be4-0-81\" stroke-width=\"2px\" d=\"M14770,1052.0 C14770,877.0 15050.0,877.0 15050.0,1052.0\" fill=\"none\" stroke=\"currentColor\"/>\n",
       "    <text dy=\"1.25em\" style=\"font-size: 0.8em; letter-spacing: 1px\">\n",
       "        <textPath xlink:href=\"#arrow-2bb8ac2446c84da180c20881c0af9be4-0-81\" class=\"displacy-label\" startOffset=\"50%\" side=\"left\" fill=\"currentColor\" text-anchor=\"middle\">aux</textPath>\n",
       "    </text>\n",
       "    <path class=\"displacy-arrowhead\" d=\"M14770,1054.0 L14762,1042.0 14778,1042.0\" fill=\"currentColor\"/>\n",
       "</g>\n",
       "\n",
       "<g class=\"displacy-arrow\">\n",
       "    <path class=\"displacy-arc\" id=\"arrow-2bb8ac2446c84da180c20881c0af9be4-0-82\" stroke-width=\"2px\" d=\"M14945,1052.0 C14945,964.5 15045.0,964.5 15045.0,1052.0\" fill=\"none\" stroke=\"currentColor\"/>\n",
       "    <text dy=\"1.25em\" style=\"font-size: 0.8em; letter-spacing: 1px\">\n",
       "        <textPath xlink:href=\"#arrow-2bb8ac2446c84da180c20881c0af9be4-0-82\" class=\"displacy-label\" startOffset=\"50%\" side=\"left\" fill=\"currentColor\" text-anchor=\"middle\">neg</textPath>\n",
       "    </text>\n",
       "    <path class=\"displacy-arrowhead\" d=\"M14945,1054.0 L14937,1042.0 14953,1042.0\" fill=\"currentColor\"/>\n",
       "</g>\n",
       "\n",
       "<g class=\"displacy-arrow\">\n",
       "    <path class=\"displacy-arc\" id=\"arrow-2bb8ac2446c84da180c20881c0af9be4-0-83\" stroke-width=\"2px\" d=\"M14245,1052.0 C14245,614.5 15065.0,614.5 15065.0,1052.0\" fill=\"none\" stroke=\"currentColor\"/>\n",
       "    <text dy=\"1.25em\" style=\"font-size: 0.8em; letter-spacing: 1px\">\n",
       "        <textPath xlink:href=\"#arrow-2bb8ac2446c84da180c20881c0af9be4-0-83\" class=\"displacy-label\" startOffset=\"50%\" side=\"left\" fill=\"currentColor\" text-anchor=\"middle\">ccomp</textPath>\n",
       "    </text>\n",
       "    <path class=\"displacy-arrowhead\" d=\"M15065.0,1054.0 L15073.0,1042.0 15057.0,1042.0\" fill=\"currentColor\"/>\n",
       "</g>\n",
       "\n",
       "<g class=\"displacy-arrow\">\n",
       "    <path class=\"displacy-arc\" id=\"arrow-2bb8ac2446c84da180c20881c0af9be4-0-84\" stroke-width=\"2px\" d=\"M15295,1052.0 C15295,964.5 15395.0,964.5 15395.0,1052.0\" fill=\"none\" stroke=\"currentColor\"/>\n",
       "    <text dy=\"1.25em\" style=\"font-size: 0.8em; letter-spacing: 1px\">\n",
       "        <textPath xlink:href=\"#arrow-2bb8ac2446c84da180c20881c0af9be4-0-84\" class=\"displacy-label\" startOffset=\"50%\" side=\"left\" fill=\"currentColor\" text-anchor=\"middle\">det</textPath>\n",
       "    </text>\n",
       "    <path class=\"displacy-arrowhead\" d=\"M15295,1054.0 L15287,1042.0 15303,1042.0\" fill=\"currentColor\"/>\n",
       "</g>\n",
       "\n",
       "<g class=\"displacy-arrow\">\n",
       "    <path class=\"displacy-arc\" id=\"arrow-2bb8ac2446c84da180c20881c0af9be4-0-85\" stroke-width=\"2px\" d=\"M15120,1052.0 C15120,877.0 15400.0,877.0 15400.0,1052.0\" fill=\"none\" stroke=\"currentColor\"/>\n",
       "    <text dy=\"1.25em\" style=\"font-size: 0.8em; letter-spacing: 1px\">\n",
       "        <textPath xlink:href=\"#arrow-2bb8ac2446c84da180c20881c0af9be4-0-85\" class=\"displacy-label\" startOffset=\"50%\" side=\"left\" fill=\"currentColor\" text-anchor=\"middle\">dobj</textPath>\n",
       "    </text>\n",
       "    <path class=\"displacy-arrowhead\" d=\"M15400.0,1054.0 L15408.0,1042.0 15392.0,1042.0\" fill=\"currentColor\"/>\n",
       "</g>\n",
       "\n",
       "<g class=\"displacy-arrow\">\n",
       "    <path class=\"displacy-arc\" id=\"arrow-2bb8ac2446c84da180c20881c0af9be4-0-86\" stroke-width=\"2px\" d=\"M15470,1052.0 C15470,964.5 15570.0,964.5 15570.0,1052.0\" fill=\"none\" stroke=\"currentColor\"/>\n",
       "    <text dy=\"1.25em\" style=\"font-size: 0.8em; letter-spacing: 1px\">\n",
       "        <textPath xlink:href=\"#arrow-2bb8ac2446c84da180c20881c0af9be4-0-86\" class=\"displacy-label\" startOffset=\"50%\" side=\"left\" fill=\"currentColor\" text-anchor=\"middle\">prep</textPath>\n",
       "    </text>\n",
       "    <path class=\"displacy-arrowhead\" d=\"M15570.0,1054.0 L15578.0,1042.0 15562.0,1042.0\" fill=\"currentColor\"/>\n",
       "</g>\n",
       "\n",
       "<g class=\"displacy-arrow\">\n",
       "    <path class=\"displacy-arc\" id=\"arrow-2bb8ac2446c84da180c20881c0af9be4-0-87\" stroke-width=\"2px\" d=\"M15820,1052.0 C15820,964.5 15920.0,964.5 15920.0,1052.0\" fill=\"none\" stroke=\"currentColor\"/>\n",
       "    <text dy=\"1.25em\" style=\"font-size: 0.8em; letter-spacing: 1px\">\n",
       "        <textPath xlink:href=\"#arrow-2bb8ac2446c84da180c20881c0af9be4-0-87\" class=\"displacy-label\" startOffset=\"50%\" side=\"left\" fill=\"currentColor\" text-anchor=\"middle\">amod</textPath>\n",
       "    </text>\n",
       "    <path class=\"displacy-arrowhead\" d=\"M15820,1054.0 L15812,1042.0 15828,1042.0\" fill=\"currentColor\"/>\n",
       "</g>\n",
       "\n",
       "<g class=\"displacy-arrow\">\n",
       "    <path class=\"displacy-arc\" id=\"arrow-2bb8ac2446c84da180c20881c0af9be4-0-88\" stroke-width=\"2px\" d=\"M15645,1052.0 C15645,877.0 15925.0,877.0 15925.0,1052.0\" fill=\"none\" stroke=\"currentColor\"/>\n",
       "    <text dy=\"1.25em\" style=\"font-size: 0.8em; letter-spacing: 1px\">\n",
       "        <textPath xlink:href=\"#arrow-2bb8ac2446c84da180c20881c0af9be4-0-88\" class=\"displacy-label\" startOffset=\"50%\" side=\"left\" fill=\"currentColor\" text-anchor=\"middle\">pobj</textPath>\n",
       "    </text>\n",
       "    <path class=\"displacy-arrowhead\" d=\"M15925.0,1054.0 L15933.0,1042.0 15917.0,1042.0\" fill=\"currentColor\"/>\n",
       "</g>\n",
       "\n",
       "<g class=\"displacy-arrow\">\n",
       "    <path class=\"displacy-arc\" id=\"arrow-2bb8ac2446c84da180c20881c0af9be4-0-89\" stroke-width=\"2px\" d=\"M15995,1052.0 C15995,964.5 16095.0,964.5 16095.0,1052.0\" fill=\"none\" stroke=\"currentColor\"/>\n",
       "    <text dy=\"1.25em\" style=\"font-size: 0.8em; letter-spacing: 1px\">\n",
       "        <textPath xlink:href=\"#arrow-2bb8ac2446c84da180c20881c0af9be4-0-89\" class=\"displacy-label\" startOffset=\"50%\" side=\"left\" fill=\"currentColor\" text-anchor=\"middle\">acl</textPath>\n",
       "    </text>\n",
       "    <path class=\"displacy-arrowhead\" d=\"M16095.0,1054.0 L16103.0,1042.0 16087.0,1042.0\" fill=\"currentColor\"/>\n",
       "</g>\n",
       "\n",
       "<g class=\"displacy-arrow\">\n",
       "    <path class=\"displacy-arc\" id=\"arrow-2bb8ac2446c84da180c20881c0af9be4-0-90\" stroke-width=\"2px\" d=\"M16170,1052.0 C16170,964.5 16270.0,964.5 16270.0,1052.0\" fill=\"none\" stroke=\"currentColor\"/>\n",
       "    <text dy=\"1.25em\" style=\"font-size: 0.8em; letter-spacing: 1px\">\n",
       "        <textPath xlink:href=\"#arrow-2bb8ac2446c84da180c20881c0af9be4-0-90\" class=\"displacy-label\" startOffset=\"50%\" side=\"left\" fill=\"currentColor\" text-anchor=\"middle\">agent</textPath>\n",
       "    </text>\n",
       "    <path class=\"displacy-arrowhead\" d=\"M16270.0,1054.0 L16278.0,1042.0 16262.0,1042.0\" fill=\"currentColor\"/>\n",
       "</g>\n",
       "\n",
       "<g class=\"displacy-arrow\">\n",
       "    <path class=\"displacy-arc\" id=\"arrow-2bb8ac2446c84da180c20881c0af9be4-0-91\" stroke-width=\"2px\" d=\"M16345,1052.0 C16345,964.5 16445.0,964.5 16445.0,1052.0\" fill=\"none\" stroke=\"currentColor\"/>\n",
       "    <text dy=\"1.25em\" style=\"font-size: 0.8em; letter-spacing: 1px\">\n",
       "        <textPath xlink:href=\"#arrow-2bb8ac2446c84da180c20881c0af9be4-0-91\" class=\"displacy-label\" startOffset=\"50%\" side=\"left\" fill=\"currentColor\" text-anchor=\"middle\">pobj</textPath>\n",
       "    </text>\n",
       "    <path class=\"displacy-arrowhead\" d=\"M16445.0,1054.0 L16453.0,1042.0 16437.0,1042.0\" fill=\"currentColor\"/>\n",
       "</g>\n",
       "\n",
       "<g class=\"displacy-arrow\">\n",
       "    <path class=\"displacy-arc\" id=\"arrow-2bb8ac2446c84da180c20881c0af9be4-0-92\" stroke-width=\"2px\" d=\"M16345,1052.0 C16345,877.0 16625.0,877.0 16625.0,1052.0\" fill=\"none\" stroke=\"currentColor\"/>\n",
       "    <text dy=\"1.25em\" style=\"font-size: 0.8em; letter-spacing: 1px\">\n",
       "        <textPath xlink:href=\"#arrow-2bb8ac2446c84da180c20881c0af9be4-0-92\" class=\"displacy-label\" startOffset=\"50%\" side=\"left\" fill=\"currentColor\" text-anchor=\"middle\">cc</textPath>\n",
       "    </text>\n",
       "    <path class=\"displacy-arrowhead\" d=\"M16625.0,1054.0 L16633.0,1042.0 16617.0,1042.0\" fill=\"currentColor\"/>\n",
       "</g>\n",
       "\n",
       "<g class=\"displacy-arrow\">\n",
       "    <path class=\"displacy-arc\" id=\"arrow-2bb8ac2446c84da180c20881c0af9be4-0-93\" stroke-width=\"2px\" d=\"M16345,1052.0 C16345,789.5 16805.0,789.5 16805.0,1052.0\" fill=\"none\" stroke=\"currentColor\"/>\n",
       "    <text dy=\"1.25em\" style=\"font-size: 0.8em; letter-spacing: 1px\">\n",
       "        <textPath xlink:href=\"#arrow-2bb8ac2446c84da180c20881c0af9be4-0-93\" class=\"displacy-label\" startOffset=\"50%\" side=\"left\" fill=\"currentColor\" text-anchor=\"middle\">conj</textPath>\n",
       "    </text>\n",
       "    <path class=\"displacy-arrowhead\" d=\"M16805.0,1054.0 L16813.0,1042.0 16797.0,1042.0\" fill=\"currentColor\"/>\n",
       "</g>\n",
       "\n",
       "<g class=\"displacy-arrow\">\n",
       "    <path class=\"displacy-arc\" id=\"arrow-2bb8ac2446c84da180c20881c0af9be4-0-94\" stroke-width=\"2px\" d=\"M17045,1052.0 C17045,964.5 17145.0,964.5 17145.0,1052.0\" fill=\"none\" stroke=\"currentColor\"/>\n",
       "    <text dy=\"1.25em\" style=\"font-size: 0.8em; letter-spacing: 1px\">\n",
       "        <textPath xlink:href=\"#arrow-2bb8ac2446c84da180c20881c0af9be4-0-94\" class=\"displacy-label\" startOffset=\"50%\" side=\"left\" fill=\"currentColor\" text-anchor=\"middle\">amod</textPath>\n",
       "    </text>\n",
       "    <path class=\"displacy-arrowhead\" d=\"M17045,1054.0 L17037,1042.0 17053,1042.0\" fill=\"currentColor\"/>\n",
       "</g>\n",
       "\n",
       "<g class=\"displacy-arrow\">\n",
       "    <path class=\"displacy-arc\" id=\"arrow-2bb8ac2446c84da180c20881c0af9be4-0-95\" stroke-width=\"2px\" d=\"M16870,1052.0 C16870,877.0 17150.0,877.0 17150.0,1052.0\" fill=\"none\" stroke=\"currentColor\"/>\n",
       "    <text dy=\"1.25em\" style=\"font-size: 0.8em; letter-spacing: 1px\">\n",
       "        <textPath xlink:href=\"#arrow-2bb8ac2446c84da180c20881c0af9be4-0-95\" class=\"displacy-label\" startOffset=\"50%\" side=\"left\" fill=\"currentColor\" text-anchor=\"middle\">pobj</textPath>\n",
       "    </text>\n",
       "    <path class=\"displacy-arrowhead\" d=\"M17150.0,1054.0 L17158.0,1042.0 17142.0,1042.0\" fill=\"currentColor\"/>\n",
       "</g>\n",
       "\n",
       "<g class=\"displacy-arrow\">\n",
       "    <path class=\"displacy-arc\" id=\"arrow-2bb8ac2446c84da180c20881c0af9be4-0-96\" stroke-width=\"2px\" d=\"M17395,1052.0 C17395,964.5 17495.0,964.5 17495.0,1052.0\" fill=\"none\" stroke=\"currentColor\"/>\n",
       "    <text dy=\"1.25em\" style=\"font-size: 0.8em; letter-spacing: 1px\">\n",
       "        <textPath xlink:href=\"#arrow-2bb8ac2446c84da180c20881c0af9be4-0-96\" class=\"displacy-label\" startOffset=\"50%\" side=\"left\" fill=\"currentColor\" text-anchor=\"middle\">aux</textPath>\n",
       "    </text>\n",
       "    <path class=\"displacy-arrowhead\" d=\"M17395,1054.0 L17387,1042.0 17403,1042.0\" fill=\"currentColor\"/>\n",
       "</g>\n",
       "\n",
       "<g class=\"displacy-arrow\">\n",
       "    <path class=\"displacy-arc\" id=\"arrow-2bb8ac2446c84da180c20881c0af9be4-0-97\" stroke-width=\"2px\" d=\"M15120,1052.0 C15120,352.0 17530.0,352.0 17530.0,1052.0\" fill=\"none\" stroke=\"currentColor\"/>\n",
       "    <text dy=\"1.25em\" style=\"font-size: 0.8em; letter-spacing: 1px\">\n",
       "        <textPath xlink:href=\"#arrow-2bb8ac2446c84da180c20881c0af9be4-0-97\" class=\"displacy-label\" startOffset=\"50%\" side=\"left\" fill=\"currentColor\" text-anchor=\"middle\">xcomp</textPath>\n",
       "    </text>\n",
       "    <path class=\"displacy-arrowhead\" d=\"M17530.0,1054.0 L17538.0,1042.0 17522.0,1042.0\" fill=\"currentColor\"/>\n",
       "</g>\n",
       "\n",
       "<g class=\"displacy-arrow\">\n",
       "    <path class=\"displacy-arc\" id=\"arrow-2bb8ac2446c84da180c20881c0af9be4-0-98\" stroke-width=\"2px\" d=\"M17570,1052.0 C17570,964.5 17670.0,964.5 17670.0,1052.0\" fill=\"none\" stroke=\"currentColor\"/>\n",
       "    <text dy=\"1.25em\" style=\"font-size: 0.8em; letter-spacing: 1px\">\n",
       "        <textPath xlink:href=\"#arrow-2bb8ac2446c84da180c20881c0af9be4-0-98\" class=\"displacy-label\" startOffset=\"50%\" side=\"left\" fill=\"currentColor\" text-anchor=\"middle\">conj</textPath>\n",
       "    </text>\n",
       "    <path class=\"displacy-arrowhead\" d=\"M17670.0,1054.0 L17678.0,1042.0 17662.0,1042.0\" fill=\"currentColor\"/>\n",
       "</g>\n",
       "\n",
       "<g class=\"displacy-arrow\">\n",
       "    <path class=\"displacy-arc\" id=\"arrow-2bb8ac2446c84da180c20881c0af9be4-0-99\" stroke-width=\"2px\" d=\"M17745,1052.0 C17745,964.5 17845.0,964.5 17845.0,1052.0\" fill=\"none\" stroke=\"currentColor\"/>\n",
       "    <text dy=\"1.25em\" style=\"font-size: 0.8em; letter-spacing: 1px\">\n",
       "        <textPath xlink:href=\"#arrow-2bb8ac2446c84da180c20881c0af9be4-0-99\" class=\"displacy-label\" startOffset=\"50%\" side=\"left\" fill=\"currentColor\" text-anchor=\"middle\">conj</textPath>\n",
       "    </text>\n",
       "    <path class=\"displacy-arrowhead\" d=\"M17845.0,1054.0 L17853.0,1042.0 17837.0,1042.0\" fill=\"currentColor\"/>\n",
       "</g>\n",
       "\n",
       "<g class=\"displacy-arrow\">\n",
       "    <path class=\"displacy-arc\" id=\"arrow-2bb8ac2446c84da180c20881c0af9be4-0-100\" stroke-width=\"2px\" d=\"M17920,1052.0 C17920,964.5 18020.0,964.5 18020.0,1052.0\" fill=\"none\" stroke=\"currentColor\"/>\n",
       "    <text dy=\"1.25em\" style=\"font-size: 0.8em; letter-spacing: 1px\">\n",
       "        <textPath xlink:href=\"#arrow-2bb8ac2446c84da180c20881c0af9be4-0-100\" class=\"displacy-label\" startOffset=\"50%\" side=\"left\" fill=\"currentColor\" text-anchor=\"middle\">cc</textPath>\n",
       "    </text>\n",
       "    <path class=\"displacy-arrowhead\" d=\"M18020.0,1054.0 L18028.0,1042.0 18012.0,1042.0\" fill=\"currentColor\"/>\n",
       "</g>\n",
       "\n",
       "<g class=\"displacy-arrow\">\n",
       "    <path class=\"displacy-arc\" id=\"arrow-2bb8ac2446c84da180c20881c0af9be4-0-101\" stroke-width=\"2px\" d=\"M17920,1052.0 C17920,877.0 18200.0,877.0 18200.0,1052.0\" fill=\"none\" stroke=\"currentColor\"/>\n",
       "    <text dy=\"1.25em\" style=\"font-size: 0.8em; letter-spacing: 1px\">\n",
       "        <textPath xlink:href=\"#arrow-2bb8ac2446c84da180c20881c0af9be4-0-101\" class=\"displacy-label\" startOffset=\"50%\" side=\"left\" fill=\"currentColor\" text-anchor=\"middle\">conj</textPath>\n",
       "    </text>\n",
       "    <path class=\"displacy-arrowhead\" d=\"M18200.0,1054.0 L18208.0,1042.0 18192.0,1042.0\" fill=\"currentColor\"/>\n",
       "</g>\n",
       "\n",
       "<g class=\"displacy-arrow\">\n",
       "    <path class=\"displacy-arc\" id=\"arrow-2bb8ac2446c84da180c20881c0af9be4-0-102\" stroke-width=\"2px\" d=\"M17920,1052.0 C17920,789.5 18380.0,789.5 18380.0,1052.0\" fill=\"none\" stroke=\"currentColor\"/>\n",
       "    <text dy=\"1.25em\" style=\"font-size: 0.8em; letter-spacing: 1px\">\n",
       "        <textPath xlink:href=\"#arrow-2bb8ac2446c84da180c20881c0af9be4-0-102\" class=\"displacy-label\" startOffset=\"50%\" side=\"left\" fill=\"currentColor\" text-anchor=\"middle\">conj</textPath>\n",
       "    </text>\n",
       "    <path class=\"displacy-arrowhead\" d=\"M18380.0,1054.0 L18388.0,1042.0 18372.0,1042.0\" fill=\"currentColor\"/>\n",
       "</g>\n",
       "\n",
       "<g class=\"displacy-arrow\">\n",
       "    <path class=\"displacy-arc\" id=\"arrow-2bb8ac2446c84da180c20881c0af9be4-0-103\" stroke-width=\"2px\" d=\"M18445,1052.0 C18445,964.5 18545.0,964.5 18545.0,1052.0\" fill=\"none\" stroke=\"currentColor\"/>\n",
       "    <text dy=\"1.25em\" style=\"font-size: 0.8em; letter-spacing: 1px\">\n",
       "        <textPath xlink:href=\"#arrow-2bb8ac2446c84da180c20881c0af9be4-0-103\" class=\"displacy-label\" startOffset=\"50%\" side=\"left\" fill=\"currentColor\" text-anchor=\"middle\">cc</textPath>\n",
       "    </text>\n",
       "    <path class=\"displacy-arrowhead\" d=\"M18545.0,1054.0 L18553.0,1042.0 18537.0,1042.0\" fill=\"currentColor\"/>\n",
       "</g>\n",
       "\n",
       "<g class=\"displacy-arrow\">\n",
       "    <path class=\"displacy-arc\" id=\"arrow-2bb8ac2446c84da180c20881c0af9be4-0-104\" stroke-width=\"2px\" d=\"M18795,1052.0 C18795,964.5 18895.0,964.5 18895.0,1052.0\" fill=\"none\" stroke=\"currentColor\"/>\n",
       "    <text dy=\"1.25em\" style=\"font-size: 0.8em; letter-spacing: 1px\">\n",
       "        <textPath xlink:href=\"#arrow-2bb8ac2446c84da180c20881c0af9be4-0-104\" class=\"displacy-label\" startOffset=\"50%\" side=\"left\" fill=\"currentColor\" text-anchor=\"middle\">advmod</textPath>\n",
       "    </text>\n",
       "    <path class=\"displacy-arrowhead\" d=\"M18795,1054.0 L18787,1042.0 18803,1042.0\" fill=\"currentColor\"/>\n",
       "</g>\n",
       "\n",
       "<g class=\"displacy-arrow\">\n",
       "    <path class=\"displacy-arc\" id=\"arrow-2bb8ac2446c84da180c20881c0af9be4-0-105\" stroke-width=\"2px\" d=\"M18445,1052.0 C18445,789.5 18905.0,789.5 18905.0,1052.0\" fill=\"none\" stroke=\"currentColor\"/>\n",
       "    <text dy=\"1.25em\" style=\"font-size: 0.8em; letter-spacing: 1px\">\n",
       "        <textPath xlink:href=\"#arrow-2bb8ac2446c84da180c20881c0af9be4-0-105\" class=\"displacy-label\" startOffset=\"50%\" side=\"left\" fill=\"currentColor\" text-anchor=\"middle\">conj</textPath>\n",
       "    </text>\n",
       "    <path class=\"displacy-arrowhead\" d=\"M18905.0,1054.0 L18913.0,1042.0 18897.0,1042.0\" fill=\"currentColor\"/>\n",
       "</g>\n",
       "\n",
       "<g class=\"displacy-arrow\">\n",
       "    <path class=\"displacy-arc\" id=\"arrow-2bb8ac2446c84da180c20881c0af9be4-0-106\" stroke-width=\"2px\" d=\"M19145,1052.0 C19145,964.5 19245.0,964.5 19245.0,1052.0\" fill=\"none\" stroke=\"currentColor\"/>\n",
       "    <text dy=\"1.25em\" style=\"font-size: 0.8em; letter-spacing: 1px\">\n",
       "        <textPath xlink:href=\"#arrow-2bb8ac2446c84da180c20881c0af9be4-0-106\" class=\"displacy-label\" startOffset=\"50%\" side=\"left\" fill=\"currentColor\" text-anchor=\"middle\">compound</textPath>\n",
       "    </text>\n",
       "    <path class=\"displacy-arrowhead\" d=\"M19145,1054.0 L19137,1042.0 19153,1042.0\" fill=\"currentColor\"/>\n",
       "</g>\n",
       "\n",
       "<g class=\"displacy-arrow\">\n",
       "    <path class=\"displacy-arc\" id=\"arrow-2bb8ac2446c84da180c20881c0af9be4-0-107\" stroke-width=\"2px\" d=\"M18970,1052.0 C18970,877.0 19250.0,877.0 19250.0,1052.0\" fill=\"none\" stroke=\"currentColor\"/>\n",
       "    <text dy=\"1.25em\" style=\"font-size: 0.8em; letter-spacing: 1px\">\n",
       "        <textPath xlink:href=\"#arrow-2bb8ac2446c84da180c20881c0af9be4-0-107\" class=\"displacy-label\" startOffset=\"50%\" side=\"left\" fill=\"currentColor\" text-anchor=\"middle\">dobj</textPath>\n",
       "    </text>\n",
       "    <path class=\"displacy-arrowhead\" d=\"M19250.0,1054.0 L19258.0,1042.0 19242.0,1042.0\" fill=\"currentColor\"/>\n",
       "</g>\n",
       "\n",
       "<g class=\"displacy-arrow\">\n",
       "    <path class=\"displacy-arc\" id=\"arrow-2bb8ac2446c84da180c20881c0af9be4-0-108\" stroke-width=\"2px\" d=\"M19495,1052.0 C19495,964.5 19595.0,964.5 19595.0,1052.0\" fill=\"none\" stroke=\"currentColor\"/>\n",
       "    <text dy=\"1.25em\" style=\"font-size: 0.8em; letter-spacing: 1px\">\n",
       "        <textPath xlink:href=\"#arrow-2bb8ac2446c84da180c20881c0af9be4-0-108\" class=\"displacy-label\" startOffset=\"50%\" side=\"left\" fill=\"currentColor\" text-anchor=\"middle\">nsubj</textPath>\n",
       "    </text>\n",
       "    <path class=\"displacy-arrowhead\" d=\"M19495,1054.0 L19487,1042.0 19503,1042.0\" fill=\"currentColor\"/>\n",
       "</g>\n",
       "\n",
       "<g class=\"displacy-arrow\">\n",
       "    <path class=\"displacy-arc\" id=\"arrow-2bb8ac2446c84da180c20881c0af9be4-0-109\" stroke-width=\"2px\" d=\"M19670,1052.0 C19670,964.5 19770.0,964.5 19770.0,1052.0\" fill=\"none\" stroke=\"currentColor\"/>\n",
       "    <text dy=\"1.25em\" style=\"font-size: 0.8em; letter-spacing: 1px\">\n",
       "        <textPath xlink:href=\"#arrow-2bb8ac2446c84da180c20881c0af9be4-0-109\" class=\"displacy-label\" startOffset=\"50%\" side=\"left\" fill=\"currentColor\" text-anchor=\"middle\">cc</textPath>\n",
       "    </text>\n",
       "    <path class=\"displacy-arrowhead\" d=\"M19770.0,1054.0 L19778.0,1042.0 19762.0,1042.0\" fill=\"currentColor\"/>\n",
       "</g>\n",
       "\n",
       "<g class=\"displacy-arrow\">\n",
       "    <path class=\"displacy-arc\" id=\"arrow-2bb8ac2446c84da180c20881c0af9be4-0-110\" stroke-width=\"2px\" d=\"M19670,1052.0 C19670,877.0 19950.0,877.0 19950.0,1052.0\" fill=\"none\" stroke=\"currentColor\"/>\n",
       "    <text dy=\"1.25em\" style=\"font-size: 0.8em; letter-spacing: 1px\">\n",
       "        <textPath xlink:href=\"#arrow-2bb8ac2446c84da180c20881c0af9be4-0-110\" class=\"displacy-label\" startOffset=\"50%\" side=\"left\" fill=\"currentColor\" text-anchor=\"middle\">conj</textPath>\n",
       "    </text>\n",
       "    <path class=\"displacy-arrowhead\" d=\"M19950.0,1054.0 L19958.0,1042.0 19942.0,1042.0\" fill=\"currentColor\"/>\n",
       "</g>\n",
       "\n",
       "<g class=\"displacy-arrow\">\n",
       "    <path class=\"displacy-arc\" id=\"arrow-2bb8ac2446c84da180c20881c0af9be4-0-111\" stroke-width=\"2px\" d=\"M20195,1052.0 C20195,877.0 20475.0,877.0 20475.0,1052.0\" fill=\"none\" stroke=\"currentColor\"/>\n",
       "    <text dy=\"1.25em\" style=\"font-size: 0.8em; letter-spacing: 1px\">\n",
       "        <textPath xlink:href=\"#arrow-2bb8ac2446c84da180c20881c0af9be4-0-111\" class=\"displacy-label\" startOffset=\"50%\" side=\"left\" fill=\"currentColor\" text-anchor=\"middle\">mark</textPath>\n",
       "    </text>\n",
       "    <path class=\"displacy-arrowhead\" d=\"M20195,1054.0 L20187,1042.0 20203,1042.0\" fill=\"currentColor\"/>\n",
       "</g>\n",
       "\n",
       "<g class=\"displacy-arrow\">\n",
       "    <path class=\"displacy-arc\" id=\"arrow-2bb8ac2446c84da180c20881c0af9be4-0-112\" stroke-width=\"2px\" d=\"M20370,1052.0 C20370,964.5 20470.0,964.5 20470.0,1052.0\" fill=\"none\" stroke=\"currentColor\"/>\n",
       "    <text dy=\"1.25em\" style=\"font-size: 0.8em; letter-spacing: 1px\">\n",
       "        <textPath xlink:href=\"#arrow-2bb8ac2446c84da180c20881c0af9be4-0-112\" class=\"displacy-label\" startOffset=\"50%\" side=\"left\" fill=\"currentColor\" text-anchor=\"middle\">nsubj</textPath>\n",
       "    </text>\n",
       "    <path class=\"displacy-arrowhead\" d=\"M20370,1054.0 L20362,1042.0 20378,1042.0\" fill=\"currentColor\"/>\n",
       "</g>\n",
       "\n",
       "<g class=\"displacy-arrow\">\n",
       "    <path class=\"displacy-arc\" id=\"arrow-2bb8ac2446c84da180c20881c0af9be4-0-113\" stroke-width=\"2px\" d=\"M19670,1052.0 C19670,614.5 20490.0,614.5 20490.0,1052.0\" fill=\"none\" stroke=\"currentColor\"/>\n",
       "    <text dy=\"1.25em\" style=\"font-size: 0.8em; letter-spacing: 1px\">\n",
       "        <textPath xlink:href=\"#arrow-2bb8ac2446c84da180c20881c0af9be4-0-113\" class=\"displacy-label\" startOffset=\"50%\" side=\"left\" fill=\"currentColor\" text-anchor=\"middle\">ccomp</textPath>\n",
       "    </text>\n",
       "    <path class=\"displacy-arrowhead\" d=\"M20490.0,1054.0 L20498.0,1042.0 20482.0,1042.0\" fill=\"currentColor\"/>\n",
       "</g>\n",
       "\n",
       "<g class=\"displacy-arrow\">\n",
       "    <path class=\"displacy-arc\" id=\"arrow-2bb8ac2446c84da180c20881c0af9be4-0-114\" stroke-width=\"2px\" d=\"M20720,1052.0 C20720,877.0 21000.0,877.0 21000.0,1052.0\" fill=\"none\" stroke=\"currentColor\"/>\n",
       "    <text dy=\"1.25em\" style=\"font-size: 0.8em; letter-spacing: 1px\">\n",
       "        <textPath xlink:href=\"#arrow-2bb8ac2446c84da180c20881c0af9be4-0-114\" class=\"displacy-label\" startOffset=\"50%\" side=\"left\" fill=\"currentColor\" text-anchor=\"middle\">det</textPath>\n",
       "    </text>\n",
       "    <path class=\"displacy-arrowhead\" d=\"M20720,1054.0 L20712,1042.0 20728,1042.0\" fill=\"currentColor\"/>\n",
       "</g>\n",
       "\n",
       "<g class=\"displacy-arrow\">\n",
       "    <path class=\"displacy-arc\" id=\"arrow-2bb8ac2446c84da180c20881c0af9be4-0-115\" stroke-width=\"2px\" d=\"M20895,1052.0 C20895,964.5 20995.0,964.5 20995.0,1052.0\" fill=\"none\" stroke=\"currentColor\"/>\n",
       "    <text dy=\"1.25em\" style=\"font-size: 0.8em; letter-spacing: 1px\">\n",
       "        <textPath xlink:href=\"#arrow-2bb8ac2446c84da180c20881c0af9be4-0-115\" class=\"displacy-label\" startOffset=\"50%\" side=\"left\" fill=\"currentColor\" text-anchor=\"middle\">amod</textPath>\n",
       "    </text>\n",
       "    <path class=\"displacy-arrowhead\" d=\"M20895,1054.0 L20887,1042.0 20903,1042.0\" fill=\"currentColor\"/>\n",
       "</g>\n",
       "\n",
       "<g class=\"displacy-arrow\">\n",
       "    <path class=\"displacy-arc\" id=\"arrow-2bb8ac2446c84da180c20881c0af9be4-0-116\" stroke-width=\"2px\" d=\"M20545,1052.0 C20545,789.5 21005.0,789.5 21005.0,1052.0\" fill=\"none\" stroke=\"currentColor\"/>\n",
       "    <text dy=\"1.25em\" style=\"font-size: 0.8em; letter-spacing: 1px\">\n",
       "        <textPath xlink:href=\"#arrow-2bb8ac2446c84da180c20881c0af9be4-0-116\" class=\"displacy-label\" startOffset=\"50%\" side=\"left\" fill=\"currentColor\" text-anchor=\"middle\">dobj</textPath>\n",
       "    </text>\n",
       "    <path class=\"displacy-arrowhead\" d=\"M21005.0,1054.0 L21013.0,1042.0 20997.0,1042.0\" fill=\"currentColor\"/>\n",
       "</g>\n",
       "\n",
       "<g class=\"displacy-arrow\">\n",
       "    <path class=\"displacy-arc\" id=\"arrow-2bb8ac2446c84da180c20881c0af9be4-0-117\" stroke-width=\"2px\" d=\"M21070,1052.0 C21070,964.5 21170.0,964.5 21170.0,1052.0\" fill=\"none\" stroke=\"currentColor\"/>\n",
       "    <text dy=\"1.25em\" style=\"font-size: 0.8em; letter-spacing: 1px\">\n",
       "        <textPath xlink:href=\"#arrow-2bb8ac2446c84da180c20881c0af9be4-0-117\" class=\"displacy-label\" startOffset=\"50%\" side=\"left\" fill=\"currentColor\" text-anchor=\"middle\">cc</textPath>\n",
       "    </text>\n",
       "    <path class=\"displacy-arrowhead\" d=\"M21170.0,1054.0 L21178.0,1042.0 21162.0,1042.0\" fill=\"currentColor\"/>\n",
       "</g>\n",
       "\n",
       "<g class=\"displacy-arrow\">\n",
       "    <path class=\"displacy-arc\" id=\"arrow-2bb8ac2446c84da180c20881c0af9be4-0-118\" stroke-width=\"2px\" d=\"M21070,1052.0 C21070,877.0 21350.0,877.0 21350.0,1052.0\" fill=\"none\" stroke=\"currentColor\"/>\n",
       "    <text dy=\"1.25em\" style=\"font-size: 0.8em; letter-spacing: 1px\">\n",
       "        <textPath xlink:href=\"#arrow-2bb8ac2446c84da180c20881c0af9be4-0-118\" class=\"displacy-label\" startOffset=\"50%\" side=\"left\" fill=\"currentColor\" text-anchor=\"middle\">conj</textPath>\n",
       "    </text>\n",
       "    <path class=\"displacy-arrowhead\" d=\"M21350.0,1054.0 L21358.0,1042.0 21342.0,1042.0\" fill=\"currentColor\"/>\n",
       "</g>\n",
       "\n",
       "<g class=\"displacy-arrow\">\n",
       "    <path class=\"displacy-arc\" id=\"arrow-2bb8ac2446c84da180c20881c0af9be4-0-119\" stroke-width=\"2px\" d=\"M21595,1052.0 C21595,964.5 21695.0,964.5 21695.0,1052.0\" fill=\"none\" stroke=\"currentColor\"/>\n",
       "    <text dy=\"1.25em\" style=\"font-size: 0.8em; letter-spacing: 1px\">\n",
       "        <textPath xlink:href=\"#arrow-2bb8ac2446c84da180c20881c0af9be4-0-119\" class=\"displacy-label\" startOffset=\"50%\" side=\"left\" fill=\"currentColor\" text-anchor=\"middle\">aux</textPath>\n",
       "    </text>\n",
       "    <path class=\"displacy-arrowhead\" d=\"M21595,1054.0 L21587,1042.0 21603,1042.0\" fill=\"currentColor\"/>\n",
       "</g>\n",
       "\n",
       "<g class=\"displacy-arrow\">\n",
       "    <path class=\"displacy-arc\" id=\"arrow-2bb8ac2446c84da180c20881c0af9be4-0-120\" stroke-width=\"2px\" d=\"M21070,1052.0 C21070,702.0 21710.0,702.0 21710.0,1052.0\" fill=\"none\" stroke=\"currentColor\"/>\n",
       "    <text dy=\"1.25em\" style=\"font-size: 0.8em; letter-spacing: 1px\">\n",
       "        <textPath xlink:href=\"#arrow-2bb8ac2446c84da180c20881c0af9be4-0-120\" class=\"displacy-label\" startOffset=\"50%\" side=\"left\" fill=\"currentColor\" text-anchor=\"middle\">acl</textPath>\n",
       "    </text>\n",
       "    <path class=\"displacy-arrowhead\" d=\"M21710.0,1054.0 L21718.0,1042.0 21702.0,1042.0\" fill=\"currentColor\"/>\n",
       "</g>\n",
       "\n",
       "<g class=\"displacy-arrow\">\n",
       "    <path class=\"displacy-arc\" id=\"arrow-2bb8ac2446c84da180c20881c0af9be4-0-121\" stroke-width=\"2px\" d=\"M21770,1052.0 C21770,964.5 21870.0,964.5 21870.0,1052.0\" fill=\"none\" stroke=\"currentColor\"/>\n",
       "    <text dy=\"1.25em\" style=\"font-size: 0.8em; letter-spacing: 1px\">\n",
       "        <textPath xlink:href=\"#arrow-2bb8ac2446c84da180c20881c0af9be4-0-121\" class=\"displacy-label\" startOffset=\"50%\" side=\"left\" fill=\"currentColor\" text-anchor=\"middle\">prep</textPath>\n",
       "    </text>\n",
       "    <path class=\"displacy-arrowhead\" d=\"M21870.0,1054.0 L21878.0,1042.0 21862.0,1042.0\" fill=\"currentColor\"/>\n",
       "</g>\n",
       "\n",
       "<g class=\"displacy-arrow\">\n",
       "    <path class=\"displacy-arc\" id=\"arrow-2bb8ac2446c84da180c20881c0af9be4-0-122\" stroke-width=\"2px\" d=\"M21945,1052.0 C21945,964.5 22045.0,964.5 22045.0,1052.0\" fill=\"none\" stroke=\"currentColor\"/>\n",
       "    <text dy=\"1.25em\" style=\"font-size: 0.8em; letter-spacing: 1px\">\n",
       "        <textPath xlink:href=\"#arrow-2bb8ac2446c84da180c20881c0af9be4-0-122\" class=\"displacy-label\" startOffset=\"50%\" side=\"left\" fill=\"currentColor\" text-anchor=\"middle\">pobj</textPath>\n",
       "    </text>\n",
       "    <path class=\"displacy-arrowhead\" d=\"M22045.0,1054.0 L22053.0,1042.0 22037.0,1042.0\" fill=\"currentColor\"/>\n",
       "</g>\n",
       "\n",
       "<g class=\"displacy-arrow\">\n",
       "    <path class=\"displacy-arc\" id=\"arrow-2bb8ac2446c84da180c20881c0af9be4-0-123\" stroke-width=\"2px\" d=\"M22295,1052.0 C22295,964.5 22395.0,964.5 22395.0,1052.0\" fill=\"none\" stroke=\"currentColor\"/>\n",
       "    <text dy=\"1.25em\" style=\"font-size: 0.8em; letter-spacing: 1px\">\n",
       "        <textPath xlink:href=\"#arrow-2bb8ac2446c84da180c20881c0af9be4-0-123\" class=\"displacy-label\" startOffset=\"50%\" side=\"left\" fill=\"currentColor\" text-anchor=\"middle\">det</textPath>\n",
       "    </text>\n",
       "    <path class=\"displacy-arrowhead\" d=\"M22295,1054.0 L22287,1042.0 22303,1042.0\" fill=\"currentColor\"/>\n",
       "</g>\n",
       "\n",
       "<g class=\"displacy-arrow\">\n",
       "    <path class=\"displacy-arc\" id=\"arrow-2bb8ac2446c84da180c20881c0af9be4-0-124\" stroke-width=\"2px\" d=\"M21770,1052.0 C21770,702.0 22410.0,702.0 22410.0,1052.0\" fill=\"none\" stroke=\"currentColor\"/>\n",
       "    <text dy=\"1.25em\" style=\"font-size: 0.8em; letter-spacing: 1px\">\n",
       "        <textPath xlink:href=\"#arrow-2bb8ac2446c84da180c20881c0af9be4-0-124\" class=\"displacy-label\" startOffset=\"50%\" side=\"left\" fill=\"currentColor\" text-anchor=\"middle\">dobj</textPath>\n",
       "    </text>\n",
       "    <path class=\"displacy-arrowhead\" d=\"M22410.0,1054.0 L22418.0,1042.0 22402.0,1042.0\" fill=\"currentColor\"/>\n",
       "</g>\n",
       "\n",
       "<g class=\"displacy-arrow\">\n",
       "    <path class=\"displacy-arc\" id=\"arrow-2bb8ac2446c84da180c20881c0af9be4-0-125\" stroke-width=\"2px\" d=\"M22645,1052.0 C22645,964.5 22745.0,964.5 22745.0,1052.0\" fill=\"none\" stroke=\"currentColor\"/>\n",
       "    <text dy=\"1.25em\" style=\"font-size: 0.8em; letter-spacing: 1px\">\n",
       "        <textPath xlink:href=\"#arrow-2bb8ac2446c84da180c20881c0af9be4-0-125\" class=\"displacy-label\" startOffset=\"50%\" side=\"left\" fill=\"currentColor\" text-anchor=\"middle\">advmod</textPath>\n",
       "    </text>\n",
       "    <path class=\"displacy-arrowhead\" d=\"M22645,1054.0 L22637,1042.0 22653,1042.0\" fill=\"currentColor\"/>\n",
       "</g>\n",
       "\n",
       "<g class=\"displacy-arrow\">\n",
       "    <path class=\"displacy-arc\" id=\"arrow-2bb8ac2446c84da180c20881c0af9be4-0-126\" stroke-width=\"2px\" d=\"M22470,1052.0 C22470,877.0 22750.0,877.0 22750.0,1052.0\" fill=\"none\" stroke=\"currentColor\"/>\n",
       "    <text dy=\"1.25em\" style=\"font-size: 0.8em; letter-spacing: 1px\">\n",
       "        <textPath xlink:href=\"#arrow-2bb8ac2446c84da180c20881c0af9be4-0-126\" class=\"displacy-label\" startOffset=\"50%\" side=\"left\" fill=\"currentColor\" text-anchor=\"middle\">acl</textPath>\n",
       "    </text>\n",
       "    <path class=\"displacy-arrowhead\" d=\"M22750.0,1054.0 L22758.0,1042.0 22742.0,1042.0\" fill=\"currentColor\"/>\n",
       "</g>\n",
       "\n",
       "<g class=\"displacy-arrow\">\n",
       "    <path class=\"displacy-arc\" id=\"arrow-2bb8ac2446c84da180c20881c0af9be4-0-127\" stroke-width=\"2px\" d=\"M22820,1052.0 C22820,964.5 22920.0,964.5 22920.0,1052.0\" fill=\"none\" stroke=\"currentColor\"/>\n",
       "    <text dy=\"1.25em\" style=\"font-size: 0.8em; letter-spacing: 1px\">\n",
       "        <textPath xlink:href=\"#arrow-2bb8ac2446c84da180c20881c0af9be4-0-127\" class=\"displacy-label\" startOffset=\"50%\" side=\"left\" fill=\"currentColor\" text-anchor=\"middle\">prep</textPath>\n",
       "    </text>\n",
       "    <path class=\"displacy-arrowhead\" d=\"M22920.0,1054.0 L22928.0,1042.0 22912.0,1042.0\" fill=\"currentColor\"/>\n",
       "</g>\n",
       "\n",
       "<g class=\"displacy-arrow\">\n",
       "    <path class=\"displacy-arc\" id=\"arrow-2bb8ac2446c84da180c20881c0af9be4-0-128\" stroke-width=\"2px\" d=\"M22995,1052.0 C22995,964.5 23095.0,964.5 23095.0,1052.0\" fill=\"none\" stroke=\"currentColor\"/>\n",
       "    <text dy=\"1.25em\" style=\"font-size: 0.8em; letter-spacing: 1px\">\n",
       "        <textPath xlink:href=\"#arrow-2bb8ac2446c84da180c20881c0af9be4-0-128\" class=\"displacy-label\" startOffset=\"50%\" side=\"left\" fill=\"currentColor\" text-anchor=\"middle\">pobj</textPath>\n",
       "    </text>\n",
       "    <path class=\"displacy-arrowhead\" d=\"M23095.0,1054.0 L23103.0,1042.0 23087.0,1042.0\" fill=\"currentColor\"/>\n",
       "</g>\n",
       "\n",
       "<g class=\"displacy-arrow\">\n",
       "    <path class=\"displacy-arc\" id=\"arrow-2bb8ac2446c84da180c20881c0af9be4-0-129\" stroke-width=\"2px\" d=\"M23170,1052.0 C23170,964.5 23270.0,964.5 23270.0,1052.0\" fill=\"none\" stroke=\"currentColor\"/>\n",
       "    <text dy=\"1.25em\" style=\"font-size: 0.8em; letter-spacing: 1px\">\n",
       "        <textPath xlink:href=\"#arrow-2bb8ac2446c84da180c20881c0af9be4-0-129\" class=\"displacy-label\" startOffset=\"50%\" side=\"left\" fill=\"currentColor\" text-anchor=\"middle\">nummod</textPath>\n",
       "    </text>\n",
       "    <path class=\"displacy-arrowhead\" d=\"M23270.0,1054.0 L23278.0,1042.0 23262.0,1042.0\" fill=\"currentColor\"/>\n",
       "</g>\n",
       "</svg></span>"
      ],
      "text/plain": [
       "<IPython.core.display.HTML object>"
      ]
     },
     "metadata": {},
     "output_type": "display_data"
    }
   ],
   "source": [
    "displacy.render(doc, style = \"dep\", jupyter=True)"
   ]
  },
  {
   "cell_type": "markdown",
   "metadata": {},
   "source": [
    "1. We see an arc starting from `Carlson` and pointing back to `Nancy` with a label `compound`. This tells us that the dependency parse has identified the tokens `Nancy` and `Carlson` as a compound of proper nouns, which is correct because `Nancy Carlson` is a compound of a first and last name. \n",
    "\n",
    "2. We see an arc starting from `Carlson` (which, as we have seen is part of a compound of proper nouns with `Nancy`) and pointing back to `Petitioner`. This is probably helpful in this context, because Nancy Carlson is the petition in the case. \n",
    "\n",
    "3. We see an arc starting from `obtained` and sweeping back to `Carlson` (which, as we have seen in part of a compound of proper nouns that can be used to identify Nancy Carlson as the petitioner in the case). The label on the arc, `nsubj`, tells us that `Petitioner Nancy Carlson` is the noun subject of the verb `obtained`. \n",
    "\n",
    "4. What is it that Nancy Carlson obtained? The dependency parse provides the answer here. If trace the arc running from `obtained`, we see that it lands on the noun `judgment` with a label of `dobj`. This tells us the `judgment` is the dependent object of the verb `obtained`. The parse is telling us that Nancy Carlson obtained a judgment. \n",
    "\n",
    "Now, clearly we can see that for ourselves simply by reading the first few words in the sentence. But, remember that we're potentially performing an analysis on a corpus of documents that is way too big to for us to read manually. The purpose of the dependency parse is to provide us with the means to programmatically and automatically extract these patterns!"
   ]
  },
  {
   "cell_type": "code",
   "execution_count": null,
   "metadata": {},
   "outputs": [],
   "source": []
  }
 ],
 "metadata": {
  "kernelspec": {
   "display_name": "Python 3",
   "language": "python",
   "name": "python3"
  },
  "language_info": {
   "codemirror_mode": {
    "name": "ipython",
    "version": 3
   },
   "file_extension": ".py",
   "mimetype": "text/x-python",
   "name": "python",
   "nbconvert_exporter": "python",
   "pygments_lexer": "ipython3",
   "version": "3.7.6"
  }
 },
 "nbformat": 4,
 "nbformat_minor": 4
}
